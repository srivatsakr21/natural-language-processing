{
  "nbformat": 4,
  "nbformat_minor": 0,
  "metadata": {
    "kernelspec": {
      "display_name": "Python 3",
      "language": "python",
      "name": "python3"
    },
    "language_info": {
      "codemirror_mode": {
        "name": "ipython",
        "version": 3
      },
      "file_extension": ".py",
      "mimetype": "text/x-python",
      "name": "python",
      "nbconvert_exporter": "python",
      "pygments_lexer": "ipython3",
      "version": "3.5.2"
    },
    "latex_envs": {
      "bibliofile": "biblio.bib",
      "cite_by": "apalike",
      "current_citInitial": 1,
      "eqLabelWithNumbers": true,
      "eqNumInitial": 0
    },
    "colab": {
      "name": "week5-project.ipynb",
      "provenance": []
    },
    "widgets": {
      "application/vnd.jupyter.widget-state+json": {
        "93e78ca5e31d46f09b4c7b387ac66032": {
          "model_module": "@jupyter-widgets/controls",
          "model_name": "HBoxModel",
          "state": {
            "_view_name": "HBoxView",
            "_dom_classes": [],
            "_model_name": "HBoxModel",
            "_view_module": "@jupyter-widgets/controls",
            "_model_module_version": "1.5.0",
            "_view_count": null,
            "_view_module_version": "1.5.0",
            "box_style": "",
            "layout": "IPY_MODEL_55ecc7d00b454132beba1b4b778f7fb1",
            "_model_module": "@jupyter-widgets/controls",
            "children": [
              "IPY_MODEL_f4f85aba35134713998d6077954b2919",
              "IPY_MODEL_6125cee5126447f1bf797404fb687011",
              "IPY_MODEL_6d872d19eeca412d9dc32f0ea97ad719"
            ]
          }
        },
        "55ecc7d00b454132beba1b4b778f7fb1": {
          "model_module": "@jupyter-widgets/base",
          "model_name": "LayoutModel",
          "state": {
            "_view_name": "LayoutView",
            "grid_template_rows": null,
            "right": null,
            "justify_content": null,
            "_view_module": "@jupyter-widgets/base",
            "overflow": null,
            "_model_module_version": "1.2.0",
            "_view_count": null,
            "flex_flow": null,
            "width": null,
            "min_width": null,
            "border": null,
            "align_items": null,
            "bottom": null,
            "_model_module": "@jupyter-widgets/base",
            "top": null,
            "grid_column": null,
            "overflow_y": null,
            "overflow_x": null,
            "grid_auto_flow": null,
            "grid_area": null,
            "grid_template_columns": null,
            "flex": null,
            "_model_name": "LayoutModel",
            "justify_items": null,
            "grid_row": null,
            "max_height": null,
            "align_content": null,
            "visibility": null,
            "align_self": null,
            "height": null,
            "min_height": null,
            "padding": null,
            "grid_auto_rows": null,
            "grid_gap": null,
            "max_width": null,
            "order": null,
            "_view_module_version": "1.2.0",
            "grid_template_areas": null,
            "object_position": null,
            "object_fit": null,
            "grid_auto_columns": null,
            "margin": null,
            "display": null,
            "left": null
          }
        },
        "f4f85aba35134713998d6077954b2919": {
          "model_module": "@jupyter-widgets/controls",
          "model_name": "HTMLModel",
          "state": {
            "_view_name": "HTMLView",
            "style": "IPY_MODEL_49db65a8984942d4a4655718551fcc43",
            "_dom_classes": [],
            "description": "",
            "_model_name": "HTMLModel",
            "placeholder": "​",
            "_view_module": "@jupyter-widgets/controls",
            "_model_module_version": "1.5.0",
            "value": "dialogues.tsv: 100%",
            "_view_count": null,
            "_view_module_version": "1.5.0",
            "description_tooltip": null,
            "_model_module": "@jupyter-widgets/controls",
            "layout": "IPY_MODEL_626ddb570b4e4f95a795650676c53370"
          }
        },
        "6125cee5126447f1bf797404fb687011": {
          "model_module": "@jupyter-widgets/controls",
          "model_name": "FloatProgressModel",
          "state": {
            "_view_name": "ProgressView",
            "style": "IPY_MODEL_a1e8caea3363473b88aa79f3a07f1f7e",
            "_dom_classes": [],
            "description": "",
            "_model_name": "FloatProgressModel",
            "bar_style": "success",
            "max": 18012894,
            "_view_module": "@jupyter-widgets/controls",
            "_model_module_version": "1.5.0",
            "value": 18012894,
            "_view_count": null,
            "_view_module_version": "1.5.0",
            "orientation": "horizontal",
            "min": 0,
            "description_tooltip": null,
            "_model_module": "@jupyter-widgets/controls",
            "layout": "IPY_MODEL_3a10090c3cd84c209afe259b17951a21"
          }
        },
        "6d872d19eeca412d9dc32f0ea97ad719": {
          "model_module": "@jupyter-widgets/controls",
          "model_name": "HTMLModel",
          "state": {
            "_view_name": "HTMLView",
            "style": "IPY_MODEL_1e934f8a252d4844918476e39d4759e6",
            "_dom_classes": [],
            "description": "",
            "_model_name": "HTMLModel",
            "placeholder": "​",
            "_view_module": "@jupyter-widgets/controls",
            "_model_module_version": "1.5.0",
            "value": " 18.0M/18.0M [00:06&lt;00:00, 2.72MB/s]",
            "_view_count": null,
            "_view_module_version": "1.5.0",
            "description_tooltip": null,
            "_model_module": "@jupyter-widgets/controls",
            "layout": "IPY_MODEL_b74f31d7be5549fd9089e23ecb064b1d"
          }
        },
        "49db65a8984942d4a4655718551fcc43": {
          "model_module": "@jupyter-widgets/controls",
          "model_name": "DescriptionStyleModel",
          "state": {
            "_view_name": "StyleView",
            "_model_name": "DescriptionStyleModel",
            "description_width": "",
            "_view_module": "@jupyter-widgets/base",
            "_model_module_version": "1.5.0",
            "_view_count": null,
            "_view_module_version": "1.2.0",
            "_model_module": "@jupyter-widgets/controls"
          }
        },
        "626ddb570b4e4f95a795650676c53370": {
          "model_module": "@jupyter-widgets/base",
          "model_name": "LayoutModel",
          "state": {
            "_view_name": "LayoutView",
            "grid_template_rows": null,
            "right": null,
            "justify_content": null,
            "_view_module": "@jupyter-widgets/base",
            "overflow": null,
            "_model_module_version": "1.2.0",
            "_view_count": null,
            "flex_flow": null,
            "width": null,
            "min_width": null,
            "border": null,
            "align_items": null,
            "bottom": null,
            "_model_module": "@jupyter-widgets/base",
            "top": null,
            "grid_column": null,
            "overflow_y": null,
            "overflow_x": null,
            "grid_auto_flow": null,
            "grid_area": null,
            "grid_template_columns": null,
            "flex": null,
            "_model_name": "LayoutModel",
            "justify_items": null,
            "grid_row": null,
            "max_height": null,
            "align_content": null,
            "visibility": null,
            "align_self": null,
            "height": null,
            "min_height": null,
            "padding": null,
            "grid_auto_rows": null,
            "grid_gap": null,
            "max_width": null,
            "order": null,
            "_view_module_version": "1.2.0",
            "grid_template_areas": null,
            "object_position": null,
            "object_fit": null,
            "grid_auto_columns": null,
            "margin": null,
            "display": null,
            "left": null
          }
        },
        "a1e8caea3363473b88aa79f3a07f1f7e": {
          "model_module": "@jupyter-widgets/controls",
          "model_name": "ProgressStyleModel",
          "state": {
            "_view_name": "StyleView",
            "_model_name": "ProgressStyleModel",
            "description_width": "",
            "_view_module": "@jupyter-widgets/base",
            "_model_module_version": "1.5.0",
            "_view_count": null,
            "_view_module_version": "1.2.0",
            "bar_color": null,
            "_model_module": "@jupyter-widgets/controls"
          }
        },
        "3a10090c3cd84c209afe259b17951a21": {
          "model_module": "@jupyter-widgets/base",
          "model_name": "LayoutModel",
          "state": {
            "_view_name": "LayoutView",
            "grid_template_rows": null,
            "right": null,
            "justify_content": null,
            "_view_module": "@jupyter-widgets/base",
            "overflow": null,
            "_model_module_version": "1.2.0",
            "_view_count": null,
            "flex_flow": null,
            "width": null,
            "min_width": null,
            "border": null,
            "align_items": null,
            "bottom": null,
            "_model_module": "@jupyter-widgets/base",
            "top": null,
            "grid_column": null,
            "overflow_y": null,
            "overflow_x": null,
            "grid_auto_flow": null,
            "grid_area": null,
            "grid_template_columns": null,
            "flex": null,
            "_model_name": "LayoutModel",
            "justify_items": null,
            "grid_row": null,
            "max_height": null,
            "align_content": null,
            "visibility": null,
            "align_self": null,
            "height": null,
            "min_height": null,
            "padding": null,
            "grid_auto_rows": null,
            "grid_gap": null,
            "max_width": null,
            "order": null,
            "_view_module_version": "1.2.0",
            "grid_template_areas": null,
            "object_position": null,
            "object_fit": null,
            "grid_auto_columns": null,
            "margin": null,
            "display": null,
            "left": null
          }
        },
        "1e934f8a252d4844918476e39d4759e6": {
          "model_module": "@jupyter-widgets/controls",
          "model_name": "DescriptionStyleModel",
          "state": {
            "_view_name": "StyleView",
            "_model_name": "DescriptionStyleModel",
            "description_width": "",
            "_view_module": "@jupyter-widgets/base",
            "_model_module_version": "1.5.0",
            "_view_count": null,
            "_view_module_version": "1.2.0",
            "_model_module": "@jupyter-widgets/controls"
          }
        },
        "b74f31d7be5549fd9089e23ecb064b1d": {
          "model_module": "@jupyter-widgets/base",
          "model_name": "LayoutModel",
          "state": {
            "_view_name": "LayoutView",
            "grid_template_rows": null,
            "right": null,
            "justify_content": null,
            "_view_module": "@jupyter-widgets/base",
            "overflow": null,
            "_model_module_version": "1.2.0",
            "_view_count": null,
            "flex_flow": null,
            "width": null,
            "min_width": null,
            "border": null,
            "align_items": null,
            "bottom": null,
            "_model_module": "@jupyter-widgets/base",
            "top": null,
            "grid_column": null,
            "overflow_y": null,
            "overflow_x": null,
            "grid_auto_flow": null,
            "grid_area": null,
            "grid_template_columns": null,
            "flex": null,
            "_model_name": "LayoutModel",
            "justify_items": null,
            "grid_row": null,
            "max_height": null,
            "align_content": null,
            "visibility": null,
            "align_self": null,
            "height": null,
            "min_height": null,
            "padding": null,
            "grid_auto_rows": null,
            "grid_gap": null,
            "max_width": null,
            "order": null,
            "_view_module_version": "1.2.0",
            "grid_template_areas": null,
            "object_position": null,
            "object_fit": null,
            "grid_auto_columns": null,
            "margin": null,
            "display": null,
            "left": null
          }
        },
        "2a611973953e417b96264d50dbee0827": {
          "model_module": "@jupyter-widgets/controls",
          "model_name": "HBoxModel",
          "state": {
            "_view_name": "HBoxView",
            "_dom_classes": [],
            "_model_name": "HBoxModel",
            "_view_module": "@jupyter-widgets/controls",
            "_model_module_version": "1.5.0",
            "_view_count": null,
            "_view_module_version": "1.5.0",
            "box_style": "",
            "layout": "IPY_MODEL_237d4ebf7e0947edb2094e9e88a0c647",
            "_model_module": "@jupyter-widgets/controls",
            "children": [
              "IPY_MODEL_9524c55fc01d4cdc89ba140315ebb61e",
              "IPY_MODEL_d29369a0a8084837b8473562e12c6b35",
              "IPY_MODEL_75e8ac5db5924d79aea5667fc41ba594"
            ]
          }
        },
        "237d4ebf7e0947edb2094e9e88a0c647": {
          "model_module": "@jupyter-widgets/base",
          "model_name": "LayoutModel",
          "state": {
            "_view_name": "LayoutView",
            "grid_template_rows": null,
            "right": null,
            "justify_content": null,
            "_view_module": "@jupyter-widgets/base",
            "overflow": null,
            "_model_module_version": "1.2.0",
            "_view_count": null,
            "flex_flow": null,
            "width": null,
            "min_width": null,
            "border": null,
            "align_items": null,
            "bottom": null,
            "_model_module": "@jupyter-widgets/base",
            "top": null,
            "grid_column": null,
            "overflow_y": null,
            "overflow_x": null,
            "grid_auto_flow": null,
            "grid_area": null,
            "grid_template_columns": null,
            "flex": null,
            "_model_name": "LayoutModel",
            "justify_items": null,
            "grid_row": null,
            "max_height": null,
            "align_content": null,
            "visibility": null,
            "align_self": null,
            "height": null,
            "min_height": null,
            "padding": null,
            "grid_auto_rows": null,
            "grid_gap": null,
            "max_width": null,
            "order": null,
            "_view_module_version": "1.2.0",
            "grid_template_areas": null,
            "object_position": null,
            "object_fit": null,
            "grid_auto_columns": null,
            "margin": null,
            "display": null,
            "left": null
          }
        },
        "9524c55fc01d4cdc89ba140315ebb61e": {
          "model_module": "@jupyter-widgets/controls",
          "model_name": "HTMLModel",
          "state": {
            "_view_name": "HTMLView",
            "style": "IPY_MODEL_35a977dd55f843488c3f3b863701c17a",
            "_dom_classes": [],
            "description": "",
            "_model_name": "HTMLModel",
            "placeholder": "​",
            "_view_module": "@jupyter-widgets/controls",
            "_model_module_version": "1.5.0",
            "value": "tagged_posts.tsv: 100%",
            "_view_count": null,
            "_view_module_version": "1.5.0",
            "description_tooltip": null,
            "_model_module": "@jupyter-widgets/controls",
            "layout": "IPY_MODEL_204ba3c87e0f485a8cad92d5af3a528e"
          }
        },
        "d29369a0a8084837b8473562e12c6b35": {
          "model_module": "@jupyter-widgets/controls",
          "model_name": "FloatProgressModel",
          "state": {
            "_view_name": "ProgressView",
            "style": "IPY_MODEL_32649dd8235f438fa867b90a3eadd02b",
            "_dom_classes": [],
            "description": "",
            "_model_name": "FloatProgressModel",
            "bar_style": "success",
            "max": 145677870,
            "_view_module": "@jupyter-widgets/controls",
            "_model_module_version": "1.5.0",
            "value": 145677870,
            "_view_count": null,
            "_view_module_version": "1.5.0",
            "orientation": "horizontal",
            "min": 0,
            "description_tooltip": null,
            "_model_module": "@jupyter-widgets/controls",
            "layout": "IPY_MODEL_c7221cf0515f4131aa6112a3e52b7390"
          }
        },
        "75e8ac5db5924d79aea5667fc41ba594": {
          "model_module": "@jupyter-widgets/controls",
          "model_name": "HTMLModel",
          "state": {
            "_view_name": "HTMLView",
            "style": "IPY_MODEL_2e12b894ef244d3488040ff66fedda43",
            "_dom_classes": [],
            "description": "",
            "_model_name": "HTMLModel",
            "placeholder": "​",
            "_view_module": "@jupyter-widgets/controls",
            "_model_module_version": "1.5.0",
            "value": " 146M/146M [00:04&lt;00:00, 30.1MB/s]",
            "_view_count": null,
            "_view_module_version": "1.5.0",
            "description_tooltip": null,
            "_model_module": "@jupyter-widgets/controls",
            "layout": "IPY_MODEL_a552a46f752f488fb80579d694cf0bee"
          }
        },
        "35a977dd55f843488c3f3b863701c17a": {
          "model_module": "@jupyter-widgets/controls",
          "model_name": "DescriptionStyleModel",
          "state": {
            "_view_name": "StyleView",
            "_model_name": "DescriptionStyleModel",
            "description_width": "",
            "_view_module": "@jupyter-widgets/base",
            "_model_module_version": "1.5.0",
            "_view_count": null,
            "_view_module_version": "1.2.0",
            "_model_module": "@jupyter-widgets/controls"
          }
        },
        "204ba3c87e0f485a8cad92d5af3a528e": {
          "model_module": "@jupyter-widgets/base",
          "model_name": "LayoutModel",
          "state": {
            "_view_name": "LayoutView",
            "grid_template_rows": null,
            "right": null,
            "justify_content": null,
            "_view_module": "@jupyter-widgets/base",
            "overflow": null,
            "_model_module_version": "1.2.0",
            "_view_count": null,
            "flex_flow": null,
            "width": null,
            "min_width": null,
            "border": null,
            "align_items": null,
            "bottom": null,
            "_model_module": "@jupyter-widgets/base",
            "top": null,
            "grid_column": null,
            "overflow_y": null,
            "overflow_x": null,
            "grid_auto_flow": null,
            "grid_area": null,
            "grid_template_columns": null,
            "flex": null,
            "_model_name": "LayoutModel",
            "justify_items": null,
            "grid_row": null,
            "max_height": null,
            "align_content": null,
            "visibility": null,
            "align_self": null,
            "height": null,
            "min_height": null,
            "padding": null,
            "grid_auto_rows": null,
            "grid_gap": null,
            "max_width": null,
            "order": null,
            "_view_module_version": "1.2.0",
            "grid_template_areas": null,
            "object_position": null,
            "object_fit": null,
            "grid_auto_columns": null,
            "margin": null,
            "display": null,
            "left": null
          }
        },
        "32649dd8235f438fa867b90a3eadd02b": {
          "model_module": "@jupyter-widgets/controls",
          "model_name": "ProgressStyleModel",
          "state": {
            "_view_name": "StyleView",
            "_model_name": "ProgressStyleModel",
            "description_width": "",
            "_view_module": "@jupyter-widgets/base",
            "_model_module_version": "1.5.0",
            "_view_count": null,
            "_view_module_version": "1.2.0",
            "bar_color": null,
            "_model_module": "@jupyter-widgets/controls"
          }
        },
        "c7221cf0515f4131aa6112a3e52b7390": {
          "model_module": "@jupyter-widgets/base",
          "model_name": "LayoutModel",
          "state": {
            "_view_name": "LayoutView",
            "grid_template_rows": null,
            "right": null,
            "justify_content": null,
            "_view_module": "@jupyter-widgets/base",
            "overflow": null,
            "_model_module_version": "1.2.0",
            "_view_count": null,
            "flex_flow": null,
            "width": null,
            "min_width": null,
            "border": null,
            "align_items": null,
            "bottom": null,
            "_model_module": "@jupyter-widgets/base",
            "top": null,
            "grid_column": null,
            "overflow_y": null,
            "overflow_x": null,
            "grid_auto_flow": null,
            "grid_area": null,
            "grid_template_columns": null,
            "flex": null,
            "_model_name": "LayoutModel",
            "justify_items": null,
            "grid_row": null,
            "max_height": null,
            "align_content": null,
            "visibility": null,
            "align_self": null,
            "height": null,
            "min_height": null,
            "padding": null,
            "grid_auto_rows": null,
            "grid_gap": null,
            "max_width": null,
            "order": null,
            "_view_module_version": "1.2.0",
            "grid_template_areas": null,
            "object_position": null,
            "object_fit": null,
            "grid_auto_columns": null,
            "margin": null,
            "display": null,
            "left": null
          }
        },
        "2e12b894ef244d3488040ff66fedda43": {
          "model_module": "@jupyter-widgets/controls",
          "model_name": "DescriptionStyleModel",
          "state": {
            "_view_name": "StyleView",
            "_model_name": "DescriptionStyleModel",
            "description_width": "",
            "_view_module": "@jupyter-widgets/base",
            "_model_module_version": "1.5.0",
            "_view_count": null,
            "_view_module_version": "1.2.0",
            "_model_module": "@jupyter-widgets/controls"
          }
        },
        "a552a46f752f488fb80579d694cf0bee": {
          "model_module": "@jupyter-widgets/base",
          "model_name": "LayoutModel",
          "state": {
            "_view_name": "LayoutView",
            "grid_template_rows": null,
            "right": null,
            "justify_content": null,
            "_view_module": "@jupyter-widgets/base",
            "overflow": null,
            "_model_module_version": "1.2.0",
            "_view_count": null,
            "flex_flow": null,
            "width": null,
            "min_width": null,
            "border": null,
            "align_items": null,
            "bottom": null,
            "_model_module": "@jupyter-widgets/base",
            "top": null,
            "grid_column": null,
            "overflow_y": null,
            "overflow_x": null,
            "grid_auto_flow": null,
            "grid_area": null,
            "grid_template_columns": null,
            "flex": null,
            "_model_name": "LayoutModel",
            "justify_items": null,
            "grid_row": null,
            "max_height": null,
            "align_content": null,
            "visibility": null,
            "align_self": null,
            "height": null,
            "min_height": null,
            "padding": null,
            "grid_auto_rows": null,
            "grid_gap": null,
            "max_width": null,
            "order": null,
            "_view_module_version": "1.2.0",
            "grid_template_areas": null,
            "object_position": null,
            "object_fit": null,
            "grid_auto_columns": null,
            "margin": null,
            "display": null,
            "left": null
          }
        }
      }
    }
  },
  "cells": [
    {
      "cell_type": "markdown",
      "metadata": {
        "id": "f7rAW7eHD-4A"
      },
      "source": [
        "# Final project: StackOverflow assistant bot\n",
        "\n",
        "Congratulations on coming this far and solving the programming assignments! In this final project, we will combine everything we have learned about Natural Language Processing to construct a *dialogue chat bot*, which will be able to:\n",
        "* answer programming-related questions (using StackOverflow dataset);\n",
        "* chit-chat and simulate dialogue on all non programming-related questions.\n",
        "\n",
        "For a chit-chat mode we will use a pre-trained neural network engine available from [ChatterBot](https://github.com/gunthercox/ChatterBot).\n",
        "Those who aim at honor certificates for our course or are just curious, will train their own models for chit-chat.\n",
        "![](https://imgs.xkcd.com/comics/twitter_bot.png)\n",
        "©[xkcd](https://xkcd.com)"
      ]
    },
    {
      "cell_type": "markdown",
      "metadata": {
        "id": "vvAcrIKhD-4C"
      },
      "source": [
        "### Data description\n",
        "\n",
        "To detect *intent* of users questions we will need two text collections:\n",
        "- `tagged_posts.tsv` — StackOverflow posts, tagged with one programming language (*positive samples*).\n",
        "- `dialogues.tsv` — dialogue phrases from movie subtitles (*negative samples*).\n"
      ]
    },
    {
      "cell_type": "code",
      "metadata": {
        "id": "11CNhJr2D-4D",
        "outputId": "e05b2e74-c6d0-453f-e68f-5d9e9b1029a5",
        "colab": {
          "base_uri": "https://localhost:8080/",
          "height": 322,
          "referenced_widgets": [
            "93e78ca5e31d46f09b4c7b387ac66032",
            "55ecc7d00b454132beba1b4b778f7fb1",
            "f4f85aba35134713998d6077954b2919",
            "6125cee5126447f1bf797404fb687011",
            "6d872d19eeca412d9dc32f0ea97ad719",
            "49db65a8984942d4a4655718551fcc43",
            "626ddb570b4e4f95a795650676c53370",
            "a1e8caea3363473b88aa79f3a07f1f7e",
            "3a10090c3cd84c209afe259b17951a21",
            "1e934f8a252d4844918476e39d4759e6",
            "b74f31d7be5549fd9089e23ecb064b1d",
            "2a611973953e417b96264d50dbee0827",
            "237d4ebf7e0947edb2094e9e88a0c647",
            "9524c55fc01d4cdc89ba140315ebb61e",
            "d29369a0a8084837b8473562e12c6b35",
            "75e8ac5db5924d79aea5667fc41ba594",
            "35a977dd55f843488c3f3b863701c17a",
            "204ba3c87e0f485a8cad92d5af3a528e",
            "32649dd8235f438fa867b90a3eadd02b",
            "c7221cf0515f4131aa6112a3e52b7390",
            "2e12b894ef244d3488040ff66fedda43",
            "a552a46f752f488fb80579d694cf0bee"
          ]
        }
      },
      "source": [
        "try:\n",
        "    import google.colab\n",
        "    IN_COLAB = True\n",
        "except:\n",
        "    IN_COLAB = False\n",
        "\n",
        "if IN_COLAB:\n",
        "    ! wget https://raw.githubusercontent.com/hse-aml/natural-language-processing/master/setup_google_colab.py -O setup_google_colab.py\n",
        "    import setup_google_colab\n",
        "    setup_google_colab.setup_project()\n",
        "\n",
        "import sys\n",
        "sys.path.append(\"..\")\n",
        "from common.download_utils import download_project_resources\n",
        "\n",
        "download_project_resources()"
      ],
      "execution_count": 1,
      "outputs": [
        {
          "output_type": "stream",
          "text": [
            "--2020-09-29 11:02:42--  https://raw.githubusercontent.com/hse-aml/natural-language-processing/master/setup_google_colab.py\n",
            "Resolving raw.githubusercontent.com (raw.githubusercontent.com)... 151.101.0.133, 151.101.64.133, 151.101.128.133, ...\n",
            "Connecting to raw.githubusercontent.com (raw.githubusercontent.com)|151.101.0.133|:443... connected.\n",
            "HTTP request sent, awaiting response... 200 OK\n",
            "Length: 1939 (1.9K) [text/plain]\n",
            "Saving to: ‘setup_google_colab.py’\n",
            "\n",
            "setup_google_colab. 100%[===================>]   1.89K  --.-KB/s    in 0s      \n",
            "\n",
            "2020-09-29 11:02:42 (26.8 MB/s) - ‘setup_google_colab.py’ saved [1939/1939]\n",
            "\n"
          ],
          "name": "stdout"
        },
        {
          "output_type": "display_data",
          "data": {
            "application/vnd.jupyter.widget-view+json": {
              "model_id": "93e78ca5e31d46f09b4c7b387ac66032",
              "version_minor": 0,
              "version_major": 2
            },
            "text/plain": [
              "HBox(children=(HTML(value=''), FloatProgress(value=0.0, max=18012894.0), HTML(value='')))"
            ]
          },
          "metadata": {
            "tags": []
          }
        },
        {
          "output_type": "stream",
          "text": [
            "\n"
          ],
          "name": "stdout"
        },
        {
          "output_type": "display_data",
          "data": {
            "application/vnd.jupyter.widget-view+json": {
              "model_id": "2a611973953e417b96264d50dbee0827",
              "version_minor": 0,
              "version_major": 2
            },
            "text/plain": [
              "HBox(children=(HTML(value=''), FloatProgress(value=0.0, max=145677870.0), HTML(value='')))"
            ]
          },
          "metadata": {
            "tags": []
          }
        },
        {
          "output_type": "stream",
          "text": [
            "\n"
          ],
          "name": "stdout"
        }
      ]
    },
    {
      "cell_type": "markdown",
      "metadata": {
        "id": "CGAAbDmdD-4J"
      },
      "source": [
        "For those questions, that have programming-related intent, we will proceed as follow predict programming language (only one tag per question allowed here) and rank candidates within the tag using embeddings.\n",
        "For the ranking part, you will need:\n",
        "- `word_embeddings.tsv` — word embeddings, that you  trained with StarSpace in the 3rd assignment. It's not a problem if you didn't do it, because we can offer an alternative solution for you."
      ]
    },
    {
      "cell_type": "markdown",
      "metadata": {
        "id": "Iff5uCddD-4K"
      },
      "source": [
        "As a result of this notebook, you should obtain the following new objects that you will then use in the running bot:\n",
        "\n",
        "- `intent_recognizer.pkl` — intent recognition model;\n",
        "- `tag_classifier.pkl` — programming language classification model;\n",
        "- `tfidf_vectorizer.pkl` — vectorizer used during training;\n",
        "- `thread_embeddings_by_tags` — folder with thread embeddings, arranged by tags.\n",
        "    "
      ]
    },
    {
      "cell_type": "markdown",
      "metadata": {
        "id": "Qi6LDpDBD-4L"
      },
      "source": [
        "Some functions will be reused by this notebook and the scripts, so we put them into *utils.py* file. Don't forget to open it and fill in the gaps!"
      ]
    },
    {
      "cell_type": "code",
      "metadata": {
        "id": "01j2ytCYD-4L",
        "outputId": "b11b5588-44d8-45b5-a524-232d7f0bfd1b",
        "colab": {
          "base_uri": "https://localhost:8080/",
          "height": 51
        }
      },
      "source": [
        "from utils import *"
      ],
      "execution_count": 2,
      "outputs": [
        {
          "output_type": "stream",
          "text": [
            "[nltk_data] Downloading package stopwords to /root/nltk_data...\n",
            "[nltk_data]   Unzipping corpora/stopwords.zip.\n"
          ],
          "name": "stderr"
        }
      ]
    },
    {
      "cell_type": "code",
      "metadata": {
        "id": "qR1SMj0MRKxx"
      },
      "source": [
        ""
      ],
      "execution_count": 2,
      "outputs": []
    },
    {
      "cell_type": "markdown",
      "metadata": {
        "id": "1AGfMyxWD-4Q"
      },
      "source": [
        "## Part I. Intent and language recognition"
      ]
    },
    {
      "cell_type": "markdown",
      "metadata": {
        "id": "oH-MKpsGD-4R"
      },
      "source": [
        "We want to write a bot, which will not only **answer programming-related questions**, but also will be able to **maintain a dialogue**. We would also like to detect the *intent* of the user from the question (we could have had a 'Question answering mode' check-box in the bot, but it wouldn't fun at all, would it?). So the first thing we need to do is to **distinguish programming-related questions from general ones**.\n",
        "\n",
        "It would also be good to predict which programming language a particular question referees to. By doing so, we will speed up question search by a factor of the number of languages (10 here), and exercise our *text classification* skill a bit. :)"
      ]
    },
    {
      "cell_type": "code",
      "metadata": {
        "id": "NrXuSC_hD-4R"
      },
      "source": [
        "import numpy as np\n",
        "import pandas as pd\n",
        "import pickle\n",
        "import re\n",
        "\n",
        "from sklearn.feature_extraction.text import TfidfVectorizer"
      ],
      "execution_count": 3,
      "outputs": []
    },
    {
      "cell_type": "markdown",
      "metadata": {
        "id": "96GW8jWxD-4W"
      },
      "source": [
        "### Data preparation"
      ]
    },
    {
      "cell_type": "markdown",
      "metadata": {
        "id": "RV-HraWYD-4W"
      },
      "source": [
        "In the first assignment (Predict tags on StackOverflow with linear models), you have already learnt how to preprocess texts and do TF-IDF tranformations. Reuse your code here. In addition, you will also need to [dump](https://docs.python.org/3/library/pickle.html#pickle.dump) the TF-IDF vectorizer with pickle to use it later in the running bot."
      ]
    },
    {
      "cell_type": "code",
      "metadata": {
        "id": "xwseooNED-4X"
      },
      "source": [
        "def tfidf_features(X_train, X_test, vectorizer_path):\n",
        "    \"\"\"Performs TF-IDF transformation and dumps the model.\"\"\"\n",
        "    \n",
        "    # Train a vectorizer on X_train data.\n",
        "    # Transform X_train and X_test data.\n",
        "    \n",
        "    # Pickle the trained vectorizer to 'vectorizer_path'\n",
        "    # Don't forget to open the file in writing bytes mode.\n",
        "    \n",
        "    ######################################\n",
        "    ######### YOUR CODE HERE #############\n",
        "    ######################################\n",
        "    vectorizer = TfidfVectorizer()\n",
        "    train_data = vectorizer.fit_transform(X_train)\n",
        "    test_data = vectorizer.transform(X_test)\n",
        "    with open(vectorizer_path,'wb') as fin:\n",
        "      pickle.dump(vectorizer,fin)\n",
        "    \n",
        "    return train_data, test_data"
      ],
      "execution_count": 29,
      "outputs": []
    },
    {
      "cell_type": "markdown",
      "metadata": {
        "id": "U9bdMsmDD-4b"
      },
      "source": [
        "Now, load examples of two classes. Use a subsample of stackoverflow data to balance the classes. You will need the full data later."
      ]
    },
    {
      "cell_type": "code",
      "metadata": {
        "id": "gFdZ1HzoD-4c"
      },
      "source": [
        "sample_size = 200000\n",
        "\n",
        "dialogue_df = pd.read_csv('data/dialogues.tsv', sep='\\t').sample(sample_size, random_state=0)\n",
        "stackoverflow_df = pd.read_csv('data/tagged_posts.tsv', sep='\\t').sample(sample_size, random_state=0)"
      ],
      "execution_count": 5,
      "outputs": []
    },
    {
      "cell_type": "markdown",
      "metadata": {
        "id": "wNHWrroZD-4k"
      },
      "source": [
        "Check how the data look like:"
      ]
    },
    {
      "cell_type": "code",
      "metadata": {
        "id": "uPXgxz0SD-4l",
        "outputId": "92442414-f085-4561-a3a6-c8a2e3091052",
        "colab": {
          "base_uri": "https://localhost:8080/",
          "height": 204
        }
      },
      "source": [
        "dialogue_df.head()"
      ],
      "execution_count": 6,
      "outputs": [
        {
          "output_type": "execute_result",
          "data": {
            "text/html": [
              "<div>\n",
              "<style scoped>\n",
              "    .dataframe tbody tr th:only-of-type {\n",
              "        vertical-align: middle;\n",
              "    }\n",
              "\n",
              "    .dataframe tbody tr th {\n",
              "        vertical-align: top;\n",
              "    }\n",
              "\n",
              "    .dataframe thead th {\n",
              "        text-align: right;\n",
              "    }\n",
              "</style>\n",
              "<table border=\"1\" class=\"dataframe\">\n",
              "  <thead>\n",
              "    <tr style=\"text-align: right;\">\n",
              "      <th></th>\n",
              "      <th>text</th>\n",
              "      <th>tag</th>\n",
              "    </tr>\n",
              "  </thead>\n",
              "  <tbody>\n",
              "    <tr>\n",
              "      <th>82925</th>\n",
              "      <td>Donna, you are a muffin.</td>\n",
              "      <td>dialogue</td>\n",
              "    </tr>\n",
              "    <tr>\n",
              "      <th>48774</th>\n",
              "      <td>He was here last night till about two o'clock....</td>\n",
              "      <td>dialogue</td>\n",
              "    </tr>\n",
              "    <tr>\n",
              "      <th>55394</th>\n",
              "      <td>All right, then make an appointment with her s...</td>\n",
              "      <td>dialogue</td>\n",
              "    </tr>\n",
              "    <tr>\n",
              "      <th>90806</th>\n",
              "      <td>Hey, what is this-an interview? We're supposed...</td>\n",
              "      <td>dialogue</td>\n",
              "    </tr>\n",
              "    <tr>\n",
              "      <th>107758</th>\n",
              "      <td>Yeah. He's just a friend of mine I was trying ...</td>\n",
              "      <td>dialogue</td>\n",
              "    </tr>\n",
              "  </tbody>\n",
              "</table>\n",
              "</div>"
            ],
            "text/plain": [
              "                                                     text       tag\n",
              "82925                            Donna, you are a muffin.  dialogue\n",
              "48774   He was here last night till about two o'clock....  dialogue\n",
              "55394   All right, then make an appointment with her s...  dialogue\n",
              "90806   Hey, what is this-an interview? We're supposed...  dialogue\n",
              "107758  Yeah. He's just a friend of mine I was trying ...  dialogue"
            ]
          },
          "metadata": {
            "tags": []
          },
          "execution_count": 6
        }
      ]
    },
    {
      "cell_type": "code",
      "metadata": {
        "id": "2vFc7gORD-4r",
        "outputId": "dd83777a-c8d5-4984-cbf5-8c67d4d2ba4e",
        "colab": {
          "base_uri": "https://localhost:8080/",
          "height": 204
        }
      },
      "source": [
        "stackoverflow_df.head()"
      ],
      "execution_count": 7,
      "outputs": [
        {
          "output_type": "execute_result",
          "data": {
            "text/html": [
              "<div>\n",
              "<style scoped>\n",
              "    .dataframe tbody tr th:only-of-type {\n",
              "        vertical-align: middle;\n",
              "    }\n",
              "\n",
              "    .dataframe tbody tr th {\n",
              "        vertical-align: top;\n",
              "    }\n",
              "\n",
              "    .dataframe thead th {\n",
              "        text-align: right;\n",
              "    }\n",
              "</style>\n",
              "<table border=\"1\" class=\"dataframe\">\n",
              "  <thead>\n",
              "    <tr style=\"text-align: right;\">\n",
              "      <th></th>\n",
              "      <th>post_id</th>\n",
              "      <th>title</th>\n",
              "      <th>tag</th>\n",
              "    </tr>\n",
              "  </thead>\n",
              "  <tbody>\n",
              "    <tr>\n",
              "      <th>2168983</th>\n",
              "      <td>43837842</td>\n",
              "      <td>Efficient Algorithm to compose valid expressio...</td>\n",
              "      <td>python</td>\n",
              "    </tr>\n",
              "    <tr>\n",
              "      <th>1084095</th>\n",
              "      <td>15747223</td>\n",
              "      <td>Why does this basic thread program fail with C...</td>\n",
              "      <td>c_cpp</td>\n",
              "    </tr>\n",
              "    <tr>\n",
              "      <th>1049020</th>\n",
              "      <td>15189594</td>\n",
              "      <td>Link to scroll to top not working</td>\n",
              "      <td>javascript</td>\n",
              "    </tr>\n",
              "    <tr>\n",
              "      <th>200466</th>\n",
              "      <td>3273927</td>\n",
              "      <td>Is it possible to implement ping on windows ph...</td>\n",
              "      <td>c#</td>\n",
              "    </tr>\n",
              "    <tr>\n",
              "      <th>1200249</th>\n",
              "      <td>17684551</td>\n",
              "      <td>GLSL normal mapping issue</td>\n",
              "      <td>c_cpp</td>\n",
              "    </tr>\n",
              "  </tbody>\n",
              "</table>\n",
              "</div>"
            ],
            "text/plain": [
              "          post_id  ...         tag\n",
              "2168983  43837842  ...      python\n",
              "1084095  15747223  ...       c_cpp\n",
              "1049020  15189594  ...  javascript\n",
              "200466    3273927  ...          c#\n",
              "1200249  17684551  ...       c_cpp\n",
              "\n",
              "[5 rows x 3 columns]"
            ]
          },
          "metadata": {
            "tags": []
          },
          "execution_count": 7
        }
      ]
    },
    {
      "cell_type": "markdown",
      "metadata": {
        "id": "8IkIm2rgD-4v"
      },
      "source": [
        "Apply *text_prepare* function to preprocess the data.\n",
        "\n",
        "If you filled in the file, but NotImplementedError is still displayed, please refer to [this thread](https://github.com/hse-aml/natural-language-processing/issues/27)."
      ]
    },
    {
      "cell_type": "code",
      "metadata": {
        "id": "drEXwkFAD-4v"
      },
      "source": [
        "from utils import text_prepare"
      ],
      "execution_count": 8,
      "outputs": []
    },
    {
      "cell_type": "code",
      "metadata": {
        "id": "pUe9U0YFbwa3",
        "outputId": "3db226ab-e220-4057-8798-e93e6b828dec",
        "colab": {
          "base_uri": "https://localhost:8080/",
          "height": 139
        }
      },
      "source": [
        "dialogue_df['text'].values"
      ],
      "execution_count": 9,
      "outputs": [
        {
          "output_type": "execute_result",
          "data": {
            "text/plain": [
              "array(['Donna, you are a muffin.',\n",
              "       \"He was here last night till about two o'clock. I hear you really got stuck with a dog last night.\",\n",
              "       'All right, then make an appointment with her so I can see her!',\n",
              "       ..., \"How do I know that's her?\", \"Why hasn't he got a head?\",\n",
              "       'I see here that this guy has made deposits into his own account for the last four months. Each one in the amount of $100,000. He then puts in deposits into his girlfriends account.'],\n",
              "      dtype=object)"
            ]
          },
          "metadata": {
            "tags": []
          },
          "execution_count": 9
        }
      ]
    },
    {
      "cell_type": "code",
      "metadata": {
        "id": "3B0r0qVeD-40"
      },
      "source": [
        "dialogue_df['text'] = dialogue_df['text'].apply(text_prepare)\n",
        "stackoverflow_df['title'] = stackoverflow_df['title'].apply(text_prepare)"
      ],
      "execution_count": 15,
      "outputs": []
    },
    {
      "cell_type": "code",
      "metadata": {
        "id": "S26vuEvtpZ47",
        "outputId": "248e100e-5810-4dd4-de96-8efdbe8d2c63",
        "colab": {
          "base_uri": "https://localhost:8080/",
          "height": 204
        }
      },
      "source": [
        "dialogue_df.head()"
      ],
      "execution_count": 16,
      "outputs": [
        {
          "output_type": "execute_result",
          "data": {
            "text/html": [
              "<div>\n",
              "<style scoped>\n",
              "    .dataframe tbody tr th:only-of-type {\n",
              "        vertical-align: middle;\n",
              "    }\n",
              "\n",
              "    .dataframe tbody tr th {\n",
              "        vertical-align: top;\n",
              "    }\n",
              "\n",
              "    .dataframe thead th {\n",
              "        text-align: right;\n",
              "    }\n",
              "</style>\n",
              "<table border=\"1\" class=\"dataframe\">\n",
              "  <thead>\n",
              "    <tr style=\"text-align: right;\">\n",
              "      <th></th>\n",
              "      <th>text</th>\n",
              "      <th>tag</th>\n",
              "    </tr>\n",
              "  </thead>\n",
              "  <tbody>\n",
              "    <tr>\n",
              "      <th>82925</th>\n",
              "      <td>donna muffin</td>\n",
              "      <td>dialogue</td>\n",
              "    </tr>\n",
              "    <tr>\n",
              "      <th>48774</th>\n",
              "      <td>last night till two oclock hear really got stu...</td>\n",
              "      <td>dialogue</td>\n",
              "    </tr>\n",
              "    <tr>\n",
              "      <th>55394</th>\n",
              "      <td>right make appointment see</td>\n",
              "      <td>dialogue</td>\n",
              "    </tr>\n",
              "    <tr>\n",
              "      <th>90806</th>\n",
              "      <td>hey thisan interview supposed making love</td>\n",
              "      <td>dialogue</td>\n",
              "    </tr>\n",
              "    <tr>\n",
              "      <th>107758</th>\n",
              "      <td>yeah hes friend mine trying help</td>\n",
              "      <td>dialogue</td>\n",
              "    </tr>\n",
              "  </tbody>\n",
              "</table>\n",
              "</div>"
            ],
            "text/plain": [
              "                                                     text       tag\n",
              "82925                                        donna muffin  dialogue\n",
              "48774   last night till two oclock hear really got stu...  dialogue\n",
              "55394                          right make appointment see  dialogue\n",
              "90806           hey thisan interview supposed making love  dialogue\n",
              "107758                   yeah hes friend mine trying help  dialogue"
            ]
          },
          "metadata": {
            "tags": []
          },
          "execution_count": 16
        }
      ]
    },
    {
      "cell_type": "markdown",
      "metadata": {
        "id": "ia0JKp6ZD-47"
      },
      "source": [
        "### Intent recognition"
      ]
    },
    {
      "cell_type": "markdown",
      "metadata": {
        "id": "NqVMRWZYD-48"
      },
      "source": [
        "We will do a binary classification on TF-IDF representations of texts. Labels will be either `dialogue` for general questions or `stackoverflow` for programming-related questions. First, prepare the data for this task:\n",
        "- concatenate `dialogue` and `stackoverflow` examples into one sample\n",
        "- split it into train and test in proportion 9:1, use *random_state=0* for reproducibility\n",
        "- transform it into TF-IDF features"
      ]
    },
    {
      "cell_type": "code",
      "metadata": {
        "id": "Xi2SCFM8D-49"
      },
      "source": [
        "from sklearn.model_selection import train_test_split"
      ],
      "execution_count": 17,
      "outputs": []
    },
    {
      "cell_type": "code",
      "metadata": {
        "id": "Jyy0nRnJs1ce",
        "outputId": "941decd3-ce6f-4c98-ac29-baeebdfbe3db",
        "colab": {
          "base_uri": "https://localhost:8080/",
          "height": 34
        }
      },
      "source": [
        "!pwd"
      ],
      "execution_count": 22,
      "outputs": [
        {
          "output_type": "stream",
          "text": [
            "/content\n"
          ],
          "name": "stdout"
        }
      ]
    },
    {
      "cell_type": "code",
      "metadata": {
        "id": "e3uU5PHYD-5B",
        "outputId": "2174663d-6914-44ff-9f2b-d38598addded",
        "colab": {
          "base_uri": "https://localhost:8080/",
          "height": 34
        }
      },
      "source": [
        "X = np.concatenate([dialogue_df['text'].values, stackoverflow_df['title'].values])\n",
        "y = ['dialogue'] * dialogue_df.shape[0] + ['stackoverflow'] * stackoverflow_df.shape[0]\n",
        "\n",
        "X_train, X_test, y_train, y_test = train_test_split(X,y, test_size=0.1,random_state=0)\n",
        "print('Train size = {}, test size = {}'.format(len(X_train), len(X_test)))\n",
        "\n",
        "X_train_tfidf, X_test_tfidf = tfidf_features(X_train,X_test,'/content/tfidf_vectorizer.pkl')"
      ],
      "execution_count": 30,
      "outputs": [
        {
          "output_type": "stream",
          "text": [
            "Train size = 360000, test size = 40000\n"
          ],
          "name": "stdout"
        }
      ]
    },
    {
      "cell_type": "markdown",
      "metadata": {
        "id": "Hmw0zFtCD-5F"
      },
      "source": [
        "Train the **intent recognizer** using LogisticRegression on the train set with the following parameters: *penalty='l2'*, *C=10*, *random_state=0*. Print out the accuracy on the test set to check whether everything looks good."
      ]
    },
    {
      "cell_type": "code",
      "metadata": {
        "id": "MMkR-MKNvPNp",
        "outputId": "d14b432f-153b-43d0-fa6d-ed17f30da72c",
        "colab": {
          "base_uri": "https://localhost:8080/",
          "height": 102
        }
      },
      "source": [
        "X_train_tfidf"
      ],
      "execution_count": 28,
      "outputs": [
        {
          "output_type": "execute_result",
          "data": {
            "text/plain": [
              "array(['wpf combobox hide disable dropdown button programmatically',\n",
              "       'output exited code 0', 'html video resize always fit', ...,\n",
              "       'youll lovely thanks jacques would native dance',\n",
              "       'supposed come skiing didnt get cable call note frankly fart',\n",
              "       'connect gmail sockets ssl python'], dtype=object)"
            ]
          },
          "metadata": {
            "tags": []
          },
          "execution_count": 28
        }
      ]
    },
    {
      "cell_type": "code",
      "metadata": {
        "id": "6Wfe-y6RD-5F"
      },
      "source": [
        "from sklearn.linear_model import LogisticRegression\n",
        "from sklearn.metrics import accuracy_score"
      ],
      "execution_count": 25,
      "outputs": []
    },
    {
      "cell_type": "code",
      "metadata": {
        "id": "jYLFu5kjD-5J",
        "outputId": "8acad383-abfb-48fc-e0b2-5655e0e646a5",
        "colab": {
          "base_uri": "https://localhost:8080/",
          "height": 173
        }
      },
      "source": [
        "intent_recognizer = LogisticRegression(penalty='l2',C=10,random_state=0).fit(X_train_tfidf,y_train)"
      ],
      "execution_count": 31,
      "outputs": [
        {
          "output_type": "stream",
          "text": [
            "/usr/local/lib/python3.6/dist-packages/sklearn/linear_model/_logistic.py:940: ConvergenceWarning: lbfgs failed to converge (status=1):\n",
            "STOP: TOTAL NO. of ITERATIONS REACHED LIMIT.\n",
            "\n",
            "Increase the number of iterations (max_iter) or scale the data as shown in:\n",
            "    https://scikit-learn.org/stable/modules/preprocessing.html\n",
            "Please also refer to the documentation for alternative solver options:\n",
            "    https://scikit-learn.org/stable/modules/linear_model.html#logistic-regression\n",
            "  extra_warning_msg=_LOGISTIC_SOLVER_CONVERGENCE_MSG)\n"
          ],
          "name": "stderr"
        }
      ]
    },
    {
      "cell_type": "code",
      "metadata": {
        "id": "pxHOfb58D-5P",
        "outputId": "daf9f6b9-1be7-4606-e1f0-0d028fdf0de7",
        "colab": {
          "base_uri": "https://localhost:8080/",
          "height": 34
        }
      },
      "source": [
        "# Check test accuracy.\n",
        "y_test_pred = intent_recognizer.predict(X_test_tfidf)\n",
        "test_accuracy = accuracy_score(y_test, y_test_pred)\n",
        "print('Test accuracy = {}'.format(test_accuracy))"
      ],
      "execution_count": 32,
      "outputs": [
        {
          "output_type": "stream",
          "text": [
            "Test accuracy = 0.9904\n"
          ],
          "name": "stdout"
        }
      ]
    },
    {
      "cell_type": "markdown",
      "metadata": {
        "id": "vK6LmjhFD-5S"
      },
      "source": [
        "Dump the classifier to use it in the running bot."
      ]
    },
    {
      "cell_type": "code",
      "metadata": {
        "id": "WzzU-EZVD-5T"
      },
      "source": [
        "pickle.dump(intent_recognizer, open(RESOURCE_PATH['INTENT_RECOGNIZER'], 'wb'))"
      ],
      "execution_count": 33,
      "outputs": []
    },
    {
      "cell_type": "markdown",
      "metadata": {
        "id": "mAIyu-LqD-5Y"
      },
      "source": [
        "### Programming language classification "
      ]
    },
    {
      "cell_type": "markdown",
      "metadata": {
        "id": "Y6eGH4KmD-5Y"
      },
      "source": [
        "We will train one more classifier for the programming-related questions. It will predict exactly one tag (=programming language) and will be also based on Logistic Regression with TF-IDF features. \n",
        "\n",
        "First, let us prepare the data for this task."
      ]
    },
    {
      "cell_type": "code",
      "metadata": {
        "id": "CQqbVtcwD-5Z"
      },
      "source": [
        "X = stackoverflow_df['title'].values\n",
        "y = stackoverflow_df['tag'].values"
      ],
      "execution_count": null,
      "outputs": []
    },
    {
      "cell_type": "code",
      "metadata": {
        "id": "tvLzrAfwD-5d"
      },
      "source": [
        "X_train, X_test, y_train, y_test = train_test_split(X, y, test_size=0.2, random_state=0)\n",
        "print('Train size = {}, test size = {}'.format(len(X_train), len(X_test)))"
      ],
      "execution_count": null,
      "outputs": []
    },
    {
      "cell_type": "markdown",
      "metadata": {
        "id": "l9rYIGL2D-5h"
      },
      "source": [
        "Let us reuse the TF-IDF vectorizer that we have already created above. It should not make a huge difference which data was used to train it."
      ]
    },
    {
      "cell_type": "code",
      "metadata": {
        "id": "YqKth1KqD-5h"
      },
      "source": [
        "vectorizer = pickle.load(open(RESOURCE_PATH['TFIDF_VECTORIZER'], 'rb'))\n",
        "\n",
        "X_train_tfidf, X_test_tfidf = vectorizer.transform(X_train), vectorizer.transform(X_test)"
      ],
      "execution_count": null,
      "outputs": []
    },
    {
      "cell_type": "markdown",
      "metadata": {
        "id": "-NyTsYaLD-5k"
      },
      "source": [
        "Train the **tag classifier** using OneVsRestClassifier wrapper over LogisticRegression. Use the following parameters: *penalty='l2'*, *C=5*, *random_state=0*."
      ]
    },
    {
      "cell_type": "code",
      "metadata": {
        "id": "i6sfjoCXD-5l"
      },
      "source": [
        "from sklearn.multiclass import OneVsRestClassifier"
      ],
      "execution_count": null,
      "outputs": []
    },
    {
      "cell_type": "code",
      "metadata": {
        "id": "smKMshBkD-5o"
      },
      "source": [
        "######################################\n",
        "######### YOUR CODE HERE #############\n",
        "######################################"
      ],
      "execution_count": null,
      "outputs": []
    },
    {
      "cell_type": "code",
      "metadata": {
        "id": "QpM6dn27D-5s"
      },
      "source": [
        "# Check test accuracy.\n",
        "y_test_pred = tag_classifier.predict(X_test_tfidf)\n",
        "test_accuracy = accuracy_score(y_test, y_test_pred)\n",
        "print('Test accuracy = {}'.format(test_accuracy))"
      ],
      "execution_count": null,
      "outputs": []
    },
    {
      "cell_type": "markdown",
      "metadata": {
        "id": "PPbxf0EJD-5y"
      },
      "source": [
        "Dump the classifier to use it in the running bot."
      ]
    },
    {
      "cell_type": "code",
      "metadata": {
        "id": "OefHW8oZD-52"
      },
      "source": [
        "pickle.dump(tag_classifier, open(RESOURCE_PATH['TAG_CLASSIFIER'], 'wb'))"
      ],
      "execution_count": null,
      "outputs": []
    },
    {
      "cell_type": "markdown",
      "metadata": {
        "id": "xW3NFONlD-57"
      },
      "source": [
        "## Part II. Ranking  questions with embeddings"
      ]
    },
    {
      "cell_type": "markdown",
      "metadata": {
        "id": "6YcHDp4SD-58"
      },
      "source": [
        "To find a relevant answer (a thread from StackOverflow) on a question you will use vector representations to calculate similarity between the question and existing threads. We already had `question_to_vec` function from the assignment 3, which can create such a representation based on word vectors. \n",
        "\n",
        "However, it would be costly to compute such a representation for all possible answers in *online mode* of the bot (e.g. when bot is running and answering questions from many users). This is the reason why you will create a *database* with pre-computed representations. These representations will be arranged by non-overlaping tags (programming languages), so that the search of the answer can be performed only within one tag each time. This will make our bot even more efficient and allow not to store all the database in RAM. "
      ]
    },
    {
      "cell_type": "markdown",
      "metadata": {
        "id": "IcKlW34YD-58"
      },
      "source": [
        "Load StarSpace embeddings which were trained on Stack Overflow posts. These embeddings were trained in *supervised mode* for duplicates detection on the same corpus that is used in search. We can account on that these representations will allow us to find closely related answers for a question. \n",
        "\n",
        "If for some reasons you didn't train StarSpace embeddings in the assignment 3, you can use [pre-trained word vectors](https://code.google.com/archive/p/word2vec/) from Google. All instructions about how to work with these vectors were provided in the same assignment. However, we highly recommend to use StarSpace's embeddings, because it contains more appropriate embeddings. If you chose to use Google's embeddings, delete the words, which are not in Stackoverflow data."
      ]
    },
    {
      "cell_type": "code",
      "metadata": {
        "id": "CJqE2G98D-5-"
      },
      "source": [
        "starspace_embeddings, embeddings_dim = load_embeddings('data/word_embeddings.tsv')"
      ],
      "execution_count": null,
      "outputs": []
    },
    {
      "cell_type": "markdown",
      "metadata": {
        "id": "qCxTdWDPD-6E"
      },
      "source": [
        "Since we want to precompute representations for all possible answers, we need to load the whole posts dataset, unlike we did for the intent classifier:"
      ]
    },
    {
      "cell_type": "code",
      "metadata": {
        "id": "zYS6N1meD-6E"
      },
      "source": [
        "posts_df = pd.read_csv('data/tagged_posts.tsv', sep='\\t')"
      ],
      "execution_count": null,
      "outputs": []
    },
    {
      "cell_type": "markdown",
      "metadata": {
        "id": "duCs_PAPD-6K"
      },
      "source": [
        "Look at the distribution of posts for programming languages (tags) and find the most common ones. \n",
        "You might want to use pandas [groupby](https://pandas.pydata.org/pandas-docs/stable/generated/pandas.DataFrame.groupby.html) and [count](https://pandas.pydata.org/pandas-docs/stable/generated/pandas.DataFrame.count.html) methods:"
      ]
    },
    {
      "cell_type": "code",
      "metadata": {
        "id": "NFWWyDKgD-6K"
      },
      "source": [
        "counts_by_tag = ######### YOUR CODE HERE #############"
      ],
      "execution_count": null,
      "outputs": []
    },
    {
      "cell_type": "markdown",
      "metadata": {
        "id": "qhy61m4kD-6P"
      },
      "source": [
        "Now for each `tag` you need to create two data structures, which will serve as online search index:\n",
        "* `tag_post_ids` — a list of post_ids with shape `(counts_by_tag[tag],)`. It will be needed to show the title and link to the thread;\n",
        "* `tag_vectors` — a matrix with shape `(counts_by_tag[tag], embeddings_dim)` where embeddings for each answer are stored.\n",
        "\n",
        "Implement the code which will calculate the mentioned structures and dump it to files. It should take several minutes to compute it."
      ]
    },
    {
      "cell_type": "code",
      "metadata": {
        "id": "FkKqFTlRD-6P"
      },
      "source": [
        "import os\n",
        "os.makedirs(RESOURCE_PATH['THREAD_EMBEDDINGS_FOLDER'], exist_ok=True)\n",
        "\n",
        "for tag, count in counts_by_tag.items():\n",
        "    tag_posts = posts_df[posts_df['tag'] == tag]\n",
        "    \n",
        "    tag_post_ids = ######### YOUR CODE HERE #############\n",
        "    \n",
        "    tag_vectors = np.zeros((count, embeddings_dim), dtype=np.float32)\n",
        "    for i, title in enumerate(tag_posts['title']):\n",
        "        tag_vectors[i, :] = ######### YOUR CODE HERE ############# \n",
        "\n",
        "    # Dump post ids and vectors to a file.\n",
        "    filename = os.path.join(RESOURCE_PATH['THREAD_EMBEDDINGS_FOLDER'], os.path.normpath('%s.pkl' % tag))\n",
        "    pickle.dump((tag_post_ids, tag_vectors), open(filename, 'wb'))"
      ],
      "execution_count": null,
      "outputs": []
    },
    {
      "cell_type": "markdown",
      "metadata": {
        "id": "K8L96_5ZD-6T"
      },
      "source": [
        "## Part III. Putting all together"
      ]
    },
    {
      "cell_type": "markdown",
      "metadata": {
        "id": "nSYwaKSjD-6U"
      },
      "source": [
        "Now let's combine everything that we have done and enable the bot to maintain a dialogue. We will teach the bot to sequentially determine the intent and, depending on the intent, select the best answer. As soon as we do this, we will have the opportunity to chat with the bot and check how well it answers questions."
      ]
    },
    {
      "cell_type": "markdown",
      "metadata": {
        "id": "0FkXyKfOD-6U"
      },
      "source": [
        "Implement Dialogue Manager that will generate the best answer. In order to do this, you should open *dialogue_manager.py* and fill in the gaps."
      ]
    },
    {
      "cell_type": "code",
      "metadata": {
        "id": "Ne823txdD-6V"
      },
      "source": [
        "from dialogue_manager import DialogueManager"
      ],
      "execution_count": null,
      "outputs": []
    },
    {
      "cell_type": "code",
      "metadata": {
        "id": "gUMND6rRD-6Y"
      },
      "source": [
        "dialogue_manager = ######### YOUR CODE HERE #############"
      ],
      "execution_count": null,
      "outputs": []
    },
    {
      "cell_type": "markdown",
      "metadata": {
        "id": "S4-R6xUFD-6b"
      },
      "source": [
        "Now we are ready to test our chat bot! Let's chat with the bot and ask it some questions. Check that the answers are reasonable."
      ]
    },
    {
      "cell_type": "code",
      "metadata": {
        "id": "82sSRHyUD-6b"
      },
      "source": [
        "questions = [\n",
        "    \"Hey\", \n",
        "    \"How are you doing?\", \n",
        "    \"What's your hobby?\", \n",
        "    \"How to write a loop in python?\",\n",
        "    \"How to delete rows in pandas?\",\n",
        "    \"python3 re\",\n",
        "    \"What is the difference between c and c++\",\n",
        "    \"Multithreading in Java\",\n",
        "    \"Catch exceptions C++\",\n",
        "    \"What is AI?\",\n",
        "]\n",
        "\n",
        "for question in questions:\n",
        "    answer = ######### YOUR CODE HERE #############\n",
        "    print('Q: %s\\nA: %s \\n' % (question, answer))"
      ],
      "execution_count": null,
      "outputs": []
    }
  ]
}