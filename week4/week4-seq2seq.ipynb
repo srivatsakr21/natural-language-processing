{
  "nbformat": 4,
  "nbformat_minor": 0,
  "metadata": {
    "kernelspec": {
      "display_name": "Python 3",
      "language": "python",
      "name": "python3"
    },
    "language_info": {
      "codemirror_mode": {
        "name": "ipython",
        "version": 3
      },
      "file_extension": ".py",
      "mimetype": "text/x-python",
      "name": "python",
      "nbconvert_exporter": "python",
      "pygments_lexer": "ipython3",
      "version": "3.4.3"
    },
    "colab": {
      "name": "week4-seq2seq.ipynb",
      "provenance": []
    }
  },
  "cells": [
    {
      "cell_type": "markdown",
      "metadata": {
        "id": "uo6GrjoUYd0W",
        "colab_type": "text"
      },
      "source": [
        "# Learn to calculate with seq2seq model\n",
        "\n",
        "In this assignment, you will learn how to use neural networks to solve sequence-to-sequence prediction tasks. Seq2Seq models are very popular these days because they achieve great results in Machine Translation, Text Summarization, Conversational Modeling and more.\n",
        "\n",
        "Using sequence-to-sequence modeling you are going to build a calculator for evaluating arithmetic expressions, by taking an equation as an input to the neural network and producing an answer as it's output.\n",
        "\n",
        "The resulting solution for this problem will be based on state-of-the-art approaches for sequence-to-sequence learning and you should be able to easily adapt it to solve other tasks. However, if you want to train your own machine translation system or intellectual chat bot, it would be useful to have access to compute resources like GPU, and be patient, because training of such systems is usually time consuming. \n",
        "\n",
        "### Libraries\n",
        "\n",
        "For this task you will need the following libraries:\n",
        " - [TensorFlow](https://www.tensorflow.org) — an open-source software library for Machine Intelligence.\n",
        " \n",
        "In this assignment, we use Tensorflow 1.15.0. You can install it with pip:\n",
        "\n",
        "    !pip install tensorflow==1.15.0\n",
        "     \n",
        " - [scikit-learn](http://scikit-learn.org/stable/index.html) — a tool for data mining and data analysis.\n",
        " \n",
        "If you have never worked with TensorFlow, you will probably want to read some tutorials during your work on this assignment, e.g. [Neural Machine Translation](https://www.tensorflow.org/tutorials/seq2seq) tutorial deals with very similar task and can explain some concepts to you. "
      ]
    },
    {
      "cell_type": "code",
      "metadata": {
        "id": "x6qBOZoHY8T3",
        "colab_type": "code",
        "colab": {
          "base_uri": "https://localhost:8080/",
          "height": 955
        },
        "outputId": "6756c3f5-2655-498e-9605-056adbc9a819"
      },
      "source": [
        "!pip install tensorflow==1.15.0"
      ],
      "execution_count": 1,
      "outputs": [
        {
          "output_type": "stream",
          "text": [
            "Collecting tensorflow==1.15.0\n",
            "\u001b[?25l  Downloading https://files.pythonhosted.org/packages/3f/98/5a99af92fb911d7a88a0005ad55005f35b4c1ba8d75fba02df726cd936e6/tensorflow-1.15.0-cp36-cp36m-manylinux2010_x86_64.whl (412.3MB)\n",
            "\u001b[K     |████████████████████████████████| 412.3MB 25kB/s \n",
            "\u001b[?25hRequirement already satisfied: google-pasta>=0.1.6 in /usr/local/lib/python3.6/dist-packages (from tensorflow==1.15.0) (0.2.0)\n",
            "\u001b[33mWARNING: Retrying (Retry(total=4, connect=None, read=None, redirect=None, status=None)) after connection broken by 'ProtocolError('Connection aborted.', ConnectionResetError(104, 'Connection reset by peer'))': /simple/keras-applications/\u001b[0m\n",
            "Collecting keras-applications>=1.0.8\n",
            "\u001b[33m  WARNING: Retrying (Retry(total=4, connect=None, read=None, redirect=None, status=None)) after connection broken by 'ProtocolError('Connection aborted.', ConnectionResetError(104, 'Connection reset by peer'))': /packages/71/e3/19762fdfc62877ae9102edf6342d71b28fbfd9dea3d2f96a882ce099b03f/Keras_Applications-1.0.8-py3-none-any.whl\u001b[0m\n",
            "\u001b[?25l  Downloading https://files.pythonhosted.org/packages/71/e3/19762fdfc62877ae9102edf6342d71b28fbfd9dea3d2f96a882ce099b03f/Keras_Applications-1.0.8-py3-none-any.whl (50kB)\n",
            "\u001b[K     |████████████████████████████████| 51kB 1.5MB/s \n",
            "\u001b[?25hCollecting tensorflow-estimator==1.15.1\n",
            "\u001b[?25l  Downloading https://files.pythonhosted.org/packages/de/62/2ee9cd74c9fa2fa450877847ba560b260f5d0fb70ee0595203082dafcc9d/tensorflow_estimator-1.15.1-py2.py3-none-any.whl (503kB)\n",
            "\u001b[K     |████████████████████████████████| 512kB 5.9MB/s \n",
            "\u001b[?25hRequirement already satisfied: astor>=0.6.0 in /usr/local/lib/python3.6/dist-packages (from tensorflow==1.15.0) (0.8.1)\n",
            "Requirement already satisfied: keras-preprocessing>=1.0.5 in /usr/local/lib/python3.6/dist-packages (from tensorflow==1.15.0) (1.1.2)\n",
            "Collecting gast==0.2.2\n",
            "  Downloading https://files.pythonhosted.org/packages/4e/35/11749bf99b2d4e3cceb4d55ca22590b0d7c2c62b9de38ac4a4a7f4687421/gast-0.2.2.tar.gz\n",
            "Requirement already satisfied: absl-py>=0.7.0 in /usr/local/lib/python3.6/dist-packages (from tensorflow==1.15.0) (0.10.0)\n",
            "Requirement already satisfied: six>=1.10.0 in /usr/local/lib/python3.6/dist-packages (from tensorflow==1.15.0) (1.15.0)\n",
            "Collecting tensorboard<1.16.0,>=1.15.0\n",
            "\u001b[?25l  Downloading https://files.pythonhosted.org/packages/1e/e9/d3d747a97f7188f48aa5eda486907f3b345cd409f0a0850468ba867db246/tensorboard-1.15.0-py3-none-any.whl (3.8MB)\n",
            "\u001b[K     |████████████████████████████████| 3.8MB 8.5MB/s \n",
            "\u001b[?25hRequirement already satisfied: numpy<2.0,>=1.16.0 in /usr/local/lib/python3.6/dist-packages (from tensorflow==1.15.0) (1.18.5)\n",
            "Requirement already satisfied: wrapt>=1.11.1 in /usr/local/lib/python3.6/dist-packages (from tensorflow==1.15.0) (1.12.1)\n",
            "Requirement already satisfied: termcolor>=1.1.0 in /usr/local/lib/python3.6/dist-packages (from tensorflow==1.15.0) (1.1.0)\n",
            "Requirement already satisfied: wheel>=0.26 in /usr/local/lib/python3.6/dist-packages (from tensorflow==1.15.0) (0.35.1)\n",
            "Requirement already satisfied: grpcio>=1.8.6 in /usr/local/lib/python3.6/dist-packages (from tensorflow==1.15.0) (1.32.0)\n",
            "Requirement already satisfied: protobuf>=3.6.1 in /usr/local/lib/python3.6/dist-packages (from tensorflow==1.15.0) (3.12.4)\n",
            "Requirement already satisfied: opt-einsum>=2.3.2 in /usr/local/lib/python3.6/dist-packages (from tensorflow==1.15.0) (3.3.0)\n",
            "Requirement already satisfied: h5py in /usr/local/lib/python3.6/dist-packages (from keras-applications>=1.0.8->tensorflow==1.15.0) (2.10.0)\n",
            "Requirement already satisfied: setuptools>=41.0.0 in /usr/local/lib/python3.6/dist-packages (from tensorboard<1.16.0,>=1.15.0->tensorflow==1.15.0) (50.3.0)\n",
            "Requirement already satisfied: markdown>=2.6.8 in /usr/local/lib/python3.6/dist-packages (from tensorboard<1.16.0,>=1.15.0->tensorflow==1.15.0) (3.2.2)\n",
            "Requirement already satisfied: werkzeug>=0.11.15 in /usr/local/lib/python3.6/dist-packages (from tensorboard<1.16.0,>=1.15.0->tensorflow==1.15.0) (1.0.1)\n",
            "Requirement already satisfied: importlib-metadata; python_version < \"3.8\" in /usr/local/lib/python3.6/dist-packages (from markdown>=2.6.8->tensorboard<1.16.0,>=1.15.0->tensorflow==1.15.0) (1.7.0)\n",
            "Requirement already satisfied: zipp>=0.5 in /usr/local/lib/python3.6/dist-packages (from importlib-metadata; python_version < \"3.8\"->markdown>=2.6.8->tensorboard<1.16.0,>=1.15.0->tensorflow==1.15.0) (3.1.0)\n",
            "Building wheels for collected packages: gast\n",
            "  Building wheel for gast (setup.py) ... \u001b[?25l\u001b[?25hdone\n",
            "  Created wheel for gast: filename=gast-0.2.2-cp36-none-any.whl size=7542 sha256=faa75d372529e10257f6663d58aee21931d72255a7ec828cc3d31069054044d6\n",
            "  Stored in directory: /root/.cache/pip/wheels/5c/2e/7e/a1d4d4fcebe6c381f378ce7743a3ced3699feb89bcfbdadadd\n",
            "Successfully built gast\n",
            "\u001b[31mERROR: tensorflow-probability 0.11.0 has requirement gast>=0.3.2, but you'll have gast 0.2.2 which is incompatible.\u001b[0m\n",
            "Installing collected packages: keras-applications, tensorflow-estimator, gast, tensorboard, tensorflow\n",
            "  Found existing installation: tensorflow-estimator 2.3.0\n",
            "    Uninstalling tensorflow-estimator-2.3.0:\n",
            "      Successfully uninstalled tensorflow-estimator-2.3.0\n",
            "  Found existing installation: gast 0.3.3\n",
            "    Uninstalling gast-0.3.3:\n",
            "      Successfully uninstalled gast-0.3.3\n",
            "  Found existing installation: tensorboard 2.3.0\n",
            "    Uninstalling tensorboard-2.3.0:\n",
            "      Successfully uninstalled tensorboard-2.3.0\n",
            "  Found existing installation: tensorflow 2.3.0\n",
            "    Uninstalling tensorflow-2.3.0:\n",
            "      Successfully uninstalled tensorflow-2.3.0\n",
            "Successfully installed gast-0.2.2 keras-applications-1.0.8 tensorboard-1.15.0 tensorflow-1.15.0 tensorflow-estimator-1.15.1\n"
          ],
          "name": "stdout"
        }
      ]
    },
    {
      "cell_type": "code",
      "metadata": {
        "id": "bn9kI0skYd0a",
        "colab_type": "code",
        "colab": {
          "base_uri": "https://localhost:8080/",
          "height": 204
        },
        "outputId": "4a8a112f-2106-44eb-d6e3-f80cdbafa912"
      },
      "source": [
        "try:\n",
        "    import google.colab\n",
        "    IN_COLAB = True\n",
        "except:\n",
        "    IN_COLAB = False\n",
        "\n",
        "if IN_COLAB:\n",
        "    ! wget https://raw.githubusercontent.com/hse-aml/natural-language-processing/master/setup_google_colab.py -O setup_google_colab.py\n",
        "    import setup_google_colab\n",
        "    setup_google_colab.setup_week4()"
      ],
      "execution_count": 2,
      "outputs": [
        {
          "output_type": "stream",
          "text": [
            "--2020-09-17 14:10:09--  https://raw.githubusercontent.com/hse-aml/natural-language-processing/master/setup_google_colab.py\n",
            "Resolving raw.githubusercontent.com (raw.githubusercontent.com)... 151.101.0.133, 151.101.64.133, 151.101.128.133, ...\n",
            "Connecting to raw.githubusercontent.com (raw.githubusercontent.com)|151.101.0.133|:443... connected.\n",
            "HTTP request sent, awaiting response... 200 OK\n",
            "Length: 1939 (1.9K) [text/plain]\n",
            "Saving to: ‘setup_google_colab.py’\n",
            "\n",
            "setup_google_colab. 100%[===================>]   1.89K  --.-KB/s    in 0s      \n",
            "\n",
            "2020-09-17 14:10:09 (20.9 MB/s) - ‘setup_google_colab.py’ saved [1939/1939]\n",
            "\n"
          ],
          "name": "stdout"
        }
      ]
    },
    {
      "cell_type": "markdown",
      "metadata": {
        "id": "edaFZv6LYd0j",
        "colab_type": "text"
      },
      "source": [
        "### Data\n",
        "\n",
        "One benefit of this task is that you don't need to download any data — you will generate it on your own! We will use two operators (addition and subtraction) and work with positive integer numbers in some range. Here are examples of correct inputs and outputs:\n",
        "\n",
        "    Input: '1+2'\n",
        "    Output: '3'\n",
        "    \n",
        "    Input: '0-99'\n",
        "    Output: '-99'\n",
        "\n",
        "*Note, that there are no spaces between operators and operands.*\n",
        "\n",
        "\n",
        "Now you need to implement the function *generate_equations*, which will be used to generate the data."
      ]
    },
    {
      "cell_type": "code",
      "metadata": {
        "id": "XxZh3y1IYd0k",
        "colab_type": "code",
        "colab": {}
      },
      "source": [
        "import random\n",
        "import operator"
      ],
      "execution_count": 4,
      "outputs": []
    },
    {
      "cell_type": "code",
      "metadata": {
        "id": "KLI_YyTfYd0q",
        "colab_type": "code",
        "colab": {}
      },
      "source": [
        "def generate_equations(allowed_operators, dataset_size, min_value, max_value):\n",
        "    \"\"\"Generates pairs of equations and solutions to them.\n",
        "    \n",
        "       Each equation has a form of two integers with an operator in between.\n",
        "       Each solution is an integer with the result of the operaion.\n",
        "    \n",
        "        allowed_operators: list of strings, allowed operators.\n",
        "        dataset_size: an integer, number of equations to be generated.\n",
        "        min_value: an integer, min value of each operand.\n",
        "        max_value: an integer, max value of each operand.\n",
        "\n",
        "        result: a list of tuples of strings (equation, solution).\n",
        "    \"\"\"\n",
        "    sample = []\n",
        "    for _ in range(dataset_size):\n",
        "        ######################################\n",
        "        ######### YOUR CODE HERE #############\n",
        "        ######################################\n",
        "        a = random.randint(min_value,max_value)\n",
        "        op = random.choice(allowed_operators)\n",
        "        b = random.randint(min_value,max_value)\n",
        "        ops = {'+':operator.add,'-':operator.sub}\n",
        "        sol = ops[op](a,b)\n",
        "        sample.append((str(a)+op+str(b),str(sol)))\n",
        "\n",
        "    return sample"
      ],
      "execution_count": 11,
      "outputs": []
    },
    {
      "cell_type": "markdown",
      "metadata": {
        "id": "BC8HGV0bYd0z",
        "colab_type": "text"
      },
      "source": [
        "To check the correctness of your implementation, use *test_generate_equations* function:"
      ]
    },
    {
      "cell_type": "code",
      "metadata": {
        "id": "WpK0qhn4Yd01",
        "colab_type": "code",
        "colab": {}
      },
      "source": [
        "def test_generate_equations():\n",
        "    allowed_operators = ['+', '-']\n",
        "    dataset_size = 10\n",
        "    for (input_, output_) in generate_equations(allowed_operators, dataset_size, 0, 100):\n",
        "        if not (type(input_) is str and type(output_) is str):\n",
        "            return \"Both parts should be strings.\"\n",
        "        if eval(input_) != int(output_):\n",
        "            return \"The (equation: {!r}, solution: {!r}) pair is incorrect.\".format(input_, output_)\n",
        "    return \"Tests passed.\""
      ],
      "execution_count": 12,
      "outputs": []
    },
    {
      "cell_type": "code",
      "metadata": {
        "id": "FQPGg-DAYd0-",
        "colab_type": "code",
        "colab": {
          "base_uri": "https://localhost:8080/",
          "height": 34
        },
        "outputId": "3b6799d2-ca5d-414e-e63c-440c628627b1"
      },
      "source": [
        "print(test_generate_equations())"
      ],
      "execution_count": 13,
      "outputs": [
        {
          "output_type": "stream",
          "text": [
            "Tests passed.\n"
          ],
          "name": "stdout"
        }
      ]
    },
    {
      "cell_type": "markdown",
      "metadata": {
        "id": "UT_HHUPiYd1F",
        "colab_type": "text"
      },
      "source": [
        "Finally, we are ready to generate the train and test data for the neural network:"
      ]
    },
    {
      "cell_type": "code",
      "metadata": {
        "id": "uABzVoS6Yd1G",
        "colab_type": "code",
        "colab": {}
      },
      "source": [
        "from sklearn.model_selection import train_test_split"
      ],
      "execution_count": 14,
      "outputs": []
    },
    {
      "cell_type": "code",
      "metadata": {
        "id": "DyYJg3qiYd1Q",
        "colab_type": "code",
        "colab": {}
      },
      "source": [
        "allowed_operators = ['+', '-']\n",
        "dataset_size = 100000\n",
        "data = generate_equations(allowed_operators, dataset_size, min_value=0, max_value=9999)\n",
        "\n",
        "train_set, test_set = train_test_split(data, test_size=0.2, random_state=42)"
      ],
      "execution_count": 15,
      "outputs": []
    },
    {
      "cell_type": "code",
      "metadata": {
        "id": "6htwwXJceY1V",
        "colab_type": "code",
        "colab": {
          "base_uri": "https://localhost:8080/",
          "height": 1000
        },
        "outputId": "3bc4afa4-3ec2-46c1-bc01-9c6dcd199f3a"
      },
      "source": [
        "train_set"
      ],
      "execution_count": 16,
      "outputs": [
        {
          "output_type": "execute_result",
          "data": {
            "text/plain": [
              "[('9357+7544', '16901'),\n",
              " ('5427-9501', '-4074'),\n",
              " ('8456+9041', '17497'),\n",
              " ('7171+5177', '12348'),\n",
              " ('7958-2611', '5347'),\n",
              " ('1269+7514', '8783'),\n",
              " ('9552-7557', '1995'),\n",
              " ('4149-2064', '2085'),\n",
              " ('7660+3129', '10789'),\n",
              " ('4891-6375', '-1484'),\n",
              " ('4933+5449', '10382'),\n",
              " ('9579-8769', '810'),\n",
              " ('4862+2216', '7078'),\n",
              " ('3838-641', '3197'),\n",
              " ('840+1020', '1860'),\n",
              " ('7468-2225', '5243'),\n",
              " ('3855+215', '4070'),\n",
              " ('6269-8050', '-1781'),\n",
              " ('768+2190', '2958'),\n",
              " ('8191+1359', '9550'),\n",
              " ('2298+5624', '7922'),\n",
              " ('6842-7808', '-966'),\n",
              " ('1494-3234', '-1740'),\n",
              " ('1637+3817', '5454'),\n",
              " ('9003-6942', '2061'),\n",
              " ('2601-1081', '1520'),\n",
              " ('3170+1414', '4584'),\n",
              " ('8163-1729', '6434'),\n",
              " ('3323-9084', '-5761'),\n",
              " ('8480-5230', '3250'),\n",
              " ('8765+7416', '16181'),\n",
              " ('6414+4240', '10654'),\n",
              " ('4514+4947', '9461'),\n",
              " ('8449-7830', '619'),\n",
              " ('3962-2271', '1691'),\n",
              " ('7634-8803', '-1169'),\n",
              " ('487+803', '1290'),\n",
              " ('368-9077', '-8709'),\n",
              " ('9805-4470', '5335'),\n",
              " ('4002-8845', '-4843'),\n",
              " ('8909+7820', '16729'),\n",
              " ('7905+7596', '15501'),\n",
              " ('8812+5697', '14509'),\n",
              " ('9031+353', '9384'),\n",
              " ('8811-6905', '1906'),\n",
              " ('8782-9428', '-646'),\n",
              " ('8752+8107', '16859'),\n",
              " ('7023+316', '7339'),\n",
              " ('2795+4321', '7116'),\n",
              " ('35+5375', '5410'),\n",
              " ('7280+1047', '8327'),\n",
              " ('4144-7803', '-3659'),\n",
              " ('4545-1089', '3456'),\n",
              " ('9589+4831', '14420'),\n",
              " ('7122-8524', '-1402'),\n",
              " ('3073+4705', '7778'),\n",
              " ('146-2989', '-2843'),\n",
              " ('3759+4987', '8746'),\n",
              " ('9157-5968', '3189'),\n",
              " ('7315-9390', '-2075'),\n",
              " ('8102+4710', '12812'),\n",
              " ('2475-2368', '107'),\n",
              " ('9492+7563', '17055'),\n",
              " ('2034-3075', '-1041'),\n",
              " ('1722-2024', '-302'),\n",
              " ('5191-4705', '486'),\n",
              " ('6691-8126', '-1435'),\n",
              " ('9287+6363', '15650'),\n",
              " ('3530+6345', '9875'),\n",
              " ('8553+1552', '10105'),\n",
              " ('825-7168', '-6343'),\n",
              " ('2294+6331', '8625'),\n",
              " ('6705-9109', '-2404'),\n",
              " ('9327+2169', '11496'),\n",
              " ('2292-4965', '-2673'),\n",
              " ('3513-3152', '361'),\n",
              " ('8079+1428', '9507'),\n",
              " ('1231+8415', '9646'),\n",
              " ('6360+2329', '8689'),\n",
              " ('3549+9238', '12787'),\n",
              " ('3262+2447', '5709'),\n",
              " ('6873-5276', '1597'),\n",
              " ('8477+3519', '11996'),\n",
              " ('2864+490', '3354'),\n",
              " ('9468+5807', '15275'),\n",
              " ('1048-9441', '-8393'),\n",
              " ('6925-2886', '4039'),\n",
              " ('7598+9368', '16966'),\n",
              " ('6964+6897', '13861'),\n",
              " ('4157-4148', '9'),\n",
              " ('4982+5318', '10300'),\n",
              " ('2376+1398', '3774'),\n",
              " ('3715+7455', '11170'),\n",
              " ('4441-1710', '2731'),\n",
              " ('1696+8515', '10211'),\n",
              " ('4901-9805', '-4904'),\n",
              " ('7841+579', '8420'),\n",
              " ('3307+2944', '6251'),\n",
              " ('7178+2907', '10085'),\n",
              " ('8879-4435', '4444'),\n",
              " ('1183-988', '195'),\n",
              " ('1972+4545', '6517'),\n",
              " ('7878+165', '8043'),\n",
              " ('933+8368', '9301'),\n",
              " ('6601-9128', '-2527'),\n",
              " ('1026-4486', '-3460'),\n",
              " ('5275-5217', '58'),\n",
              " ('6693+9760', '16453'),\n",
              " ('950-193', '757'),\n",
              " ('2922-4424', '-1502'),\n",
              " ('9178+8369', '17547'),\n",
              " ('6351+9812', '16163'),\n",
              " ('1436-632', '804'),\n",
              " ('5676-118', '5558'),\n",
              " ('9995+9495', '19490'),\n",
              " ('3910-7181', '-3271'),\n",
              " ('8016-9210', '-1194'),\n",
              " ('1850+9915', '11765'),\n",
              " ('6253+7748', '14001'),\n",
              " ('4408-3255', '1153'),\n",
              " ('2342-3887', '-1545'),\n",
              " ('9032+1568', '10600'),\n",
              " ('5663-7052', '-1389'),\n",
              " ('9809-630', '9179'),\n",
              " ('2669-3653', '-984'),\n",
              " ('4973+6528', '11501'),\n",
              " ('5858+4502', '10360'),\n",
              " ('2626-2118', '508'),\n",
              " ('9244+2598', '11842'),\n",
              " ('4206+4117', '8323'),\n",
              " ('5114+5253', '10367'),\n",
              " ('4209+761', '4970'),\n",
              " ('6122-9570', '-3448'),\n",
              " ('960+8513', '9473'),\n",
              " ('2992-7540', '-4548'),\n",
              " ('3455+7032', '10487'),\n",
              " ('555-9410', '-8855'),\n",
              " ('8390-8417', '-27'),\n",
              " ('5714+3523', '9237'),\n",
              " ('1857+7297', '9154'),\n",
              " ('8014+8827', '16841'),\n",
              " ('5589-6060', '-471'),\n",
              " ('3852-6902', '-3050'),\n",
              " ('4840+5399', '10239'),\n",
              " ('9924+7308', '17232'),\n",
              " ('655+2803', '3458'),\n",
              " ('1847+7810', '9657'),\n",
              " ('2679-9652', '-6973'),\n",
              " ('8783+463', '9246'),\n",
              " ('7355-876', '6479'),\n",
              " ('2222-4909', '-2687'),\n",
              " ('933-9628', '-8695'),\n",
              " ('9099+1633', '10732'),\n",
              " ('7808-988', '6820'),\n",
              " ('9359+9669', '19028'),\n",
              " ('3675+8778', '12453'),\n",
              " ('7422-9213', '-1791'),\n",
              " ('3638-6571', '-2933'),\n",
              " ('7770+1832', '9602'),\n",
              " ('4875-9098', '-4223'),\n",
              " ('7680-9265', '-1585'),\n",
              " ('7591+5437', '13028'),\n",
              " ('9680-2951', '6729'),\n",
              " ('6273-6526', '-253'),\n",
              " ('2671-9023', '-6352'),\n",
              " ('8084+5947', '14031'),\n",
              " ('1536-7532', '-5996'),\n",
              " ('4087-207', '3880'),\n",
              " ('3687-4011', '-324'),\n",
              " ('7918+4024', '11942'),\n",
              " ('3713-1487', '2226'),\n",
              " ('1569+9239', '10808'),\n",
              " ('2962-5637', '-2675'),\n",
              " ('5456+7783', '13239'),\n",
              " ('3201-8087', '-4886'),\n",
              " ('141+3471', '3612'),\n",
              " ('8463-4065', '4398'),\n",
              " ('5276+997', '6273'),\n",
              " ('7826-4837', '2989'),\n",
              " ('4019-9647', '-5628'),\n",
              " ('7858-5670', '2188'),\n",
              " ('3212+7475', '10687'),\n",
              " ('4925+136', '5061'),\n",
              " ('3769-7250', '-3481'),\n",
              " ('2544+2388', '4932'),\n",
              " ('4087-3815', '272'),\n",
              " ('746+9987', '10733'),\n",
              " ('4976+9749', '14725'),\n",
              " ('4682+1431', '6113'),\n",
              " ('2879-7371', '-4492'),\n",
              " ('109+7023', '7132'),\n",
              " ('9895+8458', '18353'),\n",
              " ('960-7579', '-6619'),\n",
              " ('1910-8396', '-6486'),\n",
              " ('9733-5397', '4336'),\n",
              " ('7599-3021', '4578'),\n",
              " ('5095+4207', '9302'),\n",
              " ('6648-3762', '2886'),\n",
              " ('4755+8451', '13206'),\n",
              " ('5188+4633', '9821'),\n",
              " ('6141+4242', '10383'),\n",
              " ('7229-5179', '2050'),\n",
              " ('9556+2228', '11784'),\n",
              " ('6548-4057', '2491'),\n",
              " ('2223-116', '2107'),\n",
              " ('7833-6058', '1775'),\n",
              " ('2282-8597', '-6315'),\n",
              " ('6952+2776', '9728'),\n",
              " ('2644-6473', '-3829'),\n",
              " ('5549-2956', '2593'),\n",
              " ('3301+9743', '13044'),\n",
              " ('8832-3486', '5346'),\n",
              " ('4588-6256', '-1668'),\n",
              " ('1260+4332', '5592'),\n",
              " ('9712+2212', '11924'),\n",
              " ('3788-2902', '886'),\n",
              " ('5647+7593', '13240'),\n",
              " ('1986-5157', '-3171'),\n",
              " ('5778+8272', '14050'),\n",
              " ('3794+9518', '13312'),\n",
              " ('1795-9068', '-7273'),\n",
              " ('8736+9130', '17866'),\n",
              " ('4081-1803', '2278'),\n",
              " ('1384+4705', '6089'),\n",
              " ('7572-4881', '2691'),\n",
              " ('2107-4394', '-2287'),\n",
              " ('4689-772', '3917'),\n",
              " ('9060+8703', '17763'),\n",
              " ('1086-1097', '-11'),\n",
              " ('3070+8668', '11738'),\n",
              " ('3310-2145', '1165'),\n",
              " ('9242+1370', '10612'),\n",
              " ('6190+5296', '11486'),\n",
              " ('272+1469', '1741'),\n",
              " ('1884+8416', '10300'),\n",
              " ('5772-7926', '-2154'),\n",
              " ('9209+1930', '11139'),\n",
              " ('3547-2473', '1074'),\n",
              " ('3171+3783', '6954'),\n",
              " ('8298-8696', '-398'),\n",
              " ('9501+3554', '13055'),\n",
              " ('2433+6678', '9111'),\n",
              " ('6494-7577', '-1083'),\n",
              " ('7108-6647', '461'),\n",
              " ('1990-6665', '-4675'),\n",
              " ('9615+8718', '18333'),\n",
              " ('2482-9027', '-6545'),\n",
              " ('2798+7810', '10608'),\n",
              " ('2645+5875', '8520'),\n",
              " ('9356+8842', '18198'),\n",
              " ('7487+6984', '14471'),\n",
              " ('1148+7632', '8780'),\n",
              " ('3077-9474', '-6397'),\n",
              " ('4940-73', '4867'),\n",
              " ('5179+6675', '11854'),\n",
              " ('8786-6332', '2454'),\n",
              " ('7118-7230', '-112'),\n",
              " ('156-7794', '-7638'),\n",
              " ('9556+7174', '16730'),\n",
              " ('8831-7869', '962'),\n",
              " ('2852-7847', '-4995'),\n",
              " ('5430+3074', '8504'),\n",
              " ('2033+3780', '5813'),\n",
              " ('4230-9299', '-5069'),\n",
              " ('467-1345', '-878'),\n",
              " ('9858-9572', '286'),\n",
              " ('2880-1790', '1090'),\n",
              " ('489+2858', '3347'),\n",
              " ('108+3119', '3227'),\n",
              " ('5685+7805', '13490'),\n",
              " ('2365-284', '2081'),\n",
              " ('2818+1863', '4681'),\n",
              " ('5448+140', '5588'),\n",
              " ('4788-2870', '1918'),\n",
              " ('8631+6403', '15034'),\n",
              " ('4066-6147', '-2081'),\n",
              " ('4463+4116', '8579'),\n",
              " ('5878-2695', '3183'),\n",
              " ('861-5084', '-4223'),\n",
              " ('4229-836', '3393'),\n",
              " ('4575-2014', '2561'),\n",
              " ('9139+950', '10089'),\n",
              " ('8573+2348', '10921'),\n",
              " ('8248+8958', '17206'),\n",
              " ('2374+3184', '5558'),\n",
              " ('626+1566', '2192'),\n",
              " ('216-4216', '-4000'),\n",
              " ('7086-775', '6311'),\n",
              " ('8759+9965', '18724'),\n",
              " ('3139+117', '3256'),\n",
              " ('8637-7383', '1254'),\n",
              " ('1355-9596', '-8241'),\n",
              " ('563-5441', '-4878'),\n",
              " ('6002+467', '6469'),\n",
              " ('3488+7305', '10793'),\n",
              " ('5201-2980', '2221'),\n",
              " ('8524-9077', '-553'),\n",
              " ('9006-331', '8675'),\n",
              " ('1927-501', '1426'),\n",
              " ('9226-6487', '2739'),\n",
              " ('3098-3750', '-652'),\n",
              " ('8000+9327', '17327'),\n",
              " ('8307-2101', '6206'),\n",
              " ('3514+8554', '12068'),\n",
              " ('2713-7908', '-5195'),\n",
              " ('7159-6705', '454'),\n",
              " ('8331+5567', '13898'),\n",
              " ('364+5061', '5425'),\n",
              " ('9659+6454', '16113'),\n",
              " ('7045-3312', '3733'),\n",
              " ('4466-6226', '-1760'),\n",
              " ('3509-6178', '-2669'),\n",
              " ('6405+9973', '16378'),\n",
              " ('220+362', '582'),\n",
              " ('265-507', '-242'),\n",
              " ('2477-275', '2202'),\n",
              " ('4117-2348', '1769'),\n",
              " ('8424+3026', '11450'),\n",
              " ('7450+558', '8008'),\n",
              " ('719-4282', '-3563'),\n",
              " ('7924+3340', '11264'),\n",
              " ('5789+3720', '9509'),\n",
              " ('5676-6844', '-1168'),\n",
              " ('727-7537', '-6810'),\n",
              " ('5639-3734', '1905'),\n",
              " ('2870-6071', '-3201'),\n",
              " ('5498-3186', '2312'),\n",
              " ('380-4023', '-3643'),\n",
              " ('8655+5012', '13667'),\n",
              " ('2281+4208', '6489'),\n",
              " ('8381-5520', '2861'),\n",
              " ('3236-6177', '-2941'),\n",
              " ('4625+1674', '6299'),\n",
              " ('6522-6161', '361'),\n",
              " ('2442-213', '2229'),\n",
              " ('8987+4785', '13772'),\n",
              " ('3346-2990', '356'),\n",
              " ('4576+3852', '8428'),\n",
              " ('8310+3047', '11357'),\n",
              " ('9415-6699', '2716'),\n",
              " ('7077+5761', '12838'),\n",
              " ('7045+1421', '8466'),\n",
              " ('4332-8531', '-4199'),\n",
              " ('7712+3879', '11591'),\n",
              " ('7170-4254', '2916'),\n",
              " ('3307-4217', '-910'),\n",
              " ('889-2254', '-1365'),\n",
              " ('4943+1508', '6451'),\n",
              " ('481+7160', '7641'),\n",
              " ('8908+7683', '16591'),\n",
              " ('3876+1661', '5537'),\n",
              " ('5847-5327', '520'),\n",
              " ('3244+9636', '12880'),\n",
              " ('107+2446', '2553'),\n",
              " ('2662+3780', '6442'),\n",
              " ('9305-9302', '3'),\n",
              " ('8264-9696', '-1432'),\n",
              " ('7376+7155', '14531'),\n",
              " ('7405+7288', '14693'),\n",
              " ('9663+2744', '12407'),\n",
              " ('7134-9663', '-2529'),\n",
              " ('4231-8451', '-4220'),\n",
              " ('3549+6657', '10206'),\n",
              " ('8822-1344', '7478'),\n",
              " ('3975+2114', '6089'),\n",
              " ('5344-364', '4980'),\n",
              " ('1661+8184', '9845'),\n",
              " ('5443-7849', '-2406'),\n",
              " ('2043-3078', '-1035'),\n",
              " ('98-612', '-514'),\n",
              " ('2369+7781', '10150'),\n",
              " ('2280+8378', '10658'),\n",
              " ('6991+643', '7634'),\n",
              " ('2635-7518', '-4883'),\n",
              " ('4059+4488', '8547'),\n",
              " ('2550-3384', '-834'),\n",
              " ('4739-6153', '-1414'),\n",
              " ('3518-4286', '-768'),\n",
              " ('9134-7426', '1708'),\n",
              " ('8257-4508', '3749'),\n",
              " ('9277-6246', '3031'),\n",
              " ('5331-3555', '1776'),\n",
              " ('1992-4', '1988'),\n",
              " ('991-2285', '-1294'),\n",
              " ('6684-4845', '1839'),\n",
              " ('1872+2122', '3994'),\n",
              " ('9038-57', '8981'),\n",
              " ('4719+7045', '11764'),\n",
              " ('3791-7093', '-3302'),\n",
              " ('370-4308', '-3938'),\n",
              " ('8851-4931', '3920'),\n",
              " ('3963-7647', '-3684'),\n",
              " ('9111+6506', '15617'),\n",
              " ('232+8647', '8879'),\n",
              " ('3593-5128', '-1535'),\n",
              " ('8229+289', '8518'),\n",
              " ('1073+4118', '5191'),\n",
              " ('7867+9734', '17601'),\n",
              " ('4316+8358', '12674'),\n",
              " ('485+9386', '9871'),\n",
              " ('8499+2156', '10655'),\n",
              " ('4463+5376', '9839'),\n",
              " ('2341-7818', '-5477'),\n",
              " ('6674-9457', '-2783'),\n",
              " ('1507+4308', '5815'),\n",
              " ('1814+3835', '5649'),\n",
              " ('7129-8578', '-1449'),\n",
              " ('5082+9549', '14631'),\n",
              " ('237-2405', '-2168'),\n",
              " ('9155-5181', '3974'),\n",
              " ('9194+467', '9661'),\n",
              " ('3583+7886', '11469'),\n",
              " ('3051+9746', '12797'),\n",
              " ('9062-6779', '2283'),\n",
              " ('7439+7828', '15267'),\n",
              " ('2501+6050', '8551'),\n",
              " ('3396+3503', '6899'),\n",
              " ('4417-5981', '-1564'),\n",
              " ('473-8642', '-8169'),\n",
              " ('9149-4366', '4783'),\n",
              " ('7396+6403', '13799'),\n",
              " ('4276+8999', '13275'),\n",
              " ('6166+3313', '9479'),\n",
              " ('3074+3152', '6226'),\n",
              " ('5376+3409', '8785'),\n",
              " ('2126+908', '3034'),\n",
              " ('3183-6964', '-3781'),\n",
              " ('1552+4664', '6216'),\n",
              " ('2623-7884', '-5261'),\n",
              " ('1682-3144', '-1462'),\n",
              " ('1040+6711', '7751'),\n",
              " ('1966-905', '1061'),\n",
              " ('3541+5207', '8748'),\n",
              " ('7842+2161', '10003'),\n",
              " ('1013+5339', '6352'),\n",
              " ('4915+2249', '7164'),\n",
              " ('593-6669', '-6076'),\n",
              " ('9296-8271', '1025'),\n",
              " ('9277+8404', '17681'),\n",
              " ('9694-1655', '8039'),\n",
              " ('9176+4582', '13758'),\n",
              " ('3851-5590', '-1739'),\n",
              " ('4845+723', '5568'),\n",
              " ('1184-3556', '-2372'),\n",
              " ('1119+1757', '2876'),\n",
              " ('7015+7481', '14496'),\n",
              " ('7061+8402', '15463'),\n",
              " ('4720+2903', '7623'),\n",
              " ('999-3052', '-2053'),\n",
              " ('5837+7720', '13557'),\n",
              " ('927-7951', '-7024'),\n",
              " ('8904-4437', '4467'),\n",
              " ('5612-8686', '-3074'),\n",
              " ('6333+659', '6992'),\n",
              " ('2897-5843', '-2946'),\n",
              " ('5402-3357', '2045'),\n",
              " ('9405+2725', '12130'),\n",
              " ('278-3883', '-3605'),\n",
              " ('318+2665', '2983'),\n",
              " ('2365-6466', '-4101'),\n",
              " ('4840+5949', '10789'),\n",
              " ('1919+9314', '11233'),\n",
              " ('2899+9609', '12508'),\n",
              " ('4933-2640', '2293'),\n",
              " ('6948-3313', '3635'),\n",
              " ('1194+9476', '10670'),\n",
              " ('4029+6544', '10573'),\n",
              " ('5828+6387', '12215'),\n",
              " ('9263-4860', '4403'),\n",
              " ('4729-1537', '3192'),\n",
              " ('3009-5677', '-2668'),\n",
              " ('204+3402', '3606'),\n",
              " ('1345-258', '1087'),\n",
              " ('4902+804', '5706'),\n",
              " ('8348-8015', '333'),\n",
              " ('5937+9076', '15013'),\n",
              " ('7846-6932', '914'),\n",
              " ('1850+8421', '10271'),\n",
              " ('6434-4382', '2052'),\n",
              " ('6341+2576', '8917'),\n",
              " ('2013-3713', '-1700'),\n",
              " ('1574+9368', '10942'),\n",
              " ('5012-425', '4587'),\n",
              " ('8694-3653', '5041'),\n",
              " ('9670+6264', '15934'),\n",
              " ('6302-9536', '-3234'),\n",
              " ('9679-4613', '5066'),\n",
              " ('3793+8738', '12531'),\n",
              " ('2682-1592', '1090'),\n",
              " ('183+6929', '7112'),\n",
              " ('8682+9318', '18000'),\n",
              " ('8037+878', '8915'),\n",
              " ('8272+4993', '13265'),\n",
              " ('9031+2483', '11514'),\n",
              " ('3698-5605', '-1907'),\n",
              " ('6165+5735', '11900'),\n",
              " ('1119-9463', '-8344'),\n",
              " ('5616+9292', '14908'),\n",
              " ('4182-1982', '2200'),\n",
              " ('6937-1097', '5840'),\n",
              " ('6900+8617', '15517'),\n",
              " ('9127+6176', '15303'),\n",
              " ('5090-3614', '1476'),\n",
              " ('9766+5882', '15648'),\n",
              " ('9361-9092', '269'),\n",
              " ('2554+6356', '8910'),\n",
              " ('9149+9983', '19132'),\n",
              " ('6509+9893', '16402'),\n",
              " ('7094-6595', '499'),\n",
              " ('5947+9073', '15020'),\n",
              " ('4559-3926', '633'),\n",
              " ('5640-3996', '1644'),\n",
              " ('3751+2811', '6562'),\n",
              " ('2960-3040', '-80'),\n",
              " ('6771+1942', '8713'),\n",
              " ('9840+3402', '13242'),\n",
              " ('5159-7666', '-2507'),\n",
              " ('8363-4103', '4260'),\n",
              " ('6978+7942', '14920'),\n",
              " ('6420+9742', '16162'),\n",
              " ('6932+9496', '16428'),\n",
              " ('7006-2343', '4663'),\n",
              " ('9344-8549', '795'),\n",
              " ('7212-4256', '2956'),\n",
              " ('6547+3199', '9746'),\n",
              " ('9928-2829', '7099'),\n",
              " ('8756-2298', '6458'),\n",
              " ('1652+2188', '3840'),\n",
              " ('8780-6188', '2592'),\n",
              " ('4348+2272', '6620'),\n",
              " ('341+9995', '10336'),\n",
              " ('9065+7718', '16783'),\n",
              " ('8125+9938', '18063'),\n",
              " ('8394+6915', '15309'),\n",
              " ('6099+3025', '9124'),\n",
              " ('9824+1792', '11616'),\n",
              " ('3030+3983', '7013'),\n",
              " ('5348+4374', '9722'),\n",
              " ('4423+1896', '6319'),\n",
              " ('5054+2885', '7939'),\n",
              " ('5621-1531', '4090'),\n",
              " ('64-4553', '-4489'),\n",
              " ('851+8082', '8933'),\n",
              " ('8665+5121', '13786'),\n",
              " ('6604-608', '5996'),\n",
              " ('4021-2889', '1132'),\n",
              " ('2173+1389', '3562'),\n",
              " ('3389+6266', '9655'),\n",
              " ('1672-1306', '366'),\n",
              " ('2832-7978', '-5146'),\n",
              " ('9737-7842', '1895'),\n",
              " ('2706+2971', '5677'),\n",
              " ('7916-8024', '-108'),\n",
              " ('2154-1722', '432'),\n",
              " ('9125-1475', '7650'),\n",
              " ('8515+92', '8607'),\n",
              " ('829-4565', '-3736'),\n",
              " ('1005-999', '6'),\n",
              " ('2967+9659', '12626'),\n",
              " ('8047-1864', '6183'),\n",
              " ('4109-8511', '-4402'),\n",
              " ('150-3851', '-3701'),\n",
              " ('8908+1142', '10050'),\n",
              " ('6099+5624', '11723'),\n",
              " ('5267+4628', '9895'),\n",
              " ('2176-429', '1747'),\n",
              " ('3599-3502', '97'),\n",
              " ('9024+2746', '11770'),\n",
              " ('6822+5694', '12516'),\n",
              " ('4170-9496', '-5326'),\n",
              " ('4214-8489', '-4275'),\n",
              " ('4799-3270', '1529'),\n",
              " ('3134+6907', '10041'),\n",
              " ('4200-8105', '-3905'),\n",
              " ('1624+8859', '10483'),\n",
              " ('9825-94', '9731'),\n",
              " ('7407-1780', '5627'),\n",
              " ('8391+1373', '9764'),\n",
              " ('5825+6401', '12226'),\n",
              " ('3776-1962', '1814'),\n",
              " ('7277-631', '6646'),\n",
              " ('9303+3465', '12768'),\n",
              " ('4272+2575', '6847'),\n",
              " ('6554-2500', '4054'),\n",
              " ('4722+5825', '10547'),\n",
              " ('636-1031', '-395'),\n",
              " ('7870-809', '7061'),\n",
              " ('6693-3544', '3149'),\n",
              " ('388-9400', '-9012'),\n",
              " ('3341-4566', '-1225'),\n",
              " ('2143+2708', '4851'),\n",
              " ('1003+8880', '9883'),\n",
              " ('6057-9178', '-3121'),\n",
              " ('5736-7829', '-2093'),\n",
              " ('1553-2967', '-1414'),\n",
              " ('2501+974', '3475'),\n",
              " ('3277-8246', '-4969'),\n",
              " ('8581-4865', '3716'),\n",
              " ('7243-974', '6269'),\n",
              " ('9360+3874', '13234'),\n",
              " ('5783-1747', '4036'),\n",
              " ('1786-4572', '-2786'),\n",
              " ('9935+240', '10175'),\n",
              " ('8780+2648', '11428'),\n",
              " ('3710+2704', '6414'),\n",
              " ('4189+6327', '10516'),\n",
              " ('7500-181', '7319'),\n",
              " ('3555-9184', '-5629'),\n",
              " ('7195-5986', '1209'),\n",
              " ('4590-7009', '-2419'),\n",
              " ('5881-7187', '-1306'),\n",
              " ('4909-596', '4313'),\n",
              " ('1967+783', '2750'),\n",
              " ('4606-9344', '-4738'),\n",
              " ('264-3168', '-2904'),\n",
              " ('9673+229', '9902'),\n",
              " ('8010+7260', '15270'),\n",
              " ('7046+3633', '10679'),\n",
              " ('5242-4528', '714'),\n",
              " ('1729-6555', '-4826'),\n",
              " ('2874-5420', '-2546'),\n",
              " ('3747-4370', '-623'),\n",
              " ('7213-2900', '4313'),\n",
              " ('9556+736', '10292'),\n",
              " ('6904-5493', '1411'),\n",
              " ('3798+9667', '13465'),\n",
              " ('9792+8084', '17876'),\n",
              " ('3784+9130', '12914'),\n",
              " ('2750+9203', '11953'),\n",
              " ('6979+1666', '8645'),\n",
              " ('5976-6756', '-780'),\n",
              " ('8902+7446', '16348'),\n",
              " ('6654-1173', '5481'),\n",
              " ('1218+5277', '6495'),\n",
              " ('4076-2915', '1161'),\n",
              " ('8729-4010', '4719'),\n",
              " ('4899+6169', '11068'),\n",
              " ('2704+5733', '8437'),\n",
              " ('7629+9703', '17332'),\n",
              " ('6995+9435', '16430'),\n",
              " ('170-4523', '-4353'),\n",
              " ('4462-7421', '-2959'),\n",
              " ('9109+334', '9443'),\n",
              " ('5580-2282', '3298'),\n",
              " ('7886+2663', '10549'),\n",
              " ('6154+2422', '8576'),\n",
              " ('6688-6961', '-273'),\n",
              " ('6410-5744', '666'),\n",
              " ('9135-9493', '-358'),\n",
              " ('7362+4767', '12129'),\n",
              " ('2822+9267', '12089'),\n",
              " ('3961-3810', '151'),\n",
              " ('6780+4757', '11537'),\n",
              " ('4487+7309', '11796'),\n",
              " ('2358-2191', '167'),\n",
              " ('6449-8166', '-1717'),\n",
              " ('5614+6639', '12253'),\n",
              " ('4006+3330', '7336'),\n",
              " ('2225+6055', '8280'),\n",
              " ('2024-5282', '-3258'),\n",
              " ('1605-6985', '-5380'),\n",
              " ('2838-956', '1882'),\n",
              " ('5707-6140', '-433'),\n",
              " ('2169-1983', '186'),\n",
              " ('6382-3649', '2733'),\n",
              " ('1012-3988', '-2976'),\n",
              " ('9569+5559', '15128'),\n",
              " ('1277-9336', '-8059'),\n",
              " ('9473-7226', '2247'),\n",
              " ('9237-1638', '7599'),\n",
              " ('6658+8933', '15591'),\n",
              " ('5275+302', '5577'),\n",
              " ('9683-8682', '1001'),\n",
              " ('9500-7302', '2198'),\n",
              " ('4957+481', '5438'),\n",
              " ('2985+4410', '7395'),\n",
              " ('6412+9824', '16236'),\n",
              " ('3649+8701', '12350'),\n",
              " ('6723-8984', '-2261'),\n",
              " ('970-9678', '-8708'),\n",
              " ('799-9253', '-8454'),\n",
              " ('7933+7462', '15395'),\n",
              " ('2988-2832', '156'),\n",
              " ('5110+862', '5972'),\n",
              " ('8609-3492', '5117'),\n",
              " ('7719+5776', '13495'),\n",
              " ('7873+7230', '15103'),\n",
              " ('298-7498', '-7200'),\n",
              " ('750-5653', '-4903'),\n",
              " ('905+7076', '7981'),\n",
              " ('3330+1556', '4886'),\n",
              " ('196+3307', '3503'),\n",
              " ('7746-3617', '4129'),\n",
              " ('5758+5965', '11723'),\n",
              " ('2170-1651', '519'),\n",
              " ('2136-1997', '139'),\n",
              " ('6666-9923', '-3257'),\n",
              " ('808-3606', '-2798'),\n",
              " ('103+6799', '6902'),\n",
              " ('6092-8391', '-2299'),\n",
              " ('8536-4127', '4409'),\n",
              " ('7488+6521', '14009'),\n",
              " ('214-5596', '-5382'),\n",
              " ('8790+7765', '16555'),\n",
              " ('6870+2298', '9168'),\n",
              " ('1375-7256', '-5881'),\n",
              " ('9930+2822', '12752'),\n",
              " ('4027-3559', '468'),\n",
              " ('8975+7636', '16611'),\n",
              " ('9051+9275', '18326'),\n",
              " ('8590+6465', '15055'),\n",
              " ('9924-6037', '3887'),\n",
              " ('8007+7769', '15776'),\n",
              " ('7035-8698', '-1663'),\n",
              " ('9604-3164', '6440'),\n",
              " ('2110+9100', '11210'),\n",
              " ('3721+7920', '11641'),\n",
              " ('7475+1953', '9428'),\n",
              " ('5969+8257', '14226'),\n",
              " ('3701+9323', '13024'),\n",
              " ('6934-6071', '863'),\n",
              " ('9214+3876', '13090'),\n",
              " ('7905-588', '7317'),\n",
              " ('5265+482', '5747'),\n",
              " ('4664+7972', '12636'),\n",
              " ('6914-3741', '3173'),\n",
              " ('3154+5011', '8165'),\n",
              " ('8604+4454', '13058'),\n",
              " ('1781+966', '2747'),\n",
              " ('5632-2661', '2971'),\n",
              " ('3856-7314', '-3458'),\n",
              " ('3665+7630', '11295'),\n",
              " ('141-1663', '-1522'),\n",
              " ('9927-2453', '7474'),\n",
              " ('2259-6978', '-4719'),\n",
              " ('5105+2373', '7478'),\n",
              " ('2097+8626', '10723'),\n",
              " ('4213+7163', '11376'),\n",
              " ('5187+4617', '9804'),\n",
              " ('9625+7583', '17208'),\n",
              " ('8854-2021', '6833'),\n",
              " ('2494+720', '3214'),\n",
              " ('5527+5309', '10836'),\n",
              " ('8515-4658', '3857'),\n",
              " ('2626-1994', '632'),\n",
              " ('9421-1271', '8150'),\n",
              " ('1477-307', '1170'),\n",
              " ('6583-8314', '-1731'),\n",
              " ('3836-609', '3227'),\n",
              " ('4100-3351', '749'),\n",
              " ('5408+4453', '9861'),\n",
              " ('1106+789', '1895'),\n",
              " ('3842+5880', '9722'),\n",
              " ('9314+2731', '12045'),\n",
              " ('4576+1336', '5912'),\n",
              " ('5331+8087', '13418'),\n",
              " ('2796-9414', '-6618'),\n",
              " ('1078-315', '763'),\n",
              " ('7274+2128', '9402'),\n",
              " ('4671+1290', '5961'),\n",
              " ('2125-1245', '880'),\n",
              " ('4068-9741', '-5673'),\n",
              " ('7982-4890', '3092'),\n",
              " ('4161-5339', '-1178'),\n",
              " ('5822-7780', '-1958'),\n",
              " ('1683+3690', '5373'),\n",
              " ('4850-4505', '345'),\n",
              " ('8935+8532', '17467'),\n",
              " ('1775-3493', '-1718'),\n",
              " ('8896-8300', '596'),\n",
              " ('741-9730', '-8989'),\n",
              " ('7726-9762', '-2036'),\n",
              " ('8612-1936', '6676'),\n",
              " ('3343+3473', '6816'),\n",
              " ('6918-8601', '-1683'),\n",
              " ('1258+4199', '5457'),\n",
              " ('192-5516', '-5324'),\n",
              " ('9336+3440', '12776'),\n",
              " ('9230+9892', '19122'),\n",
              " ('231+6363', '6594'),\n",
              " ('4044-3423', '621'),\n",
              " ('6299+3871', '10170'),\n",
              " ('4679-1253', '3426'),\n",
              " ('2081-3380', '-1299'),\n",
              " ('6575-8505', '-1930'),\n",
              " ('9800-6772', '3028'),\n",
              " ('4276-6111', '-1835'),\n",
              " ('5740-8616', '-2876'),\n",
              " ('6240+6904', '13144'),\n",
              " ('6244+3885', '10129'),\n",
              " ('3212-5450', '-2238'),\n",
              " ('2370-648', '1722'),\n",
              " ('6706+8416', '15122'),\n",
              " ('5219+1685', '6904'),\n",
              " ('6987-6641', '346'),\n",
              " ('7410+7669', '15079'),\n",
              " ('2687-8228', '-5541'),\n",
              " ('9836-8644', '1192'),\n",
              " ('757-1136', '-379'),\n",
              " ('1362+315', '1677'),\n",
              " ('1916+9625', '11541'),\n",
              " ('8833-5129', '3704'),\n",
              " ('7226-7021', '205'),\n",
              " ('3671-3548', '123'),\n",
              " ('6364+5115', '11479'),\n",
              " ('1571+8487', '10058'),\n",
              " ('9505-2', '9503'),\n",
              " ('7296-4764', '2532'),\n",
              " ('3339-1868', '1471'),\n",
              " ('5191-8002', '-2811'),\n",
              " ('6849+5859', '12708'),\n",
              " ('4642+3431', '8073'),\n",
              " ('1773+5213', '6986'),\n",
              " ('4454+3950', '8404'),\n",
              " ('5336+7726', '13062'),\n",
              " ('4740-4875', '-135'),\n",
              " ('9387-4555', '4832'),\n",
              " ('9718+955', '10673'),\n",
              " ('9715+1722', '11437'),\n",
              " ('285+2191', '2476'),\n",
              " ('6274-2888', '3386'),\n",
              " ('3990-9717', '-5727'),\n",
              " ('5514+9926', '15440'),\n",
              " ('1983-170', '1813'),\n",
              " ('7668-2554', '5114'),\n",
              " ('8565+1726', '10291'),\n",
              " ('2563-9370', '-6807'),\n",
              " ('5164-4890', '274'),\n",
              " ('791-3353', '-2562'),\n",
              " ('6201+1204', '7405'),\n",
              " ('3630+5987', '9617'),\n",
              " ('3506-5491', '-1985'),\n",
              " ('8305-4049', '4256'),\n",
              " ('329+8806', '9135'),\n",
              " ('4905-6686', '-1781'),\n",
              " ('5338-5478', '-140'),\n",
              " ('3084-7924', '-4840'),\n",
              " ('9148-2215', '6933'),\n",
              " ('6332-6914', '-582'),\n",
              " ('978-2683', '-1705'),\n",
              " ('6414-221', '6193'),\n",
              " ('5457+9367', '14824'),\n",
              " ('4753+4814', '9567'),\n",
              " ('4462+9335', '13797'),\n",
              " ('8486+7315', '15801'),\n",
              " ('3263+7827', '11090'),\n",
              " ('8126+5853', '13979'),\n",
              " ('1207+5241', '6448'),\n",
              " ('3037-6464', '-3427'),\n",
              " ('7534-3247', '4287'),\n",
              " ('8858+4824', '13682'),\n",
              " ('5611-1915', '3696'),\n",
              " ('2832-1412', '1420'),\n",
              " ('9854-9585', '269'),\n",
              " ('3057-3636', '-579'),\n",
              " ('8269-1300', '6969'),\n",
              " ('3046+2015', '5061'),\n",
              " ('8963+9926', '18889'),\n",
              " ('2534+5320', '7854'),\n",
              " ('1891+9157', '11048'),\n",
              " ('7712+2140', '9852'),\n",
              " ('1254+5737', '6991'),\n",
              " ('8536-7512', '1024'),\n",
              " ('2064+9583', '11647'),\n",
              " ('4077+4743', '8820'),\n",
              " ('3220-9202', '-5982'),\n",
              " ('5434+3377', '8811'),\n",
              " ('4430+9234', '13664'),\n",
              " ('6323-305', '6018'),\n",
              " ('2889+9466', '12355'),\n",
              " ('6149-277', '5872'),\n",
              " ('2090-5326', '-3236'),\n",
              " ('3819-6233', '-2414'),\n",
              " ('2661-2476', '185'),\n",
              " ('5954-1209', '4745'),\n",
              " ('6528+2630', '9158'),\n",
              " ('7555-5042', '2513'),\n",
              " ('9869-9455', '414'),\n",
              " ('2314-40', '2274'),\n",
              " ('7176-2893', '4283'),\n",
              " ('7224-719', '6505'),\n",
              " ('8949-1111', '7838'),\n",
              " ('370-5047', '-4677'),\n",
              " ('8729-9202', '-473'),\n",
              " ('3294+2891', '6185'),\n",
              " ('7333+6358', '13691'),\n",
              " ('4612+7934', '12546'),\n",
              " ('8482+5513', '13995'),\n",
              " ('310-7592', '-7282'),\n",
              " ('4805+2494', '7299'),\n",
              " ('7139+2511', '9650'),\n",
              " ('1659-8402', '-6743'),\n",
              " ('274+8972', '9246'),\n",
              " ('3662-2573', '1089'),\n",
              " ('1523+6108', '7631'),\n",
              " ('8563-6706', '1857'),\n",
              " ('1940+2925', '4865'),\n",
              " ('9176+4876', '14052'),\n",
              " ('1667-2508', '-841'),\n",
              " ('2975+4208', '7183'),\n",
              " ('8135-4244', '3891'),\n",
              " ('6379-9065', '-2686'),\n",
              " ('8286+3490', '11776'),\n",
              " ('2056-1193', '863'),\n",
              " ('434-1203', '-769'),\n",
              " ('6801-5639', '1162'),\n",
              " ('4362+6535', '10897'),\n",
              " ('7429+9287', '16716'),\n",
              " ('6637+5928', '12565'),\n",
              " ('6556+5521', '12077'),\n",
              " ('3153+3367', '6520'),\n",
              " ('3690-7807', '-4117'),\n",
              " ('9502-1366', '8136'),\n",
              " ('4694+2886', '7580'),\n",
              " ('7761+2388', '10149'),\n",
              " ('5192+661', '5853'),\n",
              " ('4315-7022', '-2707'),\n",
              " ('4223-160', '4063'),\n",
              " ('5960+4862', '10822'),\n",
              " ('7296+3257', '10553'),\n",
              " ('4678+4917', '9595'),\n",
              " ('6813+195', '7008'),\n",
              " ('1916+2902', '4818'),\n",
              " ('6053+8845', '14898'),\n",
              " ('4745-1231', '3514'),\n",
              " ('923-2463', '-1540'),\n",
              " ('8042+8612', '16654'),\n",
              " ('7275+9846', '17121'),\n",
              " ('3980+4696', '8676'),\n",
              " ('2694-7298', '-4604'),\n",
              " ('9382+8579', '17961'),\n",
              " ('7260-7660', '-400'),\n",
              " ('8853+3144', '11997'),\n",
              " ('187-9526', '-9339'),\n",
              " ('6236+8522', '14758'),\n",
              " ('6132+4263', '10395'),\n",
              " ('3253+2502', '5755'),\n",
              " ('5226+576', '5802'),\n",
              " ('9718+3871', '13589'),\n",
              " ('8720+9059', '17779'),\n",
              " ('505-6322', '-5817'),\n",
              " ('829+8045', '8874'),\n",
              " ('7203-105', '7098'),\n",
              " ('2370-3368', '-998'),\n",
              " ('3477-5626', '-2149'),\n",
              " ('7363-8714', '-1351'),\n",
              " ('6906-2987', '3919'),\n",
              " ('7066+928', '7994'),\n",
              " ('9087+7030', '16117'),\n",
              " ('1952+8249', '10201'),\n",
              " ('769-4200', '-3431'),\n",
              " ('7442-3681', '3761'),\n",
              " ('5600+3437', '9037'),\n",
              " ('8955+2993', '11948'),\n",
              " ('8449-7103', '1346'),\n",
              " ('1228+1078', '2306'),\n",
              " ('1230-6142', '-4912'),\n",
              " ('2666+7975', '10641'),\n",
              " ('5975-807', '5168'),\n",
              " ('4049+4579', '8628'),\n",
              " ('53-9326', '-9273'),\n",
              " ('9243+5100', '14343'),\n",
              " ('3136-9921', '-6785'),\n",
              " ('259-9524', '-9265'),\n",
              " ('5095+7005', '12100'),\n",
              " ('644-2561', '-1917'),\n",
              " ('9775-3406', '6369'),\n",
              " ('933+8159', '9092'),\n",
              " ('2688-4583', '-1895'),\n",
              " ('6182-7401', '-1219'),\n",
              " ('6728-2576', '4152'),\n",
              " ('4480-5231', '-751'),\n",
              " ('547+2347', '2894'),\n",
              " ('3255+2354', '5609'),\n",
              " ('5778-5793', '-15'),\n",
              " ('815-489', '326'),\n",
              " ('9816-6413', '3403'),\n",
              " ('3370+6266', '9636'),\n",
              " ('2202-1490', '712'),\n",
              " ('9330-1327', '8003'),\n",
              " ('7449+7080', '14529'),\n",
              " ('1121-1757', '-636'),\n",
              " ('8639+6226', '14865'),\n",
              " ('8481+3017', '11498'),\n",
              " ('1797-4205', '-2408'),\n",
              " ('5289+3355', '8644'),\n",
              " ('4349+1241', '5590'),\n",
              " ('6838+2400', '9238'),\n",
              " ('2092+2852', '4944'),\n",
              " ('5304-5222', '82'),\n",
              " ('1948-4228', '-2280'),\n",
              " ('4222-3392', '830'),\n",
              " ('5858+8180', '14038'),\n",
              " ('2038-5588', '-3550'),\n",
              " ('6671+3426', '10097'),\n",
              " ('6627-5941', '686'),\n",
              " ('7918+845', '8763'),\n",
              " ('5496+2430', '7926'),\n",
              " ('9458+4994', '14452'),\n",
              " ('8387+9896', '18283'),\n",
              " ...]"
            ]
          },
          "metadata": {
            "tags": []
          },
          "execution_count": 16
        }
      ]
    },
    {
      "cell_type": "markdown",
      "metadata": {
        "id": "-UUGUKX7Yd1V",
        "colab_type": "text"
      },
      "source": [
        "## Prepare data for the neural network\n",
        "\n",
        "The next stage of data preparation is creating mappings of the characters to their indices in some vocabulary. Since in our task we already know which symbols will appear in the inputs and outputs, generating the vocabulary is a simple step.\n",
        "\n",
        "#### How to create dictionaries for other task\n",
        "\n",
        "First of all, you need to understand what is the basic unit of the sequence in your task. In our case, we operate on symbols and the basic unit is a symbol. The number of symbols is small, so we don't need to think about filtering/normalization steps. However, in other tasks, the basic unit is often a word, and in this case the mapping would be *word $\\to$ integer*. The number of words might be huge, so it would be reasonable to filter them, for example, by frequency and leave only the frequent ones. Other strategies that your should consider are: data normalization (lowercasing, tokenization, how to consider punctuation marks), separate vocabulary for input and for output (e.g. for machine translation), some specifics of the task."
      ]
    },
    {
      "cell_type": "code",
      "metadata": {
        "id": "hEcZV88FYd1W",
        "colab_type": "code",
        "colab": {}
      },
      "source": [
        "word2id = {symbol:i for i, symbol in enumerate('#^$+-1234567890')}\n",
        "id2word = {i:symbol for symbol, i in word2id.items()}"
      ],
      "execution_count": 17,
      "outputs": []
    },
    {
      "cell_type": "code",
      "metadata": {
        "id": "Hrw7PXxgfXC1",
        "colab_type": "code",
        "colab": {
          "base_uri": "https://localhost:8080/",
          "height": 272
        },
        "outputId": "3590db8f-c1bc-4fda-e0e8-9fda53cfdd1e"
      },
      "source": [
        "id2word"
      ],
      "execution_count": 19,
      "outputs": [
        {
          "output_type": "execute_result",
          "data": {
            "text/plain": [
              "{0: '#',\n",
              " 1: '^',\n",
              " 2: '$',\n",
              " 3: '+',\n",
              " 4: '-',\n",
              " 5: '1',\n",
              " 6: '2',\n",
              " 7: '3',\n",
              " 8: '4',\n",
              " 9: '5',\n",
              " 10: '6',\n",
              " 11: '7',\n",
              " 12: '8',\n",
              " 13: '9',\n",
              " 14: '0'}"
            ]
          },
          "metadata": {
            "tags": []
          },
          "execution_count": 19
        }
      ]
    },
    {
      "cell_type": "markdown",
      "metadata": {
        "id": "zBGVH93FYd1a",
        "colab_type": "text"
      },
      "source": [
        "#### Special symbols"
      ]
    },
    {
      "cell_type": "code",
      "metadata": {
        "id": "nNlTrq-nYd1b",
        "colab_type": "code",
        "colab": {}
      },
      "source": [
        "start_symbol = '^'\n",
        "end_symbol = '$'\n",
        "padding_symbol = '#'"
      ],
      "execution_count": 20,
      "outputs": []
    },
    {
      "cell_type": "markdown",
      "metadata": {
        "id": "WXVK6v1sYd1i",
        "colab_type": "text"
      },
      "source": [
        "You could notice that we have added 3 special symbols: '^', '\\$' and '#':\n",
        "- '^' symbol will be passed to the network to indicate the beginning of the decoding procedure. We will discuss this one later in more details.\n",
        "- '\\$' symbol will be used to indicate the *end of a string*, both for input and output sequences. \n",
        "- '#' symbol will be used as a *padding* character to make lengths of all strings equal within one training batch.\n",
        "\n",
        "People have a bit different habits when it comes to special symbols in encoder-decoder networks, so don't get too much confused if you come across other variants in tutorials you read. "
      ]
    },
    {
      "cell_type": "markdown",
      "metadata": {
        "id": "I0s2yPPjYd1j",
        "colab_type": "text"
      },
      "source": [
        "#### Padding"
      ]
    },
    {
      "cell_type": "markdown",
      "metadata": {
        "id": "saK8t4XVYd1l",
        "colab_type": "text"
      },
      "source": [
        "When vocabularies are ready, we need to be able to convert a sentence to a list of vocabulary word indices and back. At the same time, let's care about padding. We are going to preprocess each sequence from the input (and output ground truth) in such a way that:\n",
        "- it has a predefined length *padded_len*\n",
        "- it is probably cut off or padded with the *padding symbol* '#'\n",
        "- it *always* ends with the *end symbol* '$'\n",
        "\n",
        "We will treat the original characters of the sequence **and the end symbol** as the valid part of the input. We will store *the actual length* of the sequence, which includes the end symbol, but does not include the padding symbols. "
      ]
    },
    {
      "cell_type": "markdown",
      "metadata": {
        "id": "_xf9gHo8Yd1m",
        "colab_type": "text"
      },
      "source": [
        " Now you need to implement the function *sentence_to_ids* that does the described job. "
      ]
    },
    {
      "cell_type": "code",
      "metadata": {
        "id": "5qkMI2iUYd1n",
        "colab_type": "code",
        "colab": {}
      },
      "source": [
        "def sentence_to_ids(sentence, word2id, padded_len):\n",
        "    \"\"\" Converts a sequence of symbols to a padded sequence of their ids.\n",
        "    \n",
        "      sentence: a string, input/output sequence of symbols.\n",
        "      word2id: a dict, a mapping from original symbols to ids.\n",
        "      padded_len: an integer, a desirable length of the sequence.\n",
        "\n",
        "      result: a tuple of (a list of ids, an actual length of sentence).\n",
        "    \"\"\"\n",
        "    sent_ids=[]\n",
        "    sent_len=0\n",
        "    if len(sentence) < padded_len:\n",
        "      for i in range(len(sentence)):\n",
        "        sent_ids.append(word2id[sentence[i]])\n",
        "      sent_ids.append(2)\n",
        "      sent_len=len(sent_ids)\n",
        "      for _ in range(padded_len - (len(sentence)+1)):\n",
        "        sent_ids.append(0)\n",
        "    else:\n",
        "      for i in range(len(sentence)-1):\n",
        "        sent_ids.append(word2id[sentence[i]])\n",
        "      sent_ids.append(2)      \n",
        "      sent_len=padded_len\n",
        "    \n",
        "    return sent_ids, sent_len"
      ],
      "execution_count": 33,
      "outputs": []
    },
    {
      "cell_type": "markdown",
      "metadata": {
        "id": "ZTgUbdUNYd1x",
        "colab_type": "text"
      },
      "source": [
        "Check that your implementation is correct:"
      ]
    },
    {
      "cell_type": "code",
      "metadata": {
        "id": "5rVszm-aYd1y",
        "colab_type": "code",
        "colab": {}
      },
      "source": [
        "def test_sentence_to_ids():\n",
        "    sentences = [(\"123+123\", 7), (\"123+123\", 8), (\"123+123\", 10)]\n",
        "    expected_output = [([5, 6, 7, 3, 5, 6, 2], 7), \n",
        "                       ([5, 6, 7, 3, 5, 6, 7, 2], 8), \n",
        "                       ([5, 6, 7, 3, 5, 6, 7, 2, 0, 0], 8)] \n",
        "    for (sentence, padded_len), (sentence_ids, expected_length) in zip(sentences, expected_output):\n",
        "        output, length = sentence_to_ids(sentence, word2id, padded_len)\n",
        "        if output != sentence_ids:\n",
        "            return(\"Convertion of '{}' for padded_len={} to {} is incorrect.\".format(\n",
        "                sentence, padded_len, output))\n",
        "        if length != expected_length:\n",
        "            return(\"Convertion of '{}' for padded_len={} has incorrect actual length {}.\".format(\n",
        "                sentence, padded_len, length))\n",
        "    return(\"Tests passed.\")"
      ],
      "execution_count": 34,
      "outputs": []
    },
    {
      "cell_type": "code",
      "metadata": {
        "id": "PttkRrPnYd14",
        "colab_type": "code",
        "colab": {
          "base_uri": "https://localhost:8080/",
          "height": 34
        },
        "outputId": "f8ace972-0cd9-4e5d-ac66-8db7083af276"
      },
      "source": [
        "print(test_sentence_to_ids())"
      ],
      "execution_count": 35,
      "outputs": [
        {
          "output_type": "stream",
          "text": [
            "Tests passed.\n"
          ],
          "name": "stdout"
        }
      ]
    },
    {
      "cell_type": "markdown",
      "metadata": {
        "id": "vRZc98RbYd19",
        "colab_type": "text"
      },
      "source": [
        "We also need to be able to get back from indices to symbols:"
      ]
    },
    {
      "cell_type": "code",
      "metadata": {
        "id": "_zkeGqyqYd1_",
        "colab_type": "code",
        "colab": {}
      },
      "source": [
        "def ids_to_sentence(ids, id2word):\n",
        "    \"\"\" Converts a sequence of ids to a sequence of symbols.\n",
        "    \n",
        "          ids: a list, indices for the padded sequence.\n",
        "          id2word:  a dict, a mapping from ids to original symbols.\n",
        "\n",
        "          result: a list of symbols.\n",
        "    \"\"\"\n",
        " \n",
        "    return [id2word[i] for i in ids] "
      ],
      "execution_count": 36,
      "outputs": []
    },
    {
      "cell_type": "markdown",
      "metadata": {
        "id": "M-qPD14gYd2E",
        "colab_type": "text"
      },
      "source": [
        "#### Generating batches"
      ]
    },
    {
      "cell_type": "markdown",
      "metadata": {
        "id": "mHAvfbUpYd2E",
        "colab_type": "text"
      },
      "source": [
        "The final step of data preparation is a function that transforms a batch of sentences to a list of lists of indices. "
      ]
    },
    {
      "cell_type": "code",
      "metadata": {
        "id": "_0Akgb_tYd2F",
        "colab_type": "code",
        "colab": {}
      },
      "source": [
        "def batch_to_ids(sentences, word2id, max_len):\n",
        "    \"\"\"Prepares batches of indices. \n",
        "    \n",
        "       Sequences are padded to match the longest sequence in the batch,\n",
        "       if it's longer than max_len, then max_len is used instead.\n",
        "\n",
        "        sentences: a list of strings, original sequences.\n",
        "        word2id: a dict, a mapping from original symbols to ids.\n",
        "        max_len: an integer, max len of sequences allowed.\n",
        "\n",
        "        result: a list of lists of ids, a list of actual lengths.\n",
        "    \"\"\"\n",
        "    \n",
        "    max_len_in_batch = min(max(len(s) for s in sentences) + 1, max_len)\n",
        "    batch_ids, batch_ids_len = [], []\n",
        "    for sentence in sentences:\n",
        "        ids, ids_len = sentence_to_ids(sentence, word2id, max_len_in_batch)\n",
        "        batch_ids.append(ids)\n",
        "        batch_ids_len.append(ids_len)\n",
        "    return batch_ids, batch_ids_len"
      ],
      "execution_count": 37,
      "outputs": []
    },
    {
      "cell_type": "markdown",
      "metadata": {
        "id": "3C6TOvKzYd2L",
        "colab_type": "text"
      },
      "source": [
        "The function *generate_batches* will help to generate batches with defined size from given samples."
      ]
    },
    {
      "cell_type": "code",
      "metadata": {
        "id": "99BwAeh3Yd2M",
        "colab_type": "code",
        "colab": {}
      },
      "source": [
        "def generate_batches(samples, batch_size=64):\n",
        "    X, Y = [], []\n",
        "    for i, (x, y) in enumerate(samples, 1):\n",
        "        X.append(x)\n",
        "        Y.append(y)\n",
        "        if i % batch_size == 0:\n",
        "            yield X, Y\n",
        "            X, Y = [], []\n",
        "    if X and Y:\n",
        "        yield X, Y"
      ],
      "execution_count": 38,
      "outputs": []
    },
    {
      "cell_type": "markdown",
      "metadata": {
        "id": "_axK6QkQYd2R",
        "colab_type": "text"
      },
      "source": [
        "To illustrate the result of the implemented functions, run the following cell:"
      ]
    },
    {
      "cell_type": "code",
      "metadata": {
        "id": "YVqS2QTBYd2S",
        "colab_type": "code",
        "colab": {
          "base_uri": "https://localhost:8080/",
          "height": 68
        },
        "outputId": "8e50de8a-238c-4aae-972a-22678005304e"
      },
      "source": [
        "sentences = train_set[0]\n",
        "ids, sent_lens = batch_to_ids(sentences, word2id, max_len=10)\n",
        "print('Input:', sentences)\n",
        "print('Ids: {}\\nSentences lengths: {}'.format(ids, sent_lens))"
      ],
      "execution_count": 39,
      "outputs": [
        {
          "output_type": "stream",
          "text": [
            "Input: ('9357+7544', '16901')\n",
            "Ids: [[13, 7, 9, 11, 3, 11, 9, 8, 8, 2], [5, 10, 13, 14, 5, 2, 0, 0, 0, 0]]\n",
            "Sentences lengths: [10, 6]\n"
          ],
          "name": "stdout"
        }
      ]
    },
    {
      "cell_type": "markdown",
      "metadata": {
        "id": "rktR9PoBYd2X",
        "colab_type": "text"
      },
      "source": [
        "## Encoder-Decoder architecture\n",
        "\n",
        "Encoder-Decoder is a successful architecture for Seq2Seq tasks with different lengths of input and output sequences. The main idea is to use two recurrent neural networks, where the first neural network *encodes* the input sequence into a real-valued vector and then the second neural network *decodes* this vector into the output sequence. While building the neural network, we will specify some particular characteristics of this architecture."
      ]
    },
    {
      "cell_type": "code",
      "metadata": {
        "id": "l9TFvLt_Yd2Y",
        "colab_type": "code",
        "colab": {}
      },
      "source": [
        "import tensorflow as tf"
      ],
      "execution_count": null,
      "outputs": []
    },
    {
      "cell_type": "markdown",
      "metadata": {
        "id": "GcKqZDdUYd2c",
        "colab_type": "text"
      },
      "source": [
        "Let us use TensorFlow building blocks to specify the network architecture."
      ]
    },
    {
      "cell_type": "code",
      "metadata": {
        "id": "3tguIPjzYd2d",
        "colab_type": "code",
        "colab": {}
      },
      "source": [
        "class Seq2SeqModel(object):\n",
        "    pass"
      ],
      "execution_count": null,
      "outputs": []
    },
    {
      "cell_type": "markdown",
      "metadata": {
        "id": "y9zmKNF5Yd2i",
        "colab_type": "text"
      },
      "source": [
        "First, we need to create [placeholders](https://www.tensorflow.org/api_guides/python/io_ops#Placeholders) to specify what data we are going to feed into the network during the execution time. For this task we will need:\n",
        " - *input_batch* — sequences of sentences (the shape will equal to [batch_size, max_sequence_len_in_batch]);\n",
        " - *input_batch_lengths* — lengths of not padded sequences (the shape equals to [batch_size]);\n",
        " - *ground_truth* — sequences of groundtruth (the shape will equal to [batch_size, max_sequence_len_in_batch]);\n",
        " - *ground_truth_lengths* — lengths of not padded groundtruth sequences (the shape equals to [batch_size]);\n",
        " - *dropout_ph* — dropout keep probability; this placeholder has a predifined value 1;\n",
        " - *learning_rate_ph* — learning rate."
      ]
    },
    {
      "cell_type": "code",
      "metadata": {
        "id": "6AAhfowyYd2k",
        "colab_type": "code",
        "colab": {}
      },
      "source": [
        "def declare_placeholders(self):\n",
        "    \"\"\"Specifies placeholders for the model.\"\"\"\n",
        "    \n",
        "    # Placeholders for input and its actual lengths.\n",
        "    self.input_batch = tf.placeholder(shape=(None, None), dtype=tf.int32, name='input_batch')\n",
        "    self.input_batch_lengths = tf.placeholder(shape=(None, ), dtype=tf.int32, name='input_batch_lengths')\n",
        "    \n",
        "    # Placeholders for groundtruth and its actual lengths.\n",
        "    self.ground_truth = ######### YOUR CODE HERE #############\n",
        "    self.ground_truth_lengths = ######### YOUR CODE HERE #############\n",
        "        \n",
        "    self.dropout_ph = tf.placeholder_with_default(tf.cast(1.0, tf.float32), shape=[])\n",
        "    self.learning_rate_ph = ######### YOUR CODE HERE ############# "
      ],
      "execution_count": null,
      "outputs": []
    },
    {
      "cell_type": "code",
      "metadata": {
        "id": "54eJroTMYd2q",
        "colab_type": "code",
        "colab": {}
      },
      "source": [
        "Seq2SeqModel.__declare_placeholders = classmethod(declare_placeholders)"
      ],
      "execution_count": null,
      "outputs": []
    },
    {
      "cell_type": "markdown",
      "metadata": {
        "id": "EBo8B80-Yd20",
        "colab_type": "text"
      },
      "source": [
        "Now, let us specify the layers of the neural network. First, we need to prepare an embedding matrix. Since we use the same vocabulary for input and output, we need only one such matrix. For tasks with different vocabularies there would be multiple embedding layers.\n",
        "- Create embeddings matrix with [tf.Variable](https://www.tensorflow.org/api_docs/python/tf/Variable). Specify its name, type (tf.float32), and initialize with random values.\n",
        "- Perform [embeddings lookup](https://www.tensorflow.org/api_docs/python/tf/nn/embedding_lookup) for a given input batch."
      ]
    },
    {
      "cell_type": "code",
      "metadata": {
        "id": "nOrEfx7zYd21",
        "colab_type": "code",
        "colab": {}
      },
      "source": [
        "def create_embeddings(self, vocab_size, embeddings_size):\n",
        "    \"\"\"Specifies embeddings layer and embeds an input batch.\"\"\"\n",
        "     \n",
        "    random_initializer = tf.random_uniform((vocab_size, embeddings_size), -1.0, 1.0)\n",
        "    self.embeddings = ######### YOUR CODE HERE ############# \n",
        "    \n",
        "    # Perform embeddings lookup for self.input_batch. \n",
        "    self.input_batch_embedded = ######### YOUR CODE HERE ############# "
      ],
      "execution_count": null,
      "outputs": []
    },
    {
      "cell_type": "code",
      "metadata": {
        "id": "KlsjS-W_Yd27",
        "colab_type": "code",
        "colab": {}
      },
      "source": [
        "Seq2SeqModel.__create_embeddings = classmethod(create_embeddings)"
      ],
      "execution_count": null,
      "outputs": []
    },
    {
      "cell_type": "markdown",
      "metadata": {
        "id": "LZxs5aVUYd2_",
        "colab_type": "text"
      },
      "source": [
        "#### Encoder\n",
        "\n",
        "The first RNN of the current architecture is called an *encoder* and serves for encoding an input sequence to a real-valued vector. Input of this RNN is an embedded input batch. Since sentences in the same batch could have different actual lengths, we also provide input lengths to avoid unnecessary computations. The final encoder state will be passed to the second RNN (decoder), which we will create soon. \n",
        "\n",
        "- TensorFlow provides a number of [RNN cells](https://www.tensorflow.org/api_guides/python/contrib.rnn#Core_RNN_Cells_for_use_with_TensorFlow_s_core_RNN_methods) ready for use. We suggest that you use [GRU cell](https://www.tensorflow.org/api_docs/python/tf/contrib/rnn/GRUCell), but you can also experiment with other types. \n",
        "- Wrap your cells with [DropoutWrapper](https://www.tensorflow.org/api_docs/python/tf/contrib/rnn/DropoutWrapper). Dropout is an important regularization technique for neural networks. Specify input keep probability using the dropout placeholder that we created before.\n",
        "- Combine the defined encoder cells with [Dynamic RNN](https://www.tensorflow.org/api_docs/python/tf/nn/dynamic_rnn). Use the embedded input batches and their lengths here.\n",
        "- Use *dtype=tf.float32* everywhere."
      ]
    },
    {
      "cell_type": "code",
      "metadata": {
        "collapsed": true,
        "id": "70fTsD_dYd3A",
        "colab_type": "code",
        "colab": {}
      },
      "source": [
        "def build_encoder(self, hidden_size):\n",
        "    \"\"\"Specifies encoder architecture and computes its output.\"\"\"\n",
        "    \n",
        "    # Create GRUCell with dropout.\n",
        "    encoder_cell = ######### YOUR CODE HERE #############\n",
        "    \n",
        "    # Create RNN with the predefined cell.\n",
        "    _, self.final_encoder_state = ######### YOUR CODE HERE #############"
      ],
      "execution_count": null,
      "outputs": []
    },
    {
      "cell_type": "code",
      "metadata": {
        "collapsed": true,
        "id": "l8NcQUK1Yd3E",
        "colab_type": "code",
        "colab": {}
      },
      "source": [
        "Seq2SeqModel.__build_encoder = classmethod(build_encoder)"
      ],
      "execution_count": null,
      "outputs": []
    },
    {
      "cell_type": "markdown",
      "metadata": {
        "id": "-o85k4THYd3I",
        "colab_type": "text"
      },
      "source": [
        "#### Decoder\n",
        "\n",
        "The second RNN is called a *decoder* and serves for generating the output sequence. In the simple seq2seq arcitecture, the input sequence is provided to the decoder only as the final state of the encoder. Obviously, it is a bottleneck and [Attention techniques](https://www.tensorflow.org/tutorials/seq2seq#background_on_the_attention_mechanism) can help to overcome it. So far, we do not need them to make our calculator work, but this would be a necessary ingredient for more advanced tasks. \n",
        "\n",
        "During training, decoder also uses information about the true output. It is feeded in as input symbol by symbol. However, during the prediction stage (which is called *inference* in this architecture), the decoder can only use its own generated output from the previous step to feed it in at the next step. Because of this difference (*training* vs *inference*), we will create two distinct instances, which will serve for the described scenarios.\n",
        "\n",
        "The picture below illustrates the point. It also shows our work with the special characters, e.g. look how the start symbol `^` is used. The transparent parts are ignored. In decoder, it is masked out in the loss computation. In encoder, the green state is considered as final and passed to the decoder. "
      ]
    },
    {
      "cell_type": "markdown",
      "metadata": {
        "id": "g7n0Hh-4Yd3I",
        "colab_type": "text"
      },
      "source": [
        "<img src=\"https://github.com/srivatsakr21/natural-language-processing/blob/master/week4/encoder-decoder-pic.png?raw=1\" style=\"width: 500px;\">"
      ]
    },
    {
      "cell_type": "markdown",
      "metadata": {
        "id": "1Y49jx_TYd3J",
        "colab_type": "text"
      },
      "source": [
        "Now, it's time to implement the decoder:\n",
        " - First, we should create two [helpers](https://www.tensorflow.org/api_guides/python/contrib.seq2seq#Dynamic_Decoding). These classes help to determine the behaviour of the decoder. During the training time, we will use [TrainingHelper](https://www.tensorflow.org/api_docs/python/tf/contrib/seq2seq/TrainingHelper). For the inference we recommend to use [GreedyEmbeddingHelper](https://www.tensorflow.org/api_docs/python/tf/contrib/seq2seq/GreedyEmbeddingHelper).\n",
        " - To share all parameters during training and inference, we use one scope and set the flag 'reuse' to True at inference time. You might be interested to know more about how [variable scopes](https://www.tensorflow.org/programmers_guide/variables) work in TF. \n",
        " - To create the decoder itself, we will use [BasicDecoder](https://www.tensorflow.org/api_docs/python/tf/contrib/seq2seq/BasicDecoder) class. As previously, you should choose some RNN cell, e.g. GRU cell. To turn hidden states into logits, we will need a projection layer. One of the simple solutions is using [OutputProjectionWrapper](https://www.tensorflow.org/api_docs/python/tf/contrib/rnn/OutputProjectionWrapper).\n",
        " - For getting the predictions, it will be convinient to use [dynamic_decode](https://www.tensorflow.org/api_docs/python/tf/contrib/seq2seq/dynamic_decode). This function uses the provided decoder to perform decoding."
      ]
    },
    {
      "cell_type": "code",
      "metadata": {
        "collapsed": true,
        "id": "sUqlmBDBYd3K",
        "colab_type": "code",
        "colab": {}
      },
      "source": [
        "def build_decoder(self, hidden_size, vocab_size, max_iter, start_symbol_id, end_symbol_id):\n",
        "    \"\"\"Specifies decoder architecture and computes the output.\n",
        "    \n",
        "        Uses different helpers:\n",
        "          - for train: feeding ground truth\n",
        "          - for inference: feeding generated output\n",
        "\n",
        "        As a result, self.train_outputs and self.infer_outputs are created. \n",
        "        Each of them contains two fields:\n",
        "          rnn_output (predicted logits)\n",
        "          sample_id (predictions).\n",
        "\n",
        "    \"\"\"\n",
        "    \n",
        "    # Use start symbols as the decoder inputs at the first time step.\n",
        "    batch_size = tf.shape(self.input_batch)[0]\n",
        "    start_tokens = tf.fill([batch_size], start_symbol_id)\n",
        "    ground_truth_as_input = tf.concat([tf.expand_dims(start_tokens, 1), self.ground_truth], 1)\n",
        "    \n",
        "    # Use the embedding layer defined before to lookup embedings for ground_truth_as_input. \n",
        "    self.ground_truth_embedded = ######### YOUR CODE HERE #############\n",
        "     \n",
        "    # Create TrainingHelper for the train stage.\n",
        "    train_helper = tf.contrib.seq2seq.TrainingHelper(self.ground_truth_embedded, \n",
        "                                                     self.ground_truth_lengths)\n",
        "    \n",
        "    # Create GreedyEmbeddingHelper for the inference stage.\n",
        "    # You should provide the embedding layer, start_tokens and index of the end symbol.\n",
        "    infer_helper = ######### YOUR CODE HERE #############\n",
        "    \n",
        "  \n",
        "    def decode(helper, scope, reuse=None):\n",
        "        \"\"\"Creates decoder and return the results of the decoding with a given helper.\"\"\"\n",
        "        \n",
        "        with tf.variable_scope(scope, reuse=reuse):\n",
        "            # Create GRUCell with dropout. Do not forget to set the reuse flag properly.\n",
        "            decoder_cell = ######### YOUR CODE HERE #############\n",
        "            \n",
        "            # Create a projection wrapper.\n",
        "            decoder_cell = tf.contrib.rnn.OutputProjectionWrapper(decoder_cell, vocab_size, reuse=reuse)\n",
        "            \n",
        "            # Create BasicDecoder, pass the defined cell, a helper, and initial state.\n",
        "            # The initial state should be equal to the final state of the encoder!\n",
        "            decoder = ######### YOUR CODE HERE #############\n",
        "            \n",
        "            # The first returning argument of dynamic_decode contains two fields:\n",
        "            #   rnn_output (predicted logits)\n",
        "            #   sample_id (predictions)\n",
        "            outputs, _, _ = tf.contrib.seq2seq.dynamic_decode(decoder=decoder, maximum_iterations=max_iter, \n",
        "                                                              output_time_major=False, impute_finished=True)\n",
        "\n",
        "            return outputs\n",
        "        \n",
        "    self.train_outputs = decode(train_helper, 'decode')\n",
        "    self.infer_outputs = decode(infer_helper, 'decode', reuse=True)"
      ],
      "execution_count": null,
      "outputs": []
    },
    {
      "cell_type": "code",
      "metadata": {
        "collapsed": true,
        "id": "mKhOhF4EYd3R",
        "colab_type": "code",
        "colab": {}
      },
      "source": [
        "Seq2SeqModel.__build_decoder = classmethod(build_decoder)"
      ],
      "execution_count": null,
      "outputs": []
    },
    {
      "cell_type": "markdown",
      "metadata": {
        "id": "VNTjGH_AYd3X",
        "colab_type": "text"
      },
      "source": [
        "In this task we will use [sequence_loss](https://www.tensorflow.org/api_docs/python/tf/contrib/seq2seq/sequence_loss), which is a weighted cross-entropy loss for a sequence of logits. Take a moment to understand, what is your train logits and targets. Also note, that we do not want to take into account loss terms coming from padding symbols, so we will mask them out using weights.  "
      ]
    },
    {
      "cell_type": "code",
      "metadata": {
        "collapsed": true,
        "id": "teawAakiYd3Y",
        "colab_type": "code",
        "colab": {}
      },
      "source": [
        "def compute_loss(self):\n",
        "    \"\"\"Computes sequence loss (masked cross-entopy loss with logits).\"\"\"\n",
        "    \n",
        "    weights = tf.cast(tf.sequence_mask(self.ground_truth_lengths), dtype=tf.float32)\n",
        "    \n",
        "    self.loss = ######### YOUR CODE HERE #############"
      ],
      "execution_count": null,
      "outputs": []
    },
    {
      "cell_type": "code",
      "metadata": {
        "collapsed": true,
        "id": "o7XatTM2Yd3j",
        "colab_type": "code",
        "colab": {}
      },
      "source": [
        "Seq2SeqModel.__compute_loss = classmethod(compute_loss)"
      ],
      "execution_count": null,
      "outputs": []
    },
    {
      "cell_type": "markdown",
      "metadata": {
        "id": "zi0OU650Yd3n",
        "colab_type": "text"
      },
      "source": [
        "The last thing to specify is the optimization of the defined loss. \n",
        "We suggest that you use [optimize_loss](https://www.tensorflow.org/api_docs/python/tf/contrib/layers/optimize_loss) with Adam optimizer and a learning rate from the corresponding placeholder. You might also need to pass global step (e.g. as tf.train.get_global_step()) and clip gradients by 1.0."
      ]
    },
    {
      "cell_type": "code",
      "metadata": {
        "collapsed": true,
        "id": "x1IeQZhRYd3o",
        "colab_type": "code",
        "colab": {}
      },
      "source": [
        "def perform_optimization(self):\n",
        "    \"\"\"Specifies train_op that optimizes self.loss.\"\"\"\n",
        "    \n",
        "    self.train_op = ######### YOUR CODE HERE #############"
      ],
      "execution_count": null,
      "outputs": []
    },
    {
      "cell_type": "code",
      "metadata": {
        "collapsed": true,
        "id": "418Y6L5AYd3u",
        "colab_type": "code",
        "colab": {}
      },
      "source": [
        "Seq2SeqModel.__perform_optimization = classmethod(perform_optimization)"
      ],
      "execution_count": null,
      "outputs": []
    },
    {
      "cell_type": "markdown",
      "metadata": {
        "id": "niJRS85SYd3z",
        "colab_type": "text"
      },
      "source": [
        "Congratulations! You have specified all the parts of your network. You may have noticed, that we didn't deal with any real data yet, so what you have written is just recipies on how the network should function.\n",
        "Now we will put them to the constructor of our Seq2SeqModel class to use it in the next section. "
      ]
    },
    {
      "cell_type": "code",
      "metadata": {
        "collapsed": true,
        "id": "5SzwtEEfYd30",
        "colab_type": "code",
        "colab": {}
      },
      "source": [
        "def init_model(self, vocab_size, embeddings_size, hidden_size, \n",
        "               max_iter, start_symbol_id, end_symbol_id, padding_symbol_id):\n",
        "    \n",
        "    self.__declare_placeholders()\n",
        "    self.__create_embeddings(vocab_size, embeddings_size)\n",
        "    self.__build_encoder(hidden_size)\n",
        "    self.__build_decoder(hidden_size, vocab_size, max_iter, start_symbol_id, end_symbol_id)\n",
        "    \n",
        "    # Compute loss and back-propagate.\n",
        "    self.__compute_loss()\n",
        "    self.__perform_optimization()\n",
        "    \n",
        "    # Get predictions for evaluation.\n",
        "    self.train_predictions = self.train_outputs.sample_id\n",
        "    self.infer_predictions = self.infer_outputs.sample_id"
      ],
      "execution_count": null,
      "outputs": []
    },
    {
      "cell_type": "code",
      "metadata": {
        "collapsed": true,
        "id": "a3b7wDzzYd34",
        "colab_type": "code",
        "colab": {}
      },
      "source": [
        "Seq2SeqModel.__init__ = classmethod(init_model)"
      ],
      "execution_count": null,
      "outputs": []
    },
    {
      "cell_type": "markdown",
      "metadata": {
        "id": "YFZeafZxYd37",
        "colab_type": "text"
      },
      "source": [
        "## Train the network and predict output\n",
        "\n",
        "[Session.run](https://www.tensorflow.org/api_docs/python/tf/Session#run) is a point which initiates computations in the graph that we have defined. To train the network, we need to compute *self.train_op*. To predict output, we just need to compute *self.infer_predictions*. In any case, we need to feed actual data through the placeholders that we defined above. "
      ]
    },
    {
      "cell_type": "code",
      "metadata": {
        "id": "9QGq4aZkYd38",
        "colab_type": "code",
        "colab": {}
      },
      "source": [
        "def train_on_batch(self, session, X, X_seq_len, Y, Y_seq_len, learning_rate, dropout_keep_probability):\n",
        "    feed_dict = {\n",
        "            self.input_batch: X,\n",
        "            self.input_batch_lengths: X_seq_len,\n",
        "            self.ground_truth: Y,\n",
        "            self.ground_truth_lengths: Y_seq_len,\n",
        "            self.learning_rate_ph: learning_rate,\n",
        "            self.dropout_ph: dropout_keep_probability\n",
        "        }\n",
        "    pred, loss, _ = session.run([\n",
        "            self.train_predictions,\n",
        "            self.loss,\n",
        "            self.train_op], feed_dict=feed_dict)\n",
        "    return pred, loss"
      ],
      "execution_count": null,
      "outputs": []
    },
    {
      "cell_type": "code",
      "metadata": {
        "id": "ODFWEF1GYd4B",
        "colab_type": "code",
        "colab": {}
      },
      "source": [
        "Seq2SeqModel.train_on_batch = classmethod(train_on_batch)"
      ],
      "execution_count": null,
      "outputs": []
    },
    {
      "cell_type": "markdown",
      "metadata": {
        "id": "c1-urW70Yd4J",
        "colab_type": "text"
      },
      "source": [
        "We implemented two prediction functions: *predict_for_batch* and *predict_for_batch_with_loss*. The first one allows only to predict output for some input sequence, while the second one could compute loss because we provide also ground truth values. Both these functions might be useful since the first one could be used for predicting only, and the second one is helpful for validating results on not-training data during the training."
      ]
    },
    {
      "cell_type": "code",
      "metadata": {
        "id": "yG5j4x2xYd4K",
        "colab_type": "code",
        "colab": {}
      },
      "source": [
        "def predict_for_batch(self, session, X, X_seq_len):\n",
        "    feed_dict = ######### YOUR CODE HERE #############\n",
        "    pred = session.run([\n",
        "            self.infer_predictions\n",
        "        ], feed_dict=feed_dict)[0]\n",
        "    return pred\n",
        "\n",
        "def predict_for_batch_with_loss(self, session, X, X_seq_len, Y, Y_seq_len):\n",
        "    feed_dict = ######### YOUR CODE HERE #############\n",
        "    pred, loss = session.run([\n",
        "            self.infer_predictions,\n",
        "            self.loss,\n",
        "        ], feed_dict=feed_dict)\n",
        "    return pred, loss"
      ],
      "execution_count": null,
      "outputs": []
    },
    {
      "cell_type": "code",
      "metadata": {
        "id": "YB6d_e4CYd4S",
        "colab_type": "code",
        "colab": {}
      },
      "source": [
        "Seq2SeqModel.predict_for_batch = classmethod(predict_for_batch)\n",
        "Seq2SeqModel.predict_for_batch_with_loss = classmethod(predict_for_batch_with_loss)"
      ],
      "execution_count": null,
      "outputs": []
    },
    {
      "cell_type": "markdown",
      "metadata": {
        "id": "snP0nhkAYd4Z",
        "colab_type": "text"
      },
      "source": [
        "## Run your experiment\n",
        "\n",
        "Create *Seq2SeqModel* model with the following parameters:\n",
        " - *vocab_size* — number of tokens;\n",
        " - *embeddings_size* — dimension of embeddings, recommended value: 20;\n",
        " - *max_iter* — maximum number of steps in decoder, recommended value: 7;\n",
        " - *hidden_size* — size of hidden layers for RNN, recommended value: 512;\n",
        " - *start_symbol_id* — an index of the start token (`^`).\n",
        " - *end_symbol_id* — an index of the end token (`$`).\n",
        " - *padding_symbol_id* — an index of the padding token (`#`).\n",
        "\n",
        "Set hyperparameters. You might want to start with the following values and see how it works:\n",
        "- *batch_size*: 128;\n",
        "- at least 10 epochs;\n",
        "- value of *learning_rate*: 0.001\n",
        "- *dropout_keep_probability* equals to 0.5 for training (typical values for dropout probability are ranging from 0.1 to 1.0); larger values correspond smaler number of dropout units;\n",
        "- *max_len*: 20."
      ]
    },
    {
      "cell_type": "code",
      "metadata": {
        "id": "DV1BXNtkYd4a",
        "colab_type": "code",
        "colab": {}
      },
      "source": [
        "tf.reset_default_graph()\n",
        "\n",
        "model = ######### YOUR CODE HERE #############\n",
        "\n",
        "batch_size = ######### YOUR CODE HERE #############\n",
        "n_epochs = ######### YOUR CODE HERE #############\n",
        "learning_rate = ######### YOUR CODE HERE #############\n",
        "dropout_keep_probability = ######### YOUR CODE HERE #############\n",
        "max_len = ######### YOUR CODE HERE #############\n",
        "\n",
        "n_step = int(len(train_set) / batch_size)"
      ],
      "execution_count": null,
      "outputs": []
    },
    {
      "cell_type": "markdown",
      "metadata": {
        "id": "O7fMfXQrYd4i",
        "colab_type": "text"
      },
      "source": [
        "Finally, we are ready to run the training! A good indicator that everything works fine is decreasing loss during the training. You should account on the loss value equal to approximately 2.7 at the beginning of the training and near 1 after the 10th epoch."
      ]
    },
    {
      "cell_type": "code",
      "metadata": {
        "scrolled": true,
        "id": "y_2zVR0UYd4j",
        "colab_type": "code",
        "colab": {}
      },
      "source": [
        "session = tf.Session()\n",
        "session.run(tf.global_variables_initializer())\n",
        "            \n",
        "invalid_number_prediction_counts = []\n",
        "all_model_predictions = []\n",
        "all_ground_truth = []\n",
        "\n",
        "print('Start training... \\n')\n",
        "for epoch in range(n_epochs):  \n",
        "    random.shuffle(train_set)\n",
        "    random.shuffle(test_set)\n",
        "    \n",
        "    print('Train: epoch', epoch + 1)\n",
        "    for n_iter, (X_batch, Y_batch) in enumerate(generate_batches(train_set, batch_size=batch_size)):\n",
        "        ######################################\n",
        "        ######### YOUR CODE HERE #############\n",
        "        ######################################\n",
        "        # prepare the data (X_batch and Y_batch) for training\n",
        "        # using function batch_to_ids\n",
        "        predictions, loss = ######### YOUR CODE HERE #############\n",
        "        \n",
        "        if n_iter % 200 == 0:\n",
        "            print(\"Epoch: [%d/%d], step: [%d/%d], loss: %f\" % (epoch + 1, n_epochs, n_iter + 1, n_step, loss))\n",
        "                \n",
        "    X_sent, Y_sent = next(generate_batches(test_set, batch_size=batch_size))\n",
        "    ######################################\n",
        "    ######### YOUR CODE HERE #############\n",
        "    ######################################\n",
        "    # prepare test data (X_sent and Y_sent) for predicting \n",
        "    # quality and computing value of the loss function\n",
        "    # using function batch_to_ids\n",
        "    \n",
        "    predictions, loss = ######### YOUR CODE HERE #############\n",
        "    print('Test: epoch', epoch + 1, 'loss:', loss,)\n",
        "    for x, y, p  in list(zip(X, Y, predictions))[:3]:\n",
        "        print('X:',''.join(ids_to_sentence(x, id2word)))\n",
        "        print('Y:',''.join(ids_to_sentence(y, id2word)))\n",
        "        print('O:',''.join(ids_to_sentence(p, id2word)))\n",
        "        print('')\n",
        "\n",
        "    model_predictions = []\n",
        "    ground_truth = []\n",
        "    invalid_number_prediction_count = 0\n",
        "    # For the whole test set calculate ground-truth values (as integer numbers)\n",
        "    # and prediction values (also as integers) to calculate metrics.\n",
        "    # If generated by model number is not correct (e.g. '1-1'), \n",
        "    # increase invalid_number_prediction_count and don't append this and corresponding\n",
        "    # ground-truth value to the arrays.\n",
        "    for X_batch, Y_batch in generate_batches(test_set, batch_size=batch_size):\n",
        "        ######################################\n",
        "        ######### YOUR CODE HERE #############\n",
        "        ######################################\n",
        "    \n",
        "    all_model_predictions.append(model_predictions)\n",
        "    all_ground_truth.append(ground_truth)\n",
        "    invalid_number_prediction_counts.append(invalid_number_prediction_count)\n",
        "            \n",
        "print('\\n...training finished.')"
      ],
      "execution_count": null,
      "outputs": []
    },
    {
      "cell_type": "markdown",
      "metadata": {
        "id": "gd6SPhCfYd4o",
        "colab_type": "text"
      },
      "source": [
        "## Evaluate results\n",
        "\n",
        "Because our task is simple and the output is straight-forward, we will use [MAE](https://en.wikipedia.org/wiki/Mean_absolute_error) metric to evaluate the trained model during the epochs. Compute the value of the metric for the output from each epoch."
      ]
    },
    {
      "cell_type": "code",
      "metadata": {
        "id": "HrFDRjroYd4o",
        "colab_type": "code",
        "colab": {}
      },
      "source": [
        "from sklearn.metrics import mean_absolute_error"
      ],
      "execution_count": null,
      "outputs": []
    },
    {
      "cell_type": "code",
      "metadata": {
        "id": "jrZyB2EtYd4u",
        "colab_type": "code",
        "colab": {}
      },
      "source": [
        "for i, (gts, predictions, invalid_number_prediction_count) in enumerate(zip(all_ground_truth,\n",
        "                                                                            all_model_predictions,\n",
        "                                                                            invalid_number_prediction_counts), 1):\n",
        "    mae = ######### YOUR CODE HERE #############\n",
        "    print(\"Epoch: %i, MAE: %f, Invalid numbers: %i\" % (i, mae, invalid_number_prediction_count))"
      ],
      "execution_count": null,
      "outputs": []
    }
  ]
}