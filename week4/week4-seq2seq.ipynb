{
  "nbformat": 4,
  "nbformat_minor": 0,
  "metadata": {
    "kernelspec": {
      "display_name": "Python 3",
      "language": "python",
      "name": "python3"
    },
    "language_info": {
      "codemirror_mode": {
        "name": "ipython",
        "version": 3
      },
      "file_extension": ".py",
      "mimetype": "text/x-python",
      "name": "python",
      "nbconvert_exporter": "python",
      "pygments_lexer": "ipython3",
      "version": "3.4.3"
    },
    "colab": {
      "name": "week4-seq2seq.ipynb",
      "provenance": []
    }
  },
  "cells": [
    {
      "cell_type": "markdown",
      "metadata": {
        "id": "uo6GrjoUYd0W",
        "colab_type": "text"
      },
      "source": [
        "# Learn to calculate with seq2seq model\n",
        "\n",
        "In this assignment, you will learn how to use neural networks to solve sequence-to-sequence prediction tasks. Seq2Seq models are very popular these days because they achieve great results in Machine Translation, Text Summarization, Conversational Modeling and more.\n",
        "\n",
        "Using sequence-to-sequence modeling you are going to build a calculator for evaluating arithmetic expressions, by taking an equation as an input to the neural network and producing an answer as it's output.\n",
        "\n",
        "The resulting solution for this problem will be based on state-of-the-art approaches for sequence-to-sequence learning and you should be able to easily adapt it to solve other tasks. However, if you want to train your own machine translation system or intellectual chat bot, it would be useful to have access to compute resources like GPU, and be patient, because training of such systems is usually time consuming. \n",
        "\n",
        "### Libraries\n",
        "\n",
        "For this task you will need the following libraries:\n",
        " - [TensorFlow](https://www.tensorflow.org) — an open-source software library for Machine Intelligence.\n",
        " \n",
        "In this assignment, we use Tensorflow 1.15.0. You can install it with pip:\n",
        "\n",
        "    !pip install tensorflow==1.15.0\n",
        "     \n",
        " - [scikit-learn](http://scikit-learn.org/stable/index.html) — a tool for data mining and data analysis.\n",
        " \n",
        "If you have never worked with TensorFlow, you will probably want to read some tutorials during your work on this assignment, e.g. [Neural Machine Translation](https://www.tensorflow.org/tutorials/seq2seq) tutorial deals with very similar task and can explain some concepts to you. "
      ]
    },
    {
      "cell_type": "code",
      "metadata": {
        "id": "x6qBOZoHY8T3",
        "colab_type": "code",
        "colab": {
          "base_uri": "https://localhost:8080/",
          "height": 921
        },
        "outputId": "c3465e1c-1c89-46c1-da03-04e613217854"
      },
      "source": [
        "!pip install tensorflow==1.15.0"
      ],
      "execution_count": 1,
      "outputs": [
        {
          "output_type": "stream",
          "text": [
            "Collecting tensorflow==1.15.0\n",
            "\u001b[?25l  Downloading https://files.pythonhosted.org/packages/3f/98/5a99af92fb911d7a88a0005ad55005f35b4c1ba8d75fba02df726cd936e6/tensorflow-1.15.0-cp36-cp36m-manylinux2010_x86_64.whl (412.3MB)\n",
            "\u001b[K     |████████████████████████████████| 412.3MB 21kB/s \n",
            "\u001b[?25hRequirement already satisfied: google-pasta>=0.1.6 in /usr/local/lib/python3.6/dist-packages (from tensorflow==1.15.0) (0.2.0)\n",
            "Requirement already satisfied: opt-einsum>=2.3.2 in /usr/local/lib/python3.6/dist-packages (from tensorflow==1.15.0) (3.3.0)\n",
            "Requirement already satisfied: six>=1.10.0 in /usr/local/lib/python3.6/dist-packages (from tensorflow==1.15.0) (1.15.0)\n",
            "Requirement already satisfied: protobuf>=3.6.1 in /usr/local/lib/python3.6/dist-packages (from tensorflow==1.15.0) (3.12.4)\n",
            "Requirement already satisfied: grpcio>=1.8.6 in /usr/local/lib/python3.6/dist-packages (from tensorflow==1.15.0) (1.32.0)\n",
            "Requirement already satisfied: wheel>=0.26 in /usr/local/lib/python3.6/dist-packages (from tensorflow==1.15.0) (0.35.1)\n",
            "Collecting tensorflow-estimator==1.15.1\n",
            "\u001b[?25l  Downloading https://files.pythonhosted.org/packages/de/62/2ee9cd74c9fa2fa450877847ba560b260f5d0fb70ee0595203082dafcc9d/tensorflow_estimator-1.15.1-py2.py3-none-any.whl (503kB)\n",
            "\u001b[K     |████████████████████████████████| 512kB 31.3MB/s \n",
            "\u001b[?25hRequirement already satisfied: astor>=0.6.0 in /usr/local/lib/python3.6/dist-packages (from tensorflow==1.15.0) (0.8.1)\n",
            "Requirement already satisfied: keras-preprocessing>=1.0.5 in /usr/local/lib/python3.6/dist-packages (from tensorflow==1.15.0) (1.1.2)\n",
            "Collecting tensorboard<1.16.0,>=1.15.0\n",
            "\u001b[?25l  Downloading https://files.pythonhosted.org/packages/1e/e9/d3d747a97f7188f48aa5eda486907f3b345cd409f0a0850468ba867db246/tensorboard-1.15.0-py3-none-any.whl (3.8MB)\n",
            "\u001b[K     |████████████████████████████████| 3.8MB 37.1MB/s \n",
            "\u001b[?25hCollecting keras-applications>=1.0.8\n",
            "\u001b[?25l  Downloading https://files.pythonhosted.org/packages/71/e3/19762fdfc62877ae9102edf6342d71b28fbfd9dea3d2f96a882ce099b03f/Keras_Applications-1.0.8-py3-none-any.whl (50kB)\n",
            "\u001b[K     |████████████████████████████████| 51kB 3.3MB/s \n",
            "\u001b[?25hCollecting gast==0.2.2\n",
            "  Downloading https://files.pythonhosted.org/packages/4e/35/11749bf99b2d4e3cceb4d55ca22590b0d7c2c62b9de38ac4a4a7f4687421/gast-0.2.2.tar.gz\n",
            "Requirement already satisfied: numpy<2.0,>=1.16.0 in /usr/local/lib/python3.6/dist-packages (from tensorflow==1.15.0) (1.18.5)\n",
            "Requirement already satisfied: absl-py>=0.7.0 in /usr/local/lib/python3.6/dist-packages (from tensorflow==1.15.0) (0.10.0)\n",
            "Requirement already satisfied: termcolor>=1.1.0 in /usr/local/lib/python3.6/dist-packages (from tensorflow==1.15.0) (1.1.0)\n",
            "Requirement already satisfied: wrapt>=1.11.1 in /usr/local/lib/python3.6/dist-packages (from tensorflow==1.15.0) (1.12.1)\n",
            "Requirement already satisfied: setuptools in /usr/local/lib/python3.6/dist-packages (from protobuf>=3.6.1->tensorflow==1.15.0) (50.3.0)\n",
            "Requirement already satisfied: markdown>=2.6.8 in /usr/local/lib/python3.6/dist-packages (from tensorboard<1.16.0,>=1.15.0->tensorflow==1.15.0) (3.2.2)\n",
            "Requirement already satisfied: werkzeug>=0.11.15 in /usr/local/lib/python3.6/dist-packages (from tensorboard<1.16.0,>=1.15.0->tensorflow==1.15.0) (1.0.1)\n",
            "Requirement already satisfied: h5py in /usr/local/lib/python3.6/dist-packages (from keras-applications>=1.0.8->tensorflow==1.15.0) (2.10.0)\n",
            "Requirement already satisfied: importlib-metadata; python_version < \"3.8\" in /usr/local/lib/python3.6/dist-packages (from markdown>=2.6.8->tensorboard<1.16.0,>=1.15.0->tensorflow==1.15.0) (1.7.0)\n",
            "Requirement already satisfied: zipp>=0.5 in /usr/local/lib/python3.6/dist-packages (from importlib-metadata; python_version < \"3.8\"->markdown>=2.6.8->tensorboard<1.16.0,>=1.15.0->tensorflow==1.15.0) (3.1.0)\n",
            "Building wheels for collected packages: gast\n",
            "  Building wheel for gast (setup.py) ... \u001b[?25l\u001b[?25hdone\n",
            "  Created wheel for gast: filename=gast-0.2.2-cp36-none-any.whl size=7542 sha256=48b224ad9fde9f098c5f07d09a28f63eeab9e157f40e9589577371e982f5c66b\n",
            "  Stored in directory: /root/.cache/pip/wheels/5c/2e/7e/a1d4d4fcebe6c381f378ce7743a3ced3699feb89bcfbdadadd\n",
            "Successfully built gast\n",
            "\u001b[31mERROR: tensorflow-probability 0.11.0 has requirement gast>=0.3.2, but you'll have gast 0.2.2 which is incompatible.\u001b[0m\n",
            "Installing collected packages: tensorflow-estimator, tensorboard, keras-applications, gast, tensorflow\n",
            "  Found existing installation: tensorflow-estimator 2.3.0\n",
            "    Uninstalling tensorflow-estimator-2.3.0:\n",
            "      Successfully uninstalled tensorflow-estimator-2.3.0\n",
            "  Found existing installation: tensorboard 2.3.0\n",
            "    Uninstalling tensorboard-2.3.0:\n",
            "      Successfully uninstalled tensorboard-2.3.0\n",
            "  Found existing installation: gast 0.3.3\n",
            "    Uninstalling gast-0.3.3:\n",
            "      Successfully uninstalled gast-0.3.3\n",
            "  Found existing installation: tensorflow 2.3.0\n",
            "    Uninstalling tensorflow-2.3.0:\n",
            "      Successfully uninstalled tensorflow-2.3.0\n",
            "Successfully installed gast-0.2.2 keras-applications-1.0.8 tensorboard-1.15.0 tensorflow-1.15.0 tensorflow-estimator-1.15.1\n"
          ],
          "name": "stdout"
        }
      ]
    },
    {
      "cell_type": "code",
      "metadata": {
        "id": "bn9kI0skYd0a",
        "colab_type": "code",
        "colab": {
          "base_uri": "https://localhost:8080/",
          "height": 204
        },
        "outputId": "d91d04c6-04e1-43ba-b319-09ae2518b128"
      },
      "source": [
        "try:\n",
        "    import google.colab\n",
        "    IN_COLAB = True\n",
        "except:\n",
        "    IN_COLAB = False\n",
        "\n",
        "if IN_COLAB:\n",
        "    ! wget https://raw.githubusercontent.com/hse-aml/natural-language-processing/master/setup_google_colab.py -O setup_google_colab.py\n",
        "    import setup_google_colab\n",
        "    setup_google_colab.setup_week4()"
      ],
      "execution_count": 2,
      "outputs": [
        {
          "output_type": "stream",
          "text": [
            "--2020-09-20 11:11:31--  https://raw.githubusercontent.com/hse-aml/natural-language-processing/master/setup_google_colab.py\n",
            "Resolving raw.githubusercontent.com (raw.githubusercontent.com)... 151.101.0.133, 151.101.64.133, 151.101.128.133, ...\n",
            "Connecting to raw.githubusercontent.com (raw.githubusercontent.com)|151.101.0.133|:443... connected.\n",
            "HTTP request sent, awaiting response... 200 OK\n",
            "Length: 1939 (1.9K) [text/plain]\n",
            "Saving to: ‘setup_google_colab.py’\n",
            "\n",
            "setup_google_colab. 100%[===================>]   1.89K  --.-KB/s    in 0s      \n",
            "\n",
            "2020-09-20 11:11:31 (14.5 MB/s) - ‘setup_google_colab.py’ saved [1939/1939]\n",
            "\n"
          ],
          "name": "stdout"
        }
      ]
    },
    {
      "cell_type": "markdown",
      "metadata": {
        "id": "edaFZv6LYd0j",
        "colab_type": "text"
      },
      "source": [
        "### Data\n",
        "\n",
        "One benefit of this task is that you don't need to download any data — you will generate it on your own! We will use two operators (addition and subtraction) and work with positive integer numbers in some range. Here are examples of correct inputs and outputs:\n",
        "\n",
        "    Input: '1+2'\n",
        "    Output: '3'\n",
        "    \n",
        "    Input: '0-99'\n",
        "    Output: '-99'\n",
        "\n",
        "*Note, that there are no spaces between operators and operands.*\n",
        "\n",
        "\n",
        "Now you need to implement the function *generate_equations*, which will be used to generate the data."
      ]
    },
    {
      "cell_type": "code",
      "metadata": {
        "id": "XxZh3y1IYd0k",
        "colab_type": "code",
        "colab": {}
      },
      "source": [
        "import random\n",
        "import operator"
      ],
      "execution_count": 3,
      "outputs": []
    },
    {
      "cell_type": "code",
      "metadata": {
        "id": "KLI_YyTfYd0q",
        "colab_type": "code",
        "colab": {}
      },
      "source": [
        "def generate_equations(allowed_operators, dataset_size, min_value, max_value):\n",
        "    \"\"\"Generates pairs of equations and solutions to them.\n",
        "    \n",
        "       Each equation has a form of two integers with an operator in between.\n",
        "       Each solution is an integer with the result of the operaion.\n",
        "    \n",
        "        allowed_operators: list of strings, allowed operators.\n",
        "        dataset_size: an integer, number of equations to be generated.\n",
        "        min_value: an integer, min value of each operand.\n",
        "        max_value: an integer, max value of each operand.\n",
        "\n",
        "        result: a list of tuples of strings (equation, solution).\n",
        "    \"\"\"\n",
        "    sample = []\n",
        "    for _ in range(dataset_size):\n",
        "        ######################################\n",
        "        ######### YOUR CODE HERE #############\n",
        "        ######################################\n",
        "        a = random.randint(min_value,max_value)\n",
        "        op = random.choice(allowed_operators)\n",
        "        b = random.randint(min_value,max_value)\n",
        "        ops = {'+':operator.add,'-':operator.sub}\n",
        "        sol = ops[op](a,b)\n",
        "        sample.append((str(a)+op+str(b),str(sol)))\n",
        "\n",
        "    return sample"
      ],
      "execution_count": 4,
      "outputs": []
    },
    {
      "cell_type": "markdown",
      "metadata": {
        "id": "BC8HGV0bYd0z",
        "colab_type": "text"
      },
      "source": [
        "To check the correctness of your implementation, use *test_generate_equations* function:"
      ]
    },
    {
      "cell_type": "code",
      "metadata": {
        "id": "WpK0qhn4Yd01",
        "colab_type": "code",
        "colab": {}
      },
      "source": [
        "def test_generate_equations():\n",
        "    allowed_operators = ['+', '-']\n",
        "    dataset_size = 10\n",
        "    for (input_, output_) in generate_equations(allowed_operators, dataset_size, 0, 100):\n",
        "        if not (type(input_) is str and type(output_) is str):\n",
        "            return \"Both parts should be strings.\"\n",
        "        if eval(input_) != int(output_):\n",
        "            return \"The (equation: {!r}, solution: {!r}) pair is incorrect.\".format(input_, output_)\n",
        "    return \"Tests passed.\""
      ],
      "execution_count": 5,
      "outputs": []
    },
    {
      "cell_type": "code",
      "metadata": {
        "id": "FQPGg-DAYd0-",
        "colab_type": "code",
        "colab": {
          "base_uri": "https://localhost:8080/",
          "height": 34
        },
        "outputId": "0592702a-f936-4538-c7d0-2fe867f3b4a5"
      },
      "source": [
        "print(test_generate_equations())"
      ],
      "execution_count": 6,
      "outputs": [
        {
          "output_type": "stream",
          "text": [
            "Tests passed.\n"
          ],
          "name": "stdout"
        }
      ]
    },
    {
      "cell_type": "markdown",
      "metadata": {
        "id": "UT_HHUPiYd1F",
        "colab_type": "text"
      },
      "source": [
        "Finally, we are ready to generate the train and test data for the neural network:"
      ]
    },
    {
      "cell_type": "code",
      "metadata": {
        "id": "uABzVoS6Yd1G",
        "colab_type": "code",
        "colab": {}
      },
      "source": [
        "from sklearn.model_selection import train_test_split"
      ],
      "execution_count": 7,
      "outputs": []
    },
    {
      "cell_type": "code",
      "metadata": {
        "id": "DyYJg3qiYd1Q",
        "colab_type": "code",
        "colab": {}
      },
      "source": [
        "allowed_operators = ['+', '-']\n",
        "dataset_size = 100000\n",
        "data = generate_equations(allowed_operators, dataset_size, min_value=0, max_value=9999)\n",
        "\n",
        "train_set, test_set = train_test_split(data, test_size=0.2, random_state=42)"
      ],
      "execution_count": 8,
      "outputs": []
    },
    {
      "cell_type": "code",
      "metadata": {
        "id": "6htwwXJceY1V",
        "colab_type": "code",
        "colab": {
          "base_uri": "https://localhost:8080/",
          "height": 1000
        },
        "outputId": "491b1de0-4a13-436e-9be0-0a1ea746ed88"
      },
      "source": [
        "train_set"
      ],
      "execution_count": 9,
      "outputs": [
        {
          "output_type": "execute_result",
          "data": {
            "text/plain": [
              "[('7452-5051', '2401'),\n",
              " ('9295+916', '10211'),\n",
              " ('997+6803', '7800'),\n",
              " ('8131+516', '8647'),\n",
              " ('5389+8970', '14359'),\n",
              " ('150+7088', '7238'),\n",
              " ('9405+9047', '18452'),\n",
              " ('1178-7629', '-6451'),\n",
              " ('6787-1070', '5717'),\n",
              " ('4477+3874', '8351'),\n",
              " ('3878-413', '3465'),\n",
              " ('5222-1312', '3910'),\n",
              " ('5977+3772', '9749'),\n",
              " ('1902+7769', '9671'),\n",
              " ('6561+7751', '14312'),\n",
              " ('6708-9865', '-3157'),\n",
              " ('4315-9409', '-5094'),\n",
              " ('6284-467', '5817'),\n",
              " ('5064-9803', '-4739'),\n",
              " ('6980+6718', '13698'),\n",
              " ('2545+7954', '10499'),\n",
              " ('1738-2968', '-1230'),\n",
              " ('4314-9176', '-4862'),\n",
              " ('3937+7376', '11313'),\n",
              " ('9818-4203', '5615'),\n",
              " ('6071-4936', '1135'),\n",
              " ('8654-852', '7802'),\n",
              " ('5752+6317', '12069'),\n",
              " ('4217+17', '4234'),\n",
              " ('7068-463', '6605'),\n",
              " ('7209+7366', '14575'),\n",
              " ('2532+6101', '8633'),\n",
              " ('4623-2812', '1811'),\n",
              " ('2665+6522', '9187'),\n",
              " ('2803+1414', '4217'),\n",
              " ('1494+8727', '10221'),\n",
              " ('6795+4385', '11180'),\n",
              " ('7408-7992', '-584'),\n",
              " ('3850-3700', '150'),\n",
              " ('8463-8450', '13'),\n",
              " ('3321+6656', '9977'),\n",
              " ('8251+2400', '10651'),\n",
              " ('9143-8525', '618'),\n",
              " ('8982-321', '8661'),\n",
              " ('7937+7363', '15300'),\n",
              " ('2370-5672', '-3302'),\n",
              " ('5484+6153', '11637'),\n",
              " ('5582+7590', '13172'),\n",
              " ('1376-9205', '-7829'),\n",
              " ('4896+4192', '9088'),\n",
              " ('9943+3724', '13667'),\n",
              " ('811-1349', '-538'),\n",
              " ('4662+1232', '5894'),\n",
              " ('913+2235', '3148'),\n",
              " ('3362+3468', '6830'),\n",
              " ('5709-1527', '4182'),\n",
              " ('4517-5241', '-724'),\n",
              " ('5859+3696', '9555'),\n",
              " ('344-4525', '-4181'),\n",
              " ('2277-5569', '-3292'),\n",
              " ('7651-4762', '2889'),\n",
              " ('4576+1149', '5725'),\n",
              " ('4627-2505', '2122'),\n",
              " ('3120-6097', '-2977'),\n",
              " ('7171-8233', '-1062'),\n",
              " ('1809-7496', '-5687'),\n",
              " ('3689+312', '4001'),\n",
              " ('2356+4903', '7259'),\n",
              " ('6582-6468', '114'),\n",
              " ('6425-7702', '-1277'),\n",
              " ('6428-2023', '4405'),\n",
              " ('602-5345', '-4743'),\n",
              " ('4923-7331', '-2408'),\n",
              " ('5191+1915', '7106'),\n",
              " ('9838+8038', '17876'),\n",
              " ('7348-8996', '-1648'),\n",
              " ('1763+5864', '7627'),\n",
              " ('6430+3463', '9893'),\n",
              " ('8257-4307', '3950'),\n",
              " ('6008+117', '6125'),\n",
              " ('916-3836', '-2920'),\n",
              " ('3856+1031', '4887'),\n",
              " ('1917-3451', '-1534'),\n",
              " ('6882+6301', '13183'),\n",
              " ('7235+2642', '9877'),\n",
              " ('8299+6238', '14537'),\n",
              " ('3071-4041', '-970'),\n",
              " ('7368-1885', '5483'),\n",
              " ('5422-5974', '-552'),\n",
              " ('1010+3350', '4360'),\n",
              " ('477+1218', '1695'),\n",
              " ('2080-1082', '998'),\n",
              " ('5678+8503', '14181'),\n",
              " ('394-4419', '-4025'),\n",
              " ('6643-7316', '-673'),\n",
              " ('8260-4272', '3988'),\n",
              " ('2161+7636', '9797'),\n",
              " ('2240-7811', '-5571'),\n",
              " ('4609+4638', '9247'),\n",
              " ('2422+5806', '8228'),\n",
              " ('1441-935', '506'),\n",
              " ('7641-703', '6938'),\n",
              " ('1529+6718', '8247'),\n",
              " ('3298+9109', '12407'),\n",
              " ('5590-2841', '2749'),\n",
              " ('795+5175', '5970'),\n",
              " ('1877-1582', '295'),\n",
              " ('3741+718', '4459'),\n",
              " ('3898+7036', '10934'),\n",
              " ('2845-3945', '-1100'),\n",
              " ('9913-76', '9837'),\n",
              " ('602+4110', '4712'),\n",
              " ('5963+3116', '9079'),\n",
              " ('4455+1611', '6066'),\n",
              " ('9594-2077', '7517'),\n",
              " ('7350-2002', '5348'),\n",
              " ('3125+8209', '11334'),\n",
              " ('9915+6054', '15969'),\n",
              " ('4403-9426', '-5023'),\n",
              " ('6649+9999', '16648'),\n",
              " ('9228+7764', '16992'),\n",
              " ('5999+4313', '10312'),\n",
              " ('6812-5904', '908'),\n",
              " ('7021+93', '7114'),\n",
              " ('7883-9723', '-1840'),\n",
              " ('2485+789', '3274'),\n",
              " ('4664-719', '3945'),\n",
              " ('8678-9714', '-1036'),\n",
              " ('1989+8509', '10498'),\n",
              " ('2067-1765', '302'),\n",
              " ('8441-5699', '2742'),\n",
              " ('4420-7927', '-3507'),\n",
              " ('1316+3286', '4602'),\n",
              " ('9081-3433', '5648'),\n",
              " ('5228+8708', '13936'),\n",
              " ('285+9481', '9766'),\n",
              " ('6681+8659', '15340'),\n",
              " ('7459+7376', '14835'),\n",
              " ('1594+9165', '10759'),\n",
              " ('6545+9577', '16122'),\n",
              " ('6023+3232', '9255'),\n",
              " ('8548-1319', '7229'),\n",
              " ('2896+7751', '10647'),\n",
              " ('658-6822', '-6164'),\n",
              " ('4690+4913', '9603'),\n",
              " ('7110+4547', '11657'),\n",
              " ('5131-8280', '-3149'),\n",
              " ('4434-4133', '301'),\n",
              " ('3016-3165', '-149'),\n",
              " ('371+5450', '5821'),\n",
              " ('230+4409', '4639'),\n",
              " ('7834-868', '6966'),\n",
              " ('6653-4744', '1909'),\n",
              " ('7669-5094', '2575'),\n",
              " ('33-7043', '-7010'),\n",
              " ('9427+5829', '15256'),\n",
              " ('2275+903', '3178'),\n",
              " ('4003-4855', '-852'),\n",
              " ('3451+539', '3990'),\n",
              " ('3862-4403', '-541'),\n",
              " ('3241+9775', '13016'),\n",
              " ('748+5275', '6023'),\n",
              " ('4235+8642', '12877'),\n",
              " ('5764-9162', '-3398'),\n",
              " ('7368+3469', '10837'),\n",
              " ('2416-6622', '-4206'),\n",
              " ('748+3075', '3823'),\n",
              " ('6287-1292', '4995'),\n",
              " ('213+6729', '6942'),\n",
              " ('716-3144', '-2428'),\n",
              " ('9970+4263', '14233'),\n",
              " ('7962-4372', '3590'),\n",
              " ('2700-7978', '-5278'),\n",
              " ('2841-1381', '1460'),\n",
              " ('7690-7093', '597'),\n",
              " ('8997+7746', '16743'),\n",
              " ('7005-3378', '3627'),\n",
              " ('8893+1699', '10592'),\n",
              " ('2646+3217', '5863'),\n",
              " ('7625-9793', '-2168'),\n",
              " ('1036-9901', '-8865'),\n",
              " ('6916-8936', '-2020'),\n",
              " ('9688-971', '8717'),\n",
              " ('8435-9855', '-1420'),\n",
              " ('8858+2734', '11592'),\n",
              " ('8998+7178', '16176'),\n",
              " ('7753-3823', '3930'),\n",
              " ('5440+3825', '9265'),\n",
              " ('1191+8917', '10108'),\n",
              " ('4312+1771', '6083'),\n",
              " ('2568+619', '3187'),\n",
              " ('4737+3206', '7943'),\n",
              " ('179-221', '-42'),\n",
              " ('7196-3771', '3425'),\n",
              " ('7842+6854', '14696'),\n",
              " ('4505-6225', '-1720'),\n",
              " ('673-3870', '-3197'),\n",
              " ('9855-273', '9582'),\n",
              " ('5093+3448', '8541'),\n",
              " ('6876-6593', '283'),\n",
              " ('8304-7757', '547'),\n",
              " ('2868-842', '2026'),\n",
              " ('546-7920', '-7374'),\n",
              " ('9617+6173', '15790'),\n",
              " ('47+3844', '3891'),\n",
              " ('6498+4284', '10782'),\n",
              " ('5256-3175', '2081'),\n",
              " ('930+5637', '6567'),\n",
              " ('434-2879', '-2445'),\n",
              " ('6558-455', '6103'),\n",
              " ('517-5349', '-4832'),\n",
              " ('9115+5709', '14824'),\n",
              " ('1898-6621', '-4723'),\n",
              " ('4789-5477', '-688'),\n",
              " ('5649+23', '5672'),\n",
              " ('6601+2445', '9046'),\n",
              " ('5790-4514', '1276'),\n",
              " ('5339-7242', '-1903'),\n",
              " ('8256-7103', '1153'),\n",
              " ('420+1898', '2318'),\n",
              " ('4370+2060', '6430'),\n",
              " ('8954+5666', '14620'),\n",
              " ('4752+1909', '6661'),\n",
              " ('8928-7408', '1520'),\n",
              " ('7805-6110', '1695'),\n",
              " ('5932-5833', '99'),\n",
              " ('9528+3685', '13213'),\n",
              " ('6406+4214', '10620'),\n",
              " ('4874-3315', '1559'),\n",
              " ('7138+868', '8006'),\n",
              " ('1774-6545', '-4771'),\n",
              " ('7670+4211', '11881'),\n",
              " ('3434+2259', '5693'),\n",
              " ('2358-4393', '-2035'),\n",
              " ('4583+2578', '7161'),\n",
              " ('8041-8507', '-466'),\n",
              " ('5187+9025', '14212'),\n",
              " ('8545+1851', '10396'),\n",
              " ('3695-4030', '-335'),\n",
              " ('195+8825', '9020'),\n",
              " ('6600-8912', '-2312'),\n",
              " ('8200+2235', '10435'),\n",
              " ('8403+1552', '9955'),\n",
              " ('8485-4656', '3829'),\n",
              " ('6106-631', '5475'),\n",
              " ('5111-7555', '-2444'),\n",
              " ('1083+3438', '4521'),\n",
              " ('5996+3486', '9482'),\n",
              " ('8787-6781', '2006'),\n",
              " ('3174-4761', '-1587'),\n",
              " ('374-3729', '-3355'),\n",
              " ('9609-6636', '2973'),\n",
              " ('576-1068', '-492'),\n",
              " ('6009-8625', '-2616'),\n",
              " ('7940-6066', '1874'),\n",
              " ('1651+4907', '6558'),\n",
              " ('120+2846', '2966'),\n",
              " ('9747-3959', '5788'),\n",
              " ('5015-1973', '3042'),\n",
              " ('3047+8730', '11777'),\n",
              " ('3755-785', '2970'),\n",
              " ('9792+5352', '15144'),\n",
              " ('907-7611', '-6704'),\n",
              " ('4393-932', '3461'),\n",
              " ('6438+534', '6972'),\n",
              " ('2230-97', '2133'),\n",
              " ('2993+2557', '5550'),\n",
              " ('3953+8446', '12399'),\n",
              " ('2180-6647', '-4467'),\n",
              " ('8043-319', '7724'),\n",
              " ('5312+9482', '14794'),\n",
              " ('5772+614', '6386'),\n",
              " ('26+6650', '6676'),\n",
              " ('6545-8705', '-2160'),\n",
              " ('2924+7591', '10515'),\n",
              " ('3818+5839', '9657'),\n",
              " ('3620+299', '3919'),\n",
              " ('7259+5341', '12600'),\n",
              " ('84-9668', '-9584'),\n",
              " ('7743+8269', '16012'),\n",
              " ('1908-3426', '-1518'),\n",
              " ('6101-6522', '-421'),\n",
              " ('1301+9502', '10803'),\n",
              " ('390+253', '643'),\n",
              " ('305-529', '-224'),\n",
              " ('6206+1993', '8199'),\n",
              " ('5122-809', '4313'),\n",
              " ('5589-9269', '-3680'),\n",
              " ('6197-7722', '-1525'),\n",
              " ('4913-3401', '1512'),\n",
              " ('1387+824', '2211'),\n",
              " ('3221-8511', '-5290'),\n",
              " ('8473+1560', '10033'),\n",
              " ('2126-1223', '903'),\n",
              " ('8868-6285', '2583'),\n",
              " ('5210-5325', '-115'),\n",
              " ('4164+9030', '13194'),\n",
              " ('5039-4084', '955'),\n",
              " ('2696-4991', '-2295'),\n",
              " ('9205-6016', '3189'),\n",
              " ('6019+1976', '7995'),\n",
              " ('8886-7155', '1731'),\n",
              " ('1848-4801', '-2953'),\n",
              " ('6240-1623', '4617'),\n",
              " ('7724+6466', '14190'),\n",
              " ('3129+6118', '9247'),\n",
              " ('1696-8359', '-6663'),\n",
              " ('5652+4266', '9918'),\n",
              " ('9574+3152', '12726'),\n",
              " ('136+7226', '7362'),\n",
              " ('5894+1799', '7693'),\n",
              " ('9718-9992', '-274'),\n",
              " ('9678+5557', '15235'),\n",
              " ('4656+460', '5116'),\n",
              " ('9923+2118', '12041'),\n",
              " ('3483-764', '2719'),\n",
              " ('617-3925', '-3308'),\n",
              " ('803-5808', '-5005'),\n",
              " ('1530-274', '1256'),\n",
              " ('6716-8010', '-1294'),\n",
              " ('1256+9983', '11239'),\n",
              " ('2342+3842', '6184'),\n",
              " ('6332-2895', '3437'),\n",
              " ('7049-8624', '-1575'),\n",
              " ('5611+7021', '12632'),\n",
              " ('4475-8740', '-4265'),\n",
              " ('2888-6557', '-3669'),\n",
              " ('7844-8726', '-882'),\n",
              " ('6788-5461', '1327'),\n",
              " ('4304-2194', '2110'),\n",
              " ('9915-9649', '266'),\n",
              " ('8017-762', '7255'),\n",
              " ('4148-2456', '1692'),\n",
              " ('1306+604', '1910'),\n",
              " ('6064+891', '6955'),\n",
              " ('267+7210', '7477'),\n",
              " ('8057-1826', '6231'),\n",
              " ('9675-8031', '1644'),\n",
              " ('3189+1555', '4744'),\n",
              " ('1285+9604', '10889'),\n",
              " ('8631-3759', '4872'),\n",
              " ('6003+2718', '8721'),\n",
              " ('2900+3068', '5968'),\n",
              " ('4787-6187', '-1400'),\n",
              " ('7048+3604', '10652'),\n",
              " ('3724+5309', '9033'),\n",
              " ('4420+1906', '6326'),\n",
              " ('3235-6318', '-3083'),\n",
              " ('5753-9274', '-3521'),\n",
              " ('2697-8498', '-5801'),\n",
              " ('9101+8740', '17841'),\n",
              " ('8252-6265', '1987'),\n",
              " ('1137-3077', '-1940'),\n",
              " ('4428-813', '3615'),\n",
              " ('4939-4577', '362'),\n",
              " ('5068+9974', '15042'),\n",
              " ('115-5599', '-5484'),\n",
              " ('2241+5950', '8191'),\n",
              " ('2080-5852', '-3772'),\n",
              " ('1301-8900', '-7599'),\n",
              " ('409-990', '-581'),\n",
              " ('2650+4596', '7246'),\n",
              " ('5563+4287', '9850'),\n",
              " ('7586-1828', '5758'),\n",
              " ('4583-5646', '-1063'),\n",
              " ('9488-6439', '3049'),\n",
              " ('2307+846', '3153'),\n",
              " ('6829-9957', '-3128'),\n",
              " ('2162-3803', '-1641'),\n",
              " ('8452+5960', '14412'),\n",
              " ('6669-3042', '3627'),\n",
              " ('3341-1205', '2136'),\n",
              " ('706+1640', '2346'),\n",
              " ('6604+7282', '13886'),\n",
              " ('9855-8607', '1248'),\n",
              " ('8778+4359', '13137'),\n",
              " ('2314-1393', '921'),\n",
              " ('6331+7105', '13436'),\n",
              " ('2641-5762', '-3121'),\n",
              " ('3556+2834', '6390'),\n",
              " ('2333+3511', '5844'),\n",
              " ('9710+9672', '19382'),\n",
              " ('1687+1265', '2952'),\n",
              " ('5090-4997', '93'),\n",
              " ('8363-7342', '1021'),\n",
              " ('9654+6229', '15883'),\n",
              " ('5698+4732', '10430'),\n",
              " ('4096+1668', '5764'),\n",
              " ('5689-9436', '-3747'),\n",
              " ('7299-2253', '5046'),\n",
              " ('7364+4161', '11525'),\n",
              " ('7261-6152', '1109'),\n",
              " ('8121+2443', '10564'),\n",
              " ('5561+3193', '8754'),\n",
              " ('8963+62', '9025'),\n",
              " ('8884-2487', '6397'),\n",
              " ('6086+1131', '7217'),\n",
              " ('2266-4385', '-2119'),\n",
              " ('4436-4020', '416'),\n",
              " ('4685-8374', '-3689'),\n",
              " ('9444-800', '8644'),\n",
              " ('8995-382', '8613'),\n",
              " ('1356+9372', '10728'),\n",
              " ('8946-9118', '-172'),\n",
              " ('7622+4002', '11624'),\n",
              " ('6541-4846', '1695'),\n",
              " ('7498-6680', '818'),\n",
              " ('4396-89', '4307'),\n",
              " ('4300-1303', '2997'),\n",
              " ('6320+6773', '13093'),\n",
              " ('6025-5491', '534'),\n",
              " ('8091+7478', '15569'),\n",
              " ('5138-7144', '-2006'),\n",
              " ('468+6468', '6936'),\n",
              " ('5725-4038', '1687'),\n",
              " ('7595-8002', '-407'),\n",
              " ('7466-5858', '1608'),\n",
              " ('3268+9259', '12527'),\n",
              " ('5883-474', '5409'),\n",
              " ('6323-4462', '1861'),\n",
              " ('6829-4162', '2667'),\n",
              " ('3073+9009', '12082'),\n",
              " ('5413-2844', '2569'),\n",
              " ('886-8455', '-7569'),\n",
              " ('8194+432', '8626'),\n",
              " ('9772-7936', '1836'),\n",
              " ('5631+1076', '6707'),\n",
              " ('7648+3139', '10787'),\n",
              " ('9104+2359', '11463'),\n",
              " ('4558+1801', '6359'),\n",
              " ('2149-9264', '-7115'),\n",
              " ('7391+2348', '9739'),\n",
              " ('193-4554', '-4361'),\n",
              " ('1678-8815', '-7137'),\n",
              " ('2147-7488', '-5341'),\n",
              " ('5322+4317', '9639'),\n",
              " ('7079-4180', '2899'),\n",
              " ('2579+2066', '4645'),\n",
              " ('6414+8529', '14943'),\n",
              " ('5510+4324', '9834'),\n",
              " ('1198-9812', '-8614'),\n",
              " ('3725-3643', '82'),\n",
              " ('9503+1961', '11464'),\n",
              " ('247-2033', '-1786'),\n",
              " ('4434-4112', '322'),\n",
              " ('5852+1918', '7770'),\n",
              " ('3697-5848', '-2151'),\n",
              " ('1489+9444', '10933'),\n",
              " ('2240-7921', '-5681'),\n",
              " ('8042-5036', '3006'),\n",
              " ('4853-3192', '1661'),\n",
              " ('5229+8424', '13653'),\n",
              " ('2039-996', '1043'),\n",
              " ('4755+5260', '10015'),\n",
              " ('9110-9807', '-697'),\n",
              " ('4412-9948', '-5536'),\n",
              " ('9970-5298', '4672'),\n",
              " ('6801+9282', '16083'),\n",
              " ('1385+4306', '5691'),\n",
              " ('1807+5472', '7279'),\n",
              " ('709-6419', '-5710'),\n",
              " ('7184+1156', '8340'),\n",
              " ('9186-8268', '918'),\n",
              " ('228-6802', '-6574'),\n",
              " ('6002-3906', '2096'),\n",
              " ('9063-5162', '3901'),\n",
              " ('214-8224', '-8010'),\n",
              " ('1601-9783', '-8182'),\n",
              " ('4573+348', '4921'),\n",
              " ('7951+5701', '13652'),\n",
              " ('5163-1700', '3463'),\n",
              " ('5049+4580', '9629'),\n",
              " ('9091-7465', '1626'),\n",
              " ('8545+2858', '11403'),\n",
              " ('2322-9107', '-6785'),\n",
              " ('2863+3336', '6199'),\n",
              " ('9073+4574', '13647'),\n",
              " ('2566+8341', '10907'),\n",
              " ('2166-4270', '-2104'),\n",
              " ('7868+8192', '16060'),\n",
              " ('8-4501', '-4493'),\n",
              " ('9333+7908', '17241'),\n",
              " ('6694+9354', '16048'),\n",
              " ('8956-6395', '2561'),\n",
              " ('6567-852', '5715'),\n",
              " ('4829+3859', '8688'),\n",
              " ('2433-951', '1482'),\n",
              " ('190-1612', '-1422'),\n",
              " ('847-63', '784'),\n",
              " ('8919+8667', '17586'),\n",
              " ('9424+1391', '10815'),\n",
              " ('570-924', '-354'),\n",
              " ('8944+6342', '15286'),\n",
              " ('432-2016', '-1584'),\n",
              " ('7258-5274', '1984'),\n",
              " ('4215+9553', '13768'),\n",
              " ('2211-5239', '-3028'),\n",
              " ('3102-5795', '-2693'),\n",
              " ('3049+9421', '12470'),\n",
              " ('3382+8422', '11804'),\n",
              " ('62+1586', '1648'),\n",
              " ('8814+1197', '10011'),\n",
              " ('3413-8491', '-5078'),\n",
              " ('8787-6285', '2502'),\n",
              " ('1743+7298', '9041'),\n",
              " ('8775+593', '9368'),\n",
              " ('3720+3155', '6875'),\n",
              " ('7484+5425', '12909'),\n",
              " ('3975+7159', '11134'),\n",
              " ('9912-6100', '3812'),\n",
              " ('1781+9367', '11148'),\n",
              " ('955+1514', '2469'),\n",
              " ('4307+8013', '12320'),\n",
              " ('4666+1288', '5954'),\n",
              " ('812+5570', '6382'),\n",
              " ('5489+2724', '8213'),\n",
              " ('8777-7111', '1666'),\n",
              " ('6493+3562', '10055'),\n",
              " ('307-8793', '-8486'),\n",
              " ('3429+3896', '7325'),\n",
              " ('1542-9991', '-8449'),\n",
              " ('2755-5120', '-2365'),\n",
              " ('3706+9202', '12908'),\n",
              " ('309+1804', '2113'),\n",
              " ('777+9547', '10324'),\n",
              " ('637-2398', '-1761'),\n",
              " ('1628-8593', '-6965'),\n",
              " ('4632-4343', '289'),\n",
              " ('9803-3190', '6613'),\n",
              " ('5537+5231', '10768'),\n",
              " ('7463+9941', '17404'),\n",
              " ('5721+1415', '7136'),\n",
              " ('471+8982', '9453'),\n",
              " ('1636-8169', '-6533'),\n",
              " ('6613+3101', '9714'),\n",
              " ('3674-7480', '-3806'),\n",
              " ('1544+4200', '5744'),\n",
              " ('836+6267', '7103'),\n",
              " ('4598-9174', '-4576'),\n",
              " ('5128-5559', '-431'),\n",
              " ('9393-1108', '8285'),\n",
              " ('41-2979', '-2938'),\n",
              " ('9998+3260', '13258'),\n",
              " ('1590-7559', '-5969'),\n",
              " ('3736+7961', '11697'),\n",
              " ('7419-1500', '5919'),\n",
              " ('7146-9771', '-2625'),\n",
              " ('3558-9444', '-5886'),\n",
              " ('4359-8997', '-4638'),\n",
              " ('6134-7092', '-958'),\n",
              " ('1923-8396', '-6473'),\n",
              " ('4237-9982', '-5745'),\n",
              " ('9445-8946', '499'),\n",
              " ('5190-7736', '-2546'),\n",
              " ('8913+8738', '17651'),\n",
              " ('294-1181', '-887'),\n",
              " ('9265+9986', '19251'),\n",
              " ('3564+9622', '13186'),\n",
              " ('8393+1617', '10010'),\n",
              " ('2694+6725', '9419'),\n",
              " ('1240-8342', '-7102'),\n",
              " ('7465-499', '6966'),\n",
              " ('3967+6416', '10383'),\n",
              " ('2124+9606', '11730'),\n",
              " ('1374-5412', '-4038'),\n",
              " ('8141-175', '7966'),\n",
              " ('557-1553', '-996'),\n",
              " ('7-8805', '-8798'),\n",
              " ('3124-4346', '-1222'),\n",
              " ('949+5970', '6919'),\n",
              " ('1305+1242', '2547'),\n",
              " ('3851+1467', '5318'),\n",
              " ('2885-7013', '-4128'),\n",
              " ('7815+8261', '16076'),\n",
              " ('4354+5855', '10209'),\n",
              " ('2235+4562', '6797'),\n",
              " ('7431-5369', '2062'),\n",
              " ('7382-5761', '1621'),\n",
              " ('4148+4624', '8772'),\n",
              " ('4759+7878', '12637'),\n",
              " ('979+3008', '3987'),\n",
              " ('3166+6464', '9630'),\n",
              " ('3345-4421', '-1076'),\n",
              " ('4367+4808', '9175'),\n",
              " ('5484+2855', '8339'),\n",
              " ('3784-2591', '1193'),\n",
              " ('6951-968', '5983'),\n",
              " ('5222+6480', '11702'),\n",
              " ('994-5440', '-4446'),\n",
              " ('5654+8143', '13797'),\n",
              " ('5298+8443', '13741'),\n",
              " ('3720+9422', '13142'),\n",
              " ('7327+5074', '12401'),\n",
              " ('4230-9455', '-5225'),\n",
              " ('895+9851', '10746'),\n",
              " ('8129+1012', '9141'),\n",
              " ('4702+4514', '9216'),\n",
              " ('5347-6734', '-1387'),\n",
              " ('7609-3002', '4607'),\n",
              " ('137+305', '442'),\n",
              " ('6696-9775', '-3079'),\n",
              " ('2376+5086', '7462'),\n",
              " ('2786-5133', '-2347'),\n",
              " ('6929-6824', '105'),\n",
              " ('9144+8239', '17383'),\n",
              " ('7752-3500', '4252'),\n",
              " ('9222+3743', '12965'),\n",
              " ('9310-8010', '1300'),\n",
              " ('2503-4556', '-2053'),\n",
              " ('9026-5676', '3350'),\n",
              " ('3297-9398', '-6101'),\n",
              " ('7818+6025', '13843'),\n",
              " ('2947+9006', '11953'),\n",
              " ('7929+4671', '12600'),\n",
              " ('7207-7589', '-382'),\n",
              " ('5847-9926', '-4079'),\n",
              " ('5281-127', '5154'),\n",
              " ('7887+9269', '17156'),\n",
              " ('4458-1936', '2522'),\n",
              " ('5352+7345', '12697'),\n",
              " ('7717-6216', '1501'),\n",
              " ('8210-7716', '494'),\n",
              " ('2279-3561', '-1282'),\n",
              " ('1183+6488', '7671'),\n",
              " ('863-6701', '-5838'),\n",
              " ('7160+5651', '12811'),\n",
              " ('6273-3319', '2954'),\n",
              " ('894+3422', '4316'),\n",
              " ('5654+5772', '11426'),\n",
              " ('8831+5584', '14415'),\n",
              " ('544-9342', '-8798'),\n",
              " ('245+3307', '3552'),\n",
              " ('4708-5052', '-344'),\n",
              " ('9711+4246', '13957'),\n",
              " ('1176+4221', '5397'),\n",
              " ('98-3675', '-3577'),\n",
              " ('8849+5791', '14640'),\n",
              " ('9940+2853', '12793'),\n",
              " ('9282-4988', '4294'),\n",
              " ('1714+3522', '5236'),\n",
              " ('7795+1672', '9467'),\n",
              " ('7219-1381', '5838'),\n",
              " ('6441+9040', '15481'),\n",
              " ('1691-4455', '-2764'),\n",
              " ('8944+3222', '12166'),\n",
              " ('9979-82', '9897'),\n",
              " ('5023-2422', '2601'),\n",
              " ('3767-4608', '-841'),\n",
              " ('4233-344', '3889'),\n",
              " ('4381-9553', '-5172'),\n",
              " ('3923+1844', '5767'),\n",
              " ('1545+7490', '9035'),\n",
              " ('7222-9283', '-2061'),\n",
              " ('7235+9052', '16287'),\n",
              " ('9800-9224', '576'),\n",
              " ('4585-687', '3898'),\n",
              " ('8135-3085', '5050'),\n",
              " ('7283+5262', '12545'),\n",
              " ('7886+5633', '13519'),\n",
              " ('5463-3580', '1883'),\n",
              " ('9553-2340', '7213'),\n",
              " ('4296-1064', '3232'),\n",
              " ('3312+1346', '4658'),\n",
              " ('7820+4079', '11899'),\n",
              " ('9175+5088', '14263'),\n",
              " ('4848-2104', '2744'),\n",
              " ('4388+122', '4510'),\n",
              " ('69+676', '745'),\n",
              " ('5555-9557', '-4002'),\n",
              " ('3922-350', '3572'),\n",
              " ('9191-6301', '2890'),\n",
              " ('6227-5396', '831'),\n",
              " ('2080-2860', '-780'),\n",
              " ('3648+4334', '7982'),\n",
              " ('1485+1036', '2521'),\n",
              " ('7670+444', '8114'),\n",
              " ('5953-5167', '786'),\n",
              " ('9224-4069', '5155'),\n",
              " ('1581-6496', '-4915'),\n",
              " ('9358-7903', '1455'),\n",
              " ('4545-5656', '-1111'),\n",
              " ('7952-2176', '5776'),\n",
              " ('5573-3862', '1711'),\n",
              " ('3231-9714', '-6483'),\n",
              " ('5496+3799', '9295'),\n",
              " ('3483-907', '2576'),\n",
              " ('2054-7193', '-5139'),\n",
              " ('2472+560', '3032'),\n",
              " ('1925+2307', '4232'),\n",
              " ('4266+9661', '13927'),\n",
              " ('3919+2158', '6077'),\n",
              " ('8920+4786', '13706'),\n",
              " ('9678+4538', '14216'),\n",
              " ('5695+7124', '12819'),\n",
              " ('1848+7800', '9648'),\n",
              " ('3973-1485', '2488'),\n",
              " ('5512-9743', '-4231'),\n",
              " ('6194+3906', '10100'),\n",
              " ('4090-7072', '-2982'),\n",
              " ('1410+8416', '9826'),\n",
              " ('3923+6977', '10900'),\n",
              " ('7296+5334', '12630'),\n",
              " ('5118+9137', '14255'),\n",
              " ('843+2678', '3521'),\n",
              " ('1231-8811', '-7580'),\n",
              " ('6178-5317', '861'),\n",
              " ('7379-9617', '-2238'),\n",
              " ('5143+8054', '13197'),\n",
              " ('2868-4264', '-1396'),\n",
              " ('7344+7930', '15274'),\n",
              " ('8178+4484', '12662'),\n",
              " ('1447-1511', '-64'),\n",
              " ('2533-2842', '-309'),\n",
              " ('2955+501', '3456'),\n",
              " ('7842+4995', '12837'),\n",
              " ('2136-3666', '-1530'),\n",
              " ('2173+8033', '10206'),\n",
              " ('3857-5763', '-1906'),\n",
              " ('7709+8280', '15989'),\n",
              " ('9141+2964', '12105'),\n",
              " ('415+5068', '5483'),\n",
              " ('1526+7468', '8994'),\n",
              " ('4502+6757', '11259'),\n",
              " ('3693+4180', '7873'),\n",
              " ('7027-7068', '-41'),\n",
              " ('1782-8266', '-6484'),\n",
              " ('7854+3155', '11009'),\n",
              " ('6830-2012', '4818'),\n",
              " ('9533-4701', '4832'),\n",
              " ('4826-4878', '-52'),\n",
              " ('5325-1459', '3866'),\n",
              " ('7604+7994', '15598'),\n",
              " ('811+3699', '4510'),\n",
              " ('788-2034', '-1246'),\n",
              " ('7772+5897', '13669'),\n",
              " ('9501-6143', '3358'),\n",
              " ('9620+4000', '13620'),\n",
              " ('773+5051', '5824'),\n",
              " ('2508+2432', '4940'),\n",
              " ('1488-6388', '-4900'),\n",
              " ('7504-6835', '669'),\n",
              " ('6242+8522', '14764'),\n",
              " ('5840-8244', '-2404'),\n",
              " ('2125+9251', '11376'),\n",
              " ('7098-9709', '-2611'),\n",
              " ('5409-5545', '-136'),\n",
              " ('2316+4034', '6350'),\n",
              " ('3730+7003', '10733'),\n",
              " ('890-2756', '-1866'),\n",
              " ('7969-6607', '1362'),\n",
              " ('5131+941', '6072'),\n",
              " ('356-6320', '-5964'),\n",
              " ('8301-2175', '6126'),\n",
              " ('6053+6247', '12300'),\n",
              " ('7429+5538', '12967'),\n",
              " ('2339+4580', '6919'),\n",
              " ('8062+8925', '16987'),\n",
              " ('9338-8685', '653'),\n",
              " ('3838+7316', '11154'),\n",
              " ('6929-3687', '3242'),\n",
              " ('2148+5389', '7537'),\n",
              " ('349+8804', '9153'),\n",
              " ('5645+7201', '12846'),\n",
              " ('9393+7328', '16721'),\n",
              " ('295-1361', '-1066'),\n",
              " ('2840+1257', '4097'),\n",
              " ('8904+6937', '15841'),\n",
              " ('1425+8754', '10179'),\n",
              " ('6186-6903', '-717'),\n",
              " ('1686-3995', '-2309'),\n",
              " ('9224-3843', '5381'),\n",
              " ('8101-179', '7922'),\n",
              " ('9773+6316', '16089'),\n",
              " ('8859+1691', '10550'),\n",
              " ('4776+7710', '12486'),\n",
              " ('1100-4459', '-3359'),\n",
              " ('6905-4220', '2685'),\n",
              " ('6995+9118', '16113'),\n",
              " ('8014-7573', '441'),\n",
              " ('4417+8518', '12935'),\n",
              " ('1633-7877', '-6244'),\n",
              " ('6059-7543', '-1484'),\n",
              " ('625-8209', '-7584'),\n",
              " ('4951-2026', '2925'),\n",
              " ('1444+4403', '5847'),\n",
              " ('476+5435', '5911'),\n",
              " ('5620+9261', '14881'),\n",
              " ('4976-1699', '3277'),\n",
              " ('4080+1225', '5305'),\n",
              " ('9787+3571', '13358'),\n",
              " ('4417+6263', '10680'),\n",
              " ('9728-3418', '6310'),\n",
              " ('4975+5035', '10010'),\n",
              " ('4677+9185', '13862'),\n",
              " ('8159+4368', '12527'),\n",
              " ('4283-6014', '-1731'),\n",
              " ('2531+4698', '7229'),\n",
              " ('3311+5036', '8347'),\n",
              " ('5203-3549', '1654'),\n",
              " ('687+7947', '8634'),\n",
              " ('5650-3724', '1926'),\n",
              " ('4540-9660', '-5120'),\n",
              " ('2052-1081', '971'),\n",
              " ('3617+6302', '9919'),\n",
              " ('3458+3436', '6894'),\n",
              " ('2287-551', '1736'),\n",
              " ('6094-6810', '-716'),\n",
              " ('8255+5645', '13900'),\n",
              " ('1747-9348', '-7601'),\n",
              " ('2981-5593', '-2612'),\n",
              " ('9270-9078', '192'),\n",
              " ('1309+9189', '10498'),\n",
              " ('1288-5823', '-4535'),\n",
              " ('1818+8950', '10768'),\n",
              " ('325+8267', '8592'),\n",
              " ('2850-6964', '-4114'),\n",
              " ('7371+4467', '11838'),\n",
              " ('749-8138', '-7389'),\n",
              " ('3308-8122', '-4814'),\n",
              " ('8417-356', '8061'),\n",
              " ('3185+475', '3660'),\n",
              " ('6005+0', '6005'),\n",
              " ('6538+8473', '15011'),\n",
              " ('8199-4757', '3442'),\n",
              " ('1819+1727', '3546'),\n",
              " ('6291-7077', '-786'),\n",
              " ('4166-5459', '-1293'),\n",
              " ('992-9976', '-8984'),\n",
              " ('159+9480', '9639'),\n",
              " ('7825-9332', '-1507'),\n",
              " ('1168+3112', '4280'),\n",
              " ('97-4231', '-4134'),\n",
              " ('9673+4831', '14504'),\n",
              " ('698+6486', '7184'),\n",
              " ('3358+780', '4138'),\n",
              " ('5913-4974', '939'),\n",
              " ('8395-7046', '1349'),\n",
              " ('568-8772', '-8204'),\n",
              " ('3920-2564', '1356'),\n",
              " ('5366-7719', '-2353'),\n",
              " ('497+7420', '7917'),\n",
              " ('1449+695', '2144'),\n",
              " ('8200-8552', '-352'),\n",
              " ('3610+9733', '13343'),\n",
              " ('6529-9048', '-2519'),\n",
              " ('7434+9449', '16883'),\n",
              " ('1696-5484', '-3788'),\n",
              " ('2569+9437', '12006'),\n",
              " ('6746+7400', '14146'),\n",
              " ('6932+9035', '15967'),\n",
              " ('1274+7494', '8768'),\n",
              " ('2346+6743', '9089'),\n",
              " ('1979+6305', '8284'),\n",
              " ('7614+7800', '15414'),\n",
              " ('4114-3352', '762'),\n",
              " ('5769-7812', '-2043'),\n",
              " ('6600-64', '6536'),\n",
              " ('9820+1642', '11462'),\n",
              " ('6417+8321', '14738'),\n",
              " ('9426-2499', '6927'),\n",
              " ('6901-7100', '-199'),\n",
              " ('2381+5803', '8184'),\n",
              " ('399-20', '379'),\n",
              " ('9374+6087', '15461'),\n",
              " ('8792-7203', '1589'),\n",
              " ('3245+8514', '11759'),\n",
              " ('9367-7991', '1376'),\n",
              " ('9558-3198', '6360'),\n",
              " ('4306+2313', '6619'),\n",
              " ('6826-9213', '-2387'),\n",
              " ('5082-4060', '1022'),\n",
              " ('2942-3697', '-755'),\n",
              " ('8060-9332', '-1272'),\n",
              " ('919+8202', '9121'),\n",
              " ('9165-843', '8322'),\n",
              " ('3680-3831', '-151'),\n",
              " ('3982+9126', '13108'),\n",
              " ('551-3265', '-2714'),\n",
              " ('2203+5407', '7610'),\n",
              " ('7195-7380', '-185'),\n",
              " ('2709-383', '2326'),\n",
              " ('2138-8326', '-6188'),\n",
              " ('1126-5307', '-4181'),\n",
              " ('2261-7244', '-4983'),\n",
              " ('8031-9508', '-1477'),\n",
              " ('4847+3053', '7900'),\n",
              " ('2098+9639', '11737'),\n",
              " ('5049-5776', '-727'),\n",
              " ('9537-9365', '172'),\n",
              " ('9426+7874', '17300'),\n",
              " ('2881-1179', '1702'),\n",
              " ('2515+1288', '3803'),\n",
              " ('8428+8635', '17063'),\n",
              " ('9144-7766', '1378'),\n",
              " ('5628-2356', '3272'),\n",
              " ('1698+7428', '9126'),\n",
              " ('824-5555', '-4731'),\n",
              " ('2133+6464', '8597'),\n",
              " ('2010+2929', '4939'),\n",
              " ('4481+8435', '12916'),\n",
              " ('751+9496', '10247'),\n",
              " ('446-7018', '-6572'),\n",
              " ('940-2842', '-1902'),\n",
              " ('9654+2602', '12256'),\n",
              " ('813-7473', '-6660'),\n",
              " ('5964+8607', '14571'),\n",
              " ('4711+8488', '13199'),\n",
              " ('5325-2918', '2407'),\n",
              " ('3951+1099', '5050'),\n",
              " ('1590-8878', '-7288'),\n",
              " ('828+8885', '9713'),\n",
              " ('5611+4459', '10070'),\n",
              " ('541-7476', '-6935'),\n",
              " ('1523+2736', '4259'),\n",
              " ('747-6588', '-5841'),\n",
              " ('9000-4624', '4376'),\n",
              " ('9423+6463', '15886'),\n",
              " ('7500+3503', '11003'),\n",
              " ('6009+9865', '15874'),\n",
              " ('6446+9570', '16016'),\n",
              " ('8278-8503', '-225'),\n",
              " ('1336-8779', '-7443'),\n",
              " ('7920-459', '7461'),\n",
              " ('2874+9347', '12221'),\n",
              " ('764+9047', '9811'),\n",
              " ('8169+1454', '9623'),\n",
              " ('108-3707', '-3599'),\n",
              " ('1522-1051', '471'),\n",
              " ('8891-2127', '6764'),\n",
              " ('5204-6575', '-1371'),\n",
              " ('4977+953', '5930'),\n",
              " ('7783-6438', '1345'),\n",
              " ('1525-435', '1090'),\n",
              " ('8917-5931', '2986'),\n",
              " ('8675+3762', '12437'),\n",
              " ('6483+9659', '16142'),\n",
              " ('5772+6551', '12323'),\n",
              " ('6110-3201', '2909'),\n",
              " ('6587+4787', '11374'),\n",
              " ('8885-1049', '7836'),\n",
              " ('8211+9725', '17936'),\n",
              " ('4023-7191', '-3168'),\n",
              " ('510+6854', '7364'),\n",
              " ('7747-3125', '4622'),\n",
              " ('9172+7328', '16500'),\n",
              " ('558-6578', '-6020'),\n",
              " ('3304+6866', '10170'),\n",
              " ('474-2948', '-2474'),\n",
              " ('661-2764', '-2103'),\n",
              " ('3492-6746', '-3254'),\n",
              " ('1819+9310', '11129'),\n",
              " ('9645-5963', '3682'),\n",
              " ('2858+3430', '6288'),\n",
              " ('9876+3107', '12983'),\n",
              " ('1586+6370', '7956'),\n",
              " ('6867-5894', '973'),\n",
              " ('8252-7952', '300'),\n",
              " ('800+699', '1499'),\n",
              " ('2615-386', '2229'),\n",
              " ('8259+3001', '11260'),\n",
              " ('478-7690', '-7212'),\n",
              " ('576-7863', '-7287'),\n",
              " ('4337+1391', '5728'),\n",
              " ('5875-5596', '279'),\n",
              " ('9780+8544', '18324'),\n",
              " ('1266+8526', '9792'),\n",
              " ('7639-6924', '715'),\n",
              " ('4645+5810', '10455'),\n",
              " ('8208-6759', '1449'),\n",
              " ('9762-7062', '2700'),\n",
              " ('7722+7920', '15642'),\n",
              " ('4012-1226', '2786'),\n",
              " ('6722+3501', '10223'),\n",
              " ('4998+2915', '7913'),\n",
              " ('193+4195', '4388'),\n",
              " ('2614+3275', '5889'),\n",
              " ('6440+3504', '9944'),\n",
              " ('1719+6022', '7741'),\n",
              " ('1508+8894', '10402'),\n",
              " ('7601-2595', '5006'),\n",
              " ('9652-18', '9634'),\n",
              " ('290+1011', '1301'),\n",
              " ('3910-2555', '1355'),\n",
              " ('7197-1891', '5306'),\n",
              " ('34+835', '869'),\n",
              " ('9933-5305', '4628'),\n",
              " ('3019+9383', '12402'),\n",
              " ('537+2612', '3149'),\n",
              " ('8167+1775', '9942'),\n",
              " ('5043+6212', '11255'),\n",
              " ('6782+2990', '9772'),\n",
              " ('575-6399', '-5824'),\n",
              " ('95+8676', '8771'),\n",
              " ('175+3325', '3500'),\n",
              " ('9798+6417', '16215'),\n",
              " ('4495-5569', '-1074'),\n",
              " ('9778-8738', '1040'),\n",
              " ('6086-7309', '-1223'),\n",
              " ('677-6967', '-6290'),\n",
              " ('4118-6964', '-2846'),\n",
              " ...]"
            ]
          },
          "metadata": {
            "tags": []
          },
          "execution_count": 9
        }
      ]
    },
    {
      "cell_type": "markdown",
      "metadata": {
        "id": "-UUGUKX7Yd1V",
        "colab_type": "text"
      },
      "source": [
        "## Prepare data for the neural network\n",
        "\n",
        "The next stage of data preparation is creating mappings of the characters to their indices in some vocabulary. Since in our task we already know which symbols will appear in the inputs and outputs, generating the vocabulary is a simple step.\n",
        "\n",
        "#### How to create dictionaries for other task\n",
        "\n",
        "First of all, you need to understand what is the basic unit of the sequence in your task. In our case, we operate on symbols and the basic unit is a symbol. The number of symbols is small, so we don't need to think about filtering/normalization steps. However, in other tasks, the basic unit is often a word, and in this case the mapping would be *word $\\to$ integer*. The number of words might be huge, so it would be reasonable to filter them, for example, by frequency and leave only the frequent ones. Other strategies that your should consider are: data normalization (lowercasing, tokenization, how to consider punctuation marks), separate vocabulary for input and for output (e.g. for machine translation), some specifics of the task."
      ]
    },
    {
      "cell_type": "code",
      "metadata": {
        "id": "hEcZV88FYd1W",
        "colab_type": "code",
        "colab": {}
      },
      "source": [
        "word2id = {symbol:i for i, symbol in enumerate('#^$+-1234567890')}\n",
        "id2word = {i:symbol for symbol, i in word2id.items()}"
      ],
      "execution_count": 10,
      "outputs": []
    },
    {
      "cell_type": "code",
      "metadata": {
        "id": "Hrw7PXxgfXC1",
        "colab_type": "code",
        "colab": {
          "base_uri": "https://localhost:8080/",
          "height": 272
        },
        "outputId": "5add4b5b-af1c-4a12-f2a0-ce93baee4b26"
      },
      "source": [
        "id2word"
      ],
      "execution_count": 11,
      "outputs": [
        {
          "output_type": "execute_result",
          "data": {
            "text/plain": [
              "{0: '#',\n",
              " 1: '^',\n",
              " 2: '$',\n",
              " 3: '+',\n",
              " 4: '-',\n",
              " 5: '1',\n",
              " 6: '2',\n",
              " 7: '3',\n",
              " 8: '4',\n",
              " 9: '5',\n",
              " 10: '6',\n",
              " 11: '7',\n",
              " 12: '8',\n",
              " 13: '9',\n",
              " 14: '0'}"
            ]
          },
          "metadata": {
            "tags": []
          },
          "execution_count": 11
        }
      ]
    },
    {
      "cell_type": "markdown",
      "metadata": {
        "id": "zBGVH93FYd1a",
        "colab_type": "text"
      },
      "source": [
        "#### Special symbols"
      ]
    },
    {
      "cell_type": "code",
      "metadata": {
        "id": "nNlTrq-nYd1b",
        "colab_type": "code",
        "colab": {}
      },
      "source": [
        "start_symbol = '^'\n",
        "end_symbol = '$'\n",
        "padding_symbol = '#'"
      ],
      "execution_count": 12,
      "outputs": []
    },
    {
      "cell_type": "markdown",
      "metadata": {
        "id": "WXVK6v1sYd1i",
        "colab_type": "text"
      },
      "source": [
        "You could notice that we have added 3 special symbols: '^', '\\$' and '#':\n",
        "- '^' symbol will be passed to the network to indicate the beginning of the decoding procedure. We will discuss this one later in more details.\n",
        "- '\\$' symbol will be used to indicate the *end of a string*, both for input and output sequences. \n",
        "- '#' symbol will be used as a *padding* character to make lengths of all strings equal within one training batch.\n",
        "\n",
        "People have a bit different habits when it comes to special symbols in encoder-decoder networks, so don't get too much confused if you come across other variants in tutorials you read. "
      ]
    },
    {
      "cell_type": "markdown",
      "metadata": {
        "id": "I0s2yPPjYd1j",
        "colab_type": "text"
      },
      "source": [
        "#### Padding"
      ]
    },
    {
      "cell_type": "markdown",
      "metadata": {
        "id": "saK8t4XVYd1l",
        "colab_type": "text"
      },
      "source": [
        "When vocabularies are ready, we need to be able to convert a sentence to a list of vocabulary word indices and back. At the same time, let's care about padding. We are going to preprocess each sequence from the input (and output ground truth) in such a way that:\n",
        "- it has a predefined length *padded_len*\n",
        "- it is probably cut off or padded with the *padding symbol* '#'\n",
        "- it *always* ends with the *end symbol* '$'\n",
        "\n",
        "We will treat the original characters of the sequence **and the end symbol** as the valid part of the input. We will store *the actual length* of the sequence, which includes the end symbol, but does not include the padding symbols. "
      ]
    },
    {
      "cell_type": "markdown",
      "metadata": {
        "id": "_xf9gHo8Yd1m",
        "colab_type": "text"
      },
      "source": [
        " Now you need to implement the function *sentence_to_ids* that does the described job. "
      ]
    },
    {
      "cell_type": "code",
      "metadata": {
        "id": "5qkMI2iUYd1n",
        "colab_type": "code",
        "colab": {}
      },
      "source": [
        "def sentence_to_ids(sentence, word2id, padded_len):\n",
        "    \"\"\" Converts a sequence of symbols to a padded sequence of their ids.\n",
        "    \n",
        "      sentence: a string, input/output sequence of symbols.\n",
        "      word2id: a dict, a mapping from original symbols to ids.\n",
        "      padded_len: an integer, a desirable length of the sequence.\n",
        "\n",
        "      result: a tuple of (a list of ids, an actual length of sentence).\n",
        "    \"\"\"\n",
        "    sent_ids=[]\n",
        "    sent_len=0\n",
        "    if len(sentence) < padded_len:\n",
        "      for i in range(len(sentence)):\n",
        "        sent_ids.append(word2id[sentence[i]])\n",
        "      sent_ids.append(2)\n",
        "      sent_len=len(sent_ids)\n",
        "      for _ in range(padded_len - (len(sentence)+1)):\n",
        "        sent_ids.append(0)\n",
        "    else:\n",
        "      for i in range(len(sentence)-1):\n",
        "        sent_ids.append(word2id[sentence[i]])\n",
        "      sent_ids.append(2)      \n",
        "      sent_len=padded_len\n",
        "    \n",
        "    return sent_ids, sent_len"
      ],
      "execution_count": 13,
      "outputs": []
    },
    {
      "cell_type": "markdown",
      "metadata": {
        "id": "ZTgUbdUNYd1x",
        "colab_type": "text"
      },
      "source": [
        "Check that your implementation is correct:"
      ]
    },
    {
      "cell_type": "code",
      "metadata": {
        "id": "5rVszm-aYd1y",
        "colab_type": "code",
        "colab": {}
      },
      "source": [
        "def test_sentence_to_ids():\n",
        "    sentences = [(\"123+123\", 7), (\"123+123\", 8), (\"123+123\", 10)]\n",
        "    expected_output = [([5, 6, 7, 3, 5, 6, 2], 7), \n",
        "                       ([5, 6, 7, 3, 5, 6, 7, 2], 8), \n",
        "                       ([5, 6, 7, 3, 5, 6, 7, 2, 0, 0], 8)] \n",
        "    for (sentence, padded_len), (sentence_ids, expected_length) in zip(sentences, expected_output):\n",
        "        output, length = sentence_to_ids(sentence, word2id, padded_len)\n",
        "        if output != sentence_ids:\n",
        "            return(\"Convertion of '{}' for padded_len={} to {} is incorrect.\".format(\n",
        "                sentence, padded_len, output))\n",
        "        if length != expected_length:\n",
        "            return(\"Convertion of '{}' for padded_len={} has incorrect actual length {}.\".format(\n",
        "                sentence, padded_len, length))\n",
        "    return(\"Tests passed.\")"
      ],
      "execution_count": 14,
      "outputs": []
    },
    {
      "cell_type": "code",
      "metadata": {
        "id": "PttkRrPnYd14",
        "colab_type": "code",
        "colab": {
          "base_uri": "https://localhost:8080/",
          "height": 34
        },
        "outputId": "85746c97-c6e1-453b-d6dc-b0e4e5408767"
      },
      "source": [
        "print(test_sentence_to_ids())"
      ],
      "execution_count": 15,
      "outputs": [
        {
          "output_type": "stream",
          "text": [
            "Tests passed.\n"
          ],
          "name": "stdout"
        }
      ]
    },
    {
      "cell_type": "markdown",
      "metadata": {
        "id": "vRZc98RbYd19",
        "colab_type": "text"
      },
      "source": [
        "We also need to be able to get back from indices to symbols:"
      ]
    },
    {
      "cell_type": "code",
      "metadata": {
        "id": "_zkeGqyqYd1_",
        "colab_type": "code",
        "colab": {}
      },
      "source": [
        "def ids_to_sentence(ids, id2word):\n",
        "    \"\"\" Converts a sequence of ids to a sequence of symbols.\n",
        "    \n",
        "          ids: a list, indices for the padded sequence.\n",
        "          id2word:  a dict, a mapping from ids to original symbols.\n",
        "\n",
        "          result: a list of symbols.\n",
        "    \"\"\"\n",
        " \n",
        "    return [id2word[i] for i in ids] "
      ],
      "execution_count": 16,
      "outputs": []
    },
    {
      "cell_type": "markdown",
      "metadata": {
        "id": "M-qPD14gYd2E",
        "colab_type": "text"
      },
      "source": [
        "#### Generating batches"
      ]
    },
    {
      "cell_type": "markdown",
      "metadata": {
        "id": "mHAvfbUpYd2E",
        "colab_type": "text"
      },
      "source": [
        "The final step of data preparation is a function that transforms a batch of sentences to a list of lists of indices. "
      ]
    },
    {
      "cell_type": "code",
      "metadata": {
        "id": "_0Akgb_tYd2F",
        "colab_type": "code",
        "colab": {}
      },
      "source": [
        "def batch_to_ids(sentences, word2id, max_len):\n",
        "    \"\"\"Prepares batches of indices. \n",
        "    \n",
        "       Sequences are padded to match the longest sequence in the batch,\n",
        "       if it's longer than max_len, then max_len is used instead.\n",
        "\n",
        "        sentences: a list of strings, original sequences.\n",
        "        word2id: a dict, a mapping from original symbols to ids.\n",
        "        max_len: an integer, max len of sequences allowed.\n",
        "\n",
        "        result: a list of lists of ids, a list of actual lengths.\n",
        "    \"\"\"\n",
        "    \n",
        "    max_len_in_batch = min(max(len(s) for s in sentences) + 1, max_len)\n",
        "    batch_ids, batch_ids_len = [], []\n",
        "    for sentence in sentences:\n",
        "        ids, ids_len = sentence_to_ids(sentence, word2id, max_len_in_batch)\n",
        "        batch_ids.append(ids)\n",
        "        batch_ids_len.append(ids_len)\n",
        "    return batch_ids, batch_ids_len"
      ],
      "execution_count": 17,
      "outputs": []
    },
    {
      "cell_type": "markdown",
      "metadata": {
        "id": "3C6TOvKzYd2L",
        "colab_type": "text"
      },
      "source": [
        "The function *generate_batches* will help to generate batches with defined size from given samples."
      ]
    },
    {
      "cell_type": "code",
      "metadata": {
        "id": "99BwAeh3Yd2M",
        "colab_type": "code",
        "colab": {}
      },
      "source": [
        "def generate_batches(samples, batch_size=64):\n",
        "    X, Y = [], []\n",
        "    for i, (x, y) in enumerate(samples, 1):\n",
        "        X.append(x)\n",
        "        Y.append(y)\n",
        "        if i % batch_size == 0:\n",
        "            yield X, Y\n",
        "            X, Y = [], []\n",
        "    if X and Y:\n",
        "        yield X, Y"
      ],
      "execution_count": 18,
      "outputs": []
    },
    {
      "cell_type": "markdown",
      "metadata": {
        "id": "_axK6QkQYd2R",
        "colab_type": "text"
      },
      "source": [
        "To illustrate the result of the implemented functions, run the following cell:"
      ]
    },
    {
      "cell_type": "code",
      "metadata": {
        "id": "YVqS2QTBYd2S",
        "colab_type": "code",
        "colab": {
          "base_uri": "https://localhost:8080/",
          "height": 68
        },
        "outputId": "664dfe1b-41f5-4a59-977f-9c3a5a515677"
      },
      "source": [
        "sentences = train_set[0]\n",
        "ids, sent_lens = batch_to_ids(sentences, word2id, max_len=10)\n",
        "print('Input:', sentences)\n",
        "print('Ids: {}\\nSentences lengths: {}'.format(ids, sent_lens))"
      ],
      "execution_count": 19,
      "outputs": [
        {
          "output_type": "stream",
          "text": [
            "Input: ('7452-5051', '2401')\n",
            "Ids: [[11, 8, 9, 6, 4, 9, 14, 9, 5, 2], [6, 8, 14, 5, 2, 0, 0, 0, 0, 0]]\n",
            "Sentences lengths: [10, 5]\n"
          ],
          "name": "stdout"
        }
      ]
    },
    {
      "cell_type": "markdown",
      "metadata": {
        "id": "rktR9PoBYd2X",
        "colab_type": "text"
      },
      "source": [
        "## Encoder-Decoder architecture\n",
        "\n",
        "Encoder-Decoder is a successful architecture for Seq2Seq tasks with different lengths of input and output sequences. The main idea is to use two recurrent neural networks, where the first neural network *encodes* the input sequence into a real-valued vector and then the second neural network *decodes* this vector into the output sequence. While building the neural network, we will specify some particular characteristics of this architecture."
      ]
    },
    {
      "cell_type": "code",
      "metadata": {
        "id": "l9TFvLt_Yd2Y",
        "colab_type": "code",
        "colab": {}
      },
      "source": [
        "import tensorflow as tf"
      ],
      "execution_count": 20,
      "outputs": []
    },
    {
      "cell_type": "markdown",
      "metadata": {
        "id": "GcKqZDdUYd2c",
        "colab_type": "text"
      },
      "source": [
        "Let us use TensorFlow building blocks to specify the network architecture."
      ]
    },
    {
      "cell_type": "code",
      "metadata": {
        "id": "3tguIPjzYd2d",
        "colab_type": "code",
        "colab": {}
      },
      "source": [
        "class Seq2SeqModel(object):\n",
        "    pass"
      ],
      "execution_count": 21,
      "outputs": []
    },
    {
      "cell_type": "markdown",
      "metadata": {
        "id": "y9zmKNF5Yd2i",
        "colab_type": "text"
      },
      "source": [
        "First, we need to create [placeholders](https://www.tensorflow.org/api_guides/python/io_ops#Placeholders) to specify what data we are going to feed into the network during the execution time. For this task we will need:\n",
        " - *input_batch* — sequences of sentences (the shape will equal to [batch_size, max_sequence_len_in_batch]);\n",
        " - *input_batch_lengths* — lengths of not padded sequences (the shape equals to [batch_size]);\n",
        " - *ground_truth* — sequences of groundtruth (the shape will equal to [batch_size, max_sequence_len_in_batch]);\n",
        " - *ground_truth_lengths* — lengths of not padded groundtruth sequences (the shape equals to [batch_size]);\n",
        " - *dropout_ph* — dropout keep probability; this placeholder has a predifined value 1;\n",
        " - *learning_rate_ph* — learning rate."
      ]
    },
    {
      "cell_type": "code",
      "metadata": {
        "id": "6AAhfowyYd2k",
        "colab_type": "code",
        "colab": {}
      },
      "source": [
        "def declare_placeholders(self):\n",
        "    \"\"\"Specifies placeholders for the model.\"\"\"\n",
        "    \n",
        "    # Placeholders for input and its actual lengths.\n",
        "    self.input_batch = tf.placeholder(shape=(None, None), dtype=tf.int32, name='input_batch')\n",
        "    self.input_batch_lengths = tf.placeholder(shape=(None, ), dtype=tf.int32, name='input_batch_lengths')\n",
        "    \n",
        "    # Placeholders for groundtruth and its actual lengths.\n",
        "    self.ground_truth = tf.placeholder(shape=(None, None), dtype=tf.int32, name='ground_truth')\n",
        "    self.ground_truth_lengths = tf.placeholder(shape=(None, ), dtype=tf.int32, name='ground_truth_lengths')\n",
        "        \n",
        "    self.dropout_ph = tf.placeholder_with_default(tf.cast(1.0, tf.float32), shape=[])\n",
        "    self.learning_rate_ph = tf.placeholder_with_default(tf.cast(1.0, tf.float32), shape=[], name='learning_rate') "
      ],
      "execution_count": 22,
      "outputs": []
    },
    {
      "cell_type": "code",
      "metadata": {
        "id": "54eJroTMYd2q",
        "colab_type": "code",
        "colab": {}
      },
      "source": [
        "Seq2SeqModel.__declare_placeholders = classmethod(declare_placeholders)"
      ],
      "execution_count": 23,
      "outputs": []
    },
    {
      "cell_type": "markdown",
      "metadata": {
        "id": "EBo8B80-Yd20",
        "colab_type": "text"
      },
      "source": [
        "Now, let us specify the layers of the neural network. First, we need to prepare an embedding matrix. Since we use the same vocabulary for input and output, we need only one such matrix. For tasks with different vocabularies there would be multiple embedding layers.\n",
        "- Create embeddings matrix with [tf.Variable](https://www.tensorflow.org/api_docs/python/tf/Variable). Specify its name, type (tf.float32), and initialize with random values.\n",
        "- Perform [embeddings lookup](https://www.tensorflow.org/api_docs/python/tf/nn/embedding_lookup) for a given input batch."
      ]
    },
    {
      "cell_type": "code",
      "metadata": {
        "id": "nOrEfx7zYd21",
        "colab_type": "code",
        "colab": {}
      },
      "source": [
        "def create_embeddings(self, vocab_size, embeddings_size):\n",
        "    \"\"\"Specifies embeddings layer and embeds an input batch.\"\"\"\n",
        "     \n",
        "    random_initializer = tf.random_uniform((vocab_size, embeddings_size), -1.0, 1.0)\n",
        "    self.embeddings = tf.Variable(initial_value=random_initializer,name='embedings',dtype=tf.float32) \n",
        "    \n",
        "    # Perform embeddings lookup for self.input_batch. \n",
        "    self.input_batch_embedded = tf.nn.embedding_lookup(self.embeddings,self.input_batch)"
      ],
      "execution_count": 24,
      "outputs": []
    },
    {
      "cell_type": "code",
      "metadata": {
        "id": "KlsjS-W_Yd27",
        "colab_type": "code",
        "colab": {}
      },
      "source": [
        "Seq2SeqModel.__create_embeddings = classmethod(create_embeddings)"
      ],
      "execution_count": 25,
      "outputs": []
    },
    {
      "cell_type": "markdown",
      "metadata": {
        "id": "LZxs5aVUYd2_",
        "colab_type": "text"
      },
      "source": [
        "#### Encoder\n",
        "\n",
        "The first RNN of the current architecture is called an *encoder* and serves for encoding an input sequence to a real-valued vector. Input of this RNN is an embedded input batch. Since sentences in the same batch could have different actual lengths, we also provide input lengths to avoid unnecessary computations. The final encoder state will be passed to the second RNN (decoder), which we will create soon. \n",
        "\n",
        "- TensorFlow provides a number of [RNN cells](https://www.tensorflow.org/api_guides/python/contrib.rnn#Core_RNN_Cells_for_use_with_TensorFlow_s_core_RNN_methods) ready for use. We suggest that you use [GRU cell](https://www.tensorflow.org/api_docs/python/tf/contrib/rnn/GRUCell), but you can also experiment with other types. \n",
        "- Wrap your cells with [DropoutWrapper](https://www.tensorflow.org/api_docs/python/tf/contrib/rnn/DropoutWrapper). Dropout is an important regularization technique for neural networks. Specify input keep probability using the dropout placeholder that we created before.\n",
        "- Combine the defined encoder cells with [Dynamic RNN](https://www.tensorflow.org/api_docs/python/tf/nn/dynamic_rnn). Use the embedded input batches and their lengths here.\n",
        "- Use *dtype=tf.float32* everywhere."
      ]
    },
    {
      "cell_type": "code",
      "metadata": {
        "id": "70fTsD_dYd3A",
        "colab_type": "code",
        "colab": {}
      },
      "source": [
        "def build_encoder(self, hidden_size):\n",
        "    \"\"\"Specifies encoder architecture and computes its output.\"\"\"\n",
        "    \n",
        "    # Create GRUCell with dropout.\n",
        "    encoder_cell = tf.nn.rnn_cell.DropoutWrapper(tf.nn.rnn_cell.GRUCell(num_units=hidden_size),input_keep_prob=self.dropout_ph)\n",
        "    \n",
        "    # Create RNN with the predefined cell.\n",
        "    _, self.final_encoder_state = tf.nn.dynamic_rnn(encoder_cell,self.input_batch_embedded,self.input_batch_lengths,dtype=tf.float32)"
      ],
      "execution_count": 26,
      "outputs": []
    },
    {
      "cell_type": "code",
      "metadata": {
        "id": "l8NcQUK1Yd3E",
        "colab_type": "code",
        "colab": {}
      },
      "source": [
        "Seq2SeqModel.__build_encoder = classmethod(build_encoder)"
      ],
      "execution_count": 27,
      "outputs": []
    },
    {
      "cell_type": "markdown",
      "metadata": {
        "id": "-o85k4THYd3I",
        "colab_type": "text"
      },
      "source": [
        "#### Decoder\n",
        "\n",
        "The second RNN is called a *decoder* and serves for generating the output sequence. In the simple seq2seq arcitecture, the input sequence is provided to the decoder only as the final state of the encoder. Obviously, it is a bottleneck and [Attention techniques](https://www.tensorflow.org/tutorials/seq2seq#background_on_the_attention_mechanism) can help to overcome it. So far, we do not need them to make our calculator work, but this would be a necessary ingredient for more advanced tasks. \n",
        "\n",
        "During training, decoder also uses information about the true output. It is feeded in as input symbol by symbol. However, during the prediction stage (which is called *inference* in this architecture), the decoder can only use its own generated output from the previous step to feed it in at the next step. Because of this difference (*training* vs *inference*), we will create two distinct instances, which will serve for the described scenarios.\n",
        "\n",
        "The picture below illustrates the point. It also shows our work with the special characters, e.g. look how the start symbol `^` is used. The transparent parts are ignored. In decoder, it is masked out in the loss computation. In encoder, the green state is considered as final and passed to the decoder. "
      ]
    },
    {
      "cell_type": "markdown",
      "metadata": {
        "id": "g7n0Hh-4Yd3I",
        "colab_type": "text"
      },
      "source": [
        "<img src=\"https://github.com/srivatsakr21/natural-language-processing/blob/master/week4/encoder-decoder-pic.png?raw=1\" style=\"width: 500px;\">"
      ]
    },
    {
      "cell_type": "markdown",
      "metadata": {
        "id": "1Y49jx_TYd3J",
        "colab_type": "text"
      },
      "source": [
        "Now, it's time to implement the decoder:\n",
        " - First, we should create two [helpers](https://www.tensorflow.org/api_guides/python/contrib.seq2seq#Dynamic_Decoding). These classes help to determine the behaviour of the decoder. During the training time, we will use [TrainingHelper](https://www.tensorflow.org/api_docs/python/tf/contrib/seq2seq/TrainingHelper). For the inference we recommend to use [GreedyEmbeddingHelper](https://www.tensorflow.org/api_docs/python/tf/contrib/seq2seq/GreedyEmbeddingHelper).\n",
        " - To share all parameters during training and inference, we use one scope and set the flag 'reuse' to True at inference time. You might be interested to know more about how [variable scopes](https://www.tensorflow.org/programmers_guide/variables) work in TF. \n",
        " - To create the decoder itself, we will use [BasicDecoder](https://www.tensorflow.org/api_docs/python/tf/contrib/seq2seq/BasicDecoder) class. As previously, you should choose some RNN cell, e.g. GRU cell. To turn hidden states into logits, we will need a projection layer. One of the simple solutions is using [OutputProjectionWrapper](https://www.tensorflow.org/api_docs/python/tf/contrib/rnn/OutputProjectionWrapper).\n",
        " - For getting the predictions, it will be convinient to use [dynamic_decode](https://www.tensorflow.org/api_docs/python/tf/contrib/seq2seq/dynamic_decode). This function uses the provided decoder to perform decoding."
      ]
    },
    {
      "cell_type": "code",
      "metadata": {
        "id": "sUqlmBDBYd3K",
        "colab_type": "code",
        "colab": {}
      },
      "source": [
        "def build_decoder(self, hidden_size, vocab_size, max_iter, start_symbol_id, end_symbol_id):\n",
        "    \"\"\"Specifies decoder architecture and computes the output.\n",
        "    \n",
        "        Uses different helpers:\n",
        "          - for train: feeding ground truth\n",
        "          - for inference: feeding generated output\n",
        "\n",
        "        As a result, self.train_outputs and self.infer_outputs are created. \n",
        "        Each of them contains two fields:\n",
        "          rnn_output (predicted logits)\n",
        "          sample_id (predictions).\n",
        "\n",
        "    \"\"\"\n",
        "    \n",
        "    # Use start symbols as the decoder inputs at the first time step.\n",
        "    batch_size = tf.shape(self.input_batch)[0]\n",
        "    start_tokens = tf.fill([batch_size], start_symbol_id)\n",
        "    ground_truth_as_input = tf.concat([tf.expand_dims(start_tokens, 1), self.ground_truth], 1)\n",
        "    \n",
        "    # Use the embedding layer defined before to lookup embedings for ground_truth_as_input. \n",
        "    self.ground_truth_embedded = tf.nn.embedding_lookup(self.embeddings,ground_truth_as_input)\n",
        "     \n",
        "    # Create TrainingHelper for the train stage.\n",
        "    train_helper = tf.contrib.seq2seq.TrainingHelper(self.ground_truth_embedded, \n",
        "                                                     self.ground_truth_lengths)\n",
        "    \n",
        "    # Create GreedyEmbeddingHelper for the inference stage.\n",
        "    # You should provide the embedding layer, start_tokens and index of the end symbol.\n",
        "    infer_helper = tf.contrib.seq2seq.GreedyEmbeddingHelper(self.embeddings,start_tokens,2)\n",
        "    #infer_helper = tf.contrib.seq2seq.InferenceHelper(greedy_embedding_helper,sample_shape=vocab_size,sample_dtype=tf.float32)\n",
        "    \n",
        "  \n",
        "    def decode(helper, scope, reuse=None):\n",
        "        \"\"\"Creates decoder and return the results of the decoding with a given helper.\"\"\"\n",
        "        \n",
        "        with tf.variable_scope(scope, reuse=reuse):\n",
        "            # Create GRUCell with dropout. Do not forget to set the reuse flag properly.\n",
        "            decoder_cell = tf.nn.rnn_cell.DropoutWrapper(tf.nn.rnn_cell.GRUCell(hidden_size,reuse=reuse))\n",
        "            \n",
        "            # Create a projection wrapper.\n",
        "            decoder_cell = tf.contrib.rnn.OutputProjectionWrapper(decoder_cell, vocab_size, reuse=reuse)\n",
        "            \n",
        "            # Create BasicDecoder, pass the defined cell, a helper, and initial state.\n",
        "            # The initial state should be equal to the final state of the encoder!\n",
        "            decoder = tf.contrib.seq2seq.BasicDecoder(decoder_cell,helper,self.final_encoder_state)\n",
        "            \n",
        "            \n",
        "            # The first returning argument of dynamic_decode contains two fields:\n",
        "            #   rnn_output (predicted logits)\n",
        "            #   sample_id (predictions)\n",
        "            outputs, _, _ = tf.contrib.seq2seq.dynamic_decode(decoder=decoder, maximum_iterations=max_iter, \n",
        "                                                              output_time_major=False, impute_finished=True)\n",
        "\n",
        "            return outputs\n",
        "        \n",
        "    self.train_outputs = decode(train_helper, 'decode')\n",
        "    self.infer_outputs = decode(infer_helper, 'decode', reuse=True)"
      ],
      "execution_count": 41,
      "outputs": []
    },
    {
      "cell_type": "code",
      "metadata": {
        "id": "mKhOhF4EYd3R",
        "colab_type": "code",
        "colab": {}
      },
      "source": [
        "Seq2SeqModel.__build_decoder = classmethod(build_decoder)"
      ],
      "execution_count": 43,
      "outputs": []
    },
    {
      "cell_type": "markdown",
      "metadata": {
        "id": "VNTjGH_AYd3X",
        "colab_type": "text"
      },
      "source": [
        "In this task we will use [sequence_loss](https://www.tensorflow.org/api_docs/python/tf/contrib/seq2seq/sequence_loss), which is a weighted cross-entropy loss for a sequence of logits. Take a moment to understand, what is your train logits and targets. Also note, that we do not want to take into account loss terms coming from padding symbols, so we will mask them out using weights.  "
      ]
    },
    {
      "cell_type": "code",
      "metadata": {
        "id": "teawAakiYd3Y",
        "colab_type": "code",
        "colab": {}
      },
      "source": [
        "def compute_loss(self):\n",
        "    \"\"\"Computes sequence loss (masked cross-entopy loss with logits).\"\"\"\n",
        "    \n",
        "    weights = tf.cast(tf.sequence_mask(self.ground_truth_lengths), dtype=tf.float32)\n",
        "     \n",
        "    self.loss = tf.contrib.seq2seq.sequence_loss(self.train_outputs.rnn_output,self.ground_truth,weights=weights)"
      ],
      "execution_count": 57,
      "outputs": []
    },
    {
      "cell_type": "code",
      "metadata": {
        "id": "o7XatTM2Yd3j",
        "colab_type": "code",
        "colab": {}
      },
      "source": [
        "Seq2SeqModel.__compute_loss = classmethod(compute_loss)"
      ],
      "execution_count": 58,
      "outputs": []
    },
    {
      "cell_type": "markdown",
      "metadata": {
        "id": "zi0OU650Yd3n",
        "colab_type": "text"
      },
      "source": [
        "The last thing to specify is the optimization of the defined loss. \n",
        "We suggest that you use [optimize_loss](https://www.tensorflow.org/api_docs/python/tf/contrib/layers/optimize_loss) with Adam optimizer and a learning rate from the corresponding placeholder. You might also need to pass global step (e.g. as tf.train.get_global_step()) and clip gradients by 1.0."
      ]
    },
    {
      "cell_type": "code",
      "metadata": {
        "id": "x1IeQZhRYd3o",
        "colab_type": "code",
        "colab": {}
      },
      "source": [
        "def perform_optimization(self):\n",
        "    \"\"\"Specifies train_op that optimizes self.loss.\"\"\"\n",
        "    optimizer = tf.train.AdamOptimizer(learning_rate=self.learning_rate_ph)\n",
        "    grads_and_vars = optimizer.compute_gradients(self.loss)\n",
        "    clip_norm = tf.cast(1.0, tf.float32)\n",
        "    grads_and_vars =  [(tf.clip_by_norm(grad,clip_norm=clip_norm),var) for grad,var in grads_and_vars]\n",
        "    \n",
        "    self.train_op = optimizer.apply_gradients(grads_and_vars,global_step = tf.train.get_global_step())"
      ],
      "execution_count": 62,
      "outputs": []
    },
    {
      "cell_type": "code",
      "metadata": {
        "id": "418Y6L5AYd3u",
        "colab_type": "code",
        "colab": {}
      },
      "source": [
        "Seq2SeqModel.__perform_optimization = classmethod(perform_optimization)"
      ],
      "execution_count": 63,
      "outputs": []
    },
    {
      "cell_type": "markdown",
      "metadata": {
        "id": "niJRS85SYd3z",
        "colab_type": "text"
      },
      "source": [
        "Congratulations! You have specified all the parts of your network. You may have noticed, that we didn't deal with any real data yet, so what you have written is just recipies on how the network should function.\n",
        "Now we will put them to the constructor of our Seq2SeqModel class to use it in the next section. "
      ]
    },
    {
      "cell_type": "code",
      "metadata": {
        "id": "5SzwtEEfYd30",
        "colab_type": "code",
        "colab": {}
      },
      "source": [
        "def init_model(self, vocab_size, embeddings_size, hidden_size, \n",
        "               max_iter, start_symbol_id, end_symbol_id, padding_symbol_id):\n",
        "    \n",
        "    self.__declare_placeholders()\n",
        "    self.__create_embeddings(vocab_size, embeddings_size)\n",
        "    self.__build_encoder(hidden_size)\n",
        "    self.__build_decoder(hidden_size, vocab_size, max_iter, start_symbol_id, end_symbol_id)\n",
        "    \n",
        "    # Compute loss and back-propagate.\n",
        "    self.__compute_loss()\n",
        "    self.__perform_optimization()\n",
        "    \n",
        "    # Get predictions for evaluation.\n",
        "    self.train_predictions = self.train_outputs.sample_id\n",
        "    self.infer_predictions = self.infer_outputs.sample_id"
      ],
      "execution_count": 64,
      "outputs": []
    },
    {
      "cell_type": "code",
      "metadata": {
        "id": "a3b7wDzzYd34",
        "colab_type": "code",
        "colab": {}
      },
      "source": [
        "Seq2SeqModel.__init__ = classmethod(init_model)"
      ],
      "execution_count": 65,
      "outputs": []
    },
    {
      "cell_type": "markdown",
      "metadata": {
        "id": "YFZeafZxYd37",
        "colab_type": "text"
      },
      "source": [
        "## Train the network and predict output\n",
        "\n",
        "[Session.run](https://www.tensorflow.org/api_docs/python/tf/Session#run) is a point which initiates computations in the graph that we have defined. To train the network, we need to compute *self.train_op*. To predict output, we just need to compute *self.infer_predictions*. In any case, we need to feed actual data through the placeholders that we defined above. "
      ]
    },
    {
      "cell_type": "code",
      "metadata": {
        "id": "9QGq4aZkYd38",
        "colab_type": "code",
        "colab": {}
      },
      "source": [
        "def train_on_batch(self, session, X, X_seq_len, Y, Y_seq_len, learning_rate, dropout_keep_probability):\n",
        "    feed_dict = {\n",
        "            self.input_batch: X,\n",
        "            self.input_batch_lengths: X_seq_len,\n",
        "            self.ground_truth: Y,\n",
        "            self.ground_truth_lengths: Y_seq_len,\n",
        "            self.learning_rate_ph: learning_rate,\n",
        "            self.dropout_ph: dropout_keep_probability\n",
        "        }\n",
        "    pred, loss, _ = session.run([\n",
        "            self.train_predictions,\n",
        "            self.loss,\n",
        "            self.train_op], feed_dict=feed_dict)\n",
        "    return pred, loss"
      ],
      "execution_count": 36,
      "outputs": []
    },
    {
      "cell_type": "code",
      "metadata": {
        "id": "ODFWEF1GYd4B",
        "colab_type": "code",
        "colab": {}
      },
      "source": [
        "Seq2SeqModel.train_on_batch = classmethod(train_on_batch)"
      ],
      "execution_count": 37,
      "outputs": []
    },
    {
      "cell_type": "markdown",
      "metadata": {
        "id": "c1-urW70Yd4J",
        "colab_type": "text"
      },
      "source": [
        "We implemented two prediction functions: *predict_for_batch* and *predict_for_batch_with_loss*. The first one allows only to predict output for some input sequence, while the second one could compute loss because we provide also ground truth values. Both these functions might be useful since the first one could be used for predicting only, and the second one is helpful for validating results on not-training data during the training."
      ]
    },
    {
      "cell_type": "code",
      "metadata": {
        "id": "yG5j4x2xYd4K",
        "colab_type": "code",
        "colab": {}
      },
      "source": [
        "def predict_for_batch(self, session, X, X_seq_len):\n",
        "    feed_dict = {\n",
        "        self.input_batch: X,\n",
        "        self.input_batch_lengths: X_seq_len,\n",
        "    }\n",
        "    pred = session.run([\n",
        "            self.infer_predictions\n",
        "        ], feed_dict=feed_dict)[0]\n",
        "    return pred\n",
        "\n",
        "def predict_for_batch_with_loss(self, session, X, X_seq_len, Y, Y_seq_len):\n",
        "    feed_dict = {\n",
        "            self.input_batch: X,\n",
        "            self.input_batch_lengths: X_seq_len,\n",
        "            self.ground_truth: Y,\n",
        "            self.ground_truth_lengths: Y_seq_len,\n",
        "        \n",
        "    }\n",
        "    pred, loss = session.run([\n",
        "            self.infer_predictions,\n",
        "            self.loss,\n",
        "        ], feed_dict=feed_dict)\n",
        "    return pred, loss"
      ],
      "execution_count": 38,
      "outputs": []
    },
    {
      "cell_type": "code",
      "metadata": {
        "id": "YB6d_e4CYd4S",
        "colab_type": "code",
        "colab": {}
      },
      "source": [
        "Seq2SeqModel.predict_for_batch = classmethod(predict_for_batch)\n",
        "Seq2SeqModel.predict_for_batch_with_loss = classmethod(predict_for_batch_with_loss)"
      ],
      "execution_count": 39,
      "outputs": []
    },
    {
      "cell_type": "markdown",
      "metadata": {
        "id": "snP0nhkAYd4Z",
        "colab_type": "text"
      },
      "source": [
        "## Run your experiment\n",
        "\n",
        "Create *Seq2SeqModel* model with the following parameters:\n",
        " - *vocab_size* — number of tokens;\n",
        " - *embeddings_size* — dimension of embeddings, recommended value: 20;\n",
        " - *max_iter* — maximum number of steps in decoder, recommended value: 7;\n",
        " - *hidden_size* — size of hidden layers for RNN, recommended value: 512;\n",
        " - *start_symbol_id* — an index of the start token (`^`).\n",
        " - *end_symbol_id* — an index of the end token (`$`).\n",
        " - *padding_symbol_id* — an index of the padding token (`#`).\n",
        "\n",
        "Set hyperparameters. You might want to start with the following values and see how it works:\n",
        "- *batch_size*: 128;\n",
        "- at least 10 epochs;\n",
        "- value of *learning_rate*: 0.001\n",
        "- *dropout_keep_probability* equals to 0.5 for training (typical values for dropout probability are ranging from 0.1 to 1.0); larger values correspond smaler number of dropout units;\n",
        "- *max_len*: 20."
      ]
    },
    {
      "cell_type": "code",
      "metadata": {
        "id": "DV1BXNtkYd4a",
        "colab_type": "code",
        "colab": {}
      },
      "source": [
        "tf.reset_default_graph()\n",
        "\n",
        "vocab_size=15\n",
        "embeddings_size=20\n",
        "max_iter=7\n",
        "hidden_size=512\n",
        "start_symbol_id=1\n",
        "end_symbol_id=2\n",
        "padding_symbol_id=0\n",
        "\n",
        "model = Seq2SeqModel(vocab_size,embeddings_size,max_iter,hidden_size,start_symbol_id,end_symbol_id,padding_symbol_id)\n",
        "\n",
        "batch_size = 128\n",
        "n_epochs = 10\n",
        "learning_rate = 0.001\n",
        "dropout_keep_probability = 0.5\n",
        "max_len = 20\n",
        "\n",
        "n_step = int(len(train_set) / batch_size)"
      ],
      "execution_count": 66,
      "outputs": []
    },
    {
      "cell_type": "markdown",
      "metadata": {
        "id": "O7fMfXQrYd4i",
        "colab_type": "text"
      },
      "source": [
        "Finally, we are ready to run the training! A good indicator that everything works fine is decreasing loss during the training. You should account on the loss value equal to approximately 2.7 at the beginning of the training and near 1 after the 10th epoch."
      ]
    },
    {
      "cell_type": "code",
      "metadata": {
        "scrolled": true,
        "id": "y_2zVR0UYd4j",
        "colab_type": "code",
        "colab": {}
      },
      "source": [
        "session = tf.Session()\n",
        "session.run(tf.global_variables_initializer())\n",
        "            \n",
        "invalid_number_prediction_counts = []\n",
        "all_model_predictions = []\n",
        "all_ground_truth = []\n",
        "\n",
        "print('Start training... \\n')\n",
        "for epoch in range(n_epochs):  \n",
        "    random.shuffle(train_set)\n",
        "    random.shuffle(test_set)\n",
        "    \n",
        "    print('Train: epoch', epoch + 1)\n",
        "    for n_iter, (X_batch, Y_batch) in enumerate(generate_batches(train_set, batch_size=batch_size)):\n",
        "        ######################################\n",
        "        ######### YOUR CODE HERE #############\n",
        "        ######################################\n",
        "        X=X_batch\n",
        "        X_seq_len = len(X)\n",
        "        Y=Y_batch\n",
        "        Y_seq_len = len(Y)\n",
        "        # prepare the data (X_batch and Y_batch) for training\n",
        "        # using function batch_to_ids\n",
        "        predictions, loss = predict_for_batch_with_loss(session=session,X,X_seq_len,Y,Y_seq_len)\n",
        "        \n",
        "        if n_iter % 200 == 0:\n",
        "            print(\"Epoch: [%d/%d], step: [%d/%d], loss: %f\" % (epoch + 1, n_epochs, n_iter + 1, n_step, loss))\n",
        "                \n",
        "    X_sent, Y_sent = next(generate_batches(test_set, batch_size=batch_size))\n",
        "    ######################################\n",
        "    ######### YOUR CODE HERE #############\n",
        "    ######################################\n",
        "    X=X_sent\n",
        "    X_seq_len = len(X)\n",
        "    Y=Y_sent\n",
        "    Y_seq_len = len(Y)\n",
        "    # prepare test data (X_sent and Y_sent) for predicting \n",
        "    # quality and computing value of the loss function\n",
        "    # using function batch_to_ids\n",
        "    \n",
        "    predictions, loss = predict_for_batch_with_loss(session=session,X,X_seq_len,Y,Y_seq_len)\n",
        "    print('Test: epoch', epoch + 1, 'loss:', loss,)\n",
        "    for x, y, p  in list(zip(X, Y, predictions))[:3]:\n",
        "        print('X:',''.join(ids_to_sentence(x, id2word)))\n",
        "        print('Y:',''.join(ids_to_sentence(y, id2word)))\n",
        "        print('O:',''.join(ids_to_sentence(p, id2word)))\n",
        "        print('')\n",
        "\n",
        "    model_predictions = []\n",
        "    ground_truth = []\n",
        "    invalid_number_prediction_count = 0\n",
        "    # For the whole test set calculate ground-truth values (as integer numbers)\n",
        "    # and prediction values (also as integers) to calculate metrics.\n",
        "    # If generated by model number is not correct (e.g. '1-1'), \n",
        "    # increase invalid_number_prediction_count and don't append this and corresponding\n",
        "    # ground-truth value to the arrays.\n",
        "    for X_batch, Y_batch in generate_batches(test_set, batch_size=batch_size):\n",
        "        ######################################\n",
        "        ######### YOUR CODE HERE #############\n",
        "        ######################################\n",
        "    \n",
        "    all_model_predictions.append(model_predictions)\n",
        "    all_ground_truth.append(ground_truth)\n",
        "    invalid_number_prediction_counts.append(invalid_number_prediction_count)\n",
        "            \n",
        "print('\\n...training finished.')"
      ],
      "execution_count": null,
      "outputs": []
    },
    {
      "cell_type": "markdown",
      "metadata": {
        "id": "gd6SPhCfYd4o",
        "colab_type": "text"
      },
      "source": [
        "## Evaluate results\n",
        "\n",
        "Because our task is simple and the output is straight-forward, we will use [MAE](https://en.wikipedia.org/wiki/Mean_absolute_error) metric to evaluate the trained model during the epochs. Compute the value of the metric for the output from each epoch."
      ]
    },
    {
      "cell_type": "code",
      "metadata": {
        "id": "HrFDRjroYd4o",
        "colab_type": "code",
        "colab": {}
      },
      "source": [
        "from sklearn.metrics import mean_absolute_error"
      ],
      "execution_count": null,
      "outputs": []
    },
    {
      "cell_type": "code",
      "metadata": {
        "id": "jrZyB2EtYd4u",
        "colab_type": "code",
        "colab": {}
      },
      "source": [
        "for i, (gts, predictions, invalid_number_prediction_count) in enumerate(zip(all_ground_truth,\n",
        "                                                                            all_model_predictions,\n",
        "                                                                            invalid_number_prediction_counts), 1):\n",
        "    mae = ######### YOUR CODE HERE #############\n",
        "    print(\"Epoch: %i, MAE: %f, Invalid numbers: %i\" % (i, mae, invalid_number_prediction_count))"
      ],
      "execution_count": null,
      "outputs": []
    }
  ]
}