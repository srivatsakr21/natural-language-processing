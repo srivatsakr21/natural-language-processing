{
  "nbformat": 4,
  "nbformat_minor": 0,
  "metadata": {
    "kernelspec": {
      "display_name": "Python 3",
      "language": "python",
      "name": "python3"
    },
    "language_info": {
      "codemirror_mode": {
        "name": "ipython",
        "version": 3
      },
      "file_extension": ".py",
      "mimetype": "text/x-python",
      "name": "python",
      "nbconvert_exporter": "python",
      "pygments_lexer": "ipython3",
      "version": "3.4.3"
    },
    "colab": {
      "name": "week4-seq2seq.ipynb",
      "provenance": []
    }
  },
  "cells": [
    {
      "cell_type": "markdown",
      "metadata": {
        "id": "uo6GrjoUYd0W",
        "colab_type": "text"
      },
      "source": [
        "# Learn to calculate with seq2seq model\n",
        "\n",
        "In this assignment, you will learn how to use neural networks to solve sequence-to-sequence prediction tasks. Seq2Seq models are very popular these days because they achieve great results in Machine Translation, Text Summarization, Conversational Modeling and more.\n",
        "\n",
        "Using sequence-to-sequence modeling you are going to build a calculator for evaluating arithmetic expressions, by taking an equation as an input to the neural network and producing an answer as it's output.\n",
        "\n",
        "The resulting solution for this problem will be based on state-of-the-art approaches for sequence-to-sequence learning and you should be able to easily adapt it to solve other tasks. However, if you want to train your own machine translation system or intellectual chat bot, it would be useful to have access to compute resources like GPU, and be patient, because training of such systems is usually time consuming. \n",
        "\n",
        "### Libraries\n",
        "\n",
        "For this task you will need the following libraries:\n",
        " - [TensorFlow](https://www.tensorflow.org) — an open-source software library for Machine Intelligence.\n",
        " \n",
        "In this assignment, we use Tensorflow 1.15.0. You can install it with pip:\n",
        "\n",
        "    !pip install tensorflow==1.15.0\n",
        "     \n",
        " - [scikit-learn](http://scikit-learn.org/stable/index.html) — a tool for data mining and data analysis.\n",
        " \n",
        "If you have never worked with TensorFlow, you will probably want to read some tutorials during your work on this assignment, e.g. [Neural Machine Translation](https://www.tensorflow.org/tutorials/seq2seq) tutorial deals with very similar task and can explain some concepts to you. "
      ]
    },
    {
      "cell_type": "code",
      "metadata": {
        "id": "x6qBOZoHY8T3",
        "colab_type": "code",
        "colab": {
          "base_uri": "https://localhost:8080/",
          "height": 921
        },
        "outputId": "eb152845-be34-4ad7-a307-b002da9b0ff1"
      },
      "source": [
        "!pip install tensorflow==1.15.0"
      ],
      "execution_count": 1,
      "outputs": [
        {
          "output_type": "stream",
          "text": [
            "Collecting tensorflow==1.15.0\n",
            "\u001b[?25l  Downloading https://files.pythonhosted.org/packages/3f/98/5a99af92fb911d7a88a0005ad55005f35b4c1ba8d75fba02df726cd936e6/tensorflow-1.15.0-cp36-cp36m-manylinux2010_x86_64.whl (412.3MB)\n",
            "\u001b[K     |████████████████████████████████| 412.3MB 39kB/s \n",
            "\u001b[?25hRequirement already satisfied: six>=1.10.0 in /usr/local/lib/python3.6/dist-packages (from tensorflow==1.15.0) (1.15.0)\n",
            "Requirement already satisfied: grpcio>=1.8.6 in /usr/local/lib/python3.6/dist-packages (from tensorflow==1.15.0) (1.32.0)\n",
            "Requirement already satisfied: astor>=0.6.0 in /usr/local/lib/python3.6/dist-packages (from tensorflow==1.15.0) (0.8.1)\n",
            "Requirement already satisfied: protobuf>=3.6.1 in /usr/local/lib/python3.6/dist-packages (from tensorflow==1.15.0) (3.12.4)\n",
            "Requirement already satisfied: termcolor>=1.1.0 in /usr/local/lib/python3.6/dist-packages (from tensorflow==1.15.0) (1.1.0)\n",
            "Requirement already satisfied: absl-py>=0.7.0 in /usr/local/lib/python3.6/dist-packages (from tensorflow==1.15.0) (0.10.0)\n",
            "Requirement already satisfied: google-pasta>=0.1.6 in /usr/local/lib/python3.6/dist-packages (from tensorflow==1.15.0) (0.2.0)\n",
            "Collecting keras-applications>=1.0.8\n",
            "\u001b[?25l  Downloading https://files.pythonhosted.org/packages/71/e3/19762fdfc62877ae9102edf6342d71b28fbfd9dea3d2f96a882ce099b03f/Keras_Applications-1.0.8-py3-none-any.whl (50kB)\n",
            "\u001b[K     |████████████████████████████████| 51kB 6.1MB/s \n",
            "\u001b[?25hRequirement already satisfied: numpy<2.0,>=1.16.0 in /usr/local/lib/python3.6/dist-packages (from tensorflow==1.15.0) (1.18.5)\n",
            "Requirement already satisfied: opt-einsum>=2.3.2 in /usr/local/lib/python3.6/dist-packages (from tensorflow==1.15.0) (3.3.0)\n",
            "Collecting tensorboard<1.16.0,>=1.15.0\n",
            "\u001b[?25l  Downloading https://files.pythonhosted.org/packages/1e/e9/d3d747a97f7188f48aa5eda486907f3b345cd409f0a0850468ba867db246/tensorboard-1.15.0-py3-none-any.whl (3.8MB)\n",
            "\u001b[K     |████████████████████████████████| 3.8MB 44.9MB/s \n",
            "\u001b[?25hRequirement already satisfied: wheel>=0.26 in /usr/local/lib/python3.6/dist-packages (from tensorflow==1.15.0) (0.35.1)\n",
            "Requirement already satisfied: keras-preprocessing>=1.0.5 in /usr/local/lib/python3.6/dist-packages (from tensorflow==1.15.0) (1.1.2)\n",
            "Collecting tensorflow-estimator==1.15.1\n",
            "\u001b[?25l  Downloading https://files.pythonhosted.org/packages/de/62/2ee9cd74c9fa2fa450877847ba560b260f5d0fb70ee0595203082dafcc9d/tensorflow_estimator-1.15.1-py2.py3-none-any.whl (503kB)\n",
            "\u001b[K     |████████████████████████████████| 512kB 41.9MB/s \n",
            "\u001b[?25hRequirement already satisfied: wrapt>=1.11.1 in /usr/local/lib/python3.6/dist-packages (from tensorflow==1.15.0) (1.12.1)\n",
            "Collecting gast==0.2.2\n",
            "  Downloading https://files.pythonhosted.org/packages/4e/35/11749bf99b2d4e3cceb4d55ca22590b0d7c2c62b9de38ac4a4a7f4687421/gast-0.2.2.tar.gz\n",
            "Requirement already satisfied: setuptools in /usr/local/lib/python3.6/dist-packages (from protobuf>=3.6.1->tensorflow==1.15.0) (50.3.0)\n",
            "Requirement already satisfied: h5py in /usr/local/lib/python3.6/dist-packages (from keras-applications>=1.0.8->tensorflow==1.15.0) (2.10.0)\n",
            "Requirement already satisfied: markdown>=2.6.8 in /usr/local/lib/python3.6/dist-packages (from tensorboard<1.16.0,>=1.15.0->tensorflow==1.15.0) (3.2.2)\n",
            "Requirement already satisfied: werkzeug>=0.11.15 in /usr/local/lib/python3.6/dist-packages (from tensorboard<1.16.0,>=1.15.0->tensorflow==1.15.0) (1.0.1)\n",
            "Requirement already satisfied: importlib-metadata; python_version < \"3.8\" in /usr/local/lib/python3.6/dist-packages (from markdown>=2.6.8->tensorboard<1.16.0,>=1.15.0->tensorflow==1.15.0) (1.7.0)\n",
            "Requirement already satisfied: zipp>=0.5 in /usr/local/lib/python3.6/dist-packages (from importlib-metadata; python_version < \"3.8\"->markdown>=2.6.8->tensorboard<1.16.0,>=1.15.0->tensorflow==1.15.0) (3.1.0)\n",
            "Building wheels for collected packages: gast\n",
            "  Building wheel for gast (setup.py) ... \u001b[?25l\u001b[?25hdone\n",
            "  Created wheel for gast: filename=gast-0.2.2-cp36-none-any.whl size=7542 sha256=cd4c05d34ee9c966ab62db7bf19a835dbfa8756338ffb5cf00dd174b52d1d85b\n",
            "  Stored in directory: /root/.cache/pip/wheels/5c/2e/7e/a1d4d4fcebe6c381f378ce7743a3ced3699feb89bcfbdadadd\n",
            "Successfully built gast\n",
            "\u001b[31mERROR: tensorflow-probability 0.11.0 has requirement gast>=0.3.2, but you'll have gast 0.2.2 which is incompatible.\u001b[0m\n",
            "Installing collected packages: keras-applications, tensorboard, tensorflow-estimator, gast, tensorflow\n",
            "  Found existing installation: tensorboard 2.3.0\n",
            "    Uninstalling tensorboard-2.3.0:\n",
            "      Successfully uninstalled tensorboard-2.3.0\n",
            "  Found existing installation: tensorflow-estimator 2.3.0\n",
            "    Uninstalling tensorflow-estimator-2.3.0:\n",
            "      Successfully uninstalled tensorflow-estimator-2.3.0\n",
            "  Found existing installation: gast 0.3.3\n",
            "    Uninstalling gast-0.3.3:\n",
            "      Successfully uninstalled gast-0.3.3\n",
            "  Found existing installation: tensorflow 2.3.0\n",
            "    Uninstalling tensorflow-2.3.0:\n",
            "      Successfully uninstalled tensorflow-2.3.0\n",
            "Successfully installed gast-0.2.2 keras-applications-1.0.8 tensorboard-1.15.0 tensorflow-1.15.0 tensorflow-estimator-1.15.1\n"
          ],
          "name": "stdout"
        }
      ]
    },
    {
      "cell_type": "code",
      "metadata": {
        "id": "bn9kI0skYd0a",
        "colab_type": "code",
        "colab": {
          "base_uri": "https://localhost:8080/",
          "height": 204
        },
        "outputId": "9d4d4d8e-94a7-45a3-f068-e25ff491f5fb"
      },
      "source": [
        "try:\n",
        "    import google.colab\n",
        "    IN_COLAB = True\n",
        "except:\n",
        "    IN_COLAB = False\n",
        "\n",
        "if IN_COLAB:\n",
        "    ! wget https://raw.githubusercontent.com/hse-aml/natural-language-processing/master/setup_google_colab.py -O setup_google_colab.py\n",
        "    import setup_google_colab\n",
        "    setup_google_colab.setup_week4()"
      ],
      "execution_count": 2,
      "outputs": [
        {
          "output_type": "stream",
          "text": [
            "--2020-09-19 10:40:10--  https://raw.githubusercontent.com/hse-aml/natural-language-processing/master/setup_google_colab.py\n",
            "Resolving raw.githubusercontent.com (raw.githubusercontent.com)... 151.101.0.133, 151.101.64.133, 151.101.128.133, ...\n",
            "Connecting to raw.githubusercontent.com (raw.githubusercontent.com)|151.101.0.133|:443... connected.\n",
            "HTTP request sent, awaiting response... 200 OK\n",
            "Length: 1939 (1.9K) [text/plain]\n",
            "Saving to: ‘setup_google_colab.py’\n",
            "\n",
            "setup_google_colab. 100%[===================>]   1.89K  --.-KB/s    in 0s      \n",
            "\n",
            "2020-09-19 10:40:10 (19.4 MB/s) - ‘setup_google_colab.py’ saved [1939/1939]\n",
            "\n"
          ],
          "name": "stdout"
        }
      ]
    },
    {
      "cell_type": "markdown",
      "metadata": {
        "id": "edaFZv6LYd0j",
        "colab_type": "text"
      },
      "source": [
        "### Data\n",
        "\n",
        "One benefit of this task is that you don't need to download any data — you will generate it on your own! We will use two operators (addition and subtraction) and work with positive integer numbers in some range. Here are examples of correct inputs and outputs:\n",
        "\n",
        "    Input: '1+2'\n",
        "    Output: '3'\n",
        "    \n",
        "    Input: '0-99'\n",
        "    Output: '-99'\n",
        "\n",
        "*Note, that there are no spaces between operators and operands.*\n",
        "\n",
        "\n",
        "Now you need to implement the function *generate_equations*, which will be used to generate the data."
      ]
    },
    {
      "cell_type": "code",
      "metadata": {
        "id": "XxZh3y1IYd0k",
        "colab_type": "code",
        "colab": {}
      },
      "source": [
        "import random\n",
        "import operator"
      ],
      "execution_count": 3,
      "outputs": []
    },
    {
      "cell_type": "code",
      "metadata": {
        "id": "KLI_YyTfYd0q",
        "colab_type": "code",
        "colab": {}
      },
      "source": [
        "def generate_equations(allowed_operators, dataset_size, min_value, max_value):\n",
        "    \"\"\"Generates pairs of equations and solutions to them.\n",
        "    \n",
        "       Each equation has a form of two integers with an operator in between.\n",
        "       Each solution is an integer with the result of the operaion.\n",
        "    \n",
        "        allowed_operators: list of strings, allowed operators.\n",
        "        dataset_size: an integer, number of equations to be generated.\n",
        "        min_value: an integer, min value of each operand.\n",
        "        max_value: an integer, max value of each operand.\n",
        "\n",
        "        result: a list of tuples of strings (equation, solution).\n",
        "    \"\"\"\n",
        "    sample = []\n",
        "    for _ in range(dataset_size):\n",
        "        ######################################\n",
        "        ######### YOUR CODE HERE #############\n",
        "        ######################################\n",
        "        a = random.randint(min_value,max_value)\n",
        "        op = random.choice(allowed_operators)\n",
        "        b = random.randint(min_value,max_value)\n",
        "        ops = {'+':operator.add,'-':operator.sub}\n",
        "        sol = ops[op](a,b)\n",
        "        sample.append((str(a)+op+str(b),str(sol)))\n",
        "\n",
        "    return sample"
      ],
      "execution_count": 4,
      "outputs": []
    },
    {
      "cell_type": "markdown",
      "metadata": {
        "id": "BC8HGV0bYd0z",
        "colab_type": "text"
      },
      "source": [
        "To check the correctness of your implementation, use *test_generate_equations* function:"
      ]
    },
    {
      "cell_type": "code",
      "metadata": {
        "id": "WpK0qhn4Yd01",
        "colab_type": "code",
        "colab": {}
      },
      "source": [
        "def test_generate_equations():\n",
        "    allowed_operators = ['+', '-']\n",
        "    dataset_size = 10\n",
        "    for (input_, output_) in generate_equations(allowed_operators, dataset_size, 0, 100):\n",
        "        if not (type(input_) is str and type(output_) is str):\n",
        "            return \"Both parts should be strings.\"\n",
        "        if eval(input_) != int(output_):\n",
        "            return \"The (equation: {!r}, solution: {!r}) pair is incorrect.\".format(input_, output_)\n",
        "    return \"Tests passed.\""
      ],
      "execution_count": 5,
      "outputs": []
    },
    {
      "cell_type": "code",
      "metadata": {
        "id": "FQPGg-DAYd0-",
        "colab_type": "code",
        "colab": {
          "base_uri": "https://localhost:8080/",
          "height": 34
        },
        "outputId": "d879643c-7715-42a7-914b-880add3b12f5"
      },
      "source": [
        "print(test_generate_equations())"
      ],
      "execution_count": 6,
      "outputs": [
        {
          "output_type": "stream",
          "text": [
            "Tests passed.\n"
          ],
          "name": "stdout"
        }
      ]
    },
    {
      "cell_type": "markdown",
      "metadata": {
        "id": "UT_HHUPiYd1F",
        "colab_type": "text"
      },
      "source": [
        "Finally, we are ready to generate the train and test data for the neural network:"
      ]
    },
    {
      "cell_type": "code",
      "metadata": {
        "id": "uABzVoS6Yd1G",
        "colab_type": "code",
        "colab": {}
      },
      "source": [
        "from sklearn.model_selection import train_test_split"
      ],
      "execution_count": 7,
      "outputs": []
    },
    {
      "cell_type": "code",
      "metadata": {
        "id": "DyYJg3qiYd1Q",
        "colab_type": "code",
        "colab": {}
      },
      "source": [
        "allowed_operators = ['+', '-']\n",
        "dataset_size = 100000\n",
        "data = generate_equations(allowed_operators, dataset_size, min_value=0, max_value=9999)\n",
        "\n",
        "train_set, test_set = train_test_split(data, test_size=0.2, random_state=42)"
      ],
      "execution_count": 8,
      "outputs": []
    },
    {
      "cell_type": "code",
      "metadata": {
        "id": "6htwwXJceY1V",
        "colab_type": "code",
        "colab": {
          "base_uri": "https://localhost:8080/",
          "height": 1000
        },
        "outputId": "d73f92cd-bbc1-448d-dbf5-270f39e1ec29"
      },
      "source": [
        "train_set"
      ],
      "execution_count": 9,
      "outputs": [
        {
          "output_type": "execute_result",
          "data": {
            "text/plain": [
              "[('2725+8792', '11517'),\n",
              " ('6127-879', '5248'),\n",
              " ('1467+7242', '8709'),\n",
              " ('9463-3571', '5892'),\n",
              " ('5025+2108', '7133'),\n",
              " ('1777-7274', '-5497'),\n",
              " ('3892+8718', '12610'),\n",
              " ('2370-136', '2234'),\n",
              " ('2498+9004', '11502'),\n",
              " ('9738+1219', '10957'),\n",
              " ('2588+3', '2591'),\n",
              " ('9790-8813', '977'),\n",
              " ('3901-5316', '-1415'),\n",
              " ('5432-6456', '-1024'),\n",
              " ('7285+8312', '15597'),\n",
              " ('9778-8864', '914'),\n",
              " ('9996+6287', '16283'),\n",
              " ('5578+8493', '14071'),\n",
              " ('3836+2610', '6446'),\n",
              " ('1852-3693', '-1841'),\n",
              " ('5822-7598', '-1776'),\n",
              " ('3222+4097', '7319'),\n",
              " ('2489-8720', '-6231'),\n",
              " ('6286+1662', '7948'),\n",
              " ('1220+884', '2104'),\n",
              " ('5458-7450', '-1992'),\n",
              " ('4649-7280', '-2631'),\n",
              " ('9111+2802', '11913'),\n",
              " ('4931-2425', '2506'),\n",
              " ('7753+408', '8161'),\n",
              " ('3281-2624', '657'),\n",
              " ('8998+6956', '15954'),\n",
              " ('3519+6977', '10496'),\n",
              " ('3007+7642', '10649'),\n",
              " ('4924-893', '4031'),\n",
              " ('3563+8338', '11901'),\n",
              " ('6374-4717', '1657'),\n",
              " ('8319-2534', '5785'),\n",
              " ('7806-7545', '261'),\n",
              " ('1828+6757', '8585'),\n",
              " ('3745+8720', '12465'),\n",
              " ('8071-1828', '6243'),\n",
              " ('7804+4883', '12687'),\n",
              " ('285-3793', '-3508'),\n",
              " ('7216+6120', '13336'),\n",
              " ('5800-1443', '4357'),\n",
              " ('451-6247', '-5796'),\n",
              " ('9614+981', '10595'),\n",
              " ('4264-736', '3528'),\n",
              " ('1920-1952', '-32'),\n",
              " ('723+8065', '8788'),\n",
              " ('5396-5361', '35'),\n",
              " ('2750-7563', '-4813'),\n",
              " ('3952-2434', '1518'),\n",
              " ('6064+9516', '15580'),\n",
              " ('8720-1974', '6746'),\n",
              " ('140+4294', '4434'),\n",
              " ('3833+2993', '6826'),\n",
              " ('373+4402', '4775'),\n",
              " ('6247-6078', '169'),\n",
              " ('6088+3135', '9223'),\n",
              " ('1071-1999', '-928'),\n",
              " ('8962-9971', '-1009'),\n",
              " ('6310-4751', '1559'),\n",
              " ('3568-9584', '-6016'),\n",
              " ('5100+5437', '10537'),\n",
              " ('2884-7513', '-4629'),\n",
              " ('5680+1588', '7268'),\n",
              " ('6125+9987', '16112'),\n",
              " ('2501-7664', '-5163'),\n",
              " ('4762-8865', '-4103'),\n",
              " ('5733+7777', '13510'),\n",
              " ('3935-8744', '-4809'),\n",
              " ('7008+2769', '9777'),\n",
              " ('9762+8885', '18647'),\n",
              " ('4671+1610', '6281'),\n",
              " ('6323-5048', '1275'),\n",
              " ('5212-7576', '-2364'),\n",
              " ('7121+3453', '10574'),\n",
              " ('5295+1354', '6649'),\n",
              " ('6578+5634', '12212'),\n",
              " ('8417+4028', '12445'),\n",
              " ('7713+3321', '11034'),\n",
              " ('5692-606', '5086'),\n",
              " ('1344+1595', '2939'),\n",
              " ('1173-8642', '-7469'),\n",
              " ('1659-9058', '-7399'),\n",
              " ('6051-4497', '1554'),\n",
              " ('8486-9079', '-593'),\n",
              " ('7056+8552', '15608'),\n",
              " ('2087-671', '1416'),\n",
              " ('6855-4973', '1882'),\n",
              " ('7099-8281', '-1182'),\n",
              " ('2428+6365', '8793'),\n",
              " ('7966-7508', '458'),\n",
              " ('5695+143', '5838'),\n",
              " ('908+7773', '8681'),\n",
              " ('2474-2333', '141'),\n",
              " ('7494-3326', '4168'),\n",
              " ('4002-1284', '2718'),\n",
              " ('6348+8192', '14540'),\n",
              " ('2652+9640', '12292'),\n",
              " ('4213+6528', '10741'),\n",
              " ('2377-526', '1851'),\n",
              " ('4925+7789', '12714'),\n",
              " ('7455-3101', '4354'),\n",
              " ('8239+5455', '13694'),\n",
              " ('6429-619', '5810'),\n",
              " ('8366-4183', '4183'),\n",
              " ('501+3091', '3592'),\n",
              " ('2882-2062', '820'),\n",
              " ('7633+5139', '12772'),\n",
              " ('8254+8996', '17250'),\n",
              " ('8074+1938', '10012'),\n",
              " ('2691+3264', '5955'),\n",
              " ('1951+2206', '4157'),\n",
              " ('2584+1656', '4240'),\n",
              " ('1758+8050', '9808'),\n",
              " ('3048+8359', '11407'),\n",
              " ('7658+9488', '17146'),\n",
              " ('4775-9893', '-5118'),\n",
              " ('892-2037', '-1145'),\n",
              " ('198-1389', '-1191'),\n",
              " ('9646-7919', '1727'),\n",
              " ('7545-8721', '-1176'),\n",
              " ('3402+7208', '10610'),\n",
              " ('7297-872', '6425'),\n",
              " ('2266-8605', '-6339'),\n",
              " ('1877+4269', '6146'),\n",
              " ('2083-9493', '-7410'),\n",
              " ('7828-4411', '3417'),\n",
              " ('8462+7899', '16361'),\n",
              " ('4377-7475', '-3098'),\n",
              " ('9659-5462', '4197'),\n",
              " ('188-2203', '-2015'),\n",
              " ('18-7315', '-7297'),\n",
              " ('2007-6017', '-4010'),\n",
              " ('1495+9413', '10908'),\n",
              " ('1058-1010', '48'),\n",
              " ('7192-6115', '1077'),\n",
              " ('6667-738', '5929'),\n",
              " ('7162+7964', '15126'),\n",
              " ('4351-892', '3459'),\n",
              " ('7705-5936', '1769'),\n",
              " ('6117+3005', '9122'),\n",
              " ('4608-6618', '-2010'),\n",
              " ('3776+8085', '11861'),\n",
              " ('2466+9974', '12440'),\n",
              " ('9722-7319', '2403'),\n",
              " ('7494-6550', '944'),\n",
              " ('5702+3339', '9041'),\n",
              " ('5836-1574', '4262'),\n",
              " ('7205+9680', '16885'),\n",
              " ('9195+2737', '11932'),\n",
              " ('480-2246', '-1766'),\n",
              " ('5047+1809', '6856'),\n",
              " ('3631-5467', '-1836'),\n",
              " ('1792-2596', '-804'),\n",
              " ('5370-5638', '-268'),\n",
              " ('5778-4149', '1629'),\n",
              " ('295+7187', '7482'),\n",
              " ('1418+5643', '7061'),\n",
              " ('9546-9844', '-298'),\n",
              " ('6374-2809', '3565'),\n",
              " ('4899-2929', '1970'),\n",
              " ('7169-9221', '-2052'),\n",
              " ('760+1343', '2103'),\n",
              " ('2305-2251', '54'),\n",
              " ('6281-7915', '-1634'),\n",
              " ('3738+3858', '7596'),\n",
              " ('3261-9256', '-5995'),\n",
              " ('1685-9546', '-7861'),\n",
              " ('2111-1187', '924'),\n",
              " ('3695-1062', '2633'),\n",
              " ('444+3778', '4222'),\n",
              " ('99-3655', '-3556'),\n",
              " ('3824-2555', '1269'),\n",
              " ('2518-8016', '-5498'),\n",
              " ('9367-2781', '6586'),\n",
              " ('2870-6896', '-4026'),\n",
              " ('4613+6773', '11386'),\n",
              " ('8278-3695', '4583'),\n",
              " ('9993-9143', '850'),\n",
              " ('4233-3124', '1109'),\n",
              " ('3627-4741', '-1114'),\n",
              " ('1398+525', '1923'),\n",
              " ('910-1435', '-525'),\n",
              " ('8475-3520', '4955'),\n",
              " ('2912+5312', '8224'),\n",
              " ('526+5864', '6390'),\n",
              " ('5430+7604', '13034'),\n",
              " ('6432+6911', '13343'),\n",
              " ('9817-4560', '5257'),\n",
              " ('6907+6362', '13269'),\n",
              " ('7637+5064', '12701'),\n",
              " ('6203-4443', '1760'),\n",
              " ('193+8796', '8989'),\n",
              " ('9534+5421', '14955'),\n",
              " ('2415+1562', '3977'),\n",
              " ('6916-8504', '-1588'),\n",
              " ('7881+8049', '15930'),\n",
              " ('9168-753', '8415'),\n",
              " ('6572+9752', '16324'),\n",
              " ('7092-570', '6522'),\n",
              " ('4835-493', '4342'),\n",
              " ('228-1611', '-1383'),\n",
              " ('5272-6349', '-1077'),\n",
              " ('1984+395', '2379'),\n",
              " ('7275+8279', '15554'),\n",
              " ('313-2564', '-2251'),\n",
              " ('1882+696', '2578'),\n",
              " ('6642+338', '6980'),\n",
              " ('4895+3896', '8791'),\n",
              " ('1412-943', '469'),\n",
              " ('8821+6788', '15609'),\n",
              " ('3822+8810', '12632'),\n",
              " ('2218-2361', '-143'),\n",
              " ('4949+2407', '7356'),\n",
              " ('1630+9267', '10897'),\n",
              " ('132+9026', '9158'),\n",
              " ('7989+5743', '13732'),\n",
              " ('2012-8017', '-6005'),\n",
              " ('9224+6329', '15553'),\n",
              " ('3960-4348', '-388'),\n",
              " ('6334-5018', '1316'),\n",
              " ('4517-3932', '585'),\n",
              " ('1736-8308', '-6572'),\n",
              " ('5908-1043', '4865'),\n",
              " ('8684+6452', '15136'),\n",
              " ('5839+7298', '13137'),\n",
              " ('6199-1472', '4727'),\n",
              " ('1267+3151', '4418'),\n",
              " ('2118+8486', '10604'),\n",
              " ('8448+8255', '16703'),\n",
              " ('375-742', '-367'),\n",
              " ('9808-1315', '8493'),\n",
              " ('439+3907', '4346'),\n",
              " ('1836+6815', '8651'),\n",
              " ('9817-4496', '5321'),\n",
              " ('613+4778', '5391'),\n",
              " ('3731-5289', '-1558'),\n",
              " ('2514+3134', '5648'),\n",
              " ('12+7353', '7365'),\n",
              " ('6800+1083', '7883'),\n",
              " ('5920-1895', '4025'),\n",
              " ('8481-1085', '7396'),\n",
              " ('6499+8010', '14509'),\n",
              " ('3147-8238', '-5091'),\n",
              " ('4653-5274', '-621'),\n",
              " ('9686-5410', '4276'),\n",
              " ('510-2289', '-1779'),\n",
              " ('7295+4602', '11897'),\n",
              " ('1203-9931', '-8728'),\n",
              " ('239-7097', '-6858'),\n",
              " ('4600-7904', '-3304'),\n",
              " ('9000+8724', '17724'),\n",
              " ('6540-261', '6279'),\n",
              " ('5858-6373', '-515'),\n",
              " ('7062+2254', '9316'),\n",
              " ('1455+8936', '10391'),\n",
              " ('6354-5060', '1294'),\n",
              " ('1751-2424', '-673'),\n",
              " ('8996-923', '8073'),\n",
              " ('145+9049', '9194'),\n",
              " ('6798-4366', '2432'),\n",
              " ('1121-7294', '-6173'),\n",
              " ('4540+9070', '13610'),\n",
              " ('760-4173', '-3413'),\n",
              " ('5463+2435', '7898'),\n",
              " ('1791-9937', '-8146'),\n",
              " ('365+615', '980'),\n",
              " ('4974+8700', '13674'),\n",
              " ('8527+4748', '13275'),\n",
              " ('9573-829', '8744'),\n",
              " ('458-9067', '-8609'),\n",
              " ('9888-744', '9144'),\n",
              " ('7263-4130', '3133'),\n",
              " ('1920+2183', '4103'),\n",
              " ('1672+4495', '6167'),\n",
              " ('2488+7209', '9697'),\n",
              " ('7992+3712', '11704'),\n",
              " ('4537+9418', '13955'),\n",
              " ('8747+7797', '16544'),\n",
              " ('9543-4707', '4836'),\n",
              " ('8578+8189', '16767'),\n",
              " ('5637-442', '5195'),\n",
              " ('978-9639', '-8661'),\n",
              " ('3776+4170', '7946'),\n",
              " ('6237+5115', '11352'),\n",
              " ('3027-4105', '-1078'),\n",
              " ('3822-4882', '-1060'),\n",
              " ('1230-3957', '-2727'),\n",
              " ('4304+6735', '11039'),\n",
              " ('7021+7499', '14520'),\n",
              " ('3642+1728', '5370'),\n",
              " ('9943-8793', '1150'),\n",
              " ('744+8003', '8747'),\n",
              " ('9892-7615', '2277'),\n",
              " ('7875+5777', '13652'),\n",
              " ('7115+8074', '15189'),\n",
              " ('6464-7288', '-824'),\n",
              " ('9533-8295', '1238'),\n",
              " ('3970+4802', '8772'),\n",
              " ('6919+5922', '12841'),\n",
              " ('8528-6572', '1956'),\n",
              " ('3893-2222', '1671'),\n",
              " ('8508-5338', '3170'),\n",
              " ('2386+3716', '6102'),\n",
              " ('1695-9237', '-7542'),\n",
              " ('8399-7192', '1207'),\n",
              " ('7287-4382', '2905'),\n",
              " ('6973+622', '7595'),\n",
              " ('8842-9082', '-240'),\n",
              " ('9090-8151', '939'),\n",
              " ('4800+8998', '13798'),\n",
              " ('8364+9807', '18171'),\n",
              " ('4453+760', '5213'),\n",
              " ('7394-5325', '2069'),\n",
              " ('2921-4677', '-1756'),\n",
              " ('5737+8926', '14663'),\n",
              " ('1749+7010', '8759'),\n",
              " ('5696+3368', '9064'),\n",
              " ('8639-1181', '7458'),\n",
              " ('3391+1517', '4908'),\n",
              " ('4119-9573', '-5454'),\n",
              " ('9613+8643', '18256'),\n",
              " ('7416-3090', '4326'),\n",
              " ('9753+6485', '16238'),\n",
              " ('7315+7095', '14410'),\n",
              " ('1798-7757', '-5959'),\n",
              " ('2917-1348', '1569'),\n",
              " ('1796+4406', '6202'),\n",
              " ('1581-8692', '-7111'),\n",
              " ('6469-1369', '5100'),\n",
              " ('2791+8448', '11239'),\n",
              " ('6208-6300', '-92'),\n",
              " ('5855+1999', '7854'),\n",
              " ('2463+5710', '8173'),\n",
              " ('6136-1321', '4815'),\n",
              " ('8541-1482', '7059'),\n",
              " ('1128-6237', '-5109'),\n",
              " ('7282-3560', '3722'),\n",
              " ('6165-7177', '-1012'),\n",
              " ('8673-4651', '4022'),\n",
              " ('4812-2778', '2034'),\n",
              " ('346+9196', '9542'),\n",
              " ('1916-3227', '-1311'),\n",
              " ('5589+5593', '11182'),\n",
              " ('1163-7812', '-6649'),\n",
              " ('7943+924', '8867'),\n",
              " ('1085+9904', '10989'),\n",
              " ('667+3318', '3985'),\n",
              " ('9908-5388', '4520'),\n",
              " ('4454+8321', '12775'),\n",
              " ('9678-2139', '7539'),\n",
              " ('4105-7071', '-2966'),\n",
              " ('5652-2563', '3089'),\n",
              " ('6467-349', '6118'),\n",
              " ('8377-1510', '6867'),\n",
              " ('1091+7580', '8671'),\n",
              " ('514+453', '967'),\n",
              " ('3347-7899', '-4552'),\n",
              " ('8231+945', '9176'),\n",
              " ('2697+104', '2801'),\n",
              " ('3669+7776', '11445'),\n",
              " ('2568-7605', '-5037'),\n",
              " ('2745+3159', '5904'),\n",
              " ('810-2706', '-1896'),\n",
              " ('5289+6519', '11808'),\n",
              " ('9017-4714', '4303'),\n",
              " ('5047+8641', '13688'),\n",
              " ('3768-8264', '-4496'),\n",
              " ('1432-1996', '-564'),\n",
              " ('9669-6403', '3266'),\n",
              " ('6005+9316', '15321'),\n",
              " ('7992-4526', '3466'),\n",
              " ('1604-4641', '-3037'),\n",
              " ('9844-378', '9466'),\n",
              " ('8266-5395', '2871'),\n",
              " ('1844-809', '1035'),\n",
              " ('8877+2323', '11200'),\n",
              " ('1192+4780', '5972'),\n",
              " ('5547-7181', '-1634'),\n",
              " ('5711+1170', '6881'),\n",
              " ('2323-8008', '-5685'),\n",
              " ('4998-136', '4862'),\n",
              " ('6819+7815', '14634'),\n",
              " ('1313-717', '596'),\n",
              " ('1509+356', '1865'),\n",
              " ('3431-9518', '-6087'),\n",
              " ('9215-5481', '3734'),\n",
              " ('581-5767', '-5186'),\n",
              " ('4148+4050', '8198'),\n",
              " ('7559-429', '7130'),\n",
              " ('6432+8383', '14815'),\n",
              " ('7526+8887', '16413'),\n",
              " ('8621-1446', '7175'),\n",
              " ('8210+4368', '12578'),\n",
              " ('5965+483', '6448'),\n",
              " ('2540-3628', '-1088'),\n",
              " ('681+4258', '4939'),\n",
              " ('4696+2307', '7003'),\n",
              " ('833+5483', '6316'),\n",
              " ('5950-9994', '-4044'),\n",
              " ('2778+3978', '6756'),\n",
              " ('2265+4140', '6405'),\n",
              " ('9062-14', '9048'),\n",
              " ('4239-183', '4056'),\n",
              " ('1091-9841', '-8750'),\n",
              " ('8791+4639', '13430'),\n",
              " ('9055+6223', '15278'),\n",
              " ('3027+5471', '8498'),\n",
              " ('6892+891', '7783'),\n",
              " ('3963+1530', '5493'),\n",
              " ('9698+1810', '11508'),\n",
              " ('5459-3386', '2073'),\n",
              " ('7003+4772', '11775'),\n",
              " ('8351-5017', '3334'),\n",
              " ('1996-3286', '-1290'),\n",
              " ('4364-1735', '2629'),\n",
              " ('779-1372', '-593'),\n",
              " ('1815+6429', '8244'),\n",
              " ('6031+6671', '12702'),\n",
              " ('3705+219', '3924'),\n",
              " ('9673+1995', '11668'),\n",
              " ('1280+1877', '3157'),\n",
              " ('6052+8348', '14400'),\n",
              " ('3421+5433', '8854'),\n",
              " ('509+2553', '3062'),\n",
              " ('3879-8055', '-4176'),\n",
              " ('8427+4620', '13047'),\n",
              " ('3010-3709', '-699'),\n",
              " ('5589+9097', '14686'),\n",
              " ('8607-4647', '3960'),\n",
              " ('251-1179', '-928'),\n",
              " ('9464-9495', '-31'),\n",
              " ('9087+1163', '10250'),\n",
              " ('197-2286', '-2089'),\n",
              " ('6641-719', '5922'),\n",
              " ('3284+1740', '5024'),\n",
              " ('2204-5908', '-3704'),\n",
              " ('1802-5424', '-3622'),\n",
              " ('5956-2474', '3482'),\n",
              " ('5445+572', '6017'),\n",
              " ('3676+2395', '6071'),\n",
              " ('3053-3248', '-195'),\n",
              " ('4572-2774', '1798'),\n",
              " ('7769-6362', '1407'),\n",
              " ('6633-1289', '5344'),\n",
              " ('4782-4078', '704'),\n",
              " ('7323-372', '6951'),\n",
              " ('2592+8246', '10838'),\n",
              " ('2525-9486', '-6961'),\n",
              " ('7012-27', '6985'),\n",
              " ('2394+7792', '10186'),\n",
              " ('7790-4690', '3100'),\n",
              " ('8272-4503', '3769'),\n",
              " ('591-7249', '-6658'),\n",
              " ('9642-7012', '2630'),\n",
              " ('8752+8847', '17599'),\n",
              " ('5791-2731', '3060'),\n",
              " ('6432-7387', '-955'),\n",
              " ('3194-7382', '-4188'),\n",
              " ('4507-131', '4376'),\n",
              " ('7048+1635', '8683'),\n",
              " ('1242-1753', '-511'),\n",
              " ('3578-292', '3286'),\n",
              " ('2635+9572', '12207'),\n",
              " ('8210-4012', '4198'),\n",
              " ('2702-5812', '-3110'),\n",
              " ('5836+121', '5957'),\n",
              " ('4070+9735', '13805'),\n",
              " ('2674-1430', '1244'),\n",
              " ('3314-68', '3246'),\n",
              " ('8768+6753', '15521'),\n",
              " ('9054-7699', '1355'),\n",
              " ('9317-3089', '6228'),\n",
              " ('2447-3472', '-1025'),\n",
              " ('3302+1111', '4413'),\n",
              " ('8893+7901', '16794'),\n",
              " ('4830-3038', '1792'),\n",
              " ('6189-3753', '2436'),\n",
              " ('1372+1303', '2675'),\n",
              " ('3097+8490', '11587'),\n",
              " ('8205+2743', '10948'),\n",
              " ('7244+2211', '9455'),\n",
              " ('5565-3141', '2424'),\n",
              " ('7530-2497', '5033'),\n",
              " ('8288-6433', '1855'),\n",
              " ('8324+3751', '12075'),\n",
              " ('1015+7940', '8955'),\n",
              " ('8890-3178', '5712'),\n",
              " ('1412-2730', '-1318'),\n",
              " ('6155+6873', '13028'),\n",
              " ('2131-5613', '-3482'),\n",
              " ('9182-8015', '1167'),\n",
              " ('1043-1947', '-904'),\n",
              " ('6847+2788', '9635'),\n",
              " ('2856-3206', '-350'),\n",
              " ('1307+6455', '7762'),\n",
              " ('8758+9904', '18662'),\n",
              " ('7103-1368', '5735'),\n",
              " ('5126-4526', '600'),\n",
              " ('6784+6629', '13413'),\n",
              " ('6521+2026', '8547'),\n",
              " ('1530-9344', '-7814'),\n",
              " ('6867+3020', '9887'),\n",
              " ('5180-5482', '-302'),\n",
              " ('7411-7507', '-96'),\n",
              " ('7289-9460', '-2171'),\n",
              " ('6910-5505', '1405'),\n",
              " ('9085-6526', '2559'),\n",
              " ('8893-2527', '6366'),\n",
              " ('4068-849', '3219'),\n",
              " ('9981-1973', '8008'),\n",
              " ('4871-7795', '-2924'),\n",
              " ('3836+9638', '13474'),\n",
              " ('7525+7092', '14617'),\n",
              " ('1743+9806', '11549'),\n",
              " ('366-6808', '-6442'),\n",
              " ('3195+6897', '10092'),\n",
              " ('7155+3474', '10629'),\n",
              " ('235+5089', '5324'),\n",
              " ('7682-1614', '6068'),\n",
              " ('4941+179', '5120'),\n",
              " ('5418-7512', '-2094'),\n",
              " ('4957+7907', '12864'),\n",
              " ('5281-6550', '-1269'),\n",
              " ('8495-5101', '3394'),\n",
              " ('8486-708', '7778'),\n",
              " ('4067-7093', '-3026'),\n",
              " ('4121+1877', '5998'),\n",
              " ('7151+4915', '12066'),\n",
              " ('7519-7663', '-144'),\n",
              " ('7526-1130', '6396'),\n",
              " ('5070+6322', '11392'),\n",
              " ('2523+2218', '4741'),\n",
              " ('7347+3902', '11249'),\n",
              " ('593+1297', '1890'),\n",
              " ('7495-8871', '-1376'),\n",
              " ('8990+1097', '10087'),\n",
              " ('8003+2540', '10543'),\n",
              " ('3776+3725', '7501'),\n",
              " ('9140-2094', '7046'),\n",
              " ('6819+4524', '11343'),\n",
              " ('7856+7374', '15230'),\n",
              " ('5039+5037', '10076'),\n",
              " ('1790-7195', '-5405'),\n",
              " ('4112-5840', '-1728'),\n",
              " ('9771-1225', '8546'),\n",
              " ('7734+4238', '11972'),\n",
              " ('2298+6093', '8391'),\n",
              " ('9669+5615', '15284'),\n",
              " ('1569-1201', '368'),\n",
              " ('2743+8400', '11143'),\n",
              " ('6493+1576', '8069'),\n",
              " ('6717+6188', '12905'),\n",
              " ('1011+6272', '7283'),\n",
              " ('7715-2413', '5302'),\n",
              " ('3953-7394', '-3441'),\n",
              " ('3879+9073', '12952'),\n",
              " ('3622+3300', '6922'),\n",
              " ('9187-3276', '5911'),\n",
              " ('8696+2250', '10946'),\n",
              " ('8770-421', '8349'),\n",
              " ('7389-2419', '4970'),\n",
              " ('8611+7320', '15931'),\n",
              " ('5315+2496', '7811'),\n",
              " ('516+9738', '10254'),\n",
              " ('4661+951', '5612'),\n",
              " ('9575+9650', '19225'),\n",
              " ('5867-8942', '-3075'),\n",
              " ('6835+3955', '10790'),\n",
              " ('6240+2420', '8660'),\n",
              " ('6858-2687', '4171'),\n",
              " ('5545-3860', '1685'),\n",
              " ('4515+1488', '6003'),\n",
              " ('7348+3910', '11258'),\n",
              " ('7338+9993', '17331'),\n",
              " ('1182+2218', '3400'),\n",
              " ('2217-2827', '-610'),\n",
              " ('7534+3554', '11088'),\n",
              " ('4075+3931', '8006'),\n",
              " ('9603+8690', '18293'),\n",
              " ('9486+750', '10236'),\n",
              " ('8918+877', '9795'),\n",
              " ('8735-3337', '5398'),\n",
              " ('8660+994', '9654'),\n",
              " ('3626+8563', '12189'),\n",
              " ('34+5333', '5367'),\n",
              " ('3615+8623', '12238'),\n",
              " ('3313+8557', '11870'),\n",
              " ('8502-9559', '-1057'),\n",
              " ('576+2735', '3311'),\n",
              " ('7442+9974', '17416'),\n",
              " ('8195-4060', '4135'),\n",
              " ('804+4925', '5729'),\n",
              " ('7333-8014', '-681'),\n",
              " ('7339-3276', '4063'),\n",
              " ('581+383', '964'),\n",
              " ('4483+2531', '7014'),\n",
              " ('397-1114', '-717'),\n",
              " ('6270-3301', '2969'),\n",
              " ('5528+332', '5860'),\n",
              " ('8733-4742', '3991'),\n",
              " ('7698+2804', '10502'),\n",
              " ('3010-327', '2683'),\n",
              " ('4305-4420', '-115'),\n",
              " ('603-4721', '-4118'),\n",
              " ('7555+9182', '16737'),\n",
              " ('82-8021', '-7939'),\n",
              " ('4354-8078', '-3724'),\n",
              " ('9082+9748', '18830'),\n",
              " ('1132-4617', '-3485'),\n",
              " ('8708-3502', '5206'),\n",
              " ('6300+5085', '11385'),\n",
              " ('8769+753', '9522'),\n",
              " ('7813-5179', '2634'),\n",
              " ('4666-6797', '-2131'),\n",
              " ('3197+1993', '5190'),\n",
              " ('9943-361', '9582'),\n",
              " ('4448+3167', '7615'),\n",
              " ('4494-4935', '-441'),\n",
              " ('9070+7496', '16566'),\n",
              " ('1791-453', '1338'),\n",
              " ('9405-8210', '1195'),\n",
              " ('4708-6730', '-2022'),\n",
              " ('4730+8747', '13477'),\n",
              " ('4672+3546', '8218'),\n",
              " ('6239+414', '6653'),\n",
              " ('4999+7520', '12519'),\n",
              " ('3484+1751', '5235'),\n",
              " ('8643-4153', '4490'),\n",
              " ('9128+3655', '12783'),\n",
              " ('4940+8383', '13323'),\n",
              " ('8925+5914', '14839'),\n",
              " ('8813-6840', '1973'),\n",
              " ('5074+3253', '8327'),\n",
              " ('528-6118', '-5590'),\n",
              " ('7127-4881', '2246'),\n",
              " ('1635+5902', '7537'),\n",
              " ('1689+1402', '3091'),\n",
              " ('214-1817', '-1603'),\n",
              " ('7211-1165', '6046'),\n",
              " ('1860-8474', '-6614'),\n",
              " ('8638-7740', '898'),\n",
              " ('2055-4148', '-2093'),\n",
              " ('5758+6462', '12220'),\n",
              " ('6975+6752', '13727'),\n",
              " ('502+8319', '8821'),\n",
              " ('6552-1863', '4689'),\n",
              " ('725+2762', '3487'),\n",
              " ('2587+4348', '6935'),\n",
              " ('8318-4644', '3674'),\n",
              " ('7038-4184', '2854'),\n",
              " ('451+8642', '9093'),\n",
              " ('9722+2032', '11754'),\n",
              " ('9628+9886', '19514'),\n",
              " ('544-6468', '-5924'),\n",
              " ('8417-6662', '1755'),\n",
              " ('3747+2988', '6735'),\n",
              " ('651+5354', '6005'),\n",
              " ('1804-392', '1412'),\n",
              " ('7832-5717', '2115'),\n",
              " ('8763-6305', '2458'),\n",
              " ('579+6003', '6582'),\n",
              " ('4597-7172', '-2575'),\n",
              " ('3539+5110', '8649'),\n",
              " ('5993+7740', '13733'),\n",
              " ('9772+2342', '12114'),\n",
              " ('2016+7706', '9722'),\n",
              " ('3048-858', '2190'),\n",
              " ('5526-5187', '339'),\n",
              " ('4075+9609', '13684'),\n",
              " ('7996+8283', '16279'),\n",
              " ('1303-2601', '-1298'),\n",
              " ('1359+5254', '6613'),\n",
              " ('6794-1368', '5426'),\n",
              " ('5556+423', '5979'),\n",
              " ('1846+3864', '5710'),\n",
              " ('8438+2913', '11351'),\n",
              " ('1281+4274', '5555'),\n",
              " ('8981-3269', '5712'),\n",
              " ('3129+4389', '7518'),\n",
              " ('5817+535', '6352'),\n",
              " ('7660+1476', '9136'),\n",
              " ('7235+6256', '13491'),\n",
              " ('9382+5482', '14864'),\n",
              " ('5718-1798', '3920'),\n",
              " ('4294+1762', '6056'),\n",
              " ('4483-381', '4102'),\n",
              " ('3419-9148', '-5729'),\n",
              " ('309+7426', '7735'),\n",
              " ('5556+4223', '9779'),\n",
              " ('6558-8811', '-2253'),\n",
              " ('775+2322', '3097'),\n",
              " ('3107-706', '2401'),\n",
              " ('8274+3971', '12245'),\n",
              " ('9468-9390', '78'),\n",
              " ('2009-875', '1134'),\n",
              " ('2322-2913', '-591'),\n",
              " ('5970+7383', '13353'),\n",
              " ('9929+7722', '17651'),\n",
              " ('4252-528', '3724'),\n",
              " ('8944+8186', '17130'),\n",
              " ('4493-9921', '-5428'),\n",
              " ('6549-5088', '1461'),\n",
              " ('363-7010', '-6647'),\n",
              " ('3085-9800', '-6715'),\n",
              " ('3880-4432', '-552'),\n",
              " ('4820-7501', '-2681'),\n",
              " ('8463+7735', '16198'),\n",
              " ('5494+926', '6420'),\n",
              " ('9531+3774', '13305'),\n",
              " ('8809+4003', '12812'),\n",
              " ('2189-5563', '-3374'),\n",
              " ('1128+8964', '10092'),\n",
              " ('4001-716', '3285'),\n",
              " ('4128-7125', '-2997'),\n",
              " ('9452+411', '9863'),\n",
              " ('7766+6463', '14229'),\n",
              " ('7243-805', '6438'),\n",
              " ('9778-2167', '7611'),\n",
              " ('7159+4456', '11615'),\n",
              " ('6532-5297', '1235'),\n",
              " ('9055-1057', '7998'),\n",
              " ('7192-4257', '2935'),\n",
              " ('6299+1335', '7634'),\n",
              " ('1531+7462', '8993'),\n",
              " ('3197-3198', '-1'),\n",
              " ('1095-1296', '-201'),\n",
              " ('431+1210', '1641'),\n",
              " ('9212-6004', '3208'),\n",
              " ('7203-9665', '-2462'),\n",
              " ('7580-378', '7202'),\n",
              " ('2439+3860', '6299'),\n",
              " ('4379-9131', '-4752'),\n",
              " ('8592+858', '9450'),\n",
              " ('5192+2111', '7303'),\n",
              " ('7461+3685', '11146'),\n",
              " ('3332+8935', '12267'),\n",
              " ('7407+2226', '9633'),\n",
              " ('4426-2891', '1535'),\n",
              " ('4392-3357', '1035'),\n",
              " ('1290+1737', '3027'),\n",
              " ('4969+7538', '12507'),\n",
              " ('9151+947', '10098'),\n",
              " ('3318-4853', '-1535'),\n",
              " ('9385-2828', '6557'),\n",
              " ('5117-6320', '-1203'),\n",
              " ('6009-402', '5607'),\n",
              " ('5378-6507', '-1129'),\n",
              " ('8641-3827', '4814'),\n",
              " ('7458-5040', '2418'),\n",
              " ('7243+2630', '9873'),\n",
              " ('6346-7475', '-1129'),\n",
              " ('1364+185', '1549'),\n",
              " ('6684+9600', '16284'),\n",
              " ('6582-5914', '668'),\n",
              " ('2277+6912', '9189'),\n",
              " ('473-2358', '-1885'),\n",
              " ('239+5899', '6138'),\n",
              " ('9164-882', '8282'),\n",
              " ('4619+4541', '9160'),\n",
              " ('9089-3793', '5296'),\n",
              " ('2124+3924', '6048'),\n",
              " ('4628+9003', '13631'),\n",
              " ('3048+9491', '12539'),\n",
              " ('8942-6596', '2346'),\n",
              " ('7004+2979', '9983'),\n",
              " ('4140-2160', '1980'),\n",
              " ('8685+8371', '17056'),\n",
              " ('9802+1774', '11576'),\n",
              " ('6360+7118', '13478'),\n",
              " ('8844+8349', '17193'),\n",
              " ('122+1186', '1308'),\n",
              " ('8378-9367', '-989'),\n",
              " ('9785+3891', '13676'),\n",
              " ('3074+3140', '6214'),\n",
              " ('8645-352', '8293'),\n",
              " ('8847-5528', '3319'),\n",
              " ('5868-7973', '-2105'),\n",
              " ('2598+2607', '5205'),\n",
              " ('7779-2317', '5462'),\n",
              " ('4881+632', '5513'),\n",
              " ('7794-4832', '2962'),\n",
              " ('2686-1087', '1599'),\n",
              " ('2880+4121', '7001'),\n",
              " ('9555-753', '8802'),\n",
              " ('5033-1174', '3859'),\n",
              " ('3177-4928', '-1751'),\n",
              " ('1983+6435', '8418'),\n",
              " ('5636-6183', '-547'),\n",
              " ('759-8908', '-8149'),\n",
              " ('3546+7571', '11117'),\n",
              " ('303+5061', '5364'),\n",
              " ('2925+9898', '12823'),\n",
              " ('1447-2923', '-1476'),\n",
              " ('2133-2307', '-174'),\n",
              " ('9115-5672', '3443'),\n",
              " ('1596-2789', '-1193'),\n",
              " ('4760-5244', '-484'),\n",
              " ('911+3735', '4646'),\n",
              " ('7046+2404', '9450'),\n",
              " ('5772-4481', '1291'),\n",
              " ('4558+2583', '7141'),\n",
              " ('4788+9899', '14687'),\n",
              " ('8813+5156', '13969'),\n",
              " ('4089+1871', '5960'),\n",
              " ('1738-4001', '-2263'),\n",
              " ('7791-3997', '3794'),\n",
              " ('4287-4675', '-388'),\n",
              " ('169-7984', '-7815'),\n",
              " ('9820-5935', '3885'),\n",
              " ('910+1110', '2020'),\n",
              " ('3321+1543', '4864'),\n",
              " ('3364-759', '2605'),\n",
              " ('6524+4020', '10544'),\n",
              " ('1433+153', '1586'),\n",
              " ('5632-3142', '2490'),\n",
              " ('9884+3927', '13811'),\n",
              " ('1924+161', '2085'),\n",
              " ('6107-4510', '1597'),\n",
              " ('5215-3324', '1891'),\n",
              " ('6809-429', '6380'),\n",
              " ('8353-6048', '2305'),\n",
              " ('9733-5808', '3925'),\n",
              " ('272+8780', '9052'),\n",
              " ('3778+9761', '13539'),\n",
              " ('2728+5926', '8654'),\n",
              " ('4305+7905', '12210'),\n",
              " ('9601-348', '9253'),\n",
              " ('9444+3931', '13375'),\n",
              " ('1013-6186', '-5173'),\n",
              " ('2963-3382', '-419'),\n",
              " ('2917+9202', '12119'),\n",
              " ('5846-7950', '-2104'),\n",
              " ('2097+7894', '9991'),\n",
              " ('7184+1537', '8721'),\n",
              " ('3332-6470', '-3138'),\n",
              " ('9917-6419', '3498'),\n",
              " ('7648+3160', '10808'),\n",
              " ('5010+5772', '10782'),\n",
              " ('2841+7360', '10201'),\n",
              " ('7735-9378', '-1643'),\n",
              " ('4880+5385', '10265'),\n",
              " ('6542-2678', '3864'),\n",
              " ('6273-9266', '-2993'),\n",
              " ('7429+8517', '15946'),\n",
              " ('1717-8118', '-6401'),\n",
              " ('6118-6224', '-106'),\n",
              " ('5439+2083', '7522'),\n",
              " ('570+9282', '9852'),\n",
              " ('9430-9885', '-455'),\n",
              " ('6491+8960', '15451'),\n",
              " ('4797+3266', '8063'),\n",
              " ('4204+6217', '10421'),\n",
              " ('2869-8266', '-5397'),\n",
              " ('8776+9230', '18006'),\n",
              " ('9612+6078', '15690'),\n",
              " ('4389+2492', '6881'),\n",
              " ('5993-5543', '450'),\n",
              " ('3704-8810', '-5106'),\n",
              " ('3073+1679', '4752'),\n",
              " ('5960+7994', '13954'),\n",
              " ('861+684', '1545'),\n",
              " ('1697-6558', '-4861'),\n",
              " ('9865-7715', '2150'),\n",
              " ('4385+1297', '5682'),\n",
              " ('3171+6698', '9869'),\n",
              " ('347+5377', '5724'),\n",
              " ('2822+583', '3405'),\n",
              " ('5498-34', '5464'),\n",
              " ('1417+5941', '7358'),\n",
              " ('194+1470', '1664'),\n",
              " ('762-9972', '-9210'),\n",
              " ('3339+3008', '6347'),\n",
              " ('7206-7376', '-170'),\n",
              " ('3432-3916', '-484'),\n",
              " ('9074-7318', '1756'),\n",
              " ('9926-8387', '1539'),\n",
              " ('5653-7266', '-1613'),\n",
              " ('8013+3762', '11775'),\n",
              " ('8959-7435', '1524'),\n",
              " ('1276-3608', '-2332'),\n",
              " ('441-3710', '-3269'),\n",
              " ('3552-1592', '1960'),\n",
              " ('4080+63', '4143'),\n",
              " ('9942-7653', '2289'),\n",
              " ('9425+4320', '13745'),\n",
              " ('6894-7041', '-147'),\n",
              " ('3557-3039', '518'),\n",
              " ('8590+4593', '13183'),\n",
              " ('4541-8503', '-3962'),\n",
              " ('5310-3524', '1786'),\n",
              " ('3768+555', '4323'),\n",
              " ('4922+9646', '14568'),\n",
              " ('5702-9302', '-3600'),\n",
              " ('2350+6945', '9295'),\n",
              " ('6912-7673', '-761'),\n",
              " ('8397-6266', '2131'),\n",
              " ('8678-4822', '3856'),\n",
              " ('6912+7609', '14521'),\n",
              " ('3216-9485', '-6269'),\n",
              " ('3203+5353', '8556'),\n",
              " ('289-5398', '-5109'),\n",
              " ('2428-5106', '-2678'),\n",
              " ('5827+8844', '14671'),\n",
              " ('4004-425', '3579'),\n",
              " ('4632+9545', '14177'),\n",
              " ('5912-209', '5703'),\n",
              " ('2576-8528', '-5952'),\n",
              " ('4805+860', '5665'),\n",
              " ('360+9849', '10209'),\n",
              " ('5674-5374', '300'),\n",
              " ('5437+2366', '7803'),\n",
              " ('9052-7887', '1165'),\n",
              " ('1545+7436', '8981'),\n",
              " ('2333+8139', '10472'),\n",
              " ('4140-4658', '-518'),\n",
              " ('2168+8631', '10799'),\n",
              " ('6129+8953', '15082'),\n",
              " ('3229-723', '2506'),\n",
              " ('5148+9667', '14815'),\n",
              " ('1550-4070', '-2520'),\n",
              " ('6430-1730', '4700'),\n",
              " ('8328+3817', '12145'),\n",
              " ('2332-9470', '-7138'),\n",
              " ('247-6878', '-6631'),\n",
              " ('6874-366', '6508'),\n",
              " ('2054-3494', '-1440'),\n",
              " ('3739-4272', '-533'),\n",
              " ('6431-8550', '-2119'),\n",
              " ('4346-1272', '3074'),\n",
              " ('2220+6365', '8585'),\n",
              " ('7334-5482', '1852'),\n",
              " ('9971+8563', '18534'),\n",
              " ('9163+2416', '11579'),\n",
              " ('4136+8644', '12780'),\n",
              " ('5062+4220', '9282'),\n",
              " ('3255+9924', '13179'),\n",
              " ('2415-4925', '-2510'),\n",
              " ('1360-7754', '-6394'),\n",
              " ('5524-5804', '-280'),\n",
              " ('8623-6046', '2577'),\n",
              " ('4292-3714', '578'),\n",
              " ('902+9945', '10847'),\n",
              " ('2025+8466', '10491'),\n",
              " ('3006-3273', '-267'),\n",
              " ('2941+9348', '12289'),\n",
              " ('4567-8872', '-4305'),\n",
              " ('4684+3285', '7969'),\n",
              " ('9116-3168', '5948'),\n",
              " ('6752+1186', '7938'),\n",
              " ('7819-6501', '1318'),\n",
              " ('9610-550', '9060'),\n",
              " ('2334-3817', '-1483'),\n",
              " ('2808-4113', '-1305'),\n",
              " ('6124+4974', '11098'),\n",
              " ('8787-5026', '3761'),\n",
              " ('340-8721', '-8381'),\n",
              " ('5178-7253', '-2075'),\n",
              " ('2637+7927', '10564'),\n",
              " ('5858+2186', '8044'),\n",
              " ('9852+5787', '15639'),\n",
              " ('3944-8645', '-4701'),\n",
              " ('2963-3018', '-55'),\n",
              " ('1121-6333', '-5212'),\n",
              " ('7478+805', '8283'),\n",
              " ('5437-8269', '-2832'),\n",
              " ('2766-2462', '304'),\n",
              " ('3501-8348', '-4847'),\n",
              " ('7776-1098', '6678'),\n",
              " ('4428-6634', '-2206'),\n",
              " ('7470+2586', '10056'),\n",
              " ('2123+9385', '11508'),\n",
              " ('1908+4048', '5956'),\n",
              " ('2429+6850', '9279'),\n",
              " ('990+5207', '6197'),\n",
              " ('1280-8606', '-7326'),\n",
              " ('8351+5903', '14254'),\n",
              " ('563+2669', '3232'),\n",
              " ('3884-9548', '-5664'),\n",
              " ('2864-8082', '-5218'),\n",
              " ('1697+3514', '5211'),\n",
              " ('5042+134', '5176'),\n",
              " ('3979-3269', '710'),\n",
              " ('9902+1493', '11395'),\n",
              " ('599-5452', '-4853'),\n",
              " ('4607-4310', '297'),\n",
              " ('1333+5720', '7053'),\n",
              " ('3467+2010', '5477'),\n",
              " ('5759+418', '6177'),\n",
              " ('4283+7890', '12173'),\n",
              " ('6167-6314', '-147'),\n",
              " ('790-2950', '-2160'),\n",
              " ('5432-3675', '1757'),\n",
              " ('9613+1767', '11380'),\n",
              " ('5404+8782', '14186'),\n",
              " ('9291-8607', '684'),\n",
              " ...]"
            ]
          },
          "metadata": {
            "tags": []
          },
          "execution_count": 9
        }
      ]
    },
    {
      "cell_type": "markdown",
      "metadata": {
        "id": "-UUGUKX7Yd1V",
        "colab_type": "text"
      },
      "source": [
        "## Prepare data for the neural network\n",
        "\n",
        "The next stage of data preparation is creating mappings of the characters to their indices in some vocabulary. Since in our task we already know which symbols will appear in the inputs and outputs, generating the vocabulary is a simple step.\n",
        "\n",
        "#### How to create dictionaries for other task\n",
        "\n",
        "First of all, you need to understand what is the basic unit of the sequence in your task. In our case, we operate on symbols and the basic unit is a symbol. The number of symbols is small, so we don't need to think about filtering/normalization steps. However, in other tasks, the basic unit is often a word, and in this case the mapping would be *word $\\to$ integer*. The number of words might be huge, so it would be reasonable to filter them, for example, by frequency and leave only the frequent ones. Other strategies that your should consider are: data normalization (lowercasing, tokenization, how to consider punctuation marks), separate vocabulary for input and for output (e.g. for machine translation), some specifics of the task."
      ]
    },
    {
      "cell_type": "code",
      "metadata": {
        "id": "hEcZV88FYd1W",
        "colab_type": "code",
        "colab": {}
      },
      "source": [
        "word2id = {symbol:i for i, symbol in enumerate('#^$+-1234567890')}\n",
        "id2word = {i:symbol for symbol, i in word2id.items()}"
      ],
      "execution_count": 10,
      "outputs": []
    },
    {
      "cell_type": "code",
      "metadata": {
        "id": "Hrw7PXxgfXC1",
        "colab_type": "code",
        "colab": {
          "base_uri": "https://localhost:8080/",
          "height": 272
        },
        "outputId": "3b66f4c8-f8ca-4c7e-b728-37af22ea9694"
      },
      "source": [
        "id2word"
      ],
      "execution_count": 11,
      "outputs": [
        {
          "output_type": "execute_result",
          "data": {
            "text/plain": [
              "{0: '#',\n",
              " 1: '^',\n",
              " 2: '$',\n",
              " 3: '+',\n",
              " 4: '-',\n",
              " 5: '1',\n",
              " 6: '2',\n",
              " 7: '3',\n",
              " 8: '4',\n",
              " 9: '5',\n",
              " 10: '6',\n",
              " 11: '7',\n",
              " 12: '8',\n",
              " 13: '9',\n",
              " 14: '0'}"
            ]
          },
          "metadata": {
            "tags": []
          },
          "execution_count": 11
        }
      ]
    },
    {
      "cell_type": "markdown",
      "metadata": {
        "id": "zBGVH93FYd1a",
        "colab_type": "text"
      },
      "source": [
        "#### Special symbols"
      ]
    },
    {
      "cell_type": "code",
      "metadata": {
        "id": "nNlTrq-nYd1b",
        "colab_type": "code",
        "colab": {}
      },
      "source": [
        "start_symbol = '^'\n",
        "end_symbol = '$'\n",
        "padding_symbol = '#'"
      ],
      "execution_count": 12,
      "outputs": []
    },
    {
      "cell_type": "markdown",
      "metadata": {
        "id": "WXVK6v1sYd1i",
        "colab_type": "text"
      },
      "source": [
        "You could notice that we have added 3 special symbols: '^', '\\$' and '#':\n",
        "- '^' symbol will be passed to the network to indicate the beginning of the decoding procedure. We will discuss this one later in more details.\n",
        "- '\\$' symbol will be used to indicate the *end of a string*, both for input and output sequences. \n",
        "- '#' symbol will be used as a *padding* character to make lengths of all strings equal within one training batch.\n",
        "\n",
        "People have a bit different habits when it comes to special symbols in encoder-decoder networks, so don't get too much confused if you come across other variants in tutorials you read. "
      ]
    },
    {
      "cell_type": "markdown",
      "metadata": {
        "id": "I0s2yPPjYd1j",
        "colab_type": "text"
      },
      "source": [
        "#### Padding"
      ]
    },
    {
      "cell_type": "markdown",
      "metadata": {
        "id": "saK8t4XVYd1l",
        "colab_type": "text"
      },
      "source": [
        "When vocabularies are ready, we need to be able to convert a sentence to a list of vocabulary word indices and back. At the same time, let's care about padding. We are going to preprocess each sequence from the input (and output ground truth) in such a way that:\n",
        "- it has a predefined length *padded_len*\n",
        "- it is probably cut off or padded with the *padding symbol* '#'\n",
        "- it *always* ends with the *end symbol* '$'\n",
        "\n",
        "We will treat the original characters of the sequence **and the end symbol** as the valid part of the input. We will store *the actual length* of the sequence, which includes the end symbol, but does not include the padding symbols. "
      ]
    },
    {
      "cell_type": "markdown",
      "metadata": {
        "id": "_xf9gHo8Yd1m",
        "colab_type": "text"
      },
      "source": [
        " Now you need to implement the function *sentence_to_ids* that does the described job. "
      ]
    },
    {
      "cell_type": "code",
      "metadata": {
        "id": "5qkMI2iUYd1n",
        "colab_type": "code",
        "colab": {}
      },
      "source": [
        "def sentence_to_ids(sentence, word2id, padded_len):\n",
        "    \"\"\" Converts a sequence of symbols to a padded sequence of their ids.\n",
        "    \n",
        "      sentence: a string, input/output sequence of symbols.\n",
        "      word2id: a dict, a mapping from original symbols to ids.\n",
        "      padded_len: an integer, a desirable length of the sequence.\n",
        "\n",
        "      result: a tuple of (a list of ids, an actual length of sentence).\n",
        "    \"\"\"\n",
        "    sent_ids=[]\n",
        "    sent_len=0\n",
        "    if len(sentence) < padded_len:\n",
        "      for i in range(len(sentence)):\n",
        "        sent_ids.append(word2id[sentence[i]])\n",
        "      sent_ids.append(2)\n",
        "      sent_len=len(sent_ids)\n",
        "      for _ in range(padded_len - (len(sentence)+1)):\n",
        "        sent_ids.append(0)\n",
        "    else:\n",
        "      for i in range(len(sentence)-1):\n",
        "        sent_ids.append(word2id[sentence[i]])\n",
        "      sent_ids.append(2)      \n",
        "      sent_len=padded_len\n",
        "    \n",
        "    return sent_ids, sent_len"
      ],
      "execution_count": 13,
      "outputs": []
    },
    {
      "cell_type": "markdown",
      "metadata": {
        "id": "ZTgUbdUNYd1x",
        "colab_type": "text"
      },
      "source": [
        "Check that your implementation is correct:"
      ]
    },
    {
      "cell_type": "code",
      "metadata": {
        "id": "5rVszm-aYd1y",
        "colab_type": "code",
        "colab": {}
      },
      "source": [
        "def test_sentence_to_ids():\n",
        "    sentences = [(\"123+123\", 7), (\"123+123\", 8), (\"123+123\", 10)]\n",
        "    expected_output = [([5, 6, 7, 3, 5, 6, 2], 7), \n",
        "                       ([5, 6, 7, 3, 5, 6, 7, 2], 8), \n",
        "                       ([5, 6, 7, 3, 5, 6, 7, 2, 0, 0], 8)] \n",
        "    for (sentence, padded_len), (sentence_ids, expected_length) in zip(sentences, expected_output):\n",
        "        output, length = sentence_to_ids(sentence, word2id, padded_len)\n",
        "        if output != sentence_ids:\n",
        "            return(\"Convertion of '{}' for padded_len={} to {} is incorrect.\".format(\n",
        "                sentence, padded_len, output))\n",
        "        if length != expected_length:\n",
        "            return(\"Convertion of '{}' for padded_len={} has incorrect actual length {}.\".format(\n",
        "                sentence, padded_len, length))\n",
        "    return(\"Tests passed.\")"
      ],
      "execution_count": 14,
      "outputs": []
    },
    {
      "cell_type": "code",
      "metadata": {
        "id": "PttkRrPnYd14",
        "colab_type": "code",
        "colab": {
          "base_uri": "https://localhost:8080/",
          "height": 34
        },
        "outputId": "fc02e439-9016-4a2f-ebf2-fd6c4a664323"
      },
      "source": [
        "print(test_sentence_to_ids())"
      ],
      "execution_count": 15,
      "outputs": [
        {
          "output_type": "stream",
          "text": [
            "Tests passed.\n"
          ],
          "name": "stdout"
        }
      ]
    },
    {
      "cell_type": "markdown",
      "metadata": {
        "id": "vRZc98RbYd19",
        "colab_type": "text"
      },
      "source": [
        "We also need to be able to get back from indices to symbols:"
      ]
    },
    {
      "cell_type": "code",
      "metadata": {
        "id": "_zkeGqyqYd1_",
        "colab_type": "code",
        "colab": {}
      },
      "source": [
        "def ids_to_sentence(ids, id2word):\n",
        "    \"\"\" Converts a sequence of ids to a sequence of symbols.\n",
        "    \n",
        "          ids: a list, indices for the padded sequence.\n",
        "          id2word:  a dict, a mapping from ids to original symbols.\n",
        "\n",
        "          result: a list of symbols.\n",
        "    \"\"\"\n",
        " \n",
        "    return [id2word[i] for i in ids] "
      ],
      "execution_count": 16,
      "outputs": []
    },
    {
      "cell_type": "markdown",
      "metadata": {
        "id": "M-qPD14gYd2E",
        "colab_type": "text"
      },
      "source": [
        "#### Generating batches"
      ]
    },
    {
      "cell_type": "markdown",
      "metadata": {
        "id": "mHAvfbUpYd2E",
        "colab_type": "text"
      },
      "source": [
        "The final step of data preparation is a function that transforms a batch of sentences to a list of lists of indices. "
      ]
    },
    {
      "cell_type": "code",
      "metadata": {
        "id": "_0Akgb_tYd2F",
        "colab_type": "code",
        "colab": {}
      },
      "source": [
        "def batch_to_ids(sentences, word2id, max_len):\n",
        "    \"\"\"Prepares batches of indices. \n",
        "    \n",
        "       Sequences are padded to match the longest sequence in the batch,\n",
        "       if it's longer than max_len, then max_len is used instead.\n",
        "\n",
        "        sentences: a list of strings, original sequences.\n",
        "        word2id: a dict, a mapping from original symbols to ids.\n",
        "        max_len: an integer, max len of sequences allowed.\n",
        "\n",
        "        result: a list of lists of ids, a list of actual lengths.\n",
        "    \"\"\"\n",
        "    \n",
        "    max_len_in_batch = min(max(len(s) for s in sentences) + 1, max_len)\n",
        "    batch_ids, batch_ids_len = [], []\n",
        "    for sentence in sentences:\n",
        "        ids, ids_len = sentence_to_ids(sentence, word2id, max_len_in_batch)\n",
        "        batch_ids.append(ids)\n",
        "        batch_ids_len.append(ids_len)\n",
        "    return batch_ids, batch_ids_len"
      ],
      "execution_count": 17,
      "outputs": []
    },
    {
      "cell_type": "markdown",
      "metadata": {
        "id": "3C6TOvKzYd2L",
        "colab_type": "text"
      },
      "source": [
        "The function *generate_batches* will help to generate batches with defined size from given samples."
      ]
    },
    {
      "cell_type": "code",
      "metadata": {
        "id": "99BwAeh3Yd2M",
        "colab_type": "code",
        "colab": {}
      },
      "source": [
        "def generate_batches(samples, batch_size=64):\n",
        "    X, Y = [], []\n",
        "    for i, (x, y) in enumerate(samples, 1):\n",
        "        X.append(x)\n",
        "        Y.append(y)\n",
        "        if i % batch_size == 0:\n",
        "            yield X, Y\n",
        "            X, Y = [], []\n",
        "    if X and Y:\n",
        "        yield X, Y"
      ],
      "execution_count": 18,
      "outputs": []
    },
    {
      "cell_type": "markdown",
      "metadata": {
        "id": "_axK6QkQYd2R",
        "colab_type": "text"
      },
      "source": [
        "To illustrate the result of the implemented functions, run the following cell:"
      ]
    },
    {
      "cell_type": "code",
      "metadata": {
        "id": "YVqS2QTBYd2S",
        "colab_type": "code",
        "colab": {
          "base_uri": "https://localhost:8080/",
          "height": 68
        },
        "outputId": "344055ce-acf2-4f90-9dfc-411a661e2589"
      },
      "source": [
        "sentences = train_set[0]\n",
        "ids, sent_lens = batch_to_ids(sentences, word2id, max_len=10)\n",
        "print('Input:', sentences)\n",
        "print('Ids: {}\\nSentences lengths: {}'.format(ids, sent_lens))"
      ],
      "execution_count": 19,
      "outputs": [
        {
          "output_type": "stream",
          "text": [
            "Input: ('2725+8792', '11517')\n",
            "Ids: [[6, 11, 6, 9, 3, 12, 11, 13, 6, 2], [5, 5, 9, 5, 11, 2, 0, 0, 0, 0]]\n",
            "Sentences lengths: [10, 6]\n"
          ],
          "name": "stdout"
        }
      ]
    },
    {
      "cell_type": "markdown",
      "metadata": {
        "id": "rktR9PoBYd2X",
        "colab_type": "text"
      },
      "source": [
        "## Encoder-Decoder architecture\n",
        "\n",
        "Encoder-Decoder is a successful architecture for Seq2Seq tasks with different lengths of input and output sequences. The main idea is to use two recurrent neural networks, where the first neural network *encodes* the input sequence into a real-valued vector and then the second neural network *decodes* this vector into the output sequence. While building the neural network, we will specify some particular characteristics of this architecture."
      ]
    },
    {
      "cell_type": "code",
      "metadata": {
        "id": "l9TFvLt_Yd2Y",
        "colab_type": "code",
        "colab": {}
      },
      "source": [
        "import tensorflow as tf"
      ],
      "execution_count": 20,
      "outputs": []
    },
    {
      "cell_type": "markdown",
      "metadata": {
        "id": "GcKqZDdUYd2c",
        "colab_type": "text"
      },
      "source": [
        "Let us use TensorFlow building blocks to specify the network architecture."
      ]
    },
    {
      "cell_type": "code",
      "metadata": {
        "id": "3tguIPjzYd2d",
        "colab_type": "code",
        "colab": {}
      },
      "source": [
        "class Seq2SeqModel(object):\n",
        "    pass"
      ],
      "execution_count": 21,
      "outputs": []
    },
    {
      "cell_type": "markdown",
      "metadata": {
        "id": "y9zmKNF5Yd2i",
        "colab_type": "text"
      },
      "source": [
        "First, we need to create [placeholders](https://www.tensorflow.org/api_guides/python/io_ops#Placeholders) to specify what data we are going to feed into the network during the execution time. For this task we will need:\n",
        " - *input_batch* — sequences of sentences (the shape will equal to [batch_size, max_sequence_len_in_batch]);\n",
        " - *input_batch_lengths* — lengths of not padded sequences (the shape equals to [batch_size]);\n",
        " - *ground_truth* — sequences of groundtruth (the shape will equal to [batch_size, max_sequence_len_in_batch]);\n",
        " - *ground_truth_lengths* — lengths of not padded groundtruth sequences (the shape equals to [batch_size]);\n",
        " - *dropout_ph* — dropout keep probability; this placeholder has a predifined value 1;\n",
        " - *learning_rate_ph* — learning rate."
      ]
    },
    {
      "cell_type": "code",
      "metadata": {
        "id": "6AAhfowyYd2k",
        "colab_type": "code",
        "colab": {}
      },
      "source": [
        "def declare_placeholders(self):\n",
        "    \"\"\"Specifies placeholders for the model.\"\"\"\n",
        "    \n",
        "    # Placeholders for input and its actual lengths.\n",
        "    self.input_batch = tf.placeholder(shape=(None, None), dtype=tf.int32, name='input_batch')\n",
        "    self.input_batch_lengths = tf.placeholder(shape=(None, ), dtype=tf.int32, name='input_batch_lengths')\n",
        "    \n",
        "    # Placeholders for groundtruth and its actual lengths.\n",
        "    self.ground_truth = tf.placeholder(shape=(None, None), dtype=tf.int32, name='ground_truth')\n",
        "    self.ground_truth_lengths = tf.placeholder(shape=(None, ), dtype=tf.int32, name='ground_truth_lengths')\n",
        "        \n",
        "    self.dropout_ph = tf.placeholder_with_default(tf.cast(1.0, tf.float32), shape=[])\n",
        "    self.learning_rate_ph = tf.placeholder_with_default(tf.cast(1.0, tf.float32), shape=[], name='learning_rate') "
      ],
      "execution_count": 23,
      "outputs": []
    },
    {
      "cell_type": "code",
      "metadata": {
        "id": "54eJroTMYd2q",
        "colab_type": "code",
        "colab": {}
      },
      "source": [
        "Seq2SeqModel.__declare_placeholders = classmethod(declare_placeholders)"
      ],
      "execution_count": 24,
      "outputs": []
    },
    {
      "cell_type": "markdown",
      "metadata": {
        "id": "EBo8B80-Yd20",
        "colab_type": "text"
      },
      "source": [
        "Now, let us specify the layers of the neural network. First, we need to prepare an embedding matrix. Since we use the same vocabulary for input and output, we need only one such matrix. For tasks with different vocabularies there would be multiple embedding layers.\n",
        "- Create embeddings matrix with [tf.Variable](https://www.tensorflow.org/api_docs/python/tf/Variable). Specify its name, type (tf.float32), and initialize with random values.\n",
        "- Perform [embeddings lookup](https://www.tensorflow.org/api_docs/python/tf/nn/embedding_lookup) for a given input batch."
      ]
    },
    {
      "cell_type": "code",
      "metadata": {
        "id": "nOrEfx7zYd21",
        "colab_type": "code",
        "colab": {}
      },
      "source": [
        "def create_embeddings(self, vocab_size, embeddings_size):\n",
        "    \"\"\"Specifies embeddings layer and embeds an input batch.\"\"\"\n",
        "     \n",
        "    random_initializer = tf.random_uniform((vocab_size, embeddings_size), -1.0, 1.0)\n",
        "    self.embeddings = tf.Variable(initial_value=random_initializer,name='embedings',dtype=tf.float32) \n",
        "    \n",
        "    # Perform embeddings lookup for self.input_batch. \n",
        "    self.input_batch_embedded = tf.nn.embedding_lookup(self.embeddings,self.input_batch)"
      ],
      "execution_count": 25,
      "outputs": []
    },
    {
      "cell_type": "code",
      "metadata": {
        "id": "KlsjS-W_Yd27",
        "colab_type": "code",
        "colab": {}
      },
      "source": [
        "Seq2SeqModel.__create_embeddings = classmethod(create_embeddings)"
      ],
      "execution_count": 26,
      "outputs": []
    },
    {
      "cell_type": "markdown",
      "metadata": {
        "id": "LZxs5aVUYd2_",
        "colab_type": "text"
      },
      "source": [
        "#### Encoder\n",
        "\n",
        "The first RNN of the current architecture is called an *encoder* and serves for encoding an input sequence to a real-valued vector. Input of this RNN is an embedded input batch. Since sentences in the same batch could have different actual lengths, we also provide input lengths to avoid unnecessary computations. The final encoder state will be passed to the second RNN (decoder), which we will create soon. \n",
        "\n",
        "- TensorFlow provides a number of [RNN cells](https://www.tensorflow.org/api_guides/python/contrib.rnn#Core_RNN_Cells_for_use_with_TensorFlow_s_core_RNN_methods) ready for use. We suggest that you use [GRU cell](https://www.tensorflow.org/api_docs/python/tf/contrib/rnn/GRUCell), but you can also experiment with other types. \n",
        "- Wrap your cells with [DropoutWrapper](https://www.tensorflow.org/api_docs/python/tf/contrib/rnn/DropoutWrapper). Dropout is an important regularization technique for neural networks. Specify input keep probability using the dropout placeholder that we created before.\n",
        "- Combine the defined encoder cells with [Dynamic RNN](https://www.tensorflow.org/api_docs/python/tf/nn/dynamic_rnn). Use the embedded input batches and their lengths here.\n",
        "- Use *dtype=tf.float32* everywhere."
      ]
    },
    {
      "cell_type": "code",
      "metadata": {
        "id": "70fTsD_dYd3A",
        "colab_type": "code",
        "colab": {}
      },
      "source": [
        "def build_encoder(self, hidden_size):\n",
        "    \"\"\"Specifies encoder architecture and computes its output.\"\"\"\n",
        "    \n",
        "    # Create GRUCell with dropout.\n",
        "    encoder_cell = tf.nn.rnn_cell.DropoutWrapper(tf.nn.rnn_cell.GRUCell(num_units=hidden_size),input_keep_prob=self.dropout_ph)\n",
        "    \n",
        "    # Create RNN with the predefined cell.\n",
        "    _, self.final_encoder_state = tf.nn.dynamic_rnn(encoder_cell,self.input_batch_embedded,input_batch_lengths)"
      ],
      "execution_count": 29,
      "outputs": []
    },
    {
      "cell_type": "code",
      "metadata": {
        "id": "l8NcQUK1Yd3E",
        "colab_type": "code",
        "colab": {}
      },
      "source": [
        "Seq2SeqModel.__build_encoder = classmethod(build_encoder)"
      ],
      "execution_count": 30,
      "outputs": []
    },
    {
      "cell_type": "markdown",
      "metadata": {
        "id": "-o85k4THYd3I",
        "colab_type": "text"
      },
      "source": [
        "#### Decoder\n",
        "\n",
        "The second RNN is called a *decoder* and serves for generating the output sequence. In the simple seq2seq arcitecture, the input sequence is provided to the decoder only as the final state of the encoder. Obviously, it is a bottleneck and [Attention techniques](https://www.tensorflow.org/tutorials/seq2seq#background_on_the_attention_mechanism) can help to overcome it. So far, we do not need them to make our calculator work, but this would be a necessary ingredient for more advanced tasks. \n",
        "\n",
        "During training, decoder also uses information about the true output. It is feeded in as input symbol by symbol. However, during the prediction stage (which is called *inference* in this architecture), the decoder can only use its own generated output from the previous step to feed it in at the next step. Because of this difference (*training* vs *inference*), we will create two distinct instances, which will serve for the described scenarios.\n",
        "\n",
        "The picture below illustrates the point. It also shows our work with the special characters, e.g. look how the start symbol `^` is used. The transparent parts are ignored. In decoder, it is masked out in the loss computation. In encoder, the green state is considered as final and passed to the decoder. "
      ]
    },
    {
      "cell_type": "markdown",
      "metadata": {
        "id": "g7n0Hh-4Yd3I",
        "colab_type": "text"
      },
      "source": [
        "<img src=\"https://github.com/srivatsakr21/natural-language-processing/blob/master/week4/encoder-decoder-pic.png?raw=1\" style=\"width: 500px;\">"
      ]
    },
    {
      "cell_type": "markdown",
      "metadata": {
        "id": "1Y49jx_TYd3J",
        "colab_type": "text"
      },
      "source": [
        "Now, it's time to implement the decoder:\n",
        " - First, we should create two [helpers](https://www.tensorflow.org/api_guides/python/contrib.seq2seq#Dynamic_Decoding). These classes help to determine the behaviour of the decoder. During the training time, we will use [TrainingHelper](https://www.tensorflow.org/api_docs/python/tf/contrib/seq2seq/TrainingHelper). For the inference we recommend to use [GreedyEmbeddingHelper](https://www.tensorflow.org/api_docs/python/tf/contrib/seq2seq/GreedyEmbeddingHelper).\n",
        " - To share all parameters during training and inference, we use one scope and set the flag 'reuse' to True at inference time. You might be interested to know more about how [variable scopes](https://www.tensorflow.org/programmers_guide/variables) work in TF. \n",
        " - To create the decoder itself, we will use [BasicDecoder](https://www.tensorflow.org/api_docs/python/tf/contrib/seq2seq/BasicDecoder) class. As previously, you should choose some RNN cell, e.g. GRU cell. To turn hidden states into logits, we will need a projection layer. One of the simple solutions is using [OutputProjectionWrapper](https://www.tensorflow.org/api_docs/python/tf/contrib/rnn/OutputProjectionWrapper).\n",
        " - For getting the predictions, it will be convinient to use [dynamic_decode](https://www.tensorflow.org/api_docs/python/tf/contrib/seq2seq/dynamic_decode). This function uses the provided decoder to perform decoding."
      ]
    },
    {
      "cell_type": "code",
      "metadata": {
        "id": "sUqlmBDBYd3K",
        "colab_type": "code",
        "colab": {}
      },
      "source": [
        "def build_decoder(self, hidden_size, vocab_size, max_iter, start_symbol_id, end_symbol_id):\n",
        "    \"\"\"Specifies decoder architecture and computes the output.\n",
        "    \n",
        "        Uses different helpers:\n",
        "          - for train: feeding ground truth\n",
        "          - for inference: feeding generated output\n",
        "\n",
        "        As a result, self.train_outputs and self.infer_outputs are created. \n",
        "        Each of them contains two fields:\n",
        "          rnn_output (predicted logits)\n",
        "          sample_id (predictions).\n",
        "\n",
        "    \"\"\"\n",
        "    \n",
        "    # Use start symbols as the decoder inputs at the first time step.\n",
        "    batch_size = tf.shape(self.input_batch)[0]\n",
        "    start_tokens = tf.fill([batch_size], start_symbol_id)\n",
        "    ground_truth_as_input = tf.concat([tf.expand_dims(start_tokens, 1), self.ground_truth], 1)\n",
        "    \n",
        "    # Use the embedding layer defined before to lookup embedings for ground_truth_as_input. \n",
        "    self.ground_truth_embedded = tf.nn.embedding_lookup(self.embedings,self.ground_truth_as_input)\n",
        "     \n",
        "    # Create TrainingHelper for the train stage.\n",
        "    train_helper = tf.contrib.seq2seq.TrainingHelper(self.ground_truth_embedded, \n",
        "                                                     self.ground_truth_lengths)\n",
        "    \n",
        "    # Create GreedyEmbeddingHelper for the inference stage.\n",
        "    # You should provide the embedding layer, start_tokens and index of the end symbol.\n",
        "    infer_helper = tf.contrib.seq2seq.InferenceHelper(self.ground_truth_embedded,start_inputs=start_tokens,end_fn=2)\n",
        "    \n",
        "  \n",
        "    def decode(helper, scope, reuse=None):\n",
        "        \"\"\"Creates decoder and return the results of the decoding with a given helper.\"\"\"\n",
        "        \n",
        "        with tf.variable_scope(scope, reuse=reuse):\n",
        "            # Create GRUCell with dropout. Do not forget to set the reuse flag properly.\n",
        "            decoder_cell = tf.nn.rnn_cell.DropoutWrapper(tf.nn.rnn_cell.GRUCell(hidden_size,reuse=True))\n",
        "            \n",
        "            # Create a projection wrapper.\n",
        "            decoder_cell = tf.contrib.rnn.OutputProjectionWrapper(decoder_cell, vocab_size, reuse=reuse)\n",
        "            \n",
        "            # Create BasicDecoder, pass the defined cell, a helper, and initial state.\n",
        "            # The initial state should be equal to the final state of the encoder!\n",
        "            decoder = ######### YOUR CODE HERE #############\n",
        "            \n",
        "            # The first returning argument of dynamic_decode contains two fields:\n",
        "            #   rnn_output (predicted logits)\n",
        "            #   sample_id (predictions)\n",
        "            outputs, _, _ = tf.contrib.seq2seq.dynamic_decode(decoder=decoder, maximum_iterations=max_iter, \n",
        "                                                              output_time_major=False, impute_finished=True)\n",
        "\n",
        "            return outputs\n",
        "        \n",
        "    self.train_outputs = decode(train_helper, 'decode')\n",
        "    self.infer_outputs = decode(infer_helper, 'decode', reuse=True)"
      ],
      "execution_count": null,
      "outputs": []
    },
    {
      "cell_type": "code",
      "metadata": {
        "id": "mKhOhF4EYd3R",
        "colab_type": "code",
        "colab": {}
      },
      "source": [
        "Seq2SeqModel.__build_decoder = classmethod(build_decoder)"
      ],
      "execution_count": null,
      "outputs": []
    },
    {
      "cell_type": "markdown",
      "metadata": {
        "id": "VNTjGH_AYd3X",
        "colab_type": "text"
      },
      "source": [
        "In this task we will use [sequence_loss](https://www.tensorflow.org/api_docs/python/tf/contrib/seq2seq/sequence_loss), which is a weighted cross-entropy loss for a sequence of logits. Take a moment to understand, what is your train logits and targets. Also note, that we do not want to take into account loss terms coming from padding symbols, so we will mask them out using weights.  "
      ]
    },
    {
      "cell_type": "code",
      "metadata": {
        "id": "teawAakiYd3Y",
        "colab_type": "code",
        "colab": {}
      },
      "source": [
        "def compute_loss(self):\n",
        "    \"\"\"Computes sequence loss (masked cross-entopy loss with logits).\"\"\"\n",
        "    \n",
        "    weights = tf.cast(tf.sequence_mask(self.ground_truth_lengths), dtype=tf.float32)\n",
        "    \n",
        "    self.loss = ######### YOUR CODE HERE #############"
      ],
      "execution_count": null,
      "outputs": []
    },
    {
      "cell_type": "code",
      "metadata": {
        "id": "o7XatTM2Yd3j",
        "colab_type": "code",
        "colab": {}
      },
      "source": [
        "Seq2SeqModel.__compute_loss = classmethod(compute_loss)"
      ],
      "execution_count": null,
      "outputs": []
    },
    {
      "cell_type": "markdown",
      "metadata": {
        "id": "zi0OU650Yd3n",
        "colab_type": "text"
      },
      "source": [
        "The last thing to specify is the optimization of the defined loss. \n",
        "We suggest that you use [optimize_loss](https://www.tensorflow.org/api_docs/python/tf/contrib/layers/optimize_loss) with Adam optimizer and a learning rate from the corresponding placeholder. You might also need to pass global step (e.g. as tf.train.get_global_step()) and clip gradients by 1.0."
      ]
    },
    {
      "cell_type": "code",
      "metadata": {
        "id": "x1IeQZhRYd3o",
        "colab_type": "code",
        "colab": {}
      },
      "source": [
        "def perform_optimization(self):\n",
        "    \"\"\"Specifies train_op that optimizes self.loss.\"\"\"\n",
        "    \n",
        "    self.train_op = ######### YOUR CODE HERE #############"
      ],
      "execution_count": null,
      "outputs": []
    },
    {
      "cell_type": "code",
      "metadata": {
        "id": "418Y6L5AYd3u",
        "colab_type": "code",
        "colab": {}
      },
      "source": [
        "Seq2SeqModel.__perform_optimization = classmethod(perform_optimization)"
      ],
      "execution_count": null,
      "outputs": []
    },
    {
      "cell_type": "markdown",
      "metadata": {
        "id": "niJRS85SYd3z",
        "colab_type": "text"
      },
      "source": [
        "Congratulations! You have specified all the parts of your network. You may have noticed, that we didn't deal with any real data yet, so what you have written is just recipies on how the network should function.\n",
        "Now we will put them to the constructor of our Seq2SeqModel class to use it in the next section. "
      ]
    },
    {
      "cell_type": "code",
      "metadata": {
        "id": "5SzwtEEfYd30",
        "colab_type": "code",
        "colab": {}
      },
      "source": [
        "def init_model(self, vocab_size, embeddings_size, hidden_size, \n",
        "               max_iter, start_symbol_id, end_symbol_id, padding_symbol_id):\n",
        "    \n",
        "    self.__declare_placeholders()\n",
        "    self.__create_embeddings(vocab_size, embeddings_size)\n",
        "    self.__build_encoder(hidden_size)\n",
        "    self.__build_decoder(hidden_size, vocab_size, max_iter, start_symbol_id, end_symbol_id)\n",
        "    \n",
        "    # Compute loss and back-propagate.\n",
        "    self.__compute_loss()\n",
        "    self.__perform_optimization()\n",
        "    \n",
        "    # Get predictions for evaluation.\n",
        "    self.train_predictions = self.train_outputs.sample_id\n",
        "    self.infer_predictions = self.infer_outputs.sample_id"
      ],
      "execution_count": null,
      "outputs": []
    },
    {
      "cell_type": "code",
      "metadata": {
        "id": "a3b7wDzzYd34",
        "colab_type": "code",
        "colab": {}
      },
      "source": [
        "Seq2SeqModel.__init__ = classmethod(init_model)"
      ],
      "execution_count": null,
      "outputs": []
    },
    {
      "cell_type": "markdown",
      "metadata": {
        "id": "YFZeafZxYd37",
        "colab_type": "text"
      },
      "source": [
        "## Train the network and predict output\n",
        "\n",
        "[Session.run](https://www.tensorflow.org/api_docs/python/tf/Session#run) is a point which initiates computations in the graph that we have defined. To train the network, we need to compute *self.train_op*. To predict output, we just need to compute *self.infer_predictions*. In any case, we need to feed actual data through the placeholders that we defined above. "
      ]
    },
    {
      "cell_type": "code",
      "metadata": {
        "id": "9QGq4aZkYd38",
        "colab_type": "code",
        "colab": {}
      },
      "source": [
        "def train_on_batch(self, session, X, X_seq_len, Y, Y_seq_len, learning_rate, dropout_keep_probability):\n",
        "    feed_dict = {\n",
        "            self.input_batch: X,\n",
        "            self.input_batch_lengths: X_seq_len,\n",
        "            self.ground_truth: Y,\n",
        "            self.ground_truth_lengths: Y_seq_len,\n",
        "            self.learning_rate_ph: learning_rate,\n",
        "            self.dropout_ph: dropout_keep_probability\n",
        "        }\n",
        "    pred, loss, _ = session.run([\n",
        "            self.train_predictions,\n",
        "            self.loss,\n",
        "            self.train_op], feed_dict=feed_dict)\n",
        "    return pred, loss"
      ],
      "execution_count": null,
      "outputs": []
    },
    {
      "cell_type": "code",
      "metadata": {
        "id": "ODFWEF1GYd4B",
        "colab_type": "code",
        "colab": {}
      },
      "source": [
        "Seq2SeqModel.train_on_batch = classmethod(train_on_batch)"
      ],
      "execution_count": null,
      "outputs": []
    },
    {
      "cell_type": "markdown",
      "metadata": {
        "id": "c1-urW70Yd4J",
        "colab_type": "text"
      },
      "source": [
        "We implemented two prediction functions: *predict_for_batch* and *predict_for_batch_with_loss*. The first one allows only to predict output for some input sequence, while the second one could compute loss because we provide also ground truth values. Both these functions might be useful since the first one could be used for predicting only, and the second one is helpful for validating results on not-training data during the training."
      ]
    },
    {
      "cell_type": "code",
      "metadata": {
        "id": "yG5j4x2xYd4K",
        "colab_type": "code",
        "colab": {}
      },
      "source": [
        "def predict_for_batch(self, session, X, X_seq_len):\n",
        "    feed_dict = ######### YOUR CODE HERE #############\n",
        "    pred = session.run([\n",
        "            self.infer_predictions\n",
        "        ], feed_dict=feed_dict)[0]\n",
        "    return pred\n",
        "\n",
        "def predict_for_batch_with_loss(self, session, X, X_seq_len, Y, Y_seq_len):\n",
        "    feed_dict = ######### YOUR CODE HERE #############\n",
        "    pred, loss = session.run([\n",
        "            self.infer_predictions,\n",
        "            self.loss,\n",
        "        ], feed_dict=feed_dict)\n",
        "    return pred, loss"
      ],
      "execution_count": null,
      "outputs": []
    },
    {
      "cell_type": "code",
      "metadata": {
        "id": "YB6d_e4CYd4S",
        "colab_type": "code",
        "colab": {}
      },
      "source": [
        "Seq2SeqModel.predict_for_batch = classmethod(predict_for_batch)\n",
        "Seq2SeqModel.predict_for_batch_with_loss = classmethod(predict_for_batch_with_loss)"
      ],
      "execution_count": null,
      "outputs": []
    },
    {
      "cell_type": "markdown",
      "metadata": {
        "id": "snP0nhkAYd4Z",
        "colab_type": "text"
      },
      "source": [
        "## Run your experiment\n",
        "\n",
        "Create *Seq2SeqModel* model with the following parameters:\n",
        " - *vocab_size* — number of tokens;\n",
        " - *embeddings_size* — dimension of embeddings, recommended value: 20;\n",
        " - *max_iter* — maximum number of steps in decoder, recommended value: 7;\n",
        " - *hidden_size* — size of hidden layers for RNN, recommended value: 512;\n",
        " - *start_symbol_id* — an index of the start token (`^`).\n",
        " - *end_symbol_id* — an index of the end token (`$`).\n",
        " - *padding_symbol_id* — an index of the padding token (`#`).\n",
        "\n",
        "Set hyperparameters. You might want to start with the following values and see how it works:\n",
        "- *batch_size*: 128;\n",
        "- at least 10 epochs;\n",
        "- value of *learning_rate*: 0.001\n",
        "- *dropout_keep_probability* equals to 0.5 for training (typical values for dropout probability are ranging from 0.1 to 1.0); larger values correspond smaler number of dropout units;\n",
        "- *max_len*: 20."
      ]
    },
    {
      "cell_type": "code",
      "metadata": {
        "id": "DV1BXNtkYd4a",
        "colab_type": "code",
        "colab": {}
      },
      "source": [
        "tf.reset_default_graph()\n",
        "\n",
        "model = ######### YOUR CODE HERE #############\n",
        "\n",
        "batch_size = ######### YOUR CODE HERE #############\n",
        "n_epochs = ######### YOUR CODE HERE #############\n",
        "learning_rate = ######### YOUR CODE HERE #############\n",
        "dropout_keep_probability = ######### YOUR CODE HERE #############\n",
        "max_len = ######### YOUR CODE HERE #############\n",
        "\n",
        "n_step = int(len(train_set) / batch_size)"
      ],
      "execution_count": null,
      "outputs": []
    },
    {
      "cell_type": "markdown",
      "metadata": {
        "id": "O7fMfXQrYd4i",
        "colab_type": "text"
      },
      "source": [
        "Finally, we are ready to run the training! A good indicator that everything works fine is decreasing loss during the training. You should account on the loss value equal to approximately 2.7 at the beginning of the training and near 1 after the 10th epoch."
      ]
    },
    {
      "cell_type": "code",
      "metadata": {
        "scrolled": true,
        "id": "y_2zVR0UYd4j",
        "colab_type": "code",
        "colab": {}
      },
      "source": [
        "session = tf.Session()\n",
        "session.run(tf.global_variables_initializer())\n",
        "            \n",
        "invalid_number_prediction_counts = []\n",
        "all_model_predictions = []\n",
        "all_ground_truth = []\n",
        "\n",
        "print('Start training... \\n')\n",
        "for epoch in range(n_epochs):  \n",
        "    random.shuffle(train_set)\n",
        "    random.shuffle(test_set)\n",
        "    \n",
        "    print('Train: epoch', epoch + 1)\n",
        "    for n_iter, (X_batch, Y_batch) in enumerate(generate_batches(train_set, batch_size=batch_size)):\n",
        "        ######################################\n",
        "        ######### YOUR CODE HERE #############\n",
        "        ######################################\n",
        "        # prepare the data (X_batch and Y_batch) for training\n",
        "        # using function batch_to_ids\n",
        "        predictions, loss = ######### YOUR CODE HERE #############\n",
        "        \n",
        "        if n_iter % 200 == 0:\n",
        "            print(\"Epoch: [%d/%d], step: [%d/%d], loss: %f\" % (epoch + 1, n_epochs, n_iter + 1, n_step, loss))\n",
        "                \n",
        "    X_sent, Y_sent = next(generate_batches(test_set, batch_size=batch_size))\n",
        "    ######################################\n",
        "    ######### YOUR CODE HERE #############\n",
        "    ######################################\n",
        "    # prepare test data (X_sent and Y_sent) for predicting \n",
        "    # quality and computing value of the loss function\n",
        "    # using function batch_to_ids\n",
        "    \n",
        "    predictions, loss = ######### YOUR CODE HERE #############\n",
        "    print('Test: epoch', epoch + 1, 'loss:', loss,)\n",
        "    for x, y, p  in list(zip(X, Y, predictions))[:3]:\n",
        "        print('X:',''.join(ids_to_sentence(x, id2word)))\n",
        "        print('Y:',''.join(ids_to_sentence(y, id2word)))\n",
        "        print('O:',''.join(ids_to_sentence(p, id2word)))\n",
        "        print('')\n",
        "\n",
        "    model_predictions = []\n",
        "    ground_truth = []\n",
        "    invalid_number_prediction_count = 0\n",
        "    # For the whole test set calculate ground-truth values (as integer numbers)\n",
        "    # and prediction values (also as integers) to calculate metrics.\n",
        "    # If generated by model number is not correct (e.g. '1-1'), \n",
        "    # increase invalid_number_prediction_count and don't append this and corresponding\n",
        "    # ground-truth value to the arrays.\n",
        "    for X_batch, Y_batch in generate_batches(test_set, batch_size=batch_size):\n",
        "        ######################################\n",
        "        ######### YOUR CODE HERE #############\n",
        "        ######################################\n",
        "    \n",
        "    all_model_predictions.append(model_predictions)\n",
        "    all_ground_truth.append(ground_truth)\n",
        "    invalid_number_prediction_counts.append(invalid_number_prediction_count)\n",
        "            \n",
        "print('\\n...training finished.')"
      ],
      "execution_count": null,
      "outputs": []
    },
    {
      "cell_type": "markdown",
      "metadata": {
        "id": "gd6SPhCfYd4o",
        "colab_type": "text"
      },
      "source": [
        "## Evaluate results\n",
        "\n",
        "Because our task is simple and the output is straight-forward, we will use [MAE](https://en.wikipedia.org/wiki/Mean_absolute_error) metric to evaluate the trained model during the epochs. Compute the value of the metric for the output from each epoch."
      ]
    },
    {
      "cell_type": "code",
      "metadata": {
        "id": "HrFDRjroYd4o",
        "colab_type": "code",
        "colab": {}
      },
      "source": [
        "from sklearn.metrics import mean_absolute_error"
      ],
      "execution_count": null,
      "outputs": []
    },
    {
      "cell_type": "code",
      "metadata": {
        "id": "jrZyB2EtYd4u",
        "colab_type": "code",
        "colab": {}
      },
      "source": [
        "for i, (gts, predictions, invalid_number_prediction_count) in enumerate(zip(all_ground_truth,\n",
        "                                                                            all_model_predictions,\n",
        "                                                                            invalid_number_prediction_counts), 1):\n",
        "    mae = ######### YOUR CODE HERE #############\n",
        "    print(\"Epoch: %i, MAE: %f, Invalid numbers: %i\" % (i, mae, invalid_number_prediction_count))"
      ],
      "execution_count": null,
      "outputs": []
    }
  ]
}