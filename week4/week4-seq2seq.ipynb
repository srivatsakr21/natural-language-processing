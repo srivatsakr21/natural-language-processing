{
  "nbformat": 4,
  "nbformat_minor": 0,
  "metadata": {
    "kernelspec": {
      "display_name": "Python 3",
      "language": "python",
      "name": "python3"
    },
    "language_info": {
      "codemirror_mode": {
        "name": "ipython",
        "version": 3
      },
      "file_extension": ".py",
      "mimetype": "text/x-python",
      "name": "python",
      "nbconvert_exporter": "python",
      "pygments_lexer": "ipython3",
      "version": "3.4.3"
    },
    "colab": {
      "name": "week4-seq2seq.ipynb",
      "provenance": []
    }
  },
  "cells": [
    {
      "cell_type": "markdown",
      "metadata": {
        "id": "uo6GrjoUYd0W",
        "colab_type": "text"
      },
      "source": [
        "# Learn to calculate with seq2seq model\n",
        "\n",
        "In this assignment, you will learn how to use neural networks to solve sequence-to-sequence prediction tasks. Seq2Seq models are very popular these days because they achieve great results in Machine Translation, Text Summarization, Conversational Modeling and more.\n",
        "\n",
        "Using sequence-to-sequence modeling you are going to build a calculator for evaluating arithmetic expressions, by taking an equation as an input to the neural network and producing an answer as it's output.\n",
        "\n",
        "The resulting solution for this problem will be based on state-of-the-art approaches for sequence-to-sequence learning and you should be able to easily adapt it to solve other tasks. However, if you want to train your own machine translation system or intellectual chat bot, it would be useful to have access to compute resources like GPU, and be patient, because training of such systems is usually time consuming. \n",
        "\n",
        "### Libraries\n",
        "\n",
        "For this task you will need the following libraries:\n",
        " - [TensorFlow](https://www.tensorflow.org) — an open-source software library for Machine Intelligence.\n",
        " \n",
        "In this assignment, we use Tensorflow 1.15.0. You can install it with pip:\n",
        "\n",
        "    !pip install tensorflow==1.15.0\n",
        "     \n",
        " - [scikit-learn](http://scikit-learn.org/stable/index.html) — a tool for data mining and data analysis.\n",
        " \n",
        "If you have never worked with TensorFlow, you will probably want to read some tutorials during your work on this assignment, e.g. [Neural Machine Translation](https://www.tensorflow.org/tutorials/seq2seq) tutorial deals with very similar task and can explain some concepts to you. "
      ]
    },
    {
      "cell_type": "code",
      "metadata": {
        "id": "x6qBOZoHY8T3",
        "colab_type": "code",
        "colab": {
          "base_uri": "https://localhost:8080/",
          "height": 921
        },
        "outputId": "a8dbb1b1-a100-483c-9f9a-8e2d6c5a3914"
      },
      "source": [
        "!pip install tensorflow==1.15.0"
      ],
      "execution_count": 1,
      "outputs": [
        {
          "output_type": "stream",
          "text": [
            "Collecting tensorflow==1.15.0\n",
            "\u001b[?25l  Downloading https://files.pythonhosted.org/packages/3f/98/5a99af92fb911d7a88a0005ad55005f35b4c1ba8d75fba02df726cd936e6/tensorflow-1.15.0-cp36-cp36m-manylinux2010_x86_64.whl (412.3MB)\n",
            "\u001b[K     |████████████████████████████████| 412.3MB 37kB/s \n",
            "\u001b[?25hRequirement already satisfied: termcolor>=1.1.0 in /usr/local/lib/python3.6/dist-packages (from tensorflow==1.15.0) (1.1.0)\n",
            "Requirement already satisfied: google-pasta>=0.1.6 in /usr/local/lib/python3.6/dist-packages (from tensorflow==1.15.0) (0.2.0)\n",
            "Requirement already satisfied: opt-einsum>=2.3.2 in /usr/local/lib/python3.6/dist-packages (from tensorflow==1.15.0) (3.3.0)\n",
            "Requirement already satisfied: protobuf>=3.6.1 in /usr/local/lib/python3.6/dist-packages (from tensorflow==1.15.0) (3.12.4)\n",
            "Requirement already satisfied: absl-py>=0.7.0 in /usr/local/lib/python3.6/dist-packages (from tensorflow==1.15.0) (0.10.0)\n",
            "Collecting tensorflow-estimator==1.15.1\n",
            "\u001b[?25l  Downloading https://files.pythonhosted.org/packages/de/62/2ee9cd74c9fa2fa450877847ba560b260f5d0fb70ee0595203082dafcc9d/tensorflow_estimator-1.15.1-py2.py3-none-any.whl (503kB)\n",
            "\u001b[K     |████████████████████████████████| 512kB 46.2MB/s \n",
            "\u001b[?25hCollecting gast==0.2.2\n",
            "  Downloading https://files.pythonhosted.org/packages/4e/35/11749bf99b2d4e3cceb4d55ca22590b0d7c2c62b9de38ac4a4a7f4687421/gast-0.2.2.tar.gz\n",
            "Collecting keras-applications>=1.0.8\n",
            "\u001b[?25l  Downloading https://files.pythonhosted.org/packages/71/e3/19762fdfc62877ae9102edf6342d71b28fbfd9dea3d2f96a882ce099b03f/Keras_Applications-1.0.8-py3-none-any.whl (50kB)\n",
            "\u001b[K     |████████████████████████████████| 51kB 5.9MB/s \n",
            "\u001b[?25hRequirement already satisfied: keras-preprocessing>=1.0.5 in /usr/local/lib/python3.6/dist-packages (from tensorflow==1.15.0) (1.1.2)\n",
            "Requirement already satisfied: grpcio>=1.8.6 in /usr/local/lib/python3.6/dist-packages (from tensorflow==1.15.0) (1.32.0)\n",
            "Requirement already satisfied: six>=1.10.0 in /usr/local/lib/python3.6/dist-packages (from tensorflow==1.15.0) (1.15.0)\n",
            "Requirement already satisfied: wrapt>=1.11.1 in /usr/local/lib/python3.6/dist-packages (from tensorflow==1.15.0) (1.12.1)\n",
            "Requirement already satisfied: numpy<2.0,>=1.16.0 in /usr/local/lib/python3.6/dist-packages (from tensorflow==1.15.0) (1.18.5)\n",
            "Collecting tensorboard<1.16.0,>=1.15.0\n",
            "\u001b[?25l  Downloading https://files.pythonhosted.org/packages/1e/e9/d3d747a97f7188f48aa5eda486907f3b345cd409f0a0850468ba867db246/tensorboard-1.15.0-py3-none-any.whl (3.8MB)\n",
            "\u001b[K     |████████████████████████████████| 3.8MB 43.5MB/s \n",
            "\u001b[?25hRequirement already satisfied: wheel>=0.26 in /usr/local/lib/python3.6/dist-packages (from tensorflow==1.15.0) (0.35.1)\n",
            "Requirement already satisfied: astor>=0.6.0 in /usr/local/lib/python3.6/dist-packages (from tensorflow==1.15.0) (0.8.1)\n",
            "Requirement already satisfied: setuptools in /usr/local/lib/python3.6/dist-packages (from protobuf>=3.6.1->tensorflow==1.15.0) (50.3.0)\n",
            "Requirement already satisfied: h5py in /usr/local/lib/python3.6/dist-packages (from keras-applications>=1.0.8->tensorflow==1.15.0) (2.10.0)\n",
            "Requirement already satisfied: werkzeug>=0.11.15 in /usr/local/lib/python3.6/dist-packages (from tensorboard<1.16.0,>=1.15.0->tensorflow==1.15.0) (1.0.1)\n",
            "Requirement already satisfied: markdown>=2.6.8 in /usr/local/lib/python3.6/dist-packages (from tensorboard<1.16.0,>=1.15.0->tensorflow==1.15.0) (3.2.2)\n",
            "Requirement already satisfied: importlib-metadata; python_version < \"3.8\" in /usr/local/lib/python3.6/dist-packages (from markdown>=2.6.8->tensorboard<1.16.0,>=1.15.0->tensorflow==1.15.0) (1.7.0)\n",
            "Requirement already satisfied: zipp>=0.5 in /usr/local/lib/python3.6/dist-packages (from importlib-metadata; python_version < \"3.8\"->markdown>=2.6.8->tensorboard<1.16.0,>=1.15.0->tensorflow==1.15.0) (3.1.0)\n",
            "Building wheels for collected packages: gast\n",
            "  Building wheel for gast (setup.py) ... \u001b[?25l\u001b[?25hdone\n",
            "  Created wheel for gast: filename=gast-0.2.2-cp36-none-any.whl size=7542 sha256=bfa02037d76fea69302cf11cb803a0eec432d43b3bf8a0eb696c725e464f21f5\n",
            "  Stored in directory: /root/.cache/pip/wheels/5c/2e/7e/a1d4d4fcebe6c381f378ce7743a3ced3699feb89bcfbdadadd\n",
            "Successfully built gast\n",
            "\u001b[31mERROR: tensorflow-probability 0.11.0 has requirement gast>=0.3.2, but you'll have gast 0.2.2 which is incompatible.\u001b[0m\n",
            "Installing collected packages: tensorflow-estimator, gast, keras-applications, tensorboard, tensorflow\n",
            "  Found existing installation: tensorflow-estimator 2.3.0\n",
            "    Uninstalling tensorflow-estimator-2.3.0:\n",
            "      Successfully uninstalled tensorflow-estimator-2.3.0\n",
            "  Found existing installation: gast 0.3.3\n",
            "    Uninstalling gast-0.3.3:\n",
            "      Successfully uninstalled gast-0.3.3\n",
            "  Found existing installation: tensorboard 2.3.0\n",
            "    Uninstalling tensorboard-2.3.0:\n",
            "      Successfully uninstalled tensorboard-2.3.0\n",
            "  Found existing installation: tensorflow 2.3.0\n",
            "    Uninstalling tensorflow-2.3.0:\n",
            "      Successfully uninstalled tensorflow-2.3.0\n",
            "Successfully installed gast-0.2.2 keras-applications-1.0.8 tensorboard-1.15.0 tensorflow-1.15.0 tensorflow-estimator-1.15.1\n"
          ],
          "name": "stdout"
        }
      ]
    },
    {
      "cell_type": "code",
      "metadata": {
        "id": "bn9kI0skYd0a",
        "colab_type": "code",
        "colab": {
          "base_uri": "https://localhost:8080/",
          "height": 204
        },
        "outputId": "f82dd133-7244-406d-c004-59fc980aea15"
      },
      "source": [
        "try:\n",
        "    import google.colab\n",
        "    IN_COLAB = True\n",
        "except:\n",
        "    IN_COLAB = False\n",
        "\n",
        "if IN_COLAB:\n",
        "    ! wget https://raw.githubusercontent.com/hse-aml/natural-language-processing/master/setup_google_colab.py -O setup_google_colab.py\n",
        "    import setup_google_colab\n",
        "    setup_google_colab.setup_week4()"
      ],
      "execution_count": 2,
      "outputs": [
        {
          "output_type": "stream",
          "text": [
            "--2020-09-19 17:22:31--  https://raw.githubusercontent.com/hse-aml/natural-language-processing/master/setup_google_colab.py\n",
            "Resolving raw.githubusercontent.com (raw.githubusercontent.com)... 151.101.0.133, 151.101.64.133, 151.101.128.133, ...\n",
            "Connecting to raw.githubusercontent.com (raw.githubusercontent.com)|151.101.0.133|:443... connected.\n",
            "HTTP request sent, awaiting response... 200 OK\n",
            "Length: 1939 (1.9K) [text/plain]\n",
            "Saving to: ‘setup_google_colab.py’\n",
            "\n",
            "\rsetup_google_colab.   0%[                    ]       0  --.-KB/s               \rsetup_google_colab. 100%[===================>]   1.89K  --.-KB/s    in 0s      \n",
            "\n",
            "2020-09-19 17:22:31 (21.3 MB/s) - ‘setup_google_colab.py’ saved [1939/1939]\n",
            "\n"
          ],
          "name": "stdout"
        }
      ]
    },
    {
      "cell_type": "markdown",
      "metadata": {
        "id": "edaFZv6LYd0j",
        "colab_type": "text"
      },
      "source": [
        "### Data\n",
        "\n",
        "One benefit of this task is that you don't need to download any data — you will generate it on your own! We will use two operators (addition and subtraction) and work with positive integer numbers in some range. Here are examples of correct inputs and outputs:\n",
        "\n",
        "    Input: '1+2'\n",
        "    Output: '3'\n",
        "    \n",
        "    Input: '0-99'\n",
        "    Output: '-99'\n",
        "\n",
        "*Note, that there are no spaces between operators and operands.*\n",
        "\n",
        "\n",
        "Now you need to implement the function *generate_equations*, which will be used to generate the data."
      ]
    },
    {
      "cell_type": "code",
      "metadata": {
        "id": "XxZh3y1IYd0k",
        "colab_type": "code",
        "colab": {}
      },
      "source": [
        "import random\n",
        "import operator"
      ],
      "execution_count": 3,
      "outputs": []
    },
    {
      "cell_type": "code",
      "metadata": {
        "id": "KLI_YyTfYd0q",
        "colab_type": "code",
        "colab": {}
      },
      "source": [
        "def generate_equations(allowed_operators, dataset_size, min_value, max_value):\n",
        "    \"\"\"Generates pairs of equations and solutions to them.\n",
        "    \n",
        "       Each equation has a form of two integers with an operator in between.\n",
        "       Each solution is an integer with the result of the operaion.\n",
        "    \n",
        "        allowed_operators: list of strings, allowed operators.\n",
        "        dataset_size: an integer, number of equations to be generated.\n",
        "        min_value: an integer, min value of each operand.\n",
        "        max_value: an integer, max value of each operand.\n",
        "\n",
        "        result: a list of tuples of strings (equation, solution).\n",
        "    \"\"\"\n",
        "    sample = []\n",
        "    for _ in range(dataset_size):\n",
        "        ######################################\n",
        "        ######### YOUR CODE HERE #############\n",
        "        ######################################\n",
        "        a = random.randint(min_value,max_value)\n",
        "        op = random.choice(allowed_operators)\n",
        "        b = random.randint(min_value,max_value)\n",
        "        ops = {'+':operator.add,'-':operator.sub}\n",
        "        sol = ops[op](a,b)\n",
        "        sample.append((str(a)+op+str(b),str(sol)))\n",
        "\n",
        "    return sample"
      ],
      "execution_count": 4,
      "outputs": []
    },
    {
      "cell_type": "markdown",
      "metadata": {
        "id": "BC8HGV0bYd0z",
        "colab_type": "text"
      },
      "source": [
        "To check the correctness of your implementation, use *test_generate_equations* function:"
      ]
    },
    {
      "cell_type": "code",
      "metadata": {
        "id": "WpK0qhn4Yd01",
        "colab_type": "code",
        "colab": {}
      },
      "source": [
        "def test_generate_equations():\n",
        "    allowed_operators = ['+', '-']\n",
        "    dataset_size = 10\n",
        "    for (input_, output_) in generate_equations(allowed_operators, dataset_size, 0, 100):\n",
        "        if not (type(input_) is str and type(output_) is str):\n",
        "            return \"Both parts should be strings.\"\n",
        "        if eval(input_) != int(output_):\n",
        "            return \"The (equation: {!r}, solution: {!r}) pair is incorrect.\".format(input_, output_)\n",
        "    return \"Tests passed.\""
      ],
      "execution_count": 5,
      "outputs": []
    },
    {
      "cell_type": "code",
      "metadata": {
        "id": "FQPGg-DAYd0-",
        "colab_type": "code",
        "colab": {
          "base_uri": "https://localhost:8080/",
          "height": 34
        },
        "outputId": "738c459e-6025-4bbf-fe18-056e1ae0bad2"
      },
      "source": [
        "print(test_generate_equations())"
      ],
      "execution_count": 6,
      "outputs": [
        {
          "output_type": "stream",
          "text": [
            "Tests passed.\n"
          ],
          "name": "stdout"
        }
      ]
    },
    {
      "cell_type": "markdown",
      "metadata": {
        "id": "UT_HHUPiYd1F",
        "colab_type": "text"
      },
      "source": [
        "Finally, we are ready to generate the train and test data for the neural network:"
      ]
    },
    {
      "cell_type": "code",
      "metadata": {
        "id": "uABzVoS6Yd1G",
        "colab_type": "code",
        "colab": {}
      },
      "source": [
        "from sklearn.model_selection import train_test_split"
      ],
      "execution_count": 7,
      "outputs": []
    },
    {
      "cell_type": "code",
      "metadata": {
        "id": "DyYJg3qiYd1Q",
        "colab_type": "code",
        "colab": {}
      },
      "source": [
        "allowed_operators = ['+', '-']\n",
        "dataset_size = 100000\n",
        "data = generate_equations(allowed_operators, dataset_size, min_value=0, max_value=9999)\n",
        "\n",
        "train_set, test_set = train_test_split(data, test_size=0.2, random_state=42)"
      ],
      "execution_count": 8,
      "outputs": []
    },
    {
      "cell_type": "code",
      "metadata": {
        "id": "6htwwXJceY1V",
        "colab_type": "code",
        "colab": {
          "base_uri": "https://localhost:8080/",
          "height": 1000
        },
        "outputId": "8cad4575-52f3-415b-d449-22f0db0edbfa"
      },
      "source": [
        "train_set"
      ],
      "execution_count": 9,
      "outputs": [
        {
          "output_type": "execute_result",
          "data": {
            "text/plain": [
              "[('1314-7358', '-6044'),\n",
              " ('1762-8512', '-6750'),\n",
              " ('4997-6392', '-1395'),\n",
              " ('4094+567', '4661'),\n",
              " ('7366-6091', '1275'),\n",
              " ('2485-7062', '-4577'),\n",
              " ('2785+8665', '11450'),\n",
              " ('3026-503', '2523'),\n",
              " ('6638+1109', '7747'),\n",
              " ('5157-6542', '-1385'),\n",
              " ('58-115', '-57'),\n",
              " ('7997+550', '8547'),\n",
              " ('2333-9004', '-6671'),\n",
              " ('2785-1091', '1694'),\n",
              " ('2012-9064', '-7052'),\n",
              " ('7631+609', '8240'),\n",
              " ('9709-8211', '1498'),\n",
              " ('1298+4981', '6279'),\n",
              " ('5628+5205', '10833'),\n",
              " ('5564-7822', '-2258'),\n",
              " ('4277+244', '4521'),\n",
              " ('5314-6400', '-1086'),\n",
              " ('1743-2345', '-602'),\n",
              " ('3594+749', '4343'),\n",
              " ('4382+3679', '8061'),\n",
              " ('295+5294', '5589'),\n",
              " ('2652+7158', '9810'),\n",
              " ('5314-6825', '-1511'),\n",
              " ('7688-386', '7302'),\n",
              " ('1923+5111', '7034'),\n",
              " ('8859+6008', '14867'),\n",
              " ('6792+4891', '11683'),\n",
              " ('4564+1923', '6487'),\n",
              " ('3904-4586', '-682'),\n",
              " ('5184-8480', '-3296'),\n",
              " ('6517+6517', '13034'),\n",
              " ('9428+5485', '14913'),\n",
              " ('8458+421', '8879'),\n",
              " ('8311+299', '8610'),\n",
              " ('3354-8728', '-5374'),\n",
              " ('3074-6030', '-2956'),\n",
              " ('3406+26', '3432'),\n",
              " ('9253-5212', '4041'),\n",
              " ('1964-2071', '-107'),\n",
              " ('860+2566', '3426'),\n",
              " ('6790-7034', '-244'),\n",
              " ('780-8406', '-7626'),\n",
              " ('4404+3083', '7487'),\n",
              " ('8784-579', '8205'),\n",
              " ('8246+870', '9116'),\n",
              " ('7719-8084', '-365'),\n",
              " ('3653-4243', '-590'),\n",
              " ('979+2145', '3124'),\n",
              " ('8141-7239', '902'),\n",
              " ('1233+838', '2071'),\n",
              " ('4305-3330', '975'),\n",
              " ('773-4426', '-3653'),\n",
              " ('5945-7667', '-1722'),\n",
              " ('6114+9571', '15685'),\n",
              " ('5455+407', '5862'),\n",
              " ('7302+6974', '14276'),\n",
              " ('8040+2457', '10497'),\n",
              " ('4781+9', '4790'),\n",
              " ('4189+1521', '5710'),\n",
              " ('1359+2547', '3906'),\n",
              " ('381+1942', '2323'),\n",
              " ('9491+9958', '19449'),\n",
              " ('2382+5455', '7837'),\n",
              " ('2073-8068', '-5995'),\n",
              " ('8597-954', '7643'),\n",
              " ('4307+5', '4312'),\n",
              " ('5344+9260', '14604'),\n",
              " ('1408-7478', '-6070'),\n",
              " ('6592-7022', '-430'),\n",
              " ('1073-5213', '-4140'),\n",
              " ('3038-8846', '-5808'),\n",
              " ('4197+5723', '9920'),\n",
              " ('5633+9380', '15013'),\n",
              " ('7177-4536', '2641'),\n",
              " ('1083+5544', '6627'),\n",
              " ('3610-2285', '1325'),\n",
              " ('9130+8051', '17181'),\n",
              " ('9788+8034', '17822'),\n",
              " ('7958-9283', '-1325'),\n",
              " ('8734+4292', '13026'),\n",
              " ('8435-7615', '820'),\n",
              " ('1088-5626', '-4538'),\n",
              " ('2966+1396', '4362'),\n",
              " ('3807-4794', '-987'),\n",
              " ('3015-22', '2993'),\n",
              " ('5078+2981', '8059'),\n",
              " ('3039+8978', '12017'),\n",
              " ('626+560', '1186'),\n",
              " ('6540+2172', '8712'),\n",
              " ('3010-2416', '594'),\n",
              " ('4034-274', '3760'),\n",
              " ('1900+7115', '9015'),\n",
              " ('6988-1583', '5405'),\n",
              " ('4642-3764', '878'),\n",
              " ('8893+3667', '12560'),\n",
              " ('7838+6991', '14829'),\n",
              " ('8315+7599', '15914'),\n",
              " ('770+8847', '9617'),\n",
              " ('5267+8111', '13378'),\n",
              " ('3474-4822', '-1348'),\n",
              " ('4062-5995', '-1933'),\n",
              " ('5303-8962', '-3659'),\n",
              " ('8302-8959', '-657'),\n",
              " ('658-2336', '-1678'),\n",
              " ('8150-6888', '1262'),\n",
              " ('6960-8761', '-1801'),\n",
              " ('5770+8056', '13826'),\n",
              " ('7725+9674', '17399'),\n",
              " ('7668+2051', '9719'),\n",
              " ('5045-4170', '875'),\n",
              " ('9825+5801', '15626'),\n",
              " ('3486+9218', '12704'),\n",
              " ('3846-6869', '-3023'),\n",
              " ('8375-7867', '508'),\n",
              " ('7630-5518', '2112'),\n",
              " ('7776+2760', '10536'),\n",
              " ('5303-656', '4647'),\n",
              " ('6244-7733', '-1489'),\n",
              " ('2006-6734', '-4728'),\n",
              " ('6309-4789', '1520'),\n",
              " ('8231+4641', '12872'),\n",
              " ('7502+2270', '9772'),\n",
              " ('4603-1389', '3214'),\n",
              " ('5388-5194', '194'),\n",
              " ('8727-5518', '3209'),\n",
              " ('1947-2275', '-328'),\n",
              " ('2854+8964', '11818'),\n",
              " ('5164+5007', '10171'),\n",
              " ('368+3865', '4233'),\n",
              " ('4931+9068', '13999'),\n",
              " ('9941+1961', '11902'),\n",
              " ('4258+7985', '12243'),\n",
              " ('3136-3322', '-186'),\n",
              " ('8385-120', '8265'),\n",
              " ('4608-1097', '3511'),\n",
              " ('2202-4187', '-1985'),\n",
              " ('1311-1232', '79'),\n",
              " ('5755-10', '5745'),\n",
              " ('6856-6318', '538'),\n",
              " ('2036+4613', '6649'),\n",
              " ('4608-647', '3961'),\n",
              " ('6391+5508', '11899'),\n",
              " ('3987+4421', '8408'),\n",
              " ('4419-2053', '2366'),\n",
              " ('2733+4093', '6826'),\n",
              " ('9854+6630', '16484'),\n",
              " ('167-1209', '-1042'),\n",
              " ('3293-9599', '-6306'),\n",
              " ('3292+8906', '12198'),\n",
              " ('6343+8348', '14691'),\n",
              " ('1431+1918', '3349'),\n",
              " ('7107-7742', '-635'),\n",
              " ('3931+4307', '8238'),\n",
              " ('8093+1591', '9684'),\n",
              " ('1587+8552', '10139'),\n",
              " ('9175+2155', '11330'),\n",
              " ('7150-787', '6363'),\n",
              " ('4038-6860', '-2822'),\n",
              " ('7021+5135', '12156'),\n",
              " ('4331-6186', '-1855'),\n",
              " ('5310+4765', '10075'),\n",
              " ('9911-1891', '8020'),\n",
              " ('8372-7678', '694'),\n",
              " ('7060+6128', '13188'),\n",
              " ('522-2918', '-2396'),\n",
              " ('1612+4163', '5775'),\n",
              " ('4747-3598', '1149'),\n",
              " ('8315-2678', '5637'),\n",
              " ('4095-8273', '-4178'),\n",
              " ('3547+9648', '13195'),\n",
              " ('1838+5548', '7386'),\n",
              " ('7631-1474', '6157'),\n",
              " ('9444-898', '8546'),\n",
              " ('8659-4984', '3675'),\n",
              " ('7187+4240', '11427'),\n",
              " ('6207-4977', '1230'),\n",
              " ('7095+7548', '14643'),\n",
              " ('163-6', '157'),\n",
              " ('4546+8020', '12566'),\n",
              " ('1760-8203', '-6443'),\n",
              " ('9356+4216', '13572'),\n",
              " ('1779+60', '1839'),\n",
              " ('3511+3212', '6723'),\n",
              " ('7561+9779', '17340'),\n",
              " ('7691-6870', '821'),\n",
              " ('8796+8536', '17332'),\n",
              " ('8676-7840', '836'),\n",
              " ('4942+2975', '7917'),\n",
              " ('2129+2139', '4268'),\n",
              " ('2410+7908', '10318'),\n",
              " ('8712-9761', '-1049'),\n",
              " ('342-3281', '-2939'),\n",
              " ('7864+3549', '11413'),\n",
              " ('9927+5956', '15883'),\n",
              " ('3078-6588', '-3510'),\n",
              " ('805-3867', '-3062'),\n",
              " ('7663-122', '7541'),\n",
              " ('203+870', '1073'),\n",
              " ('6756-3984', '2772'),\n",
              " ('5896+1836', '7732'),\n",
              " ('8504-7330', '1174'),\n",
              " ('4470+828', '5298'),\n",
              " ('5108-3319', '1789'),\n",
              " ('5095+1975', '7070'),\n",
              " ('6806-7171', '-365'),\n",
              " ('7987+3755', '11742'),\n",
              " ('4020+2555', '6575'),\n",
              " ('8329-3789', '4540'),\n",
              " ('787+4508', '5295'),\n",
              " ('1554-9617', '-8063'),\n",
              " ('6563+4913', '11476'),\n",
              " ('5910-8441', '-2531'),\n",
              " ('6093+2177', '8270'),\n",
              " ('2038+4599', '6637'),\n",
              " ('4104+8159', '12263'),\n",
              " ('2617+2564', '5181'),\n",
              " ('8900-7812', '1088'),\n",
              " ('1007-5372', '-4365'),\n",
              " ('9731+8835', '18566'),\n",
              " ('7864-7176', '688'),\n",
              " ('3470-1970', '1500'),\n",
              " ('2586-8967', '-6381'),\n",
              " ('8565-2958', '5607'),\n",
              " ('5860-9012', '-3152'),\n",
              " ('3779+329', '4108'),\n",
              " ('992+8761', '9753'),\n",
              " ('7784-3006', '4778'),\n",
              " ('4849+2998', '7847'),\n",
              " ('6899-305', '6594'),\n",
              " ('7964+3721', '11685'),\n",
              " ('2408-5804', '-3396'),\n",
              " ('872-6001', '-5129'),\n",
              " ('2554+386', '2940'),\n",
              " ('9666-7513', '2153'),\n",
              " ('3488-4159', '-671'),\n",
              " ('9978-2553', '7425'),\n",
              " ('5485+2383', '7868'),\n",
              " ('3411+1911', '5322'),\n",
              " ('9903+8968', '18871'),\n",
              " ('4689+207', '4896'),\n",
              " ('4648-5603', '-955'),\n",
              " ('399+4388', '4787'),\n",
              " ('9684-728', '8956'),\n",
              " ('4849+1999', '6848'),\n",
              " ('5334-8899', '-3565'),\n",
              " ('7944-5507', '2437'),\n",
              " ('7101-4490', '2611'),\n",
              " ('5159+2563', '7722'),\n",
              " ('2490-9825', '-7335'),\n",
              " ('9066-8755', '311'),\n",
              " ('351+130', '481'),\n",
              " ('6493+4788', '11281'),\n",
              " ('5340+1636', '6976'),\n",
              " ('1541-4058', '-2517'),\n",
              " ('7239-2403', '4836'),\n",
              " ('384-5031', '-4647'),\n",
              " ('5072-5928', '-856'),\n",
              " ('9079-5348', '3731'),\n",
              " ('870+1454', '2324'),\n",
              " ('1560-1089', '471'),\n",
              " ('1797+9209', '11006'),\n",
              " ('7121-5543', '1578'),\n",
              " ('6732-190', '6542'),\n",
              " ('5620-290', '5330'),\n",
              " ('6713+9162', '15875'),\n",
              " ('5563+9313', '14876'),\n",
              " ('7582-1671', '5911'),\n",
              " ('3330-7298', '-3968'),\n",
              " ('6746+551', '7297'),\n",
              " ('4344-6676', '-2332'),\n",
              " ('5629+6182', '11811'),\n",
              " ('47-7519', '-7472'),\n",
              " ('6968-89', '6879'),\n",
              " ('3567-3811', '-244'),\n",
              " ('6600-8185', '-1585'),\n",
              " ('1051+7593', '8644'),\n",
              " ('7344+6881', '14225'),\n",
              " ('3640+2615', '6255'),\n",
              " ('2442-2079', '363'),\n",
              " ('8559+752', '9311'),\n",
              " ('1913-667', '1246'),\n",
              " ('8742+5732', '14474'),\n",
              " ('3519+2293', '5812'),\n",
              " ('3485-2389', '1096'),\n",
              " ('6068-3841', '2227'),\n",
              " ('7241-1648', '5593'),\n",
              " ('9567-7511', '2056'),\n",
              " ('8871+841', '9712'),\n",
              " ('9376+3173', '12549'),\n",
              " ('9555-3007', '6548'),\n",
              " ('9000+2701', '11701'),\n",
              " ('8691-6929', '1762'),\n",
              " ('4904+3860', '8764'),\n",
              " ('9550-9796', '-246'),\n",
              " ('913+7368', '8281'),\n",
              " ('6901+7399', '14300'),\n",
              " ('1772-2327', '-555'),\n",
              " ('8241+5191', '13432'),\n",
              " ('739+5382', '6121'),\n",
              " ('4860-5827', '-967'),\n",
              " ('1090-2031', '-941'),\n",
              " ('8019-8935', '-916'),\n",
              " ('2747+9263', '12010'),\n",
              " ('7879-5820', '2059'),\n",
              " ('2857+3853', '6710'),\n",
              " ('2592-6845', '-4253'),\n",
              " ('7592+583', '8175'),\n",
              " ('3626-4234', '-608'),\n",
              " ('8411-4147', '4264'),\n",
              " ('1461+1166', '2627'),\n",
              " ('8584+7944', '16528'),\n",
              " ('4187-8585', '-4398'),\n",
              " ('6881-1216', '5665'),\n",
              " ('4884+4617', '9501'),\n",
              " ('4080-8357', '-4277'),\n",
              " ('269+9398', '9667'),\n",
              " ('9762+756', '10518'),\n",
              " ('9763+5933', '15696'),\n",
              " ('8418+2645', '11063'),\n",
              " ('9529+2603', '12132'),\n",
              " ('9356-1684', '7672'),\n",
              " ('863+9634', '10497'),\n",
              " ('9898+266', '10164'),\n",
              " ('8721-8016', '705'),\n",
              " ('463+280', '743'),\n",
              " ('4957-4376', '581'),\n",
              " ('3360+3033', '6393'),\n",
              " ('3028-3307', '-279'),\n",
              " ('3693-5625', '-1932'),\n",
              " ('3503+7711', '11214'),\n",
              " ('6685-6682', '3'),\n",
              " ('486-2874', '-2388'),\n",
              " ('5543+5427', '10970'),\n",
              " ('5353+6019', '11372'),\n",
              " ('2027+4603', '6630'),\n",
              " ('9435-2966', '6469'),\n",
              " ('6537-9776', '-3239'),\n",
              " ('5116+7787', '12903'),\n",
              " ('893+9765', '10658'),\n",
              " ('4620-5824', '-1204'),\n",
              " ('9243-6795', '2448'),\n",
              " ('1087+4051', '5138'),\n",
              " ('3961-4617', '-656'),\n",
              " ('8570+9269', '17839'),\n",
              " ('5784+6699', '12483'),\n",
              " ('5634+8656', '14290'),\n",
              " ('2644-8378', '-5734'),\n",
              " ('3923+7501', '11424'),\n",
              " ('4659+4328', '8987'),\n",
              " ('6957+7644', '14601'),\n",
              " ('8776-8504', '272'),\n",
              " ('7881-4450', '3431'),\n",
              " ('8647-6301', '2346'),\n",
              " ('9882-1078', '8804'),\n",
              " ('7916-2308', '5608'),\n",
              " ('2586+5186', '7772'),\n",
              " ('25-2801', '-2776'),\n",
              " ('2753-6770', '-4017'),\n",
              " ('847-2671', '-1824'),\n",
              " ('3170-383', '2787'),\n",
              " ('6181-5250', '931'),\n",
              " ('246-8629', '-8383'),\n",
              " ('7490-7089', '401'),\n",
              " ('745+6462', '7207'),\n",
              " ('4489+9111', '13600'),\n",
              " ('2686+2790', '5476'),\n",
              " ('6202-7288', '-1086'),\n",
              " ('8241-1833', '6408'),\n",
              " ('1215+9121', '10336'),\n",
              " ('9519+8601', '18120'),\n",
              " ('3527-8028', '-4501'),\n",
              " ('6928-6412', '516'),\n",
              " ('3536-2353', '1183'),\n",
              " ('1834+4208', '6042'),\n",
              " ('3458-8221', '-4763'),\n",
              " ('7378+657', '8035'),\n",
              " ('4224+9893', '14117'),\n",
              " ('7500+3363', '10863'),\n",
              " ('5977+1279', '7256'),\n",
              " ('5775+5477', '11252'),\n",
              " ('8714-6126', '2588'),\n",
              " ('5430+8361', '13791'),\n",
              " ('8118-7233', '885'),\n",
              " ('3958-6178', '-2220'),\n",
              " ('5556+1832', '7388'),\n",
              " ('1275+5173', '6448'),\n",
              " ('7715+7106', '14821'),\n",
              " ('4549+9020', '13569'),\n",
              " ('7028+787', '7815'),\n",
              " ('794+1193', '1987'),\n",
              " ('8166+2001', '10167'),\n",
              " ('5126+7066', '12192'),\n",
              " ('5151-5724', '-573'),\n",
              " ('9742+544', '10286'),\n",
              " ('9416-5986', '3430'),\n",
              " ('662+984', '1646'),\n",
              " ('625+6911', '7536'),\n",
              " ('8443-4519', '3924'),\n",
              " ('3032-3107', '-75'),\n",
              " ('4759+8092', '12851'),\n",
              " ('9528+3795', '13323'),\n",
              " ('8768-4418', '4350'),\n",
              " ('1872-8459', '-6587'),\n",
              " ('367+6835', '7202'),\n",
              " ('6902-2393', '4509'),\n",
              " ('8365-1061', '7304'),\n",
              " ('3918+2749', '6667'),\n",
              " ('8668-438', '8230'),\n",
              " ('1241+4714', '5955'),\n",
              " ('5760-2197', '3563'),\n",
              " ('4951-4887', '64'),\n",
              " ('9023+2093', '11116'),\n",
              " ('89+6850', '6939'),\n",
              " ('9148+5725', '14873'),\n",
              " ('7626+1019', '8645'),\n",
              " ('1137-1194', '-57'),\n",
              " ('2131+6082', '8213'),\n",
              " ('6683-3135', '3548'),\n",
              " ('2378-497', '1881'),\n",
              " ('3334-9545', '-6211'),\n",
              " ('531-329', '202'),\n",
              " ('974-1447', '-473'),\n",
              " ('4881-6318', '-1437'),\n",
              " ('7225-4826', '2399'),\n",
              " ('7913-3181', '4732'),\n",
              " ('7377-2736', '4641'),\n",
              " ('6466+9497', '15963'),\n",
              " ('7437+4035', '11472'),\n",
              " ('6234-9871', '-3637'),\n",
              " ('7068-1387', '5681'),\n",
              " ('1291-5960', '-4669'),\n",
              " ('1399+5627', '7026'),\n",
              " ('2902-1778', '1124'),\n",
              " ('9294-6719', '2575'),\n",
              " ('9612+8879', '18491'),\n",
              " ('6052-7043', '-991'),\n",
              " ('7479-4369', '3110'),\n",
              " ('2621+5649', '8270'),\n",
              " ('9171+7790', '16961'),\n",
              " ('412-994', '-582'),\n",
              " ('2876+8834', '11710'),\n",
              " ('5858-9220', '-3362'),\n",
              " ('6449-6934', '-485'),\n",
              " ('308-1390', '-1082'),\n",
              " ('7801+9332', '17133'),\n",
              " ('765-9043', '-8278'),\n",
              " ('9118+7824', '16942'),\n",
              " ('9533-7472', '2061'),\n",
              " ('5573+2698', '8271'),\n",
              " ('3304-2566', '738'),\n",
              " ('9961-2854', '7107'),\n",
              " ('9744+5155', '14899'),\n",
              " ('5585-4396', '1189'),\n",
              " ('7662+470', '8132'),\n",
              " ('6192+9467', '15659'),\n",
              " ('2951-2465', '486'),\n",
              " ('5811+5979', '11790'),\n",
              " ('1259+6266', '7525'),\n",
              " ('5777-5461', '316'),\n",
              " ('6814+6062', '12876'),\n",
              " ('9226-1604', '7622'),\n",
              " ('5640-5408', '232'),\n",
              " ('4385+6475', '10860'),\n",
              " ('56+8189', '8245'),\n",
              " ('7498-1777', '5721'),\n",
              " ('9209-9016', '193'),\n",
              " ('3585-4033', '-448'),\n",
              " ('4679-3170', '1509'),\n",
              " ('3542-3353', '189'),\n",
              " ('4337-3153', '1184'),\n",
              " ('1696-2904', '-1208'),\n",
              " ('5754+1196', '6950'),\n",
              " ('5412-9000', '-3588'),\n",
              " ('5659-2654', '3005'),\n",
              " ('8811-8834', '-23'),\n",
              " ('9359+9142', '18501'),\n",
              " ('5755+1695', '7450'),\n",
              " ('9620+2216', '11836'),\n",
              " ('4786+5521', '10307'),\n",
              " ('1005-3308', '-2303'),\n",
              " ('6454+1490', '7944'),\n",
              " ('7386+9100', '16486'),\n",
              " ('6875+5761', '12636'),\n",
              " ('1536+3074', '4610'),\n",
              " ('8886-1704', '7182'),\n",
              " ('4023-940', '3083'),\n",
              " ('3317-1108', '2209'),\n",
              " ('9496-9600', '-104'),\n",
              " ('4936-5166', '-230'),\n",
              " ('4893-3273', '1620'),\n",
              " ('1227+741', '1968'),\n",
              " ('4587+7570', '12157'),\n",
              " ('3880-1729', '2151'),\n",
              " ('9399-1251', '8148'),\n",
              " ('3125+7659', '10784'),\n",
              " ('7584-2065', '5519'),\n",
              " ('1042-9792', '-8750'),\n",
              " ('543+8106', '8649'),\n",
              " ('285+1014', '1299'),\n",
              " ('4929+1633', '6562'),\n",
              " ('3167+5427', '8594'),\n",
              " ('2310-1288', '1022'),\n",
              " ('8676+450', '9126'),\n",
              " ('6600+6372', '12972'),\n",
              " ('3740-7923', '-4183'),\n",
              " ('8349-680', '7669'),\n",
              " ('7963+8794', '16757'),\n",
              " ('5019-9949', '-4930'),\n",
              " ('4271+9144', '13415'),\n",
              " ('5073-3425', '1648'),\n",
              " ('229-7936', '-7707'),\n",
              " ('5275+3375', '8650'),\n",
              " ('4333+8542', '12875'),\n",
              " ('8007-4705', '3302'),\n",
              " ('9253+7852', '17105'),\n",
              " ('5721-8883', '-3162'),\n",
              " ('4395-8405', '-4010'),\n",
              " ('8560+371', '8931'),\n",
              " ('2263-5392', '-3129'),\n",
              " ('5701-6040', '-339'),\n",
              " ('6437+9863', '16300'),\n",
              " ('3219+943', '4162'),\n",
              " ('1498+1575', '3073'),\n",
              " ('5928-9209', '-3281'),\n",
              " ('1808-9061', '-7253'),\n",
              " ('7152-1430', '5722'),\n",
              " ('8513-1228', '7285'),\n",
              " ('1248+7829', '9077'),\n",
              " ('3821-2460', '1361'),\n",
              " ('2928-361', '2567'),\n",
              " ('6701+6754', '13455'),\n",
              " ('8846+4409', '13255'),\n",
              " ('5085+4712', '9797'),\n",
              " ('5380-6916', '-1536'),\n",
              " ('5073+4600', '9673'),\n",
              " ('1347+9888', '11235'),\n",
              " ('6307+3855', '10162'),\n",
              " ('2446-6493', '-4047'),\n",
              " ('448-7612', '-7164'),\n",
              " ('5681-1189', '4492'),\n",
              " ('2498-8996', '-6498'),\n",
              " ('8458-7537', '921'),\n",
              " ('6105-6174', '-69'),\n",
              " ('5032+9676', '14708'),\n",
              " ('6717-2160', '4557'),\n",
              " ('8470-3063', '5407'),\n",
              " ('5666+2423', '8089'),\n",
              " ('6768-5766', '1002'),\n",
              " ('3922+1515', '5437'),\n",
              " ('1314+7385', '8699'),\n",
              " ('5742-7365', '-1623'),\n",
              " ('2284+3030', '5314'),\n",
              " ('5612-5355', '257'),\n",
              " ('1042-6431', '-5389'),\n",
              " ('6337-6641', '-304'),\n",
              " ('9753+9232', '18985'),\n",
              " ('8093-6866', '1227'),\n",
              " ('9837-9251', '586'),\n",
              " ('4466-5624', '-1158'),\n",
              " ('5374+6971', '12345'),\n",
              " ('8913+4146', '13059'),\n",
              " ('7168-2041', '5127'),\n",
              " ('9817+6347', '16164'),\n",
              " ('2413-5670', '-3257'),\n",
              " ('4239+5187', '9426'),\n",
              " ('1567-7666', '-6099'),\n",
              " ('885-7677', '-6792'),\n",
              " ('4177-6677', '-2500'),\n",
              " ('2210+7164', '9374'),\n",
              " ('8610-5774', '2836'),\n",
              " ('848+6018', '6866'),\n",
              " ('2116-2207', '-91'),\n",
              " ('662+6092', '6754'),\n",
              " ('6472-6476', '-4'),\n",
              " ('5857+9442', '15299'),\n",
              " ('175-3666', '-3491'),\n",
              " ('6347+2667', '9014'),\n",
              " ('9694+9608', '19302'),\n",
              " ('7466+5274', '12740'),\n",
              " ('6364+675', '7039'),\n",
              " ('8463-2690', '5773'),\n",
              " ('6118-9046', '-2928'),\n",
              " ('5919-7451', '-1532'),\n",
              " ('3818+4122', '7940'),\n",
              " ('3658+5715', '9373'),\n",
              " ('3881+9475', '13356'),\n",
              " ('5666-8437', '-2771'),\n",
              " ('8739+3776', '12515'),\n",
              " ('9025+4743', '13768'),\n",
              " ('1471+9112', '10583'),\n",
              " ('1064-623', '441'),\n",
              " ('8294+4599', '12893'),\n",
              " ('9559-9635', '-76'),\n",
              " ('8036-1807', '6229'),\n",
              " ('342-8754', '-8412'),\n",
              " ('9190+1460', '10650'),\n",
              " ('1846+2105', '3951'),\n",
              " ('7938+2535', '10473'),\n",
              " ('6072+8984', '15056'),\n",
              " ('8788+4037', '12825'),\n",
              " ('2007+6838', '8845'),\n",
              " ('5289+1649', '6938'),\n",
              " ('5697+6319', '12016'),\n",
              " ('467-5851', '-5384'),\n",
              " ('531+9110', '9641'),\n",
              " ('9288+4986', '14274'),\n",
              " ('4863-1808', '3055'),\n",
              " ('9361-1583', '7778'),\n",
              " ('2454+4891', '7345'),\n",
              " ('2701+2309', '5010'),\n",
              " ('841-5742', '-4901'),\n",
              " ('6848-4997', '1851'),\n",
              " ('578-407', '171'),\n",
              " ('5797-3766', '2031'),\n",
              " ('9203+2888', '12091'),\n",
              " ('9927+5925', '15852'),\n",
              " ('9676-9698', '-22'),\n",
              " ('6258+1048', '7306'),\n",
              " ('2564-4037', '-1473'),\n",
              " ('6615-1275', '5340'),\n",
              " ('4849+5309', '10158'),\n",
              " ('1606+6223', '7829'),\n",
              " ('9445-8891', '554'),\n",
              " ('4423-5095', '-672'),\n",
              " ('104+4245', '4349'),\n",
              " ('5359-6334', '-975'),\n",
              " ('2935+5077', '8012'),\n",
              " ('2323-2966', '-643'),\n",
              " ('1754-2972', '-1218'),\n",
              " ('3591-6338', '-2747'),\n",
              " ('8057+1971', '10028'),\n",
              " ('4330-2500', '1830'),\n",
              " ('4854+3716', '8570'),\n",
              " ('7431+3125', '10556'),\n",
              " ('5976+1275', '7251'),\n",
              " ('1128-8943', '-7815'),\n",
              " ('7092-8627', '-1535'),\n",
              " ('4565-1829', '2736'),\n",
              " ('6528-8895', '-2367'),\n",
              " ('4923-5900', '-977'),\n",
              " ('535-1573', '-1038'),\n",
              " ('64-6057', '-5993'),\n",
              " ('4540-3642', '898'),\n",
              " ('6789-1180', '5609'),\n",
              " ('1535-1888', '-353'),\n",
              " ('4750-994', '3756'),\n",
              " ('6938+1677', '8615'),\n",
              " ('1060-5170', '-4110'),\n",
              " ('352-7294', '-6942'),\n",
              " ('9103-5642', '3461'),\n",
              " ('4102+203', '4305'),\n",
              " ('3792-640', '3152'),\n",
              " ('73+1961', '2034'),\n",
              " ('1482+3980', '5462'),\n",
              " ('4671+2160', '6831'),\n",
              " ('9281-8894', '387'),\n",
              " ('1355-5476', '-4121'),\n",
              " ('1994-360', '1634'),\n",
              " ('8817-7427', '1390'),\n",
              " ('1665-386', '1279'),\n",
              " ('2865+6921', '9786'),\n",
              " ('1492-2354', '-862'),\n",
              " ('3757-9913', '-6156'),\n",
              " ('5850+7205', '13055'),\n",
              " ('5102+9427', '14529'),\n",
              " ('9645-2551', '7094'),\n",
              " ('8654+9398', '18052'),\n",
              " ('2190-3354', '-1164'),\n",
              " ('6640+6929', '13569'),\n",
              " ('9277-8361', '916'),\n",
              " ('4599+5380', '9979'),\n",
              " ('8398+4079', '12477'),\n",
              " ('8809+6068', '14877'),\n",
              " ('1253-8204', '-6951'),\n",
              " ('5144-1051', '4093'),\n",
              " ('8028+7986', '16014'),\n",
              " ('8944+8745', '17689'),\n",
              " ('2970-253', '2717'),\n",
              " ('4886+8350', '13236'),\n",
              " ('9583+6994', '16577'),\n",
              " ('4295-6449', '-2154'),\n",
              " ('5278+8248', '13526'),\n",
              " ('9241+3494', '12735'),\n",
              " ('575-8245', '-7670'),\n",
              " ('4724-8678', '-3954'),\n",
              " ('6802-6227', '575'),\n",
              " ('7304-8631', '-1327'),\n",
              " ('247+313', '560'),\n",
              " ('4132+3964', '8096'),\n",
              " ('1083-5978', '-4895'),\n",
              " ('8909+2510', '11419'),\n",
              " ('6788+5575', '12363'),\n",
              " ('672-1644', '-972'),\n",
              " ('1615-274', '1341'),\n",
              " ('671+2157', '2828'),\n",
              " ('375+6844', '7219'),\n",
              " ('3815+8669', '12484'),\n",
              " ('4584+8611', '13195'),\n",
              " ('1495+3056', '4551'),\n",
              " ('9700-2167', '7533'),\n",
              " ('3935-198', '3737'),\n",
              " ('45+6723', '6768'),\n",
              " ('480+7049', '7529'),\n",
              " ('393+9907', '10300'),\n",
              " ('3082+4118', '7200'),\n",
              " ('8364+3903', '12267'),\n",
              " ('624-9227', '-8603'),\n",
              " ('8330+3600', '11930'),\n",
              " ('683-2264', '-1581'),\n",
              " ('4182+7199', '11381'),\n",
              " ('4042-9066', '-5024'),\n",
              " ('9242+6804', '16046'),\n",
              " ('2380-6105', '-3725'),\n",
              " ('5385-1912', '3473'),\n",
              " ('5745+8692', '14437'),\n",
              " ('2270-6539', '-4269'),\n",
              " ('5424+8941', '14365'),\n",
              " ('6789-2079', '4710'),\n",
              " ('386+1019', '1405'),\n",
              " ('7883-1759', '6124'),\n",
              " ('4062+1915', '5977'),\n",
              " ('8697+9809', '18506'),\n",
              " ('1987+2927', '4914'),\n",
              " ('2395+3227', '5622'),\n",
              " ('1400+8491', '9891'),\n",
              " ('3975+1561', '5536'),\n",
              " ('9005+964', '9969'),\n",
              " ('4204-3085', '1119'),\n",
              " ('6933-5322', '1611'),\n",
              " ('7178-2118', '5060'),\n",
              " ('8725-5963', '2762'),\n",
              " ('2796+1224', '4020'),\n",
              " ('3535-5337', '-1802'),\n",
              " ('9711-3463', '6248'),\n",
              " ('1150-4930', '-3780'),\n",
              " ('521-6372', '-5851'),\n",
              " ('2832-5648', '-2816'),\n",
              " ('74+9461', '9535'),\n",
              " ('8343-8555', '-212'),\n",
              " ('8032-466', '7566'),\n",
              " ('12-1131', '-1119'),\n",
              " ('7945-6638', '1307'),\n",
              " ('6200-3740', '2460'),\n",
              " ('2173+7463', '9636'),\n",
              " ('258-289', '-31'),\n",
              " ('2815+7722', '10537'),\n",
              " ('136+3355', '3491'),\n",
              " ('8120-9532', '-1412'),\n",
              " ('9131+7660', '16791'),\n",
              " ('6485+1798', '8283'),\n",
              " ('2067-6339', '-4272'),\n",
              " ('9676+8129', '17805'),\n",
              " ('6427+5122', '11549'),\n",
              " ('5933+6991', '12924'),\n",
              " ('7701+7373', '15074'),\n",
              " ('6009-1276', '4733'),\n",
              " ('3499+6486', '9985'),\n",
              " ('1604+6074', '7678'),\n",
              " ('9548-2670', '6878'),\n",
              " ('6312+7957', '14269'),\n",
              " ('8193+5452', '13645'),\n",
              " ('8298-7591', '707'),\n",
              " ('4100-4459', '-359'),\n",
              " ('6457-3381', '3076'),\n",
              " ('7345-6482', '863'),\n",
              " ('4537-1054', '3483'),\n",
              " ('2060+1833', '3893'),\n",
              " ('2304-1455', '849'),\n",
              " ('6807+1303', '8110'),\n",
              " ('4667+6836', '11503'),\n",
              " ('7763+4902', '12665'),\n",
              " ('6782-2588', '4194'),\n",
              " ('2304-3175', '-871'),\n",
              " ('6459+9973', '16432'),\n",
              " ('8204+5728', '13932'),\n",
              " ('6335-9944', '-3609'),\n",
              " ('3662-3344', '318'),\n",
              " ('7341+8544', '15885'),\n",
              " ('8551-7042', '1509'),\n",
              " ('7229-3488', '3741'),\n",
              " ('3463+9534', '12997'),\n",
              " ('9078+7133', '16211'),\n",
              " ('2985-9298', '-6313'),\n",
              " ('9872+4874', '14746'),\n",
              " ('1051-8852', '-7801'),\n",
              " ('2991+6554', '9545'),\n",
              " ('6054+1227', '7281'),\n",
              " ('128-1647', '-1519'),\n",
              " ('4127-8420', '-4293'),\n",
              " ('6525+6821', '13346'),\n",
              " ('822-9948', '-9126'),\n",
              " ('7787+3488', '11275'),\n",
              " ('2405+944', '3349'),\n",
              " ('7538+5966', '13504'),\n",
              " ('5811+8191', '14002'),\n",
              " ('2373+5384', '7757'),\n",
              " ('9128-5079', '4049'),\n",
              " ('8396-83', '8313'),\n",
              " ('2602-979', '1623'),\n",
              " ('2885+2822', '5707'),\n",
              " ('6952+9104', '16056'),\n",
              " ('3074+1575', '4649'),\n",
              " ('7616+6365', '13981'),\n",
              " ('3442-4894', '-1452'),\n",
              " ('4093-7555', '-3462'),\n",
              " ('8157+733', '8890'),\n",
              " ('5765+1243', '7008'),\n",
              " ('9946-4470', '5476'),\n",
              " ('3265-9765', '-6500'),\n",
              " ('9291+8119', '17410'),\n",
              " ('9559+7355', '16914'),\n",
              " ('1176+8796', '9972'),\n",
              " ('6955-8492', '-1537'),\n",
              " ('9357+1127', '10484'),\n",
              " ('4585+9731', '14316'),\n",
              " ('5628+2512', '8140'),\n",
              " ('7913-3200', '4713'),\n",
              " ('6930-69', '6861'),\n",
              " ('9374-6599', '2775'),\n",
              " ('7229+1062', '8291'),\n",
              " ('7352-4277', '3075'),\n",
              " ('4115+3846', '7961'),\n",
              " ('5716+9855', '15571'),\n",
              " ('1041-4554', '-3513'),\n",
              " ('1185-7380', '-6195'),\n",
              " ('5292-968', '4324'),\n",
              " ('831+7059', '7890'),\n",
              " ('9977+1929', '11906'),\n",
              " ('172-8266', '-8094'),\n",
              " ('7502-6282', '1220'),\n",
              " ('7505-5948', '1557'),\n",
              " ('933+9587', '10520'),\n",
              " ('788+6970', '7758'),\n",
              " ('7614-4733', '2881'),\n",
              " ('765+419', '1184'),\n",
              " ('1123-9034', '-7911'),\n",
              " ('9466+2733', '12199'),\n",
              " ('7431+328', '7759'),\n",
              " ('8115+3687', '11802'),\n",
              " ('2099-747', '1352'),\n",
              " ('969+6117', '7086'),\n",
              " ('9488-9866', '-378'),\n",
              " ('6272-8893', '-2621'),\n",
              " ('908-6551', '-5643'),\n",
              " ('3441+8417', '11858'),\n",
              " ('5899+9756', '15655'),\n",
              " ('8270+4940', '13210'),\n",
              " ('9266-422', '8844'),\n",
              " ('794-6798', '-6004'),\n",
              " ('9461-2918', '6543'),\n",
              " ('9394-6962', '2432'),\n",
              " ('2049+2654', '4703'),\n",
              " ('15+795', '810'),\n",
              " ('6560-1223', '5337'),\n",
              " ('366-8078', '-7712'),\n",
              " ('517+7015', '7532'),\n",
              " ('417+8140', '8557'),\n",
              " ('305+9563', '9868'),\n",
              " ('6796-240', '6556'),\n",
              " ('7152+397', '7549'),\n",
              " ('4208+9358', '13566'),\n",
              " ('6410-1844', '4566'),\n",
              " ('6547+6379', '12926'),\n",
              " ('4887-2797', '2090'),\n",
              " ('6606-4829', '1777'),\n",
              " ('409+2732', '3141'),\n",
              " ('5242-3939', '1303'),\n",
              " ('1874-4118', '-2244'),\n",
              " ('5045-3134', '1911'),\n",
              " ('4693-1223', '3470'),\n",
              " ('4811+8044', '12855'),\n",
              " ('3881-4376', '-495'),\n",
              " ('3645+690', '4335'),\n",
              " ('1923-7868', '-5945'),\n",
              " ('8172-4856', '3316'),\n",
              " ('891-7679', '-6788'),\n",
              " ('4843-804', '4039'),\n",
              " ('9700-2432', '7268'),\n",
              " ('7622-8851', '-1229'),\n",
              " ('5181-2428', '2753'),\n",
              " ('6111-3290', '2821'),\n",
              " ('4655+679', '5334'),\n",
              " ('4921-2171', '2750'),\n",
              " ('7517+6627', '14144'),\n",
              " ('5096-686', '4410'),\n",
              " ('7069+4912', '11981'),\n",
              " ('6467-2711', '3756'),\n",
              " ('4356-5780', '-1424'),\n",
              " ('868+8054', '8922'),\n",
              " ('1644+6719', '8363'),\n",
              " ('2956+430', '3386'),\n",
              " ('8653+3988', '12641'),\n",
              " ('1407+9386', '10793'),\n",
              " ('7479-7341', '138'),\n",
              " ('1491-9007', '-7516'),\n",
              " ('397-4024', '-3627'),\n",
              " ('7236-4534', '2702'),\n",
              " ('1535-9753', '-8218'),\n",
              " ('5890+4429', '10319'),\n",
              " ('4397-9880', '-5483'),\n",
              " ('1978+4965', '6943'),\n",
              " ('9253-8038', '1215'),\n",
              " ('8121+2158', '10279'),\n",
              " ('14-7159', '-7145'),\n",
              " ('1106+8928', '10034'),\n",
              " ('2072+2186', '4258'),\n",
              " ('3114-6743', '-3629'),\n",
              " ('8118-665', '7453'),\n",
              " ('890+2694', '3584'),\n",
              " ('3911-1217', '2694'),\n",
              " ('1579-428', '1151'),\n",
              " ('9297+5130', '14427'),\n",
              " ('3037+3140', '6177'),\n",
              " ('4225-7519', '-3294'),\n",
              " ('7359-4995', '2364'),\n",
              " ('2548-9318', '-6770'),\n",
              " ('5124+1998', '7122'),\n",
              " ('8848+4378', '13226'),\n",
              " ('5528+3843', '9371'),\n",
              " ('994-3804', '-2810'),\n",
              " ('7702-1527', '6175'),\n",
              " ('294+5456', '5750'),\n",
              " ('5543+1244', '6787'),\n",
              " ('8843-9352', '-509'),\n",
              " ('218+5116', '5334'),\n",
              " ('3647-9782', '-6135'),\n",
              " ('2121+1534', '3655'),\n",
              " ('6218+6281', '12499'),\n",
              " ('8501-4441', '4060'),\n",
              " ('2247-7140', '-4893'),\n",
              " ('7318-6342', '976'),\n",
              " ('6985+4464', '11449'),\n",
              " ('9145-6394', '2751'),\n",
              " ('4647-6350', '-1703'),\n",
              " ('9552+2863', '12415'),\n",
              " ('6756+9825', '16581'),\n",
              " ('1906+5119', '7025'),\n",
              " ('6791+5473', '12264'),\n",
              " ('426+6073', '6499'),\n",
              " ('6411+7454', '13865'),\n",
              " ('6115-9687', '-3572'),\n",
              " ('4192+3763', '7955'),\n",
              " ('8971+4592', '13563'),\n",
              " ('1177-5009', '-3832'),\n",
              " ('3698+9443', '13141'),\n",
              " ('5726-253', '5473'),\n",
              " ('1498+1983', '3481'),\n",
              " ('2650-8431', '-5781'),\n",
              " ('4155-8005', '-3850'),\n",
              " ('4153+2362', '6515'),\n",
              " ('578-4916', '-4338'),\n",
              " ('2441-2883', '-442'),\n",
              " ('5031+7017', '12048'),\n",
              " ('2415+1707', '4122'),\n",
              " ('7732+5202', '12934'),\n",
              " ('1677-5311', '-3634'),\n",
              " ('5200-6858', '-1658'),\n",
              " ('6744-6074', '670'),\n",
              " ('1327-8895', '-7568'),\n",
              " ('7296-2774', '4522'),\n",
              " ('8028+551', '8579'),\n",
              " ('3659-7081', '-3422'),\n",
              " ('1572+7213', '8785'),\n",
              " ('9463-5485', '3978'),\n",
              " ('1678+6685', '8363'),\n",
              " ('6142-1609', '4533'),\n",
              " ('296+2990', '3286'),\n",
              " ('7432-9783', '-2351'),\n",
              " ('7117+3629', '10746'),\n",
              " ('5885+518', '6403'),\n",
              " ('3371+3603', '6974'),\n",
              " ('8866-4703', '4163'),\n",
              " ('19-7058', '-7039'),\n",
              " ('5797+4388', '10185'),\n",
              " ('6081-8675', '-2594'),\n",
              " ('370+7933', '8303'),\n",
              " ('2502+4363', '6865'),\n",
              " ('7526-1480', '6046'),\n",
              " ('3504+2470', '5974'),\n",
              " ('2731+4942', '7673'),\n",
              " ('8150+5305', '13455'),\n",
              " ('459-6671', '-6212'),\n",
              " ('3668+5071', '8739'),\n",
              " ('2551+1361', '3912'),\n",
              " ('3994-6451', '-2457'),\n",
              " ('611-5285', '-4674'),\n",
              " ('1574-7337', '-5763'),\n",
              " ('2369+9969', '12338'),\n",
              " ('1964-2634', '-670'),\n",
              " ('7449-8029', '-580'),\n",
              " ('7937-675', '7262'),\n",
              " ('7722-2858', '4864'),\n",
              " ('5593-8129', '-2536'),\n",
              " ('2099+3591', '5690'),\n",
              " ('6943-9511', '-2568'),\n",
              " ...]"
            ]
          },
          "metadata": {
            "tags": []
          },
          "execution_count": 9
        }
      ]
    },
    {
      "cell_type": "markdown",
      "metadata": {
        "id": "-UUGUKX7Yd1V",
        "colab_type": "text"
      },
      "source": [
        "## Prepare data for the neural network\n",
        "\n",
        "The next stage of data preparation is creating mappings of the characters to their indices in some vocabulary. Since in our task we already know which symbols will appear in the inputs and outputs, generating the vocabulary is a simple step.\n",
        "\n",
        "#### How to create dictionaries for other task\n",
        "\n",
        "First of all, you need to understand what is the basic unit of the sequence in your task. In our case, we operate on symbols and the basic unit is a symbol. The number of symbols is small, so we don't need to think about filtering/normalization steps. However, in other tasks, the basic unit is often a word, and in this case the mapping would be *word $\\to$ integer*. The number of words might be huge, so it would be reasonable to filter them, for example, by frequency and leave only the frequent ones. Other strategies that your should consider are: data normalization (lowercasing, tokenization, how to consider punctuation marks), separate vocabulary for input and for output (e.g. for machine translation), some specifics of the task."
      ]
    },
    {
      "cell_type": "code",
      "metadata": {
        "id": "hEcZV88FYd1W",
        "colab_type": "code",
        "colab": {}
      },
      "source": [
        "word2id = {symbol:i for i, symbol in enumerate('#^$+-1234567890')}\n",
        "id2word = {i:symbol for symbol, i in word2id.items()}"
      ],
      "execution_count": 10,
      "outputs": []
    },
    {
      "cell_type": "code",
      "metadata": {
        "id": "Hrw7PXxgfXC1",
        "colab_type": "code",
        "colab": {
          "base_uri": "https://localhost:8080/",
          "height": 272
        },
        "outputId": "5234f3b0-54b0-4490-a172-75db7598eba4"
      },
      "source": [
        "id2word"
      ],
      "execution_count": 11,
      "outputs": [
        {
          "output_type": "execute_result",
          "data": {
            "text/plain": [
              "{0: '#',\n",
              " 1: '^',\n",
              " 2: '$',\n",
              " 3: '+',\n",
              " 4: '-',\n",
              " 5: '1',\n",
              " 6: '2',\n",
              " 7: '3',\n",
              " 8: '4',\n",
              " 9: '5',\n",
              " 10: '6',\n",
              " 11: '7',\n",
              " 12: '8',\n",
              " 13: '9',\n",
              " 14: '0'}"
            ]
          },
          "metadata": {
            "tags": []
          },
          "execution_count": 11
        }
      ]
    },
    {
      "cell_type": "markdown",
      "metadata": {
        "id": "zBGVH93FYd1a",
        "colab_type": "text"
      },
      "source": [
        "#### Special symbols"
      ]
    },
    {
      "cell_type": "code",
      "metadata": {
        "id": "nNlTrq-nYd1b",
        "colab_type": "code",
        "colab": {}
      },
      "source": [
        "start_symbol = '^'\n",
        "end_symbol = '$'\n",
        "padding_symbol = '#'"
      ],
      "execution_count": 12,
      "outputs": []
    },
    {
      "cell_type": "markdown",
      "metadata": {
        "id": "WXVK6v1sYd1i",
        "colab_type": "text"
      },
      "source": [
        "You could notice that we have added 3 special symbols: '^', '\\$' and '#':\n",
        "- '^' symbol will be passed to the network to indicate the beginning of the decoding procedure. We will discuss this one later in more details.\n",
        "- '\\$' symbol will be used to indicate the *end of a string*, both for input and output sequences. \n",
        "- '#' symbol will be used as a *padding* character to make lengths of all strings equal within one training batch.\n",
        "\n",
        "People have a bit different habits when it comes to special symbols in encoder-decoder networks, so don't get too much confused if you come across other variants in tutorials you read. "
      ]
    },
    {
      "cell_type": "markdown",
      "metadata": {
        "id": "I0s2yPPjYd1j",
        "colab_type": "text"
      },
      "source": [
        "#### Padding"
      ]
    },
    {
      "cell_type": "markdown",
      "metadata": {
        "id": "saK8t4XVYd1l",
        "colab_type": "text"
      },
      "source": [
        "When vocabularies are ready, we need to be able to convert a sentence to a list of vocabulary word indices and back. At the same time, let's care about padding. We are going to preprocess each sequence from the input (and output ground truth) in such a way that:\n",
        "- it has a predefined length *padded_len*\n",
        "- it is probably cut off or padded with the *padding symbol* '#'\n",
        "- it *always* ends with the *end symbol* '$'\n",
        "\n",
        "We will treat the original characters of the sequence **and the end symbol** as the valid part of the input. We will store *the actual length* of the sequence, which includes the end symbol, but does not include the padding symbols. "
      ]
    },
    {
      "cell_type": "markdown",
      "metadata": {
        "id": "_xf9gHo8Yd1m",
        "colab_type": "text"
      },
      "source": [
        " Now you need to implement the function *sentence_to_ids* that does the described job. "
      ]
    },
    {
      "cell_type": "code",
      "metadata": {
        "id": "5qkMI2iUYd1n",
        "colab_type": "code",
        "colab": {}
      },
      "source": [
        "def sentence_to_ids(sentence, word2id, padded_len):\n",
        "    \"\"\" Converts a sequence of symbols to a padded sequence of their ids.\n",
        "    \n",
        "      sentence: a string, input/output sequence of symbols.\n",
        "      word2id: a dict, a mapping from original symbols to ids.\n",
        "      padded_len: an integer, a desirable length of the sequence.\n",
        "\n",
        "      result: a tuple of (a list of ids, an actual length of sentence).\n",
        "    \"\"\"\n",
        "    sent_ids=[]\n",
        "    sent_len=0\n",
        "    if len(sentence) < padded_len:\n",
        "      for i in range(len(sentence)):\n",
        "        sent_ids.append(word2id[sentence[i]])\n",
        "      sent_ids.append(2)\n",
        "      sent_len=len(sent_ids)\n",
        "      for _ in range(padded_len - (len(sentence)+1)):\n",
        "        sent_ids.append(0)\n",
        "    else:\n",
        "      for i in range(len(sentence)-1):\n",
        "        sent_ids.append(word2id[sentence[i]])\n",
        "      sent_ids.append(2)      \n",
        "      sent_len=padded_len\n",
        "    \n",
        "    return sent_ids, sent_len"
      ],
      "execution_count": 13,
      "outputs": []
    },
    {
      "cell_type": "markdown",
      "metadata": {
        "id": "ZTgUbdUNYd1x",
        "colab_type": "text"
      },
      "source": [
        "Check that your implementation is correct:"
      ]
    },
    {
      "cell_type": "code",
      "metadata": {
        "id": "5rVszm-aYd1y",
        "colab_type": "code",
        "colab": {}
      },
      "source": [
        "def test_sentence_to_ids():\n",
        "    sentences = [(\"123+123\", 7), (\"123+123\", 8), (\"123+123\", 10)]\n",
        "    expected_output = [([5, 6, 7, 3, 5, 6, 2], 7), \n",
        "                       ([5, 6, 7, 3, 5, 6, 7, 2], 8), \n",
        "                       ([5, 6, 7, 3, 5, 6, 7, 2, 0, 0], 8)] \n",
        "    for (sentence, padded_len), (sentence_ids, expected_length) in zip(sentences, expected_output):\n",
        "        output, length = sentence_to_ids(sentence, word2id, padded_len)\n",
        "        if output != sentence_ids:\n",
        "            return(\"Convertion of '{}' for padded_len={} to {} is incorrect.\".format(\n",
        "                sentence, padded_len, output))\n",
        "        if length != expected_length:\n",
        "            return(\"Convertion of '{}' for padded_len={} has incorrect actual length {}.\".format(\n",
        "                sentence, padded_len, length))\n",
        "    return(\"Tests passed.\")"
      ],
      "execution_count": 14,
      "outputs": []
    },
    {
      "cell_type": "code",
      "metadata": {
        "id": "PttkRrPnYd14",
        "colab_type": "code",
        "colab": {
          "base_uri": "https://localhost:8080/",
          "height": 34
        },
        "outputId": "e9f595cb-de7b-4c49-e0f0-d453f31ca2c2"
      },
      "source": [
        "print(test_sentence_to_ids())"
      ],
      "execution_count": 15,
      "outputs": [
        {
          "output_type": "stream",
          "text": [
            "Tests passed.\n"
          ],
          "name": "stdout"
        }
      ]
    },
    {
      "cell_type": "markdown",
      "metadata": {
        "id": "vRZc98RbYd19",
        "colab_type": "text"
      },
      "source": [
        "We also need to be able to get back from indices to symbols:"
      ]
    },
    {
      "cell_type": "code",
      "metadata": {
        "id": "_zkeGqyqYd1_",
        "colab_type": "code",
        "colab": {}
      },
      "source": [
        "def ids_to_sentence(ids, id2word):\n",
        "    \"\"\" Converts a sequence of ids to a sequence of symbols.\n",
        "    \n",
        "          ids: a list, indices for the padded sequence.\n",
        "          id2word:  a dict, a mapping from ids to original symbols.\n",
        "\n",
        "          result: a list of symbols.\n",
        "    \"\"\"\n",
        " \n",
        "    return [id2word[i] for i in ids] "
      ],
      "execution_count": 16,
      "outputs": []
    },
    {
      "cell_type": "markdown",
      "metadata": {
        "id": "M-qPD14gYd2E",
        "colab_type": "text"
      },
      "source": [
        "#### Generating batches"
      ]
    },
    {
      "cell_type": "markdown",
      "metadata": {
        "id": "mHAvfbUpYd2E",
        "colab_type": "text"
      },
      "source": [
        "The final step of data preparation is a function that transforms a batch of sentences to a list of lists of indices. "
      ]
    },
    {
      "cell_type": "code",
      "metadata": {
        "id": "_0Akgb_tYd2F",
        "colab_type": "code",
        "colab": {}
      },
      "source": [
        "def batch_to_ids(sentences, word2id, max_len):\n",
        "    \"\"\"Prepares batches of indices. \n",
        "    \n",
        "       Sequences are padded to match the longest sequence in the batch,\n",
        "       if it's longer than max_len, then max_len is used instead.\n",
        "\n",
        "        sentences: a list of strings, original sequences.\n",
        "        word2id: a dict, a mapping from original symbols to ids.\n",
        "        max_len: an integer, max len of sequences allowed.\n",
        "\n",
        "        result: a list of lists of ids, a list of actual lengths.\n",
        "    \"\"\"\n",
        "    \n",
        "    max_len_in_batch = min(max(len(s) for s in sentences) + 1, max_len)\n",
        "    batch_ids, batch_ids_len = [], []\n",
        "    for sentence in sentences:\n",
        "        ids, ids_len = sentence_to_ids(sentence, word2id, max_len_in_batch)\n",
        "        batch_ids.append(ids)\n",
        "        batch_ids_len.append(ids_len)\n",
        "    return batch_ids, batch_ids_len"
      ],
      "execution_count": 17,
      "outputs": []
    },
    {
      "cell_type": "markdown",
      "metadata": {
        "id": "3C6TOvKzYd2L",
        "colab_type": "text"
      },
      "source": [
        "The function *generate_batches* will help to generate batches with defined size from given samples."
      ]
    },
    {
      "cell_type": "code",
      "metadata": {
        "id": "99BwAeh3Yd2M",
        "colab_type": "code",
        "colab": {}
      },
      "source": [
        "def generate_batches(samples, batch_size=64):\n",
        "    X, Y = [], []\n",
        "    for i, (x, y) in enumerate(samples, 1):\n",
        "        X.append(x)\n",
        "        Y.append(y)\n",
        "        if i % batch_size == 0:\n",
        "            yield X, Y\n",
        "            X, Y = [], []\n",
        "    if X and Y:\n",
        "        yield X, Y"
      ],
      "execution_count": 18,
      "outputs": []
    },
    {
      "cell_type": "markdown",
      "metadata": {
        "id": "_axK6QkQYd2R",
        "colab_type": "text"
      },
      "source": [
        "To illustrate the result of the implemented functions, run the following cell:"
      ]
    },
    {
      "cell_type": "code",
      "metadata": {
        "id": "YVqS2QTBYd2S",
        "colab_type": "code",
        "colab": {
          "base_uri": "https://localhost:8080/",
          "height": 68
        },
        "outputId": "8716f301-d7b6-4351-a124-db479c247965"
      },
      "source": [
        "sentences = train_set[0]\n",
        "ids, sent_lens = batch_to_ids(sentences, word2id, max_len=10)\n",
        "print('Input:', sentences)\n",
        "print('Ids: {}\\nSentences lengths: {}'.format(ids, sent_lens))"
      ],
      "execution_count": 19,
      "outputs": [
        {
          "output_type": "stream",
          "text": [
            "Input: ('1314-7358', '-6044')\n",
            "Ids: [[5, 7, 5, 8, 4, 11, 7, 9, 12, 2], [4, 10, 14, 8, 8, 2, 0, 0, 0, 0]]\n",
            "Sentences lengths: [10, 6]\n"
          ],
          "name": "stdout"
        }
      ]
    },
    {
      "cell_type": "markdown",
      "metadata": {
        "id": "rktR9PoBYd2X",
        "colab_type": "text"
      },
      "source": [
        "## Encoder-Decoder architecture\n",
        "\n",
        "Encoder-Decoder is a successful architecture for Seq2Seq tasks with different lengths of input and output sequences. The main idea is to use two recurrent neural networks, where the first neural network *encodes* the input sequence into a real-valued vector and then the second neural network *decodes* this vector into the output sequence. While building the neural network, we will specify some particular characteristics of this architecture."
      ]
    },
    {
      "cell_type": "code",
      "metadata": {
        "id": "l9TFvLt_Yd2Y",
        "colab_type": "code",
        "colab": {}
      },
      "source": [
        "import tensorflow as tf"
      ],
      "execution_count": 20,
      "outputs": []
    },
    {
      "cell_type": "markdown",
      "metadata": {
        "id": "GcKqZDdUYd2c",
        "colab_type": "text"
      },
      "source": [
        "Let us use TensorFlow building blocks to specify the network architecture."
      ]
    },
    {
      "cell_type": "code",
      "metadata": {
        "id": "3tguIPjzYd2d",
        "colab_type": "code",
        "colab": {}
      },
      "source": [
        "class Seq2SeqModel(object):\n",
        "    pass"
      ],
      "execution_count": 21,
      "outputs": []
    },
    {
      "cell_type": "markdown",
      "metadata": {
        "id": "y9zmKNF5Yd2i",
        "colab_type": "text"
      },
      "source": [
        "First, we need to create [placeholders](https://www.tensorflow.org/api_guides/python/io_ops#Placeholders) to specify what data we are going to feed into the network during the execution time. For this task we will need:\n",
        " - *input_batch* — sequences of sentences (the shape will equal to [batch_size, max_sequence_len_in_batch]);\n",
        " - *input_batch_lengths* — lengths of not padded sequences (the shape equals to [batch_size]);\n",
        " - *ground_truth* — sequences of groundtruth (the shape will equal to [batch_size, max_sequence_len_in_batch]);\n",
        " - *ground_truth_lengths* — lengths of not padded groundtruth sequences (the shape equals to [batch_size]);\n",
        " - *dropout_ph* — dropout keep probability; this placeholder has a predifined value 1;\n",
        " - *learning_rate_ph* — learning rate."
      ]
    },
    {
      "cell_type": "code",
      "metadata": {
        "id": "6AAhfowyYd2k",
        "colab_type": "code",
        "colab": {}
      },
      "source": [
        "def declare_placeholders(self):\n",
        "    \"\"\"Specifies placeholders for the model.\"\"\"\n",
        "    \n",
        "    # Placeholders for input and its actual lengths.\n",
        "    self.input_batch = tf.placeholder(shape=(None, None), dtype=tf.int32, name='input_batch')\n",
        "    self.input_batch_lengths = tf.placeholder(shape=(None, ), dtype=tf.int32, name='input_batch_lengths')\n",
        "    \n",
        "    # Placeholders for groundtruth and its actual lengths.\n",
        "    self.ground_truth = tf.placeholder(shape=(None, None), dtype=tf.int32, name='ground_truth')\n",
        "    self.ground_truth_lengths = tf.placeholder(shape=(None, ), dtype=tf.int32, name='ground_truth_lengths')\n",
        "        \n",
        "    self.dropout_ph = tf.placeholder_with_default(tf.cast(1.0, tf.float32), shape=[])\n",
        "    self.learning_rate_ph = tf.placeholder_with_default(tf.cast(1.0, tf.float32), shape=[], name='learning_rate') "
      ],
      "execution_count": 22,
      "outputs": []
    },
    {
      "cell_type": "code",
      "metadata": {
        "id": "54eJroTMYd2q",
        "colab_type": "code",
        "colab": {}
      },
      "source": [
        "Seq2SeqModel.__declare_placeholders = classmethod(declare_placeholders)"
      ],
      "execution_count": 23,
      "outputs": []
    },
    {
      "cell_type": "markdown",
      "metadata": {
        "id": "EBo8B80-Yd20",
        "colab_type": "text"
      },
      "source": [
        "Now, let us specify the layers of the neural network. First, we need to prepare an embedding matrix. Since we use the same vocabulary for input and output, we need only one such matrix. For tasks with different vocabularies there would be multiple embedding layers.\n",
        "- Create embeddings matrix with [tf.Variable](https://www.tensorflow.org/api_docs/python/tf/Variable). Specify its name, type (tf.float32), and initialize with random values.\n",
        "- Perform [embeddings lookup](https://www.tensorflow.org/api_docs/python/tf/nn/embedding_lookup) for a given input batch."
      ]
    },
    {
      "cell_type": "code",
      "metadata": {
        "id": "nOrEfx7zYd21",
        "colab_type": "code",
        "colab": {}
      },
      "source": [
        "def create_embeddings(self, vocab_size, embeddings_size):\n",
        "    \"\"\"Specifies embeddings layer and embeds an input batch.\"\"\"\n",
        "     \n",
        "    random_initializer = tf.random_uniform((vocab_size, embeddings_size), -1.0, 1.0)\n",
        "    self.embeddings = tf.Variable(initial_value=random_initializer,name='embedings',dtype=tf.float32) \n",
        "    \n",
        "    # Perform embeddings lookup for self.input_batch. \n",
        "    self.input_batch_embedded = tf.nn.embedding_lookup(self.embeddings,self.input_batch)"
      ],
      "execution_count": 24,
      "outputs": []
    },
    {
      "cell_type": "code",
      "metadata": {
        "id": "KlsjS-W_Yd27",
        "colab_type": "code",
        "colab": {}
      },
      "source": [
        "Seq2SeqModel.__create_embeddings = classmethod(create_embeddings)"
      ],
      "execution_count": 25,
      "outputs": []
    },
    {
      "cell_type": "markdown",
      "metadata": {
        "id": "LZxs5aVUYd2_",
        "colab_type": "text"
      },
      "source": [
        "#### Encoder\n",
        "\n",
        "The first RNN of the current architecture is called an *encoder* and serves for encoding an input sequence to a real-valued vector. Input of this RNN is an embedded input batch. Since sentences in the same batch could have different actual lengths, we also provide input lengths to avoid unnecessary computations. The final encoder state will be passed to the second RNN (decoder), which we will create soon. \n",
        "\n",
        "- TensorFlow provides a number of [RNN cells](https://www.tensorflow.org/api_guides/python/contrib.rnn#Core_RNN_Cells_for_use_with_TensorFlow_s_core_RNN_methods) ready for use. We suggest that you use [GRU cell](https://www.tensorflow.org/api_docs/python/tf/contrib/rnn/GRUCell), but you can also experiment with other types. \n",
        "- Wrap your cells with [DropoutWrapper](https://www.tensorflow.org/api_docs/python/tf/contrib/rnn/DropoutWrapper). Dropout is an important regularization technique for neural networks. Specify input keep probability using the dropout placeholder that we created before.\n",
        "- Combine the defined encoder cells with [Dynamic RNN](https://www.tensorflow.org/api_docs/python/tf/nn/dynamic_rnn). Use the embedded input batches and their lengths here.\n",
        "- Use *dtype=tf.float32* everywhere."
      ]
    },
    {
      "cell_type": "code",
      "metadata": {
        "id": "70fTsD_dYd3A",
        "colab_type": "code",
        "colab": {}
      },
      "source": [
        "def build_encoder(self, hidden_size):\n",
        "    \"\"\"Specifies encoder architecture and computes its output.\"\"\"\n",
        "    \n",
        "    # Create GRUCell with dropout.\n",
        "    encoder_cell = tf.nn.rnn_cell.DropoutWrapper(tf.nn.rnn_cell.GRUCell(num_units=hidden_size),input_keep_prob=self.dropout_ph)\n",
        "    \n",
        "    # Create RNN with the predefined cell.\n",
        "    _, self.final_encoder_state = tf.nn.dynamic_rnn(encoder_cell,self.input_batch_embedded,self.input_batch_lengths,dtype=tf.float32)"
      ],
      "execution_count": 51,
      "outputs": []
    },
    {
      "cell_type": "code",
      "metadata": {
        "id": "l8NcQUK1Yd3E",
        "colab_type": "code",
        "colab": {}
      },
      "source": [
        "Seq2SeqModel.__build_encoder = classmethod(build_encoder)"
      ],
      "execution_count": 52,
      "outputs": []
    },
    {
      "cell_type": "markdown",
      "metadata": {
        "id": "-o85k4THYd3I",
        "colab_type": "text"
      },
      "source": [
        "#### Decoder\n",
        "\n",
        "The second RNN is called a *decoder* and serves for generating the output sequence. In the simple seq2seq arcitecture, the input sequence is provided to the decoder only as the final state of the encoder. Obviously, it is a bottleneck and [Attention techniques](https://www.tensorflow.org/tutorials/seq2seq#background_on_the_attention_mechanism) can help to overcome it. So far, we do not need them to make our calculator work, but this would be a necessary ingredient for more advanced tasks. \n",
        "\n",
        "During training, decoder also uses information about the true output. It is feeded in as input symbol by symbol. However, during the prediction stage (which is called *inference* in this architecture), the decoder can only use its own generated output from the previous step to feed it in at the next step. Because of this difference (*training* vs *inference*), we will create two distinct instances, which will serve for the described scenarios.\n",
        "\n",
        "The picture below illustrates the point. It also shows our work with the special characters, e.g. look how the start symbol `^` is used. The transparent parts are ignored. In decoder, it is masked out in the loss computation. In encoder, the green state is considered as final and passed to the decoder. "
      ]
    },
    {
      "cell_type": "markdown",
      "metadata": {
        "id": "g7n0Hh-4Yd3I",
        "colab_type": "text"
      },
      "source": [
        "<img src=\"https://github.com/srivatsakr21/natural-language-processing/blob/master/week4/encoder-decoder-pic.png?raw=1\" style=\"width: 500px;\">"
      ]
    },
    {
      "cell_type": "markdown",
      "metadata": {
        "id": "1Y49jx_TYd3J",
        "colab_type": "text"
      },
      "source": [
        "Now, it's time to implement the decoder:\n",
        " - First, we should create two [helpers](https://www.tensorflow.org/api_guides/python/contrib.seq2seq#Dynamic_Decoding). These classes help to determine the behaviour of the decoder. During the training time, we will use [TrainingHelper](https://www.tensorflow.org/api_docs/python/tf/contrib/seq2seq/TrainingHelper). For the inference we recommend to use [GreedyEmbeddingHelper](https://www.tensorflow.org/api_docs/python/tf/contrib/seq2seq/GreedyEmbeddingHelper).\n",
        " - To share all parameters during training and inference, we use one scope and set the flag 'reuse' to True at inference time. You might be interested to know more about how [variable scopes](https://www.tensorflow.org/programmers_guide/variables) work in TF. \n",
        " - To create the decoder itself, we will use [BasicDecoder](https://www.tensorflow.org/api_docs/python/tf/contrib/seq2seq/BasicDecoder) class. As previously, you should choose some RNN cell, e.g. GRU cell. To turn hidden states into logits, we will need a projection layer. One of the simple solutions is using [OutputProjectionWrapper](https://www.tensorflow.org/api_docs/python/tf/contrib/rnn/OutputProjectionWrapper).\n",
        " - For getting the predictions, it will be convinient to use [dynamic_decode](https://www.tensorflow.org/api_docs/python/tf/contrib/seq2seq/dynamic_decode). This function uses the provided decoder to perform decoding."
      ]
    },
    {
      "cell_type": "code",
      "metadata": {
        "id": "sUqlmBDBYd3K",
        "colab_type": "code",
        "colab": {}
      },
      "source": [
        "def build_decoder(self, hidden_size, vocab_size, max_iter, start_symbol_id, end_symbol_id):\n",
        "    \"\"\"Specifies decoder architecture and computes the output.\n",
        "    \n",
        "        Uses different helpers:\n",
        "          - for train: feeding ground truth\n",
        "          - for inference: feeding generated output\n",
        "\n",
        "        As a result, self.train_outputs and self.infer_outputs are created. \n",
        "        Each of them contains two fields:\n",
        "          rnn_output (predicted logits)\n",
        "          sample_id (predictions).\n",
        "\n",
        "    \"\"\"\n",
        "    \n",
        "    # Use start symbols as the decoder inputs at the first time step.\n",
        "    batch_size = tf.shape(self.input_batch)[0]\n",
        "    start_tokens = tf.fill([batch_size], start_symbol_id)\n",
        "    ground_truth_as_input = tf.concat([tf.expand_dims(start_tokens, 1), self.ground_truth], 1)\n",
        "    \n",
        "    # Use the embedding layer defined before to lookup embedings for ground_truth_as_input. \n",
        "    self.ground_truth_embedded = tf.nn.embedding_lookup(self.embeddings,ground_truth_as_input)\n",
        "     \n",
        "    # Create TrainingHelper for the train stage.\n",
        "    train_helper = tf.contrib.seq2seq.TrainingHelper(self.ground_truth_embedded, \n",
        "                                                     self.ground_truth_lengths)\n",
        "    \n",
        "    # Create GreedyEmbeddingHelper for the inference stage.\n",
        "    # You should provide the embedding layer, start_tokens and index of the end symbol.\n",
        "    infer_helper = tf.contrib.seq2seq.GreedyEmbeddingHelper(self.ground_truth_embedded,start_tokens,2)\n",
        "    #infer_helper = tf.contrib.seq2seq.InferenceHelper(greedy_embedding_helper,sample_shape=vocab_size,sample_dtype=tf.float32)\n",
        "    \n",
        "  \n",
        "    def decode(helper, scope, reuse=None):\n",
        "        \"\"\"Creates decoder and return the results of the decoding with a given helper.\"\"\"\n",
        "        \n",
        "        with tf.variable_scope(scope, reuse=reuse):\n",
        "            # Create GRUCell with dropout. Do not forget to set the reuse flag properly.\n",
        "            decoder_cell = tf.nn.rnn_cell.DropoutWrapper(tf.nn.rnn_cell.GRUCell(hidden_size,reuse=reuse))\n",
        "            \n",
        "            # Create a projection wrapper.\n",
        "            decoder_cell = tf.contrib.rnn.OutputProjectionWrapper(decoder_cell, vocab_size, reuse=reuse)\n",
        "            \n",
        "            # Create BasicDecoder, pass the defined cell, a helper, and initial state.\n",
        "            # The initial state should be equal to the final state of the encoder!\n",
        "            decoder = tf.contrib.seq2seq.BasicDecoder(decoder_cell,helper,self.final_encoder_state)\n",
        "            \n",
        "            \n",
        "            # The first returning argument of dynamic_decode contains two fields:\n",
        "            #   rnn_output (predicted logits)\n",
        "            #   sample_id (predictions)\n",
        "            outputs, _, _ = tf.contrib.seq2seq.dynamic_decode(decoder=decoder, maximum_iterations=max_iter, \n",
        "                                                              output_time_major=False, impute_finished=True)\n",
        "\n",
        "            return outputs\n",
        "        \n",
        "    self.train_outputs = decode(train_helper, 'decode')\n",
        "    self.infer_outputs = decode(infer_helper, 'decode', reuse=True)"
      ],
      "execution_count": 98,
      "outputs": []
    },
    {
      "cell_type": "code",
      "metadata": {
        "id": "mKhOhF4EYd3R",
        "colab_type": "code",
        "colab": {}
      },
      "source": [
        "Seq2SeqModel.__build_decoder = classmethod(build_decoder)"
      ],
      "execution_count": 99,
      "outputs": []
    },
    {
      "cell_type": "markdown",
      "metadata": {
        "id": "VNTjGH_AYd3X",
        "colab_type": "text"
      },
      "source": [
        "In this task we will use [sequence_loss](https://www.tensorflow.org/api_docs/python/tf/contrib/seq2seq/sequence_loss), which is a weighted cross-entropy loss for a sequence of logits. Take a moment to understand, what is your train logits and targets. Also note, that we do not want to take into account loss terms coming from padding symbols, so we will mask them out using weights.  "
      ]
    },
    {
      "cell_type": "code",
      "metadata": {
        "id": "teawAakiYd3Y",
        "colab_type": "code",
        "colab": {}
      },
      "source": [
        "def compute_loss(self):\n",
        "    \"\"\"Computes sequence loss (masked cross-entopy loss with logits).\"\"\"\n",
        "    \n",
        "    weights = tf.cast(tf.sequence_mask(self.ground_truth_lengths), dtype=tf.float32)\n",
        "     \n",
        "    self.loss = tf.contrib.seq2seq.sequence_loss(self.train_outputs,self.ground_truth,weights=weights)"
      ],
      "execution_count": 53,
      "outputs": []
    },
    {
      "cell_type": "code",
      "metadata": {
        "id": "o7XatTM2Yd3j",
        "colab_type": "code",
        "colab": {}
      },
      "source": [
        "Seq2SeqModel.__compute_loss = classmethod(compute_loss)"
      ],
      "execution_count": 54,
      "outputs": []
    },
    {
      "cell_type": "markdown",
      "metadata": {
        "id": "zi0OU650Yd3n",
        "colab_type": "text"
      },
      "source": [
        "The last thing to specify is the optimization of the defined loss. \n",
        "We suggest that you use [optimize_loss](https://www.tensorflow.org/api_docs/python/tf/contrib/layers/optimize_loss) with Adam optimizer and a learning rate from the corresponding placeholder. You might also need to pass global step (e.g. as tf.train.get_global_step()) and clip gradients by 1.0."
      ]
    },
    {
      "cell_type": "code",
      "metadata": {
        "id": "x1IeQZhRYd3o",
        "colab_type": "code",
        "colab": {}
      },
      "source": [
        "def perform_optimization(self):\n",
        "    \"\"\"Specifies train_op that optimizes self.loss.\"\"\"\n",
        "    optimizer = tf.train.AdamOptimizer(learning_rate=self.learning_rate_ph)\n",
        "    grads_and_vars = optimizer.compute_gradients(self.loss)\n",
        "    clip_norm = tf.cast(1.0, tf.float32)\n",
        "    grads_and_vars =  [(tf.clip_by_norm(grad,clip_norm=clip_norm),var) for grad,var in grads_and_vars]\n",
        "    \n",
        "    self.train_op = optomizer.apply_gradients(grads_and_vars,global_step = tf.train.get_global_step())"
      ],
      "execution_count": 32,
      "outputs": []
    },
    {
      "cell_type": "code",
      "metadata": {
        "id": "418Y6L5AYd3u",
        "colab_type": "code",
        "colab": {}
      },
      "source": [
        "Seq2SeqModel.__perform_optimization = classmethod(perform_optimization)"
      ],
      "execution_count": 33,
      "outputs": []
    },
    {
      "cell_type": "markdown",
      "metadata": {
        "id": "niJRS85SYd3z",
        "colab_type": "text"
      },
      "source": [
        "Congratulations! You have specified all the parts of your network. You may have noticed, that we didn't deal with any real data yet, so what you have written is just recipies on how the network should function.\n",
        "Now we will put them to the constructor of our Seq2SeqModel class to use it in the next section. "
      ]
    },
    {
      "cell_type": "code",
      "metadata": {
        "id": "5SzwtEEfYd30",
        "colab_type": "code",
        "colab": {}
      },
      "source": [
        "def init_model(self, vocab_size, embeddings_size, hidden_size, \n",
        "               max_iter, start_symbol_id, end_symbol_id, padding_symbol_id):\n",
        "    \n",
        "    self.__declare_placeholders()\n",
        "    self.__create_embeddings(vocab_size, embeddings_size)\n",
        "    self.__build_encoder(hidden_size)\n",
        "    self.__build_decoder(hidden_size, vocab_size, max_iter, start_symbol_id, end_symbol_id)\n",
        "    \n",
        "    # Compute loss and back-propagate.\n",
        "    self.__compute_loss()\n",
        "    self.__perform_optimization()\n",
        "    \n",
        "    # Get predictions for evaluation.\n",
        "    self.train_predictions = self.train_outputs.sample_id\n",
        "    self.infer_predictions = self.infer_outputs.sample_id"
      ],
      "execution_count": 100,
      "outputs": []
    },
    {
      "cell_type": "code",
      "metadata": {
        "id": "a3b7wDzzYd34",
        "colab_type": "code",
        "colab": {}
      },
      "source": [
        "Seq2SeqModel.__init__ = classmethod(init_model)"
      ],
      "execution_count": 101,
      "outputs": []
    },
    {
      "cell_type": "markdown",
      "metadata": {
        "id": "YFZeafZxYd37",
        "colab_type": "text"
      },
      "source": [
        "## Train the network and predict output\n",
        "\n",
        "[Session.run](https://www.tensorflow.org/api_docs/python/tf/Session#run) is a point which initiates computations in the graph that we have defined. To train the network, we need to compute *self.train_op*. To predict output, we just need to compute *self.infer_predictions*. In any case, we need to feed actual data through the placeholders that we defined above. "
      ]
    },
    {
      "cell_type": "code",
      "metadata": {
        "id": "9QGq4aZkYd38",
        "colab_type": "code",
        "colab": {}
      },
      "source": [
        "def train_on_batch(self, session, X, X_seq_len, Y, Y_seq_len, learning_rate, dropout_keep_probability):\n",
        "    feed_dict = {\n",
        "            self.input_batch: X,\n",
        "            self.input_batch_lengths: X_seq_len,\n",
        "            self.ground_truth: Y,\n",
        "            self.ground_truth_lengths: Y_seq_len,\n",
        "            self.learning_rate_ph: learning_rate,\n",
        "            self.dropout_ph: dropout_keep_probability\n",
        "        }\n",
        "    pred, loss, _ = session.run([\n",
        "            self.train_predictions,\n",
        "            self.loss,\n",
        "            self.train_op], feed_dict=feed_dict)\n",
        "    return pred, loss"
      ],
      "execution_count": 46,
      "outputs": []
    },
    {
      "cell_type": "code",
      "metadata": {
        "id": "ODFWEF1GYd4B",
        "colab_type": "code",
        "colab": {}
      },
      "source": [
        "Seq2SeqModel.train_on_batch = classmethod(train_on_batch)"
      ],
      "execution_count": 47,
      "outputs": []
    },
    {
      "cell_type": "markdown",
      "metadata": {
        "id": "c1-urW70Yd4J",
        "colab_type": "text"
      },
      "source": [
        "We implemented two prediction functions: *predict_for_batch* and *predict_for_batch_with_loss*. The first one allows only to predict output for some input sequence, while the second one could compute loss because we provide also ground truth values. Both these functions might be useful since the first one could be used for predicting only, and the second one is helpful for validating results on not-training data during the training."
      ]
    },
    {
      "cell_type": "code",
      "metadata": {
        "id": "yG5j4x2xYd4K",
        "colab_type": "code",
        "colab": {}
      },
      "source": [
        "def predict_for_batch(self, session, X, X_seq_len):\n",
        "    feed_dict = {\n",
        "        self.input_batch: X,\n",
        "        self.input_batch_lengths: X_seq_len,\n",
        "    }\n",
        "    pred = session.run([\n",
        "            self.infer_predictions\n",
        "        ], feed_dict=feed_dict)[0]\n",
        "    return pred\n",
        "\n",
        "def predict_for_batch_with_loss(self, session, X, X_seq_len, Y, Y_seq_len):\n",
        "    feed_dict = {\n",
        "            self.input_batch: X,\n",
        "            self.input_batch_lengths: X_seq_len,\n",
        "            self.ground_truth: Y,\n",
        "            self.ground_truth_lengths: Y_seq_len,\n",
        "        \n",
        "    }\n",
        "    pred, loss = session.run([\n",
        "            self.infer_predictions,\n",
        "            self.loss,\n",
        "        ], feed_dict=feed_dict)\n",
        "    return pred, loss"
      ],
      "execution_count": 48,
      "outputs": []
    },
    {
      "cell_type": "code",
      "metadata": {
        "id": "YB6d_e4CYd4S",
        "colab_type": "code",
        "colab": {}
      },
      "source": [
        "Seq2SeqModel.predict_for_batch = classmethod(predict_for_batch)\n",
        "Seq2SeqModel.predict_for_batch_with_loss = classmethod(predict_for_batch_with_loss)"
      ],
      "execution_count": 49,
      "outputs": []
    },
    {
      "cell_type": "markdown",
      "metadata": {
        "id": "snP0nhkAYd4Z",
        "colab_type": "text"
      },
      "source": [
        "## Run your experiment\n",
        "\n",
        "Create *Seq2SeqModel* model with the following parameters:\n",
        " - *vocab_size* — number of tokens;\n",
        " - *embeddings_size* — dimension of embeddings, recommended value: 20;\n",
        " - *max_iter* — maximum number of steps in decoder, recommended value: 7;\n",
        " - *hidden_size* — size of hidden layers for RNN, recommended value: 512;\n",
        " - *start_symbol_id* — an index of the start token (`^`).\n",
        " - *end_symbol_id* — an index of the end token (`$`).\n",
        " - *padding_symbol_id* — an index of the padding token (`#`).\n",
        "\n",
        "Set hyperparameters. You might want to start with the following values and see how it works:\n",
        "- *batch_size*: 128;\n",
        "- at least 10 epochs;\n",
        "- value of *learning_rate*: 0.001\n",
        "- *dropout_keep_probability* equals to 0.5 for training (typical values for dropout probability are ranging from 0.1 to 1.0); larger values correspond smaler number of dropout units;\n",
        "- *max_len*: 20."
      ]
    },
    {
      "cell_type": "code",
      "metadata": {
        "id": "DV1BXNtkYd4a",
        "colab_type": "code",
        "colab": {
          "base_uri": "https://localhost:8080/",
          "height": 1000
        },
        "outputId": "26d1cad5-4e69-4a10-fe81-85c842d6b60a"
      },
      "source": [
        "tf.reset_default_graph()\n",
        "\n",
        "vocab_size=15\n",
        "embeddings_size=20\n",
        "max_iter=7\n",
        "hidden_size=512\n",
        "start_symbol_id=1\n",
        "end_symbol_id=2\n",
        "padding_symbol_id=0\n",
        "\n",
        "model = Seq2SeqModel(vocab_size,embeddings_size,max_iter,hidden_size,start_symbol_id,end_symbol_id,padding_symbol_id)\n",
        "\n",
        "batch_size = 128\n",
        "n_epochs = 10\n",
        "learning_rate = 0.001\n",
        "dropout_keep_probability = 0.5\n",
        "max_len = 20\n",
        "\n",
        "n_step = int(len(train_set) / batch_size)"
      ],
      "execution_count": 102,
      "outputs": [
        {
          "output_type": "error",
          "ename": "ValueError",
          "evalue": "ignored",
          "traceback": [
            "\u001b[0;31m---------------------------------------------------------------------------\u001b[0m",
            "\u001b[0;31mValueError\u001b[0m                                Traceback (most recent call last)",
            "\u001b[0;32m<ipython-input-102-7340107d1fa3>\u001b[0m in \u001b[0;36m<module>\u001b[0;34m()\u001b[0m\n\u001b[1;32m      9\u001b[0m \u001b[0mpadding_symbol_id\u001b[0m\u001b[0;34m=\u001b[0m\u001b[0;36m0\u001b[0m\u001b[0;34m\u001b[0m\u001b[0;34m\u001b[0m\u001b[0m\n\u001b[1;32m     10\u001b[0m \u001b[0;34m\u001b[0m\u001b[0m\n\u001b[0;32m---> 11\u001b[0;31m \u001b[0mmodel\u001b[0m \u001b[0;34m=\u001b[0m \u001b[0mSeq2SeqModel\u001b[0m\u001b[0;34m(\u001b[0m\u001b[0mvocab_size\u001b[0m\u001b[0;34m,\u001b[0m\u001b[0membeddings_size\u001b[0m\u001b[0;34m,\u001b[0m\u001b[0mmax_iter\u001b[0m\u001b[0;34m,\u001b[0m\u001b[0mhidden_size\u001b[0m\u001b[0;34m,\u001b[0m\u001b[0mstart_symbol_id\u001b[0m\u001b[0;34m,\u001b[0m\u001b[0mend_symbol_id\u001b[0m\u001b[0;34m,\u001b[0m\u001b[0mpadding_symbol_id\u001b[0m\u001b[0;34m)\u001b[0m\u001b[0;34m\u001b[0m\u001b[0;34m\u001b[0m\u001b[0m\n\u001b[0m\u001b[1;32m     12\u001b[0m \u001b[0;34m\u001b[0m\u001b[0m\n\u001b[1;32m     13\u001b[0m \u001b[0mbatch_size\u001b[0m \u001b[0;34m=\u001b[0m \u001b[0;36m128\u001b[0m\u001b[0;34m\u001b[0m\u001b[0;34m\u001b[0m\u001b[0m\n",
            "\u001b[0;32m<ipython-input-100-27fce000a489>\u001b[0m in \u001b[0;36minit_model\u001b[0;34m(self, vocab_size, embeddings_size, hidden_size, max_iter, start_symbol_id, end_symbol_id, padding_symbol_id)\u001b[0m\n\u001b[1;32m      5\u001b[0m     \u001b[0mself\u001b[0m\u001b[0;34m.\u001b[0m\u001b[0m__create_embeddings\u001b[0m\u001b[0;34m(\u001b[0m\u001b[0mvocab_size\u001b[0m\u001b[0;34m,\u001b[0m \u001b[0membeddings_size\u001b[0m\u001b[0;34m)\u001b[0m\u001b[0;34m\u001b[0m\u001b[0;34m\u001b[0m\u001b[0m\n\u001b[1;32m      6\u001b[0m     \u001b[0mself\u001b[0m\u001b[0;34m.\u001b[0m\u001b[0m__build_encoder\u001b[0m\u001b[0;34m(\u001b[0m\u001b[0mhidden_size\u001b[0m\u001b[0;34m)\u001b[0m\u001b[0;34m\u001b[0m\u001b[0;34m\u001b[0m\u001b[0m\n\u001b[0;32m----> 7\u001b[0;31m     \u001b[0mself\u001b[0m\u001b[0;34m.\u001b[0m\u001b[0m__build_decoder\u001b[0m\u001b[0;34m(\u001b[0m\u001b[0mhidden_size\u001b[0m\u001b[0;34m,\u001b[0m \u001b[0mvocab_size\u001b[0m\u001b[0;34m,\u001b[0m \u001b[0mmax_iter\u001b[0m\u001b[0;34m,\u001b[0m \u001b[0mstart_symbol_id\u001b[0m\u001b[0;34m,\u001b[0m \u001b[0mend_symbol_id\u001b[0m\u001b[0;34m)\u001b[0m\u001b[0;34m\u001b[0m\u001b[0;34m\u001b[0m\u001b[0m\n\u001b[0m\u001b[1;32m      8\u001b[0m \u001b[0;34m\u001b[0m\u001b[0m\n\u001b[1;32m      9\u001b[0m     \u001b[0;31m# Compute loss and back-propagate.\u001b[0m\u001b[0;34m\u001b[0m\u001b[0;34m\u001b[0m\u001b[0;34m\u001b[0m\u001b[0m\n",
            "\u001b[0;32m<ipython-input-98-d62b8b17e92b>\u001b[0m in \u001b[0;36mbuild_decoder\u001b[0;34m(self, hidden_size, vocab_size, max_iter, start_symbol_id, end_symbol_id)\u001b[0m\n\u001b[1;32m     55\u001b[0m \u001b[0;34m\u001b[0m\u001b[0m\n\u001b[1;32m     56\u001b[0m     \u001b[0mself\u001b[0m\u001b[0;34m.\u001b[0m\u001b[0mtrain_outputs\u001b[0m \u001b[0;34m=\u001b[0m \u001b[0mdecode\u001b[0m\u001b[0;34m(\u001b[0m\u001b[0mtrain_helper\u001b[0m\u001b[0;34m,\u001b[0m \u001b[0;34m'decode'\u001b[0m\u001b[0;34m)\u001b[0m\u001b[0;34m\u001b[0m\u001b[0;34m\u001b[0m\u001b[0m\n\u001b[0;32m---> 57\u001b[0;31m     \u001b[0mself\u001b[0m\u001b[0;34m.\u001b[0m\u001b[0minfer_outputs\u001b[0m \u001b[0;34m=\u001b[0m \u001b[0mdecode\u001b[0m\u001b[0;34m(\u001b[0m\u001b[0minfer_helper\u001b[0m\u001b[0;34m,\u001b[0m \u001b[0;34m'decode'\u001b[0m\u001b[0;34m,\u001b[0m \u001b[0mreuse\u001b[0m\u001b[0;34m=\u001b[0m\u001b[0;32mTrue\u001b[0m\u001b[0;34m)\u001b[0m\u001b[0;34m\u001b[0m\u001b[0;34m\u001b[0m\u001b[0m\n\u001b[0m",
            "\u001b[0;32m<ipython-input-98-d62b8b17e92b>\u001b[0m in \u001b[0;36mdecode\u001b[0;34m(helper, scope, reuse)\u001b[0m\n\u001b[1;32m     50\u001b[0m             \u001b[0;31m#   sample_id (predictions)\u001b[0m\u001b[0;34m\u001b[0m\u001b[0;34m\u001b[0m\u001b[0;34m\u001b[0m\u001b[0m\n\u001b[1;32m     51\u001b[0m             outputs, _, _ = tf.contrib.seq2seq.dynamic_decode(decoder=decoder, maximum_iterations=max_iter, \n\u001b[0;32m---> 52\u001b[0;31m                                                               output_time_major=False, impute_finished=True)\n\u001b[0m\u001b[1;32m     53\u001b[0m \u001b[0;34m\u001b[0m\u001b[0m\n\u001b[1;32m     54\u001b[0m             \u001b[0;32mreturn\u001b[0m \u001b[0moutputs\u001b[0m\u001b[0;34m\u001b[0m\u001b[0;34m\u001b[0m\u001b[0m\n",
            "\u001b[0;32m/usr/local/lib/python3.6/dist-packages/tensorflow_core/contrib/seq2seq/python/ops/decoder.py\u001b[0m in \u001b[0;36mdynamic_decode\u001b[0;34m(decoder, output_time_major, impute_finished, maximum_iterations, parallel_iterations, swap_memory, scope, **kwargs)\u001b[0m\n\u001b[1;32m    467\u001b[0m         \u001b[0mparallel_iterations\u001b[0m\u001b[0;34m=\u001b[0m\u001b[0mparallel_iterations\u001b[0m\u001b[0;34m,\u001b[0m\u001b[0;34m\u001b[0m\u001b[0;34m\u001b[0m\u001b[0m\n\u001b[1;32m    468\u001b[0m         \u001b[0mmaximum_iterations\u001b[0m\u001b[0;34m=\u001b[0m\u001b[0mmaximum_iterations\u001b[0m\u001b[0;34m,\u001b[0m\u001b[0;34m\u001b[0m\u001b[0;34m\u001b[0m\u001b[0m\n\u001b[0;32m--> 469\u001b[0;31m         swap_memory=swap_memory)\n\u001b[0m\u001b[1;32m    470\u001b[0m \u001b[0;34m\u001b[0m\u001b[0m\n\u001b[1;32m    471\u001b[0m     \u001b[0mfinal_outputs_ta\u001b[0m \u001b[0;34m=\u001b[0m \u001b[0mres\u001b[0m\u001b[0;34m[\u001b[0m\u001b[0;36m1\u001b[0m\u001b[0;34m]\u001b[0m\u001b[0;34m\u001b[0m\u001b[0;34m\u001b[0m\u001b[0m\n",
            "\u001b[0;32m/usr/local/lib/python3.6/dist-packages/tensorflow_core/python/ops/control_flow_ops.py\u001b[0m in \u001b[0;36mwhile_loop\u001b[0;34m(cond, body, loop_vars, shape_invariants, parallel_iterations, back_prop, swap_memory, name, maximum_iterations, return_same_structure)\u001b[0m\n\u001b[1;32m   2751\u001b[0m       \u001b[0mops\u001b[0m\u001b[0;34m.\u001b[0m\u001b[0madd_to_collection\u001b[0m\u001b[0;34m(\u001b[0m\u001b[0mops\u001b[0m\u001b[0;34m.\u001b[0m\u001b[0mGraphKeys\u001b[0m\u001b[0;34m.\u001b[0m\u001b[0mWHILE_CONTEXT\u001b[0m\u001b[0;34m,\u001b[0m \u001b[0mloop_context\u001b[0m\u001b[0;34m)\u001b[0m\u001b[0;34m\u001b[0m\u001b[0;34m\u001b[0m\u001b[0m\n\u001b[1;32m   2752\u001b[0m     result = loop_context.BuildLoop(cond, body, loop_vars, shape_invariants,\n\u001b[0;32m-> 2753\u001b[0;31m                                     return_same_structure)\n\u001b[0m\u001b[1;32m   2754\u001b[0m     \u001b[0;32mif\u001b[0m \u001b[0mmaximum_iterations\u001b[0m \u001b[0;32mis\u001b[0m \u001b[0;32mnot\u001b[0m \u001b[0;32mNone\u001b[0m\u001b[0;34m:\u001b[0m\u001b[0;34m\u001b[0m\u001b[0;34m\u001b[0m\u001b[0m\n\u001b[1;32m   2755\u001b[0m       \u001b[0;32mreturn\u001b[0m \u001b[0mresult\u001b[0m\u001b[0;34m[\u001b[0m\u001b[0;36m1\u001b[0m\u001b[0;34m]\u001b[0m\u001b[0;34m\u001b[0m\u001b[0;34m\u001b[0m\u001b[0m\n",
            "\u001b[0;32m/usr/local/lib/python3.6/dist-packages/tensorflow_core/python/ops/control_flow_ops.py\u001b[0m in \u001b[0;36mBuildLoop\u001b[0;34m(self, pred, body, loop_vars, shape_invariants, return_same_structure)\u001b[0m\n\u001b[1;32m   2243\u001b[0m       \u001b[0;32mwith\u001b[0m \u001b[0mops\u001b[0m\u001b[0;34m.\u001b[0m\u001b[0mget_default_graph\u001b[0m\u001b[0;34m(\u001b[0m\u001b[0;34m)\u001b[0m\u001b[0;34m.\u001b[0m\u001b[0m_mutation_lock\u001b[0m\u001b[0;34m(\u001b[0m\u001b[0;34m)\u001b[0m\u001b[0;34m:\u001b[0m  \u001b[0;31m# pylint: disable=protected-access\u001b[0m\u001b[0;34m\u001b[0m\u001b[0;34m\u001b[0m\u001b[0m\n\u001b[1;32m   2244\u001b[0m         original_body_result, exit_vars = self._BuildLoop(\n\u001b[0;32m-> 2245\u001b[0;31m             pred, body, original_loop_vars, loop_vars, shape_invariants)\n\u001b[0m\u001b[1;32m   2246\u001b[0m     \u001b[0;32mfinally\u001b[0m\u001b[0;34m:\u001b[0m\u001b[0;34m\u001b[0m\u001b[0;34m\u001b[0m\u001b[0m\n\u001b[1;32m   2247\u001b[0m       \u001b[0mself\u001b[0m\u001b[0;34m.\u001b[0m\u001b[0mExit\u001b[0m\u001b[0;34m(\u001b[0m\u001b[0;34m)\u001b[0m\u001b[0;34m\u001b[0m\u001b[0;34m\u001b[0m\u001b[0m\n",
            "\u001b[0;32m/usr/local/lib/python3.6/dist-packages/tensorflow_core/python/ops/control_flow_ops.py\u001b[0m in \u001b[0;36m_BuildLoop\u001b[0;34m(self, pred, body, original_loop_vars, loop_vars, shape_invariants)\u001b[0m\n\u001b[1;32m   2168\u001b[0m         expand_composites=True)\n\u001b[1;32m   2169\u001b[0m     \u001b[0mpre_summaries\u001b[0m \u001b[0;34m=\u001b[0m \u001b[0mops\u001b[0m\u001b[0;34m.\u001b[0m\u001b[0mget_collection\u001b[0m\u001b[0;34m(\u001b[0m\u001b[0mops\u001b[0m\u001b[0;34m.\u001b[0m\u001b[0mGraphKeys\u001b[0m\u001b[0;34m.\u001b[0m\u001b[0m_SUMMARY_COLLECTION\u001b[0m\u001b[0;34m)\u001b[0m  \u001b[0;31m# pylint: disable=protected-access\u001b[0m\u001b[0;34m\u001b[0m\u001b[0;34m\u001b[0m\u001b[0m\n\u001b[0;32m-> 2170\u001b[0;31m     \u001b[0mbody_result\u001b[0m \u001b[0;34m=\u001b[0m \u001b[0mbody\u001b[0m\u001b[0;34m(\u001b[0m\u001b[0;34m*\u001b[0m\u001b[0mpacked_vars_for_body\u001b[0m\u001b[0;34m)\u001b[0m\u001b[0;34m\u001b[0m\u001b[0;34m\u001b[0m\u001b[0m\n\u001b[0m\u001b[1;32m   2171\u001b[0m     \u001b[0mpost_summaries\u001b[0m \u001b[0;34m=\u001b[0m \u001b[0mops\u001b[0m\u001b[0;34m.\u001b[0m\u001b[0mget_collection\u001b[0m\u001b[0;34m(\u001b[0m\u001b[0mops\u001b[0m\u001b[0;34m.\u001b[0m\u001b[0mGraphKeys\u001b[0m\u001b[0;34m.\u001b[0m\u001b[0m_SUMMARY_COLLECTION\u001b[0m\u001b[0;34m)\u001b[0m  \u001b[0;31m# pylint: disable=protected-access\u001b[0m\u001b[0;34m\u001b[0m\u001b[0;34m\u001b[0m\u001b[0m\n\u001b[1;32m   2172\u001b[0m     \u001b[0;32mif\u001b[0m \u001b[0;32mnot\u001b[0m \u001b[0mnest\u001b[0m\u001b[0;34m.\u001b[0m\u001b[0mis_sequence_or_composite\u001b[0m\u001b[0;34m(\u001b[0m\u001b[0mbody_result\u001b[0m\u001b[0;34m)\u001b[0m\u001b[0;34m:\u001b[0m\u001b[0;34m\u001b[0m\u001b[0;34m\u001b[0m\u001b[0m\n",
            "\u001b[0;32m/usr/local/lib/python3.6/dist-packages/tensorflow_core/python/ops/control_flow_ops.py\u001b[0m in \u001b[0;36m<lambda>\u001b[0;34m(i, lv)\u001b[0m\n\u001b[1;32m   2703\u001b[0m         cond = lambda i, lv: (  # pylint: disable=g-long-lambda\n\u001b[1;32m   2704\u001b[0m             math_ops.logical_and(i < maximum_iterations, orig_cond(*lv)))\n\u001b[0;32m-> 2705\u001b[0;31m         \u001b[0mbody\u001b[0m \u001b[0;34m=\u001b[0m \u001b[0;32mlambda\u001b[0m \u001b[0mi\u001b[0m\u001b[0;34m,\u001b[0m \u001b[0mlv\u001b[0m\u001b[0;34m:\u001b[0m \u001b[0;34m(\u001b[0m\u001b[0mi\u001b[0m \u001b[0;34m+\u001b[0m \u001b[0;36m1\u001b[0m\u001b[0;34m,\u001b[0m \u001b[0morig_body\u001b[0m\u001b[0;34m(\u001b[0m\u001b[0;34m*\u001b[0m\u001b[0mlv\u001b[0m\u001b[0;34m)\u001b[0m\u001b[0;34m)\u001b[0m\u001b[0;34m\u001b[0m\u001b[0;34m\u001b[0m\u001b[0m\n\u001b[0m\u001b[1;32m   2706\u001b[0m       \u001b[0mtry_to_pack\u001b[0m \u001b[0;34m=\u001b[0m \u001b[0;32mFalse\u001b[0m\u001b[0;34m\u001b[0m\u001b[0;34m\u001b[0m\u001b[0m\n\u001b[1;32m   2707\u001b[0m \u001b[0;34m\u001b[0m\u001b[0m\n",
            "\u001b[0;32m/usr/local/lib/python3.6/dist-packages/tensorflow_core/contrib/seq2seq/python/ops/decoder.py\u001b[0m in \u001b[0;36mbody\u001b[0;34m(time, outputs_ta, state, inputs, finished, sequence_lengths)\u001b[0m\n\u001b[1;32m    410\u001b[0m       \"\"\"\n\u001b[1;32m    411\u001b[0m       (next_outputs, decoder_state, next_inputs,\n\u001b[0;32m--> 412\u001b[0;31m        decoder_finished) = decoder.step(time, inputs, state)\n\u001b[0m\u001b[1;32m    413\u001b[0m       \u001b[0;32mif\u001b[0m \u001b[0mdecoder\u001b[0m\u001b[0;34m.\u001b[0m\u001b[0mtracks_own_finished\u001b[0m\u001b[0;34m:\u001b[0m\u001b[0;34m\u001b[0m\u001b[0;34m\u001b[0m\u001b[0m\n\u001b[1;32m    414\u001b[0m         \u001b[0mnext_finished\u001b[0m \u001b[0;34m=\u001b[0m \u001b[0mdecoder_finished\u001b[0m\u001b[0;34m\u001b[0m\u001b[0;34m\u001b[0m\u001b[0m\n",
            "\u001b[0;32m/usr/local/lib/python3.6/dist-packages/tensorflow_core/contrib/seq2seq/python/ops/basic_decoder.py\u001b[0m in \u001b[0;36mstep\u001b[0;34m(self, time, inputs, state, name)\u001b[0m\n\u001b[1;32m    134\u001b[0m     \"\"\"\n\u001b[1;32m    135\u001b[0m     \u001b[0;32mwith\u001b[0m \u001b[0mops\u001b[0m\u001b[0;34m.\u001b[0m\u001b[0mname_scope\u001b[0m\u001b[0;34m(\u001b[0m\u001b[0mname\u001b[0m\u001b[0;34m,\u001b[0m \u001b[0;34m\"BasicDecoderStep\"\u001b[0m\u001b[0;34m,\u001b[0m \u001b[0;34m(\u001b[0m\u001b[0mtime\u001b[0m\u001b[0;34m,\u001b[0m \u001b[0minputs\u001b[0m\u001b[0;34m,\u001b[0m \u001b[0mstate\u001b[0m\u001b[0;34m)\u001b[0m\u001b[0;34m)\u001b[0m\u001b[0;34m:\u001b[0m\u001b[0;34m\u001b[0m\u001b[0;34m\u001b[0m\u001b[0m\n\u001b[0;32m--> 136\u001b[0;31m       \u001b[0mcell_outputs\u001b[0m\u001b[0;34m,\u001b[0m \u001b[0mcell_state\u001b[0m \u001b[0;34m=\u001b[0m \u001b[0mself\u001b[0m\u001b[0;34m.\u001b[0m\u001b[0m_cell\u001b[0m\u001b[0;34m(\u001b[0m\u001b[0minputs\u001b[0m\u001b[0;34m,\u001b[0m \u001b[0mstate\u001b[0m\u001b[0;34m)\u001b[0m\u001b[0;34m\u001b[0m\u001b[0;34m\u001b[0m\u001b[0m\n\u001b[0m\u001b[1;32m    137\u001b[0m       \u001b[0;32mif\u001b[0m \u001b[0mself\u001b[0m\u001b[0;34m.\u001b[0m\u001b[0m_output_layer\u001b[0m \u001b[0;32mis\u001b[0m \u001b[0;32mnot\u001b[0m \u001b[0;32mNone\u001b[0m\u001b[0;34m:\u001b[0m\u001b[0;34m\u001b[0m\u001b[0;34m\u001b[0m\u001b[0m\n\u001b[1;32m    138\u001b[0m         \u001b[0mcell_outputs\u001b[0m \u001b[0;34m=\u001b[0m \u001b[0mself\u001b[0m\u001b[0;34m.\u001b[0m\u001b[0m_output_layer\u001b[0m\u001b[0;34m(\u001b[0m\u001b[0mcell_outputs\u001b[0m\u001b[0;34m)\u001b[0m\u001b[0;34m\u001b[0m\u001b[0;34m\u001b[0m\u001b[0m\n",
            "\u001b[0;32m/usr/local/lib/python3.6/dist-packages/tensorflow_core/python/ops/rnn_cell_impl.py\u001b[0m in \u001b[0;36m__call__\u001b[0;34m(self, inputs, state, scope)\u001b[0m\n\u001b[1;32m    242\u001b[0m         \u001b[0msetattr\u001b[0m\u001b[0;34m(\u001b[0m\u001b[0mself\u001b[0m\u001b[0;34m,\u001b[0m \u001b[0mscope_attrname\u001b[0m\u001b[0;34m,\u001b[0m \u001b[0mscope\u001b[0m\u001b[0;34m)\u001b[0m\u001b[0;34m\u001b[0m\u001b[0;34m\u001b[0m\u001b[0m\n\u001b[1;32m    243\u001b[0m       \u001b[0;32mwith\u001b[0m \u001b[0mscope\u001b[0m\u001b[0;34m:\u001b[0m\u001b[0;34m\u001b[0m\u001b[0;34m\u001b[0m\u001b[0m\n\u001b[0;32m--> 244\u001b[0;31m         \u001b[0;32mreturn\u001b[0m \u001b[0msuper\u001b[0m\u001b[0;34m(\u001b[0m\u001b[0mRNNCell\u001b[0m\u001b[0;34m,\u001b[0m \u001b[0mself\u001b[0m\u001b[0;34m)\u001b[0m\u001b[0;34m.\u001b[0m\u001b[0m__call__\u001b[0m\u001b[0;34m(\u001b[0m\u001b[0minputs\u001b[0m\u001b[0;34m,\u001b[0m \u001b[0mstate\u001b[0m\u001b[0;34m)\u001b[0m\u001b[0;34m\u001b[0m\u001b[0;34m\u001b[0m\u001b[0m\n\u001b[0m\u001b[1;32m    245\u001b[0m \u001b[0;34m\u001b[0m\u001b[0m\n\u001b[1;32m    246\u001b[0m   \u001b[0;32mdef\u001b[0m \u001b[0m_rnn_get_variable\u001b[0m\u001b[0;34m(\u001b[0m\u001b[0mself\u001b[0m\u001b[0;34m,\u001b[0m \u001b[0mgetter\u001b[0m\u001b[0;34m,\u001b[0m \u001b[0;34m*\u001b[0m\u001b[0margs\u001b[0m\u001b[0;34m,\u001b[0m \u001b[0;34m**\u001b[0m\u001b[0mkwargs\u001b[0m\u001b[0;34m)\u001b[0m\u001b[0;34m:\u001b[0m\u001b[0;34m\u001b[0m\u001b[0;34m\u001b[0m\u001b[0m\n",
            "\u001b[0;32m/usr/local/lib/python3.6/dist-packages/tensorflow_core/python/layers/base.py\u001b[0m in \u001b[0;36m__call__\u001b[0;34m(self, inputs, *args, **kwargs)\u001b[0m\n\u001b[1;32m    546\u001b[0m \u001b[0;34m\u001b[0m\u001b[0m\n\u001b[1;32m    547\u001b[0m       \u001b[0;31m# Actually call layer\u001b[0m\u001b[0;34m\u001b[0m\u001b[0;34m\u001b[0m\u001b[0;34m\u001b[0m\u001b[0m\n\u001b[0;32m--> 548\u001b[0;31m       \u001b[0moutputs\u001b[0m \u001b[0;34m=\u001b[0m \u001b[0msuper\u001b[0m\u001b[0;34m(\u001b[0m\u001b[0mLayer\u001b[0m\u001b[0;34m,\u001b[0m \u001b[0mself\u001b[0m\u001b[0;34m)\u001b[0m\u001b[0;34m.\u001b[0m\u001b[0m__call__\u001b[0m\u001b[0;34m(\u001b[0m\u001b[0minputs\u001b[0m\u001b[0;34m,\u001b[0m \u001b[0;34m*\u001b[0m\u001b[0margs\u001b[0m\u001b[0;34m,\u001b[0m \u001b[0;34m**\u001b[0m\u001b[0mkwargs\u001b[0m\u001b[0;34m)\u001b[0m\u001b[0;34m\u001b[0m\u001b[0;34m\u001b[0m\u001b[0m\n\u001b[0m\u001b[1;32m    549\u001b[0m \u001b[0;34m\u001b[0m\u001b[0m\n\u001b[1;32m    550\u001b[0m     \u001b[0;32mif\u001b[0m \u001b[0;32mnot\u001b[0m \u001b[0mcontext\u001b[0m\u001b[0;34m.\u001b[0m\u001b[0mexecuting_eagerly\u001b[0m\u001b[0;34m(\u001b[0m\u001b[0;34m)\u001b[0m\u001b[0;34m:\u001b[0m\u001b[0;34m\u001b[0m\u001b[0;34m\u001b[0m\u001b[0m\n",
            "\u001b[0;32m/usr/local/lib/python3.6/dist-packages/tensorflow_core/python/keras/engine/base_layer.py\u001b[0m in \u001b[0;36m__call__\u001b[0;34m(self, inputs, *args, **kwargs)\u001b[0m\n\u001b[1;32m    852\u001b[0m                     \u001b[0moutputs\u001b[0m \u001b[0;34m=\u001b[0m \u001b[0mbase_layer_utils\u001b[0m\u001b[0;34m.\u001b[0m\u001b[0mmark_as_return\u001b[0m\u001b[0;34m(\u001b[0m\u001b[0moutputs\u001b[0m\u001b[0;34m,\u001b[0m \u001b[0macd\u001b[0m\u001b[0;34m)\u001b[0m\u001b[0;34m\u001b[0m\u001b[0;34m\u001b[0m\u001b[0m\n\u001b[1;32m    853\u001b[0m                 \u001b[0;32melse\u001b[0m\u001b[0;34m:\u001b[0m\u001b[0;34m\u001b[0m\u001b[0;34m\u001b[0m\u001b[0m\n\u001b[0;32m--> 854\u001b[0;31m                   \u001b[0moutputs\u001b[0m \u001b[0;34m=\u001b[0m \u001b[0mcall_fn\u001b[0m\u001b[0;34m(\u001b[0m\u001b[0mcast_inputs\u001b[0m\u001b[0;34m,\u001b[0m \u001b[0;34m*\u001b[0m\u001b[0margs\u001b[0m\u001b[0;34m,\u001b[0m \u001b[0;34m**\u001b[0m\u001b[0mkwargs\u001b[0m\u001b[0;34m)\u001b[0m\u001b[0;34m\u001b[0m\u001b[0;34m\u001b[0m\u001b[0m\n\u001b[0m\u001b[1;32m    855\u001b[0m \u001b[0;34m\u001b[0m\u001b[0m\n\u001b[1;32m    856\u001b[0m             \u001b[0;32mexcept\u001b[0m \u001b[0merrors\u001b[0m\u001b[0;34m.\u001b[0m\u001b[0mOperatorNotAllowedInGraphError\u001b[0m \u001b[0;32mas\u001b[0m \u001b[0me\u001b[0m\u001b[0;34m:\u001b[0m\u001b[0;34m\u001b[0m\u001b[0;34m\u001b[0m\u001b[0m\n",
            "\u001b[0;32m/usr/local/lib/python3.6/dist-packages/tensorflow_core/python/autograph/impl/api.py\u001b[0m in \u001b[0;36mwrapper\u001b[0;34m(*args, **kwargs)\u001b[0m\n\u001b[1;32m    235\u001b[0m       \u001b[0;32mexcept\u001b[0m \u001b[0mException\u001b[0m \u001b[0;32mas\u001b[0m \u001b[0me\u001b[0m\u001b[0;34m:\u001b[0m  \u001b[0;31m# pylint:disable=broad-except\u001b[0m\u001b[0;34m\u001b[0m\u001b[0;34m\u001b[0m\u001b[0m\n\u001b[1;32m    236\u001b[0m         \u001b[0;32mif\u001b[0m \u001b[0mhasattr\u001b[0m\u001b[0;34m(\u001b[0m\u001b[0me\u001b[0m\u001b[0;34m,\u001b[0m \u001b[0;34m'ag_error_metadata'\u001b[0m\u001b[0;34m)\u001b[0m\u001b[0;34m:\u001b[0m\u001b[0;34m\u001b[0m\u001b[0;34m\u001b[0m\u001b[0m\n\u001b[0;32m--> 237\u001b[0;31m           \u001b[0;32mraise\u001b[0m \u001b[0me\u001b[0m\u001b[0;34m.\u001b[0m\u001b[0mag_error_metadata\u001b[0m\u001b[0;34m.\u001b[0m\u001b[0mto_exception\u001b[0m\u001b[0;34m(\u001b[0m\u001b[0me\u001b[0m\u001b[0;34m)\u001b[0m\u001b[0;34m\u001b[0m\u001b[0;34m\u001b[0m\u001b[0m\n\u001b[0m\u001b[1;32m    238\u001b[0m         \u001b[0;32melse\u001b[0m\u001b[0;34m:\u001b[0m\u001b[0;34m\u001b[0m\u001b[0;34m\u001b[0m\u001b[0m\n\u001b[1;32m    239\u001b[0m           \u001b[0;32mraise\u001b[0m\u001b[0;34m\u001b[0m\u001b[0;34m\u001b[0m\u001b[0m\n",
            "\u001b[0;31mValueError\u001b[0m: in converted code:\n    relative to /usr/local/lib/python3.6/dist-packages/tensorflow_core:\n\n    contrib/rnn/python/ops/core_rnn_cell.py:378 call\n        output, res_state = self._cell(inputs, state)\n    python/ops/rnn_cell_impl.py:1140 __call__\n        inputs, state, cell_call_fn=self.cell.__call__, scope=scope)\n    python/ops/rnn_cell_wrapper_impl.py:273 _call_wrapped_cell\n        output, new_state = cell_call_fn(inputs, state, **kwargs)\n    python/ops/rnn_cell_impl.py:386 __call__\n        self, inputs, state, scope=scope, *args, **kwargs)\n    python/layers/base.py:548 __call__\n        outputs = super(Layer, self).__call__(inputs, *args, **kwargs)\n    python/keras/engine/base_layer.py:819 __call__\n        self.name)\n    python/keras/engine/input_spec.py:177 assert_input_compatibility\n        str(x.shape.as_list()))\n\n    ValueError: Input 0 of layer gru_cell_3 is incompatible with the layer: expected ndim=2, found ndim=3. Full shape received: [None, None, 20]\n"
          ]
        }
      ]
    },
    {
      "cell_type": "markdown",
      "metadata": {
        "id": "O7fMfXQrYd4i",
        "colab_type": "text"
      },
      "source": [
        "Finally, we are ready to run the training! A good indicator that everything works fine is decreasing loss during the training. You should account on the loss value equal to approximately 2.7 at the beginning of the training and near 1 after the 10th epoch."
      ]
    },
    {
      "cell_type": "code",
      "metadata": {
        "scrolled": true,
        "id": "y_2zVR0UYd4j",
        "colab_type": "code",
        "colab": {}
      },
      "source": [
        "session = tf.Session()\n",
        "session.run(tf.global_variables_initializer())\n",
        "            \n",
        "invalid_number_prediction_counts = []\n",
        "all_model_predictions = []\n",
        "all_ground_truth = []\n",
        "\n",
        "print('Start training... \\n')\n",
        "for epoch in range(n_epochs):  \n",
        "    random.shuffle(train_set)\n",
        "    random.shuffle(test_set)\n",
        "    \n",
        "    print('Train: epoch', epoch + 1)\n",
        "    for n_iter, (X_batch, Y_batch) in enumerate(generate_batches(train_set, batch_size=batch_size)):\n",
        "        ######################################\n",
        "        ######### YOUR CODE HERE #############\n",
        "        ######################################\n",
        "        # prepare the data (X_batch and Y_batch) for training\n",
        "        # using function batch_to_ids\n",
        "        predictions, loss = ######### YOUR CODE HERE #############\n",
        "        \n",
        "        if n_iter % 200 == 0:\n",
        "            print(\"Epoch: [%d/%d], step: [%d/%d], loss: %f\" % (epoch + 1, n_epochs, n_iter + 1, n_step, loss))\n",
        "                \n",
        "    X_sent, Y_sent = next(generate_batches(test_set, batch_size=batch_size))\n",
        "    ######################################\n",
        "    ######### YOUR CODE HERE #############\n",
        "    ######################################\n",
        "    # prepare test data (X_sent and Y_sent) for predicting \n",
        "    # quality and computing value of the loss function\n",
        "    # using function batch_to_ids\n",
        "    \n",
        "    predictions, loss = ######### YOUR CODE HERE #############\n",
        "    print('Test: epoch', epoch + 1, 'loss:', loss,)\n",
        "    for x, y, p  in list(zip(X, Y, predictions))[:3]:\n",
        "        print('X:',''.join(ids_to_sentence(x, id2word)))\n",
        "        print('Y:',''.join(ids_to_sentence(y, id2word)))\n",
        "        print('O:',''.join(ids_to_sentence(p, id2word)))\n",
        "        print('')\n",
        "\n",
        "    model_predictions = []\n",
        "    ground_truth = []\n",
        "    invalid_number_prediction_count = 0\n",
        "    # For the whole test set calculate ground-truth values (as integer numbers)\n",
        "    # and prediction values (also as integers) to calculate metrics.\n",
        "    # If generated by model number is not correct (e.g. '1-1'), \n",
        "    # increase invalid_number_prediction_count and don't append this and corresponding\n",
        "    # ground-truth value to the arrays.\n",
        "    for X_batch, Y_batch in generate_batches(test_set, batch_size=batch_size):\n",
        "        ######################################\n",
        "        ######### YOUR CODE HERE #############\n",
        "        ######################################\n",
        "    \n",
        "    all_model_predictions.append(model_predictions)\n",
        "    all_ground_truth.append(ground_truth)\n",
        "    invalid_number_prediction_counts.append(invalid_number_prediction_count)\n",
        "            \n",
        "print('\\n...training finished.')"
      ],
      "execution_count": null,
      "outputs": []
    },
    {
      "cell_type": "markdown",
      "metadata": {
        "id": "gd6SPhCfYd4o",
        "colab_type": "text"
      },
      "source": [
        "## Evaluate results\n",
        "\n",
        "Because our task is simple and the output is straight-forward, we will use [MAE](https://en.wikipedia.org/wiki/Mean_absolute_error) metric to evaluate the trained model during the epochs. Compute the value of the metric for the output from each epoch."
      ]
    },
    {
      "cell_type": "code",
      "metadata": {
        "id": "HrFDRjroYd4o",
        "colab_type": "code",
        "colab": {}
      },
      "source": [
        "from sklearn.metrics import mean_absolute_error"
      ],
      "execution_count": null,
      "outputs": []
    },
    {
      "cell_type": "code",
      "metadata": {
        "id": "jrZyB2EtYd4u",
        "colab_type": "code",
        "colab": {}
      },
      "source": [
        "for i, (gts, predictions, invalid_number_prediction_count) in enumerate(zip(all_ground_truth,\n",
        "                                                                            all_model_predictions,\n",
        "                                                                            invalid_number_prediction_counts), 1):\n",
        "    mae = ######### YOUR CODE HERE #############\n",
        "    print(\"Epoch: %i, MAE: %f, Invalid numbers: %i\" % (i, mae, invalid_number_prediction_count))"
      ],
      "execution_count": null,
      "outputs": []
    }
  ]
}