{
  "nbformat": 4,
  "nbformat_minor": 0,
  "metadata": {
    "kernelspec": {
      "display_name": "Python 3",
      "language": "python",
      "name": "python3"
    },
    "language_info": {
      "codemirror_mode": {
        "name": "ipython",
        "version": 3
      },
      "file_extension": ".py",
      "mimetype": "text/x-python",
      "name": "python",
      "nbconvert_exporter": "python",
      "pygments_lexer": "ipython3",
      "version": "3.4.3"
    },
    "colab": {
      "name": "week1-MultilabelClassification.ipynb",
      "provenance": []
    },
    "widgets": {
      "application/vnd.jupyter.widget-state+json": {
        "e658f8d8a1ad429987a7efbff0bdf0b4": {
          "model_module": "@jupyter-widgets/controls",
          "model_name": "HBoxModel",
          "state": {
            "_view_name": "HBoxView",
            "_dom_classes": [],
            "_model_name": "HBoxModel",
            "_view_module": "@jupyter-widgets/controls",
            "_model_module_version": "1.5.0",
            "_view_count": null,
            "_view_module_version": "1.5.0",
            "box_style": "",
            "layout": "IPY_MODEL_a8c1435ad575483fa733fc9e4b539ae0",
            "_model_module": "@jupyter-widgets/controls",
            "children": [
              "IPY_MODEL_4fb7e6aaf0b64887bc05f252992faced",
              "IPY_MODEL_9447486b1cd14a9394ddddfc439d2206"
            ]
          }
        },
        "a8c1435ad575483fa733fc9e4b539ae0": {
          "model_module": "@jupyter-widgets/base",
          "model_name": "LayoutModel",
          "state": {
            "_view_name": "LayoutView",
            "grid_template_rows": null,
            "right": null,
            "justify_content": null,
            "_view_module": "@jupyter-widgets/base",
            "overflow": null,
            "_model_module_version": "1.2.0",
            "_view_count": null,
            "flex_flow": null,
            "width": null,
            "min_width": null,
            "border": null,
            "align_items": null,
            "bottom": null,
            "_model_module": "@jupyter-widgets/base",
            "top": null,
            "grid_column": null,
            "overflow_y": null,
            "overflow_x": null,
            "grid_auto_flow": null,
            "grid_area": null,
            "grid_template_columns": null,
            "flex": null,
            "_model_name": "LayoutModel",
            "justify_items": null,
            "grid_row": null,
            "max_height": null,
            "align_content": null,
            "visibility": null,
            "align_self": null,
            "height": null,
            "min_height": null,
            "padding": null,
            "grid_auto_rows": null,
            "grid_gap": null,
            "max_width": null,
            "order": null,
            "_view_module_version": "1.2.0",
            "grid_template_areas": null,
            "object_position": null,
            "object_fit": null,
            "grid_auto_columns": null,
            "margin": null,
            "display": null,
            "left": null
          }
        },
        "4fb7e6aaf0b64887bc05f252992faced": {
          "model_module": "@jupyter-widgets/controls",
          "model_name": "FloatProgressModel",
          "state": {
            "_view_name": "ProgressView",
            "style": "IPY_MODEL_e52d09faf6b441a89a14e6789e3bcde2",
            "_dom_classes": [],
            "description": "train.tsv: 100%",
            "_model_name": "FloatProgressModel",
            "bar_style": "success",
            "max": 7196138,
            "_view_module": "@jupyter-widgets/controls",
            "_model_module_version": "1.5.0",
            "value": 7196138,
            "_view_count": null,
            "_view_module_version": "1.5.0",
            "orientation": "horizontal",
            "min": 0,
            "description_tooltip": null,
            "_model_module": "@jupyter-widgets/controls",
            "layout": "IPY_MODEL_4ef316c82dd840b7ad636a0eca3c1c48"
          }
        },
        "9447486b1cd14a9394ddddfc439d2206": {
          "model_module": "@jupyter-widgets/controls",
          "model_name": "HTMLModel",
          "state": {
            "_view_name": "HTMLView",
            "style": "IPY_MODEL_31b9b14c3b15448a9ed77df8754eab31",
            "_dom_classes": [],
            "description": "",
            "_model_name": "HTMLModel",
            "placeholder": "​",
            "_view_module": "@jupyter-widgets/controls",
            "_model_module_version": "1.5.0",
            "value": " 7.20M/7.20M [00:08&lt;00:00, 867kB/s]",
            "_view_count": null,
            "_view_module_version": "1.5.0",
            "description_tooltip": null,
            "_model_module": "@jupyter-widgets/controls",
            "layout": "IPY_MODEL_022c58c41adc4c4f823c8d5b8c59ce8c"
          }
        },
        "e52d09faf6b441a89a14e6789e3bcde2": {
          "model_module": "@jupyter-widgets/controls",
          "model_name": "ProgressStyleModel",
          "state": {
            "_view_name": "StyleView",
            "_model_name": "ProgressStyleModel",
            "description_width": "initial",
            "_view_module": "@jupyter-widgets/base",
            "_model_module_version": "1.5.0",
            "_view_count": null,
            "_view_module_version": "1.2.0",
            "bar_color": null,
            "_model_module": "@jupyter-widgets/controls"
          }
        },
        "4ef316c82dd840b7ad636a0eca3c1c48": {
          "model_module": "@jupyter-widgets/base",
          "model_name": "LayoutModel",
          "state": {
            "_view_name": "LayoutView",
            "grid_template_rows": null,
            "right": null,
            "justify_content": null,
            "_view_module": "@jupyter-widgets/base",
            "overflow": null,
            "_model_module_version": "1.2.0",
            "_view_count": null,
            "flex_flow": null,
            "width": null,
            "min_width": null,
            "border": null,
            "align_items": null,
            "bottom": null,
            "_model_module": "@jupyter-widgets/base",
            "top": null,
            "grid_column": null,
            "overflow_y": null,
            "overflow_x": null,
            "grid_auto_flow": null,
            "grid_area": null,
            "grid_template_columns": null,
            "flex": null,
            "_model_name": "LayoutModel",
            "justify_items": null,
            "grid_row": null,
            "max_height": null,
            "align_content": null,
            "visibility": null,
            "align_self": null,
            "height": null,
            "min_height": null,
            "padding": null,
            "grid_auto_rows": null,
            "grid_gap": null,
            "max_width": null,
            "order": null,
            "_view_module_version": "1.2.0",
            "grid_template_areas": null,
            "object_position": null,
            "object_fit": null,
            "grid_auto_columns": null,
            "margin": null,
            "display": null,
            "left": null
          }
        },
        "31b9b14c3b15448a9ed77df8754eab31": {
          "model_module": "@jupyter-widgets/controls",
          "model_name": "DescriptionStyleModel",
          "state": {
            "_view_name": "StyleView",
            "_model_name": "DescriptionStyleModel",
            "description_width": "",
            "_view_module": "@jupyter-widgets/base",
            "_model_module_version": "1.5.0",
            "_view_count": null,
            "_view_module_version": "1.2.0",
            "_model_module": "@jupyter-widgets/controls"
          }
        },
        "022c58c41adc4c4f823c8d5b8c59ce8c": {
          "model_module": "@jupyter-widgets/base",
          "model_name": "LayoutModel",
          "state": {
            "_view_name": "LayoutView",
            "grid_template_rows": null,
            "right": null,
            "justify_content": null,
            "_view_module": "@jupyter-widgets/base",
            "overflow": null,
            "_model_module_version": "1.2.0",
            "_view_count": null,
            "flex_flow": null,
            "width": null,
            "min_width": null,
            "border": null,
            "align_items": null,
            "bottom": null,
            "_model_module": "@jupyter-widgets/base",
            "top": null,
            "grid_column": null,
            "overflow_y": null,
            "overflow_x": null,
            "grid_auto_flow": null,
            "grid_area": null,
            "grid_template_columns": null,
            "flex": null,
            "_model_name": "LayoutModel",
            "justify_items": null,
            "grid_row": null,
            "max_height": null,
            "align_content": null,
            "visibility": null,
            "align_self": null,
            "height": null,
            "min_height": null,
            "padding": null,
            "grid_auto_rows": null,
            "grid_gap": null,
            "max_width": null,
            "order": null,
            "_view_module_version": "1.2.0",
            "grid_template_areas": null,
            "object_position": null,
            "object_fit": null,
            "grid_auto_columns": null,
            "margin": null,
            "display": null,
            "left": null
          }
        },
        "971311387ddc45f685eb0ac43e38dbed": {
          "model_module": "@jupyter-widgets/controls",
          "model_name": "HBoxModel",
          "state": {
            "_view_name": "HBoxView",
            "_dom_classes": [],
            "_model_name": "HBoxModel",
            "_view_module": "@jupyter-widgets/controls",
            "_model_module_version": "1.5.0",
            "_view_count": null,
            "_view_module_version": "1.5.0",
            "box_style": "",
            "layout": "IPY_MODEL_a9a1ff5befa7492faf2cbd3f9ecf9443",
            "_model_module": "@jupyter-widgets/controls",
            "children": [
              "IPY_MODEL_215a277c76294eb3a0a484675c6a126a",
              "IPY_MODEL_2540a51f694b469ca575a056d099c005"
            ]
          }
        },
        "a9a1ff5befa7492faf2cbd3f9ecf9443": {
          "model_module": "@jupyter-widgets/base",
          "model_name": "LayoutModel",
          "state": {
            "_view_name": "LayoutView",
            "grid_template_rows": null,
            "right": null,
            "justify_content": null,
            "_view_module": "@jupyter-widgets/base",
            "overflow": null,
            "_model_module_version": "1.2.0",
            "_view_count": null,
            "flex_flow": null,
            "width": null,
            "min_width": null,
            "border": null,
            "align_items": null,
            "bottom": null,
            "_model_module": "@jupyter-widgets/base",
            "top": null,
            "grid_column": null,
            "overflow_y": null,
            "overflow_x": null,
            "grid_auto_flow": null,
            "grid_area": null,
            "grid_template_columns": null,
            "flex": null,
            "_model_name": "LayoutModel",
            "justify_items": null,
            "grid_row": null,
            "max_height": null,
            "align_content": null,
            "visibility": null,
            "align_self": null,
            "height": null,
            "min_height": null,
            "padding": null,
            "grid_auto_rows": null,
            "grid_gap": null,
            "max_width": null,
            "order": null,
            "_view_module_version": "1.2.0",
            "grid_template_areas": null,
            "object_position": null,
            "object_fit": null,
            "grid_auto_columns": null,
            "margin": null,
            "display": null,
            "left": null
          }
        },
        "215a277c76294eb3a0a484675c6a126a": {
          "model_module": "@jupyter-widgets/controls",
          "model_name": "FloatProgressModel",
          "state": {
            "_view_name": "ProgressView",
            "style": "IPY_MODEL_5ab18f2fc40b44da85b1c167e5508173",
            "_dom_classes": [],
            "description": "validation.tsv: 100%",
            "_model_name": "FloatProgressModel",
            "bar_style": "success",
            "max": 2166270,
            "_view_module": "@jupyter-widgets/controls",
            "_model_module_version": "1.5.0",
            "value": 2166270,
            "_view_count": null,
            "_view_module_version": "1.5.0",
            "orientation": "horizontal",
            "min": 0,
            "description_tooltip": null,
            "_model_module": "@jupyter-widgets/controls",
            "layout": "IPY_MODEL_e57a579d338d4179a7af57f36b65c48e"
          }
        },
        "2540a51f694b469ca575a056d099c005": {
          "model_module": "@jupyter-widgets/controls",
          "model_name": "HTMLModel",
          "state": {
            "_view_name": "HTMLView",
            "style": "IPY_MODEL_ee427a9fbc7e427480796ae26ea9a3c9",
            "_dom_classes": [],
            "description": "",
            "_model_name": "HTMLModel",
            "placeholder": "​",
            "_view_module": "@jupyter-widgets/controls",
            "_model_module_version": "1.5.0",
            "value": " 2.17M/2.17M [00:05&lt;00:00, 407kB/s]",
            "_view_count": null,
            "_view_module_version": "1.5.0",
            "description_tooltip": null,
            "_model_module": "@jupyter-widgets/controls",
            "layout": "IPY_MODEL_9e9150eef18141c9aae8c3c93b84e53e"
          }
        },
        "5ab18f2fc40b44da85b1c167e5508173": {
          "model_module": "@jupyter-widgets/controls",
          "model_name": "ProgressStyleModel",
          "state": {
            "_view_name": "StyleView",
            "_model_name": "ProgressStyleModel",
            "description_width": "initial",
            "_view_module": "@jupyter-widgets/base",
            "_model_module_version": "1.5.0",
            "_view_count": null,
            "_view_module_version": "1.2.0",
            "bar_color": null,
            "_model_module": "@jupyter-widgets/controls"
          }
        },
        "e57a579d338d4179a7af57f36b65c48e": {
          "model_module": "@jupyter-widgets/base",
          "model_name": "LayoutModel",
          "state": {
            "_view_name": "LayoutView",
            "grid_template_rows": null,
            "right": null,
            "justify_content": null,
            "_view_module": "@jupyter-widgets/base",
            "overflow": null,
            "_model_module_version": "1.2.0",
            "_view_count": null,
            "flex_flow": null,
            "width": null,
            "min_width": null,
            "border": null,
            "align_items": null,
            "bottom": null,
            "_model_module": "@jupyter-widgets/base",
            "top": null,
            "grid_column": null,
            "overflow_y": null,
            "overflow_x": null,
            "grid_auto_flow": null,
            "grid_area": null,
            "grid_template_columns": null,
            "flex": null,
            "_model_name": "LayoutModel",
            "justify_items": null,
            "grid_row": null,
            "max_height": null,
            "align_content": null,
            "visibility": null,
            "align_self": null,
            "height": null,
            "min_height": null,
            "padding": null,
            "grid_auto_rows": null,
            "grid_gap": null,
            "max_width": null,
            "order": null,
            "_view_module_version": "1.2.0",
            "grid_template_areas": null,
            "object_position": null,
            "object_fit": null,
            "grid_auto_columns": null,
            "margin": null,
            "display": null,
            "left": null
          }
        },
        "ee427a9fbc7e427480796ae26ea9a3c9": {
          "model_module": "@jupyter-widgets/controls",
          "model_name": "DescriptionStyleModel",
          "state": {
            "_view_name": "StyleView",
            "_model_name": "DescriptionStyleModel",
            "description_width": "",
            "_view_module": "@jupyter-widgets/base",
            "_model_module_version": "1.5.0",
            "_view_count": null,
            "_view_module_version": "1.2.0",
            "_model_module": "@jupyter-widgets/controls"
          }
        },
        "9e9150eef18141c9aae8c3c93b84e53e": {
          "model_module": "@jupyter-widgets/base",
          "model_name": "LayoutModel",
          "state": {
            "_view_name": "LayoutView",
            "grid_template_rows": null,
            "right": null,
            "justify_content": null,
            "_view_module": "@jupyter-widgets/base",
            "overflow": null,
            "_model_module_version": "1.2.0",
            "_view_count": null,
            "flex_flow": null,
            "width": null,
            "min_width": null,
            "border": null,
            "align_items": null,
            "bottom": null,
            "_model_module": "@jupyter-widgets/base",
            "top": null,
            "grid_column": null,
            "overflow_y": null,
            "overflow_x": null,
            "grid_auto_flow": null,
            "grid_area": null,
            "grid_template_columns": null,
            "flex": null,
            "_model_name": "LayoutModel",
            "justify_items": null,
            "grid_row": null,
            "max_height": null,
            "align_content": null,
            "visibility": null,
            "align_self": null,
            "height": null,
            "min_height": null,
            "padding": null,
            "grid_auto_rows": null,
            "grid_gap": null,
            "max_width": null,
            "order": null,
            "_view_module_version": "1.2.0",
            "grid_template_areas": null,
            "object_position": null,
            "object_fit": null,
            "grid_auto_columns": null,
            "margin": null,
            "display": null,
            "left": null
          }
        },
        "7efa3e89bdcf482194c6aa50a4377896": {
          "model_module": "@jupyter-widgets/controls",
          "model_name": "HBoxModel",
          "state": {
            "_view_name": "HBoxView",
            "_dom_classes": [],
            "_model_name": "HBoxModel",
            "_view_module": "@jupyter-widgets/controls",
            "_model_module_version": "1.5.0",
            "_view_count": null,
            "_view_module_version": "1.5.0",
            "box_style": "",
            "layout": "IPY_MODEL_af654c0af0024184b10a263bc2791406",
            "_model_module": "@jupyter-widgets/controls",
            "children": [
              "IPY_MODEL_46283faf0b4c44d497aa47d3aa38f7f9",
              "IPY_MODEL_dc4409fa65f1496eba3fec25bc8d732e"
            ]
          }
        },
        "af654c0af0024184b10a263bc2791406": {
          "model_module": "@jupyter-widgets/base",
          "model_name": "LayoutModel",
          "state": {
            "_view_name": "LayoutView",
            "grid_template_rows": null,
            "right": null,
            "justify_content": null,
            "_view_module": "@jupyter-widgets/base",
            "overflow": null,
            "_model_module_version": "1.2.0",
            "_view_count": null,
            "flex_flow": null,
            "width": null,
            "min_width": null,
            "border": null,
            "align_items": null,
            "bottom": null,
            "_model_module": "@jupyter-widgets/base",
            "top": null,
            "grid_column": null,
            "overflow_y": null,
            "overflow_x": null,
            "grid_auto_flow": null,
            "grid_area": null,
            "grid_template_columns": null,
            "flex": null,
            "_model_name": "LayoutModel",
            "justify_items": null,
            "grid_row": null,
            "max_height": null,
            "align_content": null,
            "visibility": null,
            "align_self": null,
            "height": null,
            "min_height": null,
            "padding": null,
            "grid_auto_rows": null,
            "grid_gap": null,
            "max_width": null,
            "order": null,
            "_view_module_version": "1.2.0",
            "grid_template_areas": null,
            "object_position": null,
            "object_fit": null,
            "grid_auto_columns": null,
            "margin": null,
            "display": null,
            "left": null
          }
        },
        "46283faf0b4c44d497aa47d3aa38f7f9": {
          "model_module": "@jupyter-widgets/controls",
          "model_name": "FloatProgressModel",
          "state": {
            "_view_name": "ProgressView",
            "style": "IPY_MODEL_ff3ec70667f349ba8b2196dc51001f84",
            "_dom_classes": [],
            "description": "test.tsv: 100%",
            "_model_name": "FloatProgressModel",
            "bar_style": "success",
            "max": 1041379,
            "_view_module": "@jupyter-widgets/controls",
            "_model_module_version": "1.5.0",
            "value": 1041379,
            "_view_count": null,
            "_view_module_version": "1.5.0",
            "orientation": "horizontal",
            "min": 0,
            "description_tooltip": null,
            "_model_module": "@jupyter-widgets/controls",
            "layout": "IPY_MODEL_8592aca77e8943dfa563b2b047141a7c"
          }
        },
        "dc4409fa65f1496eba3fec25bc8d732e": {
          "model_module": "@jupyter-widgets/controls",
          "model_name": "HTMLModel",
          "state": {
            "_view_name": "HTMLView",
            "style": "IPY_MODEL_df2fcaf12e4b4298a0b7c77aebc99505",
            "_dom_classes": [],
            "description": "",
            "_model_name": "HTMLModel",
            "placeholder": "​",
            "_view_module": "@jupyter-widgets/controls",
            "_model_module_version": "1.5.0",
            "value": " 1.04M/1.04M [00:02&lt;00:00, 405kB/s]",
            "_view_count": null,
            "_view_module_version": "1.5.0",
            "description_tooltip": null,
            "_model_module": "@jupyter-widgets/controls",
            "layout": "IPY_MODEL_bdf2b25f89174a558185bb38cd6d24b8"
          }
        },
        "ff3ec70667f349ba8b2196dc51001f84": {
          "model_module": "@jupyter-widgets/controls",
          "model_name": "ProgressStyleModel",
          "state": {
            "_view_name": "StyleView",
            "_model_name": "ProgressStyleModel",
            "description_width": "initial",
            "_view_module": "@jupyter-widgets/base",
            "_model_module_version": "1.5.0",
            "_view_count": null,
            "_view_module_version": "1.2.0",
            "bar_color": null,
            "_model_module": "@jupyter-widgets/controls"
          }
        },
        "8592aca77e8943dfa563b2b047141a7c": {
          "model_module": "@jupyter-widgets/base",
          "model_name": "LayoutModel",
          "state": {
            "_view_name": "LayoutView",
            "grid_template_rows": null,
            "right": null,
            "justify_content": null,
            "_view_module": "@jupyter-widgets/base",
            "overflow": null,
            "_model_module_version": "1.2.0",
            "_view_count": null,
            "flex_flow": null,
            "width": null,
            "min_width": null,
            "border": null,
            "align_items": null,
            "bottom": null,
            "_model_module": "@jupyter-widgets/base",
            "top": null,
            "grid_column": null,
            "overflow_y": null,
            "overflow_x": null,
            "grid_auto_flow": null,
            "grid_area": null,
            "grid_template_columns": null,
            "flex": null,
            "_model_name": "LayoutModel",
            "justify_items": null,
            "grid_row": null,
            "max_height": null,
            "align_content": null,
            "visibility": null,
            "align_self": null,
            "height": null,
            "min_height": null,
            "padding": null,
            "grid_auto_rows": null,
            "grid_gap": null,
            "max_width": null,
            "order": null,
            "_view_module_version": "1.2.0",
            "grid_template_areas": null,
            "object_position": null,
            "object_fit": null,
            "grid_auto_columns": null,
            "margin": null,
            "display": null,
            "left": null
          }
        },
        "df2fcaf12e4b4298a0b7c77aebc99505": {
          "model_module": "@jupyter-widgets/controls",
          "model_name": "DescriptionStyleModel",
          "state": {
            "_view_name": "StyleView",
            "_model_name": "DescriptionStyleModel",
            "description_width": "",
            "_view_module": "@jupyter-widgets/base",
            "_model_module_version": "1.5.0",
            "_view_count": null,
            "_view_module_version": "1.2.0",
            "_model_module": "@jupyter-widgets/controls"
          }
        },
        "bdf2b25f89174a558185bb38cd6d24b8": {
          "model_module": "@jupyter-widgets/base",
          "model_name": "LayoutModel",
          "state": {
            "_view_name": "LayoutView",
            "grid_template_rows": null,
            "right": null,
            "justify_content": null,
            "_view_module": "@jupyter-widgets/base",
            "overflow": null,
            "_model_module_version": "1.2.0",
            "_view_count": null,
            "flex_flow": null,
            "width": null,
            "min_width": null,
            "border": null,
            "align_items": null,
            "bottom": null,
            "_model_module": "@jupyter-widgets/base",
            "top": null,
            "grid_column": null,
            "overflow_y": null,
            "overflow_x": null,
            "grid_auto_flow": null,
            "grid_area": null,
            "grid_template_columns": null,
            "flex": null,
            "_model_name": "LayoutModel",
            "justify_items": null,
            "grid_row": null,
            "max_height": null,
            "align_content": null,
            "visibility": null,
            "align_self": null,
            "height": null,
            "min_height": null,
            "padding": null,
            "grid_auto_rows": null,
            "grid_gap": null,
            "max_width": null,
            "order": null,
            "_view_module_version": "1.2.0",
            "grid_template_areas": null,
            "object_position": null,
            "object_fit": null,
            "grid_auto_columns": null,
            "margin": null,
            "display": null,
            "left": null
          }
        },
        "449ad12c4b9043a6933d9ff397925364": {
          "model_module": "@jupyter-widgets/controls",
          "model_name": "HBoxModel",
          "state": {
            "_view_name": "HBoxView",
            "_dom_classes": [],
            "_model_name": "HBoxModel",
            "_view_module": "@jupyter-widgets/controls",
            "_model_module_version": "1.5.0",
            "_view_count": null,
            "_view_module_version": "1.5.0",
            "box_style": "",
            "layout": "IPY_MODEL_996f4c7d25d04c7a8c5b5342d8a4f9db",
            "_model_module": "@jupyter-widgets/controls",
            "children": [
              "IPY_MODEL_a7fd7f4e08b64bcbbf8d19ad2f4e6501",
              "IPY_MODEL_189f76feb8cf4656934418b9dfe48d1b"
            ]
          }
        },
        "996f4c7d25d04c7a8c5b5342d8a4f9db": {
          "model_module": "@jupyter-widgets/base",
          "model_name": "LayoutModel",
          "state": {
            "_view_name": "LayoutView",
            "grid_template_rows": null,
            "right": null,
            "justify_content": null,
            "_view_module": "@jupyter-widgets/base",
            "overflow": null,
            "_model_module_version": "1.2.0",
            "_view_count": null,
            "flex_flow": null,
            "width": null,
            "min_width": null,
            "border": null,
            "align_items": null,
            "bottom": null,
            "_model_module": "@jupyter-widgets/base",
            "top": null,
            "grid_column": null,
            "overflow_y": null,
            "overflow_x": null,
            "grid_auto_flow": null,
            "grid_area": null,
            "grid_template_columns": null,
            "flex": null,
            "_model_name": "LayoutModel",
            "justify_items": null,
            "grid_row": null,
            "max_height": null,
            "align_content": null,
            "visibility": null,
            "align_self": null,
            "height": null,
            "min_height": null,
            "padding": null,
            "grid_auto_rows": null,
            "grid_gap": null,
            "max_width": null,
            "order": null,
            "_view_module_version": "1.2.0",
            "grid_template_areas": null,
            "object_position": null,
            "object_fit": null,
            "grid_auto_columns": null,
            "margin": null,
            "display": null,
            "left": null
          }
        },
        "a7fd7f4e08b64bcbbf8d19ad2f4e6501": {
          "model_module": "@jupyter-widgets/controls",
          "model_name": "FloatProgressModel",
          "state": {
            "_view_name": "ProgressView",
            "style": "IPY_MODEL_70837e481fda41b3a246bd7a4aebbf47",
            "_dom_classes": [],
            "description": "text_prepare_tests.tsv: 100%",
            "_model_name": "FloatProgressModel",
            "bar_style": "success",
            "max": 5091,
            "_view_module": "@jupyter-widgets/controls",
            "_model_module_version": "1.5.0",
            "value": 5091,
            "_view_count": null,
            "_view_module_version": "1.5.0",
            "orientation": "horizontal",
            "min": 0,
            "description_tooltip": null,
            "_model_module": "@jupyter-widgets/controls",
            "layout": "IPY_MODEL_184124f969354f63a881f0a6ad16f458"
          }
        },
        "189f76feb8cf4656934418b9dfe48d1b": {
          "model_module": "@jupyter-widgets/controls",
          "model_name": "HTMLModel",
          "state": {
            "_view_name": "HTMLView",
            "style": "IPY_MODEL_c4b44b3c84dc4830914cc2b5fecbccf6",
            "_dom_classes": [],
            "description": "",
            "_model_name": "HTMLModel",
            "placeholder": "​",
            "_view_module": "@jupyter-widgets/controls",
            "_model_module_version": "1.5.0",
            "value": " 5.09k/5.09k [00:00&lt;00:00, 112kB/s]",
            "_view_count": null,
            "_view_module_version": "1.5.0",
            "description_tooltip": null,
            "_model_module": "@jupyter-widgets/controls",
            "layout": "IPY_MODEL_0ee5f1a019dd4fd3be800495bffdbcf6"
          }
        },
        "70837e481fda41b3a246bd7a4aebbf47": {
          "model_module": "@jupyter-widgets/controls",
          "model_name": "ProgressStyleModel",
          "state": {
            "_view_name": "StyleView",
            "_model_name": "ProgressStyleModel",
            "description_width": "initial",
            "_view_module": "@jupyter-widgets/base",
            "_model_module_version": "1.5.0",
            "_view_count": null,
            "_view_module_version": "1.2.0",
            "bar_color": null,
            "_model_module": "@jupyter-widgets/controls"
          }
        },
        "184124f969354f63a881f0a6ad16f458": {
          "model_module": "@jupyter-widgets/base",
          "model_name": "LayoutModel",
          "state": {
            "_view_name": "LayoutView",
            "grid_template_rows": null,
            "right": null,
            "justify_content": null,
            "_view_module": "@jupyter-widgets/base",
            "overflow": null,
            "_model_module_version": "1.2.0",
            "_view_count": null,
            "flex_flow": null,
            "width": null,
            "min_width": null,
            "border": null,
            "align_items": null,
            "bottom": null,
            "_model_module": "@jupyter-widgets/base",
            "top": null,
            "grid_column": null,
            "overflow_y": null,
            "overflow_x": null,
            "grid_auto_flow": null,
            "grid_area": null,
            "grid_template_columns": null,
            "flex": null,
            "_model_name": "LayoutModel",
            "justify_items": null,
            "grid_row": null,
            "max_height": null,
            "align_content": null,
            "visibility": null,
            "align_self": null,
            "height": null,
            "min_height": null,
            "padding": null,
            "grid_auto_rows": null,
            "grid_gap": null,
            "max_width": null,
            "order": null,
            "_view_module_version": "1.2.0",
            "grid_template_areas": null,
            "object_position": null,
            "object_fit": null,
            "grid_auto_columns": null,
            "margin": null,
            "display": null,
            "left": null
          }
        },
        "c4b44b3c84dc4830914cc2b5fecbccf6": {
          "model_module": "@jupyter-widgets/controls",
          "model_name": "DescriptionStyleModel",
          "state": {
            "_view_name": "StyleView",
            "_model_name": "DescriptionStyleModel",
            "description_width": "",
            "_view_module": "@jupyter-widgets/base",
            "_model_module_version": "1.5.0",
            "_view_count": null,
            "_view_module_version": "1.2.0",
            "_model_module": "@jupyter-widgets/controls"
          }
        },
        "0ee5f1a019dd4fd3be800495bffdbcf6": {
          "model_module": "@jupyter-widgets/base",
          "model_name": "LayoutModel",
          "state": {
            "_view_name": "LayoutView",
            "grid_template_rows": null,
            "right": null,
            "justify_content": null,
            "_view_module": "@jupyter-widgets/base",
            "overflow": null,
            "_model_module_version": "1.2.0",
            "_view_count": null,
            "flex_flow": null,
            "width": null,
            "min_width": null,
            "border": null,
            "align_items": null,
            "bottom": null,
            "_model_module": "@jupyter-widgets/base",
            "top": null,
            "grid_column": null,
            "overflow_y": null,
            "overflow_x": null,
            "grid_auto_flow": null,
            "grid_area": null,
            "grid_template_columns": null,
            "flex": null,
            "_model_name": "LayoutModel",
            "justify_items": null,
            "grid_row": null,
            "max_height": null,
            "align_content": null,
            "visibility": null,
            "align_self": null,
            "height": null,
            "min_height": null,
            "padding": null,
            "grid_auto_rows": null,
            "grid_gap": null,
            "max_width": null,
            "order": null,
            "_view_module_version": "1.2.0",
            "grid_template_areas": null,
            "object_position": null,
            "object_fit": null,
            "grid_auto_columns": null,
            "margin": null,
            "display": null,
            "left": null
          }
        }
      }
    }
  },
  "cells": [
    {
      "cell_type": "markdown",
      "metadata": {
        "id": "n4IfwuSU1-3w",
        "colab_type": "text"
      },
      "source": [
        "# Predict tags on StackOverflow with linear models"
      ]
    },
    {
      "cell_type": "markdown",
      "metadata": {
        "id": "xjd20fZ81-3y",
        "colab_type": "text"
      },
      "source": [
        "In this assignment you will learn how to predict tags for posts from [StackOverflow](https://stackoverflow.com). To solve this task you will use multilabel classification approach.\n",
        "\n",
        "### Libraries\n",
        "\n",
        "In this task you will need the following libraries:\n",
        "- [Numpy](http://www.numpy.org) — a package for scientific computing.\n",
        "- [Pandas](https://pandas.pydata.org) — a library providing high-performance, easy-to-use data structures and data analysis tools for the Python\n",
        "- [scikit-learn](http://scikit-learn.org/stable/index.html) — a tool for data mining and data analysis.\n",
        "- [NLTK](http://www.nltk.org) — a platform to work with natural language."
      ]
    },
    {
      "cell_type": "markdown",
      "metadata": {
        "id": "5bHlOlUQ1-3z",
        "colab_type": "text"
      },
      "source": [
        "### Data\n",
        "\n",
        "The following cell will download all data required for this assignment into the folder `week1/data`."
      ]
    },
    {
      "cell_type": "code",
      "metadata": {
        "id": "WoMo_Af81-30",
        "colab_type": "code",
        "colab": {
          "base_uri": "https://localhost:8080/",
          "height": 400,
          "referenced_widgets": [
            "e658f8d8a1ad429987a7efbff0bdf0b4",
            "a8c1435ad575483fa733fc9e4b539ae0",
            "4fb7e6aaf0b64887bc05f252992faced",
            "9447486b1cd14a9394ddddfc439d2206",
            "e52d09faf6b441a89a14e6789e3bcde2",
            "4ef316c82dd840b7ad636a0eca3c1c48",
            "31b9b14c3b15448a9ed77df8754eab31",
            "022c58c41adc4c4f823c8d5b8c59ce8c",
            "971311387ddc45f685eb0ac43e38dbed",
            "a9a1ff5befa7492faf2cbd3f9ecf9443",
            "215a277c76294eb3a0a484675c6a126a",
            "2540a51f694b469ca575a056d099c005",
            "5ab18f2fc40b44da85b1c167e5508173",
            "e57a579d338d4179a7af57f36b65c48e",
            "ee427a9fbc7e427480796ae26ea9a3c9",
            "9e9150eef18141c9aae8c3c93b84e53e",
            "7efa3e89bdcf482194c6aa50a4377896",
            "af654c0af0024184b10a263bc2791406",
            "46283faf0b4c44d497aa47d3aa38f7f9",
            "dc4409fa65f1496eba3fec25bc8d732e",
            "ff3ec70667f349ba8b2196dc51001f84",
            "8592aca77e8943dfa563b2b047141a7c",
            "df2fcaf12e4b4298a0b7c77aebc99505",
            "bdf2b25f89174a558185bb38cd6d24b8",
            "449ad12c4b9043a6933d9ff397925364",
            "996f4c7d25d04c7a8c5b5342d8a4f9db",
            "a7fd7f4e08b64bcbbf8d19ad2f4e6501",
            "189f76feb8cf4656934418b9dfe48d1b",
            "70837e481fda41b3a246bd7a4aebbf47",
            "184124f969354f63a881f0a6ad16f458",
            "c4b44b3c84dc4830914cc2b5fecbccf6",
            "0ee5f1a019dd4fd3be800495bffdbcf6"
          ]
        },
        "outputId": "60bce9c5-2cde-412c-bf34-9fb51d244311"
      },
      "source": [
        "try:\n",
        "    import google.colab\n",
        "    IN_COLAB = True\n",
        "except:\n",
        "    IN_COLAB = False\n",
        "\n",
        "if IN_COLAB:\n",
        "    ! wget https://raw.githubusercontent.com/hse-aml/natural-language-processing/master/setup_google_colab.py -O setup_google_colab.py\n",
        "    import setup_google_colab\n",
        "    setup_google_colab.setup_week1() \n",
        "    \n",
        "import sys\n",
        "sys.path.append(\"..\")\n",
        "from common.download_utils import download_week1_resources\n",
        "\n",
        "download_week1_resources()"
      ],
      "execution_count": 1,
      "outputs": [
        {
          "output_type": "stream",
          "text": [
            "--2020-08-23 13:42:22--  https://raw.githubusercontent.com/hse-aml/natural-language-processing/master/setup_google_colab.py\n",
            "Resolving raw.githubusercontent.com (raw.githubusercontent.com)... 151.101.0.133, 151.101.64.133, 151.101.128.133, ...\n",
            "Connecting to raw.githubusercontent.com (raw.githubusercontent.com)|151.101.0.133|:443... connected.\n",
            "HTTP request sent, awaiting response... 200 OK\n",
            "Length: 1939 (1.9K) [text/plain]\n",
            "Saving to: ‘setup_google_colab.py’\n",
            "\n",
            "\rsetup_google_colab.   0%[                    ]       0  --.-KB/s               \rsetup_google_colab. 100%[===================>]   1.89K  --.-KB/s    in 0s      \n",
            "\n",
            "2020-08-23 13:42:22 (26.3 MB/s) - ‘setup_google_colab.py’ saved [1939/1939]\n",
            "\n"
          ],
          "name": "stdout"
        },
        {
          "output_type": "display_data",
          "data": {
            "application/vnd.jupyter.widget-view+json": {
              "model_id": "e658f8d8a1ad429987a7efbff0bdf0b4",
              "version_minor": 0,
              "version_major": 2
            },
            "text/plain": [
              "HBox(children=(FloatProgress(value=0.0, max=7196138.0), HTML(value='')))"
            ]
          },
          "metadata": {
            "tags": []
          }
        },
        {
          "output_type": "stream",
          "text": [
            "\n"
          ],
          "name": "stdout"
        },
        {
          "output_type": "display_data",
          "data": {
            "application/vnd.jupyter.widget-view+json": {
              "model_id": "971311387ddc45f685eb0ac43e38dbed",
              "version_minor": 0,
              "version_major": 2
            },
            "text/plain": [
              "HBox(children=(FloatProgress(value=0.0, max=2166270.0), HTML(value='')))"
            ]
          },
          "metadata": {
            "tags": []
          }
        },
        {
          "output_type": "stream",
          "text": [
            "\n"
          ],
          "name": "stdout"
        },
        {
          "output_type": "display_data",
          "data": {
            "application/vnd.jupyter.widget-view+json": {
              "model_id": "7efa3e89bdcf482194c6aa50a4377896",
              "version_minor": 0,
              "version_major": 2
            },
            "text/plain": [
              "HBox(children=(FloatProgress(value=0.0, max=1041379.0), HTML(value='')))"
            ]
          },
          "metadata": {
            "tags": []
          }
        },
        {
          "output_type": "stream",
          "text": [
            "\n"
          ],
          "name": "stdout"
        },
        {
          "output_type": "display_data",
          "data": {
            "application/vnd.jupyter.widget-view+json": {
              "model_id": "449ad12c4b9043a6933d9ff397925364",
              "version_minor": 0,
              "version_major": 2
            },
            "text/plain": [
              "HBox(children=(FloatProgress(value=0.0, max=5091.0), HTML(value='')))"
            ]
          },
          "metadata": {
            "tags": []
          }
        },
        {
          "output_type": "stream",
          "text": [
            "\n"
          ],
          "name": "stdout"
        }
      ]
    },
    {
      "cell_type": "markdown",
      "metadata": {
        "id": "ADr4nTIx1-37",
        "colab_type": "text"
      },
      "source": [
        "### Grading\n",
        "We will create a grader instance below and use it to collect your answers. Note that these outputs will be stored locally inside grader and will be uploaded to platform only after running submitting function in the last part of this assignment. If you want to make partial submission, you can run that cell any time you want."
      ]
    },
    {
      "cell_type": "code",
      "metadata": {
        "id": "884ccTwF1-38",
        "colab_type": "code",
        "colab": {}
      },
      "source": [
        "from grader import Grader"
      ],
      "execution_count": 2,
      "outputs": []
    },
    {
      "cell_type": "code",
      "metadata": {
        "id": "5Mcj4_xM1-4D",
        "colab_type": "code",
        "colab": {}
      },
      "source": [
        "grader = Grader()"
      ],
      "execution_count": 3,
      "outputs": []
    },
    {
      "cell_type": "markdown",
      "metadata": {
        "id": "E-ZWLss_1-4L",
        "colab_type": "text"
      },
      "source": [
        "### Text preprocessing"
      ]
    },
    {
      "cell_type": "markdown",
      "metadata": {
        "id": "Epx6lFZ21-4M",
        "colab_type": "text"
      },
      "source": [
        "For this and most of the following assignments you will need to use a list of stop words. It can be downloaded from *nltk*:"
      ]
    },
    {
      "cell_type": "code",
      "metadata": {
        "id": "VDFvmL1U1-4O",
        "colab_type": "code",
        "colab": {
          "base_uri": "https://localhost:8080/",
          "height": 51
        },
        "outputId": "08418de0-41c2-41b3-a703-829caee7ed1e"
      },
      "source": [
        "import nltk\n",
        "nltk.download('stopwords')\n",
        "from nltk.corpus import stopwords"
      ],
      "execution_count": 4,
      "outputs": [
        {
          "output_type": "stream",
          "text": [
            "[nltk_data] Downloading package stopwords to /root/nltk_data...\n",
            "[nltk_data]   Unzipping corpora/stopwords.zip.\n"
          ],
          "name": "stderr"
        }
      ]
    },
    {
      "cell_type": "markdown",
      "metadata": {
        "id": "9NYUXdL61-4V",
        "colab_type": "text"
      },
      "source": [
        "In this task you will deal with a dataset of post titles from StackOverflow. You are provided a split to 3 sets: *train*, *validation* and *test*. All corpora (except for *test*) contain titles of the posts and corresponding tags (100 tags are available). The *test* set is provided for Coursera's grading and doesn't contain answers. Upload the corpora using *pandas* and look at the data:"
      ]
    },
    {
      "cell_type": "code",
      "metadata": {
        "id": "uxyxhV6P1-4W",
        "colab_type": "code",
        "colab": {}
      },
      "source": [
        "from ast import literal_eval\n",
        "import pandas as pd\n",
        "import numpy as np"
      ],
      "execution_count": 5,
      "outputs": []
    },
    {
      "cell_type": "code",
      "metadata": {
        "id": "CSRtebbR1-4h",
        "colab_type": "code",
        "colab": {}
      },
      "source": [
        "def read_data(filename):\n",
        "    data = pd.read_csv(filename, sep='\\t')\n",
        "    data['tags'] = data['tags'].apply(literal_eval)\n",
        "    return data"
      ],
      "execution_count": 6,
      "outputs": []
    },
    {
      "cell_type": "code",
      "metadata": {
        "id": "oyUunSS91-4q",
        "colab_type": "code",
        "colab": {}
      },
      "source": [
        "train = read_data('data/train.tsv')\n",
        "validation = read_data('data/validation.tsv')\n",
        "test = pd.read_csv('data/test.tsv', sep='\\t')"
      ],
      "execution_count": 7,
      "outputs": []
    },
    {
      "cell_type": "code",
      "metadata": {
        "id": "5KUCO42p1-4u",
        "colab_type": "code",
        "colab": {
          "base_uri": "https://localhost:8080/",
          "height": 204
        },
        "outputId": "6c517671-dd5b-44d7-c945-ca1233cdbf00"
      },
      "source": [
        "train.head()"
      ],
      "execution_count": 8,
      "outputs": [
        {
          "output_type": "execute_result",
          "data": {
            "text/html": [
              "<div>\n",
              "<style scoped>\n",
              "    .dataframe tbody tr th:only-of-type {\n",
              "        vertical-align: middle;\n",
              "    }\n",
              "\n",
              "    .dataframe tbody tr th {\n",
              "        vertical-align: top;\n",
              "    }\n",
              "\n",
              "    .dataframe thead th {\n",
              "        text-align: right;\n",
              "    }\n",
              "</style>\n",
              "<table border=\"1\" class=\"dataframe\">\n",
              "  <thead>\n",
              "    <tr style=\"text-align: right;\">\n",
              "      <th></th>\n",
              "      <th>title</th>\n",
              "      <th>tags</th>\n",
              "    </tr>\n",
              "  </thead>\n",
              "  <tbody>\n",
              "    <tr>\n",
              "      <th>0</th>\n",
              "      <td>How to draw a stacked dotplot in R?</td>\n",
              "      <td>[r]</td>\n",
              "    </tr>\n",
              "    <tr>\n",
              "      <th>1</th>\n",
              "      <td>mysql select all records where a datetime fiel...</td>\n",
              "      <td>[php, mysql]</td>\n",
              "    </tr>\n",
              "    <tr>\n",
              "      <th>2</th>\n",
              "      <td>How to terminate windows phone 8.1 app</td>\n",
              "      <td>[c#]</td>\n",
              "    </tr>\n",
              "    <tr>\n",
              "      <th>3</th>\n",
              "      <td>get current time in a specific country via jquery</td>\n",
              "      <td>[javascript, jquery]</td>\n",
              "    </tr>\n",
              "    <tr>\n",
              "      <th>4</th>\n",
              "      <td>Configuring Tomcat to Use SSL</td>\n",
              "      <td>[java]</td>\n",
              "    </tr>\n",
              "  </tbody>\n",
              "</table>\n",
              "</div>"
            ],
            "text/plain": [
              "                                               title                  tags\n",
              "0                How to draw a stacked dotplot in R?                   [r]\n",
              "1  mysql select all records where a datetime fiel...          [php, mysql]\n",
              "2             How to terminate windows phone 8.1 app                  [c#]\n",
              "3  get current time in a specific country via jquery  [javascript, jquery]\n",
              "4                      Configuring Tomcat to Use SSL                [java]"
            ]
          },
          "metadata": {
            "tags": []
          },
          "execution_count": 8
        }
      ]
    },
    {
      "cell_type": "markdown",
      "metadata": {
        "id": "BKv-lgEv1-4z",
        "colab_type": "text"
      },
      "source": [
        "As you can see, *title* column contains titles of the posts and *tags* column contains the tags. It could be noticed that a number of tags for a post is not fixed and could be as many as necessary."
      ]
    },
    {
      "cell_type": "markdown",
      "metadata": {
        "id": "vsRfEX441-40",
        "colab_type": "text"
      },
      "source": [
        "For a more comfortable usage, initialize *X_train*, *X_val*, *X_test*, *y_train*, *y_val*."
      ]
    },
    {
      "cell_type": "code",
      "metadata": {
        "id": "8oQbRa4g1-42",
        "colab_type": "code",
        "colab": {}
      },
      "source": [
        "X_train, y_train = train['title'].values, train['tags'].values\n",
        "X_val, y_val = validation['title'].values, validation['tags'].values\n",
        "X_test = test['title'].values"
      ],
      "execution_count": 9,
      "outputs": []
    },
    {
      "cell_type": "markdown",
      "metadata": {
        "id": "QGWgMxig1-5B",
        "colab_type": "text"
      },
      "source": [
        "One of the most known difficulties when working with natural data is that it's unstructured. For example, if you use it \"as is\" and extract tokens just by splitting the titles by whitespaces, you will see that there are many \"weird\" tokens like *3.5?*, *\"Flip*, etc. To prevent the problems, it's usually useful to prepare the data somehow. In this task you'll write a function, which will be also used in the other assignments. \n",
        "\n",
        "**Task 1 (TextPrepare).** Implement the function *text_prepare* following the instructions. After that, run the function *test_text_prepare* to test it on tiny cases and submit it to Coursera."
      ]
    },
    {
      "cell_type": "code",
      "metadata": {
        "id": "wkD4-oSd1-5C",
        "colab_type": "code",
        "colab": {}
      },
      "source": [
        "import re\n"
      ],
      "execution_count": 10,
      "outputs": []
    },
    {
      "cell_type": "code",
      "metadata": {
        "id": "6wRVdWJI1-5G",
        "colab_type": "code",
        "colab": {}
      },
      "source": [
        "REPLACE_BY_SPACE_RE = re.compile('[/(){}\\[\\]\\|@,;]')\n",
        "BAD_SYMBOLS_RE = re.compile('[^0-9a-z #+_]')\n",
        "STOPWORDS = set(stopwords.words('english'))\n",
        "\n",
        "def text_prepare(text):\n",
        "    \"\"\"\n",
        "        text: a string\n",
        "        \n",
        "        return: modified initial string\n",
        "    \"\"\"\n",
        "    # lowercase text\n",
        "    text = text.lower()\n",
        "    # replace REPLACE_BY_SPACE_RE symbols by space in text\n",
        "    text = re.sub(REPLACE_BY_SPACE_RE, \" \", text)\n",
        "    # delete symbols which are in BAD_SYMBOLS_RE from text\n",
        "    text = re.sub(BAD_SYMBOLS_RE, \"\", text)\n",
        "    tokenizer = nltk.tokenize.WhitespaceTokenizer()\n",
        "    text_tokens = tokenizer.tokenize(text)\n",
        "    text_wo_sw = [word for word in text_tokens if not word in STOPWORDS]\n",
        "    text = (\" \").join(text_wo_sw)    \n",
        "    return text"
      ],
      "execution_count": 11,
      "outputs": []
    },
    {
      "cell_type": "code",
      "metadata": {
        "id": "eiibJXlg1-5K",
        "colab_type": "code",
        "colab": {}
      },
      "source": [
        "def test_text_prepare():\n",
        "    examples = [\"SQL Server - any equivalent of Excel's CHOOSE function?\",\n",
        "                \"How to free c++ memory vector<int> * arr?\"]\n",
        "    answers = [\"sql server equivalent excels choose function\", \n",
        "               \"free c++ memory vectorint arr\"]\n",
        "    for ex, ans in zip(examples, answers):\n",
        "        if text_prepare(ex) != ans:\n",
        "            return \"Wrong answer for the case: '%s'\" % ex\n",
        "    return 'Basic tests are passed.'"
      ],
      "execution_count": 12,
      "outputs": []
    },
    {
      "cell_type": "code",
      "metadata": {
        "id": "YA4ug5ZQ1-5Q",
        "colab_type": "code",
        "colab": {
          "base_uri": "https://localhost:8080/",
          "height": 34
        },
        "outputId": "c5471c28-9157-4738-d0e4-5fa677914660"
      },
      "source": [
        "print(test_text_prepare())"
      ],
      "execution_count": 13,
      "outputs": [
        {
          "output_type": "stream",
          "text": [
            "Basic tests are passed.\n"
          ],
          "name": "stdout"
        }
      ]
    },
    {
      "cell_type": "markdown",
      "metadata": {
        "id": "RO4YrIN41-5Y",
        "colab_type": "text"
      },
      "source": [
        "Run your implementation for questions from file *text_prepare_tests.tsv* to earn the points."
      ]
    },
    {
      "cell_type": "code",
      "metadata": {
        "id": "kj6dJFCh1-5Y",
        "colab_type": "code",
        "colab": {
          "base_uri": "https://localhost:8080/",
          "height": 102
        },
        "outputId": "71720631-71f0-417d-b8b0-90c1ddab091c"
      },
      "source": [
        "prepared_questions = []\n",
        "for line in open('data/text_prepare_tests.tsv', encoding='utf-8'):\n",
        "    line = text_prepare(line.strip())\n",
        "    prepared_questions.append(line)\n",
        "text_prepare_results = '\\n'.join(prepared_questions)\n",
        "\n",
        "grader.submit_tag('TextPrepare', text_prepare_results)"
      ],
      "execution_count": 14,
      "outputs": [
        {
          "output_type": "stream",
          "text": [
            "Current answer for task TextPrepare is:\n",
            " sqlite php readonly\n",
            "creating multiple textboxes dynamically\n",
            "self one prefer javascript\n",
            "save php date...\n"
          ],
          "name": "stdout"
        }
      ]
    },
    {
      "cell_type": "markdown",
      "metadata": {
        "id": "yT7LQAhg1-5e",
        "colab_type": "text"
      },
      "source": [
        "Now we can preprocess the titles using function *text_prepare* and  making sure that the headers don't have bad symbols:"
      ]
    },
    {
      "cell_type": "code",
      "metadata": {
        "id": "_6obwnJ41-5h",
        "colab_type": "code",
        "colab": {}
      },
      "source": [
        "X_train = [text_prepare(x) for x in X_train]\n",
        "X_val = [text_prepare(x) for x in X_val]\n",
        "X_test = [text_prepare(x) for x in X_test]"
      ],
      "execution_count": 15,
      "outputs": []
    },
    {
      "cell_type": "code",
      "metadata": {
        "id": "Wu9D9eNJ1-5p",
        "colab_type": "code",
        "colab": {
          "base_uri": "https://localhost:8080/",
          "height": 68
        },
        "outputId": "8df85830-c498-4449-ceaf-aa2f62955550"
      },
      "source": [
        "X_train[:3]"
      ],
      "execution_count": 16,
      "outputs": [
        {
          "output_type": "execute_result",
          "data": {
            "text/plain": [
              "['draw stacked dotplot r',\n",
              " 'mysql select records datetime field less specified value',\n",
              " 'terminate windows phone 81 app']"
            ]
          },
          "metadata": {
            "tags": []
          },
          "execution_count": 16
        }
      ]
    },
    {
      "cell_type": "markdown",
      "metadata": {
        "id": "THPU8wH51-5y",
        "colab_type": "text"
      },
      "source": [
        "For each tag and for each word calculate how many times they occur in the train corpus. \n",
        "\n",
        "**Task 2 (WordsTagsCount).** Find 3 most popular tags and 3 most popular words in the train data and submit the results to earn the points."
      ]
    },
    {
      "cell_type": "code",
      "metadata": {
        "id": "47GZHk6o1-5z",
        "colab_type": "code",
        "colab": {}
      },
      "source": [
        "# Dictionary of all tags from train corpus with their counts.\n",
        "tags_counts = {}\n",
        "# Dictionary of all words from train corpus with their counts.\n",
        "words_counts = {}\n",
        "for tags in y_train:\n",
        "  for tag in tags:\n",
        "    if tag not in tags_counts.keys():\n",
        "      tags_counts[tag] = 1\n",
        "    else:\n",
        "      tags_counts[tag] = tags_counts[tag]+1  \n",
        "for line in X_train:\n",
        "  text_tokens = line.split()\n",
        "  for token in text_tokens:\n",
        "    if token not in words_counts.keys():\n",
        "      words_counts[token] = 1\n",
        "    else:\n",
        "      words_counts[token] = words_counts[token]+1        "
      ],
      "execution_count": 18,
      "outputs": []
    },
    {
      "cell_type": "markdown",
      "metadata": {
        "id": "nvFSucU-1-53",
        "colab_type": "text"
      },
      "source": [
        "We are assuming that *tags_counts* and *words_counts* are dictionaries like `{'some_word_or_tag': frequency}`. After applying the sorting procedure, results will be look like this: `[('most_popular_word_or_tag', frequency), ('less_popular_word_or_tag', frequency), ...]`. The grader gets the results in the following format (two comma-separated strings with line break):\n",
        "\n",
        "    tag1,tag2,tag3\n",
        "    word1,word2,word3\n",
        "\n",
        "Pay attention that in this assignment you should not submit frequencies or some additional information."
      ]
    },
    {
      "cell_type": "code",
      "metadata": {
        "id": "p5cRPydA1-54",
        "colab_type": "code",
        "colab": {
          "base_uri": "https://localhost:8080/",
          "height": 68
        },
        "outputId": "0338c78f-8fb4-49d7-85e2-5824bc98989b"
      },
      "source": [
        "most_common_tags = sorted(tags_counts.items(), key=lambda x: x[1], reverse=True)[:3]\n",
        "most_common_words = sorted(words_counts.items(), key=lambda x: x[1], reverse=True)[:3]\n",
        "\n",
        "grader.submit_tag('WordsTagsCount', '%s\\n%s' % (','.join(tag for tag, _ in most_common_tags), \n",
        "                                                ','.join(word for word, _ in most_common_words)))"
      ],
      "execution_count": 19,
      "outputs": [
        {
          "output_type": "stream",
          "text": [
            "Current answer for task WordsTagsCount is:\n",
            " javascript,c#,java\n",
            "using,php,java...\n"
          ],
          "name": "stdout"
        }
      ]
    },
    {
      "cell_type": "markdown",
      "metadata": {
        "id": "wTotp3nu1-5-",
        "colab_type": "text"
      },
      "source": [
        "### Transforming text to a vector\n",
        "\n",
        "Machine Learning algorithms work with numeric data and we cannot use the provided text data \"as is\". There are many ways to transform text data to numeric vectors. In this task you will try to use two of them.\n",
        "\n",
        "#### Bag of words\n",
        "\n",
        "One of the well-known approaches is a *bag-of-words* representation. To create this transformation, follow the steps:\n",
        "1. Find *N* most popular words in train corpus and numerate them. Now we have a dictionary of the most popular words.\n",
        "2. For each title in the corpora create a zero vector with the dimension equals to *N*.\n",
        "3. For each text in the corpora iterate over words which are in the dictionary and increase by 1 the corresponding coordinate.\n",
        "\n",
        "Let's try to do it for a toy example. Imagine that we have *N* = 4 and the list of the most popular words is \n",
        "\n",
        "    ['hi', 'you', 'me', 'are']\n",
        "\n",
        "Then we need to numerate them, for example, like this: \n",
        "\n",
        "    {'hi': 0, 'you': 1, 'me': 2, 'are': 3}\n",
        "\n",
        "And we have the text, which we want to transform to the vector:\n",
        "\n",
        "    'hi how are you'\n",
        "\n",
        "For this text we create a corresponding zero vector \n",
        "\n",
        "    [0, 0, 0, 0]\n",
        "    \n",
        "And iterate over all words, and if the word is in the dictionary, we increase the value of the corresponding position in the vector:\n",
        "\n",
        "    'hi':  [1, 0, 0, 0]\n",
        "    'how': [1, 0, 0, 0] # word 'how' is not in our dictionary\n",
        "    'are': [1, 0, 0, 1]\n",
        "    'you': [1, 1, 0, 1]\n",
        "\n",
        "The resulting vector will be \n",
        "\n",
        "    [1, 1, 0, 1]\n",
        "   \n",
        "Implement the described encoding in the function *my_bag_of_words* with the size of the dictionary equals to 5000. To find the most common words use train data. You can test your code using the function *test_my_bag_of_words*."
      ]
    },
    {
      "cell_type": "code",
      "metadata": {
        "id": "pXE_20DA1-5_",
        "colab_type": "code",
        "colab": {
          "base_uri": "https://localhost:8080/",
          "height": 54
        },
        "outputId": "41e54bb5-bff1-4953-fe47-ea718b7b73c0"
      },
      "source": [
        "DICT_SIZE = 5000\n",
        "i=0\n",
        "WORDS_TO_INDEX={}\n",
        "for word,freq in sorted(words_counts.items(), key=lambda x: x[1], reverse=True)[:DICT_SIZE]:\n",
        "  WORDS_TO_INDEX[word] = i\n",
        "  i= i + 1\n",
        "#WORDS_TO_INDEX = ####### YOUR CODE HERE #######\n",
        "#INDEX_TO_WORDS = ####### YOUR CODE HERE #######\n",
        "ALL_WORDS = WORDS_TO_INDEX.keys()\n",
        "print(WORDS_TO_INDEX)\n",
        "def my_bag_of_words(text, words_to_index, dict_size):\n",
        "    \"\"\"\n",
        "        text: a string\n",
        "        dict_size: size of the dictionary\n",
        "        \n",
        "        return a vector which is a bag-of-words representation of 'text'\n",
        "    \"\"\"\n",
        "    result_vector = np.zeros(dict_size)\n",
        "    tokens = text.split()\n",
        "    for word in tokens:\n",
        "      if word in words_to_index.keys():\n",
        "        \n",
        "        result_vector[words_to_index[word]] = result_vector[words_to_index[word]] + 1\n",
        "    ######################################\n",
        "    ######### YOUR CODE HERE #############\n",
        "    ######################################\n",
        "    return result_vector"
      ],
      "execution_count": 90,
      "outputs": [
        {
          "output_type": "stream",
          "text": [
            "{'using': 0, 'php': 1, 'java': 2, 'file': 3, 'javascript': 4, 'error': 5, 'get': 6, 'c#': 7, 'python': 8, 'string': 9, 'array': 10, 'data': 11, 'jquery': 12, 'value': 13, 'function': 14, 'object': 15, 'class': 16, 'use': 17, 'c++': 18, 'list': 19, 'method': 20, 'multiple': 21, 'text': 22, 'image': 23, 'page': 24, 'rails': 25, 'form': 26, 'create': 27, 'html': 28, 'type': 29, 'code': 30, 'set': 31, 'working': 32, 'database': 33, 'add': 34, 'convert': 35, 'mysql': 36, 'json': 37, 'c': 38, 'server': 39, 'variable': 40, 'android': 41, 'values': 42, 'aspnet': 43, 'way': 44, 'application': 45, 'change': 46, 'button': 47, 'find': 48, 'django': 49, 'one': 50, 'without': 51, 'windows': 52, 'cannot': 53, 'table': 54, 'call': 55, 'files': 56, 'ajax': 57, 'check': 58, 'time': 59, 'name': 60, 'two': 61, 'ruby': 62, 'getting': 63, 'date': 64, 'web': 65, 'make': 66, 'input': 67, 'user': 68, 'xml': 69, 'app': 70, 'another': 71, 'element': 72, 'custom': 73, 'event': 74, 'api': 75, 'access': 76, 'url': 77, 'number': 78, 'spring': 79, 'view': 80, 'sql': 81, 'return': 82, 'mvc': 83, 'select': 84, 'google': 85, 'query': 86, 'inside': 87, 'exception': 88, 'display': 89, 'column': 90, 'read': 91, 'loop': 92, 'swift': 93, 'new': 94, 'work': 95, 'remove': 96, 'load': 97, 'r': 98, 'objects': 99, 'property': 100, 'line': 101, 'cant': 102, 'pass': 103, 'click': 104, 'framework': 105, 'update': 106, 'script': 107, 'vs': 108, 'post': 109, 'null': 110, '2': 111, 'creating': 112, 'net': 113, 'request': 114, 'different': 115, 'field': 116, 'key': 117, 'run': 118, 'row': 119, 'doesnt': 120, 'ios': 121, 'service': 122, 'linq': 123, 'div': 124, 'open': 125, 'window': 126, 'project': 127, 'wpf': 128, 'format': 129, 'best': 130, 'show': 131, 'controller': 132, 'variables': 133, 'undefined': 134, 'specific': 135, 'dynamically': 136, 'adding': 137, 'based': 138, 'angularjs': 139, 'control': 140, 'parameter': 141, 'send': 142, 'model': 143, '3': 144, 'library': 145, 'difference': 146, 'insert': 147, 'first': 148, 'passing': 149, 'vbnet': 150, 'js': 151, 'regex': 152, 'elements': 153, 'codeigniter': 154, 'eclipse': 155, 'within': 156, 'path': 157, 'dynamic': 158, 'visual': 159, 'memory': 160, 'connection': 161, 'possible': 162, 'id': 163, 'thread': 164, 'save': 165, 'default': 166, 'via': 167, '+': 168, 'running': 169, 'size': 170, 'program': 171, 'found': 172, 'content': 173, 'reference': 174, 'issue': 175, 'attribute': 176, 'write': 177, 'studio': 178, 'laravel': 179, 'search': 180, 'test': 181, 'excel': 182, 'static': 183, 'session': 184, 'output': 185, 'http': 186, 'character': 187, 'characters': 188, 'entity': 189, 'current': 190, 'problem': 191, 'client': 192, 'calling': 193, 'empty': 194, 'simple': 195, 'int': 196, 'css': 197, 'parameters': 198, 'upload': 199, 'command': 200, 'reading': 201, 'directory': 202, 'validation': 203, '1': 204, 'map': 205, 'hibernate': 206, 'selected': 207, 'textbox': 208, 'unable': 209, 'browser': 210, 'images': 211, 'item': 212, 'link': 213, 'index': 214, 'facebook': 215, 'expression': 216, 'store': 217, 'setting': 218, 'delete': 219, 'single': 220, 'template': 221, 'like': 222, 'statement': 223, 'strings': 224, 'rows': 225, 'failed': 226, 'header': 227, 'replace': 228, 'loading': 229, 'login': 230, 'box': 231, 'iphone': 232, '4': 233, 'numbers': 234, 'color': 235, 'nested': 236, 'returning': 237, 'print': 238, 'instance': 239, 'background': 240, 'pdf': 241, 'char': 242, 'parse': 243, 'could': 244, 'disable': 245, 'bootstrap': 246, 'message': 247, 'csv': 248, 'module': 249, 'tag': 250, 'chrome': 251, 'converting': 252, 'x': 253, 'parent': 254, 'invalid': 255, 'returns': 256, 'local': 257, 'methods': 258, 'need': 259, 'connect': 260, 'email': 261, 'changing': 262, 'trying': 263, 'response': 264, 'functions': 265, 'install': 266, 'redirect': 267, 'angular': 268, 'order': 269, 'dictionary': 270, 'arrays': 271, 'dropdown': 272, 'classes': 273, 'folder': 274, 'generate': 275, 'bar': 276, 'submit': 277, 'pandas': 278, 'process': 279, 'columns': 280, 'child': 281, 'source': 282, 'checkbox': 283, 'integer': 284, 'count': 285, 'sending': 286, 'parsing': 287, 'items': 288, 'start': 289, 'detect': 290, 'double': 291, 'datetime': 292, 'hide': 293, 'fields': 294, 'jsp': 295, 'console': 296, 'gridview': 297, 'pointer': 298, 'selenium': 299, 'linux': 300, 'constructor': 301, 'import': 302, 'random': 303, '7': 304, 'programmatically': 305, 'action': 306, 'collection': 307, 'instead': 308, 'version': 309, 'datagridview': 310, 'filter': 311, 'sort': 312, 'objectivec': 313, 'website': 314, 'generic': 315, 'last': 316, 'result': 317, 'build': 318, 'system': 319, 'download': 320, 'split': 321, 'properties': 322, 'interface': 323, 'iframe': 324, 'back': 325, 'nodejs': 326, 'cell': 327, 'binding': 328, 'arguments': 329, 'datatable': 330, '5': 331, 'syntax': 332, 'xcode': 333, 'scroll': 334, 'onclick': 335, 'binary': 336, 'external': 337, 'position': 338, 'execute': 339, '0': 340, 'socket': 341, 'rest': 342, 'called': 343, 'missing': 344, 'word': 345, 'maps': 346, 'implement': 347, 'typeerror': 348, 'byte': 349, 'whats': 350, 'extension': 351, 'copy': 352, 'refresh': 353, 'video': 354, 'menu': 355, 'match': 356, 'given': 357, 'argument': 358, 'node': 359, 'wordpress': 360, 'include': 361, 'retrieve': 362, 'regular': 363, 'accessing': 364, 'forms': 365, 'canvas': 366, 'showing': 367, 'document': 368, 'results': 369, 'ui': 370, 'runtime': 371, 'arraylist': 372, 'defined': 373, 'handle': 374, 'drop': 375, 'group': 376, 'apache': 377, 'errors': 378, 'large': 379, 'opencv': 380, 'height': 381, 'compare': 382, 'wcf': 383, 'address': 384, 'ie': 385, 'mobile': 386, 'many': 387, 'properly': 388, 'member': 389, 'equivalent': 390, '8': 391, 'screen': 392, 'exists': 393, 'global': 394, 'plugin': 395, 'password': 396, 'expected': 397, 'vector': 398, 'events': 399, 'jar': 400, 'maven': 401, 'length': 402, 'location': 403, 'writing': 404, 'types': 405, 'numpy': 406, 'servlet': 407, 'html5': 408, 'extract': 409, 'width': 410, 'stored': 411, 'close': 412, 'dataframe': 413, 'dialog': 414, 'certain': 415, 'help': 416, 'used': 417, 'range': 418, 'style': 419, 'names': 420, 'handling': 421, 'prevent': 422, 'automatically': 423, 'works': 424, 'resource': 425, 'magento': 426, 'every': 427, 'tomcat': 428, 'fails': 429, 'cast': 430, 'created': 431, 'pattern': 432, 'warning': 433, 'frame': 434, 'popup': 435, 'wrong': 436, 'contains': 437, 'validate': 438, 'displaying': 439, 'enum': 440, 'updating': 441, 'qt': 442, 'curl': 443, 'package': 444, 'stop': 445, 'must': 446, 'testing': 447, 'listview': 448, 'operator': 449, '2d': 450, 'space': 451, 'put': 452, 'authentication': 453, 'context': 454, 'conversion': 455, 'keys': 456, 'auto': 457, 'structure': 458, 'callback': 459, 'main': 460, 'saving': 461, 'token': 462, 'end': 463, 'exist': 464, 'long': 465, 'tab': 466, 'db': 467, 'problems': 468, 'foreach': 469, 'existing': 470, 'dll': 471, 'always': 472, 'block': 473, 'sorting': 474, 'grid': 475, 'finding': 476, 'matplotlib': 477, 'remote': 478, 'sqlite': 479, 'buttons': 480, 'option': 481, 'bind': 482, 'determine': 483, 'modal': 484, 'firefox': 485, 'stream': 486, 'performance': 487, 'tags': 488, 'label': 489, 'plot': 490, 'mac': 491, 'join': 492, 'decimal': 493, 'combobox': 494, 'uncaught': 495, 'phone': 496, 'radio': 497, 'example': 498, 'chart': 499, 'compile': 500, 'unexpected': 501, 'attributes': 502, 'dom': 503, 'checking': 504, 'correctly': 505, 'right': 506, 'tables': 507, 'point': 508, 'installing': 509, 'lines': 510, 'base': 511, 'mouse': 512, 'float': 513, 'users': 514, 'basic': 515, 'support': 516, 'struct': 517, 'tree': 518, 'making': 519, 'unit': 520, 'unique': 521, 'scope': 522, 'threads': 523, 'correct': 524, 'hash': 525, 'duplicate': 526, 'catch': 527, 'next': 528, 'handler': 529, 'mean': 530, 'already': 531, 'wont': 532, 'even': 533, 'good': 534, 'edit': 535, 'task': 536, 'admin': 537, 'uitableview': 538, 'removing': 539, 'matrix': 540, 'namespace': 541, 'contents': 542, 'pages': 543, 'valid': 544, 'graph': 545, 'dates': 546, 'lists': 547, 'sdk': 548, 'log': 549, 'encoding': 550, 'const': 551, 'debug': 552, 'objective': 553, 'case': 554, 'calculate': 555, 'changes': 556, 'site': 557, 'programming': 558, 'configuration': 559, 'storing': 560, 'side': 561, 'active': 562, 'sum': 563, 'full': 564, 'limit': 565, 'keep': 566, 'jpa': 567, 'top': 568, 'listbox': 569, 'implementation': 570, 'animation': 571, 'unicode': 572, 'append': 573, 'override': 574, 'printing': 575, 'mongodb': 576, 'twitter': 577, 'allow': 578, 'record': 579, 'winforms': 580, 'part': 581, 'resize': 582, 'utf8': 583, 'core': 584, 'lambda': 585, 'loaded': 586, 'mail': 587, 'ip': 588, 'security': 589, 'controls': 590, 'play': 591, 'times': 592, 'pdo': 593, 'layout': 594, 'selection': 595, 'async': 596, 'fatal': 597, 'game': 598, 'records': 599, 'bean': 600, 'language': 601, 'boolean': 602, 'webdriver': 603, 'cookie': 604, 'draw': 605, 'constant': 606, 'switch': 607, 'outside': 608, 'cakephp': 609, 'domain': 610, 'gui': 611, 'force': 612, 'unknown': 613, 'true': 614, 'inserting': 615, 'assign': 616, 'wait': 617, 'port': 618, 'false': 619, 'mode': 620, '20': 621, 'slow': 622, 'named': 623, 'state': 624, 'focus': 625, 'oracle': 626, 'issues': 627, 'requests': 628, 'mapping': 629, 'netbeans': 630, 'available': 631, 'condition': 632, 'multidimensional': 633, 'enable': 634, 'generated': 635, 'ubuntu': 636, 'assembly': 637, 'jdbc': 638, 'uploading': 639, 'clicked': 640, 'device': 641, 'gem': 642, 'populate': 643, 'yii': 644, 'specified': 645, 'swing': 646, 'soap': 647, 'required': 648, 'special': 649, 'engine': 650, 'initialize': 651, 'checked': 652, 'exceptions': 653, '2010': 654, 'executing': 655, 'know': 656, 'network': 657, 'bad': 658, 'native': 659, 'avoid': 660, 'tkinter': 661, 'javafx': 662, 'try': 663, 'design': 664, '6': 665, 'timeout': 666, 'month': 667, 'export': 668, 'webservice': 669, 'efficient': 670, 'trigger': 671, 'n': 672, 'want': 673, '404': 674, 'heroku': 675, 'move': 676, 'question': 677, 'os': 678, 'component': 679, 'timer': 680, 'dont': 681, 'iterate': 682, 'stack': 683, '10': 684, 'zend': 685, 'words': 686, 'body': 687, 'textarea': 688, 'views': 689, 'implementing': 690, 'compiler': 691, 'clicking': 692, 'linked': 693, 'symbol': 694, 'clear': 695, 'render': 696, 'flask': 697, 'root': 698, 'navigation': 699, 'symfony2': 700, 'second': 701, 'define': 702, 'datagrid': 703, 'pointers': 704, 'fill': 705, 'ssl': 706, 'inheritance': 707, 'private': 708, 'route': 709, 'procedure': 710, 'particular': 711, 'rspec': 712, 'information': 713, 'left': 714, 'scrolling': 715, 'declaration': 716, 'status': 717, 'behind': 718, 'bytes': 719, 'fetch': 720, 'fix': 721, 'services': 722, 'calendar': 723, 'reflection': 724, 'push': 725, 'spaces': 726, 'algorithm': 727, 'xpath': 728, 'alert': 729, 'apply': 730, 'cache': 731, 'integers': 732, 'youtube': 733, 'development': 734, 'calls': 735, 'dependency': 736, 'options': 737, 'maximum': 738, 'hex': 739, 'max': 740, 'https': 741, 'usage': 742, 'progress': 743, 'target': 744, 'previous': 745, 'environment': 746, 'models': 747, 'merge': 748, 'title': 749, 'practice': 750, 'internet': 751, 'comparing': 752, 'changed': 753, 'headers': 754, 'notification': 755, 'driver': 756, 'libraries': 757, 'boost': 758, 'matching': 759, 'apps': 760, 'statements': 761, 'panel': 762, 'symfony': 763, 'shared': 764, 'font': 765, 'opengl': 766, 'tests': 767, 'processing': 768, 'comma': 769, 'public': 770, 'xaml': 771, 'installed': 772, 'datepicker': 773, 'separate': 774, 'standard': 775, 'icon': 776, 'resources': 777, 'directive': 778, 'report': 779, 'abstract': 780, 'links': 781, 'htaccess': 782, 'better': 783, 'hidden': 784, 'container': 785, 'serialize': 786, 'debugging': 787, 'logging': 788, 'would': 789, 'asp': 790, 'resolve': 791, 'autocomplete': 792, 'junit': 793, 'configure': 794, 'ggplot2': 795, 'react': 796, 'see': 797, 'hashmap': 798, 'partial': 799, 'alternative': 800, 'queries': 801, 'selecting': 802, 'visible': 803, 'echo': 804, 'messages': 805, 'returned': 806, 'throws': 807, 'devise': 808, 'something': 809, 'keyboard': 810, 'proxy': 811, 'svg': 812, 'checkboxes': 813, 'declare': 814, 'generating': 815, 'denied': 816, 'take': 817, 'jtable': 818, 'whether': 819, 'coordinates': 820, 'escape': 821, 'operation': 822, 'quotes': 823, 'causes': 824, 'virtual': 825, 'formatting': 826, 'extjs': 827, 'day': 828, 'drag': 829, 'jsf': 830, 'reload': 831, 'drawing': 832, 'setup': 833, 'contain': 834, 'shell': 835, 'product': 836, 'dataset': 837, 'intellij': 838, 'machine': 839, 'delegate': 840, 'webpage': 841, 'entities': 842, 'rendering': 843, 'queue': 844, 'strange': 845, 'phonegap': 846, 'containing': 847, 'cells': 848, 'applications': 849, 'twice': 850, 'dropdownlist': 851, 'connecting': 852, 'inline': 853, 'per': 854, 'execution': 855, 'gcc': 856, 'blank': 857, 'relationship': 858, 'uiview': 859, 'level': 860, 'opening': 861, 'ms': 862, 'conditional': 863, 'razor': 864, 'serialization': 865, 'gives': 866, 'widget': 867, 'initialization': 868, 'relative': 869, 'modify': 870, 'safe': 871, 'etc': 872, 'internal': 873, 'nodes': 874, 'jqgrid': 875, 'definition': 876, 'timestamp': 877, 'capture': 878, 'batch': 879, 'importing': 880, 'building': 881, 'retrieving': 882, 'expressions': 883, 'compiling': 884, 'else': 885, 'allowed': 886, 'added': 887, 'still': 888, 'numeric': 889, 'tcp': 890, 'year': 891, 'host': 892, 'sqlalchemy': 893, 'seconds': 894, 'doctrine': 895, 'boot': 896, 'highcharts': 897, 'cookies': 898, 'selector': 899, 'href': 900, 'nsstring': 901, 'foreign': 902, 'jframe': 903, 'jackson': 904, 'starting': 905, 'config': 906, 'annotation': 907, 'embedded': 908, 'fast': 909, 'reset': 910, 'protocol': 911, 'touch': 912, 'injection': 913, 'section': 914, 'firing': 915, 'tabs': 916, 'jaxb': 917, 'webbrowser': 918, 'ascii': 919, 'points': 920, 'closing': 921, 'overriding': 922, 'transaction': 923, 'postgresql': 924, 'trouble': 925, 'hover': 926, 'sharepoint': 927, 'passed': 928, 'labels': 929, 'cursor': 930, 'able': 931, 'gwt': 932, 'recursive': 933, 'specify': 934, 'sequence': 935, 'localhost': 936, 'explorer': 937, 'urls': 938, 'asynchronous': 939, 'assignment': 940, 'replacing': 941, 'deploy': 942, 'fixed': 943, 'webview': 944, 'giving': 945, 'days': 946, 'templates': 947, 'exit': 948, 'fastest': 949, 'base64': 950, 'anchor': 951, 'restful': 952, 'deleting': 953, 'toggle': 954, 'axis': 955, 'nil': 956, 'go': 957, 'v3': 958, 'enter': 959, 'osx': 960, 'proper': 961, 'vb': 962, '500': 963, 'moving': 964, 'digits': 965, 'nhibernate': 966, 'casting': 967, 'ignore': 968, 'stl': 969, 'faster': 970, 'activerecord': 971, 'permission': 972, 'settings': 973, 'pagination': 974, 'mysqli': 975, 'border': 976, 'lock': 977, 'including': 978, 'loops': 979, 'serial': 980, 'declared': 981, 'incorrect': 982, 'caching': 983, 'activity': 984, 'username': 985, 'real': 986, 's3': 987, 'effect': 988, 'sent': 989, 'comparison': 990, 'complex': 991, 'complete': 992, 'safari': 993, 'invoke': 994, 'across': 995, 'uitableviewcell': 996, 'txt': 997, 'void': 998, 'audio': 999, 'programatically': 1000, 'multi': 1001, 'zip': 1002, 'speed': 1003, 'increment': 1004, 'singleton': 1005, 'combine': 1006, 'buffer': 1007, '3d': 1008, 'scripts': 1009, 'modules': 1010, 'equal': 1011, 'place': 1012, 'center': 1013, 'keyword': 1014, 'closed': 1015, 'inner': 1016, 'repository': 1017, 'routing': 1018, 'filtering': 1019, 'integration': 1020, 'iis': 1021, 'break': 1022, 'letter': 1023, 'mock': 1024, 'causing': 1025, 'express': 1026, 'ie8': 1027, 'heap': 1028, 'whole': 1029, 'bundle': 1030, 'mvvm': 1031, 'letters': 1032, 'ant': 1033, 'winform': 1034, 'crash': 1035, '2008': 1036, 'uploaded': 1037, 'poi': 1038, 'substring': 1039, 'bit': 1040, 'identifier': 1041, 'receive': 1042, 'extra': 1043, 'leak': 1044, 'pip': 1045, 'deserialize': 1046, 'src': 1047, 'self': 1048, 'entry': 1049, 'series': 1050, 'following': 1051, 'require': 1052, 'blob': 1053, 'amazon': 1054, 'success': 1055, 'ftp': 1056, 'browsers': 1057, 'shows': 1058, 'free': 1059, 'smtp': 1060, 'isnt': 1061, 'macro': 1062, '2012': 1063, 'share': 1064, 'solution': 1065, 'primary': 1066, 'extracting': 1067, 'camera': 1068, 'flash': 1069, 'communication': 1070, 'rake': 1071, 'generator': 1072, 'controllers': 1073, 'tableview': 1074, 'dependencies': 1075, 'around': 1076, 'failure': 1077, 'storage': 1078, 'listener': 1079, 'exe': 1080, 'generics': 1081, 'microsoft': 1082, 'area': 1083, 'tell': 1084, 'provider': 1085, 'failing': 1086, 'beautifulsoup': 1087, 'marker': 1088, 'cocoa': 1089, 'iterator': 1090, 'secure': 1091, 'parallel': 1092, 'win32': 1093, 'bool': 1094, 'downloading': 1095, 'cross': 1096, 'negative': 1097, 'depending': 1098, 'itextsharp': 1099, 'unity': 1100, 'solve': 1101, 'divs': 1102, 'tutorial': 1103, 'decode': 1104, 'datasource': 1105, 'recursion': 1106, 'directly': 1107, 'scrapy': 1108, 'ipad': 1109, 'sockets': 1110, 'timezone': 1111, 'editor': 1112, 'slider': 1113, 'idea': 1114, 'anonymous': 1115, 'understanding': 1116, 'requires': 1117, 'instances': 1118, 'calculating': 1119, 'com': 1120, 'non': 1121, 'png': 1122, 'give': 1123, 'ggplot': 1124, 'silverlight': 1125, 'behavior': 1126, 'parser': 1127, 'tool': 1128, 'throw': 1129, 'detecting': 1130, 'white': 1131, 'similar': 1132, 'compilation': 1133, 'webapi': 1134, 'iterating': 1135, 'waiting': 1136, 'throwing': 1137, 'jersey': 1138, 'unix': 1139, 'log4j': 1140, 'accept': 1141, 'less': 1142, 'children': 1143, 'executable': 1144, 'clause': 1145, 'applet': 1146, 'needed': 1147, 'perform': 1148, 'tuple': 1149, 'zoom': 1150, '40': 1151, 'appear': 1152, 'reverse': 1153, 'animate': 1154, 'jboss': 1155, 'delay': 1156, 'd3': 1157, 'joomla': 1158, 'installation': 1159, 'typescript': 1160, 'raw': 1161, 'entire': 1162, 'certificate': 1163, 'optional': 1164, 'zero': 1165, 'receiving': 1166, 'gmail': 1167, 'uibutton': 1168, 'rotate': 1169, 'illegal': 1170, 'colors': 1171, 'treeview': 1172, 'copying': 1173, 'takes': 1174, 'extend': 1175, 'big': 1176, 'jpanel': 1177, 'references': 1178, 'filename': 1179, 'turn': 1180, 'primefaces': 1181, 'udp': 1182, 'matches': 1183, 'uri': 1184, 'subclass': 1185, 'embed': 1186, 'gradle': 1187, 'classpath': 1188, 'except': 1189, 'practices': 1190, 'mvc4': 1191, 'searching': 1192, 'drupal': 1193, 'backbonejs': 1194, 'nginx': 1195, 'manually': 1196, 'ckeditor': 1197, 'postback': 1198, 'unsigned': 1199, 'crashes': 1200, 'desktop': 1201, 'supported': 1202, 'tooltip': 1203, 'due': 1204, 'commands': 1205, 'prepared': 1206, 'oauth': 1207, 'bound': 1208, 'duplicates': 1209, '30': 1210, 'datatables': 1211, 'w': 1212, 'jvm': 1213, 'uiscrollview': 1214, 'occurred': 1215, 'connections': 1216, 'encryption': 1217, 'yii2': 1218, 'collections': 1219, 'creation': 1220, 'bottom': 1221, 'mvc3': 1222, 'ngrepeat': 1223, 'ide': 1224, 'minutes': 1225, 'counting': 1226, 'processes': 1227, 'prototype': 1228, 'fit': 1229, 'several': 1230, 'job': 1231, 'sessions': 1232, 'phpunit': 1233, 'tasks': 1234, 'profile': 1235, 'looping': 1236, 'annotations': 1237, 'paypal': 1238, 'equals': 1239, 'projects': 1240, 'blocks': 1241, 'production': 1242, 'img': 1243, 'var': 1244, 'present': 1245, 'bitmap': 1246, 'backbone': 1247, 'prompt': 1248, 'incompatible': 1249, '32': 1250, 'resolved': 1251, 'initializing': 1252, 'automatic': 1253, 'linking': 1254, 'account': 1255, 'usercontrol': 1256, 'comments': 1257, 'exec': 1258, 'textfield': 1259, 'info': 1260, 'infinite': 1261, 'increase': 1262, 'upon': 1263, 'amount': 1264, 'original': 1265, 'operations': 1266, 'separated': 1267, 'rvm': 1268, 'uiwebview': 1269, 'debugger': 1270, 'fragment': 1271, 'together': 1272, 'submitting': 1273, 'related': 1274, 'nullpointerexception': 1275, 'crystal': 1276, 'routes': 1277, 'disabled': 1278, 'websocket': 1279, 'literal': 1280, 'syntaxerror': 1281, 'conditions': 1282, 'derived': 1283, 'common': 1284, 'jsonnet': 1285, 'absolute': 1286, 'places': 1287, 'members': 1288, 'aspx': 1289, 'unhandled': 1290, 'markers': 1291, 'ef': 1292, 'gets': 1293, 'uiimageview': 1294, 'logged': 1295, 'step': 1296, 'small': 1297, 'im': 1298, 'uses': 1299, 'transparent': 1300, 'encode': 1301, 'onchange': 1302, 'offset': 1303, 'behaviour': 1304, 'displayed': 1305, 'horizontal': 1306, 'kendo': 1307, 'inputs': 1308, 'posting': 1309, 'azure': 1310, 'storyboard': 1311, 'ionic': 1312, 'fault': 1313, 'pop': 1314, 'garbage': 1315, 'multithreading': 1316, 'nothing': 1317, 'fail': 1318, 'paths': 1319, 'exactly': 1320, 'hiding': 1321, 'schema': 1322, 'association': 1323, 'instantiate': 1324, 'average': 1325, 'meteor': 1326, 'attributeerror': 1327, '31': 1328, 'builder': 1329, 'entries': 1330, '100': 1331, 'much': 1332, 'resizing': 1333, 'factory': 1334, 'fine': 1335, 'uiimage': 1336, 'vertical': 1337, 'sign': 1338, 'chat': 1339, 'd3js': 1340, 'encoded': 1341, 'td': 1342, 'validating': 1343, 'sorted': 1344, 'jni': 1345, 'deploying': 1346, 'assigning': 1347, 'b': 1348, 'sheet': 1349, 'highlight': 1350, 'xampp': 1351, 'distinct': 1352, 'architecture': 1353, 'li': 1354, 'manager': 1355, 'refreshing': 1356, 'live': 1357, 'updated': 1358, 'ids': 1359, '11': 1360, 'actual': 1361, 'drive': 1362, 'editing': 1363, 'helper': 1364, 'distance': 1365, 'cron': 1366, 'normal': 1367, 'hours': 1368, 'three': 1369, '_post': 1370, 'concatenate': 1371, 'keeping': 1372, 'bug': 1373, 'efficiently': 1374, 'viewmodel': 1375, 'total': 1376, 'deprecated': 1377, 'phpmyadmin': 1378, 'importerror': 1379, 'xamarin': 1380, 'struts': 1381, 'libgdx': 1382, 'params': 1383, 'looking': 1384, 'computer': 1385, 'lazy': 1386, 'mockito': 1387, 'war': 1388, 'repeater': 1389, 'release': 1390, 'lib': 1391, 'breaks': 1392, 'made': 1393, 'uitextfield': 1394, 'firebase': 1395, 'woocommerce': 1396, 'splitting': 1397, 'pairs': 1398, 'printf': 1399, 'transfer': 1400, '81': 1401, 'requested': 1402, 'codebehind': 1403, 'pygame': 1404, 'eval': 1405, 'dict': 1406, 'constraint': 1407, 'nsarray': 1408, 'uilabel': 1409, 'threejs': 1410, 'encrypt': 1411, 'settimeout': 1412, 'span': 1413, 'jdk': 1414, 'struts2': 1415, 'itext': 1416, 'reports': 1417, 'str': 1418, 'category': 1419, 'world': 1420, 'though': 1421, 'anything': 1422, 'orm': 1423, 'initial': 1424, 'hadoop': 1425, 'structs': 1426, 'press': 1427, 'old': 1428, 'thrown': 1429, 'httpclient': 1430, 'scale': 1431, 'threading': 1432, 'actually': 1433, 'management': 1434, 'nsmutablearray': 1435, 'never': 1436, 'generation': 1437, 'exclude': 1438, 'redirecting': 1439, 'fire': 1440, 'components': 1441, 'analytics': 1442, 'packages': 1443, 'sets': 1444, 'rectangle': 1445, 'cause': 1446, '2013': 1447, 'detection': 1448, 'plotting': 1449, 'started': 1450, 'forward': 1451, 'picture': 1452, 'register': 1453, 'platform': 1454, 'devices': 1455, 'referenced': 1456, 'slide': 1457, 'frames': 1458, 'plain': 1459, 'symbols': 1460, 'sub': 1461, 'skip': 1462, 'unrecognized': 1463, 'segmentation': 1464, 'feed': 1465, 'scraping': 1466, 'stdstring': 1467, 'xmlhttprequest': 1468, 'home': 1469, 'details': 1470, 'multiprocessing': 1471, 'converted': 1472, 'sound': 1473, 'pressed': 1474, 'newline': 1475, 'circle': 1476, 'approach': 1477, 'extending': 1478, 'g++': 1479, 'socketio': 1480, 'versions': 1481, 'cpu': 1482, 'charts': 1483, 'done': 1484, 'really': 1485, 'cancel': 1486, 'folders': 1487, 'dimensional': 1488, 'cmake': 1489, 'round': 1490, 'pycharm': 1491, 'histogram': 1492, 'zone': 1493, 'paperclip': 1494, 'ignoring': 1495, 'readonly': 1496, 'final': 1497, 'mfc': 1498, 'media': 1499, 'destroy': 1500, 'weird': 1501, 'got': 1502, 'groups': 1503, 'ie9': 1504, 'inject': 1505, 'easiest': 1506, 'ways': 1507, 'shiny': 1508, 'interfaces': 1509, 'phpexcel': 1510, 'refused': 1511, 'floating': 1512, 'await': 1513, 'picker': 1514, 'gson': 1515, 'restrict': 1516, 'verify': 1517, 'please': 1518, 'rename': 1519, 'violation': 1520, 'vectors': 1521, 'spark': 1522, 'reduce': 1523, 'min': 1524, '64bit': 1525, 'included': 1526, 'tools': 1527, 'least': 1528, 'uiviewcontroller': 1529, 'permissions': 1530, 'populating': 1531, 'migration': 1532, 'initialized': 1533, 'functionality': 1534, 'colour': 1535, '9': 1536, 'odd': 1537, 'overloading': 1538, 'eloquent': 1539, 'runs': 1540, 'disabling': 1541, 'patterns': 1542, 'overlay': 1543, 'hyperlink': 1544, 'wrap': 1545, 'aws': 1546, 'dot': 1547, 'according': 1548, 'malloc': 1549, 'occurrences': 1550, 'taking': 1551, 'swt': 1552, 'clients': 1553, 'wrapper': 1554, 'layer': 1555, 'expects': 1556, 'listt': 1557, 'mp3': 1558, 'knockout': 1559, 'dictionaries': 1560, 'digit': 1561, 'rgb': 1562, 'transition': 1563, 'pyqt': 1564, 'brackets': 1565, 'uninitialized': 1566, 'randomly': 1567, 'nsdictionary': 1568, 'jstl': 1569, 'learn': 1570, '64': 1571, '35': 1572, 'extensions': 1573, 'makefile': 1574, 'ienumerable': 1575, 'pause': 1576, 'differences': 1577, 'beans': 1578, 'explicit': 1579, 'none': 1580, 'easy': 1581, 'may': 1582, 'written': 1583, 'saved': 1584, 'phpmailer': 1585, 'high': 1586, 'exact': 1587, 'ok': 1588, 'inserted': 1589, 'locale': 1590, 'doc': 1591, 'recursively': 1592, 'math': 1593, 'rather': 1594, 'git': 1595, 'signalr': 1596, 'photo': 1597, 'front': 1598, 'everything': 1599, 'scanner': 1600, 'posts': 1601, 'closure': 1602, 'reason': 1603, 'also': 1604, 'received': 1605, 'jenkins': 1606, 'appconfig': 1607, 'hour': 1608, 'confirm': 1609, 'wsdl': 1610, 'unsupported': 1611, 'calculation': 1612, 'preg_match': 1613, 'documents': 1614, 'happens': 1615, 'identity': 1616, 'uicollectionview': 1617, 'appending': 1618, 'learning': 1619, 'precision': 1620, 'signal': 1621, 'registry': 1622, 'counter': 1623, 'week': 1624, 'known': 1625, 'valueerror': 1626, 'lookup': 1627, 'textboxes': 1628, 'localstorage': 1629, 'comment': 1630, 'logic': 1631, 'feature': 1632, 'chars': 1633, 'inherited': 1634, 'glassfish': 1635, 'padding': 1636, 'master': 1637, 'referenceerror': 1638, 'align': 1639, 'lost': 1640, 'additional': 1641, 'prefix': 1642, 'chartjs': 1643, 'restart': 1644, 'c++11': 1645, 'deployment': 1646, 'webconfig': 1647, 'pythons': 1648, 'iteration': 1649, 'percentage': 1650, 'terminal': 1651, 'submission': 1652, 'arduino': 1653, 'merging': 1654, 'online': 1655, 'nonobject': 1656, 'makes': 1657, 'jsoup': 1658, 'pool': 1659, 'constants': 1660, 'implicit': 1661, 'transform': 1662, 'ldap': 1663, '27': 1664, 'optimize': 1665, 'sharing': 1666, 'emails': 1667, 'enums': 1668, 'thumbnail': 1669, 'underscore': 1670, 'beginning': 1671, 'square': 1672, 'postgres': 1673, 'fancybox': 1674, 'pil': 1675, 'tensorflow': 1676, 'cordova': 1677, 'constraints': 1678, 'innerhtml': 1679, 'md5': 1680, 'combo': 1681, 'dojo': 1682, 'javalangnoclassdeffounderror': 1683, 'direct': 1684, 'uitextview': 1685, 'pure': 1686, 'clean': 1687, 'graphics': 1688, 'purpose': 1689, 'fetching': 1690, 'bash': 1691, 'completely': 1692, 'simulate': 1693, 'unresolved': 1694, 'arc': 1695, 'updates': 1696, 'obtain': 1697, 'p': 1698, 'concurrent': 1699, 'rewrite': 1700, 'manytomany': 1701, 'deserializing': 1702, 'naming': 1703, 'launch': 1704, 'moq': 1705, 'identify': 1706, 'linker': 1707, 'upgrade': 1708, 'mouseover': 1709, 'modified': 1710, 'fade': 1711, 'dd': 1712, 'reloading': 1713, 'confusion': 1714, 'figure': 1715, 'eg': 1716, '24': 1717, 'polygon': 1718, 'exporting': 1719, 'mismatch': 1720, 'pixel': 1721, 'scanf': 1722, 'queryset': 1723, 'rotation': 1724, 'sqlite3': 1725, 'rules': 1726, 'kernel': 1727, 'greater': 1728, 'signature': 1729, 'explain': 1730, 'sample': 1731, 'legend': 1732, 'init': 1733, 'bin': 1734, 'adapter': 1735, 'latitude': 1736, 'longitude': 1737, 'preg_replace': 1738, 'well': 1739, 'grouping': 1740, 'cli': 1741, 'streaming': 1742, 'track': 1743, 'declaring': 1744, 'black': 1745, 'interop': 1746, 'openssl': 1747, 'parts': 1748, 'notifications': 1749, 'subset': 1750, 'nokogiri': 1751, 'startup': 1752, 'short': 1753, 'locate': 1754, 'hello': 1755, 'orientation': 1756, 'protected': 1757, 'connected': 1758, 'mm': 1759, 'managed': 1760, 'player': 1761, 'includes': 1762, 'versus': 1763, 'stdout': 1764, 'nunit': 1765, 'deserialization': 1766, 'relation': 1767, 'wamp': 1768, 'modifying': 1769, 'footer': 1770, 'general': 1771, 'multithreaded': 1772, 'individual': 1773, 'assets': 1774, 'opencart': 1775, 'theme': 1776, 'richtextbox': 1777, 'jasmine': 1778, 'pair': 1779, 'ready': 1780, 'compiled': 1781, 'xsd': 1782, 'notation': 1783, 'contact': 1784, 'coding': 1785, 'either': 1786, 'operators': 1787, '16': 1788, 'plus': 1789, 'customize': 1790, 'executed': 1791, 'combining': 1792, 'stdin': 1793, 'milliseconds': 1794, 'backend': 1795, 'cart': 1796, 'hangs': 1797, 'httpwebrequest': 1798, 'finished': 1799, 'editable': 1800, 'allocated': 1801, 'transactions': 1802, 'broken': 1803, 'couldnt': 1804, 'manage': 1805, 'actions': 1806, 'howto': 1807, 'documentation': 1808, 'clicks': 1809, 'calculator': 1810, 'integrate': 1811, 'price': 1812, 'lxml': 1813, 'products': 1814, 'bluetooth': 1815, 'hashes': 1816, 'multiline': 1817, 'oop': 1818, 'setinterval': 1819, 'confirmation': 1820, 'implicitly': 1821, 'serializing': 1822, 'wxpython': 1823, 'understand': 1824, 'highlighting': 1825, 'opened': 1826, 'simulator': 1827, 'switching': 1828, 'loads': 1829, 'preview': 1830, 'threadsafe': 1831, 'circular': 1832, 'occurrence': 1833, 'plots': 1834, 'boxes': 1835, 'whitespace': 1836, 'matlab': 1837, 'inputstream': 1838, 'formatted': 1839, 'criteria': 1840, 'rule': 1841, 'observable': 1842, 'attachment': 1843, 'recognized': 1844, 'mono': 1845, 'ee': 1846, 'json_encode': 1847, 'yyyy': 1848, 'resultset': 1849, 'namespaces': 1850, 'longer': 1851, 'resolution': 1852, 'spreadsheet': 1853, 'completion': 1854, 'examples': 1855, 'associative': 1856, 'groovy': 1857, 'jpeg': 1858, 'setter': 1859, 'reactjs': 1860, 'phps': 1861, 'cucumber': 1862, 'look': 1863, 'databases': 1864, 'constructors': 1865, 'nsdata': 1866, 'ejb': 1867, 'enabled': 1868, 'subprocess': 1869, 'provide': 1870, 'putting': 1871, 'querystring': 1872, 'screenshot': 1873, 'finish': 1874, 'allocation': 1875, 'scrollbar': 1876, 'jaxrs': 1877, 'gdb': 1878, 'mingw': 1879, 'mongoose': 1880, 'fired': 1881, 'jbutton': 1882, 'seems': 1883, 'currently': 1884, 'detected': 1885, 'disk': 1886, 'arrow': 1887, 'latest': 1888, 'triggered': 1889, 'databinding': 1890, 'emberjs': 1891, 'cloud': 1892, 'simplexml': 1893, 'promise': 1894, 'arbitrary': 1895, 'implemented': 1896, 'elegant': 1897, 'shape': 1898, 'multiply': 1899, 'swipe': 1900, 'querying': 1901, 'scala': 1902, 'invoking': 1903, 'positive': 1904, 'linear': 1905, 'bounds': 1906, 'slash': 1907, 'datatype': 1908, 'knockoutjs': 1909, 'initializer': 1910, 'callbacks': 1911, 'capistrano': 1912, 'choose': 1913, 'developer': 1914, 'multipart': 1915, 'defining': 1916, 'jpg': 1917, 'fullcalendar': 1918, 'cors': 1919, 'outlook': 1920, 'along': 1921, 'needs': 1922, 'videos': 1923, 'tinymce': 1924, 'asynchronously': 1925, 'clickable': 1926, 'replacement': 1927, 'relationships': 1928, 'onload': 1929, 'jaxws': 1930, 'separator': 1931, 'yes': 1932, 'textview': 1933, 'jtextfield': 1934, 'nsdate': 1935, 'frameworks': 1936, '45': 1937, 'fork': 1938, 'rsa': 1939, 'party': 1940, 'pixels': 1941, 'capybara': 1942, 'ssh': 1943, 'c#net': 1944, 'sure': 1945, 'outer': 1946, 'metadata': 1947, 'seem': 1948, 'twig': 1949, 'super': 1950, 'manipulation': 1951, 'metro': 1952, 'meaning': 1953, 'hook': 1954, 'utc': 1955, 'third': 1956, 'decrypt': 1957, 'servers': 1958, 'composer': 1959, 'usb': 1960, 'trailing': 1961, 'country': 1962, 'attach': 1963, '#': 1964, 'catching': 1965, 'paste': 1966, 'adonet': 1967, 'logger': 1968, 'registration': 1969, 'recognize': 1970, 'pipe': 1971, 'gems': 1972, 'coffeescript': 1973, 'simplest': 1974, 'openmp': 1975, 'backgroundworker': 1976, 'appears': 1977, 'wrapping': 1978, 'mark': 1979, 'hashtable': 1980, 'raise': 1981, 'vaadin': 1982, 'specifying': 1983, 'validator': 1984, 'aes': 1985, 'bindings': 1986, 'liststring': 1987, '50': 1988, 'pack': 1989, 'monitor': 1990, 'aggregate': 1991, 'br': 1992, '51': 1993, '17': 1994, 'union': 1995, 'carousel': 1996, 'scipy': 1997, 'tuples': 1998, 'realtime': 1999, 'xaxis': 2000, 'referencing': 2001, 'applied': 2002, 'wicket': 2003, 'automapper': 2004, 'collision': 2005, 'sometimes': 2006, 'toolbar': 2007, 'months': 2008, 'rid': 2009, 'filling': 2010, 'preprocessor': 2011, 'clipboard': 2012, 'redis': 2013, 'overflow': 2014, 'lucene': 2015, 'card': 2016, 'structures': 2017, 'nameerror': 2018, 'jlabel': 2019, 'preserve': 2020, 'dataframes': 2021, 'playing': 2022, 'celery': 2023, 'built': 2024, 'viewcontroller': 2025, '25': 2026, 'ffmpeg': 2027, 'slower': 2028, 'powershell': 2029, 'tostring': 2030, 'persist': 2031, 'regexp': 2032, 'groupby': 2033, 'requirejs': 2034, 'pc': 2035, 'dealing': 2036, '13': 2037, 'reader': 2038, 'alphanumeric': 2039, 'mocking': 2040, 'region': 2041, 'preventing': 2042, '15': 2043, 'developing': 2044, 'successful': 2045, 'escaping': 2046, 'stopped': 2047, 'expand': 2048, 'segue': 2049, 'codes': 2050, 'rmi': 2051, 'stuck': 2052, 'going': 2053, 'nan': 2054, 'mongoid': 2055, 'crm': 2056, 'callable': 2057, 'entered': 2058, 'optimization': 2059, 'passenger': 2060, 'interactive': 2061, 'alternatives': 2062, 'sms': 2063, 'dependent': 2064, 'wildcard': 2065, 'logout': 2066, 'es6': 2067, 'serializable': 2068, 'sinatra': 2069, 'angular2': 2070, 'redirection': 2071, 'minimum': 2072, 'subtract': 2073, 'immediately': 2074, 'serverside': 2075, 'styles': 2076, 'smooth': 2077, 'middle': 2078, 'builtin': 2079, 'websphere': 2080, 'mongo': 2081, 'necessary': 2082, 'triangle': 2083, 'head': 2084, 'primitive': 2085, 'ensure': 2086, 'overload': 2087, 'repeat': 2088, '12': 2089, 'ordering': 2090, 'devexpress': 2091, 'synchronous': 2092, 'has_many': 2093, 'description': 2094, 'destructor': 2095, 'odbc': 2096, 'imageview': 2097, 'expecting': 2098, 'mssql': 2099, 'comprehension': 2100, 'interval': 2101, 'exchange': 2102, 'leaflet': 2103, 'software': 2104, 'camel': 2105, 'io': 2106, 'anyone': 2107, 'onetomany': 2108, 'continue': 2109, 'locking': 2110, 'objc': 2111, 'indexes': 2112, 'maintain': 2113, 'leading': 2114, 'jinja2': 2115, 'zf2': 2116, 'notice': 2117, 'adjust': 2118, 'terminate': 2119, 'compatible': 2120, 'mask': 2121, 'construct': 2122, 'ints': 2123, 'losing': 2124, 'ie7': 2125, 'realm': 2126, 'polymorphism': 2127, 'repeating': 2128, 'lowercase': 2129, '2015': 2130, 'suitable': 2131, 'casperjs': 2132, 'tornado': 2133, 'avoiding': 2134, 'indices': 2135, 'ignored': 2136, 'overwrite': 2137, 'delegates': 2138, 'ul': 2139, 'categories': 2140, 'clone': 2141, 'questions': 2142, 'vertically': 2143, 'bars': 2144, 'webclient': 2145, 'scan': 2146, 'hosting': 2147, 'allocate': 2148, 'payment': 2149, 'pull': 2150, 'strip': 2151, 'listen': 2152, 'accessible': 2153, 'csrf': 2154, 'follow': 2155, 'css3': 2156, 'applying': 2157, 'filters': 2158, 'quote': 2159, 'weblogic': 2160, 'widgets': 2161, 'configuring': 2162, 'nonetype': 2163, 'associated': 2164, 'errno': 2165, 'kill': 2166, 'clientside': 2167, 'rendered': 2168, '14': 2169, 'e': 2170, 'handlers': 2171, 'enabling': 2172, 'divide': 2173, 'aborted': 2174, 'ad': 2175, 'universal': 2176, 'accordion': 2177, 'servlets': 2178, 'performing': 2179, 'hql': 2180, 'emacs': 2181, 'emulator': 2182, 'credentials': 2183, 'completed': 2184, 'sencha': 2185, 'decryption': 2186, 'manifest': 2187, 'websites': 2188, 'someone': 2189, 'auth': 2190, 'crud': 2191, 'starts': 2192, 'beginner': 2193, 'apple': 2194, 'delimited': 2195, 'consecutive': 2196, 'rss': 2197, 'updatepanel': 2198, 'directories': 2199, 'cuda': 2200, 'hexadecimal': 2201, 'crop': 2202, 'reporting': 2203, 'crashing': 2204, 'deep': 2205, 'styling': 2206, 'uinavigationcontroller': 2207, 'pie': 2208, 'perl': 2209, 'smaller': 2210, 'nonstatic': 2211, 'authorization': 2212, 'cxf': 2213, 'javalangnullpointerexception': 2214, 'expressjs': 2215, 'locally': 2216, 'alias': 2217, 'testng': 2218, 'sprite': 2219, 'readable': 2220, 'caused': 2221, 'jre': 2222, 'tutorials': 2223, 'windowopen': 2224, 'slice': 2225, 'plugins': 2226, 'haml': 2227, 'extends': 2228, 'ambiguous': 2229, 'registered': 2230, 'breaking': 2231, 'dimension': 2232, 'larger': 2233, 'translate': 2234, 'ror': 2235, 'log4net': 2236, 'cut': 2237, 'printer': 2238, 'fly': 2239, 'measure': 2240, 'operand': 2241, 'decoding': 2242, 'dplyr': 2243, 'explanation': 2244, '403': 2245, 'timed': 2246, 'exceeded': 2247, 'converter': 2248, '2005': 2249, 'observablecollection': 2250, 'regression': 2251, 'tracking': 2252, 'usr': 2253, 'lua': 2254, 'fullscreen': 2255, 'huge': 2256, 'rotating': 2257, 'respond': 2258, 'strategy': 2259, 'cmd': 2260, 'addresses': 2261, 'underlying': 2262, 'warnings': 2263, 'advantages': 2264, 'carrierwave': 2265, 'produce': 2266, 'displays': 2267, 'navigate': 2268, 'repeated': 2269, 'coordinate': 2270, 'role': 2271, 'standalone': 2272, 'says': 2273, 'continuous': 2274, 'superclass': 2275, 'tr': 2276, 'choice': 2277, 'keyvalue': 2278, 'subview': 2279, 'clang': 2280, 'flag': 2281, 'jms': 2282, 'virtualenv': 2283, 'stdvector': 2284, 'imported': 2285, 'dimensions': 2286, 'excluding': 2287, 'later': 2288, 'xlsx': 2289, 'placeholder': 2290, 'collapse': 2291, 'xdocument': 2292, 'duration': 2293, 'currency': 2294, 'zeros': 2295, 'others': 2296, 'quickly': 2297, 'mutex': 2298, 'commas': 2299, 'grab': 2300, 'older': 2301, 'jfreechart': 2302, 'creator': 2303, 'cms': 2304, 'grouped': 2305, 'triggering': 2306, 'ipython': 2307, 'extended': 2308, '53': 2309, 'guava': 2310, 'shift': 2311, 'attempting': 2312, 'javalangclassnotfoundexception': 2313, 'authenticated': 2314, '3rd': 2315, 'appearing': 2316, 'occurs': 2317, 'twisted': 2318, 'autolayout': 2319, 'gallery': 2320, 'h': 2321, 'reuse': 2322, 'trace': 2323, 'unity3d': 2324, 'worker': 2325, 'ndk': 2326, 'seed': 2327, 'memcached': 2328, 'compute': 2329, 'asset': 2330, 'assigned': 2331, 'corresponding': 2332, 'hierarchy': 2333, 'modelform': 2334, 'floats': 2335, 'encrypted': 2336, 'blocking': 2337, 'quick': 2338, 'priority': 2339, 'vim': 2340, 'foo': 2341, 'meta': 2342, 'v': 2343, 'joda': 2344, 'pythonic': 2345, 'orderby': 2346, 'cygwin': 2347, 'plist': 2348, 'phpini': 2349, 'uialertview': 2350, 'immutable': 2351, 'alignment': 2352, 'closest': 2353, 'shown': 2354, 'apis': 2355, 'capturing': 2356, 'hostname': 2357, 'texture': 2358, 'largest': 2359, '_get': 2360, 'explicitly': 2361, 'spinner': 2362, 'uipickerview': 2363, 'asynctask': 2364, 'lodash': 2365, 'icons': 2366, 'progressbar': 2367, 'horizontally': 2368, 'viewer': 2369, 'contained': 2370, 'bulk': 2371, 'formula': 2372, 'mootools': 2373, 'blocked': 2374, 'activeadmin': 2375, 'beautiful': 2376, '52': 2377, '400': 2378, 'origin': 2379, 'consuming': 2380, 'retain': 2381, 'representation': 2382, 'xslt': 2383, 'visibility': 2384, 'clearing': 2385, 'enough': 2386, 'signed': 2387, 'multiplication': 2388, 'deal': 2389, 'sentence': 2390, 'jndi': 2391, '#define': 2392, 'rounding': 2393, 'various': 2394, 'springboot': 2395, 'simultaneously': 2396, 'tick': 2397, 'conditionally': 2398, 'bundler': 2399, 'subdomain': 2400, 'designer': 2401, 'param': 2402, 'elasticsearch': 2403, 'nsuserdefaults': 2404, 'getter': 2405, '32bit': 2406, 'manipulate': 2407, 'keypress': 2408, 'link_to': 2409, 'synchronization': 2410, 'webpack': 2411, 'frequency': 2412, 'javalangstring': 2413, 'flow': 2414, 'domains': 2415, 'swap': 2416, 'chain': 2417, 'insertion': 2418, 'come': 2419, 'landscape': 2420, 'attempt': 2421, 'mechanize': 2422, 'router': 2423, 'protractor': 2424, 'ce': 2425, 'friends': 2426, 'persistent': 2427, 'mixed': 2428, 'polymer': 2429, 'paragraph': 2430, 'instagram': 2431, 'provided': 2432, 'parentheses': 2433, '54': 2434, 'determining': 2435, 'pymongo': 2436, 'regarding': 2437, 'idle': 2438, 'edittext': 2439, 'netty': 2440, 'ios7': 2441, 'pivot': 2442, 'let': 2443, 'combination': 2444, 'watch': 2445, 'decimals': 2446, 'rstudio': 2447, 'leaks': 2448, 'unchecked': 2449, 'jars': 2450, 'picturebox': 2451, 'keeps': 2452, 'knowing': 2453, 'linkedlist': 2454, 'firebug': 2455, 'handled': 2456, 'appengine': 2457, 'arithmetic': 2458, 'temporary': 2459, '200': 2460, 'sync': 2461, 'photos': 2462, 'installer': 2463, 'shortcut': 2464, 'codeblocks': 2465, 'htmlagilitypack': 2466, 'evaluate': 2467, 'refer': 2468, 'serve': 2469, 'truncated': 2470, 'webapp': 2471, 'downloaded': 2472, 'multiselect': 2473, 'twodimensional': 2474, 'xna': 2475, 'file_get_contents': 2476, 'cases': 2477, 'polymorphic': 2478, 'combinations': 2479, 'streams': 2480, 'dev': 2481, 'sqlstate': 2482, 'compact': 2483, 'detail': 2484, 'pressing': 2485, 'javas': 2486, 'gulp': 2487, 'flip': 2488, 'insensitive': 2489, 'countdown': 2490, 'cgi': 2491, 'win': 2492, 'javadoc': 2493, 'positioning': 2494, '2011': 2495, '41': 2496, '1000': 2497, 'period': 2498, 'ordered': 2499, 'distribution': 2500, 'xib': 2501, 'endpoint': 2502, 'mime': 2503, 'inherit': 2504, 'programs': 2505, 'away': 2506, 'history': 2507, 'levels': 2508, 'thumbnails': 2509, 'navbar': 2510, 'vm': 2511, 'sensitive': 2512, 'obj': 2513, 'codec': 2514, 'light': 2515, 'ifelse': 2516, 'disappear': 2517, 'stops': 2518, 'independent': 2519, 'integrating': 2520, 'dump': 2521, 'ends': 2522, 'phantomjs': 2523, 'draggable': 2524, 'workbook': 2525, 'communicate': 2526, 'creates': 2527, 'gzip': 2528, 'elastic': 2529, 'paging': 2530, 'bold': 2531, 'edge': 2532, 'jsonp': 2533, 'formats': 2534, 'composite': 2535, 'dlls': 2536, 'pyqt4': 2537, 'commit': 2538, 'linkedin': 2539, 'boostasio': 2540, 'implements': 2541, 'menus': 2542, 'imap': 2543, 'tried': 2544, 'frontend': 2545, 'allowing': 2546, 'intellisense': 2547, 'mapped': 2548, 'sources': 2549, 'odata': 2550, 'vs2010': 2551, 'safety': 2552, 'ember': 2553, 'classnotfoundexception': 2554, 'jsonparse': 2555, 'momentjs': 2556, '21': 2557, 'checkout': 2558, 'jasper': 2559, 'synchronized': 2560, 'cpp': 2561, 'redirects': 2562, 'jump': 2563, 'nomethoderror': 2564, 'enumeration': 2565, 'recommended': 2566, 'deadlock': 2567, 'limited': 2568, 'features': 2569, 'graphs': 2570, 'cluster': 2571, 'assertion': 2572, 'hard': 2573, 'consume': 2574, 'power': 2575, 'macros': 2576, 'supports': 2577, 'posted': 2578, 'resharper': 2579, 'listeners': 2580, 'webkit': 2581, 'identical': 2582, 'concatenation': 2583, 'preparedstatement': 2584, 'opens': 2585, 'nearest': 2586, 'directives': 2587, 'embedding': 2588, 'longest': 2589, 'gps': 2590, 'channel': 2591, 'cython': 2592, 'functional': 2593, 'pthread': 2594, 'jsonarray': 2595, 'jsonobject': 2596, 'animations': 2597, 'globally': 2598, 'accessed': 2599, 'locked': 2600, 'thing': 2601, 'python3': 2602, 'authenticate': 2603, 'hashing': 2604, '18': 2605, 'ratio': 2606, 'fluent': 2607, 'increasing': 2608, 'outputting': 2609, 'grails': 2610, 'successfully': 2611, 'manual': 2612, 'winrt': 2613, 'handshake': 2614, 'advanced': 2615, 'jade': 2616, 'parents': 2617, 'populated': 2618, 'uninstall': 2619, 'indexing': 2620, 'onto': 2621, 'i18n': 2622, 'afnetworking': 2623, 'fileupload': 2624, 'publish': 2625, 'differently': 2626, 'overloaded': 2627, 'intent': 2628, 'english': 2629, 'anaconda': 2630, 'mat': 2631, 'preserving': 2632, 'yet': 2633, 'threaded': 2634, 'sublime': 2635, 'fires': 2636, '22': 2637, 'attached': 2638, 'raphael': 2639, 'alpha': 2640, 'rails3': 2641, 'sleep': 2642, 'arent': 2643, 'unused': 2644, 'responsive': 2645, 'might': 2646, 'gd': 2647, 'represent': 2648, 'shadow': 2649, 'compress': 2650, 'trim': 2651, 'customer': 2652, 'schedule': 2653, 'memcache': 2654, 'collect': 2655, 'alphabetically': 2656, 'uppercase': 2657, 'backup': 2658, 'invocation': 2659, 'hosted': 2660, 'sprintf': 2661, 'serving': 2662, 'typed': 2663, 'el': 2664, 'imagemagick': 2665, 'concurrency': 2666, 'incomplete': 2667, 'ascending': 2668, 'lower': 2669, 'v2': 2670, 'customizing': 2671, 'select2': 2672, 'uwp': 2673, 'nth': 2674, 'forbidden': 2675, 'unavailable': 2676, 'iso': 2677, 'webinf': 2678, 'nullable': 2679, 'lion': 2680, 'appropriate': 2681, 'localization': 2682, 'configured': 2683, 'djangos': 2684, 'alamofire': 2685, 'javasqlsqlexception': 2686, 'bits': 2687, 'delimiter': 2688, 'roles': 2689, 'rounded': 2690, 'urllib2': 2691, 'soup': 2692, 'factor': 2693, 'maintaining': 2694, 'containers': 2695, 'guid': 2696, 'scrollview': 2697, 'markdown': 2698, 'cocos2d': 2699, 'kivy': 2700, 'thymeleaf': 2701, 'jquerys': 2702, 'iterators': 2703, 'clock': 2704, 'producing': 2705, 'prime': 2706, 'notify': 2707, 'sizes': 2708, 'rate': 2709, 'injecting': 2710, 'textblock': 2711, 'margin': 2712, 'stdmap': 2713, 'ienumerablet': 2714, 'consolelog': 2715, 'mysqldb': 2716, 'yyyymmdd': 2717, 'bubble': 2718, 'javamail': 2719, 'launching': 2720, 'wall': 2721, 'unittest': 2722, 'linqtosql': 2723, 'mq': 2724, 'fragments': 2725, 'multithread': 2726, 'scrape': 2727, 'listing': 2728, 'sections': 2729, 'imports': 2730, 'cs': 2731, 'messagebox': 2732, 'docker': 2733, 'vc++': 2734, 'websockets': 2735, 'mkmapview': 2736, 'foundation': 2737, 'locations': 2738, 'entityframework': 2739, 'matrices': 2740, 'tokens': 2741, 'subclassing': 2742, 'slideshow': 2743, 'turning': 2744, 'concatenating': 2745, 'lightweight': 2746, 'gcm': 2747, 'joining': 2748, 'agility': 2749, '_server': 2750, 'x64': 2751, 'trycatch': 2752, 'suppress': 2753, 'xp': 2754, 'renaming': 2755, 'invoked': 2756, 'unmanaged': 2757, 'temporarily': 2758, 'mapreduce': 2759, 'guice': 2760, 'scene': 2761, 'friendly': 2762, 'leave': 2763, 'igniter': 2764, 'dragging': 2765, 'solr': 2766, 'forcing': 2767, 'greasemonkey': 2768, 'mailer': 2769, 'versa': 2770, 'joins': 2771, 'smallest': 2772, 'people': 2773, 'begin': 2774, 'persistence': 2775, 'supplied': 2776, 'retrieved': 2777, 'eof': 2778, 'improve': 2779, 'belongs_to': 2780, 'entering': 2781, 'fully': 2782, 'accesscontrolalloworigin': 2783, 'retrofit': 2784, 'documentgetelementbyid': 2785, 'safely': 2786, 'kind': 2787, 'gc': 2788, 'dispatcher': 2789, 'shapes': 2790, 'npm': 2791, 'didnt': 2792, 'listening': 2793, 'migrating': 2794, 'yaxis': 2795, 'uncheck': 2796, 'optimizing': 2797, 'stay': 2798, 'prepare': 2799, 'logs': 2800, 'deleted': 2801, 'panels': 2802, 'xxx': 2803, 'underscorejs': 2804, 'autofac': 2805, 'deployed': 2806, 'coredata': 2807, 'layers': 2808, 'despite': 2809, 'oledb': 2810, 'bufferedreader': 2811, 'uploads': 2812, 'redux': 2813, 'depth': 2814, 'complexity': 2815, 'webrtc': 2816, 'iframes': 2817, 'minute': 2818, 'aspect': 2819, 'decorator': 2820, 'gateway': 2821, 'recaptcha': 2822, 'monitoring': 2823, 'positions': 2824, 'pyspark': 2825, 'unexpectedly': 2826, 'grunt': 2827, 'choices': 2828, 'allows': 2829, 'flatten': 2830, 'session_start': 2831, 'centos': 2832, 'indexof': 2833, 'near': 2834, 'webgl': 2835, 'httpurlconnection': 2836, 'commandline': 2837, 'pipeline': 2838, 'resume': 2839, 'bitwise': 2840, 'vuejs': 2841, 'classname': 2842, 'keydown': 2843, 'vice': 2844, 'hierarchical': 2845, 'fabricjs': 2846, 'formdata': 2847, 'github': 2848, 'nltk': 2849, 'conflict': 2850, 'unauthorized': 2851, 'std': 2852, 'jetty': 2853, 'stacked': 2854, 'tap': 2855, 'city': 2856, 'spacing': 2857, 'highest': 2858, 'volume': 2859, 'clickonce': 2860, '2007': 2861, 'generates': 2862, 'quartz': 2863, 'javalangoutofmemoryerror': 2864, 'swf': 2865, 'office': 2866, 'rdlc': 2867, 'crawler': 2868, 'subviews': 2869, 'zooming': 2870, 'interpreter': 2871, 'persisting': 2872, 'eager': 2873, 'beanstalk': 2874, 'ngclick': 2875, 'achieve': 2876, 'liferay': 2877, 'leaving': 2878, 'overlapping': 2879, 'descending': 2880, 'instantiated': 2881, 'automated': 2882, 'convention': 2883, 'jobs': 2884, 'undeclared': 2885, 'xss': 2886, 'compatibility': 2887, 'caught': 2888, 'lots': 2889, 'scalar': 2890, 'evaluating': 2891, 'asmx': 2892, 'effects': 2893, 'automation': 2894, 'blur': 2895, 'ec2': 2896, 'wp7': 2897, 'coming': 2898, 'javautildate': 2899, 'low': 2900, 'val': 2901, '33': 2902, 'accepting': 2903, 'webservices': 2904, 'httppost': 2905, 'crossplatform': 2906, 'angle': 2907, 'confused': 2908, 'means': 2909, 'gradient': 2910, 'mixing': 2911, 'computing': 2912, 'qml': 2913, 'gesture': 2914, 'barplot': 2915, 'javascripts': 2916, 'upgrading': 2917, 'hold': 2918, 'pooling': 2919, 'sites': 2920, 'computers': 2921, 'subfolder': 2922, 'limiting': 2923, 'getelementbyid': 2924, 'terminating': 2925, 'limits': 2926, 'serialized': 2927, 'mod_rewrite': 2928, '61': 2929, 'interview': 2930, 'threadpool': 2931, 'yaml': 2932, 'terminated': 2933, 'recent': 2934, 'broadcast': 2935, 'bypass': 2936, 'pointing': 2937, 'nilnilclass': 2938, 'actionlistener': 2939, '60': 2940, '2nd': 2941, 'indexphp': 2942, 'ternary': 2943, 'recognition': 2944, 'scheduled': 2945, 'develop': 2946, 'gif': 2947, 'till': 2948, 'corrupted': 2949, 'procedures': 2950, 'backing': 2951, 'spec': 2952, 'jscrollpane': 2953, 'builds': 2954, 'onmouseover': 2955, 'typing': 2956, 'colon': 2957, 'finally': 2958, 'wmi': 2959, 'directx': 2960, 'years': 2961, 'closures': 2962, 'scatter': 2963, 'business': 2964, 'encrypting': 2965, 'queues': 2966, 'since': 2967, 'star': 2968, 'logical': 2969, 'book': 2970, 'modifier': 2971, 'reorder': 2972, 'ever': 2973, 'material': 2974, 'direction': 2975, 'msbuild': 2976, 'ranges': 2977, 'stringformat': 2978, 'pm': 2979, 'radiobutton': 2980, 'clr': 2981, 'whose': 2982, 'getjson': 2983, 'animating': 2984, 'loader': 2985, 'z': 2986, 'cached': 2987, 'scheduler': 2988, 'packets': 2989, 'ref': 2990, 'surface': 2991, 'rollback': 2992, 'payload': 2993, 'stylesheet': 2994, 'advice': 2995, 'registering': 2996, '2x': 2997, 'rich': 2998, 'pomxml': 2999, '401': 3000, 'instantiation': 3001, 'fb': 3002, 'indentation': 3003, 'nullreferenceexception': 3004, 'passwords': 3005, 'reached': 3006, 'drawn': 3007, 'diff': 3008, 'higher': 3009, 'stopping': 3010, 'httpget': 3011, 'winapi': 3012, 'doubles': 3013, 'delphi': 3014, 'ports': 3015, 'escaped': 3016, 'encountered': 3017, 'languages': 3018, 'ending': 3019, 'closes': 3020, 'serializer': 3021, 'webserver': 3022, 'managepy': 3023, 'thats': 3024, 'phpfpm': 3025, 'minus': 3026, 'bring': 3027, 'equation': 3028, 'xls': 3029, 'freeze': 3030, 'four': 3031, 'division': 3032, 'incoming': 3033, 'freezes': 3034, 'parsed': 3035, 'benefits': 3036, 'subscript': 3037, 'jumping': 3038, 'jython': 3039, 'restore': 3040, 'keywords': 3041, 'foreignkey': 3042, 'opacity': 3043, 'animated': 3044, 'nstimer': 3045, 'archive': 3046, 'gae': 3047, 'indicator': 3048, 'sliding': 3049, 'expire': 3050, 'dots': 3051, 'hbase': 3052, 'newlines': 3053, 'dbcontext': 3054, 'addition': 3055, 'smarty': 3056, 'pthreads': 3057, 'membership': 3058, 'alive': 3059, 'classic': 3060, 'databind': 3061, 'stand': 3062, 'beta': 3063, 'peer': 3064, 'entitymanager': 3065, 'workaround': 3066, 'braces': 3067, 'dash': 3068, 'dismiss': 3069, '23': 3070, 'paint': 3071, 'goes': 3072, 'hang': 3073, 'fonts': 3074, 'karma': 3075, 'resizable': 3076, 'svn': 3077, 'followed': 3078, 'ibm': 3079, 'indent': 3080, 'processed': 3081, 'dns': 3082, 'hit': 3083, 'javalangillegalstateexception': 3084, '34': 3085, 'filled': 3086, 'elapsed': 3087, 'datacontext': 3088, 'choosing': 3089, 'databound': 3090, 'ie11': 3091, '193': 3092, 'scripting': 3093, 'easily': 3094, 'parameterized': 3095, 'intersection': 3096, 'ngmodel': 3097, 'triggers': 3098, 'owin': 3099, 'conventions': 3100, 'shopping': 3101, 'mocha': 3102, 'org': 3103, 'marks': 3104, 'human': 3105, 'powerpoint': 3106, 'alphabetical': 3107, 'migrate': 3108, 'coverage': 3109, 'consumer': 3110, 'dialogs': 3111, 'pushing': 3112, 'attr': 3113, 'happen': 3114, 'openlayers': 3115, 'dropbox': 3116, 'protobuf': 3117, 'toolkit': 3118, 'training': 3119, '1d': 3120, '302': 3121, 'states': 3122, 'equality': 3123, 'steps': 3124, 'utility': 3125, 'loaderror': 3126, 'selectors': 3127, 'writer': 3128, 'truncate': 3129, 'incrementing': 3130, 'useful': 3131, 'explode': 3132, 'protect': 3133, '000': 3134, 'wildcards': 3135, 'formatter': 3136, 'na': 3137, 'disappears': 3138, 'webmethod': 3139, 'answer': 3140, 'score': 3141, 'runnable': 3142, 'valgrind': 3143, 'today': 3144, 'synchronize': 3145, 'infowindow': 3146, 'sass': 3147, 'jqueryui': 3148, 'mod_wsgi': 3149, 'jqueryajax': 3150, 'sessionfactory': 3151, 'tls': 3152, 'sequences': 3153, 'responding': 3154, 'specifically': 3155, 'g': 3156, 'scheme': 3157, 'removed': 3158, 'newly': 3159, 'considered': 3160, 'applicable': 3161, 'specifier': 3162, 'guide': 3163, 'axes': 3164, 'quit': 3165, '26': 3166, 'stripe': 3167, 'iis7': 3168, 'ff': 3169, 'cocoapods': 3170, 'hitting': 3171, 'cloning': 3172, 'ilist': 3173, 'xamarinforms': 3174, 'springmvc': 3175, 'statistics': 3176, 'submitted': 3177, 'recommend': 3178, 'stringbuilder': 3179, 'efficiency': 3180, 't_string': 3181, 'responses': 3182, 'duplicated': 3183, 'javalangillegalargumentexception': 3184, 'destination': 3185, 'certificates': 3186, '1st': 3187, 'literals': 3188, 'ssis': 3189, 'vba': 3190, 'calculations': 3191, 'cons': 3192, '#include': 3193, 'gtk': 3194, 'telerik': 3195, 'preferred': 3196, 'asio': 3197, 'future': 3198, 'browse': 3199, 'translation': 3200, 'clustering': 3201, 'shutdown': 3202, 'handlebars': 3203, 'quiz': 3204, 'ipn': 3205, 'worksheet': 3206, 'linkbutton': 3207, 'parsecom': 3208, 'suite': 3209, 'maximize': 3210, 'axis2': 3211, 'disadvantages': 3212, '3x': 3213, 'avplayer': 3214, 'apostrophe': 3215, 'javalangclasscastexception': 3216, 'javaioioexception': 3217, 'concat': 3218, 'physical': 3219, 'sparse': 3220, 'pictures': 3221, 'music': 3222, 'mysql_fetch_array': 3223, 'traversal': 3224, 'umbraco': 3225, 'masterpage': 3226, 'json_decode': 3227, 'unless': 3228, 'social': 3229, 'conflicting': 3230, 'remotely': 3231, 'datastore': 3232, 'desired': 3233, 'dollar': 3234, 'dispose': 3235, 'downloads': 3236, 'uirouter': 3237, 'memorystream': 3238, 'scenario': 3239, 'bucket': 3240, 'segment': 3241, 'mpi': 3242, 'anchors': 3243, 'interpreted': 3244, 'restkit': 3245, 'es': 3246, 'datetimepicker': 3247, 'appended': 3248, 'corners': 3249, 'matched': 3250, 'stretch': 3251, 'acceptable': 3252, 'h2': 3253, 'connector': 3254, '43': 3255, 'artifact': 3256, 'typefile': 3257, 'magic': 3258, 'uitableviewcells': 3259, 'manytoone': 3260, 'gone': 3261, 'underscores': 3262, 'produces': 3263, 'recognizing': 3264, 'continuously': 3265, 'customized': 3266, 'filenames': 3267, 'weeks': 3268, 'occured': 3269, 'ask': 3270, 'evaluation': 3271, 'writes': 3272, 'arabic': 3273, 'packet': 3274, 'benefit': 3275, 'kit': 3276, 'fscanf': 3277, 'pipes': 3278, 'cipher': 3279, 'overwriting': 3280, 'mvc5': 3281, 'wifi': 3282, 'marked': 3283, 'associations': 3284, 'mpmovieplayercontroller': 3285, 'kafka': 3286, 'verification': 3287, 'modern': 3288, 'doxygen': 3289, 'controlling': 3290, 'ext': 3291, 'reliable': 3292, 'scikitlearn': 3293, 'incorrectly': 3294, 'abort': 3295, 'modification': 3296, 'initializers': 3297, 'assert': 3298, 'doctrine2': 3299, 'classs': 3300, 'designing': 3301, 'ago': 3302, 'ive': 3303, 'bracket': 3304, '55': 3305, 'geolocation': 3306, 'datatemplate': 3307, 'descriptor': 3308, 'scopes': 3309, 'db2': 3310, 'manipulating': 3311, 'degrees': 3312, 'scrollable': 3313, 'exited': 3314, 'portable': 3315, 'charset': 3316, 'classloader': 3317, 'foreground': 3318, 'automate': 3319, 'sheets': 3320, 'nio': 3321, '80': 3322, 'sonar': 3323, 'reasons': 3324, 'servicestack': 3325, 'obtaining': 3326, 'openerp': 3327, 'instantiating': 3328, 'systems': 3329, 'ones': 3330, 'seperate': 3331, 'strict': 3332, 'suffix': 3333, 'compression': 3334, '2003': 3335, 'traffic': 3336, 'extern': 3337, 'unicodeencodeerror': 3338, 'pin': 3339, 'overrides': 3340, 'invisible': 3341, 'thousand': 3342, 'mysql_query': 3343, 'declarations': 3344, 'past': 3345, 'bot': 3346, 'suggestions': 3347, 'slicing': 3348, 'unwanted': 3349, 'knitr': 3350, 'resolving': 3351, 'accuracy': 3352, 'arraylists': 3353, 'managing': 3354, 'advantage': 3355, 'indexed': 3356, 'uisearchbar': 3357, 'alternate': 3358, 'decrypting': 3359, 'pydev': 3360, 'conflicts': 3361, 'remember': 3362, 'rand': 3363, 'helpers': 3364, 'multilevel': 3365, '42': 3366, 'upper': 3367, 'proguard': 3368, 'corner': 3369, 'compilers': 3370, 'phpstorm': 3371, 'nsurlconnection': 3372, 'interaction': 3373, 'keyup': 3374, 'executes': 3375, 'epoch': 3376, 'pyside': 3377, '_session': 3378, 'xsl': 3379, 'unload': 3380, 'listobject': 3381, 'expired': 3382, 'located': 3383, 'gdi+': 3384, 'analysis': 3385, 'j2me': 3386, 'annotated': 3387, 'interrupt': 3388, 'radius': 3389, 'visualization': 3390, 'wrapped': 3391, 'suddenly': 3392, 'isset': 3393, 'slashes': 3394, 'electron': 3395, 'simple_form': 3396, 'dealloc': 3397, 'intercept': 3398, 'autowired': 3399, 'summary': 3400, 'comes': 3401, 'varchar': 3402, 'py': 3403, '405': 3404, 'noclassdeffounderror': 3405, 'calayer': 3406, 'xmlserializer': 3407, 'percent': 3408, 'sender': 3409, 'definitions': 3410, 'segfault': 3411, 'grey': 3412, 'inheriting': 3413, 'respect': 3414, 'typedef': 3415, 'localized': 3416, 'highchart': 3417, 'k': 3418, 'lat': 3419, 'wildfly': 3420, 'effective': 3421, 'indexhtml': 3422, 'chaining': 3423, 'pros': 3424, 'f': 3425, 'pulling': 3426, 'inserts': 3427, 'zindex': 3428, 'php5': 3429, 'offline': 3430, 'reusing': 3431, 'newbie': 3432, 'webforms': 3433, 'us': 3434, 'little': 3435, 'semicolon': 3436, 'tail': 3437, 'flush': 3438, 'red': 3439, 'looks': 3440, 'hive': 3441, 'mp4': 3442, '_': 3443, 'printed': 3444, 'promises': 3445, 'pojo': 3446, 'placed': 3447, 'xelement': 3448, 'interpolation': 3449, 'tmp': 3450, 'connectionstring': 3451, 'rectangles': 3452, 'boundary': 3453, 'iqueryable': 3454, 'splash': 3455, 'curly': 3456, 'resized': 3457, 'vs2008': 3458, 'operands': 3459, 'beyond': 3460, 'malformed': 3461, 'mix': 3462, 'internally': 3463, 'remaining': 3464, 'activemq': 3465, 'mamp': 3466, 'chunk': 3467, 'computed': 3468, 'posix': 3469, 'threw': 3470, 'transient': 3471, 'ignores': 3472, 'refactoring': 3473, 'unicodedecodeerror': 3474, 'construction': 3475, 'backslash': 3476, 'focused': 3477, 'pom': 3478, 'erase': 3479, 'simply': 3480, 'specification': 3481, 'subdomains': 3482, 'mdb': 3483, 'establish': 3484, 'overhead': 3485, '_files': 3486, 'activation': 3487, 'tabbar': 3488, 'techniques': 3489, 'pick': 3490, 'contexts': 3491, 'expose': 3492, 'oriented': 3493, 'uinavigationbar': 3494, 'fopen': 3495, 'released': 3496, 'prestashop': 3497, 'hdfs': 3498, 'density': 3499, 'redraw': 3500, 'exercise': 3501, 'previously': 3502, 'processstart': 3503, 'profiling': 3504, 'yield': 3505, 'japanese': 3506, 'restarting': 3507, 'timestamps': 3508, '__init__': 3509, 'popover': 3510, 'curve': 3511, 'minimize': 3512, 'ticks': 3513, 'rabbitmq': 3514, 'crossbrowser': 3515, 'assemblies': 3516, 'crossdomain': 3517, 'ansi': 3518, 'gmt': 3519, 'j2ee': 3520, 'timeline': 3521, 'cycle': 3522, 'todays': 3523, 'salesforce': 3524, 'caller': 3525, 'jmeter': 3526, 'geocoding': 3527, 'overlap': 3528, 'imagefield': 3529, 'rolling': 3530, 'activex': 3531, 'hy000': 3532, 'movie': 3533, 'xmlreader': 3534, 'nesting': 3535, 'mass': 3536, 'seo': 3537, 'javac': 3538, 'aligned': 3539, 'existence': 3540, 'sidebar': 3541, 'integral': 3542, 'traverse': 3543, 'transformation': 3544, 'scrolled': 3545, 'solutions': 3546, 'seen': 3547, 'tips': 3548, 'textfile': 3549, 'msvc': 3550, 'integrity': 3551, 'quality': 3552, 'unordered': 3553, 'windowlocation': 3554, 'googles': 3555, 'visitors': 3556, 'chinese': 3557, 'rewriting': 3558, '19': 3559, 'migrations': 3560, 'flat': 3561, 'anyway': 3562, 'redirected': 3563, 'contenttype': 3564, 'sized': 3565, 'nsinvalidargumentexception': 3566, 'fadein': 3567, 'x86_64': 3568, 'messaging': 3569, 'spritekit': 3570, 'term': 3571, 'tile': 3572, 'vs2012': 3573, 'representing': 3574, 'degree': 3575, 'hhmmss': 3576, 'ioexception': 3577, 'uploader': 3578, 'permutations': 3579, 'movement': 3580, 'subprocesspopen': 3581, 'apk': 3582, 'actionscript': 3583, 'implementations': 3584, 'algorithms': 3585, 'scaling': 3586, 'correlation': 3587, 'supposed': 3588, 'systemstring': 3589, 'imshow': 3590, 'recording': 3591, 'separately': 3592, 'viewport': 3593, 'vsto': 3594, 'accurate': 3595, 'ninject': 3596, 'supporting': 3597, 'itemssource': 3598, 'transactional': 3599, 'optimized': 3600, 'culture': 3601, 'env': 3602, 'opencl': 3603, 'docx': 3604, 'storyboards': 3605, 'onetoone': 3606, 'bidirectional': 3607, 'args': 3608, 'paper': 3609, 'substrings': 3610, 'inconsistent': 3611, 'overridden': 3612, 'preference': 3613, 'ocr': 3614, 'stdset': 3615, 'flexible': 3616, 'girl': 3617, 'factorygirl': 3618, 'vbscript': 3619, 'carriage': 3620, 'scientific': 3621, 'raising': 3622, 'forloop': 3623, 'predicate': 3624, 'simultaneous': 3625, 'forever': 3626, 'requiring': 3627, 'resetting': 3628, 'expensive': 3629, 'borders': 3630, 'int32': 3631, 'hanging': 3632, 'predefined': 3633, 'lambdas': 3634, 'navigating': 3635, 'xhtml': 3636, 'mapkit': 3637, 'x86': 3638, 'punctuation': 3639, 'observe': 3640, 'signals': 3641, 'loses': 3642, 'edition': 3643, 'periodically': 3644, 'transport': 3645, 'wav': 3646, 'writable': 3647, 'think': 3648, 'placement': 3649, 'nspredicate': 3650, 'polyline': 3651, 'anyobject': 3652, 'welcome': 3653, 'mathematical': 3654, 'sdl': 3655, 'markup': 3656, 'sends': 3657, 'neural': 3658, 'processor': 3659, 'flags': 3660, 'openshift': 3661, 'demo': 3662, 'sqlcommand': 3663, 'autowire': 3664, 'gb': 3665, 'volley': 3666, 'webcam': 3667, 'textures': 3668, 'nonblocking': 3669, 'cake': 3670, 'taskbar': 3671, 'argumenterror': 3672, 'ios5': 3673, 'javalangnosuchmethoderror': 3674, 'jscript': 3675, 'selects': 3676, 'osgi': 3677, 'mechanism': 3678, 'debian': 3679, 'randomize': 3680, 'retry': 3681, 'facet': 3682, 'digital': 3683, 'jasperreports': 3684, 'wp8': 3685, 'alphabet': 3686, 'uiimagepickercontroller': 3687, 'nib': 3688, 'ssrs': 3689, 'handles': 3690, 'hyphen': 3691, 'combined': 3692, 'intended': 3693, 'subplots': 3694, 'collector': 3695, 'outofmemoryerror': 3696, 'stub': 3697, 'dao': 3698, 'availability': 3699, 'presence': 3700, 'djangorestframework': 3701, 'credit': 3702, 'dirty': 3703, 'policy': 3704, 'varying': 3705, 'aka': 3706, 'associate': 3707, 'samples': 3708, 'jodatime': 3709, 'subfolders': 3710, 'things': 3711, 'transparency': 3712, 'workflow': 3713, 'numerical': 3714, 'vagrant': 3715, 'dynamodb': 3716, 'highlighted': 3717, 'constantly': 3718, 'secret': 3719, 'ddmmyyyy': 3720, 'hack': 3721, 'transpose': 3722, 'accepts': 3723, 'cocos2dx': 3724, 'mainwindow': 3725, '2dimensional': 3726, 'raised': 3727, 'speech': 3728, 'workspace': 3729, 'contacts': 3730, 'windowprint': 3731, 'categorical': 3732, 'uitableviewcontroller': 3733, 'neither': 3734, 'pdfs': 3735, 'addin': 3736, 'news': 3737, 'sqlexception': 3738, 'xy': 3739, '128': 3740, 'age': 3741, 'cards': 3742, 'translating': 3743, 'unserialize': 3744, 'adobe': 3745, 'ram': 3746, 'raphaeljs': 3747, 'wxwidgets': 3748, 'album': 3749, 'subclasses': 3750, 'driven': 3751, 'dispatch': 3752, 'marshalling': 3753, 'attaching': 3754, 'mb': 3755, 'ampersand': 3756, 'simulation': 3757, 'depends': 3758, 'possibly': 3759, 'taken': 3760, 'alone': 3761, 'attack': 3762, 'unbind': 3763, 'webform': 3764, 'preferences': 3765, 'notepad++': 3766, 'middleware': 3767, 'sequentially': 3768, 'placeholders': 3769, 'datalist': 3770, 'holding': 3771, 'nonascii': 3772, 'xmlelement': 3773, 'exc_bad_access': 3774, 'delimiters': 3775, 'chosen': 3776, 'arrows': 3777, 'dbmigrate': 3778, 'asterisk': 3779, 'classcastexception': 3780, 'board': 3781, 'viewing': 3782, 'presses': 3783, 'hashcode': 3784, 'configurable': 3785, 'ideas': 3786, 'tweet': 3787, 'subquery': 3788, 'breakpoint': 3789, 'amounts': 3790, 'subdirectory': 3791, 'alertdialog': 3792, 'polling': 3793, 'jwt': 3794, 'significant': 3795, 'calculated': 3796, 'richfaces': 3797, 'ld': 3798, 'cin': 3799, 'freed': 3800, 'reducing': 3801, 'mappings': 3802, 'pid': 3803, 'breakpoints': 3804, 'az': 3805, 'drawer': 3806, 'guessing': 3807, 'jsonstringify': 3808, 'chunks': 3809, 'dictionarystring': 3810, 'serialport': 3811, 'downgrade': 3812, 'awt': 3813, 'se': 3814, 'partially': 3815, 'scrollbars': 3816, 'effectively': 3817, 'requirements': 3818, 'hardware': 3819, 'webpages': 3820, 'atomic': 3821, 'systemnullreferenceexception': 3822, 'compared': 3823, 'layouts': 3824, 'sortable': 3825, 'ioc': 3826, 'hides': 3827, 'hresult': 3828, 'setters': 3829, 'checkboxlist': 3830, 'mod': 3831, 'although': 3832, 'targets': 3833, 'datarow': 3834, 'asking': 3835, 'ef6': 3836, 'enclosing': 3837, 'deletion': 3838, 'cassandra': 3839, 'ci': 3840, 'xhr': 3841, 'gemfile': 3842, 'subtracting': 3843, 'hovering': 3844, 'homebrew': 3845, 'contextmenu': 3846, 'redirect_to': 3847, 'wants': 3848, 'eclipselink': 3849, 'thousands': 3850, 'grayscale': 3851, 'unsafe': 3852, 'solved': 3853, 'emulate': 3854, 'unset': 3855, 'nuget': 3856, 'leaves': 3857, 'xmpp': 3858, 'qstring': 3859, 'vertex': 3860, 'pad': 3861, 'pi': 3862, 'reversing': 3863, 'viewbag': 3864, 'legacy': 3865, 'pre': 3866, 'feeds': 3867, '90': 3868, 'rank': 3869, 'portion': 3870, 'javanetsocketexception': 3871, 'pdoexception': 3872, 'readline': 3873, 'timespan': 3874, 'frequent': 3875, 'homepage': 3876, 'arm': 3877, 'tooltips': 3878, 'contenteditable': 3879, 'uicollectionviewcell': 3880, 'sailsjs': 3881, 'finishes': 3882, 'disconnect': 3883, 'marshal': 3884, 'svm': 3885, 'trap': 3886, 'official': 3887, 'loss': 3888, 'admob': 3889, 'sequential': 3890, 'releasing': 3891, 'perfect': 3892, 'gstreamer': 3893, 'diagonal': 3894, 'natural': 3895, 'regardless': 3896, 'threadsleep': 3897, 'addeventlistener': 3898, 'stringsplit': 3899, 'onclicklistener': 3900, 'receiver': 3901, 'soft': 3902, 'buffers': 3903, 'nice': 3904, 'argv': 3905, 'mysql2': 3906, 'windowonload': 3907, 'masked': 3908, 'nonzero': 3909, 'immediate': 3910, 'relational': 3911, 'shouldnt': 3912, 'activate': 3913, 'affect': 3914, '1204': 3915, 'platforms': 3916, 'findall': 3917, 'hot': 3918, '192': 3919, 'leopard': 3920, 'drawrect': 3921, 'httpresponse': 3922, 'daemon': 3923, 'discrete': 3924, 'stock': 3925, 'collectionview': 3926, 'ipaddress': 3927, 'emit': 3928, 'usable': 3929, 'swagger': 3930, 'environments': 3931, 'smoothly': 3932, 'pretty': 3933, 'templated': 3934, 'alter': 3935, 'validations': 3936, 'nsdateformatter': 3937, 'wp': 3938, 'suspend': 3939, 'titles': 3940, 'prev': 3941, 'removal': 3942, 'vnext': 3943, 'underline': 3944, 'stackoverflow': 3945, 'act': 3946, 'expect': 3947, 'payments': 3948, 'margins': 3949, 'latex': 3950, 'filesystem': 3951, 'activities': 3952, 'lose': 3953, 'mysqli_query': 3954, 'greek': 3955, 'cpanel': 3956, 'qtcreator': 3957, 'filtered': 3958, 'actively': 3959, 'iterable': 3960, 'multiplying': 3961, 'remain': 3962, 'rubygems': 3963, 'fake': 3964, 'subscribe': 3965, 'identifying': 3966, 'scrolltop': 3967, 'docs': 3968, 'sqlconnection': 3969, 'ppt': 3970, 'disappearing': 3971, '256': 3972, 'elementwise': 3973, 'pyplot': 3974, 'mutable': 3975, 'concept': 3976, 't_variable': 3977, 'pending': 3978, 'observer': 3979, 'reflect': 3980, 'subject': 3981, 'annotate': 3982, 'submenu': 3983, 'directions': 3984, 'aop': 3985, 'consumption': 3986, 'flex': 3987, 'sunday': 3988, 'outline': 3989, 'timeseries': 3990, 'cout': 3991, 'opensource': 3992, 'reply': 3993, 'shortest': 3994, 'operating': 3995, 'decrement': 3996, 'func': 3997, 'spider': 3998, 'sense': 3999, 'circles': 4000, 'license': 4001, 'clojure': 4002, 'anymore': 4003, 'flasksqlalchemy': 4004, 'windsor': 4005, 'fallback': 4006, 'invalidate': 4007, 'administrator': 4008, 'lang': 4009, 'childs': 4010, 'meteorjs': 4011, 'userdefined': 4012, 'reactnative': 4013, 'stanford': 4014, 'outputstream': 4015, 'separating': 4016, 'logon': 4017, 'turned': 4018, 'recyclerview': 4019, '#2': 4020, 'asm': 4021, 'weak': 4022, 'adds': 4023, 'wizard': 4024, 'tpl': 4025, '09': 4026, 'bat': 4027, 'inflating': 4028, 'expanding': 4029, 'pthread_create': 4030, 'interact': 4031, 'glsl': 4032, 'sizeof': 4033, 'crossorigin': 4034, 'itemtemplate': 4035, 'colored': 4036, 'factors': 4037, 'blog': 4038, 'outputs': 4039, 'locks': 4040, 'captured': 4041, 'copied': 4042, 'nsobject': 4043, 'snake': 4044, 'mysql_connect': 4045, 'disposed': 4046, 'lvalue': 4047, 'linearlayout': 4048, 'thirdparty': 4049, 'friend': 4050, 'amp': 4051, 'occur': 4052, 'accepted': 4053, 'producer': 4054, 'chromedriver': 4055, 'happening': 4056, 'httpservletrequest': 4057, 'indexerror': 4058, 'rejected': 4059, 'subdirectories': 4060, 'doubly': 4061, 'getters': 4062, 'five': 4063, 'acquire': 4064, 'blackberry': 4065, 'serversocket': 4066, 'openxml': 4067, 'internationalization': 4068, 'nsurl': 4069, 'rcp': 4070, 'temp': 4071, 'onsubmit': 4072, 'accessor': 4073, 'interest': 4074, 'permitted': 4075, 'sandbox': 4076, 'gray': 4077, 'probability': 4078, 'grammar': 4079, 'sibling': 4080, '__getitem__': 4081, 'timeouts': 4082, 'crontab': 4083, 'distinguish': 4084, 'fan': 4085, 'becomes': 4086, 'lot': 4087, 'acting': 4088, 'wheel': 4089, 'detached': 4090, 'appium': 4091, '16bit': 4092, 'hub': 4093, 'backgroundimage': 4094, 'capitalize': 4095, 'unfortunately': 4096, 'affected': 4097, 'cropping': 4098, 'wide': 4099, 'secured': 4100, 'showdialog': 4101, 'discover': 4102, 'straight': 4103, 'backspace': 4104, 'concrete': 4105, 'segments': 4106, 'refactor': 4107, 'international': 4108, 'pyramid': 4109, 'optimal': 4110, 'backwards': 4111, 'llvm': 4112, 'outofmemoryexception': 4113, 'unmarshalling': 4114, 'communicating': 4115, 'weka': 4116, 'illegalstateexception': 4117, 'mapper': 4118, 'hooks': 4119, 'ascx': 4120, 'receives': 4121, 'visit': 4122, 'street': 4123, 'ws': 4124, 'cstring': 4125, 'comparisons': 4126, 'kml': 4127, 'assignments': 4128, 'preferably': 4129, 'prop': 4130, 'maybe': 4131, 'tfs': 4132, 'legal': 4133, 'profiler': 4134, 'cellforrowatindexpath': 4135, 'chance': 4136, 'www': 4137, 'worth': 4138, '75': 4139, 'djangoadmin': 4140, 'stable': 4141, 'important': 4142, 'say': 4143, 'theres': 4144, 'inspect': 4145, 'bytearray': 4146, 'timing': 4147, 'apns': 4148, 'pyc': 4149, 'java_home': 4150, 'routeprovider': 4151, 'prints': 4152, 'dir': 4153, 'organize': 4154, 'coldfusion': 4155, 'manner': 4156, 'pro': 4157, 'retrieval': 4158, 'cascading': 4159, 'ngshow': 4160, 'couchdb': 4161, 'lengths': 4162, 'corruption': 4163, 'repositories': 4164, 'helloworld': 4165, 'maximized': 4166, '1404': 4167, 'machines': 4168, 'caseinsensitive': 4169, 'lan': 4170, 'stroke': 4171, '__attribute__': 4172, 'cshtml': 4173, 'relations': 4174, 'castle': 4175, 'permutation': 4176, 'delayed': 4177, 'smart': 4178, 'accounts': 4179, 'typetext': 4180, 'usercontrols': 4181, 'strongly': 4182, 'kinect': 4183, 'has_one': 4184, 'represented': 4185, 'timezones': 4186, 'mavericks': 4187, 'comparator': 4188, 'deviation': 4189, 'sys': 4190, 'snap': 4191, 'rect': 4192, 'cascade': 4193, 'grabbing': 4194, 'limitations': 4195, 'stamp': 4196, 'intervals': 4197, 'getelementsbyclassname': 4198, 'yesterday': 4199, 'skipping': 4200, 'unbound': 4201, 'figures': 4202, 'turns': 4203, 'rotated': 4204, 'hyperlinks': 4205, 'newer': 4206, 'repo': 4207, 'clob': 4208, 'placing': 4209, 'didselectrowatindexpath': 4210, 'oserror': 4211, 'dropping': 4212, 'raspberry': 4213, 'enumerate': 4214, 'rubys': 4215, 'scanning': 4216, 'toggling': 4217, 'prototypes': 4218, 'apache2': 4219, 'corrupt': 4220, 'impossible': 4221, 'strcpy': 4222, 'versioning': 4223, 'nonempty': 4224, 'specialization': 4225, 'flickering': 4226, 'reach': 4227, 'viewpager': 4228, 'improving': 4229, 'ear': 4230, 'submits': 4231, 'allocating': 4232, 'edited': 4233, 'meant': 4234, 'stdclass': 4235, 'temperature': 4236, 'forwarding': 4237, '502': 4238, 'person': 4239, '05': 4240, 'barcode': 4241, 'resulting': 4242, 'shorter': 4243, 'require_once': 4244, 'digest': 4245, 'contentlength': 4246, 'parameterless': 4247, 'involving': 4248, 'subtraction': 4249, '36': 4250, 'cost': 4251, 'exposing': 4252, '70': 4253, 'avaudioplayer': 4254, 'slug': 4255, 'constructed': 4256, 'disconnected': 4257, 'among': 4258, 'badge': 4259, 'attempts': 4260, 'ipv6': 4261, 'shell_exec': 4262, 'oauth2': 4263, 'theano': 4264, 'terms': 4265, 'displaynone': 4266, 'parenthesis': 4267, 'j': 4268, 'dynamics': 4269, 'lifecycle': 4270, 'busy': 4271, 'affecting': 4272, 'ddl': 4273, 'mouseout': 4274, 'uml': 4275, 'redirecttoaction': 4276, 'destruction': 4277, 'pausing': 4278, 'outofmemory': 4279, 'prevents': 4280, 'inactive': 4281, 'histograms': 4282, 'instanceof': 4283, 'patch': 4284, 'datasets': 4285, 'centering': 4286, 'adjusting': 4287, 'fixing': 4288, 'swapping': 4289, 'iterations': 4290, 'monthly': 4291, 'declares': 4292, 'dummy': 4293, 'openid': 4294, 'instruction': 4295, 'lag': 4296, 'u': 4297, 'marionette': 4298, 'mandatory': 4299, 'conform': 4300, 'unlock': 4301, 'killed': 4302, 'opposed': 4303, 'ctrl': 4304, 'ordinal': 4305, 'systemtimerstimer': 4306, 'subscription': 4307, 'trees': 4308, 'jpanels': 4309, 'providing': 4310, 'reactive': 4311, 'javaiofilenotfoundexception': 4312, 'mediawiki': 4313, 'rearrange': 4314, 'libs': 4315, 'percentages': 4316, 'attacks': 4317, 'webapplication': 4318, 'solving': 4319, 'nsmutabledictionary': 4320, 'getelementsbytagname': 4321, 'panning': 4322, 'webxml': 4323, 'recover': 4324, 'repeats': 4325, 'partialview': 4326, 'pager': 4327, 'simplexmlelement': 4328, 'reactrouter': 4329, 'retrive': 4330, 'jinja': 4331, 'rn': 4332, 'generators': 4333, 'selectedindex': 4334, 'portrait': 4335, 'neo4j': 4336, 'mstest': 4337, 'mousemove': 4338, 'ini': 4339, 'consider': 4340, 'concurrenthashmap': 4341, 'jdbctemplate': 4342, 'dead': 4343, 'parallelforeach': 4344, '46': 4345, 'backward': 4346, 'gridlayout': 4347, 'perfectly': 4348, 'httprequest': 4349, 'visitor': 4350, 'robust': 4351, 'phrase': 4352, 'reliably': 4353, 'situation': 4354, 'biggest': 4355, 'recv': 4356, 'cleanup': 4357, 'dock': 4358, 'reversed': 4359, 'undo': 4360, 'nsnumber': 4361, 'purposes': 4362, 'settext': 4363, 'i++': 4364, 'objectid': 4365, 'props': 4366, 'nas': 4367, 'de': 4368, 'strong': 4369, 'pieces': 4370, 'browserify': 4371, 'predict': 4372, 'documentready': 4373, 'simplify': 4374, 'vars': 4375, 'monotouch': 4376, 'robot': 4377, 'isolate': 4378, 'secondary': 4379, 'repaint': 4380, 'bindingsource': 4381, 'half': 4382, 'godaddy': 4383, 'scratch': 4384, 'whilst': 4385, 'whitespaces': 4386, 'crawling': 4387, 'destroyed': 4388, 'analog': 4389, 'interceptor': 4390, 'engines': 4391, 'presentation': 4392, 'expiration': 4393, 'transitions': 4394, 'inherits': 4395, 'msg': 4396, 'affects': 4397, 'ngif': 4398, 'lnk2019': 4399, 'unpack': 4400, 'become': 4401, 'newtonsoftjson': 4402, 'contour': 4403, 'bridge': 4404, 'automating': 4405, 'ioerror': 4406, 'keystore': 4407, 'jruby': 4408, 'dist': 4409, 'seeing': 4410, 'reconnect': 4411, 'stringreplace': 4412, 'size_t': 4413, 'mistake': 4414, 'moved': 4415, 'q': 4416, 'hand': 4417, 'reserved': 4418, 'autowiring': 4419, 'scoping': 4420, 'crawl': 4421, 'hhmm': 4422, 'requesting': 4423, 'rmarkdown': 4424, 'clauses': 4425, 'permgen': 4426, 'leads': 4427, 'interpret': 4428, 'onblur': 4429, 'warn': 4430, 'behaving': 4431, 'published': 4432, 'filenotfoundexception': 4433, 'linebreaks': 4434, 'uitabbarcontroller': 4435, 'nav': 4436, 'commaseparated': 4437, 'requirement': 4438, 'follows': 4439, 'compareto': 4440, 'scrolls': 4441, 'motion': 4442, 'vista': 4443, 'moment': 4444, 'datarows': 4445, 'arrayliststring': 4446, 'prefer': 4447, 'fosuserbundle': 4448, 'technique': 4449, 'vb6': 4450, 'asterisks': 4451, 'suggestion': 4452, 'hint': 4453, 'tablet': 4454, 'behave': 4455, 'cvmat': 4456, 'drools': 4457, 'ensuring': 4458, 'concepts': 4459, 'contract': 4460, 'idiom': 4461, 'talk': 4462, 'rxjava': 4463, 'xxxx': 4464, 'rating': 4465, 'exiting': 4466, 'backcolor': 4467, 'autoscroll': 4468, 'phtml': 4469, 'lifetime': 4470, 'guaranteed': 4471, 'subarray': 4472, 'reusable': 4473, 'jsfiddle': 4474, '71': 4475, 'squares': 4476, 'ended': 4477, 'javalangunsatisfiedlinkerror': 4478, 'sums': 4479, 'des': 4480, 'early': 4481, 'webstorm': 4482, 'sklearn': 4483, 'userid': 4484, 'transactionscope': 4485, 'fetched': 4486, 'stdlist': 4487, 'subqueries': 4488, 'sscanf': 4489, 'reject': 4490, 'aligning': 4491, 'strength': 4492, 'move_uploaded_file': 4493, 'intermediate': 4494, 'mvc2': 4495, 'dropdowns': 4496, 'java8': 4497, 'stores': 4498, 'troubles': 4499, 'benchmark': 4500, 'springs': 4501, 'ios8': 4502, 'grep': 4503, 'gap': 4504, 'reads': 4505, 'phase': 4506, 'xx': 4507, 'belong': 4508, 'textfields': 4509, 'form1': 4510, 'uibarbuttonitem': 4511, 'bundles': 4512, 'basics': 4513, 'aspectj': 4514, 'dos': 4515, '111': 4516, 'erb': 4517, 'executereader': 4518, 'form_for': 4519, 'latin': 4520, 'checkedlistbox': 4521, 'playlist': 4522, 'arg': 4523, 'outgoing': 4524, 'comparable': 4525, 'compiletime': 4526, 'quickest': 4527, 'realloc': 4528, 'networking': 4529, 'minimal': 4530, 'eliminate': 4531, 'as3': 4532, 'monday': 4533, 'deny': 4534, 'setattribute': 4535, 'notebook': 4536, 'dtype': 4537, 'traversing': 4538, 'mousedown': 4539, 'disposing': 4540, 'datasources': 4541, 'triangles': 4542, 'falls': 4543, 'unterminated': 4544, 'anywhere': 4545, 'sides': 4546, 'len': 4547, 'selecteditem': 4548, 'converts': 4549, 'constructing': 4550, 'suggest': 4551, 'urlopen': 4552, 'indirect': 4553, '323': 4554, 'runserver': 4555, 'reopen': 4556, 'moves': 4557, 'signing': 4558, 'created_at': 4559, 'di': 4560, 'stage': 4561, 'timers': 4562, 'ie10': 4563, '106': 4564, 'inmemory': 4565, 'grant': 4566, 'captcha': 4567, 'firebird': 4568, 'aurelia': 4569, 'initialise': 4570, 'distributed': 4571, 'room': 4572, '0s': 4573, 'gsub': 4574, 'tbody': 4575, 'servletcontext': 4576, 'midnight': 4577, 'puzzle': 4578, 'couple': 4579, 'scatterplot': 4580, '__dopostback': 4581, 'alt': 4582, 'mouseenter': 4583, 'browsing': 4584, 'setcookie': 4585, 'prepend': 4586, 'instant': 4587, 'air': 4588, 'restricting': 4589, 'truncating': 4590, 'str_replace': 4591, 'purchase': 4592, 'nsmanagedobject': 4593, 'stays': 4594, 'jquerymobile': 4595, 'pane': 4596, 'centered': 4597, 'scenarios': 4598, 'extremely': 4599, 'freezing': 4600, 'recognised': 4601, 'volatile': 4602, 'bigdecimal': 4603, 'wise': 4604, 'javalanginteger': 4605, 'oncreate': 4606, 'polynomial': 4607, 'jobject': 4608, 'instructions': 4609, 'opera': 4610, 'securely': 4611, 'pow': 4612, 'superview': 4613, 'blade': 4614, 'connectivity': 4615, 'paragraphs': 4616, 'javanetconnectexception': 4617, 'sun': 4618, 'practise': 4619, 'lwjgl': 4620, 'joined': 4621, 'checks': 4622, 'boundaries': 4623, 'cdi': 4624, 'urllib': 4625, 'succeeded': 4626, 'windowsh': 4627, 'decorators': 4628, 'normalize': 4629, 'simplexml_load_string': 4630, 'ellipse': 4631, '503': 4632, 'viewmodels': 4633, 'sqlserver': 4634, 'buffered': 4635, 'tabbed': 4636, 'datetimefield': 4637, 'practical': 4638, 'note': 4639, 'matter': 4640, 'parseint': 4641, 'met': 4642, 'pem': 4643, '301': 4644, 'var_dump': 4645, 'die': 4646, 'jasperreport': 4647, 'ashx': 4648, 'runner': 4649, 'programmatic': 4650, 'defaults': 4651, 'fall': 4652, 'porting': 4653, 'unescape': 4654, 'pods': 4655, 'picking': 4656, 'endless': 4657, 'dashes': 4658, 'selectedvalue': 4659, 'banner': 4660, 'utf': 4661, 'fontawesome': 4662, 'twoway': 4663, 'massive': 4664, 'complicated': 4665, 'cyrillic': 4666, 'webrequest': 4667, 'mysql_num_rows': 4668, 'euler': 4669, 'complement': 4670, 'stringify': 4671, 'basis': 4672, 'inactivity': 4673, 'viewdidload': 4674, 'current_user': 4675, 'subsets': 4676, 'authenticating': 4677, 'vowels': 4678, 'monodevelop': 4679, 'log4jxml': 4680, 'read_csv': 4681, 'killing': 4682, 'logo': 4683, 'million': 4684, 'enhanced': 4685, 'counts': 4686, 'advance': 4687, 'overwritten': 4688, 'interacting': 4689, 'popular': 4690, 'keyerror': 4691, 'soapclient': 4692, 'otherwise': 4693, 'paginate': 4694, 'nsinteger': 4695, 'hasmany': 4696, 'colours': 4697, 'precise': 4698, 'uint8_t': 4699, 'actionresult': 4700, 'rightclick': 4701, 'localtime': 4702, 'configurations': 4703, 'protection': 4704, 'programmer': 4705, 'reordering': 4706, 'troubleshooting': 4707, '#object': 4708, 'addclass': 4709, 'exits': 4710, 'often': 4711, 'taskrun': 4712, 'periodic': 4713, 'proc': 4714, 'developers': 4715, 'struggling': 4716, 'pound': 4717, 'premature': 4718, 'adjacent': 4719, 'sqlparameter': 4720, 'tweets': 4721, 'interprocess': 4722, 'depend': 4723, 'mozilla': 4724, 'groupbox': 4725, 'subcategories': 4726, 'uibuttons': 4727, 'assume': 4728, 'injected': 4729, 'print_r': 4730, 'catalog': 4731, 'attempted': 4732, 'roll': 4733, 'autoload': 4734, 'decoded': 4735, 'tries': 4736, 'flipping': 4737, 'respective': 4738, 'compiles': 4739, 'expiry': 4740, 'recommendations': 4741, 'popups': 4742, 'pushed': 4743, 'datetimes': 4744, 'executenonquery': 4745, 'primaryexpression': 4746, 'shipping': 4747, 'selectedindexchanged': 4748, 'routine': 4749, 'pan': 4750, 'daily': 4751, 'viewed': 4752, 'compressed': 4753, '110': 4754, 'complains': 4755, 'feedback': 4756, 'recipient': 4757, 'refuses': 4758, 'findviewbyid': 4759, 'xmlns': 4760, 'appdelegate': 4761, 'fashion': 4762, 'books': 4763, 'tapped': 4764, 'feel': 4765, 'publishing': 4766, 'update_attributes': 4767, 'weekends': 4768, 'finger': 4769, 'locating': 4770, 'mocked': 4771, 'cancellation': 4772, 'executorservice': 4773, 'idiomatic': 4774, 'recipients': 4775, 'viable': 4776, 'inference': 4777, 'quantity': 4778, 'confusing': 4779, 'compressing': 4780, '#1': 4781, 'branch': 4782, 'transforming': 4783, 'stylesheets': 4784, 'birth': 4785, 'springsecurity': 4786, 'saying': 4787, 'cv': 4788, 'capital': 4789, 'poor': 4790, 'money': 4791, 'corresponds': 4792, 'javalangruntimeexception': 4793, 'hashmaps': 4794, 'dim': 4795, 'requestbody': 4796, 'actionlink': 4797, 'zurb': 4798, 'standards': 4799, 'fileoutputstream': 4800, 'pod': 4801, 'bigger': 4802, 'transferred': 4803, 'tdd': 4804, 'listint': 4805, 'systemint32': 4806, 'keycode': 4807, 'sphere': 4808, 'workers': 4809, 'weekly': 4810, 'webpart': 4811, 'student': 4812, 'uuid': 4813, 'rbind': 4814, 'boxplot': 4815, 'gcd': 4816, 'crossthread': 4817, 'spy': 4818, 'fadeout': 4819, '#pragma': 4820, 'tiles': 4821, 'phones': 4822, 'verifying': 4823, 'difficulty': 4824, 'technology': 4825, 'jbuttons': 4826, 'triple': 4827, 'visited': 4828, 'qt5': 4829, 'goal': 4830, 'toolbox': 4831, 'sticky': 4832, 'modalpopupextender': 4833, 'unqualifiedid': 4834, 'bubbling': 4835, 'th': 4836, 'mapstring': 4837, 'javalangnumberformatexception': 4838, 'differ': 4839, 'stale': 4840, 'drawimage': 4841, 'quotation': 4842, 'exponent': 4843, 'socketexception': 4844, 'deferred': 4845, 'unnecessary': 4846, 'articles': 4847, 'mathround': 4848, 'artifacts': 4849, 'mvn': 4850, 'far': 4851, 'awesome': 4852, 'programme': 4853, 'modelsave': 4854, 'messed': 4855, 'listviewitem': 4856, 'facebooks': 4857, 'followers': 4858, 'nslog': 4859, '255': 4860, 'gaps': 4861, 'mesh': 4862, '187': 4863, 'sqldatasource': 4864, 'dbnull': 4865, 'semantic': 4866, 'applicationproperties': 4867, 'linqtoentities': 4868, 'alphabetic': 4869, 'defer': 4870, 'mysqlsock': 4871, 'scikit': 4872, 'painting': 4873, 'nonexistent': 4874, 'stdthread': 4875, 'life': 4876, 'documentcreateelement': 4877, 'splice': 4878, 'endpoints': 4879, 'redirect_uri': 4880, 'javax': 4881, 'createfile': 4882, '220': 4883, 'sqlquery': 4884, 'deck': 4885, 'snow': 4886, 'sublist': 4887, 'preflight': 4888, 'variadic': 4889, 'l': 4890, 'disallowed': 4891, 'logistic': 4892, 'google+': 4893, 'gaussian': 4894, 'retaining': 4895, 'intranet': 4896, 'itunes': 4897, 'collapsible': 4898, 'beginners': 4899, 'raises': 4900, 'sounds': 4901, 'objectoriented': 4902, '_request': 4903, 'differentiate': 4904, 'preload': 4905, 'contentsize': 4906, 'late': 4907, 'nsthread': 4908, 'merged': 4909, 'mimetype': 4910, 'discount': 4911, 'initiate': 4912, 'tabcontrol': 4913, 'pinch': 4914, 'caret': 4915, 'codefirst': 4916, 'continuewith': 4917, 'sitemap': 4918, 'simplexml_load_file': 4919, 'hashtag': 4920, 'nondefault': 4921, 'stringcontains': 4922, 'pylab': 4923, 'edges': 4924, 'mysql_real_escape_string': 4925, 'openfiledialog': 4926, 'subtype': 4927, '127': 4928, 'concurrently': 4929, 'textboxfor': 4930, 'vendor': 4931, 'finder': 4932, 'extjs4': 4933, 'redeclare': 4934, 'derive': 4935, 'piece': 4936, 'cover': 4937, 'javalangunsupportedclassversionerror': 4938, 'minification': 4939, 'mediaplayer': 4940, 'minimized': 4941, 'games': 4942, 'delivery': 4943, '8601': 4944, 'cumulative': 4945, 'typeof': 4946, 'push_back': 4947, 'rubygem': 4948, 'impact': 4949, 'zipped': 4950, 'uitabbar': 4951, 'applicationcontext': 4952, 'inputted': 4953, 'chromes': 4954, 'qwidget': 4955, 'statically': 4956, 'multibyte': 4957, 'jcombobox': 4958, 'raw_input': 4959, 'visualstudio': 4960, 'innertext': 4961, '0xc0000005': 4962, 'formed': 4963, 'localhost8080': 4964, 'findby': 4965, 'saves': 4966, 'alphabets': 4967, 'multiples': 4968, 'cgridview': 4969, 'normally': 4970, 'referer': 4971, 'multicolumn': 4972, '1054': 4973, 'nongeneric': 4974, 'typecasting': 4975, 'r2': 4976, 'static_cast': 4977, 'javasqldate': 4978, 'fx': 4979, 'qpushbutton': 4980, 'modifiers': 4981, 'expires': 4982, 'eventhandler': 4983, 'androidviewinflateexception': 4984, 'obtained': 4985, 'bottleneck': 4986, 'trusted': 4987, 'ifstream': 4988, 'listitem': 4989, 'homework': 4990, 'ca': 4991, 'babel': 4992, 'x11': 4993, 'chef': 4994, 'polygons': 4995, 'mysql2error': 4996, 'absolutely': 4997, 'nethttp': 4998, 'median': 4999}\n"
          ],
          "name": "stdout"
        }
      ]
    },
    {
      "cell_type": "code",
      "metadata": {
        "id": "R3MGsT2z1-6I",
        "colab_type": "code",
        "colab": {}
      },
      "source": [
        "def test_my_bag_of_words():\n",
        "    words_to_index = {'hi': 0, 'you': 1, 'me': 2, 'are': 3}\n",
        "    examples = ['hi how are you']\n",
        "    answers = [[1, 1, 0, 1]]\n",
        "    for ex, ans in zip(examples, answers):\n",
        "        if (my_bag_of_words(ex, words_to_index, 4) != ans).any():\n",
        "            return \"Wrong answer for the case: '%s'\" % ex\n",
        "    return 'Basic tests are passed.'"
      ],
      "execution_count": 91,
      "outputs": []
    },
    {
      "cell_type": "code",
      "metadata": {
        "id": "qxt2owcz1-6M",
        "colab_type": "code",
        "colab": {
          "base_uri": "https://localhost:8080/",
          "height": 34
        },
        "outputId": "68ced1f0-f217-466e-ec7f-8481e0ba25e0"
      },
      "source": [
        "print(test_my_bag_of_words())"
      ],
      "execution_count": 92,
      "outputs": [
        {
          "output_type": "stream",
          "text": [
            "Basic tests are passed.\n"
          ],
          "name": "stdout"
        }
      ]
    },
    {
      "cell_type": "markdown",
      "metadata": {
        "id": "2dbsJ9GS1-6S",
        "colab_type": "text"
      },
      "source": [
        "Now apply the implemented function to all samples (this might take up to a minute):"
      ]
    },
    {
      "cell_type": "code",
      "metadata": {
        "id": "AKJzuqh11-6T",
        "colab_type": "code",
        "colab": {}
      },
      "source": [
        "from scipy import sparse as sp_sparse"
      ],
      "execution_count": 93,
      "outputs": []
    },
    {
      "cell_type": "code",
      "metadata": {
        "id": "SQPFwkTQ1-6Z",
        "colab_type": "code",
        "colab": {
          "base_uri": "https://localhost:8080/",
          "height": 68
        },
        "outputId": "5ac350b0-eb4e-4625-b470-e2911671eb5e"
      },
      "source": [
        "X_train_mybag = sp_sparse.vstack([sp_sparse.csr_matrix(my_bag_of_words(text, WORDS_TO_INDEX, DICT_SIZE)) for text in X_train])\n",
        "X_val_mybag = sp_sparse.vstack([sp_sparse.csr_matrix(my_bag_of_words(text, WORDS_TO_INDEX, DICT_SIZE)) for text in X_val])\n",
        "X_test_mybag = sp_sparse.vstack([sp_sparse.csr_matrix(my_bag_of_words(text, WORDS_TO_INDEX, DICT_SIZE)) for text in X_test])\n",
        "print('X_train shape ', X_train_mybag.shape)\n",
        "print('X_val shape ', X_val_mybag.shape)\n",
        "print('X_test shape ', X_test_mybag.shape)"
      ],
      "execution_count": 97,
      "outputs": [
        {
          "output_type": "stream",
          "text": [
            "X_train shape  (100000, 5000)\n",
            "X_val shape  (30000, 5000)\n",
            "X_test shape  (20000, 5000)\n"
          ],
          "name": "stdout"
        }
      ]
    },
    {
      "cell_type": "code",
      "metadata": {
        "id": "WBIqKbZgscJr",
        "colab_type": "code",
        "colab": {
          "base_uri": "https://localhost:8080/",
          "height": 204
        },
        "outputId": "a7eaae93-13a9-4441-8d7e-fa0613219441"
      },
      "source": [
        "for i,row in enumerate(X_train_mybag):\n",
        "  if (np.nonzero(X_train_mybag[i].toarray())):\n",
        "    print(np.nonzero(X_train_mybag[0].toarray()))\n",
        "    "
      ],
      "execution_count": 95,
      "outputs": [
        {
          "output_type": "stream",
          "text": [
            "(array([0, 0, 0]), array([  98,  605, 2854]))\n",
            "(array([0, 0, 0]), array([  98,  605, 2854]))\n",
            "(array([0, 0, 0]), array([  98,  605, 2854]))\n",
            "(array([0, 0, 0]), array([  98,  605, 2854]))\n",
            "(array([0, 0, 0]), array([  98,  605, 2854]))\n",
            "(array([0, 0, 0]), array([  98,  605, 2854]))\n",
            "(array([0, 0, 0]), array([  98,  605, 2854]))\n",
            "(array([0, 0, 0]), array([  98,  605, 2854]))\n",
            "(array([0, 0, 0]), array([  98,  605, 2854]))\n",
            "(array([0, 0, 0]), array([  98,  605, 2854]))\n",
            "(array([0, 0, 0]), array([  98,  605, 2854]))\n"
          ],
          "name": "stdout"
        }
      ]
    },
    {
      "cell_type": "markdown",
      "metadata": {
        "id": "dAOSLyzR1-6e",
        "colab_type": "text"
      },
      "source": [
        "As you might notice, we transform the data to sparse representation, to store the useful information efficiently. There are many [types](https://docs.scipy.org/doc/scipy/reference/sparse.html) of such representations, however sklearn algorithms can work only with [csr](https://docs.scipy.org/doc/scipy/reference/generated/scipy.sparse.csr_matrix.html#scipy.sparse.csr_matrix) matrix, so we will use this one."
      ]
    },
    {
      "cell_type": "markdown",
      "metadata": {
        "id": "mQiOLvJY1-6f",
        "colab_type": "text"
      },
      "source": [
        "**Task 3 (BagOfWords).** For the 11th row in *X_train_mybag* find how many non-zero elements it has. In this task the answer (variable *non_zero_elements_count*) should be an integer number, e.g. 20."
      ]
    },
    {
      "cell_type": "code",
      "metadata": {
        "id": "BKXK_H0d1-6h",
        "colab_type": "code",
        "colab": {
          "base_uri": "https://localhost:8080/",
          "height": 51
        },
        "outputId": "70e20f45-d7c0-49b6-ff7f-f6a10c2c1f03"
      },
      "source": [
        "row = X_train_mybag[10].toarray()[0]\n",
        "non_zero_elements_count = np.count_nonzero(row)\n",
        "\n",
        "grader.submit_tag('BagOfWords', str(non_zero_elements_count))"
      ],
      "execution_count": 98,
      "outputs": [
        {
          "output_type": "stream",
          "text": [
            "Current answer for task BagOfWords is:\n",
            " 7...\n"
          ],
          "name": "stdout"
        }
      ]
    },
    {
      "cell_type": "markdown",
      "metadata": {
        "id": "hEYN9LPP1-6m",
        "colab_type": "text"
      },
      "source": [
        "#### TF-IDF\n",
        "\n",
        "The second approach extends the bag-of-words framework by taking into account total frequencies of words in the corpora. It helps to penalize too frequent words and provide better features space. \n",
        "\n",
        "Implement function *tfidf_features* using class [TfidfVectorizer](http://scikit-learn.org/stable/modules/generated/sklearn.feature_extraction.text.TfidfVectorizer.html) from *scikit-learn*. Use *train* corpus to train a vectorizer. Don't forget to take a look into the arguments that you can pass to it. We suggest that you filter out too rare words (occur less than in 5 titles) and too frequent words (occur more than in 90% of the titles). Also, use bigrams along with unigrams in your vocabulary. "
      ]
    },
    {
      "cell_type": "code",
      "metadata": {
        "id": "tzYSEZK91-6n",
        "colab_type": "code",
        "colab": {}
      },
      "source": [
        "from sklearn.feature_extraction.text import TfidfVectorizer"
      ],
      "execution_count": 101,
      "outputs": []
    },
    {
      "cell_type": "code",
      "metadata": {
        "id": "dRtEHGyx1-6u",
        "colab_type": "code",
        "colab": {}
      },
      "source": [
        "def tfidf_features(X_train, X_val, X_test):\n",
        "    \"\"\"\n",
        "        X_train, X_val, X_test — samples        \n",
        "        return TF-IDF vectorized representation of each sample and vocabulary\n",
        "    \"\"\"\n",
        "    # Create TF-IDF vectorizer with a proper parameters choice\n",
        "    # Fit the vectorizer on the train set\n",
        "    # Transform the train, test, and val sets and return the result\n",
        "    \n",
        "    \n",
        "    tfidf_vectorizer = TfidfVectorizer(token_pattern='(\\S+)', ngram_range=(1,2),min_df=5, max_df = 0.9)\n",
        "    tfidf_vectorizer.fit(X_train)\n",
        "    X_train = tfidf_vectorizer.transform(X_train)\n",
        "    X_val = tfidf_vectorizer.transform(X_val)\n",
        "    X_test = tfidf_vectorizer.transform(X_test)\n",
        "    \n",
        "    return X_train, X_val, X_test, tfidf_vectorizer.vocabulary_"
      ],
      "execution_count": 121,
      "outputs": []
    },
    {
      "cell_type": "markdown",
      "metadata": {
        "id": "3OkqmIO_1-6z",
        "colab_type": "text"
      },
      "source": [
        "Once you have done text preprocessing, always have a look at the results. Be very careful at this step, because the performance of future models will drastically depend on it. \n",
        "\n",
        "In this case, check whether you have c++ or c# in your vocabulary, as they are obviously important tokens in our tags prediction task:"
      ]
    },
    {
      "cell_type": "code",
      "metadata": {
        "id": "zYXfJaG31-60",
        "colab_type": "code",
        "colab": {}
      },
      "source": [
        "X_train_tfidf, X_val_tfidf, X_test_tfidf, tfidf_vocab = tfidf_features(X_train, X_val, X_test)\n",
        "tfidf_reversed_vocab = {i:word for word,i in tfidf_vocab.items()}"
      ],
      "execution_count": 122,
      "outputs": []
    },
    {
      "cell_type": "code",
      "metadata": {
        "id": "vMKQYBO21-65",
        "colab_type": "code",
        "colab": {
          "base_uri": "https://localhost:8080/",
          "height": 34
        },
        "outputId": "364c2366-b280-4b25-b92c-84138954d67f"
      },
      "source": [
        "\n",
        "'c#' in tfidf_reversed_vocab.values()"
      ],
      "execution_count": 123,
      "outputs": [
        {
          "output_type": "execute_result",
          "data": {
            "text/plain": [
              "True"
            ]
          },
          "metadata": {
            "tags": []
          },
          "execution_count": 123
        }
      ]
    },
    {
      "cell_type": "markdown",
      "metadata": {
        "id": "mzLLRZVG1-7C",
        "colab_type": "text"
      },
      "source": [
        "If you can't find it, we need to understand how did it happen that we lost them? It happened during the built-in tokenization of TfidfVectorizer. Luckily, we can influence on this process. Get back to the function above and use '(\\S+)' regexp as a *token_pattern* in the constructor of the vectorizer.  "
      ]
    },
    {
      "cell_type": "markdown",
      "metadata": {
        "id": "94hi99ct1-7I",
        "colab_type": "text"
      },
      "source": [
        "### MultiLabel classifier\n",
        "\n",
        "As we have noticed before, in this task each example can have multiple tags. To deal with such kind of prediction, we need to transform labels in a binary form and the prediction will be a mask of 0s and 1s. For this purpose it is convenient to use [MultiLabelBinarizer](http://scikit-learn.org/stable/modules/generated/sklearn.preprocessing.MultiLabelBinarizer.html) from *sklearn*."
      ]
    },
    {
      "cell_type": "code",
      "metadata": {
        "id": "fBsnVpuN1-7J",
        "colab_type": "code",
        "colab": {}
      },
      "source": [
        "from sklearn.preprocessing import MultiLabelBinarizer"
      ],
      "execution_count": null,
      "outputs": []
    },
    {
      "cell_type": "code",
      "metadata": {
        "id": "Jgu4dwoI1-7P",
        "colab_type": "code",
        "colab": {}
      },
      "source": [
        "mlb = MultiLabelBinarizer(classes=sorted(tags_counts.keys()))\n",
        "y_train = mlb.fit_transform(y_train)\n",
        "y_val = mlb.fit_transform(y_val)"
      ],
      "execution_count": null,
      "outputs": []
    },
    {
      "cell_type": "markdown",
      "metadata": {
        "id": "gZOQpxFG1-7T",
        "colab_type": "text"
      },
      "source": [
        "Implement the function *train_classifier* for training a classifier. In this task we suggest to use One-vs-Rest approach, which is implemented in [OneVsRestClassifier](http://scikit-learn.org/stable/modules/generated/sklearn.multiclass.OneVsRestClassifier.html) class. In this approach *k* classifiers (= number of tags) are trained. As a basic classifier, use [LogisticRegression](http://scikit-learn.org/stable/modules/generated/sklearn.linear_model.LogisticRegression.html). It is one of the simplest methods, but often it performs good enough in text classification tasks. It might take some time, because a number of classifiers to train is large."
      ]
    },
    {
      "cell_type": "code",
      "metadata": {
        "id": "Vw5eFdmk1-7T",
        "colab_type": "code",
        "colab": {}
      },
      "source": [
        "from sklearn.multiclass import OneVsRestClassifier\n",
        "from sklearn.linear_model import LogisticRegression, RidgeClassifier"
      ],
      "execution_count": null,
      "outputs": []
    },
    {
      "cell_type": "code",
      "metadata": {
        "id": "RiPQARBf1-7X",
        "colab_type": "code",
        "colab": {}
      },
      "source": [
        "def train_classifier(X_train, y_train):\n",
        "    \"\"\"\n",
        "      X_train, y_train — training data\n",
        "      \n",
        "      return: trained classifier\n",
        "    \"\"\"\n",
        "    \n",
        "    # Create and fit LogisticRegression wraped into OneVsRestClassifier.\n",
        "\n",
        "    ######################################\n",
        "    ######### YOUR CODE HERE #############\n",
        "    ######################################    "
      ],
      "execution_count": null,
      "outputs": []
    },
    {
      "cell_type": "markdown",
      "metadata": {
        "id": "yCK62KZ31-7c",
        "colab_type": "text"
      },
      "source": [
        "Train the classifiers for different data transformations: *bag-of-words* and *tf-idf*.\n",
        "\n",
        "If you receive a convergence warning, please set parameter *max_iter* in LogisticRegression to a larger value (the default is 100)."
      ]
    },
    {
      "cell_type": "code",
      "metadata": {
        "id": "c0TkRuaT1-7d",
        "colab_type": "code",
        "colab": {}
      },
      "source": [
        "classifier_mybag = train_classifier(X_train_mybag, y_train)\n",
        "classifier_tfidf = train_classifier(X_train_tfidf, y_train)"
      ],
      "execution_count": null,
      "outputs": []
    },
    {
      "cell_type": "markdown",
      "metadata": {
        "id": "q6pfwQ_L1-7o",
        "colab_type": "text"
      },
      "source": [
        "Now you can create predictions for the data. You will need two types of predictions: labels and scores."
      ]
    },
    {
      "cell_type": "code",
      "metadata": {
        "id": "dINKLG0r1-7q",
        "colab_type": "code",
        "colab": {}
      },
      "source": [
        "y_val_predicted_labels_mybag = classifier_mybag.predict(X_val_mybag)\n",
        "y_val_predicted_scores_mybag = classifier_mybag.decision_function(X_val_mybag)\n",
        "\n",
        "y_val_predicted_labels_tfidf = classifier_tfidf.predict(X_val_tfidf)\n",
        "y_val_predicted_scores_tfidf = classifier_tfidf.decision_function(X_val_tfidf)"
      ],
      "execution_count": null,
      "outputs": []
    },
    {
      "cell_type": "markdown",
      "metadata": {
        "id": "YRSDFJfi1-7w",
        "colab_type": "text"
      },
      "source": [
        "Now take a look at how classifier, which uses TF-IDF, works for a few examples:"
      ]
    },
    {
      "cell_type": "code",
      "metadata": {
        "id": "vpzr3G2I1-7z",
        "colab_type": "code",
        "colab": {}
      },
      "source": [
        "y_val_pred_inversed = mlb.inverse_transform(y_val_predicted_labels_tfidf)\n",
        "y_val_inversed = mlb.inverse_transform(y_val)\n",
        "for i in range(3):\n",
        "    print('Title:\\t{}\\nTrue labels:\\t{}\\nPredicted labels:\\t{}\\n\\n'.format(\n",
        "        X_val[i],\n",
        "        ','.join(y_val_inversed[i]),\n",
        "        ','.join(y_val_pred_inversed[i])\n",
        "    ))"
      ],
      "execution_count": null,
      "outputs": []
    },
    {
      "cell_type": "markdown",
      "metadata": {
        "id": "tdfXnx4k1-77",
        "colab_type": "text"
      },
      "source": [
        "Now, we would need to compare the results of different predictions, e.g. to see whether TF-IDF transformation helps or to try different regularization techniques in logistic regression. For all these experiments, we need to setup evaluation procedure. "
      ]
    },
    {
      "cell_type": "markdown",
      "metadata": {
        "id": "7RnpzXsV1-78",
        "colab_type": "text"
      },
      "source": [
        "### Evaluation\n",
        "\n",
        "To evaluate the results we will use several classification metrics:\n",
        " - [Accuracy](http://scikit-learn.org/stable/modules/generated/sklearn.metrics.accuracy_score.html)\n",
        " - [F1-score](http://scikit-learn.org/stable/modules/generated/sklearn.metrics.f1_score.html)\n",
        " - [Area under ROC-curve](http://scikit-learn.org/stable/modules/generated/sklearn.metrics.roc_auc_score.html)\n",
        " - [Area under precision-recall curve](http://scikit-learn.org/stable/modules/generated/sklearn.metrics.average_precision_score.html#sklearn.metrics.average_precision_score) \n",
        " \n",
        "Make sure you are familiar with all of them. How would you expect the things work for the multi-label scenario? Read about micro/macro/weighted averaging following the sklearn links provided above."
      ]
    },
    {
      "cell_type": "code",
      "metadata": {
        "id": "5iyNsNs21-7-",
        "colab_type": "code",
        "colab": {}
      },
      "source": [
        "from sklearn.metrics import accuracy_score\n",
        "from sklearn.metrics import f1_score\n",
        "from sklearn.metrics import roc_auc_score \n",
        "from sklearn.metrics import average_precision_score\n",
        "from sklearn.metrics import recall_score"
      ],
      "execution_count": null,
      "outputs": []
    },
    {
      "cell_type": "markdown",
      "metadata": {
        "id": "vCwi3oLQ1-8F",
        "colab_type": "text"
      },
      "source": [
        "Implement the function *print_evaluation_scores* which calculates and prints to stdout:\n",
        " - *accuracy*\n",
        " - *F1-score macro/micro/weighted*\n",
        " - *Precision macro/micro/weighted*"
      ]
    },
    {
      "cell_type": "code",
      "metadata": {
        "id": "3PsvW8F_1-8G",
        "colab_type": "code",
        "colab": {}
      },
      "source": [
        "def print_evaluation_scores(y_val, predicted):\n",
        "    \n",
        "    ######################################\n",
        "    ######### YOUR CODE HERE #############\n",
        "    ######################################"
      ],
      "execution_count": null,
      "outputs": []
    },
    {
      "cell_type": "code",
      "metadata": {
        "id": "y5ZUIVkH1-8K",
        "colab_type": "code",
        "colab": {}
      },
      "source": [
        "print('Bag-of-words')\n",
        "print_evaluation_scores(y_val, y_val_predicted_labels_mybag)\n",
        "print('Tfidf')\n",
        "print_evaluation_scores(y_val, y_val_predicted_labels_tfidf)"
      ],
      "execution_count": null,
      "outputs": []
    },
    {
      "cell_type": "markdown",
      "metadata": {
        "id": "arH0CrpA1-8O",
        "colab_type": "text"
      },
      "source": [
        "You might also want to plot some generalization of the [ROC curve](http://scikit-learn.org/stable/modules/model_evaluation.html#receiver-operating-characteristic-roc) for the case of multi-label classification. Provided function *roc_auc* can make it for you. The input parameters of this function are:\n",
        " - true labels\n",
        " - decision functions scores\n",
        " - number of classes"
      ]
    },
    {
      "cell_type": "code",
      "metadata": {
        "id": "ShMHz8Xc1-8O",
        "colab_type": "code",
        "colab": {}
      },
      "source": [
        "from metrics import roc_auc\n",
        "%matplotlib inline"
      ],
      "execution_count": null,
      "outputs": []
    },
    {
      "cell_type": "code",
      "metadata": {
        "id": "_JeMoL7o1-8V",
        "colab_type": "code",
        "colab": {}
      },
      "source": [
        "n_classes = len(tags_counts)\n",
        "roc_auc(y_val, y_val_predicted_scores_mybag, n_classes)"
      ],
      "execution_count": null,
      "outputs": []
    },
    {
      "cell_type": "code",
      "metadata": {
        "id": "c-cbgif21-8a",
        "colab_type": "code",
        "colab": {}
      },
      "source": [
        "n_classes = len(tags_counts)\n",
        "roc_auc(y_val, y_val_predicted_scores_tfidf, n_classes)"
      ],
      "execution_count": null,
      "outputs": []
    },
    {
      "cell_type": "markdown",
      "metadata": {
        "id": "hn2k7tww1-8e",
        "colab_type": "text"
      },
      "source": [
        "**Task 4 (MultilabelClassification).** Once we have the evaluation set up, we suggest that you experiment a bit with training your classifiers. We will use *F1-score weighted* as an evaluation metric. Our recommendation:\n",
        "- compare the quality of the bag-of-words and TF-IDF approaches and chose one of them.\n",
        "- for the chosen one, try *L1* and *L2*-regularization techniques in Logistic Regression with different coefficients (e.g. C equal to 0.1, 1, 10, 100).\n",
        "\n",
        "You also could try other improvements of the preprocessing / model, if you want. "
      ]
    },
    {
      "cell_type": "code",
      "metadata": {
        "id": "96cXxUWb1-8f",
        "colab_type": "code",
        "colab": {}
      },
      "source": [
        "######################################\n",
        "######### YOUR CODE HERE #############\n",
        "######################################"
      ],
      "execution_count": null,
      "outputs": []
    },
    {
      "cell_type": "markdown",
      "metadata": {
        "id": "KNPeuQSP1-8o",
        "colab_type": "text"
      },
      "source": [
        "When you are happy with the quality, create predictions for *test* set, which you will submit to Coursera."
      ]
    },
    {
      "cell_type": "code",
      "metadata": {
        "id": "ye-dln_91-8o",
        "colab_type": "code",
        "colab": {}
      },
      "source": [
        "test_predictions = ######### YOUR CODE HERE #############\n",
        "test_pred_inversed = mlb.inverse_transform(test_predictions)\n",
        "\n",
        "test_predictions_for_submission = '\\n'.join('%i\\t%s' % (i, ','.join(row)) for i, row in enumerate(test_pred_inversed))\n",
        "grader.submit_tag('MultilabelClassification', test_predictions_for_submission)"
      ],
      "execution_count": null,
      "outputs": []
    },
    {
      "cell_type": "markdown",
      "metadata": {
        "id": "3sGkFVhQ1-8u",
        "colab_type": "text"
      },
      "source": [
        "### Analysis of the most important features"
      ]
    },
    {
      "cell_type": "markdown",
      "metadata": {
        "id": "fjv4VdNA1-8u",
        "colab_type": "text"
      },
      "source": [
        "Finally, it is usually a good idea to look at the features (words or n-grams) that are used with the largest weigths in your logistic regression model."
      ]
    },
    {
      "cell_type": "markdown",
      "metadata": {
        "id": "aZh_STjf1-8v",
        "colab_type": "text"
      },
      "source": [
        "Implement the function *print_words_for_tag* to find them. Get back to sklearn documentation on [OneVsRestClassifier](http://scikit-learn.org/stable/modules/generated/sklearn.multiclass.OneVsRestClassifier.html) and [LogisticRegression](http://scikit-learn.org/stable/modules/generated/sklearn.linear_model.LogisticRegression.html) if needed."
      ]
    },
    {
      "cell_type": "code",
      "metadata": {
        "id": "mMYfwDZ21-8w",
        "colab_type": "code",
        "colab": {}
      },
      "source": [
        "def print_words_for_tag(classifier, tag, tags_classes, index_to_words, all_words):\n",
        "    \"\"\"\n",
        "        classifier: trained classifier\n",
        "        tag: particular tag\n",
        "        tags_classes: a list of classes names from MultiLabelBinarizer\n",
        "        index_to_words: index_to_words transformation\n",
        "        all_words: all words in the dictionary\n",
        "        \n",
        "        return nothing, just print top 5 positive and top 5 negative words for current tag\n",
        "    \"\"\"\n",
        "    print('Tag:\\t{}'.format(tag))\n",
        "    \n",
        "    # Extract an estimator from the classifier for the given tag.\n",
        "    # Extract feature coefficients from the estimator. \n",
        "    \n",
        "    ######################################\n",
        "    ######### YOUR CODE HERE #############\n",
        "    ######################################\n",
        "    \n",
        "    top_positive_words = # top-5 words sorted by the coefficiens.\n",
        "    top_negative_words = # bottom-5 words  sorted by the coefficients.\n",
        "    print('Top positive words:\\t{}'.format(', '.join(top_positive_words)))\n",
        "    print('Top negative words:\\t{}\\n'.format(', '.join(top_negative_words)))"
      ],
      "execution_count": null,
      "outputs": []
    },
    {
      "cell_type": "code",
      "metadata": {
        "id": "E8Zc37mN1-84",
        "colab_type": "code",
        "colab": {}
      },
      "source": [
        "print_words_for_tag(classifier_tfidf, 'c', mlb.classes, tfidf_reversed_vocab, ALL_WORDS)\n",
        "print_words_for_tag(classifier_tfidf, 'c++', mlb.classes, tfidf_reversed_vocab, ALL_WORDS)\n",
        "print_words_for_tag(classifier_tfidf, 'linux', mlb.classes, tfidf_reversed_vocab, ALL_WORDS)"
      ],
      "execution_count": null,
      "outputs": []
    },
    {
      "cell_type": "markdown",
      "metadata": {
        "id": "Bm2L7juT1-88",
        "colab_type": "text"
      },
      "source": [
        "### Authorization & Submission\n",
        "To submit the assignmnent to Cousera platform, please, enter your e-mail and token into variables below. You can generate the token on this programming assignment page. <b>Note:</b> The token expires 30 minutes after generation.\n",
        "\n",
        "Please, submit your solutions for the assignments **only** to Coursera platform, **do not create a Pull request on Github**."
      ]
    },
    {
      "cell_type": "code",
      "metadata": {
        "id": "aLmkU9aZ1-9C",
        "colab_type": "code",
        "colab": {}
      },
      "source": [
        "grader.status()"
      ],
      "execution_count": null,
      "outputs": []
    },
    {
      "cell_type": "code",
      "metadata": {
        "id": "AvqgBSH21-9H",
        "colab_type": "code",
        "colab": {
          "base_uri": "https://localhost:8080/",
          "height": 238
        },
        "outputId": "ee141257-e7af-4307-94e3-7cde4eef2e5a"
      },
      "source": [
        "STUDENT_EMAIL = 'srivatsa5kr@gmail.com' \n",
        "STUDENT_TOKEN = 'AQ9kGjSQMMp6iaAZ' \n",
        "grader.status()"
      ],
      "execution_count": 99,
      "outputs": [
        {
          "output_type": "stream",
          "text": [
            "You want to submit these parts:\n",
            "Task TextPrepare:\n",
            " sqlite php readonly\n",
            "creating multiple textboxes dynamically\n",
            "self one prefer javascript\n",
            "save php date...\n",
            "Task WordsTagsCount:\n",
            " javascript,c#,java\n",
            "using,php,java...\n",
            "Task BagOfWords:\n",
            " 7...\n",
            "Task MultilabelClassification:\n",
            " ----------...\n"
          ],
          "name": "stdout"
        }
      ]
    },
    {
      "cell_type": "markdown",
      "metadata": {
        "id": "AXr2gAfb1-9N",
        "colab_type": "text"
      },
      "source": [
        "If you want to submit these answers, run cell below"
      ]
    },
    {
      "cell_type": "code",
      "metadata": {
        "id": "XXLFAtaY1-9N",
        "colab_type": "code",
        "colab": {
          "base_uri": "https://localhost:8080/",
          "height": 34
        },
        "outputId": "7492d17a-35e9-419a-95f3-e711c7b9e430"
      },
      "source": [
        "grader.submit(STUDENT_EMAIL, STUDENT_TOKEN)"
      ],
      "execution_count": 100,
      "outputs": [
        {
          "output_type": "stream",
          "text": [
            "Submitted to Coursera platform. See results on assignment page!\n"
          ],
          "name": "stdout"
        }
      ]
    },
    {
      "cell_type": "code",
      "metadata": {
        "id": "v-YaLqoCAb7i",
        "colab_type": "code",
        "colab": {}
      },
      "source": [
        ""
      ],
      "execution_count": null,
      "outputs": []
    }
  ]
}