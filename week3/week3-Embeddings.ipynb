{
  "nbformat": 4,
  "nbformat_minor": 0,
  "metadata": {
    "kernelspec": {
      "display_name": "Python 3",
      "language": "python",
      "name": "python3"
    },
    "language_info": {
      "codemirror_mode": {
        "name": "ipython",
        "version": 3
      },
      "file_extension": ".py",
      "mimetype": "text/x-python",
      "name": "python",
      "nbconvert_exporter": "python",
      "pygments_lexer": "ipython3",
      "version": "3.4.3"
    },
    "colab": {
      "name": "week3-Embeddings.ipynb",
      "provenance": []
    },
    "widgets": {
      "application/vnd.jupyter.widget-state+json": {
        "e20d9e2f2080446aa4ed5fa2f3f50bf7": {
          "model_module": "@jupyter-widgets/controls",
          "model_name": "HBoxModel",
          "state": {
            "_view_name": "HBoxView",
            "_dom_classes": [],
            "_model_name": "HBoxModel",
            "_view_module": "@jupyter-widgets/controls",
            "_model_module_version": "1.5.0",
            "_view_count": null,
            "_view_module_version": "1.5.0",
            "box_style": "",
            "layout": "IPY_MODEL_6e8157b6008c45ea809014b5e17ea6fe",
            "_model_module": "@jupyter-widgets/controls",
            "children": [
              "IPY_MODEL_ea38a56e5fb9444bbbeae952c2eb7fae",
              "IPY_MODEL_84ef62efd3dd46b7815b6bcd2f61bc36"
            ]
          }
        },
        "6e8157b6008c45ea809014b5e17ea6fe": {
          "model_module": "@jupyter-widgets/base",
          "model_name": "LayoutModel",
          "state": {
            "_view_name": "LayoutView",
            "grid_template_rows": null,
            "right": null,
            "justify_content": null,
            "_view_module": "@jupyter-widgets/base",
            "overflow": null,
            "_model_module_version": "1.2.0",
            "_view_count": null,
            "flex_flow": null,
            "width": null,
            "min_width": null,
            "border": null,
            "align_items": null,
            "bottom": null,
            "_model_module": "@jupyter-widgets/base",
            "top": null,
            "grid_column": null,
            "overflow_y": null,
            "overflow_x": null,
            "grid_auto_flow": null,
            "grid_area": null,
            "grid_template_columns": null,
            "flex": null,
            "_model_name": "LayoutModel",
            "justify_items": null,
            "grid_row": null,
            "max_height": null,
            "align_content": null,
            "visibility": null,
            "align_self": null,
            "height": null,
            "min_height": null,
            "padding": null,
            "grid_auto_rows": null,
            "grid_gap": null,
            "max_width": null,
            "order": null,
            "_view_module_version": "1.2.0",
            "grid_template_areas": null,
            "object_position": null,
            "object_fit": null,
            "grid_auto_columns": null,
            "margin": null,
            "display": null,
            "left": null
          }
        },
        "ea38a56e5fb9444bbbeae952c2eb7fae": {
          "model_module": "@jupyter-widgets/controls",
          "model_name": "FloatProgressModel",
          "state": {
            "_view_name": "ProgressView",
            "style": "IPY_MODEL_d24a8d5ae1e8473d9362c54b43736bad",
            "_dom_classes": [],
            "description": "train.tsv: 100%",
            "_model_name": "FloatProgressModel",
            "bar_style": "success",
            "max": 119127793,
            "_view_module": "@jupyter-widgets/controls",
            "_model_module_version": "1.5.0",
            "value": 119127793,
            "_view_count": null,
            "_view_module_version": "1.5.0",
            "orientation": "horizontal",
            "min": 0,
            "description_tooltip": null,
            "_model_module": "@jupyter-widgets/controls",
            "layout": "IPY_MODEL_844d30edfbc3487f95e513914c9d3a21"
          }
        },
        "84ef62efd3dd46b7815b6bcd2f61bc36": {
          "model_module": "@jupyter-widgets/controls",
          "model_name": "HTMLModel",
          "state": {
            "_view_name": "HTMLView",
            "style": "IPY_MODEL_7074a40ea6b1460fbdc66b32486df275",
            "_dom_classes": [],
            "description": "",
            "_model_name": "HTMLModel",
            "placeholder": "​",
            "_view_module": "@jupyter-widgets/controls",
            "_model_module_version": "1.5.0",
            "value": " 119M/119M [01:28&lt;00:00, 1.34MB/s]",
            "_view_count": null,
            "_view_module_version": "1.5.0",
            "description_tooltip": null,
            "_model_module": "@jupyter-widgets/controls",
            "layout": "IPY_MODEL_b12df43d5627482ab48f14954574e29a"
          }
        },
        "d24a8d5ae1e8473d9362c54b43736bad": {
          "model_module": "@jupyter-widgets/controls",
          "model_name": "ProgressStyleModel",
          "state": {
            "_view_name": "StyleView",
            "_model_name": "ProgressStyleModel",
            "description_width": "initial",
            "_view_module": "@jupyter-widgets/base",
            "_model_module_version": "1.5.0",
            "_view_count": null,
            "_view_module_version": "1.2.0",
            "bar_color": null,
            "_model_module": "@jupyter-widgets/controls"
          }
        },
        "844d30edfbc3487f95e513914c9d3a21": {
          "model_module": "@jupyter-widgets/base",
          "model_name": "LayoutModel",
          "state": {
            "_view_name": "LayoutView",
            "grid_template_rows": null,
            "right": null,
            "justify_content": null,
            "_view_module": "@jupyter-widgets/base",
            "overflow": null,
            "_model_module_version": "1.2.0",
            "_view_count": null,
            "flex_flow": null,
            "width": null,
            "min_width": null,
            "border": null,
            "align_items": null,
            "bottom": null,
            "_model_module": "@jupyter-widgets/base",
            "top": null,
            "grid_column": null,
            "overflow_y": null,
            "overflow_x": null,
            "grid_auto_flow": null,
            "grid_area": null,
            "grid_template_columns": null,
            "flex": null,
            "_model_name": "LayoutModel",
            "justify_items": null,
            "grid_row": null,
            "max_height": null,
            "align_content": null,
            "visibility": null,
            "align_self": null,
            "height": null,
            "min_height": null,
            "padding": null,
            "grid_auto_rows": null,
            "grid_gap": null,
            "max_width": null,
            "order": null,
            "_view_module_version": "1.2.0",
            "grid_template_areas": null,
            "object_position": null,
            "object_fit": null,
            "grid_auto_columns": null,
            "margin": null,
            "display": null,
            "left": null
          }
        },
        "7074a40ea6b1460fbdc66b32486df275": {
          "model_module": "@jupyter-widgets/controls",
          "model_name": "DescriptionStyleModel",
          "state": {
            "_view_name": "StyleView",
            "_model_name": "DescriptionStyleModel",
            "description_width": "",
            "_view_module": "@jupyter-widgets/base",
            "_model_module_version": "1.5.0",
            "_view_count": null,
            "_view_module_version": "1.2.0",
            "_model_module": "@jupyter-widgets/controls"
          }
        },
        "b12df43d5627482ab48f14954574e29a": {
          "model_module": "@jupyter-widgets/base",
          "model_name": "LayoutModel",
          "state": {
            "_view_name": "LayoutView",
            "grid_template_rows": null,
            "right": null,
            "justify_content": null,
            "_view_module": "@jupyter-widgets/base",
            "overflow": null,
            "_model_module_version": "1.2.0",
            "_view_count": null,
            "flex_flow": null,
            "width": null,
            "min_width": null,
            "border": null,
            "align_items": null,
            "bottom": null,
            "_model_module": "@jupyter-widgets/base",
            "top": null,
            "grid_column": null,
            "overflow_y": null,
            "overflow_x": null,
            "grid_auto_flow": null,
            "grid_area": null,
            "grid_template_columns": null,
            "flex": null,
            "_model_name": "LayoutModel",
            "justify_items": null,
            "grid_row": null,
            "max_height": null,
            "align_content": null,
            "visibility": null,
            "align_self": null,
            "height": null,
            "min_height": null,
            "padding": null,
            "grid_auto_rows": null,
            "grid_gap": null,
            "max_width": null,
            "order": null,
            "_view_module_version": "1.2.0",
            "grid_template_areas": null,
            "object_position": null,
            "object_fit": null,
            "grid_auto_columns": null,
            "margin": null,
            "display": null,
            "left": null
          }
        },
        "617a8456609c4bb282d333ff753a7e08": {
          "model_module": "@jupyter-widgets/controls",
          "model_name": "HBoxModel",
          "state": {
            "_view_name": "HBoxView",
            "_dom_classes": [],
            "_model_name": "HBoxModel",
            "_view_module": "@jupyter-widgets/controls",
            "_model_module_version": "1.5.0",
            "_view_count": null,
            "_view_module_version": "1.5.0",
            "box_style": "",
            "layout": "IPY_MODEL_65e3b4c148a944179b5691fe42e83e77",
            "_model_module": "@jupyter-widgets/controls",
            "children": [
              "IPY_MODEL_e70ada540dac4248b9f756acaa9806ee",
              "IPY_MODEL_2e1f1b7ca2e44b10bc041e204e1a46eb"
            ]
          }
        },
        "65e3b4c148a944179b5691fe42e83e77": {
          "model_module": "@jupyter-widgets/base",
          "model_name": "LayoutModel",
          "state": {
            "_view_name": "LayoutView",
            "grid_template_rows": null,
            "right": null,
            "justify_content": null,
            "_view_module": "@jupyter-widgets/base",
            "overflow": null,
            "_model_module_version": "1.2.0",
            "_view_count": null,
            "flex_flow": null,
            "width": null,
            "min_width": null,
            "border": null,
            "align_items": null,
            "bottom": null,
            "_model_module": "@jupyter-widgets/base",
            "top": null,
            "grid_column": null,
            "overflow_y": null,
            "overflow_x": null,
            "grid_auto_flow": null,
            "grid_area": null,
            "grid_template_columns": null,
            "flex": null,
            "_model_name": "LayoutModel",
            "justify_items": null,
            "grid_row": null,
            "max_height": null,
            "align_content": null,
            "visibility": null,
            "align_self": null,
            "height": null,
            "min_height": null,
            "padding": null,
            "grid_auto_rows": null,
            "grid_gap": null,
            "max_width": null,
            "order": null,
            "_view_module_version": "1.2.0",
            "grid_template_areas": null,
            "object_position": null,
            "object_fit": null,
            "grid_auto_columns": null,
            "margin": null,
            "display": null,
            "left": null
          }
        },
        "e70ada540dac4248b9f756acaa9806ee": {
          "model_module": "@jupyter-widgets/controls",
          "model_name": "FloatProgressModel",
          "state": {
            "_view_name": "ProgressView",
            "style": "IPY_MODEL_c72e94cccc2c4a009475a7f728019211",
            "_dom_classes": [],
            "description": "validation.tsv: 100%",
            "_model_name": "FloatProgressModel",
            "bar_style": "success",
            "max": 535543630,
            "_view_module": "@jupyter-widgets/controls",
            "_model_module_version": "1.5.0",
            "value": 535543630,
            "_view_count": null,
            "_view_module_version": "1.5.0",
            "orientation": "horizontal",
            "min": 0,
            "description_tooltip": null,
            "_model_module": "@jupyter-widgets/controls",
            "layout": "IPY_MODEL_f82e02da210b48ca89cfd271b72a0ad8"
          }
        },
        "2e1f1b7ca2e44b10bc041e204e1a46eb": {
          "model_module": "@jupyter-widgets/controls",
          "model_name": "HTMLModel",
          "state": {
            "_view_name": "HTMLView",
            "style": "IPY_MODEL_e305afcad3514893bffd2012afe254f3",
            "_dom_classes": [],
            "description": "",
            "_model_name": "HTMLModel",
            "placeholder": "​",
            "_view_module": "@jupyter-widgets/controls",
            "_model_module_version": "1.5.0",
            "value": " 536M/536M [01:25&lt;00:00, 6.29MB/s]",
            "_view_count": null,
            "_view_module_version": "1.5.0",
            "description_tooltip": null,
            "_model_module": "@jupyter-widgets/controls",
            "layout": "IPY_MODEL_4fab8ae530a14118b7e06a0e911a3071"
          }
        },
        "c72e94cccc2c4a009475a7f728019211": {
          "model_module": "@jupyter-widgets/controls",
          "model_name": "ProgressStyleModel",
          "state": {
            "_view_name": "StyleView",
            "_model_name": "ProgressStyleModel",
            "description_width": "initial",
            "_view_module": "@jupyter-widgets/base",
            "_model_module_version": "1.5.0",
            "_view_count": null,
            "_view_module_version": "1.2.0",
            "bar_color": null,
            "_model_module": "@jupyter-widgets/controls"
          }
        },
        "f82e02da210b48ca89cfd271b72a0ad8": {
          "model_module": "@jupyter-widgets/base",
          "model_name": "LayoutModel",
          "state": {
            "_view_name": "LayoutView",
            "grid_template_rows": null,
            "right": null,
            "justify_content": null,
            "_view_module": "@jupyter-widgets/base",
            "overflow": null,
            "_model_module_version": "1.2.0",
            "_view_count": null,
            "flex_flow": null,
            "width": null,
            "min_width": null,
            "border": null,
            "align_items": null,
            "bottom": null,
            "_model_module": "@jupyter-widgets/base",
            "top": null,
            "grid_column": null,
            "overflow_y": null,
            "overflow_x": null,
            "grid_auto_flow": null,
            "grid_area": null,
            "grid_template_columns": null,
            "flex": null,
            "_model_name": "LayoutModel",
            "justify_items": null,
            "grid_row": null,
            "max_height": null,
            "align_content": null,
            "visibility": null,
            "align_self": null,
            "height": null,
            "min_height": null,
            "padding": null,
            "grid_auto_rows": null,
            "grid_gap": null,
            "max_width": null,
            "order": null,
            "_view_module_version": "1.2.0",
            "grid_template_areas": null,
            "object_position": null,
            "object_fit": null,
            "grid_auto_columns": null,
            "margin": null,
            "display": null,
            "left": null
          }
        },
        "e305afcad3514893bffd2012afe254f3": {
          "model_module": "@jupyter-widgets/controls",
          "model_name": "DescriptionStyleModel",
          "state": {
            "_view_name": "StyleView",
            "_model_name": "DescriptionStyleModel",
            "description_width": "",
            "_view_module": "@jupyter-widgets/base",
            "_model_module_version": "1.5.0",
            "_view_count": null,
            "_view_module_version": "1.2.0",
            "_model_module": "@jupyter-widgets/controls"
          }
        },
        "4fab8ae530a14118b7e06a0e911a3071": {
          "model_module": "@jupyter-widgets/base",
          "model_name": "LayoutModel",
          "state": {
            "_view_name": "LayoutView",
            "grid_template_rows": null,
            "right": null,
            "justify_content": null,
            "_view_module": "@jupyter-widgets/base",
            "overflow": null,
            "_model_module_version": "1.2.0",
            "_view_count": null,
            "flex_flow": null,
            "width": null,
            "min_width": null,
            "border": null,
            "align_items": null,
            "bottom": null,
            "_model_module": "@jupyter-widgets/base",
            "top": null,
            "grid_column": null,
            "overflow_y": null,
            "overflow_x": null,
            "grid_auto_flow": null,
            "grid_area": null,
            "grid_template_columns": null,
            "flex": null,
            "_model_name": "LayoutModel",
            "justify_items": null,
            "grid_row": null,
            "max_height": null,
            "align_content": null,
            "visibility": null,
            "align_self": null,
            "height": null,
            "min_height": null,
            "padding": null,
            "grid_auto_rows": null,
            "grid_gap": null,
            "max_width": null,
            "order": null,
            "_view_module_version": "1.2.0",
            "grid_template_areas": null,
            "object_position": null,
            "object_fit": null,
            "grid_auto_columns": null,
            "margin": null,
            "display": null,
            "left": null
          }
        },
        "91ae05b072354dd49b652d9929fce23a": {
          "model_module": "@jupyter-widgets/controls",
          "model_name": "HBoxModel",
          "state": {
            "_view_name": "HBoxView",
            "_dom_classes": [],
            "_model_name": "HBoxModel",
            "_view_module": "@jupyter-widgets/controls",
            "_model_module_version": "1.5.0",
            "_view_count": null,
            "_view_module_version": "1.5.0",
            "box_style": "",
            "layout": "IPY_MODEL_31849f017c8a4b7286f6b9aff52c01ff",
            "_model_module": "@jupyter-widgets/controls",
            "children": [
              "IPY_MODEL_d55c4d8aca9146bf83a45915345f2394",
              "IPY_MODEL_d555e2148db54ef9a1ecc08a06301adc"
            ]
          }
        },
        "31849f017c8a4b7286f6b9aff52c01ff": {
          "model_module": "@jupyter-widgets/base",
          "model_name": "LayoutModel",
          "state": {
            "_view_name": "LayoutView",
            "grid_template_rows": null,
            "right": null,
            "justify_content": null,
            "_view_module": "@jupyter-widgets/base",
            "overflow": null,
            "_model_module_version": "1.2.0",
            "_view_count": null,
            "flex_flow": null,
            "width": null,
            "min_width": null,
            "border": null,
            "align_items": null,
            "bottom": null,
            "_model_module": "@jupyter-widgets/base",
            "top": null,
            "grid_column": null,
            "overflow_y": null,
            "overflow_x": null,
            "grid_auto_flow": null,
            "grid_area": null,
            "grid_template_columns": null,
            "flex": null,
            "_model_name": "LayoutModel",
            "justify_items": null,
            "grid_row": null,
            "max_height": null,
            "align_content": null,
            "visibility": null,
            "align_self": null,
            "height": null,
            "min_height": null,
            "padding": null,
            "grid_auto_rows": null,
            "grid_gap": null,
            "max_width": null,
            "order": null,
            "_view_module_version": "1.2.0",
            "grid_template_areas": null,
            "object_position": null,
            "object_fit": null,
            "grid_auto_columns": null,
            "margin": null,
            "display": null,
            "left": null
          }
        },
        "d55c4d8aca9146bf83a45915345f2394": {
          "model_module": "@jupyter-widgets/controls",
          "model_name": "FloatProgressModel",
          "state": {
            "_view_name": "ProgressView",
            "style": "IPY_MODEL_7e2b3adfa8354e179b8fc517a756db81",
            "_dom_classes": [],
            "description": "test.tsv: 100%",
            "_model_name": "FloatProgressModel",
            "bar_style": "success",
            "max": 46408910,
            "_view_module": "@jupyter-widgets/controls",
            "_model_module_version": "1.5.0",
            "value": 46408910,
            "_view_count": null,
            "_view_module_version": "1.5.0",
            "orientation": "horizontal",
            "min": 0,
            "description_tooltip": null,
            "_model_module": "@jupyter-widgets/controls",
            "layout": "IPY_MODEL_a99e239678564df09d5eb320f4c9bfe2"
          }
        },
        "d555e2148db54ef9a1ecc08a06301adc": {
          "model_module": "@jupyter-widgets/controls",
          "model_name": "HTMLModel",
          "state": {
            "_view_name": "HTMLView",
            "style": "IPY_MODEL_b6b81ae939ec40ac870eb5ecac90a9d8",
            "_dom_classes": [],
            "description": "",
            "_model_name": "HTMLModel",
            "placeholder": "​",
            "_view_module": "@jupyter-widgets/controls",
            "_model_module_version": "1.5.0",
            "value": " 46.4M/46.4M [01:12&lt;00:00, 638kB/s]",
            "_view_count": null,
            "_view_module_version": "1.5.0",
            "description_tooltip": null,
            "_model_module": "@jupyter-widgets/controls",
            "layout": "IPY_MODEL_0bb7c13f630842d6a6a6f447c55831fa"
          }
        },
        "7e2b3adfa8354e179b8fc517a756db81": {
          "model_module": "@jupyter-widgets/controls",
          "model_name": "ProgressStyleModel",
          "state": {
            "_view_name": "StyleView",
            "_model_name": "ProgressStyleModel",
            "description_width": "initial",
            "_view_module": "@jupyter-widgets/base",
            "_model_module_version": "1.5.0",
            "_view_count": null,
            "_view_module_version": "1.2.0",
            "bar_color": null,
            "_model_module": "@jupyter-widgets/controls"
          }
        },
        "a99e239678564df09d5eb320f4c9bfe2": {
          "model_module": "@jupyter-widgets/base",
          "model_name": "LayoutModel",
          "state": {
            "_view_name": "LayoutView",
            "grid_template_rows": null,
            "right": null,
            "justify_content": null,
            "_view_module": "@jupyter-widgets/base",
            "overflow": null,
            "_model_module_version": "1.2.0",
            "_view_count": null,
            "flex_flow": null,
            "width": null,
            "min_width": null,
            "border": null,
            "align_items": null,
            "bottom": null,
            "_model_module": "@jupyter-widgets/base",
            "top": null,
            "grid_column": null,
            "overflow_y": null,
            "overflow_x": null,
            "grid_auto_flow": null,
            "grid_area": null,
            "grid_template_columns": null,
            "flex": null,
            "_model_name": "LayoutModel",
            "justify_items": null,
            "grid_row": null,
            "max_height": null,
            "align_content": null,
            "visibility": null,
            "align_self": null,
            "height": null,
            "min_height": null,
            "padding": null,
            "grid_auto_rows": null,
            "grid_gap": null,
            "max_width": null,
            "order": null,
            "_view_module_version": "1.2.0",
            "grid_template_areas": null,
            "object_position": null,
            "object_fit": null,
            "grid_auto_columns": null,
            "margin": null,
            "display": null,
            "left": null
          }
        },
        "b6b81ae939ec40ac870eb5ecac90a9d8": {
          "model_module": "@jupyter-widgets/controls",
          "model_name": "DescriptionStyleModel",
          "state": {
            "_view_name": "StyleView",
            "_model_name": "DescriptionStyleModel",
            "description_width": "",
            "_view_module": "@jupyter-widgets/base",
            "_model_module_version": "1.5.0",
            "_view_count": null,
            "_view_module_version": "1.2.0",
            "_model_module": "@jupyter-widgets/controls"
          }
        },
        "0bb7c13f630842d6a6a6f447c55831fa": {
          "model_module": "@jupyter-widgets/base",
          "model_name": "LayoutModel",
          "state": {
            "_view_name": "LayoutView",
            "grid_template_rows": null,
            "right": null,
            "justify_content": null,
            "_view_module": "@jupyter-widgets/base",
            "overflow": null,
            "_model_module_version": "1.2.0",
            "_view_count": null,
            "flex_flow": null,
            "width": null,
            "min_width": null,
            "border": null,
            "align_items": null,
            "bottom": null,
            "_model_module": "@jupyter-widgets/base",
            "top": null,
            "grid_column": null,
            "overflow_y": null,
            "overflow_x": null,
            "grid_auto_flow": null,
            "grid_area": null,
            "grid_template_columns": null,
            "flex": null,
            "_model_name": "LayoutModel",
            "justify_items": null,
            "grid_row": null,
            "max_height": null,
            "align_content": null,
            "visibility": null,
            "align_self": null,
            "height": null,
            "min_height": null,
            "padding": null,
            "grid_auto_rows": null,
            "grid_gap": null,
            "max_width": null,
            "order": null,
            "_view_module_version": "1.2.0",
            "grid_template_areas": null,
            "object_position": null,
            "object_fit": null,
            "grid_auto_columns": null,
            "margin": null,
            "display": null,
            "left": null
          }
        },
        "b16be1e40f0c4e12af8d7f793a7cd5ca": {
          "model_module": "@jupyter-widgets/controls",
          "model_name": "HBoxModel",
          "state": {
            "_view_name": "HBoxView",
            "_dom_classes": [],
            "_model_name": "HBoxModel",
            "_view_module": "@jupyter-widgets/controls",
            "_model_module_version": "1.5.0",
            "_view_count": null,
            "_view_module_version": "1.5.0",
            "box_style": "",
            "layout": "IPY_MODEL_234ef5e64f654dfbbf979e029be3c6e7",
            "_model_module": "@jupyter-widgets/controls",
            "children": [
              "IPY_MODEL_a52dd16acef54178a3cf26ea30b27a91",
              "IPY_MODEL_38134594dad442c9a29aad5bda32b1d5"
            ]
          }
        },
        "234ef5e64f654dfbbf979e029be3c6e7": {
          "model_module": "@jupyter-widgets/base",
          "model_name": "LayoutModel",
          "state": {
            "_view_name": "LayoutView",
            "grid_template_rows": null,
            "right": null,
            "justify_content": null,
            "_view_module": "@jupyter-widgets/base",
            "overflow": null,
            "_model_module_version": "1.2.0",
            "_view_count": null,
            "flex_flow": null,
            "width": null,
            "min_width": null,
            "border": null,
            "align_items": null,
            "bottom": null,
            "_model_module": "@jupyter-widgets/base",
            "top": null,
            "grid_column": null,
            "overflow_y": null,
            "overflow_x": null,
            "grid_auto_flow": null,
            "grid_area": null,
            "grid_template_columns": null,
            "flex": null,
            "_model_name": "LayoutModel",
            "justify_items": null,
            "grid_row": null,
            "max_height": null,
            "align_content": null,
            "visibility": null,
            "align_self": null,
            "height": null,
            "min_height": null,
            "padding": null,
            "grid_auto_rows": null,
            "grid_gap": null,
            "max_width": null,
            "order": null,
            "_view_module_version": "1.2.0",
            "grid_template_areas": null,
            "object_position": null,
            "object_fit": null,
            "grid_auto_columns": null,
            "margin": null,
            "display": null,
            "left": null
          }
        },
        "a52dd16acef54178a3cf26ea30b27a91": {
          "model_module": "@jupyter-widgets/controls",
          "model_name": "FloatProgressModel",
          "state": {
            "_view_name": "ProgressView",
            "style": "IPY_MODEL_811cadbbeacf4923adbf19972333779c",
            "_dom_classes": [],
            "description": "test_embeddings.tsv: 100%",
            "_model_name": "FloatProgressModel",
            "bar_style": "success",
            "max": 5333,
            "_view_module": "@jupyter-widgets/controls",
            "_model_module_version": "1.5.0",
            "value": 5333,
            "_view_count": null,
            "_view_module_version": "1.5.0",
            "orientation": "horizontal",
            "min": 0,
            "description_tooltip": null,
            "_model_module": "@jupyter-widgets/controls",
            "layout": "IPY_MODEL_baddec969b6548ef8f746c6d58798ea3"
          }
        },
        "38134594dad442c9a29aad5bda32b1d5": {
          "model_module": "@jupyter-widgets/controls",
          "model_name": "HTMLModel",
          "state": {
            "_view_name": "HTMLView",
            "style": "IPY_MODEL_0186c1b2e9494a5795b04b5d517613e2",
            "_dom_classes": [],
            "description": "",
            "_model_name": "HTMLModel",
            "placeholder": "​",
            "_view_module": "@jupyter-widgets/controls",
            "_model_module_version": "1.5.0",
            "value": " 5.33k/5.33k [01:10&lt;00:00, 75.3B/s]",
            "_view_count": null,
            "_view_module_version": "1.5.0",
            "description_tooltip": null,
            "_model_module": "@jupyter-widgets/controls",
            "layout": "IPY_MODEL_685b1d4d1b844f758ab063706f6517f2"
          }
        },
        "811cadbbeacf4923adbf19972333779c": {
          "model_module": "@jupyter-widgets/controls",
          "model_name": "ProgressStyleModel",
          "state": {
            "_view_name": "StyleView",
            "_model_name": "ProgressStyleModel",
            "description_width": "initial",
            "_view_module": "@jupyter-widgets/base",
            "_model_module_version": "1.5.0",
            "_view_count": null,
            "_view_module_version": "1.2.0",
            "bar_color": null,
            "_model_module": "@jupyter-widgets/controls"
          }
        },
        "baddec969b6548ef8f746c6d58798ea3": {
          "model_module": "@jupyter-widgets/base",
          "model_name": "LayoutModel",
          "state": {
            "_view_name": "LayoutView",
            "grid_template_rows": null,
            "right": null,
            "justify_content": null,
            "_view_module": "@jupyter-widgets/base",
            "overflow": null,
            "_model_module_version": "1.2.0",
            "_view_count": null,
            "flex_flow": null,
            "width": null,
            "min_width": null,
            "border": null,
            "align_items": null,
            "bottom": null,
            "_model_module": "@jupyter-widgets/base",
            "top": null,
            "grid_column": null,
            "overflow_y": null,
            "overflow_x": null,
            "grid_auto_flow": null,
            "grid_area": null,
            "grid_template_columns": null,
            "flex": null,
            "_model_name": "LayoutModel",
            "justify_items": null,
            "grid_row": null,
            "max_height": null,
            "align_content": null,
            "visibility": null,
            "align_self": null,
            "height": null,
            "min_height": null,
            "padding": null,
            "grid_auto_rows": null,
            "grid_gap": null,
            "max_width": null,
            "order": null,
            "_view_module_version": "1.2.0",
            "grid_template_areas": null,
            "object_position": null,
            "object_fit": null,
            "grid_auto_columns": null,
            "margin": null,
            "display": null,
            "left": null
          }
        },
        "0186c1b2e9494a5795b04b5d517613e2": {
          "model_module": "@jupyter-widgets/controls",
          "model_name": "DescriptionStyleModel",
          "state": {
            "_view_name": "StyleView",
            "_model_name": "DescriptionStyleModel",
            "description_width": "",
            "_view_module": "@jupyter-widgets/base",
            "_model_module_version": "1.5.0",
            "_view_count": null,
            "_view_module_version": "1.2.0",
            "_model_module": "@jupyter-widgets/controls"
          }
        },
        "685b1d4d1b844f758ab063706f6517f2": {
          "model_module": "@jupyter-widgets/base",
          "model_name": "LayoutModel",
          "state": {
            "_view_name": "LayoutView",
            "grid_template_rows": null,
            "right": null,
            "justify_content": null,
            "_view_module": "@jupyter-widgets/base",
            "overflow": null,
            "_model_module_version": "1.2.0",
            "_view_count": null,
            "flex_flow": null,
            "width": null,
            "min_width": null,
            "border": null,
            "align_items": null,
            "bottom": null,
            "_model_module": "@jupyter-widgets/base",
            "top": null,
            "grid_column": null,
            "overflow_y": null,
            "overflow_x": null,
            "grid_auto_flow": null,
            "grid_area": null,
            "grid_template_columns": null,
            "flex": null,
            "_model_name": "LayoutModel",
            "justify_items": null,
            "grid_row": null,
            "max_height": null,
            "align_content": null,
            "visibility": null,
            "align_self": null,
            "height": null,
            "min_height": null,
            "padding": null,
            "grid_auto_rows": null,
            "grid_gap": null,
            "max_width": null,
            "order": null,
            "_view_module_version": "1.2.0",
            "grid_template_areas": null,
            "object_position": null,
            "object_fit": null,
            "grid_auto_columns": null,
            "margin": null,
            "display": null,
            "left": null
          }
        },
        "b272c93553fc405ca3f1d9af9906d719": {
          "model_module": "@jupyter-widgets/controls",
          "model_name": "HBoxModel",
          "state": {
            "_view_name": "HBoxView",
            "_dom_classes": [],
            "_model_name": "HBoxModel",
            "_view_module": "@jupyter-widgets/controls",
            "_model_module_version": "1.5.0",
            "_view_count": null,
            "_view_module_version": "1.5.0",
            "box_style": "",
            "layout": "IPY_MODEL_5f040da132ac42109546ba1da5d5701d",
            "_model_module": "@jupyter-widgets/controls",
            "children": [
              "IPY_MODEL_23b22750294f4961b8c57dc1f6b1ed79",
              "IPY_MODEL_f398d542e9dc4220a46d8f43461fc3c1"
            ]
          }
        },
        "5f040da132ac42109546ba1da5d5701d": {
          "model_module": "@jupyter-widgets/base",
          "model_name": "LayoutModel",
          "state": {
            "_view_name": "LayoutView",
            "grid_template_rows": null,
            "right": null,
            "justify_content": null,
            "_view_module": "@jupyter-widgets/base",
            "overflow": null,
            "_model_module_version": "1.2.0",
            "_view_count": null,
            "flex_flow": null,
            "width": null,
            "min_width": null,
            "border": null,
            "align_items": null,
            "bottom": null,
            "_model_module": "@jupyter-widgets/base",
            "top": null,
            "grid_column": null,
            "overflow_y": null,
            "overflow_x": null,
            "grid_auto_flow": null,
            "grid_area": null,
            "grid_template_columns": null,
            "flex": null,
            "_model_name": "LayoutModel",
            "justify_items": null,
            "grid_row": null,
            "max_height": null,
            "align_content": null,
            "visibility": null,
            "align_self": null,
            "height": null,
            "min_height": null,
            "padding": null,
            "grid_auto_rows": null,
            "grid_gap": null,
            "max_width": null,
            "order": null,
            "_view_module_version": "1.2.0",
            "grid_template_areas": null,
            "object_position": null,
            "object_fit": null,
            "grid_auto_columns": null,
            "margin": null,
            "display": null,
            "left": null
          }
        },
        "23b22750294f4961b8c57dc1f6b1ed79": {
          "model_module": "@jupyter-widgets/controls",
          "model_name": "FloatProgressModel",
          "state": {
            "_view_name": "ProgressView",
            "style": "IPY_MODEL_8d5958a62ed44584b50a332957c5c1d2",
            "_dom_classes": [],
            "description": "GoogleNews-vectors-negative300.bin.gz: 100%",
            "_model_name": "FloatProgressModel",
            "bar_style": "success",
            "max": 1647046227,
            "_view_module": "@jupyter-widgets/controls",
            "_model_module_version": "1.5.0",
            "value": 1647046227,
            "_view_count": null,
            "_view_module_version": "1.5.0",
            "orientation": "horizontal",
            "min": 0,
            "description_tooltip": null,
            "_model_module": "@jupyter-widgets/controls",
            "layout": "IPY_MODEL_a3d1fa733e40483f9f471d2f07811f12"
          }
        },
        "f398d542e9dc4220a46d8f43461fc3c1": {
          "model_module": "@jupyter-widgets/controls",
          "model_name": "HTMLModel",
          "state": {
            "_view_name": "HTMLView",
            "style": "IPY_MODEL_46892fe95f0d4753b895d9ee28fdd605",
            "_dom_classes": [],
            "description": "",
            "_model_name": "HTMLModel",
            "placeholder": "​",
            "_view_module": "@jupyter-widgets/controls",
            "_model_module_version": "1.5.0",
            "value": " 1.65G/1.65G [01:10&lt;00:00, 23.4MB/s]",
            "_view_count": null,
            "_view_module_version": "1.5.0",
            "description_tooltip": null,
            "_model_module": "@jupyter-widgets/controls",
            "layout": "IPY_MODEL_b2a65ef95daf41a197b22a16db47ed6c"
          }
        },
        "8d5958a62ed44584b50a332957c5c1d2": {
          "model_module": "@jupyter-widgets/controls",
          "model_name": "ProgressStyleModel",
          "state": {
            "_view_name": "StyleView",
            "_model_name": "ProgressStyleModel",
            "description_width": "initial",
            "_view_module": "@jupyter-widgets/base",
            "_model_module_version": "1.5.0",
            "_view_count": null,
            "_view_module_version": "1.2.0",
            "bar_color": null,
            "_model_module": "@jupyter-widgets/controls"
          }
        },
        "a3d1fa733e40483f9f471d2f07811f12": {
          "model_module": "@jupyter-widgets/base",
          "model_name": "LayoutModel",
          "state": {
            "_view_name": "LayoutView",
            "grid_template_rows": null,
            "right": null,
            "justify_content": null,
            "_view_module": "@jupyter-widgets/base",
            "overflow": null,
            "_model_module_version": "1.2.0",
            "_view_count": null,
            "flex_flow": null,
            "width": null,
            "min_width": null,
            "border": null,
            "align_items": null,
            "bottom": null,
            "_model_module": "@jupyter-widgets/base",
            "top": null,
            "grid_column": null,
            "overflow_y": null,
            "overflow_x": null,
            "grid_auto_flow": null,
            "grid_area": null,
            "grid_template_columns": null,
            "flex": null,
            "_model_name": "LayoutModel",
            "justify_items": null,
            "grid_row": null,
            "max_height": null,
            "align_content": null,
            "visibility": null,
            "align_self": null,
            "height": null,
            "min_height": null,
            "padding": null,
            "grid_auto_rows": null,
            "grid_gap": null,
            "max_width": null,
            "order": null,
            "_view_module_version": "1.2.0",
            "grid_template_areas": null,
            "object_position": null,
            "object_fit": null,
            "grid_auto_columns": null,
            "margin": null,
            "display": null,
            "left": null
          }
        },
        "46892fe95f0d4753b895d9ee28fdd605": {
          "model_module": "@jupyter-widgets/controls",
          "model_name": "DescriptionStyleModel",
          "state": {
            "_view_name": "StyleView",
            "_model_name": "DescriptionStyleModel",
            "description_width": "",
            "_view_module": "@jupyter-widgets/base",
            "_model_module_version": "1.5.0",
            "_view_count": null,
            "_view_module_version": "1.2.0",
            "_model_module": "@jupyter-widgets/controls"
          }
        },
        "b2a65ef95daf41a197b22a16db47ed6c": {
          "model_module": "@jupyter-widgets/base",
          "model_name": "LayoutModel",
          "state": {
            "_view_name": "LayoutView",
            "grid_template_rows": null,
            "right": null,
            "justify_content": null,
            "_view_module": "@jupyter-widgets/base",
            "overflow": null,
            "_model_module_version": "1.2.0",
            "_view_count": null,
            "flex_flow": null,
            "width": null,
            "min_width": null,
            "border": null,
            "align_items": null,
            "bottom": null,
            "_model_module": "@jupyter-widgets/base",
            "top": null,
            "grid_column": null,
            "overflow_y": null,
            "overflow_x": null,
            "grid_auto_flow": null,
            "grid_area": null,
            "grid_template_columns": null,
            "flex": null,
            "_model_name": "LayoutModel",
            "justify_items": null,
            "grid_row": null,
            "max_height": null,
            "align_content": null,
            "visibility": null,
            "align_self": null,
            "height": null,
            "min_height": null,
            "padding": null,
            "grid_auto_rows": null,
            "grid_gap": null,
            "max_width": null,
            "order": null,
            "_view_module_version": "1.2.0",
            "grid_template_areas": null,
            "object_position": null,
            "object_fit": null,
            "grid_auto_columns": null,
            "margin": null,
            "display": null,
            "left": null
          }
        }
      }
    }
  },
  "cells": [
    {
      "cell_type": "code",
      "metadata": {
        "id": "RPb1sa8Q2H7z",
        "colab_type": "code",
        "colab": {}
      },
      "source": [
        "a=[]\n",
        "while(1):\n",
        "  a.append('1')"
      ],
      "execution_count": null,
      "outputs": []
    },
    {
      "cell_type": "markdown",
      "metadata": {
        "id": "N2gkazOTNlbQ",
        "colab_type": "text"
      },
      "source": [
        "# Find duplicate questions on StackOverflow by their embeddings\n",
        "\n",
        "In this assignment you will learn how to calculate a similarity for pieces of text. Using this approach you will know how to find duplicate questions from [StackOverflow](https://stackoverflow.com)."
      ]
    },
    {
      "cell_type": "markdown",
      "metadata": {
        "id": "ZDELsdLuNlbS",
        "colab_type": "text"
      },
      "source": [
        "### Libraries\n",
        "\n",
        "In this task you will you will need the following libraries:\n",
        "- [StarSpace](https://github.com/facebookresearch/StarSpace) — a general-purpose model for efficient learning of entity embeddings from Facebook\n",
        "- [Gensim](https://radimrehurek.com/gensim/) — a tool for solving various NLP-related tasks (topic modeling, text representation, ...)\n",
        "- [Numpy](http://www.numpy.org) — a package for scientific computing.\n",
        "- [scikit-learn](http://scikit-learn.org/stable/index.html) — a tool for data mining and data analysis.\n",
        "- [Nltk](http://www.nltk.org) — a platform to work with human language data."
      ]
    },
    {
      "cell_type": "markdown",
      "metadata": {
        "id": "duipqq1lNlbT",
        "colab_type": "text"
      },
      "source": [
        "### Data\n",
        "\n",
        "The following cell will download all data required for this assignment into the folder `week3/data`."
      ]
    },
    {
      "cell_type": "code",
      "metadata": {
        "id": "DID8MN6oNlbU",
        "colab_type": "code",
        "colab": {
          "base_uri": "https://localhost:8080/",
          "height": 466,
          "referenced_widgets": [
            "e20d9e2f2080446aa4ed5fa2f3f50bf7",
            "6e8157b6008c45ea809014b5e17ea6fe",
            "ea38a56e5fb9444bbbeae952c2eb7fae",
            "84ef62efd3dd46b7815b6bcd2f61bc36",
            "d24a8d5ae1e8473d9362c54b43736bad",
            "844d30edfbc3487f95e513914c9d3a21",
            "7074a40ea6b1460fbdc66b32486df275",
            "b12df43d5627482ab48f14954574e29a",
            "617a8456609c4bb282d333ff753a7e08",
            "65e3b4c148a944179b5691fe42e83e77",
            "e70ada540dac4248b9f756acaa9806ee",
            "2e1f1b7ca2e44b10bc041e204e1a46eb",
            "c72e94cccc2c4a009475a7f728019211",
            "f82e02da210b48ca89cfd271b72a0ad8",
            "e305afcad3514893bffd2012afe254f3",
            "4fab8ae530a14118b7e06a0e911a3071",
            "91ae05b072354dd49b652d9929fce23a",
            "31849f017c8a4b7286f6b9aff52c01ff",
            "d55c4d8aca9146bf83a45915345f2394",
            "d555e2148db54ef9a1ecc08a06301adc",
            "7e2b3adfa8354e179b8fc517a756db81",
            "a99e239678564df09d5eb320f4c9bfe2",
            "b6b81ae939ec40ac870eb5ecac90a9d8",
            "0bb7c13f630842d6a6a6f447c55831fa",
            "b16be1e40f0c4e12af8d7f793a7cd5ca",
            "234ef5e64f654dfbbf979e029be3c6e7",
            "a52dd16acef54178a3cf26ea30b27a91",
            "38134594dad442c9a29aad5bda32b1d5",
            "811cadbbeacf4923adbf19972333779c",
            "baddec969b6548ef8f746c6d58798ea3",
            "0186c1b2e9494a5795b04b5d517613e2",
            "685b1d4d1b844f758ab063706f6517f2",
            "b272c93553fc405ca3f1d9af9906d719",
            "5f040da132ac42109546ba1da5d5701d",
            "23b22750294f4961b8c57dc1f6b1ed79",
            "f398d542e9dc4220a46d8f43461fc3c1",
            "8d5958a62ed44584b50a332957c5c1d2",
            "a3d1fa733e40483f9f471d2f07811f12",
            "46892fe95f0d4753b895d9ee28fdd605",
            "b2a65ef95daf41a197b22a16db47ed6c"
          ]
        },
        "outputId": "d6fad791-632a-4f53-8114-a8a90bf01d1c"
      },
      "source": [
        "try:\n",
        "    import google.colab\n",
        "    IN_COLAB = True\n",
        "except:\n",
        "    IN_COLAB = False\n",
        "\n",
        "if IN_COLAB:\n",
        "    ! wget https://raw.githubusercontent.com/hse-aml/natural-language-processing/master/setup_google_colab.py -O setup_google_colab.py\n",
        "    import setup_google_colab\n",
        "    setup_google_colab.setup_week3()\n",
        "    \n",
        "import sys\n",
        "sys.path.append(\"..\")\n",
        "from common.download_utils import download_week3_resources\n",
        "\n",
        "download_week3_resources()"
      ],
      "execution_count": 3,
      "outputs": [
        {
          "output_type": "stream",
          "text": [
            "--2020-09-08 17:25:45--  https://raw.githubusercontent.com/hse-aml/natural-language-processing/master/setup_google_colab.py\n",
            "Resolving raw.githubusercontent.com (raw.githubusercontent.com)... 151.101.0.133, 151.101.64.133, 151.101.128.133, ...\n",
            "Connecting to raw.githubusercontent.com (raw.githubusercontent.com)|151.101.0.133|:443... connected.\n",
            "HTTP request sent, awaiting response... 200 OK\n",
            "Length: 1939 (1.9K) [text/plain]\n",
            "Saving to: ‘setup_google_colab.py’\n",
            "\n",
            "setup_google_colab. 100%[===================>]   1.89K  --.-KB/s    in 0s      \n",
            "\n",
            "2020-09-08 17:25:45 (34.1 MB/s) - ‘setup_google_colab.py’ saved [1939/1939]\n",
            "\n"
          ],
          "name": "stdout"
        },
        {
          "output_type": "display_data",
          "data": {
            "application/vnd.jupyter.widget-view+json": {
              "model_id": "e20d9e2f2080446aa4ed5fa2f3f50bf7",
              "version_minor": 0,
              "version_major": 2
            },
            "text/plain": [
              "HBox(children=(FloatProgress(value=0.0, max=119127793.0), HTML(value='')))"
            ]
          },
          "metadata": {
            "tags": []
          }
        },
        {
          "output_type": "stream",
          "text": [
            "\n"
          ],
          "name": "stdout"
        },
        {
          "output_type": "display_data",
          "data": {
            "application/vnd.jupyter.widget-view+json": {
              "model_id": "617a8456609c4bb282d333ff753a7e08",
              "version_minor": 0,
              "version_major": 2
            },
            "text/plain": [
              "HBox(children=(FloatProgress(value=0.0, max=535543630.0), HTML(value='')))"
            ]
          },
          "metadata": {
            "tags": []
          }
        },
        {
          "output_type": "stream",
          "text": [
            "\n"
          ],
          "name": "stdout"
        },
        {
          "output_type": "display_data",
          "data": {
            "application/vnd.jupyter.widget-view+json": {
              "model_id": "91ae05b072354dd49b652d9929fce23a",
              "version_minor": 0,
              "version_major": 2
            },
            "text/plain": [
              "HBox(children=(FloatProgress(value=0.0, max=46408910.0), HTML(value='')))"
            ]
          },
          "metadata": {
            "tags": []
          }
        },
        {
          "output_type": "stream",
          "text": [
            "\n"
          ],
          "name": "stdout"
        },
        {
          "output_type": "display_data",
          "data": {
            "application/vnd.jupyter.widget-view+json": {
              "model_id": "b16be1e40f0c4e12af8d7f793a7cd5ca",
              "version_minor": 0,
              "version_major": 2
            },
            "text/plain": [
              "HBox(children=(FloatProgress(value=0.0, max=5333.0), HTML(value='')))"
            ]
          },
          "metadata": {
            "tags": []
          }
        },
        {
          "output_type": "stream",
          "text": [
            "\n",
            "Downloading GoogleNews-vectors-negative300.bin.gz (1.5G) for you, it will take a while...\n"
          ],
          "name": "stdout"
        },
        {
          "output_type": "display_data",
          "data": {
            "application/vnd.jupyter.widget-view+json": {
              "model_id": "b272c93553fc405ca3f1d9af9906d719",
              "version_minor": 0,
              "version_major": 2
            },
            "text/plain": [
              "HBox(children=(FloatProgress(value=0.0, max=1647046227.0), HTML(value='')))"
            ]
          },
          "metadata": {
            "tags": []
          }
        },
        {
          "output_type": "stream",
          "text": [
            "\n"
          ],
          "name": "stdout"
        }
      ]
    },
    {
      "cell_type": "markdown",
      "metadata": {
        "id": "m6OBdQMMNlbZ",
        "colab_type": "text"
      },
      "source": [
        "### Grading\n",
        "We will create a grader instace below and use it to collect your answers. Note that these outputs will be stored locally inside grader and will be uploaded to platform only after running submiting function in the last part of this assignment. If you want to make partial submission, you can run that cell any time you want."
      ]
    },
    {
      "cell_type": "code",
      "metadata": {
        "id": "VcKBmrEfNlba",
        "colab_type": "code",
        "colab": {}
      },
      "source": [
        "from grader import Grader"
      ],
      "execution_count": 4,
      "outputs": []
    },
    {
      "cell_type": "code",
      "metadata": {
        "id": "MfjorMGINlbk",
        "colab_type": "code",
        "colab": {}
      },
      "source": [
        "grader = Grader()"
      ],
      "execution_count": 5,
      "outputs": []
    },
    {
      "cell_type": "markdown",
      "metadata": {
        "id": "RwXSEmssNlbp",
        "colab_type": "text"
      },
      "source": [
        "## Word embedding\n",
        "\n",
        "To solve the problem, you will use two different models of embeddings:\n",
        "\n",
        " - [Pre-trained word vectors](https://code.google.com/archive/p/word2vec/) from Google which were trained on a part of Google News dataset (about 100 billion words). The model contains 300-dimensional vectors for 3 million words and phrases. `GoogleNews-vectors-negative300.bin.gz` will be downloaded in `download_week3_resources()`.\n",
        " - Representations using StarSpace on StackOverflow data sample. You will need to train them from scratch."
      ]
    },
    {
      "cell_type": "markdown",
      "metadata": {
        "id": "qh8PMODgNlbp",
        "colab_type": "text"
      },
      "source": [
        "It's always easier to start with pre-trained embeddings. Unpack the pre-trained Goggle's vectors and upload them using the function [KeyedVectors.load_word2vec_format](https://radimrehurek.com/gensim/models/keyedvectors.html) from gensim library with the parameter *binary=True*. If the size of the embeddings is larger than the avaliable memory, you could load only a part of the embeddings by defining the parameter *limit* (recommended: 500000)."
      ]
    },
    {
      "cell_type": "code",
      "metadata": {
        "id": "6zVLnPuDNlbq",
        "colab_type": "code",
        "colab": {}
      },
      "source": [
        "import gensim"
      ],
      "execution_count": 6,
      "outputs": []
    },
    {
      "cell_type": "code",
      "metadata": {
        "id": "Nyv4s4DzWtWz",
        "colab_type": "code",
        "colab": {
          "base_uri": "https://localhost:8080/",
          "height": 204
        },
        "outputId": "9fa90c27-0432-47e2-aeb7-ca7ca240bbd4"
      },
      "source": [
        "!ls -l"
      ],
      "execution_count": 7,
      "outputs": [
        {
          "output_type": "stream",
          "text": [
            "total 1747800\n",
            "-rw-r--r-- 1 root root  142660118 Apr  3  2017 boost_1_63_0.zip\n",
            "drwxr-xr-x 3 root root       4096 Sep  8 17:27 common\n",
            "drwxr-xr-x 2 root root       4096 Sep  8 17:28 data\n",
            "-rw-r--r-- 1 root root 1647046227 Sep  8 17:28 GoogleNews-vectors-negative300.bin.gz\n",
            "-rw-r--r-- 1 root root       2817 Sep  8 17:26 grader.py\n",
            "drwxr-xr-x 2 root root       4096 Sep  8 17:29 __pycache__\n",
            "drwxr-xr-x 1 root root       4096 Aug 27 16:39 sample_data\n",
            "-rw-r--r-- 1 root root       1939 Sep  8 17:25 setup_google_colab.py\n",
            "drwxr-xr-x 8 root root       4096 Sep  8 17:27 Starspace\n",
            "-rw-r--r-- 1 root root        602 Sep  8 17:26 util.py\n"
          ],
          "name": "stdout"
        }
      ]
    },
    {
      "cell_type": "code",
      "metadata": {
        "id": "yr1leYbLNlbx",
        "colab_type": "code",
        "colab": {}
      },
      "source": [
        "from gensim.test.utils import datapath\n",
        "from gensim.models import KeyedVectors\n",
        "wv_embeddings = KeyedVectors.load_word2vec_format(datapath('/content/GoogleNews-vectors-negative300.bin.gz'),binary=True,limit=500000)"
      ],
      "execution_count": 8,
      "outputs": []
    },
    {
      "cell_type": "code",
      "metadata": {
        "id": "M3xF5VbVSSf7",
        "colab_type": "code",
        "colab": {
          "base_uri": "https://localhost:8080/",
          "height": 1000
        },
        "outputId": "d9edac0c-dc97-488b-cd82-655cf18e969f"
      },
      "source": [
        "wv_embeddings[['word','before']]"
      ],
      "execution_count": 9,
      "outputs": [
        {
          "output_type": "execute_result",
          "data": {
            "text/plain": [
              "array([[ 3.59375000e-01,  4.15039062e-02,  9.03320312e-02,\n",
              "         5.46875000e-02, -1.47460938e-01,  4.76074219e-02,\n",
              "        -8.49609375e-02, -2.04101562e-01,  3.10546875e-01,\n",
              "        -1.05590820e-02, -6.15234375e-02, -1.55273438e-01,\n",
              "        -1.52343750e-01,  8.54492188e-02, -2.70996094e-02,\n",
              "         3.84765625e-01,  4.78515625e-02,  2.58789062e-02,\n",
              "         4.49218750e-02, -2.79296875e-01,  9.09423828e-03,\n",
              "         4.08203125e-01,  2.40234375e-01, -3.06640625e-01,\n",
              "        -1.80664062e-01,  4.73632812e-02, -2.63671875e-01,\n",
              "         9.08203125e-02,  1.37695312e-01, -7.20977783e-04,\n",
              "         2.67333984e-02,  1.92382812e-01, -2.29492188e-02,\n",
              "         9.70458984e-03, -7.37304688e-02,  4.29687500e-01,\n",
              "        -7.93457031e-03,  1.06445312e-01,  2.80761719e-02,\n",
              "        -2.29492188e-01, -1.91650391e-02, -2.36816406e-02,\n",
              "         3.51562500e-02,  1.71875000e-01, -1.12304688e-01,\n",
              "         6.25000000e-02, -1.69921875e-01,  1.29882812e-01,\n",
              "        -1.54296875e-01,  1.58203125e-01, -7.76367188e-02,\n",
              "         1.78710938e-01, -1.72851562e-01,  9.96093750e-02,\n",
              "         3.94531250e-01,  6.44531250e-02, -6.83593750e-02,\n",
              "        -3.18359375e-01,  5.95703125e-02, -1.02539062e-02,\n",
              "         9.37500000e-02,  8.25195312e-02, -2.52685547e-02,\n",
              "         1.09863281e-01, -6.73828125e-02, -1.70898438e-01,\n",
              "         6.78710938e-02,  1.04492188e-01, -2.11914062e-01,\n",
              "         1.30859375e-01, -1.24573708e-05,  1.85546875e-02,\n",
              "        -1.61132812e-01, -8.00781250e-02,  9.42382812e-02,\n",
              "        -8.78906250e-02,  1.82617188e-01, -2.48718262e-03,\n",
              "         8.74023438e-02,  1.75781250e-01, -2.17285156e-02,\n",
              "        -1.96289062e-01,  9.52148438e-02, -5.15136719e-02,\n",
              "         1.01928711e-02,  6.22558594e-02, -2.13867188e-01,\n",
              "         2.25585938e-01,  2.46093750e-01, -6.12792969e-02,\n",
              "         1.74560547e-02, -1.46484375e-01,  3.93676758e-03,\n",
              "        -1.62109375e-01, -1.10839844e-01,  6.88476562e-02,\n",
              "        -1.83593750e-01,  1.13281250e-01,  9.08203125e-02,\n",
              "        -1.64062500e-01, -3.71093750e-01, -5.39550781e-02,\n",
              "        -8.66699219e-03, -1.18164062e-01, -5.93261719e-02,\n",
              "         8.74023438e-02, -1.98242188e-01, -1.36718750e-01,\n",
              "         6.39648438e-02, -1.88476562e-01, -2.96875000e-01,\n",
              "         6.39648438e-02,  2.16796875e-01, -7.71484375e-02,\n",
              "         1.13769531e-01,  1.96533203e-02,  2.31445312e-01,\n",
              "         6.59179688e-02,  1.02539062e-01, -6.39648438e-02,\n",
              "        -1.48437500e-01, -5.59082031e-02, -2.43164062e-01,\n",
              "         2.71484375e-01,  1.83593750e-01,  3.06396484e-02,\n",
              "        -2.01416016e-02, -1.53320312e-01,  7.08007812e-02,\n",
              "        -2.35595703e-02, -9.66796875e-02, -2.83203125e-01,\n",
              "        -2.57568359e-02, -7.42187500e-02, -4.27246094e-02,\n",
              "         6.98242188e-02, -1.74804688e-01,  2.27539062e-01,\n",
              "         2.92968750e-01, -1.86767578e-02,  2.94921875e-01,\n",
              "        -1.12304688e-01,  4.85839844e-02, -2.15820312e-01,\n",
              "         1.03149414e-02, -1.14257812e-01, -6.39648438e-02,\n",
              "         7.27539062e-02, -1.47460938e-01, -2.16796875e-01,\n",
              "         1.32812500e-01,  1.83593750e-01, -1.48437500e-01,\n",
              "        -1.31835938e-01, -3.73535156e-02,  1.19628906e-01,\n",
              "        -2.01171875e-01,  1.00097656e-01, -8.93554688e-02,\n",
              "         1.23596191e-03,  7.17773438e-02,  1.42578125e-01,\n",
              "        -3.03955078e-02, -1.89453125e-01, -8.88671875e-02,\n",
              "         3.83300781e-02, -1.74804688e-01, -3.66210938e-03,\n",
              "        -2.08007812e-01,  8.97216797e-03,  2.35351562e-01,\n",
              "         1.06933594e-01, -2.65625000e-01, -2.16796875e-01,\n",
              "         7.08007812e-02,  9.08203125e-02,  3.00781250e-01,\n",
              "        -1.07421875e-01,  1.01562500e-01, -6.25000000e-02,\n",
              "         1.33789062e-01, -1.62353516e-02,  2.50000000e-01,\n",
              "        -1.72851562e-01,  3.32031250e-01,  1.12304688e-01,\n",
              "        -1.47705078e-02, -1.04980469e-01, -8.05664062e-02,\n",
              "         3.30078125e-01,  9.32617188e-02, -1.47460938e-01,\n",
              "        -2.05078125e-01, -7.56835938e-02, -1.04492188e-01,\n",
              "         6.25000000e-02, -2.02148438e-01, -1.09375000e-01,\n",
              "        -8.05664062e-02,  5.49316406e-02, -8.88671875e-02,\n",
              "         5.24902344e-02, -2.23632812e-01,  5.17578125e-02,\n",
              "        -1.83593750e-01, -6.73828125e-02, -9.13085938e-02,\n",
              "         1.29882812e-01, -2.31933594e-02, -1.04003906e-01,\n",
              "         1.79687500e-01,  8.34960938e-02, -8.78906250e-02,\n",
              "        -2.17773438e-01, -6.34765625e-02,  1.33789062e-01,\n",
              "         1.62109375e-01,  2.87109375e-01, -1.14257812e-01,\n",
              "         6.05468750e-02,  1.49414062e-01, -3.08227539e-03,\n",
              "         1.96289062e-01, -8.98437500e-02,  1.45507812e-01,\n",
              "         1.02539062e-02,  1.22070312e-02,  3.20312500e-01,\n",
              "         1.24511719e-01,  1.20849609e-02, -1.78710938e-01,\n",
              "         3.71093750e-02,  6.98242188e-02,  1.62109375e-01,\n",
              "         9.86328125e-02, -2.61718750e-01,  1.89453125e-01,\n",
              "        -2.83203125e-02,  4.06250000e-01,  3.56445312e-02,\n",
              "         3.10058594e-02,  2.27050781e-02,  1.30859375e-01,\n",
              "        -1.05957031e-01,  8.69140625e-02, -9.76562500e-02,\n",
              "         1.89453125e-01,  3.17382812e-02,  1.10351562e-01,\n",
              "         2.11914062e-01, -1.66992188e-01,  1.45263672e-02,\n",
              "         1.15234375e-01,  1.59179688e-01,  9.91210938e-02,\n",
              "        -2.40234375e-01, -2.34375000e-01,  1.74804688e-01,\n",
              "         1.20605469e-01, -3.67187500e-01, -7.81250000e-02,\n",
              "         1.10839844e-01, -3.35937500e-01, -9.81445312e-02,\n",
              "        -7.47070312e-02, -1.89453125e-01,  7.81250000e-02,\n",
              "        -2.53906250e-01, -6.03027344e-02, -2.46093750e-01,\n",
              "        -9.37500000e-02,  8.64257812e-02,  1.15722656e-01,\n",
              "        -1.24511719e-01,  1.61132812e-01, -6.03027344e-02,\n",
              "        -2.47070312e-01, -9.52148438e-02, -4.05273438e-02,\n",
              "         2.51953125e-01, -1.95312500e-01, -1.31835938e-01,\n",
              "         6.88476562e-02,  2.67333984e-02,  1.03027344e-01,\n",
              "         1.05957031e-01, -3.01513672e-02,  3.04687500e-01,\n",
              "        -8.74023438e-02,  1.19140625e-01, -1.74560547e-02,\n",
              "         8.78906250e-03, -1.38671875e-01, -2.85156250e-01,\n",
              "         2.29492188e-01, -3.55468750e-01,  9.52148438e-03,\n",
              "        -4.07714844e-02, -8.88671875e-02, -1.39160156e-02],\n",
              "       [ 4.54101562e-02, -4.71191406e-02,  6.73828125e-02,\n",
              "        -4.58984375e-02,  2.79541016e-02, -1.78222656e-02,\n",
              "        -7.37304688e-02, -2.09960938e-02,  1.36718750e-01,\n",
              "        -6.83593750e-02, -5.68847656e-02, -3.02734375e-01,\n",
              "         4.10156250e-02,  1.32812500e-01, -1.77734375e-01,\n",
              "         9.27734375e-02,  2.04101562e-01,  6.73828125e-02,\n",
              "         2.98828125e-01, -3.41796875e-02, -5.98144531e-02,\n",
              "        -7.91015625e-02, -1.65039062e-01, -4.76074219e-02,\n",
              "         1.48437500e-01,  4.51660156e-02,  1.36718750e-01,\n",
              "        -1.89208984e-02,  2.12890625e-01,  1.99218750e-01,\n",
              "        -1.20117188e-01,  9.61914062e-02, -1.58203125e-01,\n",
              "         4.00390625e-02, -1.21093750e-01,  3.61633301e-03,\n",
              "        -3.56445312e-02, -2.38281250e-01, -7.36236572e-04,\n",
              "         5.39550781e-02,  5.85937500e-02, -2.75390625e-01,\n",
              "         2.31445312e-01, -9.81445312e-02, -3.22265625e-02,\n",
              "         1.98242188e-01, -7.56835938e-02, -8.44726562e-02,\n",
              "         8.54492188e-02,  1.68945312e-01,  4.32128906e-02,\n",
              "         1.04370117e-02, -4.98046875e-02,  8.20312500e-02,\n",
              "        -1.83593750e-01,  1.01562500e-01, -2.99072266e-02,\n",
              "        -8.83789062e-02,  6.49414062e-02, -2.30468750e-01,\n",
              "        -2.83203125e-01, -9.96093750e-02, -5.05371094e-02,\n",
              "        -1.44531250e-01,  2.68554688e-02,  1.89208984e-03,\n",
              "         7.22656250e-02,  1.85546875e-01, -1.40625000e-01,\n",
              "         1.78710938e-01, -6.64062500e-02,  1.22680664e-02,\n",
              "        -2.55126953e-02,  1.10351562e-01, -9.71679688e-02,\n",
              "        -1.23535156e-01,  1.76757812e-01,  2.46093750e-01,\n",
              "        -2.92968750e-02,  1.46484375e-01, -1.54296875e-01,\n",
              "         2.47802734e-02, -1.26953125e-02, -9.17968750e-02,\n",
              "         7.51953125e-02, -1.12304688e-01, -9.94873047e-03,\n",
              "         7.12890625e-02,  1.49414062e-01,  8.30078125e-02,\n",
              "         1.39770508e-02,  2.31445312e-01, -3.93066406e-02,\n",
              "        -1.58691406e-02,  3.51562500e-02, -2.92968750e-01,\n",
              "        -3.08837891e-02, -7.76367188e-02,  1.56250000e-02,\n",
              "         1.15356445e-02,  1.16210938e-01, -1.25976562e-01,\n",
              "         9.57031250e-02,  3.27148438e-02, -1.19628906e-01,\n",
              "        -1.61132812e-01,  1.61132812e-02, -2.55126953e-02,\n",
              "        -5.44433594e-02, -1.30004883e-02,  2.08007812e-01,\n",
              "         1.84570312e-01,  1.11816406e-01, -1.19628906e-01,\n",
              "        -2.46582031e-02,  1.15722656e-01,  3.49121094e-02,\n",
              "         7.61718750e-02, -4.66308594e-02,  2.11914062e-01,\n",
              "        -5.27343750e-02, -8.54492188e-02, -4.76074219e-02,\n",
              "         7.42187500e-02,  5.12695312e-02, -5.76171875e-02,\n",
              "         7.47070312e-02,  4.76074219e-02, -4.63867188e-02,\n",
              "         8.88671875e-02,  7.66601562e-02, -1.59179688e-01,\n",
              "        -1.87500000e-01, -1.88476562e-01, -5.61523438e-02,\n",
              "        -4.49218750e-02, -3.95507812e-02, -9.91210938e-02,\n",
              "        -1.17187500e-01,  1.64062500e-01, -1.92871094e-02,\n",
              "        -8.20312500e-02,  8.74023438e-02, -8.74023438e-02,\n",
              "         1.40991211e-02,  1.27929688e-01,  6.53076172e-03,\n",
              "        -1.09375000e-01, -9.13085938e-02,  2.85644531e-02,\n",
              "         5.27343750e-02,  1.66015625e-01, -2.73437500e-02,\n",
              "         5.39550781e-02, -1.47094727e-02, -1.35742188e-01,\n",
              "        -1.90429688e-01, -6.00585938e-02, -1.11328125e-01,\n",
              "         3.17382812e-02, -7.03125000e-02,  2.09960938e-02,\n",
              "         1.16210938e-01,  7.51953125e-02,  1.18652344e-01,\n",
              "        -6.10351562e-03,  2.31933594e-02,  9.17968750e-02,\n",
              "         9.08203125e-02, -6.34765625e-02, -1.90734863e-03,\n",
              "        -8.78906250e-02, -1.78710938e-01,  2.51464844e-02,\n",
              "        -1.00585938e-01, -7.47070312e-02,  2.53906250e-02,\n",
              "         6.44531250e-02,  5.95703125e-02, -4.12597656e-02,\n",
              "        -8.00781250e-02, -9.37500000e-02, -1.52343750e-01,\n",
              "         2.17773438e-01,  3.95507812e-02, -9.15527344e-03,\n",
              "        -1.07421875e-02,  1.37695312e-01,  8.34960938e-02,\n",
              "         3.83300781e-02,  8.34960938e-02,  7.47070312e-02,\n",
              "         3.80859375e-02,  1.59179688e-01, -1.64062500e-01,\n",
              "        -1.63574219e-02,  7.22656250e-02, -5.95703125e-02,\n",
              "         4.17480469e-02, -1.12304688e-01,  6.34765625e-02,\n",
              "        -9.27734375e-02, -2.46582031e-02,  6.78710938e-02,\n",
              "         1.68945312e-01, -2.03125000e-01,  6.98242188e-02,\n",
              "         2.51464844e-02,  5.90820312e-02, -4.85839844e-02,\n",
              "        -3.22265625e-02, -3.71093750e-02, -5.71289062e-02,\n",
              "        -1.03149414e-02, -1.10351562e-01, -1.04370117e-02,\n",
              "        -6.07910156e-02,  2.27355957e-03, -9.37500000e-02,\n",
              "         1.98242188e-01, -1.31225586e-03,  1.49414062e-01,\n",
              "        -3.01513672e-02, -7.32421875e-02,  1.56250000e-01,\n",
              "        -1.74804688e-01, -4.29687500e-02,  1.30859375e-01,\n",
              "         4.98046875e-02, -2.96630859e-02,  1.01562500e-01,\n",
              "        -2.16796875e-01, -7.27539062e-02, -3.56445312e-02,\n",
              "        -7.17773438e-02,  3.29971313e-04,  8.88671875e-02,\n",
              "        -1.34887695e-02, -8.85009766e-03,  4.05273438e-02,\n",
              "        -3.95507812e-02, -5.54199219e-02,  3.80859375e-02,\n",
              "        -1.22558594e-01,  3.75976562e-02,  7.22656250e-02,\n",
              "         9.61914062e-02,  9.42382812e-02,  2.12890625e-01,\n",
              "        -3.00292969e-02,  1.92871094e-02, -1.42822266e-02,\n",
              "         2.95410156e-02, -9.15527344e-04,  5.59082031e-02,\n",
              "        -1.13281250e-01,  6.34765625e-02,  8.54492188e-02,\n",
              "         2.03857422e-02, -1.12304688e-01, -2.08740234e-02,\n",
              "         7.41577148e-03, -6.78710938e-02, -3.34472656e-02,\n",
              "         5.92041016e-03,  1.04492188e-01, -2.38037109e-03,\n",
              "         1.82617188e-01,  1.20849609e-02, -6.25000000e-02,\n",
              "         1.81640625e-01,  3.63769531e-02,  1.24023438e-01,\n",
              "         1.07421875e-01,  8.49609375e-02, -3.45703125e-01,\n",
              "        -1.71875000e-01, -1.84570312e-01,  6.03027344e-02,\n",
              "        -1.12792969e-01,  1.15722656e-01, -6.10351562e-02,\n",
              "        -1.68945312e-01,  1.62109375e-01,  2.51464844e-02,\n",
              "         7.95898438e-02, -1.58203125e-01, -1.43554688e-01,\n",
              "         7.51953125e-02,  1.70898438e-01,  4.31060791e-04,\n",
              "        -5.32226562e-02, -3.19824219e-02,  1.17675781e-01,\n",
              "        -9.66796875e-02,  8.00781250e-02, -1.50390625e-01,\n",
              "        -1.19140625e-01, -1.00585938e-01, -1.25976562e-01]], dtype=float32)"
            ]
          },
          "metadata": {
            "tags": []
          },
          "execution_count": 9
        }
      ]
    },
    {
      "cell_type": "markdown",
      "metadata": {
        "id": "oN7Y0tRcNlb1",
        "colab_type": "text"
      },
      "source": [
        "### How to work with Google's word2vec embeddings?\n",
        "\n",
        "Once you have loaded the representations, make sure you can access them. First, you can check if the loaded embeddings contain a word:\n",
        "    \n",
        "    'word' in wv_embeddings\n",
        "    \n",
        "Second, to get the corresponding embedding you can use the square brackets:\n",
        "\n",
        "    wv_embeddings['word']\n",
        " \n",
        "### Checking that the embeddings are correct \n",
        " \n",
        "To prevent any errors during the first stage, we can check that the loaded embeddings are correct. You can call the function *check_embeddings*, implemented below, which runs 3 tests:\n",
        "1. Find the most similar word for provided \"positive\" and \"negative\" words.\n",
        "2. Find which word from the given list doesn’t go with the others.\n",
        "3. Find the most similar word for the provided one.\n",
        "\n",
        "In the right case the function will return the string *These embeddings look good*. Othervise, you need to validate the previous steps."
      ]
    },
    {
      "cell_type": "code",
      "metadata": {
        "id": "32DYAtybNlb2",
        "colab_type": "code",
        "colab": {}
      },
      "source": [
        "def check_embeddings(embeddings):\n",
        "    error_text = \"Something wrong with your embeddings ('%s test isn't correct).\"\n",
        "    most_similar = embeddings.most_similar(positive=['woman', 'king'], negative=['man'])\n",
        "    if len(most_similar) < 1 or most_similar[0][0] != 'queen':\n",
        "        return error_text % \"Most similar\"\n",
        "\n",
        "    doesnt_match = embeddings.doesnt_match(['breakfast', 'cereal', 'dinner', 'lunch'])\n",
        "    if doesnt_match != 'cereal':\n",
        "        return error_text % \"Doesn't match\"\n",
        "    \n",
        "    most_similar_to_given = embeddings.most_similar_to_given('music', ['water', 'sound', 'backpack', 'mouse'])\n",
        "    if most_similar_to_given != 'sound':\n",
        "        return error_text % \"Most similar to given\"\n",
        "    \n",
        "    return \"These embeddings look good.\""
      ],
      "execution_count": 10,
      "outputs": []
    },
    {
      "cell_type": "code",
      "metadata": {
        "id": "npVOAejGNlb9",
        "colab_type": "code",
        "colab": {
          "base_uri": "https://localhost:8080/",
          "height": 88
        },
        "outputId": "7d0c641a-cc2a-4612-ca99-15ff38c09092"
      },
      "source": [
        "print(check_embeddings(wv_embeddings))"
      ],
      "execution_count": 11,
      "outputs": [
        {
          "output_type": "stream",
          "text": [
            "These embeddings look good.\n"
          ],
          "name": "stdout"
        },
        {
          "output_type": "stream",
          "text": [
            "/usr/local/lib/python3.6/dist-packages/gensim/models/keyedvectors.py:877: FutureWarning: arrays to stack must be passed as a \"sequence\" type such as list or tuple. Support for non-sequence iterables such as generators is deprecated as of NumPy 1.16 and will raise an error in the future.\n",
            "  vectors = vstack(self.word_vec(word, use_norm=True) for word in used_words).astype(REAL)\n"
          ],
          "name": "stderr"
        }
      ]
    },
    {
      "cell_type": "markdown",
      "metadata": {
        "id": "7nOmMAvINlcD",
        "colab_type": "text"
      },
      "source": [
        "## From word to text embeddings\n",
        "\n",
        "**Task 1 (Question2Vec).** Usually, we have word-based embeddings, but for the task we need to create a representation for the whole question. It could be done in different ways. In our case we will use a **mean** of all word vectors in the question. Now you need to implement the function *question_to_vec*, which calculates the question representation described above. This function should work with the input text as is without any preprocessing.\n",
        "\n",
        "Note that there could be words without the corresponding embeddings. In this case, you can just skip these words and don't take them into account during calculating the result. If the question doesn't contain any known word with embedding, the function should return a zero vector."
      ]
    },
    {
      "cell_type": "code",
      "metadata": {
        "id": "DJuqiQSMNlcF",
        "colab_type": "code",
        "colab": {}
      },
      "source": [
        "import numpy as np"
      ],
      "execution_count": 12,
      "outputs": []
    },
    {
      "cell_type": "code",
      "metadata": {
        "id": "GGcYMkNqNlcO",
        "colab_type": "code",
        "colab": {}
      },
      "source": [
        "def question_to_vec(question, embeddings, dim=300):\n",
        "    \"\"\"\n",
        "        question: a string\n",
        "        embeddings: dict where the key is a word and a value is its' embedding\n",
        "        dim: size of the representation\n",
        "\n",
        "        result: vector representation for the question\n",
        "    \"\"\"\n",
        "    ######################################\n",
        "    ######### YOUR CODE HERE #############\n",
        "    ######################################\n",
        "    sent_vec=[]\n",
        "    words=[]\n",
        "    words_in_question = question.split()\n",
        "    words = [word for word in words_in_question if word in embeddings.vocab]\n",
        "    if len(words)>=1:\n",
        "      return np.mean(embeddings[words],axis=0)\n",
        "    else:\n",
        "      return np.zeros(300)  "
      ],
      "execution_count": 13,
      "outputs": []
    },
    {
      "cell_type": "markdown",
      "metadata": {
        "id": "JUTuQ9IRNlcV",
        "colab_type": "text"
      },
      "source": [
        "To check the basic correctness of your implementation, run the function *question_to_vec_tests*."
      ]
    },
    {
      "cell_type": "code",
      "metadata": {
        "id": "-y90X5tINlcW",
        "colab_type": "code",
        "colab": {}
      },
      "source": [
        "def question_to_vec_tests():\n",
        "    if (np.zeros(300) != question_to_vec('', wv_embeddings)).any():\n",
        "        return \"You need to return zero vector for empty question.\"\n",
        "    if (np.zeros(300) != question_to_vec('thereisnosuchword', wv_embeddings)).any():\n",
        "        return \"You need to return zero vector for the question, which consists only unknown words.\"\n",
        "    if (wv_embeddings['word'] != question_to_vec('word', wv_embeddings)).any():\n",
        "        return \"You need to check the corectness of your function.\"\n",
        "    if ((wv_embeddings['I'] + wv_embeddings['am']) / 2 != question_to_vec('I am', wv_embeddings)).any():\n",
        "        return \"Your function should calculate a mean of word vectors.\"\n",
        "    if (wv_embeddings['word'] != question_to_vec('thereisnosuchword word', wv_embeddings)).any():\n",
        "        return \"You should not consider words which embeddings are unknown.\"\n",
        "    return \"Basic tests are passed.\""
      ],
      "execution_count": 14,
      "outputs": []
    },
    {
      "cell_type": "code",
      "metadata": {
        "id": "yRkZZ9JCNlcb",
        "colab_type": "code",
        "colab": {
          "base_uri": "https://localhost:8080/",
          "height": 34
        },
        "outputId": "ddb6e2d2-85e9-4bfd-8893-442fae3a10dd"
      },
      "source": [
        "print(question_to_vec_tests())"
      ],
      "execution_count": 15,
      "outputs": [
        {
          "output_type": "stream",
          "text": [
            "Basic tests are passed.\n"
          ],
          "name": "stdout"
        }
      ]
    },
    {
      "cell_type": "markdown",
      "metadata": {
        "id": "Xp3HKZ_NNlcj",
        "colab_type": "text"
      },
      "source": [
        "You can submit embeddings for the questions from the file *test_embeddings.tsv* to earn the points. In this task you don't need to transform the text of a question somehow."
      ]
    },
    {
      "cell_type": "code",
      "metadata": {
        "id": "fhcIt11tNlck",
        "colab_type": "code",
        "colab": {
          "base_uri": "https://localhost:8080/",
          "height": 51
        },
        "outputId": "1c1d2284-8663-4474-ec5f-82c15b485d74"
      },
      "source": [
        "import nltk\n",
        "nltk.download('stopwords')\n",
        "from util import array_to_string"
      ],
      "execution_count": 16,
      "outputs": [
        {
          "output_type": "stream",
          "text": [
            "[nltk_data] Downloading package stopwords to /root/nltk_data...\n",
            "[nltk_data]   Unzipping corpora/stopwords.zip.\n"
          ],
          "name": "stderr"
        }
      ]
    },
    {
      "cell_type": "code",
      "metadata": {
        "id": "OYeE7S5INlco",
        "colab_type": "code",
        "colab": {
          "base_uri": "https://localhost:8080/",
          "height": 119
        },
        "outputId": "2aca7400-dbdb-456f-882c-127f2e01948d"
      },
      "source": [
        "question2vec_result = []\n",
        "for question in open('data/test_embeddings.tsv'):\n",
        "    question = question.strip()\n",
        "    answer = question_to_vec(question, wv_embeddings)\n",
        "    question2vec_result = np.append(question2vec_result, answer)\n",
        "\n",
        "grader.submit_tag('Question2Vec', array_to_string(question2vec_result))"
      ],
      "execution_count": 17,
      "outputs": [
        {
          "output_type": "stream",
          "text": [
            "Current answer for task Question2Vec is: 0.01929389126598835\n",
            "-0.02872721292078495\n",
            "0.0460561104118824\n",
            "0.0852593332529068\n",
            "0.0243055559694767\n",
            "-0...\n"
          ],
          "name": "stdout"
        }
      ]
    },
    {
      "cell_type": "markdown",
      "metadata": {
        "id": "zHAc4GX3Nlcx",
        "colab_type": "text"
      },
      "source": [
        "Now we have a method to create a representation of any sentence and we are ready for the first evaluation. So, let's check how well our solution (Google's vectors + *question_to_vec*) will work.\n",
        "\n",
        "## Evaluation of text similarity\n",
        "\n",
        "We can imagine that if we use good embeddings, the cosine similarity between the duplicate sentences should be less than for the random ones. Overall, for each pair of duplicate sentences we can generate *R* random negative examples and find out the position of the correct duplicate.  \n",
        "\n",
        "For example, we have the question *\"Exceptions What really happens\"* and we are sure that another question *\"How does the catch keyword determine the type of exception that was thrown\"* is a duplicate. But our model doesn't know it and tries to find out the best option also among questions like *\"How Can I Make These Links Rotate in PHP\"*, *\"NSLog array description not memory address\"* and *\"PECL_HTTP not recognised php ubuntu\"*. The goal of the model is to rank all these 4 questions (1 *positive* and *R* = 3 *negative*) in the way that the correct one is in the first place.\n",
        "\n",
        "However, it is unnatural to count on that the best candidate will be always in the first place. So let us consider the place of the best candidate in the sorted list of candidates and formulate a metric based on it. We can fix some *K* — a reasonalble number of top-ranked elements and *N* — a number of queries (size of the sample).\n",
        "\n",
        "### Hits@K\n",
        "\n",
        "The first simple metric will be a number of correct hits for some *K*:\n",
        "$$ \\text{Hits@K} = \\frac{1}{N}\\sum_{i=1}^N \\, [dup_i \\in topK(q_i)]$$\n",
        "\n",
        "where $q_i$ is the i-th query, $dup_i$ is its duplicate, $topK(q_i)$ is the top K elements of the ranked sentences provided by our model and the operation $[dup_i \\in topK(q_i)]$ equals 1 if the condition is true and 0 otherwise (more details about this operation could be found [here](https://en.wikipedia.org/wiki/Iverson_bracket)).\n",
        "\n",
        "\n",
        "### DCG@K\n",
        "The second one is a simplified [DCG metric](https://en.wikipedia.org/wiki/Discounted_cumulative_gain):\n",
        "\n",
        "$$ \\text{DCG@K} = \\frac{1}{N} \\sum_{i=1}^N\\frac{1}{\\log_2(1+rank_{dup_i})}\\cdot[rank_{dup_i} \\le K] $$\n",
        "\n",
        "where $rank_{dup_i}$ is a position of the duplicate in the sorted list of the nearest sentences for the query $q_i$. According to this metric, the model gets a higher reward for a higher position of the correct answer. If the answer does not appear in topK at all, the reward is zero. "
      ]
    },
    {
      "cell_type": "markdown",
      "metadata": {
        "id": "hBfOf2D1Nlcy",
        "colab_type": "text"
      },
      "source": [
        "### Evaluation examples\n",
        "\n",
        "Let's calculate the described metrics for the toy example introduced above. In this case $N$ = 1 and the correct candidate for $q_1$ is *\"How does the catch keyword determine the type of exception that was thrown\"*. Consider the following ranking of the candidates:\n",
        "1. *\"How Can I Make These Links Rotate in PHP\"*\n",
        "2. *\"How does the catch keyword determine the type of exception that was thrown\"*\n",
        "3. *\"NSLog array description not memory address\"*\n",
        "4. *\"PECL_HTTP not recognised php ubuntu\"*\n",
        "\n",
        "Using the ranking above, calculate *Hits@K* metric for *K = 1, 2, 4*: \n",
        " \n",
        "- [K = 1] $\\text{Hits@1} = \\frac{1}{1}\\sum_{i=1}^1 \\, [dup_i \\in top1(q_i)] = [dup_1 \\in top1(q_1)] = 0$ because the correct answer doesn't appear in the *top1* list.\n",
        "- [K = 2] $\\text{Hits@2} = \\frac{1}{1}\\sum_{i=1}^1 \\, [dup_i \\in top2(q_i)] = [dup_1 \\in top2(q_1)] = 1$ because $rank_{dup_1} = 2$.\n",
        "- [K = 4] $\\text{Hits@4} = \\frac{1}{1}\\sum_{i=1}^1 \\, [dup_i \\in top4(q_i)] = [dup_1 \\in top4(q_1)] = 1$\n",
        "\n",
        "Using the ranking above, calculate *DCG@K* metric for *K = 1, 2, 4*:\n",
        "\n",
        "- [K = 1] $\\text{DCG@1} = \\frac{1}{1} \\sum_{i=1}^1\\frac{1}{\\log_2(1+rank_{dup_i})}\\cdot[rank_{dup_i} \\le 1] = \\frac{1}{\\log_2(1+rank_{dup_i})}\\cdot[rank_{dup_i} \\le 1] = 0$ because the correct answer doesn't appear in the top1 list.\n",
        "- [K = 2] $\\text{DCG@2} = \\frac{1}{1} \\sum_{i=1}^1\\frac{1}{\\log_2(1+rank_{dup_i})}\\cdot[rank_{dup_i} \\le 2] = \\frac{1}{\\log_2{3}}$, because $rank_{dup_1} = 2$.\n",
        "- [K = 4] $\\text{DCG@4} = \\frac{1}{1} \\sum_{i=1}^1\\frac{1}{\\log_2(1+rank_{dup_i})}\\cdot[rank_{dup_i} \\le 4] = \\frac{1}{\\log_2{3}}$.\n"
      ]
    },
    {
      "cell_type": "markdown",
      "metadata": {
        "id": "1krKhs0hNlcz",
        "colab_type": "text"
      },
      "source": [
        "**Tasks 2 and 3 (HitsCount and DCGScore).** Implement the functions *hits_count* and *dcg_score* as described above. Each function has two arguments: *dup_ranks* and *k*. *dup_ranks* is a list which contains *values of ranks* of duplicates. For example, *dup_ranks* is *[2]* for the example provided above."
      ]
    },
    {
      "cell_type": "code",
      "metadata": {
        "id": "Hl07iHYuNlc0",
        "colab_type": "code",
        "colab": {}
      },
      "source": [
        "def hits_count(dup_ranks, k):\n",
        "    \"\"\"\n",
        "        dup_ranks: list of duplicates' ranks; one rank per question; \n",
        "                   length is a number of questions which we are looking for duplicates; \n",
        "                   rank is a number from 1 to len(candidates of the question); \n",
        "                   e.g. [2, 3] means that the first duplicate has the rank 2, the second one — 3.\n",
        "        k: number of top-ranked elements (k in Hits@k metric)\n",
        "\n",
        "        result: return Hits@k value for current ranking\n",
        "    \"\"\"\n",
        "    hits=0\n",
        "    for ranks in dup_ranks:\n",
        "      if ranks <= k:\n",
        "        hits= hits+1\n",
        "    return hits/len(dup_ranks)\n",
        "    ######################################\n",
        "    ######### YOUR CODE HERE #############\n",
        "    ######################################"
      ],
      "execution_count": 18,
      "outputs": []
    },
    {
      "cell_type": "code",
      "metadata": {
        "id": "uTB436-fnHnh",
        "colab_type": "code",
        "colab": {
          "base_uri": "https://localhost:8080/",
          "height": 34
        },
        "outputId": "f46dc99c-d749-48fc-b1fb-c3993f6dbafe"
      },
      "source": [
        "arr=[2,3]\n",
        "arr[:1]"
      ],
      "execution_count": 19,
      "outputs": [
        {
          "output_type": "execute_result",
          "data": {
            "text/plain": [
              "[2]"
            ]
          },
          "metadata": {
            "tags": []
          },
          "execution_count": 19
        }
      ]
    },
    {
      "cell_type": "markdown",
      "metadata": {
        "id": "rX-JTJHmNlc4",
        "colab_type": "text"
      },
      "source": [
        "Test your code on the tiny examples:"
      ]
    },
    {
      "cell_type": "code",
      "metadata": {
        "id": "_c15tkSYNlc5",
        "colab_type": "code",
        "colab": {}
      },
      "source": [
        "def test_hits():\n",
        "    # *Evaluation example*\n",
        "    # answers — dup_i\n",
        "    answers = [\"How does the catch keyword determine the type of exception that was thrown\"]\n",
        "    \n",
        "    # candidates_ranking — the ranked sentences provided by our model\n",
        "    candidates_ranking = [[\"How Can I Make These Links Rotate in PHP\", \n",
        "                           \"How does the catch keyword determine the type of exception that was thrown\",\n",
        "                           \"NSLog array description not memory address\",\n",
        "                           \"PECL_HTTP not recognised php ubuntu\"]]\n",
        "    # dup_ranks — position of the dup_i in the list of ranks +1\n",
        "    dup_ranks = [candidates_ranking[i].index(answers[i]) + 1 for i in range(len(answers))]\n",
        "    # correct_answers — the expected values of the result for each k from 1 to 4\n",
        "    correct_answers = [0, 1, 1, 1]\n",
        "    for k, correct in enumerate(correct_answers, 1):\n",
        "        if not np.isclose(hits_count(dup_ranks, k), correct):\n",
        "            return \"Check the function.\"\n",
        "    \n",
        "    # Other tests\n",
        "    answers = [\"How does the catch keyword determine the type of exception that was thrown\", \n",
        "               \"Convert Google results object (pure js) to Python object\"]\n",
        "    \n",
        "    # The first test: both duplicates on the first position in ranked list\n",
        "    candidates_ranking = [[\"How does the catch keyword determine the type of exception that was thrown\",\n",
        "                           \"How Can I Make These Links Rotate in PHP\"], \n",
        "                          [\"Convert Google results object (pure js) to Python object\",\n",
        "                           \"WPF- How to update the changes in list item of a list\"]]\n",
        "    dup_ranks = [candidates_ranking[i].index(answers[i]) + 1 for i in range(len(answers))]\n",
        "    correct_answers = [1, 1]\n",
        "    for k, correct in enumerate(correct_answers, 1):\n",
        "        if not np.isclose(hits_count(dup_ranks, k), correct):\n",
        "            print(hits_count(dup_ranks, k))\n",
        "            print(k)\n",
        "            return \"Check the function (test: both duplicates on the first position in ranked list).\"\n",
        "        \n",
        "    # The second test: one candidate on the first position, another — on the second\n",
        "    candidates_ranking = [[\"How Can I Make These Links Rotate in PHP\", \n",
        "                           \"How does the catch keyword determine the type of exception that was thrown\"], \n",
        "                          [\"Convert Google results object (pure js) to Python object\",\n",
        "                           \"WPF- How to update the changes in list item of a list\"]]\n",
        "    dup_ranks = [candidates_ranking[i].index(answers[i]) + 1 for i in range(len(answers))]\n",
        "    correct_answers = [0.5, 1]\n",
        "    for k, correct in enumerate(correct_answers, 1):\n",
        "        if not np.isclose(hits_count(dup_ranks, k), correct):\n",
        "            return \"Check the function (test: one candidate on the first position, another — on the second).\"\n",
        "\n",
        "    # The third test: both candidates on the second position\n",
        "    candidates_ranking = [[\"How Can I Make These Links Rotate in PHP\", \n",
        "                           \"How does the catch keyword determine the type of exception that was thrown\"], \n",
        "                          [\"WPF- How to update the changes in list item of a list\",\n",
        "                           \"Convert Google results object (pure js) to Python object\"]]\n",
        "    dup_ranks = [candidates_ranking[i].index(answers[i]) + 1 for i in range(len(answers))]\n",
        "    correct_answers = [0, 1]\n",
        "    for k, correct in enumerate(correct_answers, 1):\n",
        "        if not np.isclose(hits_count(dup_ranks, k), correct):\n",
        "            return \"Check the function (test: both candidates on the second position).\"\n",
        "\n",
        "    return \"Basic test are passed.\""
      ],
      "execution_count": 20,
      "outputs": []
    },
    {
      "cell_type": "code",
      "metadata": {
        "id": "-nMymmbFNlc9",
        "colab_type": "code",
        "colab": {
          "base_uri": "https://localhost:8080/",
          "height": 34
        },
        "outputId": "56fc77f9-13ed-4a99-9d0d-887cf9e1e6e1"
      },
      "source": [
        "print(test_hits())"
      ],
      "execution_count": 21,
      "outputs": [
        {
          "output_type": "stream",
          "text": [
            "Basic test are passed.\n"
          ],
          "name": "stdout"
        }
      ]
    },
    {
      "cell_type": "code",
      "metadata": {
        "id": "0ZnngW1oNldB",
        "colab_type": "code",
        "colab": {}
      },
      "source": [
        "def dcg_score(dup_ranks, k):\n",
        "    \"\"\"\n",
        "        dup_ranks: list of duplicates' ranks; one rank per question; \n",
        "                   length is a number of questions which we are looking for duplicates; \n",
        "                   rank is a number from 1 to len(candidates of the question); \n",
        "                   e.g. [2, 3] means that the first duplicate has the rank 2, the second one — 3.\n",
        "        k: number of top-ranked elements (k in DCG@k metric)\n",
        "\n",
        "        result: return DCG@k value for current ranking\n",
        "    \"\"\"\n",
        "    ######################################\n",
        "    ######### YOUR CODE HERE #############\n",
        "    ######################################\n",
        "    dcg=0\n",
        "    for ranks in dup_ranks:\n",
        "      if ranks<=k:\n",
        "        dcg= dcg + (1/(np.log2(1+ranks)))\n",
        "\n",
        "    return dcg/len(dup_ranks)"
      ],
      "execution_count": 22,
      "outputs": []
    },
    {
      "cell_type": "code",
      "metadata": {
        "id": "DOhfGSBhNldE",
        "colab_type": "code",
        "colab": {}
      },
      "source": [
        "def test_dcg():\n",
        "    # *Evaluation example*\n",
        "    # answers — dup_i\n",
        "    answers = [\"How does the catch keyword determine the type of exception that was thrown\"]\n",
        "    \n",
        "    # candidates_ranking — the ranked sentences provided by our model\n",
        "    candidates_ranking = [[\"How Can I Make These Links Rotate in PHP\", \n",
        "                           \"How does the catch keyword determine the type of exception that was thrown\",\n",
        "                           \"NSLog array description not memory address\",\n",
        "                           \"PECL_HTTP not recognised php ubuntu\"]]\n",
        "    # dup_ranks — position of the dup_i in the list of ranks +1\n",
        "    dup_ranks = [candidates_ranking[i].index(answers[i]) + 1 for i in range(len(answers))]\n",
        "    \n",
        "    # correct_answers — the expected values of the result for each k from 1 to 4\n",
        "    correct_answers = [0, 1 / (np.log2(3)), 1 / (np.log2(3)), 1 / (np.log2(3))]\n",
        "    for k, correct in enumerate(correct_answers, 1):\n",
        "        if not np.isclose(dcg_score(dup_ranks, k), correct):\n",
        "            return \"Check the function.\"\n",
        "    \n",
        "    # Other tests\n",
        "    answers = [\"How does the catch keyword determine the type of exception that was thrown\", \n",
        "               \"Convert Google results object (pure js) to Python object\"]\n",
        "\n",
        "    # The first test: both duplicates on the first position in ranked list\n",
        "    candidates_ranking = [[\"How does the catch keyword determine the type of exception that was thrown\",\n",
        "                           \"How Can I Make These Links Rotate in PHP\"], \n",
        "                          [\"Convert Google results object (pure js) to Python object\",\n",
        "                           \"WPF- How to update the changes in list item of a list\"]]\n",
        "    dup_ranks = [candidates_ranking[i].index(answers[i]) + 1 for i in range(len(answers))]\n",
        "    correct_answers = [1, 1]\n",
        "    for k, correct in enumerate(correct_answers, 1):\n",
        "        if not np.isclose(dcg_score(dup_ranks, k), correct):\n",
        "            return \"Check the function (test: both duplicates on the first position in ranked list).\"\n",
        "        \n",
        "    # The second test: one candidate on the first position, another — on the second\n",
        "    candidates_ranking = [[\"How Can I Make These Links Rotate in PHP\", \n",
        "                           \"How does the catch keyword determine the type of exception that was thrown\"], \n",
        "                          [\"Convert Google results object (pure js) to Python object\",\n",
        "                           \"WPF- How to update the changes in list item of a list\"]]\n",
        "    dup_ranks = [candidates_ranking[i].index(answers[i]) + 1 for i in range(len(answers))]\n",
        "    correct_answers = [0.5, (1 + (1 / (np.log2(3)))) / 2]\n",
        "    for k, correct in enumerate(correct_answers, 1):\n",
        "        if not np.isclose(dcg_score(dup_ranks, k), correct):\n",
        "            return \"Check the function (test: one candidate on the first position, another — on the second).\"\n",
        "        \n",
        "    # The third test: both candidates on the second position\n",
        "    candidates_ranking = [[\"How Can I Make These Links Rotate in PHP\",\n",
        "                           \"How does the catch keyword determine the type of exception that was thrown\"], \n",
        "                          [\"WPF- How to update the changes in list item of a list\",\n",
        "                           \"Convert Google results object (pure js) to Python object\"]]\n",
        "    dup_ranks = [candidates_ranking[i].index(answers[i]) + 1 for i in range(len(answers))]\n",
        "    correct_answers = [0, 1 / (np.log2(3))]\n",
        "    for k, correct in enumerate(correct_answers, 1):\n",
        "        if not np.isclose(dcg_score(dup_ranks, k), correct):\n",
        "            return \"Check the function (test: both candidates on the second position).\"\n",
        "\n",
        "    return \"Basic test are passed.\""
      ],
      "execution_count": 23,
      "outputs": []
    },
    {
      "cell_type": "code",
      "metadata": {
        "id": "89kSeiVBNldI",
        "colab_type": "code",
        "colab": {
          "base_uri": "https://localhost:8080/",
          "height": 34
        },
        "outputId": "eb85a840-53e9-46b2-b23e-e36952d9460d"
      },
      "source": [
        "print(test_dcg())"
      ],
      "execution_count": 24,
      "outputs": [
        {
          "output_type": "stream",
          "text": [
            "Basic test are passed.\n"
          ],
          "name": "stdout"
        }
      ]
    },
    {
      "cell_type": "markdown",
      "metadata": {
        "id": "KGayAhx5NldN",
        "colab_type": "text"
      },
      "source": [
        "Submit results of the functions *hits_count* and *dcg_score* for the following examples to earn the points."
      ]
    },
    {
      "cell_type": "code",
      "metadata": {
        "id": "xzOVEmssNldP",
        "colab_type": "code",
        "colab": {}
      },
      "source": [
        "test_examples = [\n",
        "    [1],\n",
        "    [1, 2],\n",
        "    [2, 1],\n",
        "    [1, 2, 3],\n",
        "    [1, 2, 3, 4, 5, 6, 7, 8, 9, 10],\n",
        "    [9, 5, 4, 2, 8, 10, 7, 6, 1, 3],\n",
        "    [4, 3, 5, 1, 9, 10, 7, 8, 2, 6],\n",
        "    [5, 1, 7, 6, 2, 3, 8, 9, 10, 4],\n",
        "    [6, 3, 1, 4, 7, 2, 9, 8, 10, 5],\n",
        "    [10, 9, 8, 7, 6, 5, 4, 3, 2, 1],\n",
        "]"
      ],
      "execution_count": 25,
      "outputs": []
    },
    {
      "cell_type": "code",
      "metadata": {
        "id": "m3PoWC1FNldT",
        "colab_type": "code",
        "colab": {
          "base_uri": "https://localhost:8080/",
          "height": 323
        },
        "outputId": "8e90cdd5-85e8-42ff-9765-bd980f092de2"
      },
      "source": [
        "hits_results = []\n",
        "for example in test_examples:\n",
        "    for k in range(len(example)):\n",
        "        hits_results.append(hits_count(example, k + 1))\n",
        "grader.submit_tag('HitsCount', array_to_string(hits_results))"
      ],
      "execution_count": 26,
      "outputs": [
        {
          "output_type": "stream",
          "text": [
            "Current answer for task HitsCount is: 1.0\n",
            "0.5\n",
            "1.0\n",
            "0.5\n",
            "1.0\n",
            "0.3333333333333333\n",
            "0.6666666666666666\n",
            "1.0\n",
            "0.1\n",
            "0.2\n",
            "0.3\n",
            "0.4\n",
            "0.5\n",
            "0.6\n",
            "0.7\n",
            "0.8\n",
            "0.9\n",
            "1....\n"
          ],
          "name": "stdout"
        }
      ]
    },
    {
      "cell_type": "code",
      "metadata": {
        "id": "iLsESJTwNldY",
        "colab_type": "code",
        "colab": {
          "base_uri": "https://localhost:8080/",
          "height": 153
        },
        "outputId": "327d6b71-8026-4c3c-927f-88b9e8c7878e"
      },
      "source": [
        "dcg_results = []\n",
        "for example in test_examples:\n",
        "    for k in range(len(example)):\n",
        "        dcg_results.append(dcg_score(example, k + 1))\n",
        "grader.submit_tag('DCGScore', array_to_string(dcg_results))"
      ],
      "execution_count": 27,
      "outputs": [
        {
          "output_type": "stream",
          "text": [
            "Current answer for task DCGScore is: 1.0\n",
            "0.5\n",
            "0.8154648767857288\n",
            "0.5\n",
            "0.8154648767857288\n",
            "0.3333333333333333\n",
            "0.5436432511904858\n",
            "0.7103099178...\n"
          ],
          "name": "stdout"
        }
      ]
    },
    {
      "cell_type": "markdown",
      "metadata": {
        "id": "WNU-NxRENlde",
        "colab_type": "text"
      },
      "source": [
        "##  First solution: pre-trained embeddings"
      ]
    },
    {
      "cell_type": "markdown",
      "metadata": {
        "id": "QFakRe48Nlde",
        "colab_type": "text"
      },
      "source": [
        "We will work with predefined train, validation and test corpora. All the files are tab-separated, but have a different format:\n",
        " - *train* corpus contains similar sentences at the same row.\n",
        " - *validation* corpus contains the following columns: *question*, *similar question*, *negative example 1*, *negative example 2*, ... \n",
        " - *test* corpus contains the following columns: *question*, *example 1*, *example 2*, ...\n",
        "\n",
        "Validation corpus will be used for the intermediate validation of models. The test data will be necessary for submitting the quality of your model in the system."
      ]
    },
    {
      "cell_type": "markdown",
      "metadata": {
        "id": "D3YhS1K6Nldf",
        "colab_type": "text"
      },
      "source": [
        "Now you should read *validation* corpus, located at `data/validation.tsv`. You will use it later to evaluate current solution."
      ]
    },
    {
      "cell_type": "code",
      "metadata": {
        "id": "GjRcBhOgNldg",
        "colab_type": "code",
        "colab": {}
      },
      "source": [
        "def read_corpus(filename):\n",
        "    data = []\n",
        "    for line in open(filename, encoding='utf-8'):\n",
        "        data.append(line.strip().split('\\t'))\n",
        "    return data"
      ],
      "execution_count": 28,
      "outputs": []
    },
    {
      "cell_type": "code",
      "metadata": {
        "id": "fFHl8hp-Nldk",
        "colab_type": "code",
        "colab": {}
      },
      "source": [
        "validation = read_corpus('data/validation.tsv')"
      ],
      "execution_count": 29,
      "outputs": []
    },
    {
      "cell_type": "code",
      "metadata": {
        "id": "3uICxGScNldq",
        "colab_type": "code",
        "colab": {}
      },
      "source": [
        "from sklearn.metrics.pairwise import cosine_similarity"
      ],
      "execution_count": 30,
      "outputs": []
    },
    {
      "cell_type": "markdown",
      "metadata": {
        "id": "ZYGKT_-pNldx",
        "colab_type": "text"
      },
      "source": [
        "We will use cosine distance to rank candidate questions which you need to implement in the function *rank_candidates*. The function should return a sorted list of pairs *(initial position in candidates list, candidate)*. Index of some pair corresponds to its rank (the first is the best). For example, if the list of candidates was *[a, b, c]* and the most similar is *c*, then *a* and *b*, the function should return a list *[(2, c), (0, a), (1, b)]*.\n",
        "\n",
        "Pay attention, if you use the function *cosine_similarity* from *sklearn.metrics.pairwise* to calculate similarity because it works in a different way: most similar objects has greatest similarity. It's preferable to use a vectorized version of *cosine_similarity* function. Try to compute similarity at once and not use list comprehension. It should speed up your computations significantly."
      ]
    },
    {
      "cell_type": "code",
      "metadata": {
        "id": "eiaL47LuNldy",
        "colab_type": "code",
        "colab": {}
      },
      "source": [
        "def rank_candidates(question, candidates, embeddings, dim=300):\n",
        "    \"\"\"\n",
        "        question: a string\n",
        "        candidates: a list of strings (candidates) which we want to rank\n",
        "        embeddings: some embeddings\n",
        "        dim: dimension of the current embeddings\n",
        "        \n",
        "        result: a list of pairs (initial position in the list, question)\n",
        "    \"\"\"\n",
        "    question_vector= question_to_vec(question,embeddings,dim).reshape(1,-1)\n",
        "    candidate_vectors = np.array([question_to_vec(candidate,embeddings,dim) for candidate in candidates])\n",
        "    similarity = cosine_similarity(question_vector,candidate_vectors)\n",
        "    sorted_indexes = np.fliplr(np.argsort(np.array(similarity)))\n",
        "    similar_candidates=[]\n",
        "    for indexs in sorted_indexes:\n",
        "      for index in indexs:\n",
        "        similar_candidates.append((index,candidates[index]))\n",
        "\n",
        "    return similar_candidates\n",
        "    ######################################\n",
        "    ######### YOUR CODE HERE #############\n",
        "    ######################################"
      ],
      "execution_count": 31,
      "outputs": []
    },
    {
      "cell_type": "markdown",
      "metadata": {
        "id": "oqqCsq94Nld4",
        "colab_type": "text"
      },
      "source": [
        "Test your code on the tiny examples:"
      ]
    },
    {
      "cell_type": "code",
      "metadata": {
        "id": "Mfc7mydMNld4",
        "colab_type": "code",
        "colab": {}
      },
      "source": [
        "def test_rank_candidates():\n",
        "    questions = ['converting string to list', 'Sending array via Ajax fails']\n",
        "    candidates = [['Convert Google results object (pure js) to Python object', \n",
        "                   'C# create cookie from string and send it',\n",
        "                   'How to use jQuery AJAX for an outside domain?'], \n",
        "                  ['Getting all list items of an unordered list in PHP', \n",
        "                   'WPF- How to update the changes in list item of a list', \n",
        "                   'select2 not displaying search results']]\n",
        "    results = [[(1, 'C# create cookie from string and send it'), \n",
        "                (0, 'Convert Google results object (pure js) to Python object'), \n",
        "                (2, 'How to use jQuery AJAX for an outside domain?')],\n",
        "               [(0, 'Getting all list items of an unordered list in PHP'), \n",
        "                (2, 'select2 not displaying search results'), \n",
        "                (1, 'WPF- How to update the changes in list item of a list')]]\n",
        "    for question, q_candidates, result in zip(questions, candidates, results):\n",
        "        ranks = rank_candidates(question, q_candidates, wv_embeddings, 300)\n",
        "        if not np.all(ranks == result):\n",
        "            return \"Check the function.\"\n",
        "    return \"Basic tests are passed.\""
      ],
      "execution_count": 32,
      "outputs": []
    },
    {
      "cell_type": "code",
      "metadata": {
        "id": "YQVk92ABNld8",
        "colab_type": "code",
        "colab": {
          "base_uri": "https://localhost:8080/",
          "height": 34
        },
        "outputId": "3e2b2d90-21a6-4ac5-85bd-b55d22184271"
      },
      "source": [
        "print(test_rank_candidates())"
      ],
      "execution_count": 33,
      "outputs": [
        {
          "output_type": "stream",
          "text": [
            "Basic tests are passed.\n"
          ],
          "name": "stdout"
        }
      ]
    },
    {
      "cell_type": "markdown",
      "metadata": {
        "id": "IG4BdOfhNleA",
        "colab_type": "text"
      },
      "source": [
        "Now we can test the quality of the current approach. Run the next two cells to get the results. Pay attention that calculation of similarity between vectors takes time and this calculation is computed approximately in 10 minutes."
      ]
    },
    {
      "cell_type": "code",
      "metadata": {
        "id": "cfYStGGQNleB",
        "colab_type": "code",
        "colab": {}
      },
      "source": [
        "wv_ranking = []\n",
        "for line in validation:\n",
        "    q, *ex = line\n",
        "    ranks = rank_candidates(q, ex, wv_embeddings)\n",
        "    wv_ranking.append([r[0] for r in ranks].index(0) + 1)"
      ],
      "execution_count": 34,
      "outputs": []
    },
    {
      "cell_type": "code",
      "metadata": {
        "id": "7tq7lr5SNleF",
        "colab_type": "code",
        "colab": {
          "base_uri": "https://localhost:8080/",
          "height": 119
        },
        "outputId": "b92f6233-5600-47f6-d5cc-4dbd60183f3a"
      },
      "source": [
        "for k in [1, 5, 10, 100, 500, 1000]:\n",
        "    print(\"DCG@%4d: %.3f | Hits@%4d: %.3f\" % (k, dcg_score(wv_ranking, k), k, hits_count(wv_ranking, k)))"
      ],
      "execution_count": 35,
      "outputs": [
        {
          "output_type": "stream",
          "text": [
            "DCG@   1: 0.209 | Hits@   1: 0.209\n",
            "DCG@   5: 0.263 | Hits@   5: 0.311\n",
            "DCG@  10: 0.279 | Hits@  10: 0.360\n",
            "DCG@ 100: 0.316 | Hits@ 100: 0.548\n",
            "DCG@ 500: 0.349 | Hits@ 500: 0.807\n",
            "DCG@1000: 0.369 | Hits@1000: 1.000\n"
          ],
          "name": "stdout"
        }
      ]
    },
    {
      "cell_type": "markdown",
      "metadata": {
        "id": "TU8oCa7LNleL",
        "colab_type": "text"
      },
      "source": [
        "If you did all the steps correctly, you should be frustrated by the received results. Let's try to understand why the quality is so low. First of all, when you work with some data it is necessary to have an idea how the data looks like. Print several questions from the data:"
      ]
    },
    {
      "cell_type": "code",
      "metadata": {
        "id": "Hq8RfljPNleN",
        "colab_type": "code",
        "colab": {
          "base_uri": "https://localhost:8080/",
          "height": 88
        },
        "outputId": "e4dca24b-0326-433f-d1f3-d543bff0dcc9"
      },
      "source": [
        "for line in validation[:3]:\n",
        "    q, *examples = line\n",
        "    print(q, *examples[:3])"
      ],
      "execution_count": 36,
      "outputs": [
        {
          "output_type": "stream",
          "text": [
            "How to print a binary heap tree without recursion? How do you best convert a recursive function to an iterative one? How can i use ng-model with directive in angular js flash: drawing and erasing\n",
            "How to start PhoneStateListener programmatically? PhoneStateListener and service Java cast object[] to model WCF and What does this mean?\n",
            "jQuery: Show a div2 when mousenter over div1 is over when hover on div1 depenting on if it is on div2 or not it should act differently How to run selenium in google app engine/cloud? Python Comparing two lists of strings for similarities\n"
          ],
          "name": "stdout"
        }
      ]
    },
    {
      "cell_type": "markdown",
      "metadata": {
        "id": "vbI3cdOHNleR",
        "colab_type": "text"
      },
      "source": [
        "As you can see, we deal with the raw data. It means that we have many punctuation marks, special characters and unlowercased letters. In our case, it could lead to the situation where we can't find some embeddings, e.g. for the word \"grid?\". \n",
        "\n",
        "To solve this problem you should use the functions *text_prepare* from the previous assignments to prepare the data."
      ]
    },
    {
      "cell_type": "code",
      "metadata": {
        "id": "VKaZM7F2NleU",
        "colab_type": "code",
        "colab": {}
      },
      "source": [
        "from util import text_prepare"
      ],
      "execution_count": 37,
      "outputs": []
    },
    {
      "cell_type": "markdown",
      "metadata": {
        "id": "Mnb9BE9VNleY",
        "colab_type": "text"
      },
      "source": [
        "Now transform all the questions from the validation set:"
      ]
    },
    {
      "cell_type": "code",
      "metadata": {
        "id": "SgFJ3vC0uCbA",
        "colab_type": "code",
        "colab": {
          "base_uri": "https://localhost:8080/",
          "height": 1000
        },
        "outputId": "7963a0fe-6789-4b18-ad08-0b2ad7e6b654"
      },
      "source": [
        "validation[:1]"
      ],
      "execution_count": 59,
      "outputs": [
        {
          "output_type": "execute_result",
          "data": {
            "text/plain": [
              "[['How to print a binary heap tree without recursion?',\n",
              "  'How do you best convert a recursive function to an iterative one?',\n",
              "  'How can i use ng-model with directive in angular js',\n",
              "  'flash: drawing and erasing',\n",
              "  'toggle react component using hide show classname',\n",
              "  'Use a usercontrol from another project to current webpage',\n",
              "  '~ Paths resolved differently after upgrading to ASP.NET 4',\n",
              "  'Materialize datepicker - Rendering when an icon is clicked',\n",
              "  'Creating PyPi package - Could not find a version that satisfies the requirement iso8601',\n",
              "  'How can I analyze a confusion matrix?',\n",
              "  'How do I declare a C array in Swift?',\n",
              "  'Using rand() when flipping a coin and rolling a die',\n",
              "  'Handling a JSON field with a special character in its name in Java',\n",
              "  'React Native select row on ListView when push it',\n",
              "  \"Get 'creation_time' of video using ffmpeg and regex\",\n",
              "  'Does row exist and multiple where',\n",
              "  \"How to specify a classifier in a gradle dependency's dependency?\",\n",
              "  'Using $unwind on multiple documents',\n",
              "  'Visual Studio Code: Missing X509Certificate2UI',\n",
              "  'Developing Cordova plugins for Firefox OS',\n",
              "  'Update multiple rows for 2 columns in MySQL',\n",
              "  'Analyse format of alpha-numeric string',\n",
              "  'Dealing with large TIFF images C++/Magick/libtiff',\n",
              "  'What does Error: [$injector:unpr] Unknown provider: tProvider <- t <- myActiveLinkDirective mean?',\n",
              "  'AngularJS - Apply directive instantly, formating currency',\n",
              "  'Can I change the font color on a portion of a string?',\n",
              "  \"Spring AOP does not intercept methods within Spring's container\",\n",
              "  'How to retrieve json in original nested form in apache solr?',\n",
              "  \"Spatial autocorrelation using Moran's I or other spatial overlap index\",\n",
              "  'how to stop my php page from continuing when field is empty',\n",
              "  'Selecting all CheckBoxes in ListBox not displayed properly',\n",
              "  \"PHP warning: Illegal string offset 'field'\",\n",
              "  'WebBrowser control crashes on Windows 10',\n",
              "  'Error while opening a modal in angular',\n",
              "  'Port 25 works when exe run manually but blocked when run as service',\n",
              "  'Why does 6.00 + (plus) 5.00 = \"5.006.00\"?',\n",
              "  'Count number of processes created using fork in a for loop',\n",
              "  'When should I use UIImagePickerControllerSourceTypePhotoLibrary instead of UIImagePickerControllerSourceTypeSavedPhotosAlbum?',\n",
              "  'Read File in Java, output the first comma delimited String',\n",
              "  'Simple recursive method',\n",
              "  'Ensure SQLite table only has one row',\n",
              "  'Why is there a method iterator() on java.util.Collection',\n",
              "  'Development for Cloudant using local CouchDB',\n",
              "  'Regex to find method calls',\n",
              "  'ASP.NET Menu rendering different from vs2008 to vs2010',\n",
              "  'Maven - Change jUnit Version in Quickstart Archetype',\n",
              "  'Writing sublists in a list of lists to separate text files',\n",
              "  'iPad: problems with table rows in popovercontrol',\n",
              "  'Retrieve multiple results set',\n",
              "  'pagination is not working in codeigniter :(',\n",
              "  'Angular NVD3 Change Colors In Legends Also',\n",
              "  'node.js server not responding while large file upload with express and busboy',\n",
              "  'Send request & Get Response in Windows Phone 8.1 WinRT',\n",
              "  'want to delete only empty folders from directory before last 30 days using batch',\n",
              "  'Creating X amount of threads that execute a task at the same time',\n",
              "  'Android Studio 2.2 update: aligned APK (zipAlign) not generated using the new Gradle Plugin 2.2.0',\n",
              "  'Entity Framework - adding the same entity twice in many-to-many relationships',\n",
              "  'Join two tables, only display unique values and maxium date',\n",
              "  'How to use absolute position relative to parent element',\n",
              "  'Search refinement for WebMatrix site',\n",
              "  'Maven project version as expression, not constant',\n",
              "  'Can I prevent App.g.i.cs to be generated?',\n",
              "  'Troubles converting XSD to Java using JAXB',\n",
              "  'Cannot run a jax rs web service with tomcat',\n",
              "  'make a password protected bash script resist/refuse \"bash -x\" when the password is given',\n",
              "  'Does youtube api play function trigger a view count?',\n",
              "  'Why is this Perl loop over strings then characters so slow?',\n",
              "  'How can I change the size of rgl plots in Shiny RMarkdown?',\n",
              "  'How do I programmatically disconnect clients which are connected to Solace appliance?',\n",
              "  'Rails before_filter (Correct_user OR Admin)',\n",
              "  'How to gitignore everything except hidden subdir?',\n",
              "  'Should I use weakSelf in nested blocks?',\n",
              "  'CSS background color not behaving as expected',\n",
              "  'Android app Listview cannot be scrolled to bottom to search a specific element using appium in java',\n",
              "  'Rails: Why \"has_many ..., :through => ...\" association results in \"NameError: uninitialized constant ...\"',\n",
              "  'How to send data between fragments when swiping tabs in ViewPager',\n",
              "  'Wordpress static pages: how to embed content into templates?',\n",
              "  'Troubles with importing classes from Angular 2 modules with Typescript 1.7',\n",
              "  'i am not able to get the images read in java for exporting it as JAR',\n",
              "  'How do I create a resource dll',\n",
              "  'error: linker command failed: ld: duplicate symbol _main',\n",
              "  'sql to find non-printable characters in a string',\n",
              "  'i want to generate payperiod for each month',\n",
              "  'Interactively enter headline under which to place an entry using capture',\n",
              "  'Querying the DNS service records to find the hostname and TCP/IP',\n",
              "  'Can I use setContentView outside the oncreate method?',\n",
              "  'Consolitate data from multible sheets ,re-arrange the data as per the column name',\n",
              "  \"Why is my 'transparent' overlay view opaque?\",\n",
              "  'how can I run play framework with port=9001 under windows cmd not under play console?',\n",
              "  'Rails 3 - Ajax POSTS from a link click',\n",
              "  'Add html content to mysql die error?',\n",
              "  'Best way to run a Plack PSGI Perl application outside of Apache using FastCGI?',\n",
              "  'How to Call NSUserDefault Value To Another View Controller?',\n",
              "  'Does Qt have a way to get the font that the particular css resolves to?',\n",
              "  'How to update Parent component about the data that child component modified(angular 1.5)',\n",
              "  '2d array, pushing to one array shows up in all arrays?',\n",
              "  'Get NSData from assets-library URL',\n",
              "  'How to specify image size in HTML Doxygen?',\n",
              "  'NSFetchedResultsControllerDelegate in a second view controller (not firing?)',\n",
              "  'Draggable divs getting mixed with another divs',\n",
              "  'creating MLP in python showing error',\n",
              "  'Create SharePoint 2010 ribbon button programmatically w/o feature XML',\n",
              "  'how can I use pyglet write a music player can play a music list',\n",
              "  'How can I efficiently debug loops consisting of a large number of iterations on Eclipse?',\n",
              "  'Passing a model object to a RedirectToAction without polluting the URL?',\n",
              "  \"Automatically receiving mobile phone's SMS to hyperterminal\",\n",
              "  'Output \"System.out.println\" into Emacs Cider\\'s REPL (or other buffer)',\n",
              "  'Scoring regression model using PMML with Augustus in Python',\n",
              "  'Safari View Controller - send data back to app',\n",
              "  'Signalling a bash script running in the background in an infinite loop',\n",
              "  'How do I add in-app purchase to a published app in play store and test it before going into production?',\n",
              "  'FileNotFoundException in Windows 10 Universal App (UAP)',\n",
              "  'How to map one column with other columns in an avro file?',\n",
              "  'Retrieving all the cell data from a jQuery datatable on post',\n",
              "  'In Play! Frame work Can I Make classes In models package Singleton?',\n",
              "  'Binding events with Hammer.js and .on()',\n",
              "  'yii making user auto logged in on signup end (auto authentication after signup)',\n",
              "  'Unreal Engine 4: save rendered frame to memory',\n",
              "  'Building HelloWorld C++ Program in Linux with ncurses',\n",
              "  'Generating Checkbox Lists with MVC3 using a complex viewmodel and a cross table with Linq to SQL',\n",
              "  'CordovaWebView: TIMEOUT ERROR',\n",
              "  'Whats wrong in my xsd schema ? It gives type element is not declared on include of another xsd file',\n",
              "  'Angular and papaParse Integration',\n",
              "  'Setup a graylog2 server with elasticsearch in a vagrant machine',\n",
              "  '(Solved-See my comment)How to make a password form on tumblr?',\n",
              "  'Javascript: Call a method inside another method',\n",
              "  'aws api gateway client-side ssl certificate verification with nginx',\n",
              "  'Kendo UI drop downs posting arrays',\n",
              "  'ServiceStack Identity on field other than PK - Insert fails',\n",
              "  'Redirection when rendering controller in twig SYMFONY 302',\n",
              "  'CSS Sprites Bottom repeating',\n",
              "  'How can I sort a table of Laravel Eloquent objects by a custom attribute?',\n",
              "  'Comparing elements in a generic list',\n",
              "  'Set minDate for Bootstrap DateTimePicker from another',\n",
              "  'What is the difference between :g and :%s commands in vim',\n",
              "  'Java: creating self extracting jar that can extract parts of itself out of the archive?',\n",
              "  'set html text color and size using javascript',\n",
              "  'Queue using Arrays',\n",
              "  'foreach loop when using Xml.XmlElement in remote scriptblock',\n",
              "  'How to print list of categories and click on each category one by one in selenium/appium?',\n",
              "  'Every now and then, ABCpdf runs out of memory',\n",
              "  'In Spring OAuth2, why is my resource still unprotected even though I have marked it in my resource server?',\n",
              "  'how to restart node application automatically on aws elastic-beanstalk',\n",
              "  'Unresolved external symbol LNK2019',\n",
              "  'Celltemplate in angular-ui-grid is not working properly',\n",
              "  'Escaping backslashes in method call stringByReplacingOccurrencesOfString Does not work in Objective C',\n",
              "  'APEX Data Loading - Add a column programatically',\n",
              "  'MySQL / MariaDB shuts down after exactly 1 minute 42 seconds',\n",
              "  'Mouse movement / mouseover and JavaScript evaluation in watir',\n",
              "  'Removing backslashes from a string in Python',\n",
              "  'Array manipulation (accessing specific bytes)',\n",
              "  'Rails: Does Application.css load all css.scss files?',\n",
              "  'LongListSelector cannot change ItemsSource',\n",
              "  'C# DateTime not recognising timezone change (BST)',\n",
              "  'deinit in child view controllers',\n",
              "  'How to send back to custom class which object of that class was clicked',\n",
              "  'delete from array returning self',\n",
              "  'MS Access Properties',\n",
              "  'UIWebView always add a parameter in url issue',\n",
              "  'comparing two spanned strings in edittext in android',\n",
              "  'Add prefix to control id and still have it bind MVC Razor',\n",
              "  'EXC_BAD_ACCESS when setting Integer to anything else than zero',\n",
              "  ':hover CSS is not working?',\n",
              "  'Blowfish last block incomplete in decryption',\n",
              "  \"Reading uploaded image: undefined method `file' for nil:NilClass\",\n",
              "  'How can I run IntelliJ IDEA on a remote desktop',\n",
              "  'How to get the JSONObject server response in Volley',\n",
              "  'Guide in organizing large Django projects',\n",
              "  'how to populate a dropdownlist based on another dropdownlist selected value in mvc 4?',\n",
              "  'Azure ServiceBus Token Expired',\n",
              "  'iBatis to MyBatis migration efforts?',\n",
              "  'Where should I look for the document generated using htp package',\n",
              "  \"Tortoise SVN Error after update: 'The specified path has an unexpected status'\",\n",
              "  'Extract html data after logging into website from android app',\n",
              "  'Add key value to array without triggering an array',\n",
              "  'How to write this math equation into c++',\n",
              "  'Undefined index php mysql error',\n",
              "  'when text changed inputbox automatically updates next 6 text boxes',\n",
              "  'Unable to get email of facebook user',\n",
              "  'iphone: Facebook logout feature is not work in my app',\n",
              "  'how to force my app NOT to use the 3g data proxy setting',\n",
              "  'Unit Testing - What do you do when your code is pretty much just a calculation (GetHashCode for example)?',\n",
              "  \"Status of CheckBox can't be detected\",\n",
              "  'Sort a list with multiple conditions Ruby on Rails',\n",
              "  'How to sharp the text in css3?',\n",
              "  'How to change the class of an object dynamically in C#?',\n",
              "  'Creating an Array with a Default Value,But the default value is changed',\n",
              "  'How to call a delegate\\'s function without getting the \"instance method not found\" warning in ios?',\n",
              "  'Android, background drawable appear black in genymotion but looks fine in intellij',\n",
              "  'Table has no columns using google charts',\n",
              "  'Dropdown list where options populate a second list js/php?',\n",
              "  'difference between <% and <%= ruby',\n",
              "  'How to remove the functionality of changelist filter appearing in django admin?',\n",
              "  'how to unpack stxetx data in python',\n",
              "  'Ansible: playbook calling Role in a directory that is in the roles directory',\n",
              "  'Setting up HTTPS redirects on Heroku Laravel Instance',\n",
              "  \"Input helper valueBinding is deprecated - what's the alternative?\",\n",
              "  'Using MySQL.connector with Twisted Python to execute multiple queries',\n",
              "  'MySQL - 1 large table with 100 columns OR split into 5 tables and JOIN',\n",
              "  \"neo4j load csv when field name has a '.' in it\",\n",
              "  'Mocha + React: navigator is not defined',\n",
              "  'semantic ui grid - display full width of column, after \"computer only\" columns is hidden',\n",
              "  'populating select menu options using javascript',\n",
              "  'Serializing MongoDB find() return into non-anonymous JSON array, using PyMongo',\n",
              "  'Geom tile white space issue when the x variable is spread unevenly accross facet grids',\n",
              "  'Moving files depending on the profile in a WAR',\n",
              "  \"Check if it's the last record in sqldatareader\",\n",
              "  'Assigning to columns in NumPy?',\n",
              "  'Android Facebook ApiException: Invalid Application',\n",
              "  'Django: customizing the message after a successful form save',\n",
              "  'Custom TextBox with built-in Validator: server side validation not firing',\n",
              "  'How to embed mjpeg file on a webpage',\n",
              "  'php delete on jQuery doesnt work',\n",
              "  \"AWK doesn't work in Bash Script\",\n",
              "  'Launch specific app when external accessory attached',\n",
              "  'Three Inputs in a Row - Bootstrap 3',\n",
              "  'How compiler like GCC implement acquire/release semantics for std::mutex',\n",
              "  'Framework search for upcoming project',\n",
              "  'Implementing a Web Service Server in Windows CE 2013',\n",
              "  'Why do I keep getting \"The digital signature of the object did not verify\" for Windows JavaEE installer',\n",
              "  'hide paging numbers in gridview?',\n",
              "  'How to remove sublayers from a view afer a touch',\n",
              "  'CUDA: Can i find out if i have global memory coalescence?',\n",
              "  'How to read a google chrome crash dump with windbg',\n",
              "  'jQuery targeting nested list',\n",
              "  'pass the column value when checkbox is clicked in wijmogrid column',\n",
              "  \"How to normalize your database in hibernate? (Repeating values don't get saved again and again)\",\n",
              "  'how to stop validation on a particular textbox after hiding this textbox using angularjs',\n",
              "  'opencv imshow with waitKey too slow on Mac OS X 10.10.2 (using c++)',\n",
              "  'Setting an Input Box Background',\n",
              "  'IntelliJ IDEA: \"Element ignore is not allowed here\"',\n",
              "  'Slider does not work in the jQuery Tabs',\n",
              "  'Carrierwave getting image width and height and storing it in an hstore field',\n",
              "  'OpenProcess() succeeds, but EnumProcessModules() fails',\n",
              "  'Django + Forms: Dynamic choices for ChoiceField',\n",
              "  'using Url.Content to display the file content with .net mvc',\n",
              "  'PDO cannot able to fetch image from database',\n",
              "  'error in adding overlay in current location',\n",
              "  'Internal section link fails in beamer output of pandoc markdown',\n",
              "  'Adding ROW_NUMBER() to query loses DISTINCT, defeats the purpose of paged results attempt',\n",
              "  'android studio 135.1339820 launches wrong java version on openSuse 12.3',\n",
              "  'My Facebook object is empty',\n",
              "  'Java code reads UTF-8 text incorrectly',\n",
              "  'PHP session.cookie_secure does not actually set the cookie to secure',\n",
              "  'Using webapp2, how can I get the value of a form\\'s \"name\" attribute during a POST request?',\n",
              "  'Finding Uppercase Character then Adding Space',\n",
              "  'Table data pass into stored procedure as param and insert into another table in mysql',\n",
              "  'Inject entry point class in GWT with GIN',\n",
              "  'How to group by week of the year dates or day dates that start on Sundays in oracle 10?',\n",
              "  'What are the options Some and None SML?',\n",
              "  'Reversing a .mp3 programmatically',\n",
              "  'Convert Associative Array in PHP and insert it to database',\n",
              "  'Why is the \"map\" version of ThreeSum so slow?',\n",
              "  'ant keeps recompiling',\n",
              "  'HttpContext.Current.User.Identity.Name returns blank',\n",
              "  'UIWebView Javascript Window to Window Communication',\n",
              "  'Fluent NHibernate Exception: An association from the table X refers to an unmapped class: System.String',\n",
              "  'Are .NET memcache libraries production ready?',\n",
              "  \"DB2 Can't connect to db with new user\",\n",
              "  'Django flatpages backup?',\n",
              "  'Trouble with Creating One-Time Calendar Event from Google Sheet row',\n",
              "  'The colored image turned to have no color and just a grey vector in drawable?',\n",
              "  'how to show pattern in asp-Repeater item template?',\n",
              "  'Fastest scripting language for Java?',\n",
              "  'Tried to reverse engineer my app, but got some weird-looking file tree',\n",
              "  'Startup for bundles placed in the deploy folder of Karaf',\n",
              "  'd3js force layout with hide/unhide on node click misplaces nodes after expanding',\n",
              "  'Unique column definition in SQL',\n",
              "  'Hash of a cell text in Google Spreadsheet',\n",
              "  'How to pin/unpin Microsoft Edge developer tools in Windows 10',\n",
              "  'Which editor can align tables in reStructuredText for Sphinx?',\n",
              "  'How to walk through a directory in c and print all files name and permissions',\n",
              "  'iOS KVC DRY mutation',\n",
              "  \"IBM MobileFirst Platform iFix doesn't update the version displayed in Operations Console\",\n",
              "  'relative layout aligning images about right bottom corner',\n",
              "  'How to retrieve a PDF(document) from the Tridion File System and create a multimedia component out of it',\n",
              "  'HTML sends x y POST data with no inputs - how is this possible?',\n",
              "  'How can I view Azure logfiles when running locally?',\n",
              "  'is there a web service client code generator on iOS?',\n",
              "  'Get smallest type to include data range',\n",
              "  'Get dates as check if it is ending',\n",
              "  'Cordova brightness still returns -1',\n",
              "  'How to detect 3 keyboard buttons in Swing?',\n",
              "  'Python calculations in two groups',\n",
              "  'create array from mysql query php',\n",
              "  'TDD vs Defensive Programming',\n",
              "  'Display logo or image in the Ribbon using VSTO',\n",
              "  'How can I get a meaning of a jsp variable in java code on the same page?',\n",
              "  'Conversion of cloud data into 2d image using OpenCV',\n",
              "  '[python-suds]Bug? One additional element is created when using Factory',\n",
              "  'Using clang to analyze C++ code',\n",
              "  'Login with email and password control not working',\n",
              "  'ansible: use different logging level for terminal and log file',\n",
              "  'Draggable window with pyqt4',\n",
              "  'dynamically adding edittext depending on the elements of json array',\n",
              "  'How to convert ftp.getModificationTime(file) to readable format',\n",
              "  'PHP Login Form using DashDB',\n",
              "  'Building a properties file to the top level of a WAR file, Spring-MVC/Maven',\n",
              "  'Enabling breakpoints in goclipse',\n",
              "  'error while including external JARs in ant script',\n",
              "  'Comparison of web widgets in flash and javascript',\n",
              "  'Why must I free this data? Am I the owner?',\n",
              "  'Optimizing a very huge mysql table (query or mysql)',\n",
              "  'tlbexp.exe outputs different tlb information on 2012 versus 2010',\n",
              "  'How to create a Facebook Like with a post/comment box',\n",
              "  'Codeigniter PDO integration',\n",
              "  'pass string array as parameter to asp.net mvc webapi method',\n",
              "  'Removing space in dataframe python',\n",
              "  'How to set application identity of an application pool using web administration module in powershell?',\n",
              "  'how to handle play database connection exceptions',\n",
              "  'querydsl 3.3.0 - using collection.any() with elementcollections in a query with N boolean arguments generates N \"exists\" sub-queries',\n",
              "  'Gson: Change the way Map-Keys are being serialized',\n",
              "  'Improving gnuplot 3d plots from data files with pm3d',\n",
              "  'Divide problem',\n",
              "  'Yii2: Using Kartik Depdrop Widget?',\n",
              "  'Can anyone post an example of how to enable SSL in Tsung?',\n",
              "  'MPI_Isend and MPI_Irecv seem to be causing a deadlock',\n",
              "  'Virtual Box port forwarding misery with Ruby Sinatra:4567 / Shotgun:9292',\n",
              "  'Enhancing regex to match more URLs',\n",
              "  'JavaScript classlist selector error',\n",
              "  'My IntelliJ IDEA 11.1.5 lost the ability to debug node.js applications after upgrading to windows 8.1',\n",
              "  'Scientific notation android java',\n",
              "  'How to make a JSON array case insensitive for Twitter Typeahead?',\n",
              "  'Membase can someone explain the idea behind their technology',\n",
              "  'Struts 2 + Dojo + Datetimepicker',\n",
              "  'Cannot retrieve data from find query',\n",
              "  'How long are resources used (file descriptor and memory) for Java temporary files (jar_cache####.tmp)?',\n",
              "  'how to pass a variable in WHERE IN clause of oracle sql?',\n",
              "  'How can I transform the coordinates of a Shapefile?',\n",
              "  'Mapping result of aggregate query to hibernate object',\n",
              "  'Drawing Application how to save drawing in android phone memory',\n",
              "  'Error while using npm install -g generator-jhipster',\n",
              "  'Get abs path from the currently edited file in Eclipse',\n",
              "  'Post form data to foreign aspx form',\n",
              "  'Logging in Azure web jobs',\n",
              "  'MTM with (automated) CodedUITest test-cases developed in VS2013 issues',\n",
              "  'How to print contents of an HTML element in MacGap?',\n",
              "  'ASP.NET Control not available in CodeBehind',\n",
              "  'How can I disable the IIViewDeck functionality momentarily?',\n",
              "  'Why would I create a struct with only a `PhantomData<()>` member?',\n",
              "  'Accessing masterpage properties from child pages in ASP.net VB',\n",
              "  'Bash read inside a loop reading a file',\n",
              "  'Random number between 1 and 20 excluding numbers already picked',\n",
              "  'Wordpress Navigation Label in Browser tab',\n",
              "  'Taking control of the soundCard with JAVA',\n",
              "  'STL containers and large amounts of data',\n",
              "  'Colour in Backorder Products dropdown based on stock in WooCommerce',\n",
              "  'Richfaces - <rich:autocomplete> not showing suggestions',\n",
              "  'How to select and enlarge a Masterpane in Zedgraph',\n",
              "  'react-native android publishing keystore',\n",
              "  'What is a good way to find a specific value in an XML document using C#?',\n",
              "  'Can i make my own Singleton Stateless Bean with EJB 3.0?',\n",
              "  'How does Google App Engine precompile Java?',\n",
              "  'Using dispose() method instead of close() method to a form',\n",
              "  'Spring Oauth2 \"Full authentication is required to access this resource\" with valid access token',\n",
              "  'Why is my code only displaying incorrect even if I have the right answer?',\n",
              "  'Forcing function in ODE',\n",
              "  'Get sum of column on last row, good practice?',\n",
              "  'Simple Karma + Typescript configuration - Reference Error: x is not defined',\n",
              "  'Error building Player because scripts have compile errors in the editor',\n",
              "  'Property Testers do not load despite forcePluginActivation. For popup menu enablement',\n",
              "  'Javascript regex to match last word regardless of specials characters',\n",
              "  'Develop multilangual system',\n",
              "  \"angular-mock testing in Karma+Mocha can't find module\",\n",
              "  'How to append an element inside object using a common way',\n",
              "  'Generate random \"dark\" colours only in Java',\n",
              "  'Access element in list using indexes stored in another list',\n",
              "  'How to correctly use setq in elisp?',\n",
              "  \"iOS - Today Extension 'show more' & 'show less' state incorrect. Collapsed says 'show less' - requiring multipule presses to fix\",\n",
              "  'how to get the position of the cursor in an editable div',\n",
              "  'flickering of image in SWT',\n",
              "  'Completely random identifier of a given length',\n",
              "  'Angular 2 Render Flat List from Hierarchal Data',\n",
              "  'Java RMI threads on client-side are executing sequentially or concurrently when calling the same remote object?',\n",
              "  'Variable-size buffer for receiving UDP packets',\n",
              "  'CreateSqlQuery on entity with formula property',\n",
              "  'Datepicker TIMESTAMP divide by 100',\n",
              "  'how to print out the whole table using anonymous block in pl sql?',\n",
              "  'In Sentora i will need to integrate a clamav Module',\n",
              "  'how do i set a value of a multiple <select> tag from the database',\n",
              "  'show decimal value in C#',\n",
              "  'Javascript: how to affect other element when hovering?',\n",
              "  'Creating new popup window when click button',\n",
              "  'How to Depict Either/Or Inheritance in a UML diagram?',\n",
              "  'Ajax post success data: Can you separate results?',\n",
              "  'Document.getElementById() not available for ChromiumWebBrowser in visual studio',\n",
              "  'target of assignment expands to non-language object',\n",
              "  'How do I configure distributed transactions for NServiceBus',\n",
              "  'How to combine an array of png images like layers using C#?',\n",
              "  \"yii2 gii CRUD Generator error - Class 'Message' does not exist or has syntax error\",\n",
              "  'Get values of checkbox to other page',\n",
              "  'Session on subdomains still not working',\n",
              "  'How can I turn off host name resolutios?',\n",
              "  'syntax error, unexpected end-of-input',\n",
              "  'Erlang: \"extending\" an existing module with new functions',\n",
              "  'tcl string replacement',\n",
              "  'how to access directory in plesk (control panel )',\n",
              "  'Minimizing the sum of a special function over a list',\n",
              "  'VB.Net & Access - Set two foreign keys, that refer to the same table/field',\n",
              "  'Memory Monitoring Tool for Erlang Threads',\n",
              "  'Disable Spring Boot Security @Secured at runtime',\n",
              "  'Join two tables on the same date or closest date (before or after)',\n",
              "  'Power Point viewer asp.net mvc',\n",
              "  'Swift: Get an element from a tuple',\n",
              "  'images rotation to the right',\n",
              "  'Can I access the visual voicemail files on the iphone thru the SDK?',\n",
              "  'Proximity alert for locations saved at server',\n",
              "  'Tableviewcell button',\n",
              "  'Angularjs select does not mark matching model as selected',\n",
              "  'How can i use id to do action on an object of an android using Robotium tool?',\n",
              "  'How can i pass a value to constructors of collection of instances at runtime with simple injector?',\n",
              "  'Large binary shifts in 8086 assembly?',\n",
              "  'Directshow, format type change filter',\n",
              "  'How to open model window on option selection?',\n",
              "  'Update value in sqlite iphone sdk',\n",
              "  'Installing ADT plugin in Eclipse for Android development',\n",
              "  'Automating a ContextMenu with Watin',\n",
              "  'how to evaluate the performance of any cryptographic algorithm (say elliptic curve)?',\n",
              "  'Nth-child Selector with Prototype',\n",
              "  'Difference in performance of compiled accelerate code ran from ghci and shell',\n",
              "  'Database design for email messaging system',\n",
              "  'Java SE Development Kit 8u20 Install Options',\n",
              "  'Reading a file in chunks',\n",
              "  'Twitter style Web Application based on LAMP, Symfony2, Backbone : possible?',\n",
              "  'Regexp for C preprocessor command',\n",
              "  'Cmposition, I dont quite get this?',\n",
              "  'CakePHP form submits the \"array\"',\n",
              "  'Store feed forward network in mongodb',\n",
              "  'bash read strings and output as one key and multiple values',\n",
              "  'http client in python fails to recive',\n",
              "  'Dynamic languages - which one should I choose?',\n",
              "  'How to start an IntentService from a WakefulBroadcastReceiver',\n",
              "  'C++: Converting wstring to unsigned char',\n",
              "  'How to make echo interpret backslash escapes and not print a trailing newline?',\n",
              "  'AngularJS.. http.get working, when splitting into its own service module its no longer working',\n",
              "  'How do I determine the number of elements in an array reference?',\n",
              "  '\"TypeError: \\'NoneType\\' object is not iterable\" on what should be a list',\n",
              "  'Replace random image on website',\n",
              "  'Rotation matrix between two camera system',\n",
              "  'Animated border which wraps around',\n",
              "  'cron job not picking up oracle query result',\n",
              "  'Formview and MS-Ajax UpdatePanel',\n",
              "  'How to update data with TreeStore or TreeEditor component?',\n",
              "  'Get kwargs passed to url_for in Flask view',\n",
              "  'how to reload the template when working with enlive without restar',\n",
              "  'Thread-safe get (accessor method)',\n",
              "  'How can I tell if \"inline\" worked?',\n",
              "  'calling some logic before user is logged out using spring security?',\n",
              "  'Java pattern to find two groups of two letters in `ABC`',\n",
              "  'MYSQL distincs entry of two columns even when switched',\n",
              "  'How Antlr creates tokens',\n",
              "  'Play Framework 2.4 - Java - Http header and cached response',\n",
              "  'List of Strings in a Grails domain class',\n",
              "  'Insert into MongoDB via Node.js',\n",
              "  'How to stop or pause Pandora and Spotify',\n",
              "  'Oracle Function: Replicate wm_concat',\n",
              "  'Return user to previous page after login (Rails)',\n",
              "  'Custom Layout Manager using predefined and developer-defined child view(s)',\n",
              "  'In Ruby, how do I specify a file in another directory as an input?',\n",
              "  'Unable to read View Bag value from controller to view',\n",
              "  'Parameters on time stamps in oracle sql developer',\n",
              "  'measuring the time to load a page - Python',\n",
              "  'Set height of child to height of parent',\n",
              "  'How can I find the element that caused another element to fire the focusout event?',\n",
              "  'How to get the latest created table in MySQL?',\n",
              "  'Better way to reference $scope in AngularJS',\n",
              "  'Sharing data between Elastic Beanstalk web and worker tiers',\n",
              "  'iOS certificate pinning with Swift and NSURLSession',\n",
              "  'Sharing UDP Data across apps (background/foreground or Split screen multitasking) in iOS',\n",
              "  'iPhone: Facebook logout feature does not working',\n",
              "  'AutoHotKey. Hotstrings and Auto-replace not working in Visual Studio 2008',\n",
              "  'Issue setting up Android SDK - Failed to Start Emulator',\n",
              "  'Why is the dismissable alert not being dismissed?',\n",
              "  'Error while executing change data capture sql query',\n",
              "  'multiple queries - Route.get() requires callback functions but got a [object Undefined]',\n",
              "  'How to attach custom element to shadow DOM in html web components in a secure way?',\n",
              "  \"flash javascript don't work (Second try)\",\n",
              "  'How do EGit versions map to Git versions',\n",
              "  'How the ftp uploads works in PHP?',\n",
              "  'Sql XML to Delphi',\n",
              "  'Lookup table with the query with arbitrary length without using a for loop in R',\n",
              "  'C# XML deserialization XmlAttribute',\n",
              "  'CSS, JQuery: Animated transform from 3 lines menu to cross',\n",
              "  'Can m2e install an external jar file? Or do I need to install the maven command line tool?',\n",
              "  'Does gSOAP RESTful implementation require the definition of a WSDL',\n",
              "  'Automatically create an appointment in Outlook using message content',\n",
              "  'JSoup error: java.lang.IllegalArgumentException',\n",
              "  'Add Button to CMS_Page_Edit via Observer',\n",
              "  'How to do an XOR of the binary forms of all integer items in a list',\n",
              "  'How to add regularization in Scipy Linear Programming (Non-negative Least-Squares)',\n",
              "  'Highlight backgroung colors of some words in HTML Document in java',\n",
              "  'Is there a way to retrieve process stats using Perl or Python?',\n",
              "  'Excel NamedRange.Find Method with Regex pattern match in C#',\n",
              "  'cmake error when configuring',\n",
              "  'How to set first column to a constant value of an empty np.zeros numPy matrix?',\n",
              "  'Eclipse Plugin - get Launch Configurations Tree List in a Dialog.',\n",
              "  'What are the RESTful best practices on defining a query parameter with an or condition?',\n",
              "  'Extracting text from the input field - using Webdriver',\n",
              "  'One <hr> tag is working but not the other in Firefox. Why is that?',\n",
              "  'ajax request xml from php',\n",
              "  'Embedded Java server using Grizzly: How do you enable http2',\n",
              "  'Finding Minimum Completion Time of Scheduled Tasks with Topological Sort',\n",
              "  'How to set jQuery draggable min/max-left and min/max-right',\n",
              "  'semantic-ui modal size keeps extending to the height of a page',\n",
              "  'Is there any direct git command to push changes to another branch',\n",
              "  'How and is it worth to integrate Java Webapp + drools + Guvnor?',\n",
              "  'How to debug Error Messsage in Odoo',\n",
              "  'calculate differences between two numbers',\n",
              "  'Data constructor in template haskell',\n",
              "  'Tying composer.json to a specific Laravel 5 SHA',\n",
              "  'Django 1.7.1 requires a Default value for field - but no entry is in database. Why?',\n",
              "  'addEntriesFromDictionary: a true copy method?',\n",
              "  'Spring Boot OAuth2 with encrypted JWT access token',\n",
              "  'Wrap text if it is longer than max_characters',\n",
              "  'iptables: Duplicating/Forwarding ports',\n",
              "  'Multiple custom fields stored as meta_keys, how to connect with the post?',\n",
              "  'Android GridView crashes or is very slow on some devices (Samsung Galaxy S4, S3)',\n",
              "  'HTML/CSS: Input element weird indent ie7',\n",
              "  'What exactly does Double mean in java?',\n",
              "  'Most effective ways to extract Android Cursor (sqlite) into an array to be used in AlertDialog.Builder?',\n",
              "  'jenkins can not find android SDK',\n",
              "  'Can I open a new window and change the DOM of the calling window in JavaScript?',\n",
              "  'dynamically Change Itemized overlay draw circle using seek bar progress',\n",
              "  'How do I fix django.db.utils.IntegrityError: duplicate key value violates unique constraint?',\n",
              "  'Inno Setup not creating registry entry in Software/Microsoft/Windows/CurrentVersion/Uninstall',\n",
              "  'build from hadoop source code in centos',\n",
              "  'C# LinqToSql SubmitChanges() does not update, even though PK is set',\n",
              "  'How to read utf16 text file to string in golang?',\n",
              "  'Objective C ePub framework',\n",
              "  'Reducer output to different files based on keys',\n",
              "  \"Is it possible for a Chrome Extension to get a user's full browsing history?\",\n",
              "  'Variable Number of Nested For Loops',\n",
              "  'Ordered http request parameters',\n",
              "  'Testing the Oracle to_date function',\n",
              "  'Getting the error of POST method from another PHP file',\n",
              "  'Multiple selection of worksheets into one workbook copy paste of content into one main sheet',\n",
              "  'Why do I keep getting \"developer inactive\" errors when calling the Beats Music API?',\n",
              "  \"My select command doesn't work\",\n",
              "  'node js read files line by line',\n",
              "  'PHPStorm/Webstorm increase memory to more than 512MB',\n",
              "  'Want to open google.com at specific location and make it specific window size',\n",
              "  'Database not updating new row',\n",
              "  'Spring suite tools start error - spring boot',\n",
              "  'Slider in codenameone',\n",
              "  'Issue with $(this) and toggle() multiple classes',\n",
              "  'How to load file from dir using Racket?',\n",
              "  'Removing quotation mark using javascript does not remove single quotation marks',\n",
              "  'Firebase Android ChildEventListener Triggered onChildRemoved() before onChildAdded() When new data added',\n",
              "  'Python. Error using animation.FuncAnimation',\n",
              "  'How to make inline comments in Org-mode?',\n",
              "  'Find years with distinct digits - CCC 2013',\n",
              "  'Identify customer visits occurring after a given time period in mysql',\n",
              "  'Finding the distinct count from a cassandra column using Tableau',\n",
              "  'Prism : Change the active view',\n",
              "  'Get Color from int',\n",
              "  'Dynamic subversion repos via subdomains (in Apache)',\n",
              "  'How to multithread my for loop in Python',\n",
              "  'How to get recycler view list item count using Espresso',\n",
              "  'How to PIVOT and calculating column average',\n",
              "  'Fastest way to separate the digits of an int into an array in .NET?',\n",
              "  'Escaping special characters in SphinxSE',\n",
              "  'Importing sqlite file into r',\n",
              "  'Sort order of related products not working in Magento 1.6',\n",
              "  \"Display 404 not found template for 'slugs' when publication returns empty cursor - Meteor - iron-router\",\n",
              "  'Is there a way to tell if an object has implemented ToString explicitly in c#',\n",
              "  'VFS: file-max limit 1231582 reached',\n",
              "  'Play 2.2 EssentialAction With Futures',\n",
              "  'AppBarLayout / CollapsingToolbarLayout expands indefinitely',\n",
              "  'how to deselect all Radio Button in Radio ButtonGroup on button click in flash as3?',\n",
              "  'numpy array creating with a sequence',\n",
              "  'Sed: Matching words with any permutation of two characters',\n",
              "  'Make Child element appear outside of parent',\n",
              "  \"MobilePin createuserwizard doesn't work?\",\n",
              "  'Fit Image in canvas using WPF',\n",
              "  'Adding a fontawesome icon with border into form input',\n",
              "  'finding pixel location of Listview item seems to return wrong value',\n",
              "  'sails 0.9.8 not work, when created controller and lift it',\n",
              "  'Larave File not found at path but it does exist',\n",
              "  'RequiredFieldValidator causes validation on Server even if validator is disabled(CausesValidation=\"false\")',\n",
              "  'Retrieving HTML content from a page requiring authentication using PHP',\n",
              "  'How to generate linked-axis in matplotlib',\n",
              "  'Print % sign with string formatting',\n",
              "  'How to calculate the dimensions of the monitor in PyQt4/Windows/Linux?',\n",
              "  'VBA Outlook 2010 retrieving information from Active Directory',\n",
              "  'Modifying bootstrap thumbnails',\n",
              "  \"ASP.Net: What's keeping old AppDomains alive?\",\n",
              "  'A library uses the same package as this project after importing Facebook SDK',\n",
              "  'Unable to run compiled .classes from the command line',\n",
              "  'Is it possible to partially decode and update JSON? (go)',\n",
              "  'How to use Apache-Commons DBCP with EclipseLink JPA and Tomcat 7.x',\n",
              "  'How to do batch geocoding using google-maps-services-java',\n",
              "  'Inserting an img into a text field (html, css)',\n",
              "  'NoClassDefFoundError during Tomcat graceful shutdown',\n",
              "  'Indesign (IDML file) Automation using HTML5 and Javascript',\n",
              "  'Writing to the ObjectOutputStream and getting rubbish back',\n",
              "  'How do I stop md-cards from stretching images to full vertical height?',\n",
              "  'SQL, missing end, but why?',\n",
              "  'SED - Search two pattern in a line and insert few word at the end of the line if pattern match is found',\n",
              "  'How to configure & run multiple websites with respective databases with single Laravel code instance',\n",
              "  'three.js CanvasRenderer - setting initial color for object together with transparency textures',\n",
              "  'IHTMLDocument2 - click button inside iframe',\n",
              "  \"Resource 1 works, 2 doesn't\",\n",
              "  'how to show an image in an image field by a button click event in c# asp.net',\n",
              "  'How to use this for killing array of threads?',\n",
              "  'MVC scaffolding does not support Entity Framework 6 or later',\n",
              "  'Parse error using Remotipart',\n",
              "  'JAVA JAX-WS Deployment (JAVA Eclipse EE IDE)',\n",
              "  'kaminari and order_by',\n",
              "  'multisampling and fragment shader',\n",
              "  'C program- change char order in sentence',\n",
              "  'How to reload an IFrame every x seconds?',\n",
              "  'EF6 table per hierarchy, with unique index on derived property',\n",
              "  'Shell Script to add extension on file and directory',\n",
              "  'Absolute beginners guide to working with audio in C/C++?',\n",
              "  'Extract part of string',\n",
              "  'stopping toast android in other actvity',\n",
              "  'Client-side SSL not working with AWS API Gateway',\n",
              "  'Top Left Menu Bar Is Frozen when Main Window Shows Up',\n",
              "  'Category Axis Label Alignment for Multi Series bar chart in JAsper',\n",
              "  'Invalid Label - jQuery Ajax/Json request',\n",
              "  'Optimizing Haskell Recursive Lists',\n",
              "  'Symfony3: Service not able to get arguments',\n",
              "  'Reverse Geocoding not displaying info window on markers when clicked',\n",
              "  'How to restrict background click in Ionic confirmation popup',\n",
              "  'how to use CSPARQL-ReadyToGoPack-0.9 in a SBT project',\n",
              "  'How to sort UTF-8 lines in Vim?',\n",
              "  'How to handle NotFoundException elegantly in Neo4j 2.0?',\n",
              "  'Download multiple files simultaneously with PHP - Forking, Sockets',\n",
              "  'Submit form on one server, process it and then post results to another domain',\n",
              "  'Flyway Mysql multiline comment directive not parsed',\n",
              "  'Non-Blocking File Reads',\n",
              "  'ORACLE sql dynamic variables in stored procedure',\n",
              "  'nested ngFor with two data classes in angular2',\n",
              "  'Crossplatform webview in Qt5.6',\n",
              "  'Set the default encoding to UTF-8 for all JSPs without using @page directives',\n",
              "  'XSLT creating a table with varying amount of columns',\n",
              "  'how to send email with powershell',\n",
              "  'Asynchronous method using .Result',\n",
              "  'Is JENKINS Extensible Choice Parameter compatible with linux?',\n",
              "  'Starting Speech Recognition with CreateProcess() in C++',\n",
              "  'How do I animate adding subviews?',\n",
              "  'How can I change the default font for a Jekyll website',\n",
              "  'Impossible to compile Fortran code with include statement',\n",
              "  'Lazy loading images in Vue/Laravel',\n",
              "  'Web API read header value in controller constructor',\n",
              "  'Android wear WearableListView ImageView selector',\n",
              "  'Function pack() returns 0',\n",
              "  'Is it possible to have Firebase authentication via Facebook in a Phonegap App?',\n",
              "  'PHP Export MySQL to CSV - Results showing HTML',\n",
              "  'How to detect language preference in Laravel 5',\n",
              "  'VB WebBrowser click button',\n",
              "  'Reports using java collections',\n",
              "  'How to write all files Contain in the subfolders and in the folders in to a .txt file',\n",
              "  'Checking negative values from Google Forms',\n",
              "  'Libgdx reading json array values',\n",
              "  'Custom Buddypress Notification on Post Save',\n",
              "  'UITableView with UITextField - keep the data even after user scrolls',\n",
              "  'Visual Studio 2015 Update 1 automatically checks in files',\n",
              "  'Mobilefirst Failed synchronizing application from the administration service',\n",
              "  'Cannot execute for loop in vue.js',\n",
              "  'how to prevent duplicate item',\n",
              "  'Java Apache CLI OptionBuilder not working as Builder pattern',\n",
              "  \"What's a proper way to turn off genymotion emulator?\",\n",
              "  'Jade select field populating data',\n",
              "  \"Why is ' 2' > '10'?\",\n",
              "  'Mysql dump comments directives and simple comments',\n",
              "  'Cropping library not working on Nexus S',\n",
              "  'Create a segue and attach it between two view controllers through Swift?',\n",
              "  'Function to search recursively for patterns in vim',\n",
              "  'Integrating wordpress and laravel user management',\n",
              "  'Behaviour after takePicture() different on different devices/Android versions',\n",
              "  'Exporting Plone content: how to get the tarball created by quintagroup.transmogrifier.writer',\n",
              "  'Cassandra to Hive using Spark',\n",
              "  'Ruby on Rails :before_filter => :only_when_user_is_logged_in',\n",
              "  'How can I integrate Jacoco reports with SonarQube without using maven?',\n",
              "  'Can I use NSPredicate as key in a NSDictionary',\n",
              "  'Proxy Authentication Failed error',\n",
              "  'Could someone explain how to use the UpdateManager in TideSDK 1.3.1 Beta?',\n",
              "  'Properties - how to avoid code repetition',\n",
              "  'Pause/resume video recording using AVCaptureMovieFileOutput',\n",
              "  'Swift enum recursive associated value',\n",
              "  'How to grep particular string occurring multiple times',\n",
              "  'Hover map area sprite with jquery',\n",
              "  'Spark `LiveListenerBus` Exception is freaking me out',\n",
              "  'how to use pyplot.arrow or patches.Arrow in matplotlib?',\n",
              "  'Apache on Windows and Fiddler',\n",
              "  'how to pass the variable from api gateway to the url of another service running on EC2',\n",
              "  'Open link when doubleclicking on table row with jQuery',\n",
              "  'Wget span host only for images/stylesheets/javascript but not links',\n",
              "  'I am trying to show data using api . but data is not showing in custom listView . list is empty',\n",
              "  \"Graphing sbt's incremental compilation logic\",\n",
              "  'how to get functionality of Long Press gesture in ios ver below 3.2',\n",
              "  'Change priority headings for a task with the api',\n",
              "  'Get values on a row based on two or more rows in Excel',\n",
              "  'Is using Silverlight a hindrance for Startups?',\n",
              "  'spotify session callback get_audio_buffer_stats',\n",
              "  'talend - specify jndi as datasource',\n",
              "  'Long data load time in Matlab',\n",
              "  'how can i change column width in base to content with vb.net and bootstrap?',\n",
              "  'Alternative to Microsoft.Practices.EnterpriseLibrary.Data',\n",
              "  'How to facet.pivot with spring-data-solr',\n",
              "  'Check empty output from fish function',\n",
              "  'pysolr update document with error',\n",
              "  'How to retrieve same column twice with different values of other column in same table',\n",
              "  'Updated: NodeJS - connect-keycloak middleware empty response error',\n",
              "  'Accordion open when page loads',\n",
              "  \"Activity doesn't refresh after associated Broadcast Receiver's onReceive gets called.\",\n",
              "  'How do you detect DOCTYPE (Transitional or Strict) server-side in ASP.NET?',\n",
              "  'Firefox 9.0.1 Broke Internal Wiki Layout',\n",
              "  'onchange function in dropDownList yii2',\n",
              "  'play mp3 without default player',\n",
              "  'Convert SVG Data to SVG File that can be uploaded',\n",
              "  'Folder Picker for MS Word',\n",
              "  \"Can't hide or close form after switching to another form\",\n",
              "  'How to ShellCode in linux with x64 processor.',\n",
              "  'How to set a specific timezone for windows CE By C#',\n",
              "  'Vagrant enters aborted state during apt-get update',\n",
              "  \"attempting to make enter button 'clickable'\",\n",
              "  'ImageMagick Convert not generating correct color',\n",
              "  'Mybatis select with nested objects',\n",
              "  \"My css height auto doesn't work\",\n",
              "  'D3 AngularJs Force Directed Graph',\n",
              "  'I want to add 30 days to mysql date row',\n",
              "  'How I can use FlexyPool with HikariCPFactory?',\n",
              "  'Wix installer: Verify that you have sufficient privileges to start system services',\n",
              "  'r, ts - error in stl, series has less than two periods (erroneous?)',\n",
              "  'typo3 - Adding content to the footer',\n",
              "  'Knockout re render template with new data model on change event of dropdown menu',\n",
              "  '@ManyToMany relation not save',\n",
              "  'Downsampling of fMRI image with FSL',\n",
              "  'How to use Android AutoCompleteTextView on Xamarin.Forms',\n",
              "  'Why fstream::tellg() return value is enlarged by the number of newlines in the input text file, when file is formated for Windows (\\\\r\\\\n)?',\n",
              "  'Determine If Two Points Are Near',\n",
              "  'clicking logo on home page breaks navigation menu on mobile site',\n",
              "  'Use Iframe to embed csv and allow user to search from it',\n",
              "  'Install Chrome extension through windows registry',\n",
              "  'Display message on success does not work',\n",
              "  'jQuery masked input - format date as m/d/yyyy or m/dd/yyyy or mm/dd/yyyy or mm/d/yyyy',\n",
              "  'How to change spring session (redis) cookie name?',\n",
              "  'Any tool to suggest unit reference automatically for Delphi 2010?',\n",
              "  'Why does my method return a null password?',\n",
              "  'SQL Script - manipulate value based on previous non zero value',\n",
              "  'rotate image shows \"Out of memory\" exception',\n",
              "  'count button clicks',\n",
              "  'Joomla Custom Compoment Dev Env : Hot Deployment',\n",
              "  'Nexus 5 not showing on connected devices',\n",
              "  'How work the method TrueForAll? C# LINQ',\n",
              "  'PHP - Simplest Way to Post & Display',\n",
              "  'Update Temp Table with Group By',\n",
              "  'How to use Parse Push with Cordova, Appcelerator, etc',\n",
              "  'AS3 bitmapdata send to server picture is small in upperleft corner',\n",
              "  'How to set the Z order index for adorner in WPF',\n",
              "  'php microseconds',\n",
              "  'Creating a global database connection on an mdi form',\n",
              "  'Uncaught ReferenceError: React is not defined',\n",
              "  'VBA search column for strings and copy row to new worksheet',\n",
              "  'How can I record a test using Espresso without doing a clean install?',\n",
              "  'How can I char array in reverse order?',\n",
              "  'What kind of SCTP support is there on various Windows versions?',\n",
              "  'Saving changes to an EC2 instance without having to register an AMI each time?',\n",
              "  'Auto run Jetty on boot',\n",
              "  'How To Cache jQuery Template In Backbone View via Ajax?',\n",
              "  'Does this C++ static analysis rule make sense as is?',\n",
              "  'Same Ripple drawable(effect) appearing differently on ListView and RecyclerView',\n",
              "  'R ggplot2 assigning colours to a factor',\n",
              "  'Verifying a method was called without using IoC',\n",
              "  \"What is 'seg cs' in bootsect.s\",\n",
              "  'setTimeout keeps firing',\n",
              "  'Formatting the way a string is entered into my database',\n",
              "  'Creating Jenkins Job using python API',\n",
              "  'python create single thread to do one task then quit',\n",
              "  'z order in issue in ConstraintLayout Android',\n",
              "  'Can I derive from a class that can only be created by a \"factory\"?',\n",
              "  'PHP OOP :: passing session key between classes',\n",
              "  'ASP.NET MVC 3, SQL Server',\n",
              "  'Recreating or deleting google services json',\n",
              "  'Probe problem when writing a I2C device driver',\n",
              "  'Jersey produce duplicate log messages',\n",
              "  'Exit / stop Array2D.initBased early',\n",
              "  'how to set array of date to fireDate in local notification at a time',\n",
              "  'alternative to async: false ajax',\n",
              "  'Oracle: how to get percent of total by a query?',\n",
              "  'How to match the recursive pattern `a(?R)b` including another string e.g. \"test{aaabbb}\"? (Regex)',\n",
              "  'How to disable GestureListener?',\n",
              "  'How to specify Code Style settings in a Qt Creator `.pro.shared` file?',\n",
              "  'cal extension template modification with .tmpl',\n",
              "  'Getting started with Groovy/Grails?',\n",
              "  \"Opening a Ruby program's source file in the default editor\",\n",
              "  'How can I pass an array of Guid via Web API?',\n",
              "  'Backbone-Relational find or load?',\n",
              "  \"what's the best way to format an xml string in ruby?\",\n",
              "  'Partial classes in Google Closure?',\n",
              "  'Add a repository in AccountController',\n",
              "  'Wikipedia API Autocomplete with Json',\n",
              "  'Apache Pig: unable to run my own pig.jar and pig-withouthadoop.jar',\n",
              "  'Optimizing list comprehension to find pairs of co-prime numbers',\n",
              "  'kivy access child id',\n",
              "  'Stucture values not staying, values changed to -858993460',\n",
              "  'Set toolbar title',\n",
              "  'How to add a row to a table using swt',\n",
              "  'jQuery ui selectmenu vertical position offset (relatively to buttons in this line)',\n",
              "  'SSIS : Warning: Failed to decrypt an encrypted XML node',\n",
              "  'gps not getting user location',\n",
              "  'Exporting a simple model with texture from Blender to three.js',\n",
              "  'Postman - Required MultipartFile parameter is not present - Spring, Java',\n",
              "  'Prevent akka actor from restarting child actor',\n",
              "  'UITableView not loaded',\n",
              "  'NTFS permission with modify date',\n",
              "  'QTreeView - how to tell if a drag/drop event is a reorder or a move between parents?',\n",
              "  'Prevent XUL notificationBox from closing when button is hit',\n",
              "  'Code not working. Notification that should go off once a day',\n",
              "  'Android Action Bar Button does not show up',\n",
              "  '$.widget is not a function',\n",
              "  'jquery hide not taking parameter',\n",
              "  \"How can i use a one form/table for multiple MVC's?\",\n",
              "  'MSTest: execution order of tests within the same TestClass',\n",
              "  'How to call jQuery function in HTML returned by AJAX',\n",
              "  'OAuth2 security considerations for client_id',\n",
              "  'Google Compute Instance 100% CPU Utilisation',\n",
              "  'Incompatible block pointer type when returning array?',\n",
              "  'Calling a REST api with an encrypted PEM client certificate',\n",
              "  'Select all objects in a list',\n",
              "  'Drag and insert div into another div',\n",
              "  'How to prevent firefox from scrolling to the bottom of the page when a large popup is opened',\n",
              "  'How to handle ((List<string>)Session.Add(\"\")',\n",
              "  'mysql inserting into 2 tables at once that have primary key and foreign key',\n",
              "  \"What's the right way to remove multiple items from a QTableWidget?\",\n",
              "  \"When MSTest fails in TestInitialize, why doesn't TestCleanup get executed?\",\n",
              "  'PHP CodeIgniter application not opening any page except default controller',\n",
              "  'Parsing JSON data without quotes with jQuery',\n",
              "  'Rewrite url in .htaccess',\n",
              "  'I/O error(socket error): [Errno 111] Connection refused',\n",
              "  'Git Error; RPC failed; result=22, HTTP code = 401',\n",
              "  'TFS 2010 - Set the State field to a certain value',\n",
              "  'ActionScript 3.0 How to create ProgressEvent instances in for loop with multiple files loaded from XML',\n",
              "  'how can i extract my query to find average',\n",
              "  'C# Windows Service - Default Arguments on Install',\n",
              "  'Upload large files with node js',\n",
              "  'Changing table headers in cakephp',\n",
              "  'hello world with JMS on Glassfish',\n",
              "  'Countdown timer using DateTime.Parse without defined date',\n",
              "  \"Images in the 'drawable' folder are resized automatically?\",\n",
              "  'Find files with the same size and dellete all duplicates except the one has the shortest name using shell script',\n",
              "  'Writing Rules both in Firebase and in your Code',\n",
              "  'Search for words with specific starts and endings',\n",
              "  'Install Neo4j 3.0+ as a windows service',\n",
              "  'PHP convert 2 digit year to a 4 digit year',\n",
              "  'JSDoc auto-complete documentation in Eclipse is not working for Class.create()',\n",
              "  'Split a infix String to an array of String in java',\n",
              "  'Folder permissions in Azure web sites',\n",
              "  'Only have separators between UITableViewCells',\n",
              "  'Uncaught Syntax error, unrecognized expression: [object Object]',\n",
              "  'Need htaccess redirection',\n",
              "  'How to create this bootstrap carousel of iframes?',\n",
              "  'Doctrine2 - Get entity ID before flush',\n",
              "  'Xquery help sorted parent child relationship',\n",
              "  'How To Load Separate Pages In Android Gridview While Clicking Blocks or Items?',\n",
              "  'kineticjs rect fillText',\n",
              "  'is a query string with a / in it valid?',\n",
              "  'How to convert the BYTEARRAYS to NSString in objective -c',\n",
              "  'why is std::chrono::duration based on seconds',\n",
              "  'WCF REST Client Exception',\n",
              "  'Using UIBinder to create a Widget to go into a Dialog',\n",
              "  'OneDrive for Business :\"invalid_request\",\"error_description\":\"AADSTS90014: The request body must contain the following parameter: \\'grant_type',\n",
              "  'Are the any options for interfacing with the command prompt process from a .NET application other than the standard IO?',\n",
              "  'Adding data in the database using microsoft access and OleDb in C#',\n",
              "  'jQuery Ajax header not being passed',\n",
              "  'AngularJS: Multiple views with routing without losing scope',\n",
              "  'BackboneJS How to merge collections',\n",
              "  'Specflow :Could not load file or assembly TechTalk.SpecFlow, Version=2.2.0.0',\n",
              "  'Max byte calculated by System.Runtime.InteropServices.Marshal.SizeOf()',\n",
              "  'How can my application retrieve custom fields from a DocuSign transaction?',\n",
              "  'add active state to button in a button group',\n",
              "  'How to define clear range for pixel color',\n",
              "  'Roslyn VisualBasic.ScriptEngine doesnt recognize hostObject written on C#',\n",
              "  \"Neither BindingResult nor plain target object for bean name 'categoryOptions' available as request attribute\",\n",
              "  'How to change Wicket behaviour on Page Expired',\n",
              "  'PHPUnit code coverage show 0% coverage',\n",
              "  'How to prove code correctness lemmas with the \"undefined\" constant',\n",
              "  'Visual Studio has insufficient privileges to debug this process. To debug this process, Visual Studio must be run as an administrator',\n",
              "  'WebApi EntitySetController using composite keys',\n",
              "  'How do I set up an OpenGL project using XCode 4.2 in C++?',\n",
              "  'Initialize static NSString at class level',\n",
              "  'Rich Text Editor inside Flux Form',\n",
              "  'Setting $PATH in xampp osx',\n",
              "  'How to extract data from html using PHP',\n",
              "  'How to get Current location using MapModule?',\n",
              "  'Excel VBA Syntax Errors & Compiling Issues',\n",
              "  'How to read Logback configuration file from path outside the war file?',\n",
              "  'jQuery ajax not getting every div elements',\n",
              "  'TCP Socket on JAVA - Any byte >= 128 is received as 65533',\n",
              "  'SqlBulkCopy keeps on throwing connection forcibly closed exception',\n",
              "  'Error sending to the following VALID addresses Jenkins',\n",
              "  'How to determine if a text has balanced delimiters?',\n",
              "  'How to flick through a deck of cards?',\n",
              "  'Selecting in SQLite Database Android',\n",
              "  \"TSQL merge Incorrect syntax near ','\",\n",
              "  'Building Pocketsphinx On Android on Windows',\n",
              "  'Add background image in a div without empty space between div and footer',\n",
              "  'Include github project into wordpress plugin',\n",
              "  'django multivaluefield & multiwidget - compress and/or decompress not working',\n",
              "  'Android : Can i call my onresume() inside onpause().?',\n",
              "  'How to fit picture to absolute positioning modal window?',\n",
              "  'Redirect URL to PHP only if file does not exist with Nginx',\n",
              "  'Laravel 4 Exception: NotFoundHttpException',\n",
              "  'How To Start Using Kostache?',\n",
              "  'Assigned access application exits when Ctrl + Alt + Delete is pressed.',\n",
              "  'Circular dependency error when running migrations in Django 1.7c2',\n",
              "  'JavaFX setOnShown fires before window is visible',\n",
              "  'Flash Develop - Publishing',\n",
              "  'I want to use the variable I declared somewhere else but I cannot (simple sql query)',\n",
              "  'buttons are not displayed',\n",
              "  'Prevent Twitter responsive layout from collapsing when width < 320px',\n",
              "  'Show azure cost analysis data using Azure billing API/SDK',\n",
              "  'find the field names from a search query',\n",
              "  'OAuth 2.0 OpenID Connect Loopback and Keycloak',\n",
              "  'Windows Phone: How to retrieve the same photo from media library between application instances',\n",
              "  'Symfony2: determine if a controller is called from a development environment or from a production environment',\n",
              "  'When UITableView is fully reloaded',\n",
              "  'http.post(url, postData, options) does not set header',\n",
              "  'JSON stringify outputs empty object for not empty object',\n",
              "  'Display.syncExec not working inside Callable',\n",
              "  'XPath to first occurrence of element with text length >= 200 characters',\n",
              "  'Unable to push a docker image to local OpenShift Origin registry',\n",
              "  'SlideDown() using JavaScript not working as intended',\n",
              "  'Threading.Tasks Dispose meaning issue',\n",
              "  'VAL() function in JavaScript',\n",
              "  'Using php to send form to my email..Having an issue with 405 Not Allowed when form is submitted',\n",
              "  'Netty closeFuture().sync().channel(); blocks rest api',\n",
              "  'How to check if a specific button exists in Scrapy?',\n",
              "  'Remove logs from ORMLite Android',\n",
              "  'Language detection API/Library',\n",
              "  'Should I make 1 form for each upvote button or 1 form for all the buttons?',\n",
              "  'Eclipse GAE JDO 3.0',\n",
              "  'django-cms editors and HTML data attribute cleaned up',\n",
              "  'Xcode build error clang failed',\n",
              "  'setTimeout from a web worker',\n",
              "  'C# Populating a listview from a List',\n",
              "  'Javascript not working in django inline formset using urlify.js',\n",
              "  'PHP multi cURL performance worse than sequential file_get_contents',\n",
              "  'Converting PHP Contact Form to SMTP',\n",
              "  'How do I prevent the original method being called when mocking a class with PHPUnit?',\n",
              "  'Ensure footer will stick to bottom of page and flex with content',\n",
              "  'How to share files from any path using a FileProvider?',\n",
              "  'R: How to build sum of arrays third dimension containing NAs and returning a list?',\n",
              "  'Speeding up a strangely slow Rcpp function',\n",
              "  'How to create a service that sends/receives UDP broadcasts on multiple interfaces',\n",
              "  'Can someone tell me how to replace the following javascript code with a loop?',\n",
              "  'UIImageView layer border issue',\n",
              "  'COM object created by CComObject::CreateInstance not destroyed when pointer goes out of scope',\n",
              "  'Run 2 sql query with 1 query for save query result as .csv format',\n",
              "  'AWS Elastic Beanstalk Vs EC2 Container Service (ECS) - Docker',\n",
              "  'Connect to remote MongoDB instance from ASP.NET',\n",
              "  'Copying files with unicode names',\n",
              "  \"ASP.NET Web application doesn't unload AppDomains after deploy\",\n",
              "  'Getting YouTube livestream URL',\n",
              "  \"Can't use ToString() in LINQ to Entities query\",\n",
              "  'list comprehension to create list and for no-data value feed default value',\n",
              "  \"JSX element type 'XXX' does not have any construct or call signatures\",\n",
              "  'Subroutine unexpectedly ends when a Workbook is closed',\n",
              "  'Creating a result set (using a select statement ) within a loop',\n",
              "  'Laravel 4.2 - Environment detection - homestead.yaml vs. start.php',\n",
              "  'Deploy a shell script with Ruby gem and install in bin directory',\n",
              "  'Change a string into an int',\n",
              "  'How do I stop a MySQL decimal field from being rounded?',\n",
              "  \"Respecting argparse's privacy, vs. usability\",\n",
              "  'Very simple Web Service in Python',\n",
              "  'Emoji and UIWebView in iOS 5',\n",
              "  'Getting IOError: [Errno Invalid number of channels] -9998 when using mic with PyAudio on Raspberry Pi',\n",
              "  'Mono on Mac OS X - Parallel HTTP Downloads limited to 2',\n",
              "  'Delete files, directories and buckets in amazon s3 java',\n",
              "  'Android: Saving form data on a swipe rather than from a button',\n",
              "  'No description or item name on PayPal Payment Received email',\n",
              "  'Code igniter with data mapper giving in valid json',\n",
              "  'Where can I find official / canonical documentation for using JavaScript with \"classic\" ASP?',\n",
              "  \"BroadcastReceiver isn't working\",\n",
              "  'Array compare and count which has similar values and which not',\n",
              "  \"How to cancel 'viewWillAppear' after UIImagePickerController is dismissed\",\n",
              "  'In Scala, is it possible to write a script which refers to another script',\n",
              "  \"after reload page IE is not retaining it's scroll position\",\n",
              "  'SpringBoot multiple authentication adapter',\n",
              "  'SMTP Contact Form blank screen on Submit',\n",
              "  'Destroy all sessions but one',\n",
              "  'C# WIndows CE Compact Framework 2.0 Set System Timezone',\n",
              "  'Appropriate representation of a 2D game board in Clojure',\n",
              "  'Ionic emulate ios shows black screen',\n",
              "  'How update APi with AngularJS?',\n",
              "  'Javascript based redirect: will it hurt SEO?',\n",
              "  'What is the difference between these two SOAP requests?',\n",
              "  'Microsoft Access Report - How to cycle through all pages of a report in print view?',\n",
              "  \"What does Actor[akka:\\\\\\\\play\\\\deadLetters].tell() mean in a New Relic's trace of a Play Framework 2.0 web transaction?\",\n",
              "  'JRuby 1.7.0 will not install bundler given plenty of memory',\n",
              "  'solr multiple tokenizers for query',\n",
              "  'Is it possible to pass an EJS variable to an Angular ng-repeat filter?',\n",
              "  'How To Read Data using Ip Address',\n",
              "  'SSIS XML Decryption Message',\n",
              "  'Detecting selection change on a UITextView?',\n",
              "  'Different CSS background-image depending on month and year',\n",
              "  \"What's the equivalent averageifs for standard deviation?\",\n",
              "  'Segmentation faults using f2py',\n",
              "  ...]]"
            ]
          },
          "metadata": {
            "tags": []
          },
          "execution_count": 59
        }
      ]
    },
    {
      "cell_type": "code",
      "metadata": {
        "id": "RRFPIB2HNleZ",
        "colab_type": "code",
        "colab": {}
      },
      "source": [
        "prepared_validation = []\n",
        "line_content=[]\n",
        "for line in validation:\n",
        "    for question in line:\n",
        "      line_content.append(text_prepare(question))\n",
        "    prepared_validation.append(line_content)\n",
        "    "
      ],
      "execution_count": 38,
      "outputs": []
    },
    {
      "cell_type": "markdown",
      "metadata": {
        "id": "90pMvX2wNlec",
        "colab_type": "text"
      },
      "source": [
        "Let's evaluate the approach again after the preparation:"
      ]
    },
    {
      "cell_type": "code",
      "metadata": {
        "id": "BjefwhsKNled",
        "colab_type": "code",
        "colab": {}
      },
      "source": [
        "wv_prepared_ranking = []\n",
        "for line in prepared_validation:\n",
        "    q, *ex = line\n",
        "    ranks = rank_candidates(q, ex, wv_embeddings)\n",
        "    wv_prepared_ranking.append([r[0] for r in ranks].index(0) + 1)"
      ],
      "execution_count": null,
      "outputs": []
    },
    {
      "cell_type": "code",
      "metadata": {
        "id": "XsUgjCIYNlej",
        "colab_type": "code",
        "colab": {}
      },
      "source": [
        "for k in [1, 5, 10, 100, 500, 1000]:\n",
        "    print(\"DCG@%4d: %.3f | Hits@%4d: %.3f\" % (k, dcg_score(wv_prepared_ranking, k), \n",
        "                                              k, hits_count(wv_prepared_ranking, k)))"
      ],
      "execution_count": null,
      "outputs": []
    },
    {
      "cell_type": "markdown",
      "metadata": {
        "id": "zWjk5cirNlep",
        "colab_type": "text"
      },
      "source": [
        "Now, prepare also train and test data, because you will need it in the future:"
      ]
    },
    {
      "cell_type": "code",
      "metadata": {
        "id": "nnI126nQNleq",
        "colab_type": "code",
        "colab": {}
      },
      "source": [
        "def prepare_file(in_, out_):\n",
        "    out = open(out_, 'w')\n",
        "    for line in open(in_, encoding='utf8'):\n",
        "        line = line.strip().split('\\t')\n",
        "        new_line = [text_prepare(q) for q in line]\n",
        "        print(*new_line, sep='\\t', file=out)\n",
        "    out.close()"
      ],
      "execution_count": null,
      "outputs": []
    },
    {
      "cell_type": "code",
      "metadata": {
        "id": "HW-1_Mc8Nlev",
        "colab_type": "code",
        "colab": {}
      },
      "source": [
        "######################################\n",
        "######### YOUR CODE HERE #############\n",
        "######################################"
      ],
      "execution_count": null,
      "outputs": []
    },
    {
      "cell_type": "markdown",
      "metadata": {
        "id": "A56Fl5BNNle0",
        "colab_type": "text"
      },
      "source": [
        "**Task 4 (W2VTokenizedRanks).** For each question from prepared *test.tsv* submit the ranks of the candidates to earn the points. The calculations should take about 3-5 minutes. Pay attention that the function *rank_candidates* returns a ranking, while in this case you should find a position in this ranking. Ranks should start with 1."
      ]
    },
    {
      "cell_type": "code",
      "metadata": {
        "id": "6Rr9bxwHNle1",
        "colab_type": "code",
        "colab": {}
      },
      "source": [
        "from util import matrix_to_string"
      ],
      "execution_count": null,
      "outputs": []
    },
    {
      "cell_type": "code",
      "metadata": {
        "id": "rfXwzcm1Nle9",
        "colab_type": "code",
        "colab": {}
      },
      "source": [
        "w2v_ranks_results = []\n",
        "prepared_test_data = ######### YOUR CODE HERE #############\n",
        "for line in open(prepared_test_data):\n",
        "    q, *ex = line.strip().split('\\t')\n",
        "    ranks = rank_candidates(q, ex, wv_embeddings, 300)\n",
        "    ranked_candidates = [r[0] for r in ranks]\n",
        "    w2v_ranks_results.append([ranked_candidates.index(i) + 1 for i in range(len(ranked_candidates))])\n",
        "    \n",
        "grader.submit_tag('W2VTokenizedRanks', matrix_to_string(w2v_ranks_results))"
      ],
      "execution_count": null,
      "outputs": []
    },
    {
      "cell_type": "markdown",
      "metadata": {
        "id": "npyKktOINlfA",
        "colab_type": "text"
      },
      "source": [
        "## Advanced solution: StarSpace embeddings\n",
        "\n",
        "Now you are ready to train your own word embeddings! In particular, you need to train embeddings specially for our task of duplicates detection. Unfortunately, StarSpace cannot be run on Windows and we recommend to use provided\n",
        "[docker container](https://github.com/hse-aml/natural-language-processing/blob/master/Docker-tutorial.md) or other alternatives. Don't delete results of this task because you will need it in the final project.\n",
        "\n",
        "### How it works and what's the main difference with word2vec?\n",
        "The main point in this section is that StarSpace can be trained specifically for some tasks. In contrast to word2vec model, which tries to train similar embeddings for words in similar contexts, StarSpace uses embeddings for the whole sentence (just as a sum of embeddings of words and phrases). Despite the fact that in both cases we get word embeddings as a result of the training, StarSpace embeddings are trained using some supervised data, e.g. a set of similar sentence pairs, and thus they can better suit the task.\n",
        "\n",
        "In our case, StarSpace should use two types of sentence pairs for training: \"positive\" and \"negative\". \"Positive\" examples are extracted from the train sample (duplicates, high similarity) and the \"negative\" examples are generated randomly (low similarity assumed). \n",
        "\n",
        "### How to choose the best params for the model?\n",
        "Normally, you would start with some default choice and then run extensive experiments to compare different strategies. However, we have some recommendations ready for you to save your time:\n",
        "- Be careful with choosing the suitable training mode. In this task we want to explore texts similarity which corresponds to *trainMode = 3*.\n",
        "- Use adagrad optimization (parameter *adagrad = true*).\n",
        "- Set the length of phrase equal to 1 (parameter *ngrams*), because we need embeddings only for words.\n",
        "- Don't use a large number of *epochs* (we think that 5 should be enough).\n",
        "- Try dimension *dim* equal to 100.\n",
        "- To compare embeddings usually *cosine* *similarity* is used.\n",
        "- Set *minCount* greater than 1 (for example, 2) if you don't want to get embeddings for extremely rare words.\n",
        "- Parameter *verbose = true* could show you the progress of the training process.\n",
        "- Set parameter *fileFormat* equals *labelDoc*.\n",
        "- Parameter *negSearchLimit* is responsible for a number of negative examples which is used during the training. We think that 10 will be enought for this task.\n",
        "- To increase a speed of training we recommend to set *learning rate* to 0.05."
      ]
    },
    {
      "cell_type": "markdown",
      "metadata": {
        "id": "InnwB1piNlfA",
        "colab_type": "text"
      },
      "source": [
        "Train StarSpace embeddings for unigrams on the train dataset. You don't need to change the format of the input data. Just don't forget to use prepared version of the training data. \n",
        "\n",
        "If you follow the instruction, the training process will take about 1 hour. The size of the embeddings' dictionary should be approximately 100 000 (number of lines in the result file). If you got significantly more than this number, try to check all the instructions above."
      ]
    },
    {
      "cell_type": "code",
      "metadata": {
        "id": "OcZVUFBRNlfB",
        "colab_type": "code",
        "colab": {}
      },
      "source": [
        "######### TRAINING HAPPENING HERE #############"
      ],
      "execution_count": null,
      "outputs": []
    },
    {
      "cell_type": "markdown",
      "metadata": {
        "collapsed": true,
        "id": "nAK86YuRNlfH",
        "colab_type": "text"
      },
      "source": [
        "And now we can compare the new embeddings with the previous ones. You can find trained word vectors in the file *[model_file_name].tsv*. Upload the embeddings from StarSpace into a dict. "
      ]
    },
    {
      "cell_type": "code",
      "metadata": {
        "id": "hC1j933QNlfJ",
        "colab_type": "code",
        "colab": {}
      },
      "source": [
        "starspace_embeddings = ######### YOUR CODE HERE #############"
      ],
      "execution_count": null,
      "outputs": []
    },
    {
      "cell_type": "code",
      "metadata": {
        "id": "pfhOSsQ_NlfM",
        "colab_type": "code",
        "colab": {}
      },
      "source": [
        "ss_prepared_ranking = []\n",
        "for line in prepared_validation:\n",
        "    q, *ex = line\n",
        "    ranks = rank_candidates(q, ex, starspace_embeddings, 100)\n",
        "    ss_prepared_ranking.append([r[0] for r in ranks].index(0) + 1)"
      ],
      "execution_count": null,
      "outputs": []
    },
    {
      "cell_type": "code",
      "metadata": {
        "id": "dvkSOLWZNlfQ",
        "colab_type": "code",
        "colab": {}
      },
      "source": [
        "for k in [1, 5, 10, 100, 500, 1000]:\n",
        "    print(\"DCG@%4d: %.3f | Hits@%4d: %.3f\" % (k, dcg_score(ss_prepared_ranking, k), \n",
        "                                               k, hits_count(ss_prepared_ranking, k)))"
      ],
      "execution_count": null,
      "outputs": []
    },
    {
      "cell_type": "markdown",
      "metadata": {
        "id": "oFLG0yzLNlfV",
        "colab_type": "text"
      },
      "source": [
        "Due to training for the particular task with the supervised data, you should expect to obtain a higher quality than for the previous approach. In additiion, despite the fact that StarSpace's trained vectors have a smaller dimension than word2vec's, it provides better results in this task."
      ]
    },
    {
      "cell_type": "markdown",
      "metadata": {
        "id": "4Th-efgMNlfX",
        "colab_type": "text"
      },
      "source": [
        "**Task 5 (StarSpaceRanks).** For each question from prepared *test.tsv* submit the ranks of the candidates for trained representation."
      ]
    },
    {
      "cell_type": "code",
      "metadata": {
        "id": "SU6J9yMMNlfY",
        "colab_type": "code",
        "colab": {}
      },
      "source": [
        "starspace_ranks_results = []\n",
        "prepared_test_data = ######### YOUR CODE HERE #############\n",
        "for line in open(prepared_test_data):\n",
        "    q, *ex = line.strip().split('\\t')\n",
        "    ranks = rank_candidates(q, ex, starspace_embeddings, 100)\n",
        "    ranked_candidates = [r[0] for r in ranks]\n",
        "    starspace_ranks_results.append([ranked_candidates.index(i) + 1 for i in range(len(ranked_candidates))])\n",
        "    \n",
        "grader.submit_tag('StarSpaceRanks', matrix_to_string(starspace_ranks_results))"
      ],
      "execution_count": null,
      "outputs": []
    },
    {
      "cell_type": "markdown",
      "metadata": {
        "id": "6ho4UWIYNlfb",
        "colab_type": "text"
      },
      "source": [
        "Please, **don't remove** the file with these embeddings because you will need them in the final project."
      ]
    },
    {
      "cell_type": "markdown",
      "metadata": {
        "id": "ulDpjdEMNlfc",
        "colab_type": "text"
      },
      "source": [
        "### Authorization & Submission\n",
        "To submit assignment parts to Cousera platform, please, enter your e-mail and token into variables below. You can generate token on this programming assignment page. <b>Note:</b> Token expires 30 minutes after generation."
      ]
    },
    {
      "cell_type": "code",
      "metadata": {
        "id": "GgCB_onWNlfd",
        "colab_type": "code",
        "colab": {
          "base_uri": "https://localhost:8080/",
          "height": 612
        },
        "outputId": "22d3edde-d8b3-4a86-aef0-35015a54a0cc"
      },
      "source": [
        "STUDENT_EMAIL = 'srivatsa5kr@gmail.com'\n",
        "STUDENT_TOKEN = 'Wyt1oFgafyI4wGsw' \n",
        "grader.status()"
      ],
      "execution_count": null,
      "outputs": [
        {
          "output_type": "stream",
          "text": [
            "You want to submit these parts:\n",
            "Task Question2Vec: 0.01929389126598835\n",
            "-0.02872721292078495\n",
            "0.0460561104118824\n",
            "0.0852593332529068\n",
            "0.0243055559694767\n",
            "-0...\n",
            "Task HitsCount: 1.0\n",
            "0.5\n",
            "1.0\n",
            "0.5\n",
            "1.0\n",
            "0.3333333333333333\n",
            "0.6666666666666666\n",
            "1.0\n",
            "0.1\n",
            "0.2\n",
            "0.3\n",
            "0.4\n",
            "0.5\n",
            "0.6\n",
            "0.7\n",
            "0.8\n",
            "0.9\n",
            "1....\n",
            "Task DCGScore: 1.0\n",
            "0.5\n",
            "0.8154648767857288\n",
            "0.5\n",
            "0.8154648767857288\n",
            "0.3333333333333333\n",
            "0.5436432511904858\n",
            "0.7103099178...\n",
            "Task W2VTokenizedRanks: ----------...\n",
            "Task StarSpaceRanks: ----------...\n"
          ],
          "name": "stdout"
        }
      ]
    },
    {
      "cell_type": "markdown",
      "metadata": {
        "id": "8BpUjEPtNlfi",
        "colab_type": "text"
      },
      "source": [
        "If you want to submit these answers, run cell below"
      ]
    },
    {
      "cell_type": "code",
      "metadata": {
        "id": "eHdeR2YkNlfi",
        "colab_type": "code",
        "colab": {
          "base_uri": "https://localhost:8080/",
          "height": 34
        },
        "outputId": "dd050917-33e7-4261-d8c5-534334351c1b"
      },
      "source": [
        "grader.submit(STUDENT_EMAIL, STUDENT_TOKEN)"
      ],
      "execution_count": null,
      "outputs": [
        {
          "output_type": "stream",
          "text": [
            "Submitted to Coursera platform. See results on assignment page!\n"
          ],
          "name": "stdout"
        }
      ]
    },
    {
      "cell_type": "code",
      "metadata": {
        "id": "KAcow_6VcbrV",
        "colab_type": "code",
        "colab": {}
      },
      "source": [
        ""
      ],
      "execution_count": null,
      "outputs": []
    }
  ]
}